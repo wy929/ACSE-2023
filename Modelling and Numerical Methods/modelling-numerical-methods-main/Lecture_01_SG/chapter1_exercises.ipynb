{
 "cells": [
  {
   "cell_type": "markdown",
   "metadata": {
    "id": "R5Ce83w6ENx2"
   },
   "source": [
    "# Modelling and Numerical Methods  <a class=\"tocSkip\">\n",
    "\n",
    "## Chapter 1: Vector and Tensor Calculus   <a class=\"tocSkip\">"
   ]
  },
  {
   "cell_type": "markdown",
   "metadata": {},
   "source": [
    "## Learning outcomes  <a class=\"tocSkip\">\n",
    "    \n",
    "At the end of this session, you should be able to:\n",
    "\n",
    "1. Compute vector and tensor operations by hand and using $\\texttt{numpy}$. \n",
    "2. Describe differences and similarities between tensors and vectors.\n",
    "3. Perform transformations on basis vectors and determine whether the resulting system is orthonormal.\n",
    "4. Compute the spatial derivatives, divergence, gradient and curl of scalar/vector fields, and describe their meaning.\n",
    "5. Interpret and simplify matrix identities using index notation and the Einstein convention."
   ]
  },
  {
   "cell_type": "markdown",
   "metadata": {
    "toc": true
   },
   "source": [
    "<h1>Table of Contents<span class=\"tocSkip\"></span></h1>\n",
    "<div class=\"toc\">\n",
    "    <ul class=\"toc-item\">\n",
    "        <li><span><a href=\"#Vector-Operations\" data-toc-modified-id=\"Vector-Operations-1\"><span class=\"toc-item-num\">1&nbsp;&nbsp;</span>Vector Operations</a></span>\n",
    "            <ul class=\"toc-item\">\n",
    "                <li><span><a href=\"#Scalar-(dot)-product\" data-toc-modified-id=\"Scalar-(dot)-product-1.1\"><span class=\"toc-item-num\">1.1&nbsp;&nbsp;</span>Scalar (dot) product</a></span></li>\n",
    "                <li><span><a href=\"#Vector-(cross)-product\" data-toc-modified-id=\"Vector-(cross)-product-1.2\"><span class=\"toc-item-num\">1.2&nbsp;&nbsp;</span>Vector (cross) product</a></span>\n",
    "                    <ul class=\"toc-item\">\n",
    "                        <li><span><a href=\"#Exercise-1\" data-toc-modified-id=\"Exercise-1-1.2.1\"><span class=\"toc-item-num\">1.2.1&nbsp;&nbsp;</span>Exercise 1</a></span></li>\n",
    "                        <li><span><a href=\"#Exercise-2\" data-toc-modified-id=\"Exercise-2-1.2.2\"><span class=\"toc-item-num\">1.2.2&nbsp;&nbsp;</span>Exercise 2</a></span></li>\n",
    "                    </ul></li>\n",
    "            </ul></li>\n",
    "        <li><span><a href=\"#Coordinate-Transformations\" data-toc-modified-id=\"Coordinate-Transformations-2\"><span class=\"toc-item-num\">2&nbsp;&nbsp;</span>Coordinate Transformations</a></span>\n",
    "            <ul class=\"toc-item\">\n",
    "                <li><span><a href=\"#Orthonormal-Bases\" data-toc-modified-id=\"Orthonormal-Bases-2.1\"><span class=\"toc-item-num\">2.1&nbsp;&nbsp;</span>Orthonormal Bases</a></span>\n",
    "                    <ul class=\"toc-item\">\n",
    "                        <li><span><a href=\"#Exercise-3\" data-toc-modified-id=\"Exercise-3-2.1.1\"><span class=\"toc-item-num\">2.1.1&nbsp;&nbsp;</span>Exercise 3</a></span></li>\n",
    "                        <li><span><a href=\"#Exercise-4\" data-toc-modified-id=\"Exercise-4-2.1.2\"><span class=\"toc-item-num\">2.1.2&nbsp;&nbsp;</span>Exercise 4</a></span></li>\n",
    "                    </ul></li>\n",
    "            </ul></li>\n",
    "        <li><span><a href=\"#Vector-Calculus\" data-toc-modified-id=\"Vector-Calculus-3\"><span class=\"toc-item-num\">3&nbsp;&nbsp;</span>Vector Calculus</a></span>\n",
    "            <ul class=\"toc-item\">\n",
    "                <ul class=\"toc-item\">\n",
    "                    <li><span><a href=\"#Exercise-5\" data-toc-modified-id=\"Exercise-5-3.0.1\"><span class=\"toc-item-num\">3.0.1&nbsp;&nbsp;</span>Exercise 5</a></span></li>\n",
    "                    <li><span><a href=\"#Exercise-6\" data-toc-modified-id=\"Exercise-6-3.0.2\"><span class=\"toc-item-num\">3.0.2&nbsp;&nbsp;</span>Exercise 6</a></span></li>\n",
    "                </ul>\n",
    "             </ul></li>\n",
    "        <li><span><a href=\"#Index-Notation\" data-toc-modified-id=\"Index-Notation-4\"><span class=\"toc-item-num\">4&nbsp;&nbsp;</span>Index Notation</a></span>\n",
    "            <ul class=\"toc-item\">\n",
    "                <ul class=\"toc-item\">\n",
    "                    <li><span><a href=\"#Exercise-7\" data-toc-modified-id=\"Exercise-7-4.0.1\"><span class=\"toc-item-num\">4.0.1&nbsp;&nbsp;</span>Exercise 7</a></span></li>\n",
    "                    <li><span><a href=\"#Exercise-8\" data-toc-modified-id=\"Exercise-8-4.0.2\"><span class=\"toc-item-num\">4.0.2&nbsp;&nbsp;</span>Exercise 8</a></span></li>\n",
    "                </ul>\n",
    "            </ul></li>\n",
    "        <li><span><a href=\"#Vector-and-Tensor-Calculus\" data-toc-modified-id=\"Vector-and-Tensor-Calculus-5\"><span class=\"toc-item-num\">5&nbsp;&nbsp;</span>Vector and Tensor Calculus</a></span>\n",
    "            <ul class=\"toc-item\">\n",
    "                <ul class=\"toc-item\">\n",
    "                    <li><span><a href=\"#Exercise-9\" data-toc-modified-id=\"Exercise-9-5.0.1\"><span class=\"toc-item-num\">5.0.1&nbsp;&nbsp;</span>Exercise 9</a></span></li>\n",
    "                    <li><span><a href=\"#Exercise-10\" data-toc-modified-id=\"Exercise-10-5.0.2\"><span class=\"toc-item-num\">5.0.2&nbsp;&nbsp;</span>Exercise 10</a></span></li>\n",
    "                </ul>\n",
    "            </ul></li>\n",
    "    </ul></div>"
   ]
  },
  {
   "cell_type": "markdown",
   "metadata": {
    "code_folding": [
     0
    ]
   },
   "source": [
    "## Types of content\n",
    "<div class=\"alert alert-info\"> <b><font color=black>Exercises for all</font></b> </div>\n",
    "<div class=\"alert alert-success\"> <b><font color=black>Optional additional practise</font></b> </div>\n",
    "<div class=\"alert alert-warning\"> <b><font color=black>Optional advanced practise/content</font></b> </div>\n",
    "\n",
    "## Settings for notebook"
   ]
  },
  {
   "cell_type": "code",
   "execution_count": 1,
   "metadata": {
    "colab": {
     "base_uri": "https://localhost:8080/"
    },
    "id": "FG3VxUj_E2bD",
    "outputId": "769bcb9c-ee2b-4919-ac43-af5f93470221"
   },
   "outputs": [],
   "source": [
    "#%%capture\n",
    "# Installing library that allows for interactive, responsive plots\n",
    "#%pip install ipympl\n",
    "# Loading'widget' responsive plot module, N.B. you may have to change the below to %matplotlib inline if you \n",
    "# have trouble getting this to work\n",
    "#%matplotlib widget\n",
    "#%precision 16\n",
    "%matplotlib notebook\n",
    "\n",
    "# Importing required libraries\n",
    "import matplotlib.pyplot as plt\n",
    "from mpl_toolkits.mplot3d import Axes3D\n",
    "from mpl_toolkits.mplot3d.art3d import Poly3DCollection, Line3DCollection\n",
    "import numpy as np\n",
    "\n"
   ]
  },
  {
   "cell_type": "markdown",
   "metadata": {},
   "source": [
    "Do not alter this cell. LaTeX commands for frequently used terms.\n",
    "\n",
    "$$\\newcommand{\\tensor}[1]{\\underline{\\underline{\\mathbf{#1}}}}$$\n",
    "$$\\newcommand{\\vector}[1]{\\mathbf{#1}}$$\n",
    "$$\\newcommand{\\matrix}[1]{\\mathbf{#1}}$$\n",
    "$$\\newcommand{\\det}[1]{\\mathrm{det}\\left(#1\\right)}$$\n",
    "$$\\newcommand{\\ex}{\\vector{\\hat{e}}_1}$$\n",
    "$$\\newcommand{\\ey}{\\vector{\\hat{e}}_2}$$\n",
    "$$\\newcommand{\\ez}{\\vector{\\hat{e}}_3}$$\n",
    "$$\\newcommand{\\nhat}{\\vector{\\hat{n}}}$$\n",
    "$$\\newcommand{\\ehat}{\\vector{\\hat{e}}}$$\n",
    "$$\\newcommand{\\xhat}{\\vector{\\hat{x}}}$$\n",
    "$$\\newcommand{\\x}{\\vector{x}}$$\n",
    "$$\\newcommand{\\v}{\\vector{v}}$$\n",
    "$$\\newcommand{\\u}{\\vector{u}}$$"
   ]
  },
  {
   "cell_type": "code",
   "execution_count": 2,
   "metadata": {
    "code_folding": [
     0
    ]
   },
   "outputs": [],
   "source": [
    "#Define x and y space\n",
    "def init_grid(Lx=10., dx=None, Ly=10., dy=None):\n",
    "\n",
    "    # Use 100 grid points if dx not specified\n",
    "    if dx is None:\n",
    "        dx = Lx/100.\n",
    "    if dy is None:\n",
    "        dy = Ly/100.\n",
    "    \n",
    "    # Construct the grid\n",
    "    nx = int(Lx/dx)\n",
    "    xx = np.linspace(-Lx, Lx, nx)\n",
    "    ny = int(Lx/dx)\n",
    "    yy = np.linspace(-Ly, Ly, ny)\n",
    "    X, Y = np.meshgrid(xx, yy)\n",
    "    \n",
    "    return X, Y\n",
    "\n",
    "def plot_scalar_field(x,y,f,flabel=\"$\\phi$(x,y)\", contours=False):\n",
    "    # Plot the velocity field at time zero\n",
    "    fig = plt.figure()\n",
    "    plt.subplot(aspect='equal')\n",
    "    fig.canvas.header_visible = False\n",
    "    plt.xlabel('x')\n",
    "    plt.ylabel('y')\n",
    "    \n",
    "    # Contour plot of velocity magnitude\n",
    "    c = plt.contourf(X, Y, f)\n",
    "    if (contours):\n",
    "        plt.contour(X, Y, f, colors=['w'])\n",
    "    cbar = plt.colorbar(c, shrink=0.8)\n",
    "    cbar.ax.set_title(flabel)\n",
    "   \n",
    "def plot_vector_field(x, y, f, vx, vy, flabel=None, contours=False):\n",
    "    # Plot the velocity field at time zero\n",
    "    fig = plt.figure()\n",
    "    plt.subplot(aspect='equal');\n",
    "    fig.canvas.header_visible = False\n",
    "    plt.xlabel('x');\n",
    "    plt.ylabel('y');\n",
    "\n",
    "    # Contour plot of velocity magnitude\n",
    "    vcolor='k'\n",
    "    if flabel is not None:\n",
    "        c = plt.contourf(X, Y, f)\n",
    "        if contours:\n",
    "            plt.contour(X, Y, f, colors=['w'])\n",
    "        cbar = plt.colorbar(c, shrink=0.8)\n",
    "        cbar.ax.set_title(flabel)\n",
    "        vcolor='w'\n",
    "    \n",
    "    # Plot vector arrows\n",
    "    plt.quiver(x[::5,::5], y[::5,::5], vx[::5,::5], vy[::5,::5], color=vcolor)"
   ]
  },
  {
   "cell_type": "markdown",
   "metadata": {},
   "source": [
    "# Vector Operations\n",
    "\n",
    "We will be using basic vector operations a lot in this module. In particular, you need to be intimately familiar with the scalar (dot) and vector (cross) products.\n",
    "\n",
    "## Scalar (dot) product\n",
    "\n",
    "The dot product of $\\vector{a} = (a_1, a_2, a_3)$ and $\\vector{b} = (b_1, b_2, b_3)$ is given by:\n",
    "\n",
    "$$ \\vector{a}\\cdot\\vector{b} =  a_1b_1 + a_2b_2 + a_3b_3.$$\n",
    "\n",
    "It can also be written in the so-called geometric form:\n",
    "\n",
    "$$ \\vector{a}\\cdot\\vector{b} = \\left|\\vector{a}\\right|\\left|\\vector{b}\\right|\\cos\\theta,$$\n",
    "\n",
    "where $\\theta$ is the angle between the two vectors in a right-hand sense.\n",
    "\n",
    "It is worth noting the following:\n",
    "\n",
    "* The dot product of $\\vector{a}$ and $\\vector{b}$ is maximum when they point in the same direction; minimum when they point in opposite directions and zero when the vectors are perpendicular.\n",
    "* The dot product is therefore a measure of _directional similarity_ between $\\vector{a}$ and $\\vector{b}$.\n",
    "* If $\\vector{b}$ is a unit vector, we can interpret the dot product as the projection of $\\vector{a}$ in the direction of $\\vector{b}$.\n",
    "* If both $\\vector{a}$ and $\\vector{b}$ are unit vectors, we can interpret the dot product as the directional cosine between them $\\cos(\\vector{\\hat{a}},\\vector{\\hat{b}})$.\n",
    "* If neither $\\vector{a}$ nor $\\vector{b}$ are unit vectors, we can interpret the dot product as the projection of $\\vector{a}$ in the direction of $\\vector{b}$ times the magnitude of $\\vector{b}$ or vice-versa.\n",
    "\n",
    "## Vector (cross) product\n",
    "\n",
    "The cross product of $\\vector{a} = (a_1, a_2, a_3)$ and $\\vector{b} = (b_1, b_2, b_3)$ is given by:\n",
    "\n",
    "$$\\vector{a}\\times\\vector{b} = \\left| \\begin{array}{ccc}\n",
    "\\ex & \\ey & \\ez \\\\\n",
    "a_1 & a_2 & a_3 \\\\\n",
    "b_1 & b_2 & b_3 \n",
    "\\end{array}\\right|\n",
    ".$$\n",
    "\n",
    "In 2D the cross product simplifies to:\n",
    "\n",
    "$$\\vector{a}\\times\\vector{b} = (a_1b_2-a_2b_1)\\ez.$$\n",
    "\n",
    "It can also be written in the so-called geometric form:\n",
    "\n",
    "$$ \\vector{a}\\times\\vector{b} = \\left|\\vector{a}\\right|\\left|\\vector{b}\\right|\\sin\\theta \\nhat,$$\n",
    "\n",
    "where $\\theta$ is the angle between the two vectors in a right-hand sense and $\\nhat$ is a unit vector that points perpendicular to $\\vector{a}$ and $\\vector{b}$ in a right-hand sense.\n",
    "\n",
    "It is worth noting the following:\n",
    "\n",
    "* The cross product of $\\vector{a}$ and $\\vector{b}$ is maximum when they are orthogonal and zero when they are parallel or anti-parallel.\n",
    "* The cross product is therefore a measure of _directional dissimilarity_ between $\\vector{a}$ and $\\vector{b}$.\n",
    "* The magnitude of the cross product of $\\vector{a}$ and $\\vector{b}$ is equal to the area of the parallelogram spanned by the two vectors.\n",
    "* In 2D the cross product vector always points in the postitive or negative $x_3$ direction (i.e., normal to the $x_1$-$x_2$ plane.\n",
    "* In 3D, each component of the cross product vector is equivalent to the cross product of the projections of $\\vector{a}$ and $\\vector{b}$ onto the plane normal to that direction. For example, the $\\ez$ component is equivalent to the cross product of the projections of $\\vector{a}$ and $\\vector{b}$ onto the $x_1$-$x_2$ plane.\n",
    "* The individual components of the cross product vector are therefore each a measure of _directional dissimilarity_ between $\\vector{a}$ and $\\vector{b}$ in the plane normal to that direction. In other words, if the cross product of $\\vector{a}$ and $\\vector{b}$ has a component of zero in the $\\ey$ direction, for example, this implies that the projections of $\\vector{a}$ and $\\vector{b}$ onto the $x_1$-$x_3$ plane are parallel."
   ]
  },
  {
   "cell_type": "markdown",
   "metadata": {},
   "source": [
    "<div class=\"alert alert-success\"> <font color=black>\n",
    "\n",
    "### Exercise 1\n",
    "        \n",
    "The following problems ask you to calculate various vector operations. If it's been a while since you did these or they are new, have a go at calculating them by hand first. Then see if you can code up and compute them using $\\texttt{numpy}$. Otherwise, you may want to skip directly to coding these operations up using `np.dot`, `np.cross` and `np.linalg.norm`.\n",
    "    \n",
    "Assuming  \n",
    "\n",
    "$\\vector{a} = \\begin{pmatrix}2 \\\\ -1 \\\\ 4 \\end{pmatrix}$ and $\\vector{b} = \\begin{pmatrix}8 \\\\ 5 \\\\ -7 \\end{pmatrix}$\n",
    "    \n",
    "calculate:\n",
    "\n",
    "\n",
    "a) $\\left|\\vector{a}\\right|$ and $\\left|\\vector{b}\\right|$;\n",
    "\n",
    "b) $\\vector{a}\\cdot\\vector{b}$ and the angle between $\\vector{a}$ and $\\vector{b}$;\n",
    "\n",
    "c) $\\vector{a}\\times\\vector{b}$ and the area spanned by $\\vector{a}$ and $\\vector{b}$.\n"
   ]
  },
  {
   "cell_type": "markdown",
   "metadata": {},
   "source": [
    "<div class=\"alert alert-info\"> <font color=black>\n",
    "\n",
    "### Exercise 2\n",
    "    \n",
    "a) What steps would be required to determine in a code whether two 2D vectors, $\\mathbf{a}$ and $\\mathbf{b}$, are linearly independent or not? Write them out.\n",
    "\n",
    "b) How would you find components of a 3D vector $\\mathbf{a}$ normal and parallel to 3D vector $\\mathbf{b}$?\n"
   ]
  },
  {
   "cell_type": "markdown",
   "metadata": {},
   "source": [
    "<div class=\"alert alert-success\"> \n",
    "    <font color=black>\n",
    "c) Plot up different assumed $\\mathbf{a}$ and $\\mathbf{b}$ vectors and test the identities derived above.\n",
    "    </font>"
   ]
  },
  {
   "cell_type": "code",
   "execution_count": null,
   "metadata": {},
   "outputs": [],
   "source": [
    "def setup_figure(grid=False, scale=1.):\n",
    "    fig = plt.figure(figsize=plt.figaspect(1))\n",
    "    #fig.canvas.header_visible = False\n",
    "    ax = plt.axes(projection='3d')\n",
    "    # Add axis labels\n",
    "    ax.set_xlabel('$e_1$')\n",
    "    ax.set_ylabel('$e_2$')\n",
    "    ax.set_zlabel('$e_3$')\n",
    "    ax.set_xlim(-scale,scale)\n",
    "    ax.set_ylim(-scale,scale)\n",
    "    ax.set_zlim(-scale,scale)\n",
    "    return ax\n",
    "\n",
    "def add_points(ax,x,y,z,clr='k',lbl='x'):\n",
    "    ax.scatter(x, y, z, color=clr)\n",
    "    ax.text(x, y, z, '%s' % (lbl), size=15, zorder=1, color='k')\n",
    "    \n",
    "def add_lines(ax,e,clr='k'):\n",
    "    ax.plot3D(np.linspace(0,e[0],11), np.linspace(0,e[1],11), np.linspace(0,e[2],11), clr);\n",
    "    \n",
    "a = np.array([-0.4,0.3,0.5])\n",
    "b = np.array([0.6,-0.9,0.1])\n",
    "\n",
    "# Start figure\n",
    "ax=setup_figure()\n",
    "\n",
    "# Plot vectors\n",
    "add_points(ax,a[0],a[1],a[2],clr='k',lbl='a')\n",
    "add_points(ax,b[0],b[1],b[2],clr='r',lbl='b')\n",
    "add_lines(ax,a[:],clr='gray')\n",
    "add_lines(ax,b[:],clr='orange')\n",
    "\n",
    "# Calculate and plot components of a that are parallel and perpendicular to b\n",
    "# There are parameters for two different ways of calculating each component\n",
    "a_par_b1= \n",
    "a_par_b2=\n",
    "add_lines(ax,a_par_b1[:],clr='red')\n",
    "add_lines(ax,a_par_b2[:],clr='brown')\n",
    "a_perp_b1=\n",
    "a_perp_b2=\n",
    "add_lines(ax,a_perp_b1[:],clr='blue')\n",
    "add_lines(ax,a_perp_b2[:],clr='purple')"
   ]
  },
  {
   "cell_type": "markdown",
   "metadata": {},
   "source": [
    "# Coordinate Transformations\n",
    "\n",
    "Coordinate transformations underpin many of the key numerical methods used in scientific computing, such as Singular Value Decomposition for the solution of linear inverse problems, and Principal Component Analysis, which is used for dimensionality reduction across a huge range of Data Science applications. \n",
    "\n",
    "In the lecture we focused on defining coordinate transformations in Cartesian *orthonormal* bases and this will remain the focus here. To recap, an orthonormal basis is a set of basis vectors that are mutually orthogonal and have a magnitude of 1 (i.e., they are each unit vectors). "
   ]
  },
  {
   "cell_type": "markdown",
   "metadata": {},
   "source": [
    "## Orthonormal Bases \n",
    "\n",
    "Orthonormal bases have several important properties. For example, reflection or rotation of an orthonormal basis in any real, *n*-dimensional coordinate space will generate another orthonormal basis. In fact, every possible orthonormal basis in a given coordinate space can be obtained by applying some combination of these transformations to the original basis. \n",
    "\n",
    "Another key feature is that using an orthonormal basis makes it simpler to work out the linear combination of basis vectors that represents a given vector in the coordinate space. For example, imagine $\\textbf{v}_1$, $\\textbf{v}_2$ and $\\textbf{v}_3$ are a set of basis vectors for a real 3D space, we can express any vector in the space (i.e., $\\textbf{v}\\in\\mathbb{R}^3$) using,\n",
    "$\\textbf{v} = x_1\\textbf{v}_1 + x_2\\textbf{v}_2 + x_3\\textbf{v}_3$, where $x_1, x_2, x_3 \\in \\mathbb{R}$. If the basis is not orthonormal, although we know that appropriate $x_i$ coefficients must exist, we have no way of calculating them without solving a relatively complex system of equations. By contrast, if the basis is orthonormal, determining the values of $x_i$ becomes straightforward since the identity $x_i = \\sum^3_{i=1} \\textbf{v} \\cdot \\textbf{v}_i$ holds.  \n"
   ]
  },
  {
   "cell_type": "markdown",
   "metadata": {
    "id": "o2XsxJY-FDPZ"
   },
   "source": [
    "<div class=\"alert alert-info\"> <font color=black>   \n",
    "\n",
    "### Exercise 3\n",
    "\n",
    "Let $\\hat{\\mathbf{e}}_1$, $\\hat{\\mathbf{e}}_2$, $\\hat{\\mathbf{e}}_3$ be the set of standard orthonormal base vectors. We then define a new right-handed coordinate system by $\\hat{\\mathbf{e}}^\\prime_1$, $\\hat{\\mathbf{e}}^\\prime_2$, $\\hat{\\mathbf{e}}^\\prime_3$ where:\n",
    "\n",
    "$\\hat{\\mathbf{e}}^\\prime_1 = \\frac{1}{3}\\left(2\\hat{\\mathbf{e}}_1 + 2\\hat{\\mathbf{e}}_2+\\hat{\\mathbf{e}}_3 \\right)$,\n",
    "\n",
    "$\\hat{\\mathbf{e}}^\\prime_2 = \\frac{1}{\\sqrt{2}}\\left(\\hat{\\mathbf{e}}_1- \\hat{\\mathbf{e}}_2\\right)$,\n",
    "\n",
    "$\\hat{\\mathbf{e}}^\\prime_3 = \\frac{1}{3\\sqrt{2}}\\left(\\hat{\\mathbf{e}}_1 + \\hat{\\mathbf{e}}_2-4\\hat{\\mathbf{e}}_3\\right)$.\n",
    "    \n",
    "\n",
    "a) Plot up the original and transformed basis vectors using Python.\n",
    "    \n",
    "*NB - some plotting functions are already provided to help you on your way.* "
   ]
  },
  {
   "cell_type": "code",
   "execution_count": null,
   "metadata": {
    "colab": {
     "base_uri": "https://localhost:8080/",
     "height": 248
    },
    "id": "vA7s9R2OF3FW",
    "outputId": "6efc1d1e-6fdf-4585-e9a2-f6b61fbfc6a7"
   },
   "outputs": [],
   "source": [
    "# Construct arrays for original basis\n",
    "e1=np.array([1,0,0])\n",
    "e2=np.array([0,1,0])\n",
    "e3=np.array([0,0,1])\n",
    "\n",
    "# Construct arrays for transformed basis\n",
    "e1_prime = \n",
    "e2_prime = \n",
    "e3_prime = \n",
    "\n",
    "# Construct 3D arrays containing basis vectors\n",
    "m = np.stack((e1,e2,e3)) \n",
    "m_prime = np.stack((e1_prime,e2_prime,e3_prime))\n",
    "# N.B. m and m_prime are arrays of (x,y,z) coordinate triplets\n",
    "\n",
    "# Start figure\n",
    "ax=setup_figure()\n",
    "\n",
    "# Define labels\n",
    "labels=['$\\hat{\\mathbf{e}}_1$', '$\\hat{\\mathbf{e}}_2$', '$\\hat{\\mathbf{e}}_3$']\n",
    "labels_prime=['$\\hat{\\mathbf{e}}^{\\prime}_1$', '$\\hat{\\mathbf{e}}^{\\prime}_2$', '$\\hat{\\mathbf{e}}^{\\prime}_3$']\n",
    "\n",
    "# Loop through dimensions and plot vectors\n",
    "for i in range(len(m)):\n",
    "  add_points(ax,m[i,0],m[i,1],m[i,2],clr='k',lbl=labels[i])\n",
    "  add_points(ax,m_prime[i,0],m_prime[i,1],m_prime[i,2],clr='r',lbl=labels_prime[i])\n",
    "  add_lines(ax,m[i,:],clr='gray')\n",
    "  add_lines(ax,m_prime[i,:],clr='orange')\n"
   ]
  },
  {
   "cell_type": "markdown",
   "metadata": {
    "id": "WFIFZCz_QOll"
   },
   "source": [
    "<div class=\"alert alert-info\"> <font color=black>    \n",
    "\n",
    "b) Is $\\hat{\\mathbf{e}}^\\prime_1 \\cdot \\hat{\\mathbf{e}}^\\prime_2 = 0$? \n",
    "\n",
    "c) Is $\\hat{\\mathbf{e}}^\\prime_1 = \\hat{\\mathbf{e}}^\\prime_2 \\times \\hat{\\mathbf{e}}^\\prime_3$?\n",
    "\n",
    "d) Based on these answers is the new basis orthonormal?\n",
    "    \n",
    "e) Determine the direction cosines of the transformation that maps a vector $\\vector{v}$ in the $\\hat{\\mathbf{e}}$ basis to the same vector $\\vector{v}^\\prime$ as defined in the $\\hat{\\mathbf{e}}^\\prime$ basis, then write out the transformation matrix. Note this is the **inverse** of the matrix that transforms the old basis vectors $\\hat{\\mathbf{e}}_i$ to the new basis vectors $\\hat{\\mathbf{e}}^\\prime_i$."
   ]
  },
  {
   "cell_type": "code",
   "execution_count": null,
   "metadata": {
    "colab": {
     "base_uri": "https://localhost:8080/"
    },
    "id": "iiYfnoxqQucU",
    "outputId": "9b803dda-6f07-4baf-e57d-99d4bbf3ce6b"
   },
   "outputs": [],
   "source": [
    "# Check orthonormality of basis vectors\n",
    "# First check vector directionality\n",
    "# b) Dot product identity\n",
    "dp = \n",
    "print('b) Dot product is:', dp)\n",
    "print('This is effectively zero: ',np.allclose(0,dp))\n",
    "\n",
    "# c) Cross product identity\n",
    "cp = \n",
    "print('')\n",
    "print('c) Cross product minus $e^{\\prime}_3$ is:', cp)\n",
    "print('This is effectively zero: ',np.allclose(0,dp))\n",
    "\n",
    "# d)  Next check vector magnitude\n",
    "mag_e1 = \n",
    "mag_e2 = \n",
    "mag_e3 = \n",
    "print('')\n",
    "print('d) Vector magnitudes are:',mag_e1,mag_e2,mag_e3) \n",
    "print ('These are effectively equal to one:',np.allclose(1,mag_e1),np.allclose(1,mag_e2),np.allclose(1,mag_e3))\n",
    "print ('Therefore, based on direction and magnitude information, basis orthonormal!')\n",
    "\n",
    "# e) Determine transformation matrix\n",
    "# First create matrices incorporating the three original basis vectors and the three transformed vectors, respectively\n",
    "m = np.stack((e1,e2,e3))\n",
    "m_prime = np.stack((e1_prime,e2_prime,e3_prime)) \n",
    "\n",
    "# Use the correct identity to determine the transformation matrix from the two matrices\n",
    "T = \n",
    "print('')\n",
    "print ('e) Transformation matrix is ',T)\n"
   ]
  },
  {
   "cell_type": "markdown",
   "metadata": {
    "id": "xCzOBX3Yhe4J"
   },
   "source": [
    "<div class=\"alert alert-success\"> <font color=black>\n",
    "\n",
    "### Exercise 4\n",
    "    \n",
    "Plot what happens to a unit cube when transformed into the new basis defined in Exercise 3. What kind of transformation does the change of basis represent?\n",
    "    \n",
    "*NB - The code to plot the faces of a unit cube are already provided.*"
   ]
  },
  {
   "cell_type": "code",
   "execution_count": null,
   "metadata": {
    "colab": {
     "base_uri": "https://localhost:8080/",
     "height": 248
    },
    "id": "94UGnByUhpJM",
    "outputId": "20c94862-6e3d-4bd7-e8cc-0bb71cae9102"
   },
   "outputs": [],
   "source": [
    "# Start figure\n",
    "def plot_3D_faces(Z,opacity=0.0,faceclr='gray',edgeclr='k'):\n",
    "    # plot vertices\n",
    "    ax.scatter3D(Z[:, 0], Z[:, 1], Z[:, 2])\n",
    "\n",
    "    # list of polygon faces\n",
    "    verts = [[Z[0],Z[1],Z[2],Z[3]],\n",
    "     [Z[4],Z[5],Z[6],Z[7]], \n",
    "     [Z[0],Z[1],Z[5],Z[4]], \n",
    "     [Z[2],Z[3],Z[7],Z[6]], \n",
    "     [Z[1],Z[2],Z[6],Z[5]],\n",
    "     [Z[4],Z[7],Z[3],Z[0]]]\n",
    "\n",
    "    # plot sides\n",
    "    ax.add_collection3d(Poly3DCollection(verts, \n",
    "     facecolors=faceclr, linewidths=1, edgecolors=edgeclr, alpha=opacity))\n",
    "\n",
    "ax=setup_figure(scale=2.)\n",
    "\n",
    "# Create array of cube vertices\n",
    "Z = np.array([[-1, -1, -1],\n",
    "                  [1, -1, -1 ],\n",
    "                  [1, 1, -1],\n",
    "                  [-1, 1, -1],\n",
    "                  [-1, -1, 1],\n",
    "                  [1, -1, 1 ],\n",
    "                  [1, 1, 1],\n",
    "                  [-1, 1, 1]])\n",
    "\n",
    "# Plot the faces of the cube \n",
    "plot_3D_faces(Z,opacity=0.2,faceclr='gray',edgeclr='k')\n",
    "\n",
    "# Create array of vertices defining the 8 faces of the transformed cube (8x3 matrix)\n",
    "Z_prime = np.zeros((8,3))\n",
    "for i in range(8): \n",
    "    Z_prime[i,:] = \n",
    "\n",
    "plot_3D_faces(Z_prime,opacity=0.2,faceclr='orange',edgeclr='red')\n"
   ]
  },
  {
   "cell_type": "markdown",
   "metadata": {},
   "source": [
    "# Vector Calculus\n",
    "\n",
    "Vector calculus is the mathematics that allows us to describe spatial variation in scalar and vector fields.\n",
    "\n",
    "The **gradient** of a scalar field $f(\\x)$ is a vector field formed of the partial derivatives of the scalar field with respect to distance in the coordinate directions. In Cartesian coordinates, it is defined as:\n",
    "\n",
    "$$\\text{2D:} \\, \\nabla f = \\left(\\begin{array}{c}\n",
    "\\frac{\\partial f}{\\partial x_1} \\\\ \n",
    "\\frac{\\partial f}{\\partial x_2} \n",
    "\\end{array}\n",
    "\\right), \\ \\ \\ \\text{3D:} \\, \\nabla f = \\left(\\begin{array}{c}\n",
    "\\frac{\\partial f}{\\partial x_1} \\\\ \n",
    "\\frac{\\partial f}{\\partial x_2} \\\\\n",
    "\\frac{\\partial f}{\\partial x_3}\n",
    "\\end{array}\n",
    "\\right).$$\n",
    "\n",
    "The **divergence** of a vector field $\\v(\\x)$ is a scalar field formed from some of the partial derivatives of the vector field with respect to distance in the coordinate directions. In Cartesian coordinates, divergence is defined as:\n",
    "\n",
    "$$\\text{2D:} \\, \\nabla \\cdot \\v = \\frac{\\partial v_1}{\\partial x_1} + \\frac{\\partial v_2}{\\partial x_2}, \\ \\ \\ \\text{3D:} \\, \\nabla \\cdot \\v = \\frac{\\partial v_1}{\\partial x_1} + \\frac{\\partial v_2}{\\partial x_2} + \\frac{\\partial v_2}{\\partial x_2}.$$\n",
    "\n",
    "The **curl** of a vector field $\\v(\\x)$ is a vector field formed from some of the partial derivatives of the vector field with respect to distance in the coordinate directions. In Cartesian coordinates, curl is defined as:\n",
    "\n",
    "$$\\text{2D:} \\, \\nabla \\times \\v = \\left(\\begin{array}{c}\n",
    "\\frac{\\partial v_2}{\\partial x_1} - \\frac{\\partial v_1}{\\partial x_2} \n",
    "\\end{array}\n",
    "\\right)\\ez, \\ \\ \\ \\text{3D:} \\, \\nabla \\times \\v  = \\left(\\begin{array}{c}\n",
    "\\frac{\\partial v_3}{\\partial x_2} - \\frac{\\partial v_2}{\\partial x_3} \\\\ \n",
    "\\frac{\\partial v_1}{\\partial x_3} - \\frac{\\partial v_3}{\\partial x_1} \\\\\n",
    "\\frac{\\partial v_2}{\\partial x_1} - \\frac{\\partial v_1}{\\partial x_2}\n",
    "\\end{array}\n",
    "\\right).$$\n",
    "\n",
    "The following exercises are designed to familiarise you with how to calculate these derivatives and how to interpret their meaning."
   ]
  },
  {
   "cell_type": "markdown",
   "metadata": {},
   "source": [
    "<div class=\"alert alert-info\"> <font color=black>\n",
    "\n",
    "### Exercise 5\n",
    "\n",
    "Consider the scalar fields: \n",
    "    \n",
    "$~~~~~~~~$ i) $\\phi = x + 2y$; $~~~~~~~~$ ii) $f = x^2 + 2y + xy$; $~~~~~~~~$ iii) $h = \\frac{0.2}{[(x+5)^2 + y^2]^{3/2}}$.\n",
    "    \n",
    "For each scalar field:\n",
    "    \n",
    "a) Plot the scalar field using the code below over the domain $-3 < x <3$, $-3 < y < 3$;\n"
   ]
  },
  {
   "cell_type": "code",
   "execution_count": null,
   "metadata": {},
   "outputs": [],
   "source": [
    "# Define regular grid\n",
    "X, Y = init_grid(Lx=3., Ly=3.)\n",
    "\n",
    "# Define scalar field (the first has been done for you)\n",
    "phi = X + 2*Y\n",
    "\n",
    "# Plot field\n",
    "plot_scalar_field(X, Y, phi, flabel=\"$\\phi(x,y)$\", contours=True)"
   ]
  },
  {
   "cell_type": "markdown",
   "metadata": {},
   "source": [
    "<div class=\"alert alert-info\"> <font color=black>\n",
    "    \n",
    "b) Calculate the gradient vector field;\n",
    "    \n",
    "c) Plot the gradient vector field superimposed on top of the scalar field, over the same domain, using the code below.\n",
    "   \n",
    "What do you notice about the relationship between the scalar field and the gradient vector field?"
   ]
  },
  {
   "cell_type": "code",
   "execution_count": null,
   "metadata": {},
   "outputs": [],
   "source": [
    "def gradient_field(X, Y):\n",
    "    # Return the gradient of your function here\n",
    "    # The answer for (i) has been done for you. \n",
    "    # Note that we need to pass back the constant \n",
    "    # components 1, 2 for every point in the field\n",
    "    return 0*X + 1, 0*Y + 2\n",
    "\n",
    "# Calculate gradient vector components\n",
    "gradfx, gradfy = gradient_field(X, Y)\n",
    "\n",
    "# Plot vector field on top of original scalar field\n",
    "plot_vector_field(X, Y, phi, gradfx, gradfy,\n",
    "                  flabel=\"$\\phi(x,y)$\", contours=True)\n"
   ]
  },
  {
   "cell_type": "markdown",
   "metadata": {},
   "source": [
    "<div class=\"alert alert-info\"> <font color=black>\n",
    "    \n",
    "### Exercise 6\n",
    "\n",
    "Consider the velocity vector fields:\n",
    "    \n",
    "i) $\\mathbf{v} = \\begin{bmatrix} 2 \\\\ -1 \\\\\\end{bmatrix}$;\n",
    "   \n",
    "ii) $\\mathbf{v} = \\begin{bmatrix} -2y \\\\ 2x \\\\\\end{bmatrix}$;\n",
    "    \n",
    "iii) $\\mathbf{v} = \\begin{bmatrix} xy \\\\y^2-x^2 \\\\\\end{bmatrix}$;\n",
    "\n",
    "iv) $\\mathbf{v} = \\begin{bmatrix} \\cos\\left(\\frac{\\pi x}{3}\\right) \\\\  \\cos\\left(\\frac{\\pi y}{3}\\right)\\\\\\end{bmatrix}$;\n",
    "\n",
    "v) $\\mathbf{v} = \\begin{bmatrix} \\cos\\left(\\frac{\\pi y}{3}\\right) \\\\  \\cos\\left(\\frac{\\pi x}{3}\\right)\\\\\\end{bmatrix}$.\n",
    " \n",
    "   \n",
    "For each field:\n",
    "    \n",
    "a) Plot the vector field using the code below; \n",
    "\n",
    "b) Calculate the divergence and curl;\n",
    "\n",
    "c) Plot the vector field superimposed on (A) the divergence scalar field and (B) the $\\ez$ component of the curl; \n",
    "    \n",
    "d) What do the quantities of divergence and curl represent when applied to a velocity field?"
   ]
  },
  {
   "cell_type": "code",
   "execution_count": null,
   "metadata": {},
   "outputs": [],
   "source": [
    "# Define regular grid\n",
    "X, Y = init_grid(Lx=3., Ly=3.)\n",
    "\n",
    "# Define vector field and magnitude scalar field\n",
    "vx, vy = X*0 + 2, X*0 - 1\n",
    "\n",
    "vmag = np.sqrt(vx**2 + vy**2)\n",
    "\n",
    "# Plot vector field superimposed on the magnitude of the vector field\n",
    "# To turn off the magnitude field, remove flabel\n",
    "plot_vector_field(X, Y, vmag, vx, vy, flabel=\"|v|\");"
   ]
  },
  {
   "cell_type": "code",
   "execution_count": null,
   "metadata": {},
   "outputs": [],
   "source": [
    "# Define divergence field and magnitude scalar field\n",
    "div_v = 0*Y\n",
    "\n",
    "plot_vector_field(X, Y, div_v, vx, vy, flabel=\"div(v)\")"
   ]
  },
  {
   "cell_type": "code",
   "execution_count": null,
   "metadata": {},
   "outputs": [],
   "source": [
    "# Calculate curl of field \n",
    "curl_v = 0*X\n",
    "\n",
    "# Plot curl of field\n",
    "plot_vector_field(X, Y, curl_v, vx, vy, flabel=\"curl v\")"
   ]
  },
  {
   "cell_type": "markdown",
   "metadata": {},
   "source": [
    "# Index Notation\n",
    "\n",
    "Index notation provides a useful shorthand for expressing vector and tensor identities that would become very cumbersome if written out in full. The key to perfoming algebraic operations using this type of notation is to keep track of the dummy and fixed indices in each case, using these to work out the number of terms and equations represented by a particular expression. "
   ]
  },
  {
   "cell_type": "markdown",
   "metadata": {},
   "source": [
    "<div class=\"alert alert-info\"> <font color=black>   \n",
    "\n",
    "### Exercise 7\n",
    "    \n",
    "a) $g_k=h_k(2-3a_ib_i)-p_jq_jf_k$ – In this expression which indices are dummy indices and free indices? How many equations does this expression represent and how many terms are in each?\n",
    "    \n",
    "b) Are the following valid expressions?\n",
    "    \n",
    "&nbsp;&nbsp;&nbsp;&nbsp;&nbsp;&nbsp;i) $a_mb_s=c_m(d_r-f_r)$; \n",
    "    \n",
    "&nbsp;&nbsp;&nbsp;&nbsp;&nbsp;&nbsp;ii) $x_ix_i=r^2$;\n",
    "    \n",
    "&nbsp;&nbsp;&nbsp;&nbsp;&nbsp;&nbsp;iii) $a_ib_jc_j=3$.\n",
    "\n"
   ]
  },
  {
   "cell_type": "markdown",
   "metadata": {},
   "source": [
    "<div class=\"alert alert-warning\"> <font color=black>\n",
    "    \n",
    "### Exercise 8\n",
    "\n",
    "a) Simplify $\\delta_{ij}\\delta_{jk}\\delta_{kp}\\delta_{pi}$\n",
    "    \n",
    "*Hint - Start with simplifying the product of $\\delta_{kp}\\delta_{pi}$.*\n",
    "    \n",
    "b) Assuming n=3, show that $\\epsilon_{ijk}\\epsilon_{lmk} = \\delta_{il}\\delta_{jm}-\\delta_{im}\\delta_{jl}$.\n",
    "\n",
    "*Hint - Identify the free index and write three terms based on its possible values, then work out what relationships are needed between $i$ and $l$/$m$, and $j$ and $l$/$m$ to generate non-zero terms.*\n",
    "    \n",
    "c) Use the identity above and index notation to show that $\\mathbf{a}\\times\\left(\\mathbf{b}\\times\\mathbf{c}\\right)=\\left(\\mathbf{a}\\cdot\\mathbf{c}\\right)\\mathbf{b}-\\left(\\mathbf{a}\\cdot\\mathbf{b}\\right)\\mathbf{c}$.\n",
    "    \n",
    "*Hint - Start by using the substitution $\\mathbf{v}=\\mathbf{b}\\times\\mathbf{c}$ and recall that $\\left(\\mathbf{a} \\times \\mathbf{v}\\right)_i = \\epsilon_{ijk} a_j v_k$ and $\\epsilon_{ijk}=\\epsilon_{kij}$. Next express $v_k$ in terms of $\\mathbf{b}$ and $\\mathbf{c}$ using index notation and the indices $k$, $l$ and $m$.*\n",
    "    \n",
    "**Note:** The derivation from (c) could also be used to derive the useful identity:\n",
    "    \n",
    "$$\\nabla\\times(\\nabla\\times\\v) = \\nabla(\\nabla\\cdot\\v) - {\\nabla}^{2}\\v $$"
   ]
  },
  {
   "cell_type": "markdown",
   "metadata": {},
   "source": [
    "# Vector and Tensor Calculus\n",
    "\n",
    "There are a range of useful algebraic operations to be aware of when manipulating systems of equations in vector and tensor form, including the dot product, cross product, tensor product and outer product. These operations can be quite work-intensive to determine by hand but are mercifully simple in Python thanks to libraries like $\\texttt{numpy}$. "
   ]
  },
  {
   "cell_type": "markdown",
   "metadata": {},
   "source": [
    "## A Note on Inner/Dot Product Operations with Tensors\n",
    "\n",
    "In the lecture notes it is mentioned that the inner/dot product of two tensors involves contraction over one index such that the expression $\\mathbf{W} = \\mathbf{T}\\cdot\\mathbf{S}$, can also be written $W_{ik} = T_{ij}S_{jk}$. The contraction in this case is over the $j$ index, i.e., for a fixed value of $i$ and $k$, all terms for different values of $j$ are summed together. The full matrix expression is then:\n",
    "\n",
    "$$ \\mathbf{W} = \\begin{bmatrix} \\left(T_{11}S_{11}+T_{12}S_{21}+T_{13}S_{31}\\right) & \\left(T_{11}S_{12}+T_{12}S_{22}+T_{13}S_{32}\\right) & \\left(T_{11}S_{13}+T_{12}S_{23}+T_{13}S_{33}\\right) \\\\ \\left(T_{21}S_{11}+T_{22}S_{21}+T_{23}S_{31}\\right) & \\left(T_{21}S_{12}+T_{22}S_{22}+T_{23}S_{32}\\right) & \\left(T_{21}S_{13}+T_{22}S_{23}+T_{23}S_{33}\\right) \\\\ \\left(T_{31}S_{11}+T_{32}S_{21}+T_{33}S_{31}\\right) & \\left(T_{31}S_{12}+T_{32}S_{22}+T_{33}S_{32}\\right) & \\left(T_{31}S_{13}+T_{32}S_{23}+T_{33}S_{33}\\right) \\end{bmatrix}$$.\n",
    "\n",
    "As you can see this dot product operation takes two rank-2 tensors and returns a rank-2 tensor. This operation can be done for two tensors, $\\mathbf{T}$ and $\\mathbf{S}$, of any rank provided they share the same dimension. In such a case, the rank of the resulting tensor, $\\mathbf{W}$, can be determined using $\\textrm{rank}(\\mathbf{W_{\\cdot}}) = \\textrm{rank}(\\mathbf{T})+\\textrm{rank}(\\mathbf{S})-2$.\n",
    "\n",
    "The notes on multiplication of tensors also include an expression for Hooke's law containing the \":\" symbol (i.e., $\\mathbf{\\sigma}=\\mathbf{C}:\\mathbf{\\epsilon}$ ). This symbol represents the **double** inner/dot product, which involves contraction over two indices. Since the stiffness matrix, $\\mathbf{C}$, is a rank-4 tensor and strain, $\\mathbf{\\epsilon}$, is a rank-2 tensor, Hooke's law can be rewritten as $\\sigma_{ij} = C_{ijkl}\\epsilon_{kl}$, where a contraction occurs over both the $k$ and $l$ indices. Similarly, in the simpler case of our two rank-2 tensors $\\mathbf{T}$ and $\\mathbf{S}$, we can write their double dot product as $W=S_{ij}T_{ij}$ where contraction occurs over both $i$ and $j$, giving:\n",
    "\n",
    "$$ W = \\begin{bmatrix} \\left(T_{11}S_{11}+T_{12}S_{12}+T_{13}S_{13}\\right)+ \\left(T_{21}S_{21}+T_{22}S_{22}+T_{23}S_{23}\\right) + \\left(T_{31}S_{31}+T_{32}S_{32}+T_{33}S_{33}\\right)\\end{bmatrix}$$.\n",
    "\n",
    "The above double dot product operation takes two rank-2 tensors as input and returns a rank-0 tensor (i.e., a scalar). This relationship between the rank of the resulting tensor and the input tensors, $\\mathbf{T}$ and $\\mathbf{S}$, can be generalised in a manner similar to the standard dot product (i.e., provided dimensions of the input tensors are the same, they can be of any rank). However, in the case of the double dot product, the relationship between input and output ranks is expressed using $\\textrm{rank}(\\mathbf{W_{:}}) = \\textrm{rank}(\\mathbf{T})+\\textrm{rank}(\\mathbf{S})-4$. This relationship explains why the stress tensor ($\\mathbf{\\sigma}$ in the Hooke's law expression above is rank-2, i.e. the double dot product of a rank-4 tensor and a rank-2 tensor is a rank-2 tensor (4+2-4=2).\n",
    "\n",
    "In \\texttt{numpy}, `np.tensordot` calculates the double dot product of two arrays, $\\mathbf{T}:\\mathbf{S}$, by default (i.e., the `axes=2` flag is set automatically; https://numpy.org/doc/stable/reference/generated/numpy.tensordot.html). However, you could use the same function to calculate the dot product, $\\mathbf{T}\\cdot\\mathbf{S}$, by using the `axes=1` flag, or even the outer product (also known as the tensor or dyadic product), $\\mathbf{T}\\otimes\\mathbf{S}$, using `axes=0`."
   ]
  },
  {
   "cell_type": "markdown",
   "metadata": {
    "id": "d-KDBQ-UENx7"
   },
   "source": [
    "<div class=\"alert alert-info\"> <font color=black>   \n",
    "    \n",
    "### Exercise 9\n",
    "    \n",
    "The following problems ask you to calculate various vector and tensor operations. Have a go at calculating them by hand first, including rewriting the expressions in index notation. Then see if you can code up and compute them using $\\texttt{numpy}$. \n",
    "    \n",
    "\n",
    "\n",
    "Assuming  \n",
    "\n",
    "$\\mathbf{a} = \\begin{pmatrix}2 \\\\ -1 \\\\ 4 \\end{pmatrix}$, $\\mathbf{b} = \\begin{pmatrix}8 \\\\ 5 \\\\ -7 \\end{pmatrix}$ and $\\mathbf{S} = \\begin{bmatrix} -1 & 0 & 5 \\\\ 3 & 7 & 4 \\\\ 9 & 8 & 6\\end{bmatrix}$, calculate:\n",
    "\n",
    "\n",
    "a) $\\textrm{tr}\\left(\\mathbf{S}\\right)$;   \n",
    "\n",
    "b) $\\mathbf{S}:\\mathbf{S}$;\n",
    "\n",
    "c) $\\mathbf{S}:\\mathbf{S}^T$;\n",
    "\n",
    "d) $\\mathbf{a}\\cdot\\mathbf{S}$;\n",
    "\n",
    "e) $\\mathbf{S}\\cdot\\mathbf{a}$;\n",
    "\n",
    "f) $\\mathbf{S}^T\\cdot\\mathbf{a}$;\n",
    "\n",
    "g) $\\mathbf{a}\\otimes\\mathbf{b}$;\n",
    "\n",
    "h) $\\mathbf{b}\\otimes\\mathbf{a}$.\n",
    "\n",
    "*Hint - When computing these identities with $\\texttt{numpy}$, these functions will be helpful: `np.dot`, `np.outer`, `np.tensordot`, `np.trace`, and `np.transpose`*\n"
   ]
  },
  {
   "cell_type": "markdown",
   "metadata": {},
   "source": [
    "<div class=\"alert alert-warning\"> <font color=black>   \n",
    "    \n",
    "### Exercise 10 \n",
    "    \n",
    "Read up on the Einstein summation function `np.einsum` (https://numpy.org/doc/stable/reference/generated/numpy.einsum.html). Try using the index notation form of the Exercise 9 operations to recalculate the answers using `numpy.einsum`. \n",
    " "
   ]
  }
 ],
 "metadata": {
  "colab": {
   "collapsed_sections": [],
   "name": "Practical_5 .ipynb",
   "provenance": []
  },
  "hide_input": false,
  "kernelspec": {
   "display_name": "Python 3 (ipykernel)",
   "language": "python",
   "name": "python3"
  },
  "language_info": {
   "codemirror_mode": {
    "name": "ipython",
    "version": 3
   },
   "file_extension": ".py",
   "mimetype": "text/x-python",
   "name": "python",
   "nbconvert_exporter": "python",
   "pygments_lexer": "ipython3",
   "version": "3.9.18"
  },
  "toc": {
   "base_numbering": 1,
   "nav_menu": {},
   "number_sections": true,
   "sideBar": true,
   "skip_h1_title": false,
   "title_cell": "Table of Contents",
   "title_sidebar": "Contents",
   "toc_cell": true,
   "toc_position": {},
   "toc_section_display": true,
   "toc_window_display": true
  }
 },
 "nbformat": 4,
 "nbformat_minor": 1
}
