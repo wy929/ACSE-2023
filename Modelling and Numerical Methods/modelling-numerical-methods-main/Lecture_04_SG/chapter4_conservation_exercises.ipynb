{
 "cells": [
  {
   "cell_type": "markdown",
   "id": "f113ff6e",
   "metadata": {},
   "source": [
    "# Modelling and Numerical Methods  <a class=\"tocSkip\">\n",
    "\n",
    "## Chapter 4: Conservation Equations and Example Solutions  <a class=\"tocSkip\">"
   ]
  },
  {
   "cell_type": "markdown",
   "id": "b6d6ef12",
   "metadata": {},
   "source": [
    "# Learning outcomes  <a class=\"tocSkip\">\n",
    "    \n",
    "At the end of this session, you should:\n",
    "\n",
    "1. Know the main conservation equations used in continuum mechanics modelling and understand what different terms in these equations represent\n",
    "2. Be able to solve conservation equations for basic analytical solutions given boundary/initial conditions.\n",
    "3. Understand basic properties of elastic and viscous rheology and understand how the choice of rheology leads to different forms of the momentum conservation equation\n",
    "4. Using tensor analysis to obtain relations between the main isotropic elastic parameters"
   ]
  },
  {
   "cell_type": "markdown",
   "id": "f3d79ca1",
   "metadata": {},
   "source": [
    "<h1>Table of Contents<span class=\"tocSkip\"></span></h1>\n",
    "</br>\n",
    "<div class=\"toc\"><ul class=\"toc-item\">\n",
    "    \n",
    "<li><span><a href=\"#Continuum-mechanics-equations\" data-toc-modified-id=\"Continuum-mechanics-equations-0\">\n",
    "    <span class=\"toc-item-num\">0&nbsp;&nbsp;</span>Continuum mechanics equations</a></span></li>\n",
    "    \n",
    "<li><span><a href=\"#The-continuity-equation-(conservation-of-mass)\" data-toc-modified-id=\"The-continuity-equation-(conservation-of-mass)-1\">\n",
    "    <span class=\"toc-item-num\">1&nbsp;&nbsp;</span>The continuity equation (conservation of mass)</a></span></li>\n",
    "    <ul class=\"toc-item\">\n",
    "        <ul class=\"toc-item\">\n",
    "        <li><span><a href=\"#Exercise-1\" data-toc-modified-id=\"Exercise-1-1.0.1\">\n",
    "            <span class=\"toc-item-num\">1.0.1&nbsp;&nbsp;</span>Exercise 1</a></span></li>\n",
    "        </ul>\n",
    "    </ul>\n",
    "            \n",
    "<li><span><a href=\"#The-equation-of-motion-and-force-equilibrium\" data-toc-modified-id=\"The-equation-of-motion-and-force-equilibrium-2\">\n",
    "    <span class=\"toc-item-num\">2&nbsp;&nbsp;</span>The equation of motion and force equilibrium</a></span></li>\n",
    "    <ul class=\"toc-item\">\n",
    "        <ul class=\"toc-item\">\n",
    "        <li><span><a href=\"#Exercise-2\" data-toc-modified-id=\"Exercise-2-2.0.1\">\n",
    "            <span class=\"toc-item-num\">2.0.1&nbsp;&nbsp;</span>Exercise 2</a></span></li>\n",
    "        </ul>\n",
    "    </ul>\n",
    "    \n",
    "<li><span><a href=\"#Conservation-of-Energy\" data-toc-modified-id=\"Conservation-of-Energy-3\">\n",
    "    <span class=\"toc-item-num\">3&nbsp;&nbsp;</span>Conservation of Energy</a></span></li>\n",
    "    <ul class=\"toc-item\">\n",
    "    <li><span><a href=\"#1D-Advection-Diffusion\" data-toc-modified-id=\"1D-Advection-Diffusion-3.1\">\n",
    "        <span class=\"toc-item-num\">3.1&nbsp;&nbsp;</span>1D Advection-Diffusion</a></span>\n",
    "         <ul class=\"toc-item\">\n",
    "        <li><span><a href=\"#Exercise-3\" data-toc-modified-id=\"Exercise-3-3.1.1\">\n",
    "            <span class=\"toc-item-num\">3.1.1&nbsp;&nbsp;</span>Exercise 3</a></span></li>\n",
    "        <li><span><a href=\"#Exercise-4\" data-toc-modified-id=\"Exercise-4-3.1.2\">\n",
    "            <span class=\"toc-item-num\">3.1.2&nbsp;&nbsp;</span>Exercise 4</a></span></li>\n",
    "        </ul>\n",
    "    </ul>\n",
    "    \n",
    "<li><span><a href=\"#Conservation-of-Momentum:-Hookean-Elasticity\" data-toc-modified-id=\"Conservation-of-Momentum:-Hookean-Elasticity-4\">\n",
    "    <span class=\"toc-item-num\">4&nbsp;&nbsp;</span>Conservation of Momentum: Hookean Elasticity</a></span></li>\n",
    "    <ul class=\"toc-item\">\n",
    "        <ul class=\"toc-item\">\n",
    "        <li><span><a href=\"#Exercise-5\" data-toc-modified-id=\"Exercise-5-4.0.1\">\n",
    "            <span class=\"toc-item-num\">4.0.1&nbsp;&nbsp;</span>Exercise 5</a></span></li>\n",
    "        <li><span><a href=\"#Exercise-6\" data-toc-modified-id=\"Exercise-6-4.0.2\">\n",
    "            <span class=\"toc-item-num\">4.0.2&nbsp;&nbsp;</span>Exercise 6</a></span></li>\n",
    "        </ul>\n",
    "    </ul>\n",
    "    \n",
    "<li><span><a href=\"#Conservation-of-Momentum:-Navier-Stokes\" data-toc-modified-id=\"Conservation-of-Momentum:-Navier-Stokes-5\">\n",
    "    <span class=\"toc-item-num\">5&nbsp;&nbsp;</span>Conservation of Momentum: Navier-Stokes<a></span></li>\n",
    "    <ul class=\"toc-item\">\n",
    "        <ul class=\"toc-item\">\n",
    "        <li><span><a href=\"#Exercise-7\" data-toc-modified-id=\"Exercise-7-5.0.1\">\n",
    "            <span class=\"toc-item-num\">5.0.1&nbsp;&nbsp;</span>Exercise 7</a></span></li>\n",
    "        <li><span><a href=\"#Exercise-8\" data-toc-modified-id=\"Exercise-8-5.0.2\">\n",
    "            <span class=\"toc-item-num\">5.0.2&nbsp;&nbsp;</span>Exercise 8</a></span></li>\n",
    "        </ul>\n",
    "    </ul>\n",
    "    \n",
    "</li></ul></div>"
   ]
  },
  {
   "cell_type": "markdown",
   "id": "274e2b41",
   "metadata": {},
   "source": [
    "## Types of content\n",
    "<div class=\"alert alert-info\"> <b><font color=black>Exercises for all</font></b> </div>\n",
    "<div class=\"alert alert-success\"> <b><font color=black>Optional additional practise</font></b> </div>\n",
    "<div class=\"alert alert-warning\"> <b><font color=black>Optional advanced practise/content</font></b> </div>\n",
    "\n",
    "## Settings for notebook"
   ]
  },
  {
   "cell_type": "code",
   "execution_count": null,
   "id": "49fce50f",
   "metadata": {},
   "outputs": [],
   "source": [
    "# Import packages for notebook here\n",
    "import numpy as np\n",
    "import matplotlib.pyplot as plt\n",
    "\n",
    "%matplotlib inline"
   ]
  },
  {
   "cell_type": "markdown",
   "id": "e8ebd6b8",
   "metadata": {},
   "source": [
    "Do not alter this cell. LaTeX commands for frequently used terms.\n",
    "\n",
    "$$\\newcommand{\\tensor}[1]{\\underline{\\underline{\\mathbf{#1}}}}$$\n",
    "$$\\newcommand{\\vector}[1]{\\mathbf{#1}}$$\n",
    "$$\\newcommand{\\matrix}[1]{\\mathbf{#1}}$$\n",
    "$$\\newcommand{\\det}[1]{\\mathrm{det}\\left(#1\\right)}$$\n",
    "$$\\newcommand{\\ex}{\\vector{\\hat{e}}_1}$$\n",
    "$$\\newcommand{\\ey}{\\vector{\\hat{e}}_2}$$\n",
    "$$\\newcommand{\\ez}{\\vector{\\hat{e}}_3}$$\n",
    "$$\\newcommand{\\nhat}{\\vector{\\hat{n}}}$$\n",
    "$$\\newcommand{\\ehat}{\\vector{\\hat{e}}}$$\n",
    "$$\\newcommand{\\xhat}{\\vector{\\hat{x}}}$$\n",
    "$$\\newcommand{\\x}{\\vector{x}}$$\n",
    "$$\\newcommand{\\v}{\\vector{v}}$$\n",
    "$$\\newcommand{\\u}{\\vector{u}}$$"
   ]
  },
  {
   "cell_type": "markdown",
   "id": "ab025f27",
   "metadata": {},
   "source": [
    "# Continuum mechanics equations\n",
    "\n",
    "Continuum mechanical modelling involves solving one or more of a set of equations that capture:\n",
    "\n",
    "1. Kinematics - describing deformation and velocity without considering forces\n",
    "2. Dynamics - describing the balance of forces, i.e., conservation of linear and angular momentum\n",
    "3. Thermodynamics - describing the relation between temperature, heatflux, stress, entropy\n",
    "4. Constitutive equations - describing how material properties vary as a function of temperature, pressure, stress,...\n",
    "\n",
    "The main set of equations are:\n",
    "1. **Conservation of mass**\n",
    "2. **Conservation of momentum** (Newton's second law for linear momentum)\n",
    "3. **Conservation of energy** (First law of thermodynamics)\n",
    "\n",
    "Some problems can be addressed by solving one of these equations alone (e.g. the conservation of energy to solve how heat transfers conductively through an object heated from one side), or a coupled set of equations (e.g. flow of a hot fluid through a porous medium by jointly solving conservation of mass, momentum and energy).\n",
    "\n",
    "If material properties vary with any of the primary parameters, then additional equations, describing for example viscosity or thermal conductivity, need to be added.\n"
   ]
  },
  {
   "cell_type": "markdown",
   "id": "f59ef34d",
   "metadata": {},
   "source": [
    "# The continuity equation (conservation of mass)"
   ]
  },
  {
   "cell_type": "markdown",
   "id": "da3fb68f",
   "metadata": {},
   "source": [
    "The continuity equation captures the requirement that no mass is lost during deformation or flow.\n",
    "\n",
    "As discussed in the lecture, if material is incompressible, i.e. its density does not change during flow or deformation, this equation reduces to the form:\n",
    "\n",
    "$$\\nabla\\cdot\\v = 0 $$\n",
    "\n",
    "If the density changes in time and/or space, additional terms need to be included, yielding the following equation:\n",
    "\n",
    "in spatial description:\n",
    "\n",
    "$$\\frac{\\partial \\rho}{\\partial t} + \\nabla\\cdot(\\rho\\v) = 0 .$$\n",
    "\n",
    "or in material description:\n",
    "    \n",
    "$$\\frac{D\\rho}{Dt} + \\rho\\nabla\\cdot\\v = 0 .$$"
   ]
  },
  {
   "cell_type": "markdown",
   "id": "7953836c",
   "metadata": {},
   "source": [
    "<div class=\"alert alert-info\"> <font color=black>\n",
    "\n",
    "### Exercise 1\n",
    "\n",
    "Given the following 3D velocity field, \n",
    "    \n",
    "$$v_i=\\frac{kx_i}{(1+kt)}, $$\n",
    "    \n",
    "where $k$ is a constant, find the density of a material particle as a function of time; i.e., derive $\\rho(t)$."
   ]
  },
  {
   "cell_type": "markdown",
   "id": "2f76870d",
   "metadata": {},
   "source": [
    "Going back to the (2D version of) the same velocity field from the first example, plotting how the shapes change size as they move through the flow, visualises how density evolves."
   ]
  },
  {
   "cell_type": "code",
   "execution_count": null,
   "id": "6e51102a",
   "metadata": {},
   "outputs": [],
   "source": [
    "# Make a position grid fine enough to represent velocities as a smooth field.\n",
    "def init_grid(Lx=10., dx=None, Ly=10., dy=None):\n",
    "\n",
    "    # Use 100 grid points if dx not specified\n",
    "    if dx is None:\n",
    "        dx = Lx/100.\n",
    "    if dy is None:\n",
    "        dy = Ly/100.\n",
    "    \n",
    "    # Construct the grid\n",
    "    nx = int(Lx/dx)\n",
    "    xx = np.linspace(0, Lx, nx)\n",
    "    ny = int(Lx/dx)\n",
    "    yy = np.linspace(0, Ly, ny)\n",
    "    X, Y = np.meshgrid(xx, yy)\n",
    "    \n",
    "    return X, Y\n",
    "\n",
    "# Define the initial positions of a set of tracer particles to show motion/deformation\n",
    "# Construct two 2D numpy arrays, one for each coordinate direction. The first dimension\n",
    "# is the particle number; the second is the time level. . .\n",
    "def tracers(p0=[[0.5, 0.5], [1.5, 0.5], [1.5, 1.5], [0.5, 1.5], [0.5, 0.5]], nt=11):\n",
    "    \n",
    "    # Create arrays\n",
    "    px = np.zeros((len(p0), nt))\n",
    "    py = np.zeros_like(px)\n",
    "\n",
    "    # Initialise with specified initial coordinates.\n",
    "    for p, i in zip(p0, range(len(p0))):\n",
    "        px[i,:] = p[0]\n",
    "        py[i,:] = p[1]\n",
    "        \n",
    "    return px, py"
   ]
  },
  {
   "cell_type": "code",
   "execution_count": null,
   "id": "92229833",
   "metadata": {},
   "outputs": [],
   "source": [
    "# Define a spatial grid with 100 x 100 points. . .\n",
    "X, Y = init_grid(Lx=5., Ly=5.)\n",
    "\n",
    "# Choose a time discretisation fine enough for integrating particle paths \n",
    "# with enough precision to reproduce the analytical solution discussed in the lecture.\n",
    "dt = 0.05\n",
    "tt = np.arange(0, 2 + dt, dt)\n",
    "nt = tt.size\n",
    "\n",
    "# Define five tracers in a square to track shape change\n",
    "px, py = tracers(p0=[[1., 1.], [1.5, 1.], [1.5, 1.5], [1., 1.5], [1., 1.]], nt=nt)"
   ]
  },
  {
   "cell_type": "code",
   "execution_count": null,
   "id": "761ca5bb",
   "metadata": {},
   "outputs": [],
   "source": [
    "# Define the spatial description of a 2D velocity field as a function of x, y and time.\n",
    "# You can modify this to consider different spatial velocity functions. . . \n",
    "k=1\n",
    "def velocity_spatial(x, y, t, k=1):\n",
    "    return k*x/(1+k*t), k*y/(1+k*t)\n",
    "\n",
    "def material_position(xi_x, xi_y, t, k=1):\n",
    "    return (1+k*t)*xi_x, (1+k*t)*xi_y"
   ]
  },
  {
   "cell_type": "code",
   "execution_count": null,
   "id": "843dc452",
   "metadata": {},
   "outputs": [],
   "source": [
    "# Define velocity field at last time step\n",
    "vx, vy = velocity_spatial(X, Y, tt[nt-1], k=k)\n",
    "vmag = np.sqrt(vx**2 + vy**2)\n",
    "\n",
    "# Define the particle position using our analytical function\n",
    "for it in range(1,nt):\n",
    "    px[:, it], py[:, it] = material_position(px[:, 0], py[:, 0], tt[it])\n",
    "\n",
    "# Plot the velocity field at time zero\n",
    "plt.figure(figsize=(9,7))\n",
    "plt.subplot(aspect='equal')\n",
    "plt.suptitle(\"Velocity Magnitude & Particle Trajectories at t = %1.1f s\" % tt[-1])\n",
    "plt.xlabel('x')\n",
    "plt.ylabel('y')\n",
    "\n",
    "# Define a sensible fixed colorscale\n",
    "cc = np.arange(0, 7.5, 0.5)\n",
    "cl = np.arange(0, 8, 1)\n",
    "\n",
    "# Contour plot of velocity magnitude\n",
    "c = plt.contourf(X, Y, vmag, cc)\n",
    "cbar = plt.colorbar(c, shrink=0.8, ticks=cl)\n",
    "cbar.ax.set_title(\"$\\\\left| v \\\\right|$\")\n",
    "\n",
    "# Quiver plot of velocity vector field\n",
    "plt.quiver(X[::5,::5], Y[::5,::5], vx[::5,::5], vy[::5,::5], color='w')\n",
    "\n",
    "# Plot tracer square at three time levels; beginning, one-third time and end time.\n",
    "plt.plot(px[:, 0], py[:, 0], 'wo-')\n",
    "plt.plot(px[:, int(nt/3)], py[:, int(nt/3)], 'co-')\n",
    "plt.plot(px[:,-1], py[:,-1], 'ro-')\n",
    "\n",
    "plt.show()"
   ]
  },
  {
   "cell_type": "markdown",
   "id": "f14f0ec3",
   "metadata": {},
   "source": [
    "# The equation of motion and force equilibrium"
   ]
  },
  {
   "cell_type": "markdown",
   "id": "ec32bb58",
   "metadata": {},
   "source": [
    "In the lecture we saw how taking a force balance acting on an infinitesimal cube in a continuum results in a partial differential equation that describes the conservation of momentum,\n",
    "\n",
    "$$\\rho\\frac{\\partial^2 \\u}{\\partial t^2} = \\vector{f} + \\nabla\\cdot\\tensor{\\sigma} $$\n",
    "\n",
    "or\n",
    "\n",
    "$$ \\rho\\frac{\\partial \\v}{\\partial t} = \\vector{f} + \\nabla\\cdot\\tensor{\\sigma} .$$\n",
    "\n",
    "The term on the left-hand side is the mass (per unit volume) times the acceleration; the terms on the right-hand side are therefore the sum of the forces (per unit mass) acting on the body, which for each coordinate direction include the net body force (per unit mass) $\\vector{f}$ and the sum of the stress gradients $\\nabla\\cdot\\tensor{\\sigma}$ acting in that direction. \n",
    "\n",
    "This implies that if the continuum is in equilibrium at a point (i.e., no acceleration), the body force and stress gradients must be in exact balance in each direction. \n",
    "\n",
    "If there is no body force then the sum of the stress gradients in each coordinate direction must be zero. "
   ]
  },
  {
   "cell_type": "markdown",
   "id": "720c52fe",
   "metadata": {},
   "source": [
    "<div class=\"alert alert-info\"> <font color=black>\n",
    "\n",
    "### Exercise 2\n",
    "    \n",
    "Consider the following stress distribution:\n",
    "    \n",
    "$$\\tensor{\\sigma} = \\left[\\begin{array}{ccc}\n",
    "                                x_1 + x_2 & \\sigma_{12}(x_1, x_2) & 0 \\\\\n",
    "                                \\sigma_{12}(x_1, x_2) & x_1 - 2x_2 & 0 \\\\\n",
    "                                0 & 0 & x_2\n",
    "                             \\end{array} \\right]  ,$$\n",
    "\n",
    "where $\\sigma_{12}$ is a linear function of $x_1$ and $x_2$.\n",
    "    \n",
    "Find $\\sigma_{12}$ given that the stress vector on plane $x_1 = 1$ is given by:\n",
    "    \n",
    "$$\\vector{t} = (1+x_2)\\ex + (5-x_2)\\ey ,$$\n",
    "    \n",
    "and that the stress distribution is in equilibrium with zero body force."
   ]
  },
  {
   "cell_type": "markdown",
   "id": "ff12d70c",
   "metadata": {},
   "source": [
    "# Conservation of Energy\n",
    "\n",
    "The general form of the conservation of energy equation that we considered in the lecture is:\n",
    "\n",
    "$$\\frac{D\\rho C_pT}{Dt} = \\nabla\\cdot k\\nabla T + A + \\tensor{\\sigma}:\\tensor{D} ,$$\n",
    "\n",
    "where, from left to right, the different terms represent:\n",
    "\n",
    "1. change in temperature with time\n",
    "\n",
    "2. heat transfer by conduction (and radiation)\n",
    "\n",
    "3. heat production (including latent heat)\n",
    "\n",
    "4. heat generated by internal deformation"
   ]
  },
  {
   "cell_type": "markdown",
   "id": "e56a2e5e",
   "metadata": {},
   "source": [
    "## 1D Advection-Diffusion\n",
    "\n",
    "In the lecture, we saw how the conservation of energy equation simplifies to the 1-D steady-state advection-diffusion equation in the absence of spatial variation in material parameters, internal deformation and heat production $A$:\n",
    "\n",
    "$$\\kappa {\\frac {\\partial ^2 T}{\\partial z^2}}+ v_z\\frac{\\partial T}{\\partial z} = 0$$\n",
    "\n",
    "where:\n",
    "\n",
    "* $T$ is temperature (in $^{\\circ}$C)\n",
    "* $z$ is depth (in m)\n",
    "* $\\kappa = k/(\\rho C_p)$ is thermal diffusivity (in m$^2$/s)\n",
    "* $v_z$ vertical velocity (in m/s)\n",
    "\n",
    "Use the code below to calculate and plot analytical solutions to the 1-D steady state advection-diffusion equation for the transport of heat, with constant temperature boundary conditions at $z=0$ and $z=L$."
   ]
  },
  {
   "cell_type": "markdown",
   "id": "3c0348a5",
   "metadata": {},
   "source": [
    "<div class=\"alert alert-info\"> <font color=black>\n",
    "    \n",
    "### Exercise 3\n",
    "\n",
    "Use the code below to calculate and plot analytical solutions to the 1-D steady state advection-diffusion equation for the transport of heat, with constant temperature boundary conditions at $z=0$ and $z=L$.\n",
    "    \n",
    "**Step 1:** Set parameter values. In the example, values applicable to Earth's crust are chosen, but feel free to try others appropriate for a different problem"
   ]
  },
  {
   "cell_type": "code",
   "execution_count": null,
   "id": "20717f6b",
   "metadata": {},
   "outputs": [],
   "source": [
    "# Thermal diffusivity for rocks (m^2/s)\n",
    "kap=1e-6\n",
    "\n",
    "# Depth range from surface to 30 km depth, in small steps\n",
    "dz = 0.2e3\n",
    "zz = np.arange(0, 30e3, dz)\n",
    "nz = zz.size\n",
    "LL = np.amax(zz)\n",
    "\n",
    "# A range of vertical advection velocity values\n",
    "yr2sec=3600.*24.*365.25\n",
    "nv = 6\n",
    "vz = np.zeros(nv)\n",
    "# 5 cm/yr\n",
    "vz[0]=5e-2/yr2sec \n",
    "# 1 cm/yr\n",
    "vz[1]=1e-2/yr2sec \n",
    "# 5 mm/yr\n",
    "vz[2]=5e-3/yr2sec\n",
    "# 1 mm/yr\n",
    "vz[3]=1e-3/yr2sec\n",
    "# 0.1 mm/yr\n",
    "vz[4]=1e-4/yr2sec\n",
    "# 0.01 mm/yr\n",
    "vz[5]=1e-5/yr2sec\n",
    "# 5 mm/yr\n",
    "vzcm = vz*1e2*yr2sec\n",
    "\n",
    "# Boundary conditions:\n",
    "# constant surface temperature and temperature at base of the domain \n",
    "T0=0            # surface temperature of 0 oC\n",
    "TL=500          # temperature at zmax=L of 500 oC"
   ]
  },
  {
   "cell_type": "markdown",
   "id": "9c88008d",
   "metadata": {},
   "source": [
    "<div class=\"alert alert-info\"> <font color=black>\n",
    "    \n",
    "**Step 2:** Compute and plot temperature solutions for the range of advection velocities"
   ]
  },
  {
   "cell_type": "code",
   "execution_count": null,
   "id": "492b1f65",
   "metadata": {},
   "outputs": [],
   "source": [
    "# Initialise set up for figure\n",
    "tempfig, ax= plt.subplots(1)\n",
    "tempfig.suptitle(\"Temperatures vs Depth\")\n",
    "linecol=['k-','b-','c-','g-','y-','r-','m']\n",
    "ax.set_ylim(LL, 0)\n",
    "plt.xlabel(\"Temperature $^{\\circ}$C\")\n",
    "plt.ylabel(\"Depth (m)\")\n",
    "\n",
    "# Determine temperatures for each advection velocities\n",
    "# and add line to figure\n",
    "for iv in range(nv):\n",
    "    # initialise temperature\n",
    "    Tzz=np.zeros(nz)\n",
    "    # calculate temperature for this vz\n",
    "    cc=-1.*vz[iv]/kap\n",
    "    prefac=TL/(1.-np.exp(cc*LL))\n",
    "    Tzz=prefac*(1.-np.exp(cc*zz))\n",
    "    plt.plot(Tzz,zz,linecol[iv],label=str(\"{:.2f}\".format(vzcm[iv])))\n",
    "plt.legend(title='vz (cm/yr)')\n",
    "plt.show()"
   ]
  },
  {
   "cell_type": "markdown",
   "id": "08ca99c5",
   "metadata": {},
   "source": [
    "<div class=\"alert alert-info\"> <font color=black>\n",
    "\n",
    "The relative importance of heat advection and heat conduction determines the shape of the temperature-depth profiles. The dimensionless parameter that captures this relative importance is called the **Peclet number**, $Pe$.\n",
    "    \n",
    "$$ Pe = \\frac{v_z L}{\\kappa}$$\n",
    "\n",
    "where $v_z$ is vertical velocity, $L$ is a length scale characteristic of the problem (in this case the depth scale), and  $\\kappa$ is thermal diffusivity.\n",
    "    \n",
    "In many physical problems, there are dimensionless numbers that characterise the type of solution. This will be discussed further in the next lecture.\n",
    "\n",
    "**Step 3:** Calculate Peclet numbers for these solutions. What do large/small $Pe$ indicate?"
   ]
  },
  {
   "cell_type": "code",
   "execution_count": null,
   "id": "55ae649b",
   "metadata": {},
   "outputs": [],
   "source": [
    "Pecletno=vz*LL/kap\n",
    "with np.printoptions(precision=3, suppress=True):\n",
    "    print('Advection velocity: ',vz*100*yr2sec, 'cm/yr')\n",
    "    print('Peclet number: ',Pecletno)"
   ]
  },
  {
   "cell_type": "markdown",
   "id": "c2850fe0",
   "metadata": {},
   "source": [
    "<div class=\"alert alert-success\"> <font color=black>\n",
    "Things you could try yourself:\n",
    "    \n",
    "* Evaluate how the profile and Peclet number change with advection velocity. At what velocity does the solution become essentially conductive?\n",
    "* Add a heat production term (e.g. A = 0.4 $\\mu$W/m$^3$)\n",
    "* Find solution for boundary conditions: $T$($z$=0)=0 $^{\\circ}$C and $\\partial T/\\partial z$($z$=0)=20$^{\\circ}$C/km and plot for different values of $v_z$."
   ]
  },
  {
   "cell_type": "markdown",
   "id": "71f38732",
   "metadata": {},
   "source": [
    "<div class=\"alert alert-info\"> <font color=black>\n",
    "    \n",
    "### Exercise 4\n",
    "\n",
    "**(a)** Write down the energy equation for a 1-D steady state problem with internal heat production, but without any contribution of strain or flow.\n",
    "    \n",
    "**(b)** Solve this equation for a layer with constant material properties, with a fixed temperature on the bottom and an insulating top:\n",
    "\n",
    "$$T(y=0)=T_0, \\ \\ \\ \\frac{dT}{dy}(y=h)=0.$$\n",
    "    \n",
    "**(c)** Plot the solution for the following parameter values: $T_0 = 0^\\circ$C, $k = 80$ Wm$^{-1}$K$^{-1}$, $A = 200$ Wm$^{-3}$, $h = 2$ m."
   ]
  },
  {
   "cell_type": "markdown",
   "id": "2785ad8c",
   "metadata": {},
   "source": [
    "<div class=\"alert alert-success\"> <font color=black>\n",
    "\n",
    "**(d)** You could vary the values of $A$ and $k$ to get more insight in the relative effects of heat production and conductivity on the temperature profile."
   ]
  },
  {
   "cell_type": "markdown",
   "id": "de7c24ae",
   "metadata": {},
   "source": [
    "# Conservation of Momentum: Hookean Elasticity"
   ]
  },
  {
   "cell_type": "markdown",
   "id": "b5fc7eb1",
   "metadata": {},
   "source": [
    "In the lecture, we saw how combining the conservation of momentum equation with the constitutive equation for an elastic material leads to the elastic wave equation. \n",
    "\n",
    "For an isotropic Hookean solid, the constitutive equation only involves two elastic parameters, taking the following form when cast in terms of the two Lamé constants:\n",
    "$$\\sigma_{ij}=\\lambda \\epsilon_{kk} \\delta_{ij} + 2 \\mu \\epsilon_{ij}$$"
   ]
  },
  {
   "cell_type": "markdown",
   "id": "22fd768b",
   "metadata": {},
   "source": [
    "<div class=\"alert alert-success\"> <font color=black>\n",
    "Writing out the missing steps in the derivation in the lecture slides is a good practise of tensor and index notation skills"
   ]
  },
  {
   "cell_type": "markdown",
   "id": "e6cac2e1",
   "metadata": {},
   "source": [
    "Remembering that the conservation of momentum, in index notation is:\n",
    "$$\\rho\\frac{\\partial^2 u_{i}}{\\partial t^2} = f_{i} + \\frac{\\partial{\\sigma_{ji}}}{\\partial{x_{j}}}$$\n",
    "\n",
    "With the above elastic constitutive equation, the divergence of the stress tensor is:\n",
    "$$ \\frac{\\partial{\\sigma_{ji}}}{\\partial{x_{j}}} = \n",
    "\\lambda \\frac{\\partial{(\\partial{u_{k}}/\\partial{x_{k}})}}{\\partial{x_{i}}}\n",
    "+ \\mu \\frac{\\partial^2 u_i}{\\partial{{x_j}^2}}\n",
    "+ \\mu \\frac{\\partial{(\\partial{u_{j}}/\\partial{x_{j}})}}{\\partial{x_{i}}}$$\n",
    "\n",
    "Or in vector form\n",
    "$$\\nabla\\cdot\\vector{\\sigma}=(\\lambda+\\mu)\\nabla(\\nabla\\cdot\\vector{u})+\\mu\\nabla^2\\vector{u}$$\n",
    "\n",
    "Using the relation:\n",
    "$$\\nabla^2\\vector{u}=\\nabla(\\nabla\\cdot\\vector{u})-\\nabla\\times\\nabla\\times\\vector{u}$$\n",
    "\n",
    "This yields the following elastic wave equation:\n",
    "\n",
    "$$\\rho\\frac{\\partial^2\\vector{u}}{\\partial t^2} = \n",
    "\\vector{f} + (\\lambda+2\\mu)\\nabla(\\nabla\\cdot\\vector{u}) \n",
    "- \\mu \\nabla\\times\\nabla\\times\\vector{u}$$\n",
    "\n",
    "The term with $\\nabla\\cdot\\vector{u}$ describes changes in volume due to the displacement field and is related to compressional waves, while the term with $\\nabla\\times\\vector{u}$ describes the rotational component of the displacement field and is related to shear waves."
   ]
  },
  {
   "cell_type": "markdown",
   "id": "5c8ab9cc",
   "metadata": {},
   "source": [
    "<div class=\"alert alert-info\"> <font color=black>\n",
    "\n",
    "### Exercise 5\n",
    "    \n",
    "Two alternative elastic parameters often used are the bulk modulus $K$ and shear modulus $G$. These two moduli are linked, respectively, to isotropic stress (i.e. pressure $p$) and strain ($\\theta$):\n",
    "$$ -p = \\frac{\\sigma_{kk}}{3} = K \\epsilon_{kk} = K \\theta $$\n",
    "    \n",
    "and deviatoric stress $\\sigma'_{ij}$ and strain $\\epsilon'_{ij}$:\n",
    "$$ \\sigma'_{ij} = \\sigma_{ij} + p \\delta_{ij} = 2 G \\epsilon'_{ij} $$  \n",
    "    \n",
    "Derive the expressions relating $K$ and $G$ to the Lamé constants $\\lambda$ and $\\mu$"
   ]
  },
  {
   "cell_type": "markdown",
   "id": "6049362e",
   "metadata": {},
   "source": [
    "<div class=\"alert alert-warning\"> <font color=black>\n",
    "\n",
    "### Exercise 6\n",
    "\n",
    "**(a)**\tShow that for an isotropic Hookean solid, the principal directions of stress and strain coincide. \n",
    "\n",
    "**(b)**\tFind a relation between the principal values of stress and strain using the two Lamé parameters.\n",
    "    \n",
    "**(c)** For the same Hookean solid, express the elastic Young’s modulus $E$ and Poisson’s ratio $\\nu$, which are often used in engineering, in terms of the Lamé parameters $\\lambda$ and $\\mu$. \n",
    "    \n",
    "The two engineering moduli are defined for a uniaxial state of stress, where $\\sigma_1 \\ne 0$ and $\\sigma_2 = \\sigma_3 = 0$, a useful system for experimentally determining the elastic parameters. This stress leads to a maximum strain $\\epsilon_1$ in the direction of the applied stress and uniform strain in perpendicular direction, $\\epsilon_2 = \\epsilon_3$. \n",
    "    \n",
    "The moduli are then defined as:\n",
    "\n",
    "$$E=\\sigma_1/\\epsilon_1 \\ \\  \\text{and} \\ \\ \\nu= -\\epsilon_3/\\epsilon_1 .$$"
   ]
  },
  {
   "cell_type": "markdown",
   "id": "0105072d",
   "metadata": {},
   "source": [
    "# Conservation of Momentum: Navier-Stokes\n",
    "\n",
    "The lecture discussed that combining the conservation of momentum equation with the constitutive equation for an viscous material leads to the so-called Navier-Stokes equation for viscous flow and deformation. \n",
    "\n",
    "To consider this case, we decomposed the stress tensor, $\\vector{\\sigma}$, into an isotropic part, $p \\vector{I}$, and a **deviatoric** part, $\\matrix{\\sigma'}$. \n",
    "\n",
    "**Hydrostatic state of stress**\n",
    "\n",
    "The isotropic part describes the hydrostatic state of fluids at rest, as fluids are not able to sustain shear stresses. If a fluid is at rest, the force balance reduces to:\n",
    "$$\\nabla \\cdot \\vector{\\sigma} + \\vector{f} = -\\nabla p + \\vector{f} = \\vector{0} ~~~~\\Rightarrow~~~~\\nabla p = \\vector{f}$$\n",
    "\n",
    "**Navier-Stokes for a Newtonian fluid**\n",
    "\n",
    "In the case of a Newtonian fluid, deviatoric stress, $\\vector{\\sigma'}$, varies linearly with strain rate, $\\vector{D}$. Similarly to the elastic case, if the material is isotropic, there are only two viscosity parameters: bulk viscosity, $\\zeta$, and shear viscosity, $\\eta$. The deviatoric stress tensor (in index notation) is then given by:\n",
    "$$\\sigma'_{ij}= \\zeta D_{kk} \\delta_{ij} + 2\\eta D_{ij}$$\n",
    "\n",
    "If we define $\\Delta = D_{kk} = \\nabla \\cdot \\vector{v}$, then the full expression for the stress tensor for an isotropic, Newtonian fluid is:\n",
    "$$\\vector{\\sigma} = (-p + \\zeta\\Delta)\\vector{I} + 2\\eta \\vector{D}$$\n",
    "\n",
    "Putting this expression into the force balance, \n",
    "$$\\nabla \\cdot \\vector{\\sigma} + \\vector{f} = \\rho \\frac{D\\vector{v}}{Dt}$$\n",
    "assuming that $\\zeta$ and $\\eta$ are constant yields:\n",
    "$$-\\nabla p + (\\zeta + \\eta) \\nabla \\Delta + \\eta \\nabla^{2} \\vector{v} + \\vector{f} \n",
    "= \\rho \\frac{D\\vector{v}}{Dt} \n",
    "= \\rho (\\frac{\\partial{\\vector{v}}}{\\partial{t}} + \\vector{v} \\cdot \\nabla \\vector{v})$$\n",
    "\n",
    "**Navier-Stokes for an incompressible, Newtonian fluid**\n",
    "\n",
    "If the material is incompressible, then $\\Delta = \\nabla \\cdot \\vector{v} = 0$, and the equation reduces to:\n",
    "\n",
    "$$-\\nabla p + \\eta \\nabla^{2} \\vector{v} + \\vector{f} \n",
    "= \\rho (\\frac{\\partial{\\vector{v}}}{\\partial{t}} + \\vector{v} \\cdot \\nabla \\vector{v})$$\n",
    "\n",
    "**Navier-Stokes + continuity equations**\n",
    "\n",
    "In 3-D, this Navier-Stokes equations above correspond to three equations (force balance in $x$, $y$, and $z$ direction) and has four unknowns: pressure $p$, and the three components of velocity $\\vector{v}=(v_x,v_y,v_z)$. By solving it together with the continuity equation $\\nabla\\cdot\\vector{v}=0$, this yields a system of four equations with four unknowns."
   ]
  },
  {
   "cell_type": "markdown",
   "id": "88b8fdcc",
   "metadata": {},
   "source": [
    "<div class=\"alert alert-info\"> <font color=black>\n",
    "\n",
    "### Exercise 7\n",
    "    \n",
    "Consider a Newtonian shear flow with velocity field $v_1(x_2), v_2=v_3=0$.\n",
    "    \n",
    "Write out all components of the strain rate tensor **D** and the stres tensor $\\vector{\\sigma}$."
   ]
  },
  {
   "cell_type": "markdown",
   "id": "06bacb8b",
   "metadata": {},
   "source": [
    "<div class=\"alert alert-info\"> <font color=black>\n",
    "    \n",
    "### Exercise 8\n",
    "\n",
    "Consider the case of steady unidirectional flow of an incompressible fluid with constant viscosity $\\eta$ between two parallel fixed plates, both with a normal pointing in the $x_2$ direction. Assume flow is in the $x_1$ direction, and the plates extend infinitely in the $x_1$ and $x_3$ directions (i.e., the distance between the plates is much smaller than the size of the plates). This type of flow is called plane Poiseuille flow. The velocity field for this flow has the form: \n",
    "    \n",
    "$$v_1=v(x_2), \\ \\  v_2 = v_3 =0.$$\n",
    "    \n",
    "**(a)** Write down the Navier-Stokes equations for this problem.\n",
    "\n",
    "**(b)** Show that the pressure gradient is constant in the direction of flow. I.e., that:\n",
    "\n",
    "$$\\frac{\\partial^2 p}{\\partial x_1^2}=0. $$\n",
    "\n",
    "**(c)** With this information, find the solution for $v(x_2)$, assuming the plates are located at $x_2 = -b$ and $x_2=b$.\n",
    "\n",
    "**(d)** What does the constant $c$ correspond to in the solution? Use `matplotlib` to plot the shapes of solutions for various ratios of $c/\\eta$."
   ]
  }
 ],
 "metadata": {
  "kernelspec": {
   "display_name": "Python 3 (ipykernel)",
   "language": "python",
   "name": "python3"
  },
  "language_info": {
   "codemirror_mode": {
    "name": "ipython",
    "version": 3
   },
   "file_extension": ".py",
   "mimetype": "text/x-python",
   "name": "python",
   "nbconvert_exporter": "python",
   "pygments_lexer": "ipython3",
   "version": "3.8.12"
  }
 },
 "nbformat": 4,
 "nbformat_minor": 5
}
