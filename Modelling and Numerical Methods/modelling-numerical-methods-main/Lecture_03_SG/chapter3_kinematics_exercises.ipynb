{
 "cells": [
  {
   "cell_type": "markdown",
   "id": "f113ff6e",
   "metadata": {},
   "source": [
    "# Modelling and Numerical Methods  <a class=\"tocSkip\">\n",
    "\n",
    "## Chapter 3: Kinematics of Continua  <a class=\"tocSkip\">"
   ]
  },
  {
   "cell_type": "markdown",
   "id": "2bbca46e",
   "metadata": {},
   "source": [
    "## Learning outcomes  <a class=\"tocSkip\">\n",
    "    \n",
    "At the end of this session, you should be able to:\n",
    "\n",
    "1. Use material and spatial descriptions of variables and their time derivatives. \n",
    "2. Compute infinitesimal strain (strain rate) tensor given a displacement (velocity) field.\n",
    "3. Interpret the different components of the infinitesimal strain (rate) tensor"
   ]
  },
  {
   "cell_type": "markdown",
   "id": "f3d79ca1",
   "metadata": {},
   "source": [
    "<h1>Table of Contents<span class=\"tocSkip\"></span></h1>\n",
    "</br>\n",
    "<div class=\"toc\"><ul class=\"toc-item\">\n",
    "    \n",
    "<li><span><a href=\"#Material-vs-spatial-descriptions\" data-toc-modified-id=\"Material-vs-spatial-descriptions-1\">\n",
    "    <span class=\"toc-item-num\">1&nbsp;&nbsp;</span>Material vs spatial descriptions</a></span></li>\n",
    "    <ul class=\"toc-item\">\n",
    "    <li><span><a href=\"#Spatial-field\" data-toc-modified-id=\"Spatial-field-1.1\">\n",
    "        <span class=\"toc-item-num\">1.1&nbsp;&nbsp;</span>Spatial field</a></span></li>\n",
    "    <li><span><a href=\"#Pathlines\" data-toc-modified-id=\"Pathlines-1.2\">\n",
    "        <span class=\"toc-item-num\">1.2&nbsp;&nbsp;</span>Pathlines</a></span></li>\n",
    "        <ul class=\"toc-item\">\n",
    "        <li><span><a href=\"#Exercise-1\" data-toc-modified-id=\"Exercise-1-1.2.1\">\n",
    "            <span class=\"toc-item-num\">1.2.1&nbsp;&nbsp;</span>Exercise 1</a></span></li>\n",
    "        </ul>\n",
    "    <li><span><a href=\"#Relating-spatial-and-material-descriptions\" data-toc-modified-id=\"Relating-spatial-and-material-descriptions-1.3\">\n",
    "        <span class=\"toc-item-num\">1.3&nbsp;&nbsp;</span>Relating spatial and material descriptions</a></span></li>\n",
    "        <ul class=\"toc-item\">\n",
    "        <li><span><a href=\"#Exercise-2\" data-toc-modified-id=\"Exercise-2-1.3.1\">\n",
    "            <span class=\"toc-item-num\">1.3.1&nbsp;&nbsp;</span>Exercise 2</a></span></li>\n",
    "        <li><span><a href=\"#Exercise-3\" data-toc-modified-id=\"Exercise-3-1.3.2\">\n",
    "            <span class=\"toc-item-num\">1.3.2&nbsp;&nbsp;</span>Exercise 3</a></span></li>\n",
    "        <li><span><a href=\"#Exercise-4\" data-toc-modified-id=\"Exercise-4-1.3.3\">\n",
    "            <span class=\"toc-item-num\">1.3.3&nbsp;&nbsp;</span>Exercise 4</a></span></li>\n",
    "        </ul>\n",
    "    <li><span><a href=\"#Time-derivative\" data-toc-modified-id=\"Time-derivative-1.4\">\n",
    "        <span class=\"toc-item-num\">1.4&nbsp;&nbsp;</span>Time derivative</a></span></li>\n",
    "        <ul class=\"toc-item\">\n",
    "        <li><span><a href=\"#Exercise-5\" data-toc-modified-id=\"Exercise-5-1.4.1\">\n",
    "            <span class=\"toc-item-num\">1.4.1&nbsp;&nbsp;</span>Exercise 5</a></span></li>\n",
    "        <li><span><a href=\"#Exercise-6\" data-toc-modified-id=\"Exercise-6-1.4.2\">\n",
    "            <span class=\"toc-item-num\">1.4.2&nbsp;&nbsp;</span>Exercise 6</a></span></li>\n",
    "        </ul>\n",
    "    </ul>\n",
    "    \n",
    "<li><span><a href=\"#Infinitesimal-strain\" data-toc-modified-id=\"Infinitesimal-strain-1\">\n",
    "    <span class=\"toc-item-num\">2&nbsp;&nbsp;</span>Infinitesimal strain</a></span></li>\n",
    "    <ul class=\"toc-item\">\n",
    "    <li><span><a href=\"#Strain-and-rotation-tensors\" data-toc-modified-id=\"Strain-and-rotation-tensors-2.1\">\n",
    "        <span class=\"toc-item-num\">2.1&nbsp;&nbsp;</span>Strain and rotation tensors</a></span></li>\n",
    "    <li><span><a href=\"#Strain-tensor-components\" data-toc-modified-id=\"Strain-tensor-components-2.2\">\n",
    "        <span class=\"toc-item-num\">2.2&nbsp;&nbsp;</span>Strain tensor components</a></span></li>\n",
    "        <ul class=\"toc-item\">\n",
    "        <li><span><a href=\"#Exercise-7\" data-toc-modified-id=\"Exercise-7-2.2.1\">\n",
    "            <span class=\"toc-item-num\">2.2.1&nbsp;&nbsp;</span>Exercise 7</a></span></li>\n",
    "        </ul>\n",
    "    <li><span><a href=\"#Displacement-and-strain-fields\" data-toc-modified-id=\"Displacement-and-strain-fields-2.3\">\n",
    "        <span class=\"toc-item-num\">2.3&nbsp;&nbsp;</span>Displacement and strain fields</a></span></li>\n",
    "        <ul class=\"toc-item\">\n",
    "        <li><span><a href=\"#Exercise-8\" data-toc-modified-id=\"Exercise-8-2.3.1\">\n",
    "            <span class=\"toc-item-num\">2.3.1&nbsp;&nbsp;</span>Exercise 8</a></span></li>\n",
    "        </ul>\n",
    "    <li><span><a href=\"#Principal-strains-and-strain-invariants\" data-toc-modified-id=\"Principal-strains-and-strain-invariants-2.4\">\n",
    "        <span class=\"toc-item-num\">2.4&nbsp;&nbsp;</span>Principal strains and strain invariants</a></span></li>\n",
    "        <ul class=\"toc-item\">\n",
    "        <li><span><a href=\"#Exercise-9\" data-toc-modified-id=\"Exercise-9-2.4.1\">\n",
    "            <span class=\"toc-item-num\">2.4.1&nbsp;&nbsp;</span>Exercise 9</a></span></li>\n",
    "        </ul>\n",
    "    <li><span><a href=\"#Finite-strain\" data-toc-modified-id=\"Finite-strain-2.5\">\n",
    "        <span class=\"toc-item-num\">2.5&nbsp;&nbsp;</span>Finite strain</a></span></li>\n",
    "        <ul class=\"toc-item\">\n",
    "        <li><span><a href=\"#Exercise-10\" data-toc-modified-id=\"Exercise-10-2.5.1\">\n",
    "            <span class=\"toc-item-num\">2.5.1&nbsp;&nbsp;</span>Exercise 10</a></span></li>\n",
    "        </ul>\n",
    "    </ul>\n",
    "    \n",
    "</ul></div>"
   ]
  },
  {
   "cell_type": "markdown",
   "id": "274e2b41",
   "metadata": {},
   "source": [
    "## Types of content\n",
    "<div class=\"alert alert-info\"> <b><font color=black>Exercises for all</font></b> </div>\n",
    "<div class=\"alert alert-success\"> <b><font color=black>Optional additional practise</font></b> </div>\n",
    "<div class=\"alert alert-warning\"> <b><font color=black>Optional advanced practise/content</font></b> </div>\n",
    "\n",
    "## Settings for notebook"
   ]
  },
  {
   "cell_type": "code",
   "execution_count": null,
   "id": "49fce50f",
   "metadata": {},
   "outputs": [],
   "source": [
    "# Import packages for notebook here\n",
    "import numpy as np\n",
    "import matplotlib.pyplot as plt\n",
    "\n",
    "%matplotlib inline"
   ]
  },
  {
   "cell_type": "markdown",
   "id": "e8ebd6b8",
   "metadata": {},
   "source": [
    "Do not alter this cell. LaTeX commands for frequently used terms.\n",
    "\n",
    "$$\\newcommand{\\tensor}[1]{\\underline{\\underline{\\mathbf{#1}}}}$$\n",
    "$$\\newcommand{\\vector}[1]{\\mathbf{#1}}$$\n",
    "$$\\newcommand{\\matrix}[1]{\\mathbf{#1}}$$\n",
    "$$\\newcommand{\\det}[1]{\\mathrm{det}\\left(#1\\right)}$$\n",
    "$$\\newcommand{\\ex}{\\vector{\\hat{e}}_1}$$\n",
    "$$\\newcommand{\\ey}{\\vector{\\hat{e}}_2}$$\n",
    "$$\\newcommand{\\ez}{\\vector{\\hat{e}}_3}$$\n",
    "$$\\newcommand{\\nhat}{\\vector{\\hat{n}}}$$\n",
    "$$\\newcommand{\\ehat}{\\vector{\\hat{e}}}$$\n",
    "$$\\newcommand{\\xhat}{\\vector{\\hat{x}}}$$\n",
    "$$\\newcommand{\\x}{\\vector{x}}$$\n",
    "$$\\newcommand{\\v}{\\vector{v}}$$\n",
    "$$\\newcommand{\\u}{\\vector{u}}$$"
   ]
  },
  {
   "cell_type": "markdown",
   "id": "669c76fe",
   "metadata": {},
   "source": [
    "Here we define a few functions that will be helpful in this notebook there's no need to understand these now, but you may like to look at these later if you want to extend the notebook or tackle the extension exercises."
   ]
  },
  {
   "cell_type": "code",
   "execution_count": null,
   "id": "28609338",
   "metadata": {},
   "outputs": [],
   "source": [
    "# Make a position grid fine enough to represent velocities as a smooth field.\n",
    "def init_grid(Lx=10., dx=None, Ly=10., dy=None):\n",
    "\n",
    "    # Use 100 grid points if dx not specified\n",
    "    if dx is None:\n",
    "        dx = Lx/100.\n",
    "    if dy is None:\n",
    "        dy = Ly/100.\n",
    "    \n",
    "    # Construct the grid\n",
    "    nx = int(Lx/dx)\n",
    "    xx = np.linspace(0, Lx, nx)\n",
    "    ny = int(Lx/dx)\n",
    "    yy = np.linspace(0, Ly, ny)\n",
    "    X, Y = np.meshgrid(xx, yy)\n",
    "    \n",
    "    return X, Y\n",
    "\n",
    "# Define the initial positions of a set of tracer particles to show motion/deformation\n",
    "# Construct two 2D numpy arrays, one for each coordinate direction. The first dimension\n",
    "# is the particle number; the second is the time level. . .\n",
    "def tracers(p0=[[0.5, 0.5], [1.5, 0.5], [1.5, 1.5], [0.5, 1.5], [0.5, 0.5]], nt=11):\n",
    "    \n",
    "    # Create arrays\n",
    "    px = np.zeros((len(p0), nt))\n",
    "    py = np.zeros_like(px)\n",
    "\n",
    "    # Initialise with specified initial coordinates.\n",
    "    for p, i in zip(p0, range(len(p0))):\n",
    "        px[i,:] = p[0]\n",
    "        py[i,:] = p[1]\n",
    "        \n",
    "    return px, py"
   ]
  },
  {
   "cell_type": "code",
   "execution_count": null,
   "id": "0bb8a3e8",
   "metadata": {},
   "outputs": [],
   "source": [
    "# Define a function for plotting 2D tensor components as scalar fields. . .\n",
    "def plot_2D_tensor_field(X, Y, exx, exy, eyx, eyy, cmin=0., cmax=4., field='displ'):\n",
    "    \n",
    "    # same colour scale for gradients, strain components, divergence and curl\n",
    "    cc = np.linspace(cmin, cmax, 21)\n",
    "    \n",
    "    # Define colormap based on range\n",
    "    # https://matplotlib.org/stable/tutorials/colors/colormaps.html\n",
    "    if (cmin < 0.):\n",
    "        # Divergent colour scale for negative and positive fields\n",
    "        plt.set_cmap(\"bwr\")\n",
    "    else:\n",
    "        # Perceptually uniform sequential colormap for positive fields\n",
    "        plt.set_cmap(\"viridis\")\n",
    "\n",
    "    # Plot displacement gradients\n",
    "    fig = plt.figure(figsize=(7,7))\n",
    "    ax11 = plt.subplot(2,2,1,aspect='equal')\n",
    "    ax11.contourf(X, Y, exx, cc)\n",
    "    ax11.set(ylabel='y')\n",
    "    ax12 = plt.subplot(2,2,2,aspect='equal')\n",
    "    ax12.contourf(X, Y, exy, cc)\n",
    "    ax21 = plt.subplot(2,2,3,aspect='equal')\n",
    "    ax21.contourf(X, Y, eyx, cc)\n",
    "    ax21.set(xlabel='x', ylabel='y')\n",
    "    ax22 = plt.subplot(2,2,4,aspect='equal')\n",
    "    dyy = ax22.contourf(X, Y, eyy, cc)\n",
    "    ax22.set(xlabel='x')\n",
    "\n",
    "    if field == 'displ':\n",
    "        fig.suptitle(\"displacement gradients (transpose)\")\n",
    "        ax11.set_title('$\\partial u_x/\\partial x$')\n",
    "        ax12.set_title('$\\partial u_y/\\partial x$')\n",
    "        ax21.set_title('$\\partial u_x/\\partial y$')\n",
    "        ax22.set_title('$\\partial u_y/\\partial y$')\n",
    "    elif field == 'strain':\n",
    "        fig.suptitle(\"strain tensor\")\n",
    "        ax11.set_title('$E_{xx}$')\n",
    "        ax12.set_title('$E_{xy}$')\n",
    "        ax21.set_title('$E_{yx}$')\n",
    "        ax22.set_title('$E_{yy}$')\n",
    "    elif field == 'rotation':\n",
    "        fig.suptitle(\"rotation tensor\")\n",
    "        ax11.set_title('$\\omega_{xx}$')\n",
    "        ax12.set_title('$\\omega_{xy}$')\n",
    "        ax21.set_title('$\\omega_{yx}$')\n",
    "        ax22.set_title('$\\omega_{yy}$')\n",
    "    elif field == 'vorticity':\n",
    "        fig.suptitle(\"vorticity tensor\")\n",
    "        ax11.set_title('$W_{xx}$')\n",
    "        ax12.set_title('$W_{xy}$')\n",
    "        ax21.set_title('$W_{yx}$')\n",
    "        ax22.set_title('$W_{yy}$')\n",
    "    elif field == 'velocity':\n",
    "        fig.suptitle(\"velocity gradients (transpose)\")\n",
    "        ax11.set_title('$\\partial v_x/\\partial x$')\n",
    "        ax12.set_title('$\\partial v_y/\\partial x$')\n",
    "        ax21.set_title('$\\partial v_x/\\partial y$')\n",
    "        ax22.set_title('$\\partial v_y/\\partial y$')\n",
    "    elif field == 'strainrate':\n",
    "        fig.suptitle(\"strainrate tensor\")\n",
    "        ax11.set_title('$D_{xx}$')\n",
    "        ax12.set_title('$D_{xy}$')\n",
    "        ax21.set_title('$D_{yx}$')\n",
    "        ax22.set_title('$D_{yy}$')\n",
    "         \n",
    "    plt.tight_layout()\n",
    "\n",
    "    #set global colorbar\n",
    "    cb_ax = fig.add_axes([1.0, 0.1, 0.05, 0.8])\n",
    "    cbar = fig.colorbar(dyy, cax=cb_ax)\n",
    "    plt.set_cmap(\"viridis\")"
   ]
  },
  {
   "cell_type": "markdown",
   "id": "f14f0ec3",
   "metadata": {},
   "source": [
    "# Material vs spatial descriptions\n",
    "\n",
    "In the lecture we introduced two alternative ways in which motion (flow or deformation) can be described: the material (Lagrangian) description or the spatial (Eulerian) description.\n",
    "\n",
    "As an example, we considered the spatial description of a 2D velocity field given by:\n",
    "\n",
    "$$v_i=\\frac{kx_i}{(1+kt)},$$\n",
    "\n",
    "where:\n",
    "\n",
    "* $v_i$ is the ith component of velocity,\n",
    "* $k$ is a constant,\n",
    "* $x_i$ is the ith component of the position vector,\n",
    "* $t$ is time.\n",
    "\n",
    "We then showed how to define the spatial description of acceleration in this case. We then went on to derive the corresponding material description of the displacement (path lines), velocity and acceleration of a particle in the flow. "
   ]
  },
  {
   "cell_type": "markdown",
   "id": "5b323fe6",
   "metadata": {},
   "source": [
    "## Spatial field"
   ]
  },
  {
   "cell_type": "markdown",
   "id": "a411657e",
   "metadata": {},
   "source": [
    "<div class=\"alert alert-info\"> <font color=black>\n",
    "    \n",
    "Let's visualise what we did using Python. We start by defining the spatial description of our velocity field as a function of $x$ ($x_1$), $y$ ($x_2$) and $t$."
   ]
  },
  {
   "cell_type": "code",
   "execution_count": null,
   "id": "64f288e2",
   "metadata": {},
   "outputs": [],
   "source": [
    "# Define the spatial description of a 2D velocity field as a function of x, y and time.\n",
    "# You can modify this to consider different spatial velocity functions. . . \n",
    "def velocity_spatial(x, y, t, k=1):\n",
    "    return k*x/(1.+k*t), k*y/(1.+k*t)"
   ]
  },
  {
   "cell_type": "markdown",
   "id": "af8daeef",
   "metadata": {},
   "source": [
    "Next we initialise a grid, time array, velocity arrays and tracer arrays"
   ]
  },
  {
   "cell_type": "code",
   "execution_count": null,
   "id": "8595bde4",
   "metadata": {},
   "outputs": [],
   "source": [
    "# Define a spatial grid with 100 x 100 points. . .\n",
    "X, Y = init_grid(Lx=5., Ly=5.)\n",
    "\n",
    "# Choose a time discretisation fine enough for integrating particle paths \n",
    "# with enough precision to reproduce the analytical solution discussed in the lecture.\n",
    "dt = 0.05\n",
    "tt = np.arange(0, 2 + dt, dt)\n",
    "nt = tt.size\n",
    "\n",
    "# Define three tracers to trace the pathlines\n",
    "px, py = tracers(p0=[[0.8, 0.2], [0.8, 0.8], [0.8, 1.4]], nt=nt)"
   ]
  },
  {
   "cell_type": "markdown",
   "id": "ee7fbbee",
   "metadata": {},
   "source": [
    "<div class=\"alert alert-info\"> <font color=black>\n",
    "\n",
    "We can now plot the velocity vector field, the velocity magnitude scalar field and our particle positions at the intial time, 𝑡=0. "
   ]
  },
  {
   "cell_type": "code",
   "execution_count": null,
   "id": "f5f77d96",
   "metadata": {},
   "outputs": [],
   "source": [
    "# Visualise the velocity field at time zero\n",
    "\n",
    "# Define velocity vector field and velocity magnitude scalar field\n",
    "k=1\n",
    "vx, vy = velocity_spatial(X, Y, 0., k=k)\n",
    "vmag = np.sqrt(vx**2 + vy**2)\n",
    "\n",
    "# Plot the velocity field at time zero\n",
    "plt.figure(figsize=(9,7))\n",
    "plt.subplot(aspect='equal')\n",
    "plt.suptitle(\"Velocity magnitude & Particle Positions at t = %1.1f s\" % tt[0])\n",
    "plt.xlabel('x')\n",
    "plt.ylabel('y')\n",
    "\n",
    "# Define a sensible fixed colorscale\n",
    "cc = np.arange(0, 7.5, 0.5)\n",
    "cl = np.arange(0, 8, 1)\n",
    "\n",
    "# Contour plot of velocity magnitude\n",
    "c = plt.contourf(X, Y, vmag, cc)\n",
    "cbar = plt.colorbar(c, shrink=0.8, ticks=cl)\n",
    "cbar.ax.set_title(\"$\\\\left| v \\\\right|$\")\n",
    "\n",
    "# Quiver plot of velocity vector field\n",
    "plt.quiver(X[::5,::5], Y[::5,::5], vx[::5,::5], vy[::5,::5], color='w')\n",
    "\n",
    "# Marker plots of tracer particles\n",
    "plt.plot(px[0,0], py[0,0], 'ro-')\n",
    "plt.plot(px[1,0], py[1,0], 'mo-')\n",
    "plt.plot(px[2,0], py[2,0], 'co-')\n",
    "\n",
    "plt.show()"
   ]
  },
  {
   "cell_type": "markdown",
   "id": "5e4730f4",
   "metadata": {},
   "source": [
    "## Pathlines"
   ]
  },
  {
   "cell_type": "markdown",
   "id": "109c8427",
   "metadata": {},
   "source": [
    "<div class=\"alert alert-info\"> <font color=black>\n",
    "\n",
    "To visualise the particle positions at different times, we can integrate their motion using the spatial velocity field. We will use a simple approximation to do this. We can then compare the predicted particle motion with what we get by considering the material description of the same flow field. "
   ]
  },
  {
   "cell_type": "code",
   "execution_count": null,
   "id": "e40839fd",
   "metadata": {},
   "outputs": [],
   "source": [
    "# Track the tracers in time by simple forward integration. . .\n",
    "for it in range(1,nt):\n",
    "    vx, vy = velocity_spatial(px[:,it-1], py[:,it-1], tt[it-1], k=k)\n",
    "    px[:,it] = px[:,it-1] + vx[:] * dt\n",
    "    py[:,it] = py[:,it-1] + vy[:] * dt\n",
    "    \n",
    "# Define velocity field at last time step\n",
    "vx, vy = velocity_spatial(X, Y, tt[nt-1], k=k)\n",
    "vmag = np.sqrt(vx**2 + vy**2)\n",
    "    \n",
    "# Plot the velocity field at time zero\n",
    "plt.figure(figsize=(9,7))\n",
    "plt.subplot(aspect='equal')\n",
    "plt.suptitle(\"Velocity Magnitude & Particle Trajectories at t = %1.1f s\" % tt[-1])\n",
    "plt.xlabel('x')\n",
    "plt.ylabel('y')\n",
    "\n",
    "# Define a sensible fixed colorscale\n",
    "cc = np.arange(0, 7.5, 0.5)\n",
    "cl = np.arange(0, 8, 1)\n",
    "\n",
    "# Contour plot of velocity magnitude\n",
    "c = plt.contourf(X, Y, vmag, cc)\n",
    "cbar = plt.colorbar(c, shrink=0.8, ticks=cl)\n",
    "cbar.ax.set_title(\"$\\\\left| v \\\\right|$\")\n",
    "\n",
    "# Quiver plot of velocity vector field\n",
    "plt.quiver(X[::5,::5], Y[::5,::5], vx[::5,::5], vy[::5,::5], color='w')\n",
    "\n",
    "# Marker plots of tracer particles, plot every 5th timestep\n",
    "plt.plot(px[0,::5], py[0,::5], 'ro-')\n",
    "plt.plot(px[1,::5], py[1,::5], 'mo-')\n",
    "plt.plot(px[2,::5], py[2,::5], 'co-')\n",
    "\n",
    "plt.show()"
   ]
  },
  {
   "cell_type": "markdown",
   "id": "ac932614",
   "metadata": {},
   "source": [
    "We see from this example that each particle moves the same distance in each time interval. In other words, each particle moves at a constant velocity and experiences no acceleration $a_i = 0$.\n",
    "\n",
    "Is this what we expect? In the lecture, we considered the material description of position $\\x'$, by noting that the spatial velocity field is equivalent to the partial derivative of a particle's position with respect to time:\n",
    "\n",
    "$$v_i=\\frac{kx_i}{(1+kt)} = \\frac{\\partial x_i'}{\\partial t} .$$\n",
    "\n",
    "Thus, by integrating with respect to time we derive the material description of position:\n",
    "\n",
    "$$x_i'(\\mathbf{\\xi}, t) = (1+kt)\\xi_i = \\xi_i + kt\\xi_i \\ ,$$\n",
    "\n",
    "where $\\xi_i$ is the $i^\\textrm{th}$ component of the initial position of the material and $kt\\xi_i$ is the displacement of the particle as a function of time. As $k$ is a constant, this shows that for a given initial position the particle does indeed move a constant distance in the same time (or at a constant velocity). "
   ]
  },
  {
   "cell_type": "markdown",
   "id": "bc5522a3",
   "metadata": {},
   "source": [
    "<div class=\"alert alert-info\"> <font color=black>\n",
    "\n",
    "### Exercise 1\n",
    "Implement this equation for the material position as a function of time in the plot above and show that it gives the same results as our numerical integration (to some numerical precision)."
   ]
  },
  {
   "cell_type": "code",
   "execution_count": null,
   "id": "a7d185dd",
   "metadata": {},
   "outputs": [],
   "source": [
    "def material_position(xi_x, xi_y, t, k=1):\n",
    "    return (1+k*t)*xi_x, (1+k*t)*xi_y\n",
    "\n",
    "# Define the particle position using our analytical function\n",
    "for it in range(1, nt):\n",
    "    px[:, it], py[:, it] = material_position(px[:, 0], py[:, 0], tt[it], k=k)"
   ]
  },
  {
   "cell_type": "code",
   "execution_count": null,
   "id": "2e3fc991",
   "metadata": {},
   "outputs": [],
   "source": [
    "# Plot the velocity field at time zero\n",
    "plt.figure(figsize=(9,7))\n",
    "plt.subplot(aspect='equal')\n",
    "plt.suptitle(\"Velocity Magnitude & Particle Trajectories at t = %1.1f s\" % tt[-1])\n",
    "plt.xlabel('x')\n",
    "plt.ylabel('y')\n",
    "\n",
    "# Define a sensible fixed colorscale\n",
    "cc = np.arange(0, 7.5, 0.5)\n",
    "cl = np.arange(0, 8, 1)\n",
    "\n",
    "# Contour plot of velocity magnitude\n",
    "c = plt.contourf(X, Y, vmag, cc)\n",
    "cbar = plt.colorbar(c, shrink=0.8, ticks=cl)\n",
    "cbar.ax.set_title(\"$\\\\left| v \\\\right|$\")\n",
    "\n",
    "# Quiver plot of velocity vector field\n",
    "plt.quiver(X[::5,::5], Y[::5,::5], vx[::5,::5], vy[::5,::5], color='w')\n",
    "\n",
    "# Marker plots of tracer particles, plot every 5th timestep\n",
    "plt.plot(px[0,::5], py[0,::5], 'ro-')\n",
    "plt.plot(px[1,::5], py[1,::5], 'mo-')\n",
    "plt.plot(px[2,::5], py[2,::5], 'co-')\n",
    "\n",
    "plt.show()"
   ]
  },
  {
   "cell_type": "markdown",
   "id": "35bf9a16",
   "metadata": {},
   "source": [
    "## Relating spatial and material descriptions\n",
    "\n",
    "Note that the expression above tells us the position $x_i'$ of a particle at time that was at the original position $\\vector{\\xi}$. If this expression is invertible (as it is in this case), we can rearrange it to give the initial position of a particle that is at any position $\\x$ in the flow at time $t$:\n",
    "\n",
    "$$\\xi(\\x, t) = \\frac{x_i}{(1+kt)}\\ .$$\n",
    "\n",
    "This allows us to convert between the spatial and material description of position."
   ]
  },
  {
   "cell_type": "markdown",
   "id": "35acfe68",
   "metadata": {},
   "source": [
    "<div class=\"alert alert-info\"> <font color=black>\n",
    "\n",
    "### Exercise 2\n",
    "\n",
    "Let's consider a similar problem, but defined the other way round. Suppose that we know the material description of position, such that the motion of a particle of the continuum is described as:\n",
    "\n",
    "$$x' = \\xi_1 + kt\\xi_2 \\ , \\, y' = \\xi_2 + kt\\xi_2 \\ .$$\n",
    "\n",
    "Note that in this case the displacement of the particle in $x$ and $y$ depends only on $\\xi_2$ (the original $y$ position).\n",
    "\n",
    "**(a)** Obtain the velocity of a particle in the material $\\mathbf{v}(\\mathbf{\\xi}, t)$ and spatial  $\\mathbf{v}(\\mathbf{\\x}, t)$ description.\n",
    "\n",
    "**(b)** Modify the functions above for the new spatial velocity field and material position and visualise the pathlines.\n",
    "    \n",
    "**(c)** Sketch how a unit square with one corner at the origin is deformed by the field after one second and two seconds."
   ]
  },
  {
   "cell_type": "markdown",
   "id": "b2091541",
   "metadata": {},
   "source": [
    "<div class=\"alert alert-success\"> <font color=black>\n",
    "\n",
    "### Exercise 3\n",
    "    \n",
    "If you are confused by the examples above and want to consider a simpler scenario to better understand these concepts, try to repeat this exercise with a simpler velocity field. \n",
    "    \n",
    "For example, consider the spatial description of a velocity field:\n",
    "    \n",
    "$$ v_i = k \\ .$$\n",
    "    \n",
    "In other words, the velocity field is constant everywhere; it does not depend on time or position.  \n",
    "    \n",
    "**(a)** Integrate this expression with respect to time to derive the material description of position with time.\n",
    "    \n",
    "**(b)** Plot the velocity field and pathlines of particles in this case."
   ]
  },
  {
   "cell_type": "markdown",
   "id": "af02aaee",
   "metadata": {},
   "source": [
    "<div class=\"alert alert-warning\"> <font color=black>\n",
    "\n",
    "### Exercise 4\n",
    "* Try a velocity field that does not lead to a zero acceleration.\n",
    "* Change initial tracer positions to get a further idea of how tracers move in different parts of the velocity field"
   ]
  },
  {
   "cell_type": "markdown",
   "id": "9a5908ae",
   "metadata": {},
   "source": [
    "## Time derivative\n",
    "\n",
    "The time derivative of any quantity in the material description is given by:\n",
    "\n",
    "$$\\frac{DP}{Dt} = \\frac{\\partial P}{\\partial t} + \\v \\cdot \\nabla P,$$\n",
    "\n",
    "where: \n",
    "* $P$ is the quantity of interest, which could be a scalar, vector or tensor field;\n",
    "* $\\v$ is the spatial description of the velocity vector field;\n",
    "* $\\nabla P$ is the gradient of $P$.\n",
    "\n",
    "In the lecture, we used this expression to derive the material description of acceleration (the rate of change of velocity with time) for our example velocity field. We found that the acceleration in the material description was zero, implying that any particle in the flow experiences no acceleration, exactly as shown above."
   ]
  },
  {
   "cell_type": "markdown",
   "id": "62a0028a",
   "metadata": {},
   "source": [
    "<div class=\"alert alert-info\"> <font color=black>\n",
    "\n",
    "### Exercise 5\n",
    "\n",
    "Consider the temperature field in spatial coordinates $\\x$ described by:\n",
    "\n",
    "$$T(\\x, t) = \\alpha(x + y)$$\n",
    "    \n",
    "**(a)** Find the material description of temperature if a particle is moving through the temperature field according to:\n",
    "\n",
    "$$x' = \\xi_1 + kt\\xi_2 \\ , \\, y' = \\xi_2 + kt\\xi_2 \\ ,$$\n",
    "\n",
    "where $k$ is a constant as before.\n",
    "\n",
    "**(b)** Determine the material time derivative of the temperature in both material and\n",
    "spatial descriptions. "
   ]
  },
  {
   "cell_type": "markdown",
   "id": "703e0ba3",
   "metadata": {},
   "source": [
    "<div class=\"alert alert-success\"> <font color=black>\n",
    "\n",
    "### Exercise 6\n",
    "**(a)** For the same temperature field, find the material description of temperature if the spatial velocity field is given by:\n",
    "\n",
    "$$v_i=\\frac{kx_i}{(1+kt)},$$\n",
    "\n",
    "where $k$ is a constant.\n",
    "\n",
    "**(b)** Determine the material time derivative of the temperature in both material and\n",
    "spatial descriptions. \n",
    "    \n",
    "**(c)** Modify the plotting code above to show the temperature field (rather than velocity magnitude), underneath the velocity vector field and pathlines. "
   ]
  },
  {
   "cell_type": "markdown",
   "id": "cb7f7308",
   "metadata": {},
   "source": [
    "# Infinitesimal strain"
   ]
  },
  {
   "cell_type": "markdown",
   "id": "88034e1b",
   "metadata": {},
   "source": [
    "## Strain and rotation tensors\n",
    "In the lecture we derived the infinitesimal strain tensor $\\tensor{\\epsilon}$, which describes internal deformation of material in a displacement field. It is related to the displacement gradient by:\n",
    "\n",
    "$$\\tensor{\\epsilon} = \\frac{1}{2}\\left(\\nabla \\u + \\nabla\\u^T\\right) ,$$\n",
    "\n",
    "where the displacement gradient is defined in Cartesian coordinates as:\n",
    "\n",
    "$$\\nabla \\u  = \\frac{\\partial u_j}{\\partial x_i} = \\left[\\begin{array}{ccc}\n",
    "                                \\frac{\\partial u_1}{\\partial x_1} & \\frac{\\partial u_2}{\\partial x_1} & \\frac{\\partial u_3}{\\partial x_1} \\\\\n",
    "                                \\frac{\\partial u_1}{\\partial x_2} & \\frac{\\partial u_2}{\\partial x_2} & \\frac{\\partial u_3}{\\partial x_2} \\\\ \n",
    "                                \\frac{\\partial u_1}{\\partial x_3} & \\frac{\\partial u_2}{\\partial x_3} & \\frac{\\partial u_3}{\\partial x_3}\n",
    "                             \\end{array} \\right] .$$\n",
    "\n",
    "Note also that the rotation tensor $\\tensor{\\omega}$ is defined as:\n",
    "\n",
    "$$\\tensor{\\omega} = \\frac{1}{2}\\left(\\nabla \\u - \\nabla\\u^T\\right) .$$\n",
    "\n",
    "The transpose displacement gradient tensor is the sum of strain and rotation tensors.\n",
    "\n",
    "$$ \\nabla \\u = \\tensor{\\epsilon} + \\tensor{\\omega}.$$"
   ]
  },
  {
   "cell_type": "markdown",
   "id": "7090aef6",
   "metadata": {},
   "source": [
    "## Strain tensor components\n",
    "\n",
    "Similar to the stress tensor, we can define the following results:\n",
    "\n",
    "* $\\tensor{\\epsilon} \\cdot \\ex = \\vector{d\\ex}' = (\\epsilon_{11}, \\epsilon_{21}, \\epsilon_{31})$ is the change in the unit vector in the $x_1$ direction caused by the deformation.\n",
    "\n",
    "* $\\ex \\cdot \\tensor{\\epsilon} \\cdot \\ex = \\epsilon_{11}$ is the unit elongation in the $x_1$ direction. In other words, it is the change in length in the $x_1$ direction of $\\ex$.\n",
    "\n",
    "* $\\ex \\cdot \\tensor{\\epsilon} \\cdot \\ey = \\epsilon_{12}$ is the change of the $\\ey$ unit vector in the $x_1$ direction. Because the strain tensor is symmetric, this is the same as the change of the $\\ex$ unit vector in the $x_2$ direction $\\epsilon_{21}$. Note also that so long as the change is small, $2\\epsilon_{12}$ is the change in the angle of a unit square, spanned by $\\ex$ and $\\ey$.\n",
    "\n",
    "More generally, \n",
    "\n",
    "* $\\tensor{\\epsilon}\\cdot \\hat{\\x} = \\vector{dx}'$, where the deformation of $\\hat{\\x}$ by strain $\\tensor{\\epsilon}$ results in the new vector $\\x' = \\hat{\\x} + \\vector{dx}'$;\n",
    "\n",
    "* $\\hat{\\x} \\cdot \\tensor{\\epsilon}\\cdot \\hat{\\x} = \\hat{\\x} \\cdot \\vector{dx}'$, which is the component of the deformation $\\vector{dx}'$ in the direction of $\\hat{\\x}$.\n"
   ]
  },
  {
   "cell_type": "markdown",
   "id": "33301e5c",
   "metadata": {},
   "source": [
    "<div class=\"alert alert-info\"> <font color=black>\n",
    "    \n",
    "### Exercise 7\n",
    "\n",
    "With reference to a rectangular Cartesian coordinate system, the state of strain at a point is given by:\n",
    "\n",
    "$$ \\tensor{\\epsilon} = \\left[\\begin{array}{rrr}\n",
    "                                5 & 3 & 0 \\\\\n",
    "                                3 & 4 & -1 \\\\\n",
    "                                0 & -1 & 2\n",
    "                             \\end{array} \\right] \\times 10^{-4} \\ .$$\n",
    "                             \n",
    "**(a)** What is the unit elongation (change in length divided by original length) in the direction of $2\\ex + 2\\ey + \\ez$?\n",
    "    \n",
    "**(b)** What is the change in angle between two vectors emanating from a point in the directions $2\\ex + 2\\ey + \\ez$ and $3\\ex - 6\\ez$, which are perperpendicular prior to deformation?"
   ]
  },
  {
   "cell_type": "markdown",
   "id": "e0be0e7a",
   "metadata": {},
   "source": [
    "## Displacement and strain fields"
   ]
  },
  {
   "cell_type": "markdown",
   "id": "a3513ba4",
   "metadata": {},
   "source": [
    "<div class=\"alert alert-info\"> <font color=black>\n",
    "\n",
    "In the lecture, we considered an example displacement field to develop our insight into strain. \n",
    "\n",
    "We considered the displacement field: $u_x = 0.1x^2, \\, u_y = 0.4xy$. Let's have a look at this field."
   ]
  },
  {
   "cell_type": "code",
   "execution_count": null,
   "id": "530cca15",
   "metadata": {},
   "outputs": [],
   "source": [
    "# Let's define our displacement field. . .\n",
    "def displacement_spatial(x, y, k1=0.1, k2=0.4):\n",
    "    return k1*x**2, k2*x*y"
   ]
  },
  {
   "cell_type": "code",
   "execution_count": null,
   "id": "c29cccab",
   "metadata": {},
   "outputs": [],
   "source": [
    "# Visualise the displacement field \n",
    "# Define a grid, displacement vector field and displacement magnitude scalar field\n",
    "k1=0.1; k2=0.4\n",
    "X, Y = init_grid()\n",
    "ux, uy = displacement_spatial(X, Y, k1=k1, k2=k2)\n",
    "umag = np.sqrt(ux**2 + uy**2)\n",
    "\n",
    "# Plot the fields\n",
    "plt.figure(figsize=(9,7))\n",
    "plt.subplot(aspect='equal')\n",
    "plt.contourf(X, Y, umag)\n",
    "plt.quiver(X[5::5,5::5], Y[5::5,5::5], ux[5::5,5::5], uy[5::5,5::5], color='w')\n",
    "plt.xlabel('x')\n",
    "plt.ylabel('y')"
   ]
  },
  {
   "cell_type": "markdown",
   "id": "3e1c0fab",
   "metadata": {},
   "source": [
    "<div class=\"alert alert-info\"> <font color=black>\n",
    "We see that the field is quite complex. Can you anticipate what type of deformation such a field would result in? This is what the strain tensor tells us, so let's remind ourselves of how we determine this."
   ]
  },
  {
   "cell_type": "markdown",
   "id": "d9703a7a",
   "metadata": {},
   "source": [
    "For this field the displacement gradient tensor $\\nabla \\u$ is:\n",
    "\n",
    "$$\\nabla \\u =  \\left[\\begin{array}{cc}\n",
    "                                \\frac{\\partial u_x}{\\partial x} & \\frac{\\partial u_y}{\\partial x} \\\\\n",
    "                                \\frac{\\partial u_x}{\\partial y} & \\frac{\\partial u_y}{\\partial y} \n",
    "                             \\end{array} \\right] ,$$\n",
    "                             \n",
    "Which is:\n",
    "\n",
    "$$\\nabla \\u =  \\left[\\begin{array}{cc}\n",
    "                                0.2 x & 0.4 y \\\\\n",
    "                                0 & 0.4x\n",
    "                             \\end{array} \\right] \n",
    "~~~~or~~~~\n",
    "\\nabla^T \\u =  \\left[\\begin{array}{cc}\n",
    "                                0.2 x & 0 \\\\\n",
    "                                0.4y & 0.4x\n",
    "                             \\end{array} \\right].$$"
   ]
  },
  {
   "cell_type": "markdown",
   "id": "a4790e59",
   "metadata": {},
   "source": [
    "<div class=\"alert alert-info\"> <font color=black>\n",
    "\n",
    "Let's visualise the displacement gradients for our field using a scalar field to represent each component of the $\\nabla \\u$."
   ]
  },
  {
   "cell_type": "code",
   "execution_count": null,
   "id": "36fffb21",
   "metadata": {},
   "outputs": [],
   "source": [
    "# Define the gradient of the displacement field for our example,\n",
    "# which we have derived by hand.\n",
    "# You can modify this function for different displacement fields. . .\n",
    "def gradient_displacement(x, y, k1=0.1, k2=0.4):\n",
    "    duxdx = 2*k1*x\n",
    "    duydx = k2*y\n",
    "    duxdy = 0*x\n",
    "    duydy = k2*x\n",
    "    return duxdx, duydx, duxdy, duydy"
   ]
  },
  {
   "cell_type": "code",
   "execution_count": null,
   "id": "2bf22702",
   "metadata": {},
   "outputs": [],
   "source": [
    "# Calculate the displacement gradient component fields\n",
    "duxdx, duydx, duxdy, duydy = gradient_displacement(X, Y, k1=k1, k2=k2)\n",
    "\n",
    "# Plot the transpose displacement gradient \n",
    "# as four separate scalar fields with the same colorscale\n",
    "plot_2D_tensor_field(X, Y, duxdx, duydx, duxdy, duydy, cmax=4.)"
   ]
  },
  {
   "cell_type": "markdown",
   "id": "c6131fc9",
   "metadata": {},
   "source": [
    "From this we see that the elongation in the $x$ and $y$ directions increases in the $x$-direction. There is no simple shear in the $x$-direction--i.e., initially vertical lines will remain vertical. The simple shear in the $y$-direction increases with $y$.\n",
    "\n",
    "Armed with the displacement gradients, we can now calculate the infinitesimal strain tensor field:\n",
    "\n",
    "$$\\tensor{\\epsilon} = \\frac{1}{2}\\left(\\nabla \\u + \\nabla\\u^T\\right) .$$"
   ]
  },
  {
   "cell_type": "markdown",
   "id": "35d16d42",
   "metadata": {},
   "source": [
    "<div class=\"alert alert-info\"> <font color=black>\n",
    "\n",
    "Let's visualise this in a similar way with a scalar field for each component of the tensor. . ."
   ]
  },
  {
   "cell_type": "code",
   "execution_count": null,
   "id": "4a5f9528",
   "metadata": {},
   "outputs": [],
   "source": [
    "# Define a function for calculating the 2D strain tensor components \n",
    "# from the displacement gradients. . .\n",
    "def strain_tensor_2D(x, y, k1, k2):\n",
    "    \n",
    "    # Calculate the displacement gradients\n",
    "    duxdx, duydx, duxdy, duydy = gradient_displacement(X, Y, k1=k1, k2=k2)\n",
    "\n",
    "    # Construct the strain tensor\n",
    "    Exx = duxdx\n",
    "    Exy = 0.5*(duxdy + duydx)\n",
    "    Eyx = Exy\n",
    "    Eyy = duydy\n",
    "    \n",
    "    return Exx, Exy, Eyx, Eyy"
   ]
  },
  {
   "cell_type": "code",
   "execution_count": null,
   "id": "9693052d",
   "metadata": {},
   "outputs": [],
   "source": [
    "# Calculate the strain tensor component fields\n",
    "Exx, Exy, Eyx, Eyy = strain_tensor_2D(X, Y, k1, k2)\n",
    "\n",
    "# Plot the displacement gradient as four separate scalar fields with the same colorscale\n",
    "plot_2D_tensor_field(X, Y, Exx, Exy, Eyx, Eyy, cmax=4., field='strain')"
   ]
  },
  {
   "cell_type": "markdown",
   "id": "4883754b",
   "metadata": {},
   "source": [
    "We can notice a few things:\n",
    "\n",
    "* The diagonal components are both positive everywhere, implying that shapes will increase in area when deformed.\n",
    "* Elongation in the $y$-direction is greater than in the $x$-direction ($\\epsilon_{yy} > \\epsilon_{xx}$).\n",
    "* Elongation in both directions increases with $x$, but is constant in $y$.\n",
    "* The strain tensor is symmetric, so the shear strains $\\epsilon_{xy}$ and $\\epsilon_{yx}$ are the same."
   ]
  },
  {
   "cell_type": "markdown",
   "id": "c91a5ff1",
   "metadata": {},
   "source": [
    "<div class=\"alert alert-info\"> <font color=black>\n",
    "\n",
    "With this insight, let's now look at how some simple shapes (squares) are deformed by the displacement field."
   ]
  },
  {
   "cell_type": "code",
   "execution_count": null,
   "id": "08813ce3",
   "metadata": {},
   "outputs": [],
   "source": [
    "def move_tracers(px, py, nt, dt=0.02, k1=0.1, k2=0.4):\n",
    "    for i in range(1,nt):\n",
    "        uxp, uyp = displacement_spatial(px[:,i-1], py[:,i-1], k1=k1, k2=k2)\n",
    "        px[:,i] = px[:,i-1] + uxp * dt\n",
    "        py[:,i] = py[:,i-1] + uyp * dt\n",
    "    return px, py\n",
    "\n",
    "nt=81\n",
    "# Define two squares formed by five tracers (with one overlap for plotting) \n",
    "px1, py1 = tracers(p0=[[0.6, 1.6], [1.2, 1.6], [1.2, 2.2], [0.6, 2.2], [0.6, 1.6]], nt=nt)\n",
    "px2, py2 = tracers(p0=[[1.6, 0.6], [1.6, 1.2], [2.2, 1.2], [2.2, 0.6], [1.6, 0.6]], nt=nt)\n",
    "\n",
    "# Move the tracers in the displacement field for nt increments\n",
    "px1, py1 = move_tracers(px1, py1, 81)\n",
    "px2, py2 = move_tracers(px2, py2, 81)\n",
    "\n",
    "# Plot the fields\n",
    "plt.set_cmap(\"viridis\")\n",
    "plt.figure(figsize=(9,7))\n",
    "plt.subplot(aspect='equal')\n",
    "plt.contourf(X, Y, umag)\n",
    "plt.quiver(X[5::5,5::5], Y[5::5,5::5], ux[5::5,5::5], uy[5::5,5::5], \n",
    "           color='w', scale=50, scale_units='inches')\n",
    "plt.plot(px1[:,0], py1[:,0], 'wo-')\n",
    "plt.plot(px1[:,-1], py1[:,-1], 'ro-')\n",
    "plt.plot(px2[:,0], py2[:,0], 'wo-')\n",
    "plt.plot(px2[:,-1], py2[:,-1], 'ro-')\n",
    "plt.xlabel('x')\n",
    "plt.ylabel('y')\n",
    "plt.show()"
   ]
  },
  {
   "cell_type": "markdown",
   "id": "01a03880",
   "metadata": {},
   "source": [
    "Here we see that the square on the right has undergone more extension in $x$ and $y$ (as well as more translation), but has been sheared slightly less in the $y$ direction. The sides of the square that were vertical have not been rotated, while the initially horizontal sides have been rotated."
   ]
  },
  {
   "cell_type": "markdown",
   "id": "ac531e34",
   "metadata": {},
   "source": [
    "<div class=\"alert alert-info\"> <font color=black>\n",
    "\n",
    "We can also plot the pathlines of the corner points to visualise the stages of deformation."
   ]
  },
  {
   "cell_type": "code",
   "execution_count": null,
   "id": "fd70b61d",
   "metadata": {},
   "outputs": [],
   "source": [
    "# Plot the tracer positions vs time. . .\n",
    "plt.set_cmap(\"viridis\")\n",
    "plt.figure(figsize=(9,7))\n",
    "plt.subplot(aspect='equal')\n",
    "plt.contourf(X, Y, umag)\n",
    "plt.quiver(X[5::5,5::5], Y[5::5,5::5], ux[5::5,5::5], uy[5::5,5::5], \n",
    "           color='w', scale=50, scale_units='inches')\n",
    "plt.plot(px1[:,::10], py1[:,::10], 'ro', alpha=0.5)\n",
    "plt.plot(px1[:,-1], py1[:,-1], 'ro-')\n",
    "plt.plot(px2[:,::10], py2[:,::10], 'co', alpha=0.5)\n",
    "plt.plot(px2[:,-1], py2[:,-1], 'co-')\n",
    "plt.xlabel('x')\n",
    "plt.ylabel('y')\n",
    "plt.show()"
   ]
  },
  {
   "cell_type": "markdown",
   "id": "dea95039",
   "metadata": {},
   "source": [
    "<div class=\"alert alert-info\"> <font color=black>\n",
    "\n",
    "We can also visualise the rotation tensor in a similar way. "
   ]
  },
  {
   "cell_type": "markdown",
   "id": "e29b0b47",
   "metadata": {},
   "source": [
    "Recall that the rotation tensor in 2D Cartesian coordinates is given by:\n",
    "\n",
    "$$\\tensor{\\omega} = \\frac{1}{2}\\left(\\nabla \\u - \\nabla\\u^T\\right) .$$"
   ]
  },
  {
   "cell_type": "code",
   "execution_count": null,
   "id": "7f22911d",
   "metadata": {},
   "outputs": [],
   "source": [
    "# Define a function for calculating the 2D rotation tensor components \n",
    "# from the displacement gradients. . .\n",
    "def rotation_tensor_2D(x, y, k1, k2):\n",
    "    \n",
    "    # Calculate the displacement gradients\n",
    "    duxdx, duydx, duxdy, duydy = gradient_displacement(X, Y, k1=k1, k2=k2)\n",
    "\n",
    "    # Construct the strain tensor\n",
    "    Wxx = 0.*x\n",
    "    Wxy = 0.5*(duydx - duxdy)\n",
    "    Wyx = 0.5*(duxdy - duydx)\n",
    "    Wyy = 0.*x\n",
    "    \n",
    "    return Wxx, Wxy, Wyx, Wyy"
   ]
  },
  {
   "cell_type": "code",
   "execution_count": null,
   "id": "e5200c06",
   "metadata": {},
   "outputs": [],
   "source": [
    "# Calculate the strain tensor component fields\n",
    "Wxx, Wxy, Wyx, Wyy = rotation_tensor_2D(X, Y, k1, k2)\n",
    "\n",
    "# Plot the displacement gradient as four separate scalar fields with the same colorscale\n",
    "plot_2D_tensor_field(X, Y, Wxx, Wxy, Wyx, Wyy, cmin=-2.5, cmax=2.5, field='rotation')"
   ]
  },
  {
   "cell_type": "markdown",
   "id": "219b732a",
   "metadata": {},
   "source": [
    "<div class=\"alert alert-success\"> <font color=black>\n",
    "    \n",
    "### Exercise 8\n",
    "    \n",
    "If you find the example above too complicated and/or you would like to develop more intuition about the deformation described by different displacement fields and strain tensors, you might like to implement different `displacement_spatial` functions and their corresponding `gradient_displacement` function, which you will have to work out by hand.\n",
    "    \n",
    "Some displacement fields you might analyse, in order of complexity are:\n",
    "    \n",
    "Pure translation: \n",
    "$$u_x = k_1, \\, u_y = k_2$$\n",
    "       \n",
    "Pure rotation:\n",
    "$$u_x = k_1y, \\, u_y = -k_2x$$\n",
    "    \n",
    "Pure shear:\n",
    "$$u_x = k_1x, \\, u_y = -k_2y$$\n"
   ]
  },
  {
   "cell_type": "markdown",
   "id": "84b6cd42",
   "metadata": {},
   "source": [
    "# Principal strains and strain invariants"
   ]
  },
  {
   "cell_type": "markdown",
   "id": "a86da6c9",
   "metadata": {},
   "source": [
    "As with the stress tensor, we can define a rotated coordinate system in which the strain tensor is diagonal--i.e., all off-diagonal components are zero. The diagonal components of this tensor are the _principal_ strains (maximum, minimum and intermediate fractional length changes) and the corresponding coordinate directions are the principal strain directions.\n",
    "\n",
    "To find the principal strains and associated directions we need to solve the eigenvalue problem for the strain tensor. \n",
    "\n",
    "We can also define measures of strain that are invariant to the coordinate system. For example, the trace of the strain tensor (the sum of the diagonal components) is the volume change associated with the deformation. \n",
    "\n",
    "$$ \\mathrm{tr}(\\tensor{\\epsilon}) = \\theta = \\epsilon_{ii} .$$\n",
    "\n",
    "Finally, we can separate the total strain tensor into an isotropic and deviatoric part:\n",
    "\n",
    "$$\\epsilon_{ij} = \\frac{\\theta}{3}\\delta_{ij} + \\epsilon_{ij}' .$$\n",
    "\n",
    "where $\\epsilon_{ij}'$ is known as the deviatoric strain. The isotropic part describes volume change only; the deviatoric part describes change in shape only and involves no change in volume. "
   ]
  },
  {
   "cell_type": "markdown",
   "id": "b2deb632",
   "metadata": {},
   "source": [
    "<div class=\"alert alert-info\"> <font color=black>\n",
    "\n",
    "### Exercise 9\n",
    "\n",
    "For the displacement field $u_1 = k\\xi_1^2, \\, u_2 = k\\xi_2\\xi_3, \\, u_3 = k(2\\xi_1\\xi_3 + \\xi_1^2)$ and $k = 10^{-6}$, find:\n",
    "    \n",
    "**(a)** the infinitesimal strain tensor $\\tensor{\\epsilon}$"
   ]
  },
  {
   "cell_type": "markdown",
   "id": "55095dbd",
   "metadata": {},
   "source": [
    "<div class=\"alert alert-warning\"> <font color=black>\n",
    "    \n",
    "**(b)** the _maximum_ unit elongation for an element initially at $\\xi = (1, 0, 0)$. "
   ]
  },
  {
   "cell_type": "markdown",
   "id": "40871b69",
   "metadata": {},
   "source": [
    "# Strain rate\n",
    "\n",
    "In similar way as for the strain tensor, a tensor that describes the rate of change of deformation can be defined from the velocity gradient:\n",
    "\n",
    "$$\\nabla \\v  = \\frac{\\partial v_i}{\\partial x_j} = \\left[\\begin{array}{ccc}\n",
    "                                \\frac{\\partial v_1}{\\partial x_1} & \\frac{\\partial v_2}{\\partial x_1} & \\frac{\\partial v_3}{\\partial x_1} \\\\\n",
    "                                \\frac{\\partial v_1}{\\partial x_2} & \\frac{\\partial v_2}{\\partial x_2} & \\frac{\\partial v_3}{\\partial x_2} \\\\ \n",
    "                                \\frac{\\partial v_1}{\\partial x_3} & \\frac{\\partial v_2}{\\partial x_3} & \\frac{\\partial v_3}{\\partial x_3}\n",
    "                             \\end{array} \\right] .$$\n",
    "\n",
    "\n",
    "The strain rate tensor $\\tensor{D}$ is defined as:\n",
    "\n",
    "$$\\tensor{D} = \\frac{1}{2}\\left(\\nabla \\v + \\nabla\\v^T\\right) .$$\n",
    "\n",
    "\n",
    "The vorticity tensor $\\tensor{W}$ is defined as:\n",
    "\n",
    "$$\\tensor{W} = \\frac{1}{2}\\left(\\nabla \\v - \\nabla\\v^T\\right) .$$\n",
    "\n",
    "The velocity gradient tensor is the sum of strain rate and vorticity tensors.\n",
    "\n",
    "$$ \\nabla \\v = \\tensor{D} + \\tensor{W}.$$"
   ]
  },
  {
   "cell_type": "markdown",
   "id": "7d44955a",
   "metadata": {},
   "source": [
    "# Finite strain\n",
    "\n",
    "The _infinitesimal_ strain tensor and our analysis up to this point has assumed that in any given increment of deformation, the strain is small or, equivalently, that the displacement gradient is constant over the strain increment. For non-linear displacement fields, this assumption will not be valid and so we must either apply the infinitesimal strain tensor many times in small increments to describe the deformation or use so-called _finite_ strain theory, which uses fewer approximations to describe deformation.  \n",
    "\n",
    "Recall that the deformation of an element $\\vector{dx}'$ caused by a displacement field is given by:\n",
    "\n",
    "$$\\vector{dx}' = \\vector{dx} + \\nabla{\\u}\\cdot\\vector{dx} .$$\n",
    "\n",
    "It can be shown that according to finite strain theory, the finite deformation tensor (or Lagrange strain tensor) $\\tensor{E^*}$ is defined as:\n",
    "\n",
    "$$\\tensor{E^*} = \\frac{1}{2}\\left[\\nabla\\u + (\\nabla\\u)^T + (\\nabla\\u)^T\\cdot\\nabla\\u\\right] ,$$\n",
    "\n",
    "which we note includes extra terms $(\\nabla\\u)^T.\\nabla\\u$ that are not part of the infinitesismal strain tensor $\\tensor{E}$. As a result, the components of $\\tensor{E^*}$ and $\\tensor{\\epsilon}$ will differ for large strains and have slightly different interpretations. The advanced exercise below will help build your intuition for this."
   ]
  },
  {
   "cell_type": "markdown",
   "id": "d7afa5f3",
   "metadata": {},
   "source": [
    "<div class=\"alert alert-warning\"> <font color=black>\n",
    "\n",
    "### Exercise 10\n",
    "    \n",
    "Given the 2D displacement field: $u_1= k\\xi_2^2$, $u_2=0$, where $k=10^{-4}$:\n",
    "    \n",
    "**(a)** Sketch the deformation of a unit square OABC, with as corner points: $O=(0,0)$, $A=(1,0)$, $B=(1,1)$, $C(0,1)$.\n",
    "    \n",
    "**(b)** Calculate $\\nabla\\u$, $(\\nabla\\u)^T$ and $(\\nabla\\u)^T.\\nabla\\u$ and therefore write down the Lagrange strain tensor $\\tensor{E^*}$.\n",
    "\n",
    "**(c)** Using the displacement gradient $\\nabla\\u$ directly (i.e., not by calculating the infinitesimal strain tensor), find the deformed vectors $\\vector{dx}'^{(1)}$ and $\\vector{dx}'^{(2)}$ of the material elements $\\vector{d\\xi}^{(1)} = d\\xi_1\\ex$ and $\\vector{d\\xi}^{(2)} = d\\xi_2\\ey$, which were originally at point C(0,1).\n",
    "\n",
    "**(d)** Determine the difference between the deformed and undeformed lengths of the two elements.\n",
    "    \n",
    "**(e)** Determine the change in angle between the two elements. \n",
    "\n",
    "**(f)** Obtain the infinitesimal strain tensor $\\tensor{\\epsilon}$.\n",
    "    \n",
    "**(g)** Estimate the unit elongation for material elements $\\vector{d\\xi}^{(1)} = d\\xi_1\\ex$ and $\\vector{d\\xi}^{(2)} = d\\xi_2\\ey$ using the infinitesimal strain tensor $\\tensor{\\epsilon}$. \n",
    "\n",
    "**(h)** And also find the decrease in angle between these two elements from the strain tensor $\\tensor{\\epsilon}$.\n",
    "\n",
    "**(i)** Compare the answers from (g), (h) and (d), (e)."
   ]
  },
  {
   "cell_type": "code",
   "execution_count": null,
   "id": "dd33c530",
   "metadata": {},
   "outputs": [],
   "source": [
    "# Let's define our displacement field. . .\n",
    "def displacement_spatial(x, y, k1=0.4, k2=0.4):\n",
    "    #Return a field of k1, k2 rather than scalars. . .\n",
    "    return k1*y**2, 0*y \n",
    "\n",
    "# Gradients are all zero everywhere\n",
    "def gradient_displacement(x, y, k1=0.4, k2=0.4):\n",
    "    duxdx = 0*x\n",
    "    duydx = 0*y\n",
    "    duxdy = 2*k1*y\n",
    "    duydy = 0*x\n",
    "    return duxdx, duydx, duxdy, duydy"
   ]
  },
  {
   "cell_type": "code",
   "execution_count": null,
   "id": "15ff3ca2",
   "metadata": {},
   "outputs": [],
   "source": [
    "# Let's visualise this strain field. If we use k=1.E-4, we won't see any deformation,\n",
    "# so let's set this as 0.2 to exaggerate the effects of the deformation. . .\n",
    "k1=0.2; k2=0\n",
    "\n",
    "# Define the constants of the displacement field and number of strain increments\n",
    "nt=81\n",
    "\n",
    "# Define one squares formed by five tracers (with one overlap for plotting) \n",
    "px1, py1 = tracers(p0=[[0., 0.], [1., 0.], [1., 1.], [0., 1.], [0., 0.]], nt=nt)\n",
    "\n",
    "# Define the displacement field and magnitude\n",
    "X, Y = init_grid(Lx=1.5, Ly=1.5)\n",
    "ux, uy = displacement_spatial(X, Y, k1=k1, k2=k2)\n",
    "umag = np.sqrt(ux**2 + uy**2)\n",
    "\n",
    "# Move the tracers in the displacement field for nt increments\n",
    "px1, py1 = move_tracers(px1, py1, 81, k1=k1, k2=k2)\n",
    "\n",
    "# Calculate the displacement gradient component fields\n",
    "duxdx, duydx, duxdy, duydy = gradient_displacement(X, Y, k1=k1, k2=k2)\n",
    "\n",
    "# Plot the displacement gradient as four separate scalar fields with the same colorscale\n",
    "plot_2D_tensor_field(X, Y, duxdx, duydx, duxdy, duydy, cmax=1.)\n",
    "\n",
    "# Calculate the strain tensor component fields\n",
    "Exx, Exy, Eyx, Eyy = strain_tensor_2D(X, Y, k1, k2)\n",
    "\n",
    "# Plot the displacement gradient as four separate scalar fields with the same colorscale\n",
    "plot_2D_tensor_field(X, Y, Exx, Exy, Eyx, Eyy, cmax=1., field='strain')\n",
    "\n",
    "# Plot the fields\n",
    "plt.set_cmap(\"viridis\")\n",
    "plt.figure(figsize=(9,7))\n",
    "plt.subplot(aspect='equal')\n",
    "plt.contourf(X, Y, umag)\n",
    "plt.quiver(X[5::5,5::5], Y[5::5,5::5], ux[5::5,5::5], uy[5::5,5::5], color='w')\n",
    "plt.plot(px1[:,0], py1[:,0], 'wo-')\n",
    "plt.plot(px1[:,-1], py1[:,-1], 'ro-')\n",
    "plt.xlabel('x')\n",
    "plt.ylabel('y')"
   ]
  }
 ],
 "metadata": {
  "kernelspec": {
   "display_name": "Python 3 (ipykernel)",
   "language": "python",
   "name": "python3"
  },
  "language_info": {
   "codemirror_mode": {
    "name": "ipython",
    "version": 3
   },
   "file_extension": ".py",
   "mimetype": "text/x-python",
   "name": "python",
   "nbconvert_exporter": "python",
   "pygments_lexer": "ipython3",
   "version": "3.9.18"
  }
 },
 "nbformat": 4,
 "nbformat_minor": 5
}
