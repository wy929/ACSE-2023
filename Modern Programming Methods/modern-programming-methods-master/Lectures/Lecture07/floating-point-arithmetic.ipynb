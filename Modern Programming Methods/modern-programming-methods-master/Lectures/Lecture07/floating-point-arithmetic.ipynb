{
 "cells": [
  {
   "cell_type": "code",
   "execution_count": 1,
   "id": "78a3a5b7",
   "metadata": {
    "slideshow": {
     "slide_type": "skip"
    },
    "tags": []
   },
   "outputs": [],
   "source": [
    "import numpy as np\n",
    "import matplotlib.pyplot as plt\n",
    "import matplotlib.ticker as ticker\n",
    "\n",
    "def single_axis(figsize=(8, 0.5)):\n",
    "    fig, ax = plt.subplots(figsize=figsize)\n",
    "    ax.spines['right'].set_color('none')\n",
    "    ax.spines['left'].set_color('none')\n",
    "    ax.spines['top'].set_color('none')\n",
    "    ax.yaxis.set_major_locator(ticker.NullLocator())\n",
    "    ax.xaxis.set_major_locator(ticker.AutoLocator())\n",
    "    ax.xaxis.set_minor_locator(ticker.AutoMinorLocator())\n",
    "\n",
    "    return fig, ax"
   ]
  },
  {
   "cell_type": "markdown",
   "id": "39cc42dd",
   "metadata": {
    "slideshow": {
     "slide_type": "slide"
    }
   },
   "source": [
    "# Floating-point representation\n",
    "\n",
    "* [**Marijan Beg**](https://www.imperial.ac.uk/people/m.beg)"
   ]
  },
  {
   "cell_type": "markdown",
   "id": "2ac226e9",
   "metadata": {
    "slideshow": {
     "slide_type": "slide"
    }
   },
   "source": [
    "## How to find me?\n",
    "\n",
    "* [**Marijan Beg**](https://www.imperial.ac.uk/people/m.beg)\n",
    "* email: m.beg@imperial.ac.uk\n",
    "* GitHub: `@marijanbeg`\n",
    "* MS Teams: `@Beg, Marijan`\n",
    "* office: 4.95, Royal School of Mines (4th floor)"
   ]
  },
  {
   "cell_type": "markdown",
   "id": "407439d8",
   "metadata": {
    "slideshow": {
     "slide_type": "slide"
    }
   },
   "source": [
    "## Intended Learning Outcomes\n",
    "\n",
    "By the end of this lecture you should be able to:\n",
    "\n",
    "* Represent numbers in **different number systems**;\n",
    "* Encode and decode floating-point numbers using **IEEE-754 standard**;\n",
    "* Explain and calculate **round-off errors**;\n",
    "* Apply **Theorem on loss of precision**;\n",
    "* Use different techniques to **reduce the loss of precision** by subtraction."
   ]
  },
  {
   "cell_type": "markdown",
   "id": "441be9d1",
   "metadata": {
    "cell_style": "center",
    "slideshow": {
     "slide_type": "slide"
    }
   },
   "source": [
    "## Representation of real numbers\n",
    "\n",
    "- Every real number $x \\in \\mathbb{R}$ is a **point** on the real axis."
   ]
  },
  {
   "cell_type": "code",
   "execution_count": 2,
   "id": "a5e2a580",
   "metadata": {
    "cell_style": "center",
    "slideshow": {
     "slide_type": "fragment"
    },
    "tags": []
   },
   "outputs": [
    {
     "data": {
      "image/png": "[encoded data removed]",
      "text/plain": [
       "<Figure size 2000x100 with 1 Axes>"
      ]
     },
     "metadata": {},
     "output_type": "display_data"
    }
   ],
   "source": [
    "fig, ax = single_axis(figsize=(20, 1))\n",
    "ax.set_xlim(-10, 10)\n",
    "ax.set_ylim(0, 0.1)\n",
    "ax.scatter(0.466, 0, s=100)\n",
    "plt.xlabel('$\\mathbb{R}$')\n",
    "plt.show()"
   ]
  },
  {
   "cell_type": "markdown",
   "id": "b8431dfb",
   "metadata": {
    "slideshow": {
     "slide_type": "fragment"
    }
   },
   "source": [
    "- How do we communicate them? How do we represent real numbers?"
   ]
  },
  {
   "cell_type": "markdown",
   "id": "c35d5bb7",
   "metadata": {
    "cell_style": "center",
    "slideshow": {
     "slide_type": "slide"
    }
   },
   "source": [
    "### Example: Decimal (base-10) representation\n",
    "\n",
    "- $x = 28\\,763.437$\n",
    "\n",
    "- **Integer part**:\n",
    "$$\n",
    "\\begin{split}\n",
    "28\\,763 & = 20\\,000 + 8\\,000 + 700 + 60 + 3 \\\\\n",
    "        & = 2 \\times 10^{4} + 8 \\times 10^{3} + 7 \\times 10^{2} + 6 \\times 10^{1} + 3 \\times 10^{0}\n",
    "\\end{split}\n",
    "$$\n",
    "\n",
    "- **Fractional part**:\n",
    "$$\n",
    "\\begin{split}\n",
    "0.437 & = \\frac{4}{10} + \\frac{3}{100} + \\frac{7}{1\\,000}\\\\\n",
    "      & = 4 \\times 10^{-1} + 3 \\times 10^{-2} + 7 \\times 10^{-3}\n",
    "\\end{split}\n",
    "$$"
   ]
  },
  {
   "cell_type": "code",
   "execution_count": 3,
   "id": "74e353c5",
   "metadata": {
    "slideshow": {
     "slide_type": "fragment"
    },
    "tags": []
   },
   "outputs": [
    {
     "name": "stdout",
     "output_type": "stream",
     "text": [
      "28763.437\n"
     ]
    }
   ],
   "source": [
    "x = 28763.437\n",
    "print(x)"
   ]
  },
  {
   "cell_type": "markdown",
   "id": "d45453b2",
   "metadata": {
    "slideshow": {
     "slide_type": "slide"
    }
   },
   "source": [
    "### General decimal (base-10) expression\n",
    "\n",
    "$$\n",
    "a_{n}a_{n-1}\\ldots a_1 a_0 \\, . \\, b_{1} b_{2} b_{3} \\ldots = \\sum_{i=0}^{n} a_{i} \\times 10^{i} + \\sum_{i=1}^{\\infty} b_{i} \\times 10^{-i}\n",
    "$$\n",
    "\n",
    "- digits: $a_{i}, b_{i} \\in \\mathbb{Z}_{10} = \\{0, 1, 2, \\ldots, 9\\}$\n",
    "\n",
    "| | |\n",
    "| - | - |\n",
    "| $a_{n}a_{n-1}\\ldots a_1 a_0$ | integer part |\n",
    "| $.$ | decimal point |\n",
    "| $b_{1} b_{2} b_{3} \\ldots$ | fractional part |"
   ]
  },
  {
   "cell_type": "markdown",
   "id": "9e13dacf",
   "metadata": {
    "slideshow": {
     "slide_type": "slide"
    }
   },
   "source": [
    "### Example: Binary (base-2) representation\n",
    "\n",
    "$$x = (1\\,011.101)_{2}$$\n",
    "\n",
    "- **Note:** We write $(1\\,011.101)_{2}$ to ensure we do not interpret the number as decimal (*one thousand and eleven point one zero one*)\n",
    "\n",
    "- Integer part:\n",
    "$$\n",
    "\\begin{split}\n",
    "(1\\,011)_{2} & = 1 \\times 2^{3} + 0 \\times 2^{2} + 1 \\times 2^{1} + 1 \\times 2^{0}\\\\\n",
    "             & = (11)_{10}\n",
    "\\end{split}\n",
    "$$\n",
    "\n",
    "- Fractional part:\n",
    "$$\n",
    "\\begin{split}\n",
    "(0.101)_{2} & = \\frac{1}{2} + \\frac{0}{4} + \\frac{1}{8}\\\\\n",
    "             & = 1 \\times 2^{-1} + 0 \\times 2^{-2} + 1 \\times 2^{-3}\\\\\n",
    "             & = (0.625)_{10}\n",
    "\\end{split}\n",
    "$$"
   ]
  },
  {
   "cell_type": "markdown",
   "id": "040337d1",
   "metadata": {
    "slideshow": {
     "slide_type": "slide"
    }
   },
   "source": [
    "How do we write binary numbers in Python?\n",
    "\n",
    "```python\n",
    "x = 0b1011.101\n",
    "x\n",
    "\n",
    "  File \"/var/folders/lr/hsg067s53m3bw35fmxmfyb680000gn/T/ipykernel_72996/2192814046.py\", line 1\n",
    "    x = 0b1011.101\n",
    "              ^\n",
    "SyntaxError: invalid syntax\n",
    "```\n",
    "\n",
    "We can write integers in binary format:"
   ]
  },
  {
   "cell_type": "code",
   "execution_count": 4,
   "id": "ef86d376",
   "metadata": {
    "slideshow": {
     "slide_type": "fragment"
    },
    "tags": []
   },
   "outputs": [
    {
     "name": "stdout",
     "output_type": "stream",
     "text": [
      "11\n"
     ]
    }
   ],
   "source": [
    "x = 0b1011\n",
    "print(x)  # we get decimal as the output"
   ]
  },
  {
   "cell_type": "code",
   "execution_count": 5,
   "id": "73d7fb49",
   "metadata": {
    "slideshow": {
     "slide_type": "fragment"
    },
    "tags": []
   },
   "outputs": [
    {
     "name": "stdout",
     "output_type": "stream",
     "text": [
      "11\n"
     ]
    }
   ],
   "source": [
    "x = int('1011', base=2)\n",
    "print(x)"
   ]
  },
  {
   "cell_type": "markdown",
   "id": "8abcac08",
   "metadata": {
    "slideshow": {
     "slide_type": "slide"
    }
   },
   "source": [
    "### General binary (base-2) expression\n",
    "\n",
    "$$\n",
    "a_{n} a_{n-1}\\ldots a_1 a_0 \\, . \\, b_{1} b_{2} b_{3} \\ldots = \\sum_{i=0}^{n} a_{i} \\times 2^{i} + \\sum_{i=1}^{\\infty} b_{i} \\times 2^{-i}\n",
    "$$\n",
    "\n",
    "- $a_{i}, b_{i} \\in \\mathbb{Z}_{2} = \\{0, 1\\}$\n",
    "\n",
    "| | |\n",
    "| - | - |\n",
    "| $a_{n} a_{n-1}\\ldots a_1 a_0$ | integer part |\n",
    "| $.$ | radix point |\n",
    "| $b_{1} b_{2} b_{3} \\ldots$ | fractional part |"
   ]
  },
  {
   "cell_type": "markdown",
   "id": "ea5cbfa2",
   "metadata": {
    "slideshow": {
     "slide_type": "slide"
    }
   },
   "source": [
    "## Exercise 1\n",
    "\n",
    "Write function `bin2dec(x2)` which takes a positive binary number\n",
    "\n",
    "$$(x)_{2} = a_{n} a_{n-1}\\ldots a_1 a_0 \\, . \\, b_{1} b_{2} b_{3} \\ldots$$\n",
    "\n",
    "as a string (e.g. `'1011.101'`), computes its decimal equivalent $(x)_{10}$, and returns it as a float. Input string does not have to contain fractional part - radix point can be missing."
   ]
  },
  {
   "cell_type": "code",
   "execution_count": 6,
   "id": "2438cbf6",
   "metadata": {
    "slideshow": {
     "slide_type": "-"
    },
    "tags": []
   },
   "outputs": [],
   "source": [
    "def bin2dec(x2):\n",
    "    # Write your code here.\n",
    "    pass"
   ]
  },
  {
   "cell_type": "code",
   "execution_count": 7,
   "id": "7603729d",
   "metadata": {
    "slideshow": {
     "slide_type": "skip"
    },
    "tags": []
   },
   "outputs": [],
   "source": [
    "def bin2dec(x2):\n",
    "    if '.' in x2:\n",
    "        integer2, fractional2 = x2.split('.')\n",
    "    else:\n",
    "        integer2, fractional2 = x2, '0'\n",
    "    \n",
    "    # Integer part\n",
    "    integer10 = sum(int(digit) * 2**i for i, digit in enumerate(reversed(integer2)))\n",
    "        \n",
    "    # Fractional part\n",
    "    fractional10 = sum(int(digit) * 2**(-i) for i, digit in enumerate(fractional2, start=1))\n",
    "    \n",
    "    return integer10 + fractional10"
   ]
  },
  {
   "cell_type": "code",
   "execution_count": 8,
   "id": "b02ac3f7",
   "metadata": {
    "slideshow": {
     "slide_type": "skip"
    },
    "tags": []
   },
   "outputs": [],
   "source": [
    "assert bin2dec('110101') == 53\n",
    "assert abs(bin2dec('.01101') - 0.40625) < 1e-10\n",
    "assert abs(bin2dec('110101.01101') - 53.40625) < 1e-10"
   ]
  },
  {
   "cell_type": "markdown",
   "id": "fd6ae5af",
   "metadata": {
    "slideshow": {
     "slide_type": "slide"
    }
   },
   "source": [
    "### General base-$\\beta$ expression\n",
    "\n",
    "$$\n",
    "a_{n} a_{n-1}\\ldots a_1 a_0 \\, . \\, b_{1} b_{2} b_{3} \\ldots = \\sum_{i=0}^{n} a_{i} \\times \\beta^{i} + \\sum_{i=1}^{\\infty} b_{i} \\times \\beta^{-i}\n",
    "$$\n",
    "\n",
    "- $\\beta \\in \\{x \\in \\mathbb{N} | x > 1\\}$\n",
    "- $a_{i}, b_{i} \\in \\mathbb{Z}_{\\beta} = \\{0, \\ldots, \\beta-1\\}$\n",
    "\n",
    "| binary | decimal | octal | hexadecimal |\n",
    "| -- | - | - | - |\n",
    "| $\\beta$ = 2 | $\\beta$ = 10 | $\\beta$ = 8 | $\\beta$ = 16 |\n",
    "\n",
    "- For $\\beta > 10$, we need additional symbols for $d_{i} > 9$, since we can interpret 10 as 1 and 0. For instance, in hexadecimal:\n",
    "\n",
    "$$0, 1, 2, \\ldots, 9, \\mathrm{a} (10), \\mathrm{b} (11), \\mathrm{c} (12), \\mathrm{d} (13), \\mathrm{e} (14), \\mathrm{f} (15)$$"
   ]
  },
  {
   "cell_type": "code",
   "execution_count": 9,
   "id": "b059e4f3",
   "metadata": {
    "slideshow": {
     "slide_type": "slide"
    },
    "tags": []
   },
   "outputs": [
    {
     "data": {
      "text/plain": [
       "True"
      ]
     },
     "execution_count": 9,
     "metadata": {},
     "output_type": "execute_result"
    }
   ],
   "source": [
    "int('11111100101', base=2) == 0b11111100101 == 2021  # binary"
   ]
  },
  {
   "cell_type": "code",
   "execution_count": 10,
   "id": "cc61306f",
   "metadata": {
    "slideshow": {
     "slide_type": "fragment"
    },
    "tags": []
   },
   "outputs": [
    {
     "data": {
      "text/plain": [
       "True"
      ]
     },
     "execution_count": 10,
     "metadata": {},
     "output_type": "execute_result"
    }
   ],
   "source": [
    "int('7e5', base=16) == 0x7e5 == 2021  # hexadecimal"
   ]
  },
  {
   "cell_type": "code",
   "execution_count": 11,
   "id": "0098c3c0",
   "metadata": {
    "slideshow": {
     "slide_type": "fragment"
    },
    "tags": []
   },
   "outputs": [
    {
     "data": {
      "text/plain": [
       "True"
      ]
     },
     "execution_count": 11,
     "metadata": {},
     "output_type": "execute_result"
    }
   ],
   "source": [
    "int('3745', base=8) == 0o3745 == 2021  # octal"
   ]
  },
  {
   "cell_type": "code",
   "execution_count": 12,
   "id": "34713832",
   "metadata": {
    "slideshow": {
     "slide_type": "fragment"
    },
    "tags": []
   },
   "outputs": [
    {
     "data": {
      "text/plain": [
       "True"
      ]
     },
     "execution_count": 12,
     "metadata": {},
     "output_type": "execute_result"
    }
   ],
   "source": [
    "int('431', base=5) == 116  # base-5"
   ]
  },
  {
   "cell_type": "markdown",
   "id": "84ff78fb",
   "metadata": {
    "slideshow": {
     "slide_type": "slide"
    }
   },
   "source": [
    "## Base conversion\n",
    "\n",
    "### Integer part\n",
    "\n",
    "- We can write an integer $x$ in the nested polynomial form:\n",
    "\n",
    "$$\n",
    "\\begin{split}\n",
    "x &= (c_{n}c_{n-1} \\ldots c_{1}c_{0})_{\\beta} \\\\\n",
    "  &= \\sum_{i=0}^{n} c_{i} \\times \\beta^{i} \\\\\n",
    "  &= c_{0} + \\beta(c_{1} + \\beta (c_{2} + \\beta (\\ldots)))\n",
    "\\end{split}\n",
    "$$\n",
    "\n",
    "- Dividing $x$ by $\\beta$ results in remainder $c_{0}$ and quotient $c_{1} + \\beta (c_{2} + \\beta (\\ldots))$.\n",
    "- By repeating the division we obtain digits $c_{0}$, $c_{1}$, $c_{2}$, etc."
   ]
  },
  {
   "cell_type": "markdown",
   "id": "fa9ef5d7",
   "metadata": {
    "slideshow": {
     "slide_type": "slide"
    }
   },
   "source": [
    "### Fractional part\n",
    "\n",
    "- A real number $x < 1$ in base-$\\beta$ can be written as:\n",
    "$$\n",
    "\\begin{split}\n",
    "x &= (0.c_{1}c_{2}c_{3}\\ldots)_{\\beta} \\\\\n",
    "  &= \\sum_{i=1}^{\\infty}c_{i}\\beta^{-i}\n",
    "\\end{split}\n",
    "$$\n",
    "\n",
    "- If we multiply $x$ by $\\beta$, we get:\n",
    "$$\n",
    "\\beta x = (c_{1}.c_{2}c_{3}\\ldots)_{\\beta}\n",
    "$$\n",
    "\n",
    "- Digit $c_{1}$ we get by taking the integer part of $\\beta x$.\n",
    "- By repeating the multiplication by $\\beta$ we obtain all decimal digits (if the number has a finite representation) or until we obtain enough significant digits."
   ]
  },
  {
   "cell_type": "markdown",
   "id": "eec37913",
   "metadata": {
    "slideshow": {
     "slide_type": "slide"
    }
   },
   "source": [
    "## Exercise 2\n",
    "\n",
    "Write function `dec2bin(x10, ndecimal=10)` which takes a positive decimal real number $(x)_{10}$ as a float, computes its binary representation, and returns it as a string $a_{n} a_{n-1}\\ldots a_1 a_0 \\, . \\, b_{1} b_{2} b_{3} \\ldots$. The fractional part should not contain more than `ndecimal` digits. Input real number `x10` does not have to contain both integer and fractional part."
   ]
  },
  {
   "cell_type": "code",
   "execution_count": 13,
   "id": "a98985b7",
   "metadata": {
    "slideshow": {
     "slide_type": "fragment"
    },
    "tags": []
   },
   "outputs": [],
   "source": [
    "def dec2bin(x10, ndecimal=10):\n",
    "    # Write your code here.\n",
    "    \n",
    "    return x2"
   ]
  },
  {
   "cell_type": "code",
   "execution_count": 14,
   "id": "a8e2ec53",
   "metadata": {
    "slideshow": {
     "slide_type": "skip"
    },
    "tags": []
   },
   "outputs": [],
   "source": [
    "def dec2bin(x10, ndecimal=10):\n",
    "    integer10, fractional10 = divmod(x10, 1)\n",
    "    integer = fractional10 == 0\n",
    "    \n",
    "    # Integer part\n",
    "    integer2 = []\n",
    "    while integer10 > 0:\n",
    "        integer10, remainder = divmod(integer10, 2)\n",
    "        integer2.append(int(remainder))\n",
    "    integer2 = ''.join(map(str, reversed(integer2)))\n",
    "    \n",
    "    # Fractional part\n",
    "    fractional2 = []\n",
    "    while True:\n",
    "        b, fractional10 = divmod(2*fractional10, 1)\n",
    "        fractional2.append(int(b))\n",
    "        if len(fractional2) == ndecimal:\n",
    "            break\n",
    "            \n",
    "    fractional2 = ''.join(map(str, fractional2))\n",
    "    \n",
    "    return integer2 if integer else integer2 + '.' + fractional2"
   ]
  },
  {
   "cell_type": "code",
   "execution_count": 15,
   "id": "f7b0e39a",
   "metadata": {
    "slideshow": {
     "slide_type": "skip"
    },
    "tags": []
   },
   "outputs": [],
   "source": [
    "assert dec2bin(118.61328125, ndecimal=8) == '1110110.10011101'\n",
    "assert dec2bin(118) == '1110110'\n",
    "assert dec2bin(0.61328125, ndecimal=8) == '.10011101'"
   ]
  },
  {
   "cell_type": "markdown",
   "id": "c28de8a2",
   "metadata": {
    "slideshow": {
     "slide_type": "slide"
    }
   },
   "source": [
    "## Octal $\\leftrightarrow{}$ binary\n",
    "\n",
    "| octal | binary | octal | binary |\n",
    "| - | - | - | - |\n",
    "| 0 | 000 | 1 | 001 |\n",
    "| 2 | 010 | 3 | 011 |\n",
    "| 4 | 100 | 5 | 101 |\n",
    "| 6 | 110 | 7 | 111 |\n",
    "\n",
    "- Groups of three binary digits can be converted to a single octal digit (and vice versa):\n",
    "\n",
    "$$\n",
    "(364.23)_{8} = (\\,011\\,110\\,100\\,.\\,010\\,011\\,)_{2}\n",
    "$$\n",
    "\n",
    "- Why?! Proof for a fractional part:\n",
    "\n",
    "$$\n",
    "\\begin{split}\n",
    "(0.b_{1}b_{2}b_{3}b_{4}b_{5}b_{6}\\ldots) & = b_{1}2^{-1} + b_{2}2^{-2} + b_{3}2^{-3} + b_{4}2^{-4} + b_{5}2^{-5} + b_{6}2^{-6} + \\ldots\\\\\n",
    "& = (b_{1}2^{2} + b_{2}2^{1} + b_{3}2^{0})8^{-1} + (b_{4}2^{2} + b_{5}2^{1} + b_{6}2^{0})8^{-2} + \\ldots\n",
    "\\end{split}\n",
    "$$\n",
    "\n",
    "- Because of the grouping, octal is often used as an intermediate step between binary-decimal conversion."
   ]
  },
  {
   "cell_type": "markdown",
   "id": "ea825e33",
   "metadata": {
    "slideshow": {
     "slide_type": "slide"
    }
   },
   "source": [
    "## Hexadecimal $\\leftrightarrow{}$ binary\n",
    "\n",
    "| hex | binary | hex | binary |\n",
    "| - | - | - | - |\n",
    "| 0 | 0000 | 1 | 0001 |\n",
    "| 2 | 0010 | 3 | 0011 |\n",
    "| 4 | 0100 | 5 | 0101 |\n",
    "| 6 | 0110 | 7 | 0111 |\n",
    "| 8 | 1000 | 9 | 1001 |\n",
    "| a | 1010 | b | 1011 |\n",
    "| c | 1100 | d | 1101 |\n",
    "| e | 1110 | f | 1111 |\n",
    "\n",
    "- Groups of four binary digits can be converted to a single hexadecimal digit (and vice versa):\n",
    "\n",
    "$$\n",
    "(\\textrm{a2f.b4})_{8} = (\\,1010\\,0010\\,1111\\,.\\,1011\\,0100\\,)_{2}\n",
    "$$"
   ]
  },
  {
   "cell_type": "markdown",
   "id": "e775836f",
   "metadata": {
    "slideshow": {
     "slide_type": "slide"
    }
   },
   "source": [
    "## Exercise 3\n",
    "\n",
    "Complete the following table\n",
    "\n",
    "| decimal | binary | hexadecimal | octal |\n",
    "| - | - | - | - |\n",
    "| 2.65 | 10.10100110011... | ? | ? |\n",
    "| ? | 10011.1101 | 13.d | ? |\n",
    "| 244.76953125 | ? | ? | 364.612 |\n",
    "\n",
    "**Hint:** The conversion between binary, hexadecimal, and octal can be done by grouping bits. If there are missing bits to form a group of four (hexadecimal) or three (octal), we add zeros. For instance, `101.011 == 0101.0110`. Finally, we can use one of the previous two functions (`bin2dec` or `dec2bin`) to obtain the decimal number.\n",
    "\n",
    "The following two tools can be helpful to check you solutions:\n",
    "* https://www.rapidtables.com/convert/number/binary-to-decimal.html\n",
    "* https://www.rapidtables.com/convert/number/decimal-to-octal.html"
   ]
  },
  {
   "cell_type": "markdown",
   "id": "3983b7e6",
   "metadata": {
    "slideshow": {
     "slide_type": "slide"
    }
   },
   "source": [
    "## IEEE floating point standard (IEEE-754)"
   ]
  },
  {
   "cell_type": "markdown",
   "id": "81ca6553",
   "metadata": {
    "slideshow": {
     "slide_type": "slide"
    }
   },
   "source": [
    "Let us say we want to write the following constants into memory:\n",
    "* $e = 2.718281828459045\\ldots$\n",
    "* vacuum permeability: $\\mu_{0} = 4\\pi \\times 10^{-7} \\,\\mathrm{NA}^{-2}$\n",
    "* Planck's constant: $h = 6.626070040 \\times 10^{−34} \\,\\mathrm{Js}$"
   ]
  },
  {
   "cell_type": "code",
   "execution_count": 16,
   "id": "ccad47c4",
   "metadata": {
    "slideshow": {
     "slide_type": "slide"
    },
    "tags": []
   },
   "outputs": [
    {
     "data": {
      "text/plain": [
       "'10.1011011111100001010100010110001010001010111011010010000000000000'"
      ]
     },
     "execution_count": 16,
     "metadata": {},
     "output_type": "execute_result"
    }
   ],
   "source": [
    "dec2bin(np.e, ndecimal=64)"
   ]
  },
  {
   "cell_type": "code",
   "execution_count": 17,
   "id": "b7834e3d",
   "metadata": {
    "slideshow": {
     "slide_type": "fragment"
    },
    "tags": []
   },
   "outputs": [
    {
     "data": {
      "text/plain": [
       "'.0000000000000000000101010001010100110111000011111001100111110110'"
      ]
     },
     "execution_count": 17,
     "metadata": {},
     "output_type": "execute_result"
    }
   ],
   "source": [
    "mu0 = 4 * np.pi * 1e-7  # N/A\n",
    "dec2bin(mu0, ndecimal=64)"
   ]
  },
  {
   "cell_type": "code",
   "execution_count": 18,
   "id": "2b0c4697",
   "metadata": {
    "slideshow": {
     "slide_type": "fragment"
    },
    "tags": []
   },
   "outputs": [
    {
     "data": {
      "text/plain": [
       "'.0000000000000000000000000000000000000000000000000000000000000000'"
      ]
     },
     "execution_count": 18,
     "metadata": {},
     "output_type": "execute_result"
    }
   ],
   "source": [
    "h = 6.626070040e-34  # Js\n",
    "dec2bin(h, ndecimal=64)"
   ]
  },
  {
   "cell_type": "markdown",
   "id": "dc7b5504",
   "metadata": {
    "slideshow": {
     "slide_type": "slide"
    }
   },
   "source": [
    "### (Decimal) scientific notation\n",
    "\n",
    "- We usually write integer part and fractional part together with a (decimal/radix) point in between.\n",
    "- On the other hand, we can also write:\n",
    "\n",
    "$$\n",
    "\\begin{split}\n",
    "37541.23 &= 37.54123 \\times 10^{3}\\\\ \n",
    "         &= 3.754123 \\times 10^{4}\\\\\n",
    "         &= 0.3754123 \\times 10^{5}\n",
    "\\end{split}\n",
    "$$\n",
    "\n",
    "- This representation is *not unique*."
   ]
  },
  {
   "cell_type": "markdown",
   "id": "11c94b1a",
   "metadata": {
    "slideshow": {
     "slide_type": "slide"
    }
   },
   "source": [
    "### Normalised (decimal) scientific notation\n",
    "\n",
    "- To ensure uniqueness, we introduce normalised scientific notation:\n",
    "\n",
    "$$x = d_{0}.d_{1}d_{2}d_{3}\\ldots \\times 10^{e}, \\quad d_{0} \\ne 0$$\n",
    "\n",
    "- Leading (and the only) digit in the integer part is not zero (except when the number is zero):\n",
    "\n",
    "$$37541.23 = 3.754123 \\times 10^{4}$$\n",
    "\n",
    "$$0.009765 = 9.765 \\times 10^{-3}$$"
   ]
  },
  {
   "cell_type": "markdown",
   "id": "ada37aef",
   "metadata": {
    "cell_style": "split",
    "slideshow": {
     "slide_type": "slide"
    }
   },
   "source": [
    "### Normalised scientific notation in decimal form\n",
    "\n",
    "Any $x \\in \\{x \\in \\mathbb{R} | x \\ne 0\\}$ can be written as:\n",
    "\n",
    "$$\n",
    "x = \\pm m \\times 10^{e}, \\quad 1 \\le m < 10\n",
    "$$\n",
    "\n",
    "| label | name |\n",
    "| - | - |\n",
    "| $\\pm$ | sign\n",
    "| $m$ | mantissa |\n",
    "| $e$ | exponent |\n",
    "\n",
    "$$\n",
    "m = \\pm d_{0}.d_{1}d_{2}d_{3}\\ldots, \\quad d_{0} \\ne 0, \\; d_{i>0} \\in \\mathbb{Z}_{10},\n",
    "$$"
   ]
  },
  {
   "cell_type": "markdown",
   "id": "a6a36486",
   "metadata": {
    "cell_style": "split",
    "slideshow": {
     "slide_type": "slide"
    },
    "tags": []
   },
   "source": [
    "### Normalised scientific notation in binary form\n",
    "\n",
    "Any $x \\in \\{x \\in \\mathbb{R} | x \\ne 0\\}$ can be written as:\n",
    "\n",
    "$$\n",
    "x = \\pm m \\times 2^{e}, \\quad 1 \\le m < 2\n",
    "$$\n",
    "\n",
    "| label | name |\n",
    "| - | - |\n",
    "| $\\pm$ | sign\n",
    "| $m$ | mantissa |\n",
    "| $e$ | exponent |\n",
    "\n",
    "$$\n",
    "m = \\pm b_{0}.b_{1}b_{2}b_{3}\\ldots, \\quad b_{0} = 1, \\; b_{i>0} \\in \\{0, 1\\}.\n",
    "$$"
   ]
  },
  {
   "cell_type": "markdown",
   "id": "5c8aa3f0",
   "metadata": {
    "slideshow": {
     "slide_type": "slide"
    }
   },
   "source": [
    "### Floating-point representation\n",
    "\n",
    "$$\n",
    "x = \\pm m \\times 2^{e}, \\quad 1 \\le m < 2\n",
    "$$\n",
    "\n",
    "- We need to save the sign ($\\pm$), mantissa ($m$), and exponent ($e$) separatately.\n",
    "- Every computer has a finite word length\n",
    "    - We cannot exactly represent:\n",
    "        - irrational numbers, e.g. $\\pi$, $\\mathrm{e}$, ...,\n",
    "        - rational numbers that do not fit the finite form, e.g. $\\frac{1}{3}$.\n",
    "    - A disrete set of numbers that are exactly representable are called **machine numbers**.\n",
    "    - A number with a terminating expansion in one base might have a non-terminating expansion in another base, e.g.\n",
    "    \n",
    "    $$(0.1)_{10} = (0.0001100110011001100110011001100110011001100110011\\ldots)_{2}$$"
   ]
  },
  {
   "cell_type": "markdown",
   "id": "9e91f1e0",
   "metadata": {
    "slideshow": {
     "slide_type": "slide"
    }
   },
   "source": [
    "## Exercise 4\n",
    "\n",
    "Let us assume we have a machine that represents floating-point numbers using the following representation:\n",
    "\n",
    "$$x = (-1)^{s} \\times (b_{0}.b_{1}b_{2})_{2} \\times 2^{e}, \\quad b_{0}, b_{1}, b_{2}, e, s \\in \\{0, 1\\}$$\n",
    "\n",
    "1. How many machine numbers are there? What are they?\n",
    "2. How do the machine numbers change if we enforce normalisation ($b_{0} = 1$)?"
   ]
  },
  {
   "cell_type": "code",
   "execution_count": 19,
   "id": "e6404054",
   "metadata": {
    "slideshow": {
     "slide_type": "slide"
    },
    "tags": []
   },
   "outputs": [
    {
     "name": "stdout",
     "output_type": "stream",
     "text": [
      "Machine numbers: [0.0, 0.0, 0.25, 0.5, 0.5, 1.0, 0.75, 1.5, 1.0, 2.0, 1.25, 2.5, 1.5, 3.0, 1.75, 3.5, -0.0, -0.0, -0.25, -0.5, -0.5, -1.0, -0.75, -1.5, -1.0, -2.0, -1.25, -2.5, -1.5, -3.0, -1.75, -3.5]\n"
     ]
    }
   ],
   "source": [
    "import itertools\n",
    "\n",
    "def compute_decimal(s, b0, b1, b2, e):\n",
    "    mantissa = b0 * 2**0 + b1 * 2**-1 + b2 * 2**-2\n",
    "    return (-1)**s * mantissa * 2**e\n",
    "\n",
    "machine_numbers = [compute_decimal(*bits) for bits in itertools.product(*[(0, 1) for _ in range(5)])] \n",
    "print(f'Machine numbers: {machine_numbers}')"
   ]
  },
  {
   "cell_type": "markdown",
   "id": "29bbeec2",
   "metadata": {
    "slideshow": {
     "slide_type": "fragment"
    }
   },
   "source": [
    "We can see there are duplicates. Let us show and count only unique numbers:"
   ]
  },
  {
   "cell_type": "code",
   "execution_count": 20,
   "id": "833e9fd7",
   "metadata": {
    "slideshow": {
     "slide_type": "fragment"
    },
    "tags": []
   },
   "outputs": [
    {
     "name": "stdout",
     "output_type": "stream",
     "text": [
      "Machine numbers: {0.0, 0.25, 0.75, 0.5, 1.0, 1.5, 2.0, 1.25, 2.5, 3.0, 1.75, 3.5, -0.25, -0.5, -0.75, -1.75, -3.5, -1.0, -2.5, -1.5, -3.0, -2.0, -1.25}\n",
      "Number of machine numbers: 23\n"
     ]
    }
   ],
   "source": [
    "machine_numbers = set(machine_numbers)\n",
    "print(f'Machine numbers: {machine_numbers}')\n",
    "print(f'Number of machine numbers: {len(machine_numbers)}')"
   ]
  },
  {
   "cell_type": "code",
   "execution_count": 21,
   "id": "606e54aa",
   "metadata": {
    "slideshow": {
     "slide_type": "slide"
    },
    "tags": []
   },
   "outputs": [
    {
     "data": {
      "image/png": "[encoded data removed]",
      "text/plain": [
       "<Figure size 800x50 with 1 Axes>"
      ]
     },
     "metadata": {},
     "output_type": "display_data"
    }
   ],
   "source": [
    "fig, ax = single_axis()\n",
    "ax.set_xlim(0, 2)\n",
    "ax.set_ylim(0, 0.1)\n",
    "ax.scatter(list(machine_numbers), len(machine_numbers)*[0], s=100)\n",
    "plt.xlabel('$\\mathbb{R}$')\n",
    "plt.show()"
   ]
  },
  {
   "cell_type": "code",
   "execution_count": 22,
   "id": "439e907c",
   "metadata": {
    "slideshow": {
     "slide_type": "slide"
    },
    "tags": []
   },
   "outputs": [
    {
     "name": "stdout",
     "output_type": "stream",
     "text": [
      "Machine numbers: {1.0, 2.0, 2.5, 1.25, 1.5, 3.0, 1.75, 3.5, -1.75, -3.5, -2.0, -2.5, -1.5, -3.0, -1.0, -1.25}\n",
      "Number of machine numbers: 16\n"
     ]
    },
    {
     "data": {
      "image/png": "[encoded data removed]",
      "text/plain": [
       "<Figure size 800x50 with 1 Axes>"
      ]
     },
     "metadata": {},
     "output_type": "display_data"
    }
   ],
   "source": [
    "def compute_decimal_normalised(s, b1, b2, e):\n",
    "    mantissa = 1 * 2**0 + b1 * 2**-1 + b2 * 2**-2\n",
    "    return (-1)**s * mantissa * 2**e\n",
    "\n",
    "machine_numbers = [compute_decimal_normalised(*bits) for bits in itertools.product(*[(0, 1) for _ in range(4)])] \n",
    "\n",
    "machine_numbers = set(machine_numbers)\n",
    "print(f'Machine numbers: {machine_numbers}')\n",
    "print(f'Number of machine numbers: {len(machine_numbers)}')\n",
    "\n",
    "fig, ax = single_axis()\n",
    "ax.set_xlim(0, 2)\n",
    "ax.set_ylim(0, 0.1)\n",
    "ax.scatter(list(machine_numbers), len(machine_numbers)*[0], s=100)\n",
    "plt.xlabel('$\\mathbb{R}$')\n",
    "plt.show()"
   ]
  },
  {
   "cell_type": "markdown",
   "id": "18dd11bf",
   "metadata": {
    "slideshow": {
     "slide_type": "slide"
    }
   },
   "source": [
    "- Larger numbers result in overflow.\n",
    "    - Overflow could be handled differently.\n",
    "- Smaller numbers result in underflow - commonly rounded to zero.\n",
    "- Most numbers cannot be represented exactly."
   ]
  },
  {
   "cell_type": "markdown",
   "id": "4ca2ea35",
   "metadata": {
    "slideshow": {
     "slide_type": "slide"
    }
   },
   "source": [
    "## IEEE-754\n",
    "\n",
    "- In early 1980s, IEEE (Institute of Electrical and Electronics Engineers) established floating-point standard (IEEE-754).\n",
    "- Before the standard, computer manufacturers developed their own floating-point number systems.\n",
    "    - There were inconsistencies in results between different machines.\n",
    "- There are three common levels of precison:\n",
    "\n",
    "| precision   | bits | sign | exponent | mantissa |\n",
    "| ----------- | ---- | ---- | -------- | -------- |\n",
    "| single      | 32   | 1    | 8        | 23       |\n",
    "| double      | 64   | 1    | 11       | 52       |\n",
    "| long double | 80   | 1    | 15       | 64       |\n",
    "\n",
    "- As computational scientists, we do not need to know all the details, but we need to have the intuition about what is happening in the background."
   ]
  },
  {
   "cell_type": "markdown",
   "id": "c8c2dfaa-2ba4-4b9b-98a3-4d10d8ae07fc",
   "metadata": {
    "slideshow": {
     "slide_type": "slide"
    }
   },
   "source": [
    "### Single precision (32 bit)\n",
    "\n",
    "$$x = (-1)^{s} \\times 2^{e-127} \\times (1 + 0.f)_{2}$$"
   ]
  },
  {
   "cell_type": "markdown",
   "id": "8570b34d-8c46-49e0-8a73-1d562a9871a1",
   "metadata": {
    "slideshow": {
     "slide_type": "slide"
    }
   },
   "source": [
    "### Single precision (32 bit) - sign\n",
    "\n",
    "$$x = (-1)^{s} \\times 2^{e-127} \\times (1 + 0.f)_{2}$$\n",
    "\n",
    "- 1 bit for the sign $s$\n",
    "    - $s=0$ - postitive\n",
    "    - $s=1$ - negative"
   ]
  },
  {
   "cell_type": "markdown",
   "id": "8ca2ca80-f84c-4b48-bf37-d7015476164c",
   "metadata": {
    "slideshow": {
     "slide_type": "slide"
    }
   },
   "source": [
    "### Single precision (32 bit) - exponent\n",
    "\n",
    "$$x = (-1)^{s} \\times 2^{e-127} \\times (1 + 0.f)_{2}$$\n",
    "\n",
    "- 8 bits for the exponent $e$\n",
    "    - $0 < e < (11\\,111\\,111)_{2} = 255$ (values $0$ and $255$ are reserved for $\\pm 0$ and $\\pm \\infty$).\n",
    "    - What do we do with \"small\" numbers? We shift $e$ by 127 to allow representing values around zero:\n",
    "    $$-126 \\le e-127 \\le 127$$\n",
    "    "
   ]
  },
  {
   "cell_type": "markdown",
   "id": "03a3b0c0-7525-4275-94a9-3e0659c3a1d4",
   "metadata": {
    "slideshow": {
     "slide_type": "slide"
    }
   },
   "source": [
    "### Single precision (32 bit) - mantissa\n",
    "\n",
    "$$x = (-1)^{s} \\times 2^{e-127} \\times (1 + 0.f)_{2}$$\n",
    "\n",
    "- 23 bits for the matissa (significand) $f$\n",
    "    - *one-plus form* ($1 + 0.f$) to ensure normalisation\n",
    "        - It actually corresponds to 24 bits because there is a **hidden bit**.\n",
    "    - Mantissa is limited by:\n",
    "    $$(1.00000000000000000000000)_{2} = 1 \\le (1.f)_{2} \\le (1.11111111111111111111111)_{2} = 2 - 2^{-23}$$"
   ]
  },
  {
   "cell_type": "markdown",
   "id": "7156edfa-2df0-4e9a-a76b-7704f796bcc2",
   "metadata": {
    "slideshow": {
     "slide_type": "slide"
    }
   },
   "source": [
    "### Single precision (32 bit) - largest/smallest number\n",
    "\n",
    "$$x = (-1)^{s} \\times 2^{e-127} \\times (1 + 0.f)_{2}$$\n",
    "\n",
    "- 8 bits for the exponent $e$\n",
    "    - $0 < e < (11\\,111\\,111)_{2} = 255$ (values $0$ and $255$ are reserved for $\\pm 0$ and $\\pm \\infty$).\n",
    "    \n",
    "- 23 bits for the matissa (significand) $f$\n",
    "    $$(1.00000000000000000000000)_{2} = 1 \\le (1.f)_{2} \\le (1.11111111111111111111111)_{2} = 2 - 2^{-23}$$\n",
    "\n",
    "- Largest number: $(2-2^{-23}) \\times 2^{127} \\approx 2^{128} \\approx 3.4 \\times 10^{38}$\n",
    "- Smallest positive number: $1 \\times 2^{-126} \\approx 1.17 \\times 10^{-38}$"
   ]
  },
  {
   "cell_type": "markdown",
   "id": "ae805d85",
   "metadata": {
    "slideshow": {
     "slide_type": "slide"
    }
   },
   "source": [
    "### Machine $\\epsilon$, precision, and resolution\n",
    "\n",
    "- The number of real numbers $x$ we can represent is finite.\n",
    "- The floating-point machine number corresponding to $x$, we denote as $\\mathrm{fl}(x)$.\n",
    "- Machine $\\epsilon$ is the smallest number such that:\n",
    "$$\\mathrm{fl}(1 + \\epsilon) \\ne 1$$\n",
    "- For single precision, the machine $\\epsilon$ is:\n",
    "\n",
    "$$\\epsilon = (1.00000000000000000000001)_{2} - (1.00000000000000000000000)_{2} = 2^{-23} \\approx 1.19 \\times 10^{-7}$$\n",
    "\n",
    "- **Precision:** Because $\\epsilon = \\approx 1.19 \\times 10^{-7}$, we can rely on approximately 6 accurate decimal digits. We say that the precision is 6.\n",
    "$$\\pi_\\mathrm{single} = 3.14159$$\n",
    "- **Resolution:** Sometimes, instead of precision $p$, we show **resolution**: $10^{-p} = 10^{-6}$."
   ]
  },
  {
   "cell_type": "code",
   "execution_count": 23,
   "id": "d4526da0",
   "metadata": {
    "slideshow": {
     "slide_type": "slide"
    },
    "tags": []
   },
   "outputs": [
    {
     "name": "stdout",
     "output_type": "stream",
     "text": [
      "Single precision float\n",
      "-------------------------\n",
      "Total size in bits: 32\n",
      "Bits in mantissa: 23\n",
      "Bits in exponent: 8\n",
      "Machine epsilon: 1.1920928955078125e-07\n",
      "Largest number: 3.4028234663852886e+38\n",
      "Smallest number: -3.4028234663852886e+38\n",
      "Smallest positive number: 1.1754943508222875e-38\n",
      "Precision: 6\n",
      "Resolution: 9.999999974752427e-07\n"
     ]
    }
   ],
   "source": [
    "import numpy as np\n",
    "\n",
    "single = np.finfo(np.float32)\n",
    "\n",
    "print(f'Single precision float')\n",
    "print(25*'-')\n",
    "print(f'Total size in bits: {single.bits}')\n",
    "print(f'Bits in mantissa: {single.nmant}')\n",
    "print(f'Bits in exponent: {single.nexp}')\n",
    "print(f'Machine epsilon: {single.eps}')\n",
    "print(f'Largest number: {single.max}')\n",
    "print(f'Smallest number: {single.min}')\n",
    "print(f'Smallest positive number: {single.tiny}')\n",
    "print(f'Precision: {single.precision}')\n",
    "print(f'Resolution: {single.resolution}')"
   ]
  },
  {
   "cell_type": "markdown",
   "id": "464801be",
   "metadata": {
    "slideshow": {
     "slide_type": "slide"
    }
   },
   "source": [
    "### Double precision (64 bit)\n",
    "\n",
    "$$x = (-1)^{s} \\times 2^{e-1023} \\times (1 + 0.f)_{2}$$\n",
    "\n",
    "- 1 bit for the sign $s$\n",
    "    - $s=0$ - postitive\n",
    "    - $s=1$ - negative\n",
    "    \n",
    "- 11 bits for the exponent $e$\n",
    "    - $0 < e < (11\\,111\\,111\\,111)_{2} = 2047$ (values $0$ and $2047$ are reserved for $\\pm 0$ and $\\pm \\infty$)\n",
    "    - $-1022 \\le e - 1023 \\le 1023$\n",
    " \n",
    "- 52 bits for mantissa $f$\n",
    "    - *one-plus form* ($1 + 0.f$) to ensure normalisation\n",
    "        - It actually corresponds to 53 bits because there is a **hidden bit**.\n",
    "    - Mantissa is limited by:\n",
    "    $$(1.00\\ldots 00)_{2} = 1 \\le (1.f)_{2} \\le (1.11\\ldots 11)_{2} = 2 - 2^{-52}$$\n",
    "\n",
    "- Largest number: $(2 - 2^{-52}) \\times 2^{1023} \\approx 2^{1024} \\approx 1.8 \\times 10^{308}$\n",
    "- Smallest positive number: $1 \\times 2^{-1022} \\approx 2.2 \\times 10^{-308}$"
   ]
  },
  {
   "cell_type": "markdown",
   "id": "60bcfbde",
   "metadata": {
    "slideshow": {
     "slide_type": "slide"
    }
   },
   "source": [
    "### Double precision: machine $\\epsilon$, precision, and resolution\n",
    "\n",
    "- Machine $\\epsilon$:\n",
    "\n",
    "$$\\epsilon = 2^{-52} \\approx 2.22 \\times 10^{-16}$$\n",
    "\n",
    "- Precision: We can rely on approximately 15 accurate decimal digits.\n",
    "$$\\pi_\\mathrm{double} = 3.14159265358979$$\n",
    "- Resolution: $10^{-p} = 10^{-15}$."
   ]
  },
  {
   "cell_type": "code",
   "execution_count": 24,
   "id": "dc1f3084",
   "metadata": {
    "slideshow": {
     "slide_type": "slide"
    }
   },
   "outputs": [
    {
     "name": "stdout",
     "output_type": "stream",
     "text": [
      "Single precision float\n",
      "-------------------------\n",
      "Total size in bits: 64\n",
      "Bits in mantissa: 52\n",
      "Bits in exponent: 11\n",
      "Machine epsilon: 2.220446049250313e-16\n",
      "Largest number: 1.7976931348623157e+308\n",
      "Smallest number: -1.7976931348623157e+308\n",
      "Smallest positive number: 2.2250738585072014e-308\n",
      "Precision: 15\n",
      "Resolution: 1e-15\n"
     ]
    }
   ],
   "source": [
    "double = np.finfo(np.float64)\n",
    "\n",
    "print(f'Single precision float')\n",
    "print(25*'-')\n",
    "print(f'Total size in bits: {double.bits}')\n",
    "print(f'Bits in mantissa: {double.nmant}')\n",
    "print(f'Bits in exponent: {double.nexp}')\n",
    "print(f'Machine epsilon: {double.eps}')\n",
    "print(f'Largest number: {double.max}')\n",
    "print(f'Smallest number: {double.min}')\n",
    "print(f'Smallest positive number: {double.tiny}')\n",
    "print(f'Precision: {double.precision}')\n",
    "print(f'Resolution: {double.resolution}')"
   ]
  },
  {
   "cell_type": "markdown",
   "id": "52f8cfbb",
   "metadata": {
    "slideshow": {
     "slide_type": "slide"
    }
   },
   "source": [
    "## Exercise 5\n",
    "\n",
    "Determine machine representation of the decimal number -24.98746 in both single and double precision."
   ]
  },
  {
   "cell_type": "markdown",
   "id": "1a580dd0",
   "metadata": {
    "slideshow": {
     "slide_type": "skip"
    }
   },
   "source": [
    "We need to determine:\n",
    "* sign\n",
    "* mantissa\n",
    "* exponent\n",
    "\n",
    "1. **Single precision**\n",
    "\n",
    "The formula is:\n",
    "\n",
    "$$x = (-1)^{s} \\times 2^{e-127} \\times (1 + 0.f)_{2}$$\n",
    "\n",
    "Since the number -24.98746 is negative, sign bit $s$ is 1, so that $(-1)^{s} = -1$. In the next step, we convert the number to its binary representation. For that, we can use `dec2bin` function:"
   ]
  },
  {
   "cell_type": "code",
   "execution_count": 25,
   "id": "8f2851a4",
   "metadata": {
    "slideshow": {
     "slide_type": "skip"
    }
   },
   "outputs": [
    {
     "data": {
      "text/plain": [
       "'11000.111111001100101000101101101101'"
      ]
     },
     "execution_count": 25,
     "metadata": {},
     "output_type": "execute_result"
    }
   ],
   "source": [
    "dec2bin(24.98746, ndecimal=30)"
   ]
  },
  {
   "cell_type": "markdown",
   "id": "b4e1f322",
   "metadata": {
    "slideshow": {
     "slide_type": "skip"
    }
   },
   "source": [
    "The binary number we obtained is not normalised (please remember that a normalised number is in `1.xxxxx` form). Therefore, we shift the (radix) point 4 times to the left and the number we get is:\n",
    "\n",
    "$$1.1000111111001100101000101101101101 \\times 2^{4}$$\n",
    "\n",
    "If we compare this number to the formula for single precision:\n",
    "\n",
    "$$x = (-1)^{s} \\times 2^{e-127} \\times (1 + 0.f)_{2}$$\n",
    "\n",
    "we can see that:\n",
    "\n",
    "$$2^{e-127} = 2^{4} \\rightarrow e-127 = 4 \\rightarrow e = 131$$\n",
    "\n",
    "Now, we need to convert $131$ to its binary form to be able to place it computer memory:"
   ]
  },
  {
   "cell_type": "code",
   "execution_count": 26,
   "id": "1b22f829",
   "metadata": {
    "slideshow": {
     "slide_type": "skip"
    }
   },
   "outputs": [
    {
     "data": {
      "text/plain": [
       "'10000011'"
      ]
     },
     "execution_count": 26,
     "metadata": {},
     "output_type": "execute_result"
    }
   ],
   "source": [
    "dec2bin(131)"
   ]
  },
  {
   "cell_type": "markdown",
   "id": "cde8f934",
   "metadata": {
    "slideshow": {
     "slide_type": "skip"
    }
   },
   "source": [
    "Finally, we select 23 bits after `1.` to save as the mantissa: `10001111110011001010001`.\n",
    "\n",
    "And that's it :) Single precision representation of out number is sign + exponent + mantissa:\n",
    "\n",
    "`11000001110001111110011001010001`"
   ]
  },
  {
   "cell_type": "code",
   "execution_count": 27,
   "id": "6623f9e1",
   "metadata": {
    "slideshow": {
     "slide_type": "skip"
    }
   },
   "outputs": [
    {
     "name": "stdout",
     "output_type": "stream",
     "text": [
      "11000001110001111110011001010001\n"
     ]
    }
   ],
   "source": [
    "sign = '1'\n",
    "exponent = '10000011'\n",
    "mantissa = '10001111110011001010001'\n",
    "single_precision = sign + exponent + mantissa\n",
    "print(single_precision)"
   ]
  },
  {
   "cell_type": "markdown",
   "id": "89aa8f09",
   "metadata": {
    "slideshow": {
     "slide_type": "skip"
    }
   },
   "source": [
    "I will let you do the double precision. The process is the same, and the final solution is:\n",
    "\n",
    "`1100000000111000111111001100101000101101101101100001101110110000`\n",
    "\n",
    "**Hint:** You may find this online tool helpful:\n",
    "* https://www.h-schmidt.net/FloatConverter/IEEE754.html\n",
    "* https://babbage.cs.qc.cuny.edu/ieee-754.old/decimal.html"
   ]
  },
  {
   "cell_type": "markdown",
   "id": "a70bb1d4",
   "metadata": {
    "slideshow": {
     "slide_type": "slide"
    }
   },
   "source": [
    "## Exercise 6\n",
    "\n",
    "What decimal floating-point number corresponds to $(abcd1234)_{16}$ according to IEEE-754?"
   ]
  },
  {
   "cell_type": "markdown",
   "id": "416f4f2d",
   "metadata": {
    "slideshow": {
     "slide_type": "skip"
    }
   },
   "source": [
    "This number in binary is: `1 01010111 10011010001001000110100`\n",
    "\n",
    "* The first bit (`1`) is the sign: $s = 1$\n",
    "* Bits 2-9 (`01010111`) are the exponent: $e = 87$\n",
    "* Remaining 23 bits (`10011010001001000110100`) are part of the mantissa: $m = (1.10011010001001000110100)_{2} = 1.60211801528930664063$\n",
    "\n",
    "Finally, the number we are looking for is:\n",
    "\n",
    "$(-1)^{s} \\times m \\times 2^{e-127}$"
   ]
  },
  {
   "cell_type": "code",
   "execution_count": 28,
   "id": "7b0f16bd",
   "metadata": {
    "slideshow": {
     "slide_type": "skip"
    }
   },
   "outputs": [
    {
     "name": "stdout",
     "output_type": "stream",
     "text": [
      "The number with representation abcd1234 is -1.4571178465205836e-12.\n"
     ]
    }
   ],
   "source": [
    "s = 1\n",
    "m = bin2dec('1.10011010001001000110100')\n",
    "e = bin2dec('01010111')\n",
    "\n",
    "x = (-1)**s * m * 2**(e-127)\n",
    "print(f'The number with representation abcd1234 is {x}.')"
   ]
  },
  {
   "cell_type": "markdown",
   "id": "9c7b9428",
   "metadata": {
    "slideshow": {
     "slide_type": "skip"
    }
   },
   "source": [
    "Similar to the previous exercise you might find this tool helpful: https://www.h-schmidt.net/FloatConverter/IEEE754.html"
   ]
  },
  {
   "cell_type": "markdown",
   "id": "9ddb0c31",
   "metadata": {
    "slideshow": {
     "slide_type": "slide"
    }
   },
   "source": [
    "### Overflow and underflow\n",
    "\n",
    "- How can we represent $x = 2^{68426539}$ or $x = 2^{-98723640}$?\n",
    "    -  We cannot. This attempt results in overflow or underflow.\n",
    "- Underflow is often rounded to zero.\n",
    "- Overflow is handled differently by different systems."
   ]
  },
  {
   "cell_type": "code",
   "execution_count": 29,
   "id": "b618a4a1",
   "metadata": {
    "slideshow": {
     "slide_type": "slide"
    }
   },
   "outputs": [
    {
     "name": "stdout",
     "output_type": "stream",
     "text": [
      "huuuuuuge=inf\n",
      "supersupersmall=0.0\n"
     ]
    }
   ],
   "source": [
    "huuuuuuge = 1e73642834\n",
    "supersupersmall = 1e-73642834\n",
    "print(f'{huuuuuuge=}')\n",
    "print(f'{supersupersmall=}')"
   ]
  },
  {
   "cell_type": "markdown",
   "id": "7bdcc227",
   "metadata": {
    "slideshow": {
     "slide_type": "slide"
    }
   },
   "source": [
    "## Chopping and rounding\n",
    "\n",
    "- For simplicity, here, we assume single precision floating-point numbers.\n",
    "- Let us say we want to represent $x$ with its nearest machine number $\\mathrm{fl}(x)$:\n",
    "\n",
    "$$x = (1.b_{1}b_{2}b_{3}b_{4}\\ldots)_{2} \\times 2^{e}, x \\ne 0$$\n",
    "$$\\mathrm{fl}(x) = q \\times 2^{e}, 1 \\le q < 2, -125 \\le e \\le 128$$\n",
    "\n",
    "- How large can the error be?\n",
    "\n",
    "- **Chopping:** We can chop excess bits $b_{24}b_{25}\\ldots$ and the machine number is then:\n",
    "\n",
    "$$x_{-} = (1.b_{1}b_{2}b_{3}\\ldots b_{23})_{2} \\times 2^{e}$$\n",
    "\n",
    "- **Rounding:** $x_{+}$ is just to the right and it is obtained by rounding up. We add one unit to $b_{24}$.\n",
    "\n",
    "$$x_{+} = [(1.b_{1}b_{2}b_{3}\\ldots b_{23})_{2} + 2^{-24}] \\times 2^{e}$$\n",
    "\n",
    "- We now choose the number which is closer to $x$ as its machine representation $\\mathrm{fl}(x)$."
   ]
  },
  {
   "cell_type": "markdown",
   "id": "bbe00fa5",
   "metadata": {
    "slideshow": {
     "slide_type": "slide"
    }
   },
   "source": [
    "### Absolute and relative error\n",
    "\n",
    "- **Absolute error**:\n",
    "\n",
    "$$|x - \\mathrm{fl}(x)| \\le \\frac{1}{2}|x_{+} - x_{-}| = \\frac{1}{2} \\times 2^{-24} \\times 2^{e} = 2^{-25+e}$$\n",
    "\n",
    "- **Relative error**:\n",
    "\n",
    "$$\\frac{|x - \\mathrm{fl}(x)|}{|x|} \\le \\frac{2^{-25 + e}}{(1.b_{1}b_{2}b_{3}\\ldots)_{2} \\times 2^{e}} \\le \\frac{2^{-25}}{1/2} = 2^{-24} = u$$\n",
    "\n",
    "- $u$ is the **unit round-off error**.\n",
    "    - It is $2^{-k}$ where $k$ is the number of bits in matissa plus the hidden bit (23 + 1 for single precision)."
   ]
  },
  {
   "cell_type": "markdown",
   "id": "2366c8bd",
   "metadata": {
    "slideshow": {
     "slide_type": "slide"
    }
   },
   "source": [
    "## Floating-point arithmetic\n",
    "\n",
    "### Floating-point addition\n",
    "\n",
    "$$8.70 \\times 10^{-1} + 9.95 \\times 10^{1} = \\,?$$\n",
    "\n",
    "1. Rewrite the smaller number such that its exponent matches the exponent of the larger number.\n",
    "\n",
    "$$8.70 \\times 10^{-1} = 0.087 \\times 10^{1}$$\n",
    "\n",
    "2. Add the mantissas:\n",
    "\n",
    "$$9.95 + 0.087 = 10.037,$$\n",
    "\n",
    "3. Normalise result and check for overflow/underflow of the exponent after normalisation.\n",
    "\n",
    "$$10.037 \\times 10^1 = 1.0037 \\times 10^2$$\n",
    "\n",
    "4. Check for overflow/underflow of the exponent after normalisation.\n",
    "\n",
    "    - All good :)\n",
    "\n",
    "5. Round the result.\n",
    "\n",
    "    - If the mantissa does not fit in the space reserved for it, it has to be rounded off. For example: If only 4 digits are allowed for mantissa:\n",
    "\n",
    "$$1.0037 \\times 10^2 \\rightarrow 1.004 \\times 10^2$$"
   ]
  },
  {
   "cell_type": "markdown",
   "id": "60d749ba",
   "metadata": {
    "slideshow": {
     "slide_type": "slide"
    }
   },
   "source": [
    "### Floating Point Multiplication\n",
    "\n",
    "Multiply the following two numbers in scientific notation by hand:\n",
    "\n",
    "$$1.110 \\times 10^{10} \\times 9.200 \\times 10^{-5}$$\n",
    "\n",
    "Add the exponents to find\n",
    "- New exponent $= 10 + (-5) = 5$\n",
    "\n",
    "If we add biased exponents, bias will be added twice. Therefore we need to subtract it once to compensate:\n",
    "$$(10 + 127) + (-5 + 127) = 259$$\n",
    "\n",
    "$259 - 127 = 132$ which is $(5 + 127) =$ biased new exponent\n",
    "\n",
    "Multiply the mantissas\n",
    "$$1.110 \\times 9.200 = 10.212000$$\n",
    "\n",
    "Can only keep three digits to the right of the decimal point, so the result is\n",
    "\n",
    "$$10.212 \\times 10^5$$\n",
    "\n",
    "Normalize the result\n",
    "$$1.0212 \\times 10^6$$\n",
    "\n",
    "Round it\n",
    "$$1.021 \\times 10^6$$"
   ]
  },
  {
   "cell_type": "markdown",
   "id": "ae997943",
   "metadata": {
    "slideshow": {
     "slide_type": "slide"
    }
   },
   "source": [
    "## Error in arithmetic operations\n",
    "\n",
    "- For any $x \\in \\mathbb{R}$ within the range of the computer:\n",
    "\n",
    "$$\\frac{|x - \\mathrm{fl}(x)|}{x} \\le u$$\n",
    "\n",
    "$$\\mathrm{fl}(x) = x(1 + \\delta), \\quad |\\delta| \\le u$$\n",
    "\n",
    "- If $\\odot$ is any operation ($+, -, \\times, /$), and we assume that $x \\odot y$ is correctly computed, normalised, and finally rounded:\n",
    "\n",
    "$$\\mathrm{fl}(x \\odot y) = (x \\odot y)(1 + \\delta)$$\n",
    "\n",
    "- More precisely:\n",
    "\n",
    "$$\\mathrm{fl}(\\mathrm{fl}(x) \\odot \\mathrm{fl}(y))$$"
   ]
  },
  {
   "cell_type": "markdown",
   "id": "60444d0e",
   "metadata": {
    "slideshow": {
     "slide_type": "slide"
    }
   },
   "source": [
    "## Loss of significance\n",
    "\n",
    "- Let us say we need to subtract two nearly equal numbers in a machine with only 6 decimal digits of accuracy:\n",
    "\n",
    "$$x = 0.8796421358 \\quad y = 0.8795374261$$\n",
    "\n",
    "What is the relative error?"
   ]
  },
  {
   "cell_type": "code",
   "execution_count": 30,
   "id": "b7122f2e",
   "metadata": {
    "slideshow": {
     "slide_type": "slide"
    },
    "tags": []
   },
   "outputs": [
    {
     "name": "stdout",
     "output_type": "stream",
     "text": [
      "\"Correct\" solution: 6.709699999940533e-06\n",
      "Correct solution: 0.000006710\n",
      "Computed solution: 7e-06\n",
      "Relative error is: 4.33%.\n"
     ]
    }
   ],
   "source": [
    "x = 0.8796421358\n",
    "y = 0.8796354261\n",
    "correct = x - y  # is it correct?\n",
    "\n",
    "# Round to 6 decimal digits\n",
    "x_round = round(x, 6)\n",
    "y_round = round(y, 6)\n",
    "computed = round(x_round - y_round, 6)\n",
    "\n",
    "absolute = abs(correct - computed)\n",
    "relative = absolute / abs(correct)\n",
    "\n",
    "print(f'\"Correct\" solution: {correct}')\n",
    "print(f'Correct solution: {correct:0.9f}')\n",
    "print(f'Computed solution: {computed}')\n",
    "print(f'Relative error is: {relative*100:.2f}%.')"
   ]
  },
  {
   "cell_type": "markdown",
   "id": "e514dbee",
   "metadata": {
    "slideshow": {
     "slide_type": "slide"
    }
   },
   "source": [
    "### Theorem of loss of precision\n",
    "\n",
    "- How many significant binary digits are lost in $x - y$ when $x$ is close to $y$?\n",
    "\n",
    "- **Theorem:** Let $x$ and $y$ be normalised floating-point machine numbers, where $x > y > 0$. If $2^{-p} \\le 1 - \\frac{y}{x} \\le 2^{-q}$ for some positive integers $p$ and $q$, then at most $p$ and at least $q$ significant binary bits are lost in the subtraction $x - y$."
   ]
  },
  {
   "cell_type": "markdown",
   "id": "dbec95e6",
   "metadata": {
    "slideshow": {
     "slide_type": "slide"
    }
   },
   "source": [
    "## Exercise 7\n",
    "\n",
    "By applying the theorem of loss of precision, compute how many significant digits are lost in subtraction $x-y$. \n",
    "\n",
    "$$x = 0.8796421358 \\quad y = 0.8795374261$$"
   ]
  },
  {
   "cell_type": "markdown",
   "id": "9111415f",
   "metadata": {
    "slideshow": {
     "slide_type": "skip"
    }
   },
   "source": [
    "The \"closeness\" $r = 1-\\frac{x}{y}$ is"
   ]
  },
  {
   "cell_type": "code",
   "execution_count": 31,
   "id": "3e451c45",
   "metadata": {
    "slideshow": {
     "slide_type": "skip"
    }
   },
   "outputs": [
    {
     "name": "stdout",
     "output_type": "stream",
     "text": [
      "r=0.00011903670338020422\n"
     ]
    }
   ],
   "source": [
    "x = 0.8796421358\n",
    "y = 0.8795374261\n",
    "\n",
    "r = 1 - y/x\n",
    "print(f'{r=}')"
   ]
  },
  {
   "cell_type": "markdown",
   "id": "848698c4",
   "metadata": {
    "slideshow": {
     "slide_type": "skip"
    }
   },
   "source": [
    "By computing $\\log_{2}$:"
   ]
  },
  {
   "cell_type": "code",
   "execution_count": 32,
   "id": "3673d22b",
   "metadata": {
    "slideshow": {
     "slide_type": "skip"
    }
   },
   "outputs": [
    {
     "name": "stdout",
     "output_type": "stream",
     "text": [
      "log2r=-13.036305901644155\n"
     ]
    }
   ],
   "source": [
    "log2r = np.log2(r)\n",
    "print(f'{log2r=}')"
   ]
  },
  {
   "cell_type": "markdown",
   "id": "2bc13da1",
   "metadata": {
    "slideshow": {
     "slide_type": "skip"
    }
   },
   "source": [
    "we can see that $r$ lies between $2^{-13}$ and $2^{-14}$:"
   ]
  },
  {
   "cell_type": "code",
   "execution_count": 33,
   "id": "be764b2b",
   "metadata": {
    "slideshow": {
     "slide_type": "skip"
    }
   },
   "outputs": [
    {
     "data": {
      "text/plain": [
       "True"
      ]
     },
     "execution_count": 33,
     "metadata": {},
     "output_type": "execute_result"
    }
   ],
   "source": [
    "2**-14 < r < 2**-13"
   ]
  },
  {
   "cell_type": "markdown",
   "id": "eb61923a",
   "metadata": {
    "slideshow": {
     "slide_type": "skip"
    }
   },
   "source": [
    "Therefore, we can conlude that in the subtraction we lost at least 13, and at most 14 significant digits."
   ]
  },
  {
   "cell_type": "markdown",
   "id": "40f9f6be",
   "metadata": {
    "slideshow": {
     "slide_type": "slide"
    }
   },
   "source": [
    "## Avoiding loss of significance by subtraction\n",
    "\n",
    "1. $f(x) = \\sqrt{x^{2} + 1} - 1$\n",
    "\n",
    "For $x \\approx 0$, $\\sqrt{x^{2} + 1} \\approx 1$  we are in trouble! How can we remove this subtraction? By rationalisation.\n",
    "\n",
    "$$\n",
    "f(x) = (\\sqrt{x^{2} + 1} - 1) \\frac{\\sqrt{x^{2} + 1} + 1}{\\sqrt{x^{2} + 1} + 1} = \\frac{x^{2}}{\\sqrt{x^{2} + 1} + 1}\n",
    "$$\n",
    "\n",
    "2. $f(x) = x - \\sin(x)$\n",
    "\n",
    "We have an issue for $x \\approx 0$. We can use Taylor explansion:\n",
    "\n",
    "$$f(x) = x - \\left(x - \\frac{x^{3}}{3!} + \\frac{x^{5}}{5!} - \\frac{x^{7}}{7!} + \\ldots\\right) = \\frac{x^{3}}{3!} - \\frac{x^{5}}{5!} + \\frac{x^{7}}{7!} + \\ldots$$"
   ]
  },
  {
   "cell_type": "markdown",
   "id": "ca5bb120",
   "metadata": {
    "slideshow": {
     "slide_type": "slide"
    }
   },
   "source": [
    "## Exercise 8\n",
    "\n",
    "For what values of $x$, could the loss of significance by subtraction occur. What could you do to prevent this?\n",
    "\n",
    "1. $f(x) = \\cos^{2}(x) - \\sin^{2}(x)$\n",
    "2. $f(x) = \\ln(x) - 1$"
   ]
  },
  {
   "cell_type": "markdown",
   "id": "ed98a5f6",
   "metadata": {
    "slideshow": {
     "slide_type": "skip"
    }
   },
   "source": [
    "1. Problem for $x \\approx \\pi/4$. $f(x)$ can be computed as $\\cos2x = \\cos^{2}(x) - \\sin^{2}(x)$ to avoid subtraction.\n",
    "2. Problem for $x \\approx e$, $f(x) = \\ln(x) - 1 = \\ln(x) - \\ln(e) = \\ln(\\frac{x}{e})$ to avoid subtraction."
   ]
  },
  {
   "cell_type": "markdown",
   "id": "c6481954",
   "metadata": {
    "slideshow": {
     "slide_type": "slide"
    }
   },
   "source": [
    "## Why is `x == y` bad?"
   ]
  },
  {
   "cell_type": "code",
   "execution_count": 34,
   "id": "6b2eabd7",
   "metadata": {
    "slideshow": {
     "slide_type": "slide"
    },
    "tags": []
   },
   "outputs": [],
   "source": [
    "x = np.float64(1)\n",
    "y = np.float64(1/3)\n",
    "\n",
    "assert x == 3*y"
   ]
  },
  {
   "cell_type": "code",
   "execution_count": 35,
   "id": "ca466930",
   "metadata": {
    "slideshow": {
     "slide_type": "slide"
    },
    "tags": []
   },
   "outputs": [
    {
     "ename": "AssertionError",
     "evalue": "",
     "output_type": "error",
     "traceback": [
      "\u001b[0;31m---------------------------------------------------------------------------\u001b[0m",
      "\u001b[0;31mAssertionError\u001b[0m                            Traceback (most recent call last)",
      "Cell \u001b[0;32mIn [35], line 4\u001b[0m\n\u001b[1;32m      1\u001b[0m x \u001b[38;5;241m=\u001b[39m np\u001b[38;5;241m.\u001b[39mfloat32(\u001b[38;5;241m1\u001b[39m)\n\u001b[1;32m      2\u001b[0m y \u001b[38;5;241m=\u001b[39m np\u001b[38;5;241m.\u001b[39mfloat32(\u001b[38;5;241m1\u001b[39m\u001b[38;5;241m/\u001b[39m\u001b[38;5;241m3\u001b[39m)\n\u001b[0;32m----> 4\u001b[0m \u001b[38;5;28;01massert\u001b[39;00m x \u001b[38;5;241m==\u001b[39m \u001b[38;5;241m3\u001b[39m\u001b[38;5;241m*\u001b[39my\n",
      "\u001b[0;31mAssertionError\u001b[0m: "
     ]
    }
   ],
   "source": [
    "x = np.float32(1)\n",
    "y = np.float32(1/3)\n",
    "\n",
    "assert x == 3*y"
   ]
  },
  {
   "cell_type": "code",
   "execution_count": null,
   "id": "925957f6",
   "metadata": {
    "slideshow": {
     "slide_type": "slide"
    },
    "tags": []
   },
   "outputs": [],
   "source": [
    "assert (0.1 + 0.2) == 0.3"
   ]
  },
  {
   "cell_type": "markdown",
   "id": "27a6bca7",
   "metadata": {
    "slideshow": {
     "slide_type": "slide"
    }
   },
   "source": [
    "For comparison of floating-point numbers, we use `np.isclose`."
   ]
  },
  {
   "cell_type": "code",
   "execution_count": null,
   "id": "94dd514b",
   "metadata": {
    "slideshow": {
     "slide_type": "-"
    }
   },
   "outputs": [],
   "source": [
    "assert np.isclose(x, 3*y)"
   ]
  },
  {
   "cell_type": "markdown",
   "id": "b6bc89a1",
   "metadata": {
    "slideshow": {
     "slide_type": "slide"
    }
   },
   "source": [
    "## Further resources\n",
    "\n",
    "* <div class=\"csl-entry\">IEEE ComputerSociety. (2019). <i>754-2019 - IEEE Standard for Floating-Point Arithmetic</i>. IEEE.</div> URL: https://standards.ieee.org/standard/754-2019.html\n",
    "* <div class=\"csl-entry\">Goldberg, D. (1991). What every computer scientist should know about floating-point arithmetic. <i>ACM Computing Surveys</i>, <i>23</i>(1), 5–48.</div> URL: https://doi.org/10.1145/103162.103163\n",
    "* <div class=\"csl-entry\">Overton, M. L. (2001). <i>Numerical Computing with IEEE Floating Point Arithmetic</i>. Society for Industrial and Applied Mathematics. URL: https://doi.org/10.1137/1.9780898718072</div>\n",
    "* R. Burden, J. Faires, A. M. Burden. Numerical Analysis. Brooks Cole, 10th edition (2015).\n",
    "* W. Cheney and D. Kincaid. Numerical Mathematics and Computing.  Wadsworth Publishing Co Inc, 7th edition (2012)."
   ]
  }
 ],
 "metadata": {
  "celltoolbar": "Slideshow",
  "kernelspec": {
   "display_name": "Python 3 (ipykernel)",
   "language": "python",
   "name": "python3"
  },
  "language_info": {
   "codemirror_mode": {
    "name": "ipython",
    "version": 3
   },
   "file_extension": ".py",
   "mimetype": "text/x-python",
   "name": "python",
   "nbconvert_exporter": "python",
   "pygments_lexer": "ipython3",
   "version": "3.10.4"
  }
 },
 "nbformat": 4,
 "nbformat_minor": 5
}
