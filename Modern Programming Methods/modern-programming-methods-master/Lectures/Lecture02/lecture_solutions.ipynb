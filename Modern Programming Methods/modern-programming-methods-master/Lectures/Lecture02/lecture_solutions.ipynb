{
 "cells": [
  {
   "cell_type": "markdown",
   "metadata": {
    "slideshow": {
     "slide_type": "slide"
    }
   },
   "source": [
    "# Scientific python: NumPy, SciPy and Matplotlib: Solutions"
   ]
  },
  {
   "cell_type": "markdown",
   "metadata": {},
   "source": [
    "This notebook contains example solutions to the exercises introduced in Lecture 1.\n",
    "\n",
    "This notebook should also be opened within the `ese-msc` (or a similar custom made) environment to ensure that all cells below can be ran successfully."
   ]
  },
  {
   "cell_type": "markdown",
   "metadata": {
    "slideshow": {
     "slide_type": "slide"
    }
   },
   "source": [
    "### Required imports"
   ]
  },
  {
   "cell_type": "code",
   "execution_count": 1,
   "metadata": {},
   "outputs": [],
   "source": [
    "# Import pybryt which will be used to check your solutions against reference solutions\n",
    "import pybryt\n",
    "from reflecture import pybryt_reference"
   ]
  },
  {
   "cell_type": "code",
   "execution_count": 2,
   "metadata": {
    "slideshow": {
     "slide_type": "-"
    }
   },
   "outputs": [],
   "source": [
    "# Convention: Import numpy and alias/rename it as np\n",
    "import numpy as np\n",
    "\n",
    "from pprint import pprint"
   ]
  },
  {
   "cell_type": "markdown",
   "metadata": {},
   "source": [
    "### <span style=\"color:blue\">Exercise 2.1</span>\n",
    "Add comments explaining what the following `NumPy` functions do."
   ]
  },
  {
   "cell_type": "code",
   "execution_count": 3,
   "metadata": {
    "slideshow": {
     "slide_type": "-"
    }
   },
   "outputs": [
    {
     "name": "stdout",
     "output_type": "stream",
     "text": [
      "[0. 0. 0.]\n"
     ]
    }
   ],
   "source": [
    "# Create an array of zeros of length 3\n",
    "b = np.zeros(3)\n",
    "print(b)"
   ]
  },
  {
   "cell_type": "code",
   "execution_count": 4,
   "metadata": {
    "slideshow": {
     "slide_type": "-"
    }
   },
   "outputs": [
    {
     "name": "stdout",
     "output_type": "stream",
     "text": [
      "[1. 1. 1.]\n"
     ]
    }
   ],
   "source": [
    "# Create an array of ones of length 3\n",
    "c = np.ones(3)\n",
    "print(c)"
   ]
  },
  {
   "cell_type": "code",
   "execution_count": 5,
   "metadata": {},
   "outputs": [
    {
     "name": "stdout",
     "output_type": "stream",
     "text": [
      "[[1. 0. 0.]\n",
      " [0. 1. 0.]\n",
      " [0. 0. 1.]]\n"
     ]
    }
   ],
   "source": [
    "# Create a 2-D array with ones on the diagonal and zeros elsewhere\n",
    "d = np.eye(3)\n",
    "print(d)"
   ]
  },
  {
   "cell_type": "markdown",
   "metadata": {},
   "source": [
    "### <span style=\"color:blue\">Exercise 2.2</span>\n",
    "\n",
    "Work out the shape of the resulting arrays by 'sight'. <br>"
   ]
  },
  {
   "cell_type": "code",
   "execution_count": 6,
   "metadata": {},
   "outputs": [],
   "source": [
    "## don't change the following line of code in any way\n",
    "a = np.array([[11, 12, 13], [21, 22, 23], [31, 32, 33], [41, 42, 43]])\n",
    "b = np.array([[[1, 1], [2, 2], [3, 3], [4, 4]], [[1, 1], [2, 2], [3, 3], [4, 4]],\n",
    "              [[1, 1], [2, 2], [3, 3], [4, 4]]])"
   ]
  },
  {
   "cell_type": "markdown",
   "metadata": {},
   "source": [
    "Now, write their shapes as `tuple`s in the cell below:"
   ]
  },
  {
   "cell_type": "code",
   "execution_count": 7,
   "metadata": {
    "slideshow": {
     "slide_type": "-"
    }
   },
   "outputs": [],
   "source": [
    "## Solution...\n",
    "shape_a = (4, 3)\n",
    "shape_b = (3, 4, 2)"
   ]
  },
  {
   "cell_type": "code",
   "execution_count": 8,
   "metadata": {},
   "outputs": [
    {
     "name": "stdout",
     "output_type": "stream",
     "text": [
      "REFERENCE: exercise-2_21\n",
      "SATISFIED: True\n",
      "MESSAGES:\n",
      "  - SUCCESS: Array `a` checked: OK\n",
      "  - SUCCESS: Correct number of columns and/or rows\n"
     ]
    }
   ],
   "source": [
    "## The following code is used to check your solution and should not be modified\n",
    "## It should help you by providing feedback to the solution you have provided\n",
    "with pybryt.check(pybryt_reference(2, 21)):\n",
    "    a\n",
    "    shape_a"
   ]
  },
  {
   "cell_type": "code",
   "execution_count": 9,
   "metadata": {},
   "outputs": [
    {
     "name": "stdout",
     "output_type": "stream",
     "text": [
      "REFERENCE: exercise-2_22\n",
      "SATISFIED: True\n",
      "MESSAGES:\n",
      "  - SUCCESS: Array `b` checked: OK\n",
      "  - SUCCESS: Correct number of columns and/or rows\n"
     ]
    }
   ],
   "source": [
    "## The following code is used to check your solution and should not be modified\n",
    "## It should help you by providing feedback to the solution you have provided\n",
    "with pybryt.check(pybryt_reference(2, 22)):\n",
    "    b\n",
    "    shape_b"
   ]
  },
  {
   "cell_type": "code",
   "execution_count": 10,
   "metadata": {
    "slideshow": {
     "slide_type": "-"
    }
   },
   "outputs": [
    {
     "name": "stdout",
     "output_type": "stream",
     "text": [
      "array([[11, 12, 13],\n",
      "       [21, 22, 23],\n",
      "       [31, 32, 33],\n",
      "       [41, 42, 43]])\n",
      "a (4, 3)\n",
      "2\n",
      "12\n"
     ]
    }
   ],
   "source": [
    "pprint(a)\n",
    "print(\"a\", a.shape)\n",
    "print(a.ndim)\n",
    "print(a.size)"
   ]
  },
  {
   "cell_type": "code",
   "execution_count": 11,
   "metadata": {
    "slideshow": {
     "slide_type": "-"
    }
   },
   "outputs": [
    {
     "name": "stdout",
     "output_type": "stream",
     "text": [
      "array([[[1, 1],\n",
      "        [2, 2],\n",
      "        [3, 3],\n",
      "        [4, 4]],\n",
      "\n",
      "       [[1, 1],\n",
      "        [2, 2],\n",
      "        [3, 3],\n",
      "        [4, 4]],\n",
      "\n",
      "       [[1, 1],\n",
      "        [2, 2],\n",
      "        [3, 3],\n",
      "        [4, 4]]])\n",
      "b (3, 4, 2)\n",
      "3\n",
      "24\n"
     ]
    }
   ],
   "source": [
    "pprint(b)\n",
    "print(\"b\", b.shape)\n",
    "print(b.ndim)\n",
    "print(b.size)"
   ]
  },
  {
   "cell_type": "markdown",
   "metadata": {},
   "source": [
    "### <span style=\"color:blue\">Exercise 2.3</span>\n",
    "\n",
    "Manually create an `np.array` called `b` which is equivalent to the output of `a[2:-3:2]`."
   ]
  },
  {
   "cell_type": "code",
   "execution_count": 12,
   "metadata": {},
   "outputs": [],
   "source": [
    "# First set `a` as in the lecture:\n",
    "a = np.arange(8)"
   ]
  },
  {
   "cell_type": "code",
   "execution_count": 13,
   "metadata": {},
   "outputs": [],
   "source": [
    "## Solution...\n",
    "b = np.array([2, 4])"
   ]
  },
  {
   "cell_type": "code",
   "execution_count": 14,
   "metadata": {
    "slideshow": {
     "slide_type": "-"
    }
   },
   "outputs": [
    {
     "name": "stdout",
     "output_type": "stream",
     "text": [
      "REFERENCE: exercise-2_3\n",
      "SATISFIED: True\n",
      "MESSAGES:\n",
      "  - SUCCESS: array `a` checked: OK\n",
      "  - SUCCESS: That would be the correct output.\n"
     ]
    }
   ],
   "source": [
    "## The following code is used to check your solution and should not be modified\n",
    "## It should help you by providing feedback to the solution you have provided\n",
    "with pybryt.check(pybryt_reference(2, 3)):\n",
    "    a\n",
    "    b"
   ]
  },
  {
   "cell_type": "markdown",
   "metadata": {},
   "source": [
    "### <span style=\"color:blue\">Exercise 2.4</span>\n",
    "Create a two-dimensional array called `m` to represent the following matrix,\n",
    "$$\n",
    "\\mathbf{m} = \\left\\lbrack\\begin{array}{ccc}\n",
    "1 & 1 & 2\\cr\n",
    "3 & 5 & 8\\cr\n",
    "13 & 21 & 34\\cr\n",
    "55 & 89 & 144\n",
    "\\end{array}\\right\\rbrack\n",
    "$$\n",
    "\n",
    "Then change all the elements with values 21, 34, 89, and 144 in matrix `m` (i.e. bottom right corner elements) to 1001 by using a slice."
   ]
  },
  {
   "cell_type": "code",
   "execution_count": 15,
   "metadata": {
    "slideshow": {
     "slide_type": "-"
    }
   },
   "outputs": [
    {
     "name": "stdout",
     "output_type": "stream",
     "text": [
      "array([[  1,   1,   2],\n",
      "       [  3,   5,   8],\n",
      "       [ 13,  21,  34],\n",
      "       [ 55,  89, 144]])\n",
      "array([[   1,    1,    2],\n",
      "       [   3,    5,    8],\n",
      "       [  13, 1001, 1001],\n",
      "       [  55, 1001, 1001]])\n"
     ]
    }
   ],
   "source": [
    "## Solution...\n",
    "m = np.array([[1,1,2],[3,5,8],[13,21,34],[55,89,144]])\n",
    "pprint(m)\n",
    "\n",
    "s = m[2:4,1:3]\n",
    "s[:,:] = 1001\n",
    "\n",
    "pprint(m)"
   ]
  },
  {
   "cell_type": "code",
   "execution_count": 16,
   "metadata": {
    "scrolled": true
   },
   "outputs": [
    {
     "name": "stdout",
     "output_type": "stream",
     "text": [
      "REFERENCE: exercise-2_4\n",
      "SATISFIED: True\n",
      "MESSAGES:\n",
      "  - SUCCESS: Great, you have succesfully affected the change to the array.\n"
     ]
    }
   ],
   "source": [
    "# The following code is used to check your answer and should not be modified\n",
    "with pybryt.check(pybryt_reference(2, 4)):\n",
    "    m"
   ]
  },
  {
   "cell_type": "markdown",
   "metadata": {},
   "source": [
    "### <span style=\"color:blue\">Exercise 2.5</span>\n",
    "\n",
    "How is `reshape()` different from `resize()`? Recall that you can view docstrings via, e.g., `print(np.reshape.__doc__)` or `help(np.reshape)` etc."
   ]
  },
  {
   "cell_type": "code",
   "execution_count": 17,
   "metadata": {},
   "outputs": [
    {
     "name": "stdout",
     "output_type": "stream",
     "text": [
      "array([[0, 1, 2, 3],\n",
      "       [4, 5, 6, 7]])\n",
      "array([[0, 1, 2, 3],\n",
      "       [4, 5, 6, 7]])\n",
      "array([[0, 1, 2, 3, 4, 5, 6, 7],\n",
      "       [0, 1, 2, 3, 4, 5, 6, 7]])\n",
      "array([[0, 1],\n",
      "       [2, 3]])\n"
     ]
    }
   ],
   "source": [
    "# Let's use this simple array to run the check.\n",
    "e = np.arange(8)\n",
    "# check if/how reshape and resize are different using the array above:\n",
    "\n",
    "# try the following:\n",
    "e1 = np.reshape(e, (2, 4))\n",
    "e2 = np.resize(e, (2, 4))\n",
    "\n",
    "# They should both produce arrays of shape (2, 4)\n",
    "pprint(e1)\n",
    "pprint(e2)\n",
    "\n",
    "# note that np.reshape needs to have the same number of elements\n",
    "# as the original array, while resize can be larger or smaller\n",
    "\n",
    "# for example, the following will work (note that the elements\n",
    "# are repeated when the new array is larger than the old one):\n",
    "e3 = np.resize(e, (2, 8))\n",
    "e4 = np.resize(e, (2, 2))\n",
    "\n",
    "pprint(e3)\n",
    "pprint(e4)\n",
    "\n",
    "# however, these will not work. Try uncommenting them to see for yourself.\n",
    "#e5 = np.reshape(e, (2, 8))\n",
    "#e6 = np.reshape(2, (2, 2))"
   ]
  },
  {
   "cell_type": "markdown",
   "metadata": {},
   "source": [
    "### <span style=\"color:blue\">Exercise 2.6</span>\n",
    "\n",
    "Let $A$ be the two-dimensional array\n",
    "$$\n",
    "\\mathbf{A} = \\left\\lbrack\\begin{array}{ccc}\n",
    "2 & 1 & 0\\cr\n",
    "-1 & 2 & 1\\cr\n",
    "0 & -1 & 2\n",
    "\\end{array}\\right\\rbrack\n",
    "$$\n",
    "\n",
    "In the following cell, initialise `A` as an `np.array`."
   ]
  },
  {
   "cell_type": "code",
   "execution_count": 18,
   "metadata": {},
   "outputs": [
    {
     "name": "stdout",
     "output_type": "stream",
     "text": [
      "array([[ 2,  1,  0],\n",
      "       [-1,  2,  1],\n",
      "       [ 0, -1,  2]])\n"
     ]
    }
   ],
   "source": [
    "## Solution...\n",
    "A = np.array([[2,1,0], [-1,2,1], [0,-1,2]])\n",
    "\n",
    "pprint(A)"
   ]
  },
  {
   "cell_type": "markdown",
   "metadata": {},
   "source": [
    "Next, implement the function\n",
    "$$\n",
    "f(x) = x^3 + xe^x + 1\n",
    "$$\n",
    "and then apply it to the array $A$. <br>\n",
    "To check you get the expected  result ensure the function is called `f_02_06`, i.e. implement as `def f_02_06(x): ...`"
   ]
  },
  {
   "cell_type": "code",
   "execution_count": 19,
   "metadata": {},
   "outputs": [],
   "source": [
    "# Solution...\n",
    "e = np.e\n",
    "def f_02_06(x):\n",
    "    x = x**3 + x*e**x + 1\n",
    "    return x"
   ]
  },
  {
   "cell_type": "code",
   "execution_count": 20,
   "metadata": {},
   "outputs": [
    {
     "name": "stdout",
     "output_type": "stream",
     "text": [
      "REFERENCE: exercise-2_6\n",
      "SATISFIED: True\n",
      "MESSAGES:\n",
      "  - Matrix `A` checked and it looks good.\n",
      "  - SUCCESS: Amazing! Your function returns the correct solution.\n"
     ]
    }
   ],
   "source": [
    "## The following code is used to check your solution and should not be modified\n",
    "## It should help you by providing feedback to the solution you have provided\n",
    "with pybryt.check(pybryt_reference(2, 6)):\n",
    "    f_02_06(A)"
   ]
  },
  {
   "cell_type": "markdown",
   "metadata": {
    "slideshow": {
     "slide_type": "-"
    }
   },
   "source": [
    "### <span style=\"color:blue\">Exercise 2.7</span>\n",
    "\n",
    "See what arrays you can create from some of the functions listed above. An example is provided for concatenate but experiment with some of the other fuctions listed."
   ]
  },
  {
   "cell_type": "code",
   "execution_count": 21,
   "metadata": {},
   "outputs": [
    {
     "name": "stdout",
     "output_type": "stream",
     "text": [
      "[[ 1  2  3  7  8  9]\n",
      " [ 4  5  6 10 11 12]]\n"
     ]
    }
   ],
   "source": [
    "## e.g., let's see what concatenate does:\n",
    "a1 = np.array([[1,2,3],[4,5,6]])\n",
    "a2 = np.array([[7,8,9],[10,11,12]])\n",
    "a3 = np.concatenate((a1,a2),axis=1)\n",
    "print(a3)"
   ]
  },
  {
   "cell_type": "markdown",
   "metadata": {},
   "source": [
    "Use `concatenate` to combine arrays `a1` and `a2` into an array called `a4` with the following arrangement:\n",
    "$$\n",
    "\\left\\lbrack\\begin{array}{ccc}\n",
    "1 & 2 & 3\\cr\n",
    "4 & 5 & 6\\cr\n",
    "7 & 8 & 9\\cr\n",
    "10 & 11 & 12\n",
    "\\end{array}\\right\\rbrack\n",
    "$$"
   ]
  },
  {
   "cell_type": "code",
   "execution_count": 22,
   "metadata": {},
   "outputs": [
    {
     "name": "stdout",
     "output_type": "stream",
     "text": [
      "array([[ 1,  2,  3],\n",
      "       [ 4,  5,  6],\n",
      "       [ 7,  8,  9],\n",
      "       [10, 11, 12]])\n"
     ]
    }
   ],
   "source": [
    "## Solution...\n",
    "a4 = np.concatenate((a1,a2),axis=0)\n",
    "pprint(a4)"
   ]
  },
  {
   "cell_type": "code",
   "execution_count": 23,
   "metadata": {},
   "outputs": [
    {
     "name": "stdout",
     "output_type": "stream",
     "text": [
      "REFERENCE: exercise-2_7\n",
      "SATISFIED: True\n",
      "MESSAGES:\n",
      "  - SUCCESS: Array `a1` check: OK.\n",
      "  - SUCCESS: Array `a2` check: OK.\n",
      "  - SUCCESS: Super! Array `a4` appears as expected.\n"
     ]
    }
   ],
   "source": [
    "## The following code is used to check your solution and should not be modified\n",
    "## It should help you by providing feedback to the solution you have provided\n",
    "with pybryt.check(pybryt_reference(2, 7)):\n",
    "    a1\n",
    "    a2\n",
    "    a4"
   ]
  },
  {
   "cell_type": "markdown",
   "metadata": {},
   "source": [
    "### <span style=\"color:blue\">Exercise 2.8</span>\n",
    "\n",
    "Use `base` to check if array `q` is a copy of array `p`. Use `base` to check. <br>\n",
    "Now, do the same for a simple indexed slice of `p` (e.g. `p[1:2,3:4]`)."
   ]
  },
  {
   "cell_type": "code",
   "execution_count": 24,
   "metadata": {},
   "outputs": [],
   "source": [
    "# Set p and q as in the lecture\n",
    "p = np.array([[0, 1, 2],[3, 4, 5],[6, 7,8],[9, 10, 11]])\n",
    "rows = [0, 0, 3, 3]   # indices for rows\n",
    "cols = [0, 2, 0, 2]   # indices for columns\n",
    "q = p[rows, cols]"
   ]
  },
  {
   "cell_type": "code",
   "execution_count": 25,
   "metadata": {},
   "outputs": [
    {
     "name": "stdout",
     "output_type": "stream",
     "text": [
      "False\n",
      "True\n"
     ]
    }
   ],
   "source": [
    "# Solution...\n",
    "print(q.base is p)\n",
    "s = p[1:2,3:4]\n",
    "print(s.base is p)"
   ]
  },
  {
   "cell_type": "markdown",
   "metadata": {},
   "source": [
    "### <span style=\"color:blue\">Exercise 2.9</span>\n",
    "\n",
    "Challenge yourself to anticipate the output of the following code before running it."
   ]
  },
  {
   "cell_type": "code",
   "execution_count": 26,
   "metadata": {
    "slideshow": {
     "slide_type": "-"
    }
   },
   "outputs": [
    {
     "name": "stdout",
     "output_type": "stream",
     "text": [
      "[0 1 2 3 4 5 6 7 8 9]\n"
     ]
    }
   ],
   "source": [
    "a = np.arange(10)\n",
    "print(a)\n",
    "mask = np.ones(len(a), dtype=bool)\n",
    "mask[[0,2,4]] = False  # set certain mask values to False\n",
    "result = a[mask]"
   ]
  },
  {
   "cell_type": "markdown",
   "metadata": {},
   "source": [
    " Check if you are correct by by printing the array `result`. i.e. `pprint`"
   ]
  },
  {
   "cell_type": "code",
   "execution_count": 27,
   "metadata": {},
   "outputs": [
    {
     "name": "stdout",
     "output_type": "stream",
     "text": [
      "array([1, 3, 5, 6, 7, 8, 9])\n"
     ]
    }
   ],
   "source": [
    "## check using pprint\n",
    "pprint(result)"
   ]
  },
  {
   "cell_type": "markdown",
   "metadata": {},
   "source": [
    "Now write a function called `f_02_09` using `mask` to return an array function with the following elements from array `a` removed: 3, 5, and 9. <br>\n",
    "That is, the function should take the array `a` as input and return the 'modified' `a` (without elements 3, 5 and 9)."
   ]
  },
  {
   "cell_type": "code",
   "execution_count": 28,
   "metadata": {},
   "outputs": [],
   "source": [
    "## Solution...\n",
    "def f_02_09(x):\n",
    "    mask = np.ones(len(x), dtype=bool)\n",
    "    mask[[3,5,9]] = False\n",
    "    return a[mask]"
   ]
  },
  {
   "cell_type": "code",
   "execution_count": 29,
   "metadata": {},
   "outputs": [
    {
     "name": "stdout",
     "output_type": "stream",
     "text": [
      "[0 1 2 4 6 7 8]\n",
      "REFERENCE: exercise-2_9\n",
      "SATISFIED: True\n",
      "MESSAGES:\n",
      "  - SUCCESS: You are using the correct input parameter to test your function.\n",
      "  - SUCCESS: Great! Your function returns the correct result.\n"
     ]
    }
   ],
   "source": [
    "## The following code is used to check you solution and should not be modified\n",
    "## It should help you by providing feedback to the solution you have provided\n",
    "with pybryt.check(pybryt_reference(2, 9)):\n",
    "    print(f_02_09(a))"
   ]
  },
  {
   "cell_type": "markdown",
   "metadata": {
    "collapsed": true,
    "slideshow": {
     "slide_type": "-"
    }
   },
   "source": [
    "### <span style=\"color:blue\">Exercise 2.10</span>\n",
    "\n",
    "Explore other ways of generating random numbers. <br>\n",
    "Below you will find an example for generating samples from a binomial distribution. <br>\n",
    "What other distributions can you sample? <br>\n",
    "Further documentation: https://numpy.org/doc/stable/reference/random/generator.html"
   ]
  },
  {
   "cell_type": "code",
   "execution_count": 30,
   "metadata": {},
   "outputs": [
    {
     "name": "stdout",
     "output_type": "stream",
     "text": [
      "array([3, 2, 2, 2, 3, 3, 2, 1, 4, 3, 4, 4, 2, 3, 0, 4, 1, 4, 3, 4, 3, 0,\n",
      "       4, 3, 2])\n"
     ]
    }
   ],
   "source": [
    "s = np.random.binomial(5, 0.5, size=25)\n",
    "pprint(s)"
   ]
  },
  {
   "cell_type": "code",
   "execution_count": 31,
   "metadata": {},
   "outputs": [
    {
     "name": "stdout",
     "output_type": "stream",
     "text": [
      "array([-0.05528794, -0.01475525,  0.12197641, -0.11098283,  0.18710383,\n",
      "        0.06448231,  0.10768305,  0.10972023, -0.00833597, -0.00731083,\n",
      "        0.09881393, -0.11422304,  0.24278701, -0.05547671,  0.06133979,\n",
      "        0.21524363, -0.01896669,  0.15227336, -0.06249273, -0.10864806,\n",
      "        0.31979071, -0.1122038 , -0.299519  ,  0.0999737 ,  0.19018643,\n",
      "        0.18022981, -0.15628063, -0.0217745 , -0.14697233,  0.25996311,\n",
      "       -0.07579228, -0.10817007, -0.01237352, -0.36058502, -0.01699692])\n",
      "array([ 8, 12,  9,  5,  4, 11, 11,  5,  7, 12,  9, 13, 11, 10, 13, 10,  8,\n",
      "       12, 14, 16,  5, 15,  6, 11, 12])\n"
     ]
    }
   ],
   "source": [
    "# Test some other distributions here\n",
    "\n",
    "# First we could draw some numbers from a normal (Gaussian) distribution\n",
    "# with a mean of 0 and a standart deviation of 0.2\n",
    "mu, sigma = 0, 0.2 # mean and standard deviation\n",
    "s = np.random.normal(mu, sigma, size=35)\n",
    "pprint(s)\n",
    "\n",
    "# Or we could try a poisson distribution:\n",
    "lam = 10\n",
    "s = np.random.poisson(lam, size=25)\n",
    "pprint(s)"
   ]
  },
  {
   "cell_type": "markdown",
   "metadata": {
    "slideshow": {
     "slide_type": "-"
    }
   },
   "source": [
    "### <span style=\"color:blue\">Exercise 2.11</span>\n",
    "\n",
    "What do `numpy.save()` and `numpy.load()` do ?"
   ]
  },
  {
   "cell_type": "code",
   "execution_count": 32,
   "metadata": {},
   "outputs": [
    {
     "name": "stdout",
     "output_type": "stream",
     "text": [
      "array([ 0,  1,  2,  3,  4,  5,  6,  7,  8,  9, 10, 11, 12, 13, 14, 15, 16,\n",
      "       17, 18, 19, 20, 21, 22, 23, 24])\n",
      "array([ 0,  1,  2,  3,  4,  5,  6,  7,  8,  9, 10, 11, 12, 13, 14, 15, 16,\n",
      "       17, 18, 19, 20, 21, 22, 23, 24])\n"
     ]
    }
   ],
   "source": [
    "# try using numpy.save() and numpy.load() here:\n",
    "\n",
    "# create an array\n",
    "A = np.arange(25)\n",
    "\n",
    "# save it to a file\n",
    "np.save('myfile.npy', A)\n",
    "\n",
    "# load it from the file into a new array, A2\n",
    "A2 = np.load('myfile.npy')\n",
    "\n",
    "# check the arrays match\n",
    "pprint(A)\n",
    "pprint(A2)"
   ]
  },
  {
   "cell_type": "markdown",
   "metadata": {
    "slideshow": {
     "slide_type": "subslide"
    }
   },
   "source": [
    "### <span style=\"color:blue\">Exercise 2.12</span>\n",
    "\n",
    "Here are some `timeit` experiments for you to try. Check which methods are faster?"
   ]
  },
  {
   "cell_type": "code",
   "execution_count": 33,
   "metadata": {
    "slideshow": {
     "slide_type": "-"
    }
   },
   "outputs": [
    {
     "name": "stdout",
     "output_type": "stream",
     "text": [
      "136 ns ± 0.932 ns per loop (mean ± std. dev. of 3 runs, 10,000,000 loops each)\n",
      "60.9 ns ± 0.555 ns per loop (mean ± std. dev. of 3 runs, 10,000,000 loops each)\n"
     ]
    }
   ],
   "source": [
    "# Accessing a 2d array\n",
    "nd = np.arange(100).reshape((10,10))\n",
    "\n",
    "# accessing element of 2d array\n",
    "%timeit -n 10000000 -r 3 nd[5][5]\n",
    "%timeit -n 10000000 -r 3 nd[5,5]"
   ]
  },
  {
   "cell_type": "code",
   "execution_count": 34,
   "metadata": {
    "slideshow": {
     "slide_type": "-"
    }
   },
   "outputs": [
    {
     "name": "stdout",
     "output_type": "stream",
     "text": [
      "157 ms ± 20 ms per loop (mean ± std. dev. of 10 runs, 1 loop each)\n",
      "164 ms ± 20 ms per loop (mean ± std. dev. of 10 runs, 1 loop each)\n"
     ]
    }
   ],
   "source": [
    "# Multiplying two vectors\n",
    "x = np.arange(10E7)\n",
    "%timeit -n 1 -r 10 x*x\n",
    "%timeit -n 1 -r 10 x**2"
   ]
  },
  {
   "cell_type": "code",
   "execution_count": 35,
   "metadata": {
    "slideshow": {
     "slide_type": "-"
    }
   },
   "outputs": [
    {
     "name": "stdout",
     "output_type": "stream",
     "text": [
      "159 ms ± 4.15 ms per loop (mean ± std. dev. of 7 runs, 1 loop each)\n",
      "57.1 ms ± 2.89 ms per loop (mean ± std. dev. of 7 runs, 10 loops each)\n",
      "2.19 ms ± 22 µs per loop (mean ± std. dev. of 7 runs, 100 loops each)\n"
     ]
    }
   ],
   "source": [
    "# Comparing range functions and iterating in loops\n",
    "# Note: some distributions may see overflow in range() example\n",
    "\n",
    "size = int(1E6)\n",
    "\n",
    "%timeit for x in range(size): x**2\n",
    "\n",
    "%timeit for x in np.arange(size): x**2\n",
    "\n",
    "%timeit np.arange(size)**2"
   ]
  },
  {
   "cell_type": "code",
   "execution_count": 36,
   "metadata": {},
   "outputs": [
    {
     "name": "stdout",
     "output_type": "stream",
     "text": [
      "22.2 ms ± 1.35 ms per loop (mean ± std. dev. of 10 runs, 1 loop each)\n"
     ]
    }
   ],
   "source": [
    "# Extra : from the linear algebra package\n",
    "%timeit -n 1 -r 10 np.dot(x,x)"
   ]
  },
  {
   "cell_type": "code",
   "execution_count": 37,
   "metadata": {},
   "outputs": [],
   "source": [
    "# The importance of vectorisation!\n",
    "\n",
    "def add_vectors_loop(a, b):\n",
    "    assert a.size == b.size\n",
    "    c = np.zeros(a.shape)\n",
    "    for i in range(0, a.size):\n",
    "        c[i] = a[i] + b[i]\n",
    "    return c\n",
    "\n",
    "def add_vectors_vectorized(a, b):\n",
    "    assert a.size == b.size\n",
    "    c = np.zeros(a.shape)\n",
    "    c = a + b\n",
    "    return c"
   ]
  },
  {
   "cell_type": "code",
   "execution_count": 38,
   "metadata": {},
   "outputs": [
    {
     "name": "stdout",
     "output_type": "stream",
     "text": [
      "463 µs ± 3.71 µs per loop (mean ± std. dev. of 7 runs, 1,000 loops each)\n",
      "2.89 µs ± 40.8 ns per loop (mean ± std. dev. of 7 runs, 100,000 loops each)\n"
     ]
    }
   ],
   "source": [
    "a = np.arange(0, 2000)\n",
    "b = np.arange(0, 2000)*0.5+1\n",
    "%timeit add_vectors_loop(a, b)\n",
    "%timeit add_vectors_vectorized(a, b)\n",
    "\n",
    "# The vectorized operation is far quicker since it utilizes c-code under the hood. Writing 'for' loops to perform\n",
    "# numerical calcuations is fine in c/c++ since the compiler with vectorize these expressions for us. However, since\n",
    "# python for loops will not be vectorized they should be avoided for number crunching."
   ]
  },
  {
   "cell_type": "markdown",
   "metadata": {},
   "source": [
    "### <span style=\"color:blue\">Exercise 2.13</span>\n",
    "\n",
    "The Taylor series expansion for the trigonometric function $\\arctan(y)$ is :\n",
    "$$\\arctan ( y) \\, = \\,y - \\frac{y^3}{3} + \\frac{y^5}{5}  - \\frac{y^7}{7}  + \\dots $$\n",
    "Now, $\\arctan(1) = \\pi/4 $, so\n",
    "$$ \\pi = 4 \\, \\Big( 1- \\frac{1}{3} + \\frac{1}{5} - \\frac{1}{7} + ... \\Big) $$\n",
    "<br>\n",
    "We can represent the first few terms of the series expansion of $\\arctan(y)$ using a numpy `Polynomial`, with coefficients:\n",
    "$$0, +1, 0, -1/3, 0, +1/5, 0, -1/7,\\ldots\\,$$ \n",
    "and then use it to approximate $\\pi$.\n",
    "\n",
    "Write a function called `arctan` using the expansion above and use it to calculate an approximation of $\\pi$ using numpy polynomials."
   ]
  },
  {
   "cell_type": "code",
   "execution_count": 39,
   "metadata": {},
   "outputs": [],
   "source": [
    "## You should use numpy.polynmial in your function so lets import it\n",
    "from numpy.polynomial import Polynomial"
   ]
  },
  {
   "cell_type": "code",
   "execution_count": 40,
   "metadata": {},
   "outputs": [],
   "source": [
    "## Solution...\n",
    "def arctan(x):\n",
    "    p = Polynomial([0, 1, 0, -1/3, 0, 1/5, 0, -1/7])\n",
    "    return p(x)"
   ]
  },
  {
   "cell_type": "code",
   "execution_count": 41,
   "metadata": {},
   "outputs": [
    {
     "name": "stdout",
     "output_type": "stream",
     "text": [
      "2.8952380952380956\n",
      "REFERENCE: exercise-2_13\n",
      "SATISFIED: True\n",
      "MESSAGES:\n",
      "  - SUCCESS: Your function correctly calculates arctan(1) to a sufficient accuracy\n"
     ]
    }
   ],
   "source": [
    "## The following code is used to check you solution and should not be modified\n",
    "## It should help you by providing feedback to the solution you have provided\n",
    "with pybryt.check(pybryt_reference(2, 13)):\n",
    "    print(4.0*arctan(1))"
   ]
  },
  {
   "cell_type": "markdown",
   "metadata": {},
   "source": [
    "#### Bonus exercise:\n",
    "\n",
    "Find the number of terms required to achieve an approximation of $\\pi$ with an accuracy of order $10^{-4}$. (You can check the difference against `numpy.pi`).\n",
    "\n",
    "Suggestion: Perhaps start by generating a 1D array with the coefficients of the `arctan` expansion. Let the function that returns the 1D array be called `poly_coeff_arctan_ext`. The input argument to the function `poly_coeff_arctan_ext` should be number of terms in the expansion (including the zeros), e.g. the previous expansion up to \"-1/7\" coefficient contained 8 terms.\n",
    "\n",
    "Let your final result be called `mypi`. It will be checked against a referenced solution to provide you with some feedback."
   ]
  },
  {
   "cell_type": "code",
   "execution_count": 42,
   "metadata": {},
   "outputs": [
    {
     "name": "stdout",
     "output_type": "stream",
     "text": [
      "3.141590000000017\n",
      "3.141592653589793\n"
     ]
    }
   ],
   "source": [
    "# Solution...\n",
    "def poly_coeff_arctan_ext(ncoffs):\n",
    "    #rounding ncoffs up to the nearest multiple of 4\n",
    "    nterms = int(4*np.ceil(ncoffs/4))\n",
    "    #note: nterms is always a multiple of 4\n",
    "    a = np.zeros((int(nterms/4),1))\n",
    "    b = np.arange(nterms)\n",
    "    b = np.resize(b,(int(nterms/2),2))\n",
    "    b = np.resize(b[:,1:2],(int(nterms/4),2))\n",
    "    #print(b)\n",
    "    d = np.concatenate((a,1./b[:,0:1],a,-1./b[:,1:2]),axis=1)\n",
    "    d = d.flatten()\n",
    "    return d\n",
    "\n",
    "f = Polynomial(poly_coeff_arctan_ext(753696))\n",
    "\n",
    "mypi = 4*f(1)\n",
    "\n",
    "print(mypi)\n",
    "print(np.pi)"
   ]
  },
  {
   "cell_type": "code",
   "execution_count": 43,
   "metadata": {},
   "outputs": [
    {
     "name": "stdout",
     "output_type": "stream",
     "text": [
      "REFERENCE: exercise-2_131\n",
      "SATISFIED: False\n",
      "MESSAGES:\n",
      "  - Your approx. of pi is accurate to 2 digits.\n",
      "  - Your approx. of pi is accurate to 3 digits.\n",
      "  - Your approx. of pi is accurate to 4 digits.\n",
      "  - Good! Your approx. of pi is accurate to 5 digits.\n",
      " \n",
      " \n",
      " \n",
      " \n",
      " \n",
      "  - SUCCESS: Your `poly_coeff_arctan_ext` function returns the correct array for the first 10,000 coefficients\n",
      "  - Well done! No large iterator loops were detected.\n"
     ]
    }
   ],
   "source": [
    "## The following code is used to check your solution and should not be modified\n",
    "## It should help you by providing feedback to the solution you have provided\n",
    "with pybryt.check(pybryt_reference(2, 131)):\n",
    "    poly_coeff_arctan_ext(10000)\n",
    "    mypi"
   ]
  },
  {
   "cell_type": "markdown",
   "metadata": {},
   "source": [
    "### <span style=\"color:blue\">Exercise 2.14</span> : Darts (calculating $\\pi$ again)\n",
    "\n",
    "\n",
    "#### A Monte Carlo method (aka \"throwing darts\")\n",
    "\n",
    "Geometry gives us an expression for $\\pi$:\n",
    "\n",
    "Let $N_{in}$ be the number of darts falling on the board, and $N_{tot}=N_{in}+N_{out}$ the total number of trials.\n",
    "\n",
    "![](figures/darts.png)\n",
    "\n",
    "Owing to the geometry we then have\n",
    "$$\n",
    "\\pi \\approx 4 N_{in} / N_{tot}.\n",
    "$$\n",
    "\n",
    "Try using `nparray`s to approximate $\\pi$ according to the following algorithm:\n",
    "1. Choose a sample size `ntot`.\n",
    "2. Generate an array of random $x$ coordinates $0 \\leq x < 1$.\n",
    "3. Generate an array of random $y$ coordinates $0 \\leq y < 1$.\n",
    "4. Count the number for which $x^2 + y^2 < 1$.\n",
    "5. Compute an approximate $\\pi$.\n",
    "6. Repeat for several values of `ntot` and print the error.\n",
    "\n",
    "The name of the function you should use should be `f_02_14(ntot)` where `ntot` is the number of trials/throws."
   ]
  },
  {
   "cell_type": "code",
   "execution_count": 44,
   "metadata": {},
   "outputs": [],
   "source": [
    "## Solution... (don't forget to set ntot!)\n",
    "\n",
    "ntot = 300000\n",
    "\n",
    "def f_02_14(ntot):\n",
    "    ## just checking if pybryt catches this dummy loop:\n",
    "    ##for i in range(15): i\n",
    "    x = np.random.ranf(ntot)\n",
    "    y = np.random.ranf(ntot)\n",
    "    sqrr = np.sqrt(x**2 + y**2)\n",
    "    ##check how many instances have a r < 1\n",
    "    nin = float(np.size(np.where(sqrr < 1)))\n",
    "    x = nin/(ntot)\n",
    "    return 4*x"
   ]
  },
  {
   "cell_type": "code",
   "execution_count": 45,
   "metadata": {},
   "outputs": [
    {
     "name": "stdout",
     "output_type": "stream",
     "text": [
      "3.1390933333333333\n",
      "REFERENCE: exercise-2_14\n",
      "SATISFIED: False\n",
      "MESSAGES:\n",
      "  - Nice. No loops could be found in your function.\n",
      "  - Your approx. of pi is accurate to 2 digits.\n",
      " \n",
      " \n",
      " \n",
      " \n",
      " \n",
      " \n",
      " \n",
      " \n",
      "  - Well done! No large iterator loops were detected.\n"
     ]
    }
   ],
   "source": [
    "## The following code is used to check you solution and should not be modified\n",
    "## It should help you by providing feedback to the solution you have provided\n",
    "with pybryt.check(pybryt_reference(2, 14)):\n",
    "    print(f_02_14(ntot))    "
   ]
  },
  {
   "cell_type": "markdown",
   "metadata": {},
   "source": [
    "### <span style=\"color:blue\">Exercise 2.15</span>\n",
    "\n",
    "Consider the following functions defined on a 2D 'square' domain $\\Omega = [0,1]$:\n",
    "\n",
    "$$ a(x) = \\tanh\\left(50\\sin\\left(\\frac{25}{2}\\pi x\\right)\\right)$$\n",
    "\n",
    "and\n",
    "\n",
    "$$ f(\\mathbf{x}) = a(a(|\\mathbf{x}-\\mathbf{x}_0|)) + a(a(|\\mathbf{x}-\\mathbf{x}_1|)) $$\n",
    "\n",
    "for any $\\mathbf{x} \\in \\Omega$, with $\\mathbf{x}_0=(0,0)$ and $\\mathbf{x}_1=(1,1)$\n",
    "\n",
    "Plot $f$ on $\\Omega$. You may want to use `numpy.meshgrid`.\n",
    "\n",
    "Call the function $f(\\mathbf{x})$ `func_f(x,y)` and have its input be 1D array's for the sample x and y-coordinates. <br>\n",
    "The function $a(x)$ should be called `func_a(x)`. <br>"
   ]
  },
  {
   "cell_type": "code",
   "execution_count": 46,
   "metadata": {},
   "outputs": [],
   "source": [
    "# Plotting imports\n",
    "%matplotlib notebook\n",
    "import matplotlib.pyplot as plt"
   ]
  },
  {
   "cell_type": "code",
   "execution_count": 47,
   "metadata": {},
   "outputs": [
    {
     "data": {
      "application/javascript": [
       "/* Put everything inside the global mpl namespace */\n",
       "/* global mpl */\n",
       "window.mpl = {};\n",
       "\n",
       "mpl.get_websocket_type = function () {\n",
       "    if (typeof WebSocket !== 'undefined') {\n",
       "        return WebSocket;\n",
       "    } else if (typeof MozWebSocket !== 'undefined') {\n",
       "        return MozWebSocket;\n",
       "    } else {\n",
       "        alert(\n",
       "            'Your browser does not have WebSocket support. ' +\n",
       "                'Please try Chrome, Safari or Firefox ≥ 6. ' +\n",
       "                'Firefox 4 and 5 are also supported but you ' +\n",
       "                'have to enable WebSockets in about:config.'\n",
       "        );\n",
       "    }\n",
       "};\n",
       "\n",
       "mpl.figure = function (figure_id, websocket, ondownload, parent_element) {\n",
       "    this.id = figure_id;\n",
       "\n",
       "    this.ws = websocket;\n",
       "\n",
       "    this.supports_binary = this.ws.binaryType !== undefined;\n",
       "\n",
       "    if (!this.supports_binary) {\n",
       "        var warnings = document.getElementById('mpl-warnings');\n",
       "        if (warnings) {\n",
       "            warnings.style.display = 'block';\n",
       "            warnings.textContent =\n",
       "                'This browser does not support binary websocket messages. ' +\n",
       "                'Performance may be slow.';\n",
       "        }\n",
       "    }\n",
       "\n",
       "    this.imageObj = new Image();\n",
       "\n",
       "    this.context = undefined;\n",
       "    this.message = undefined;\n",
       "    this.canvas = undefined;\n",
       "    this.rubberband_canvas = undefined;\n",
       "    this.rubberband_context = undefined;\n",
       "    this.format_dropdown = undefined;\n",
       "\n",
       "    this.image_mode = 'full';\n",
       "\n",
       "    this.root = document.createElement('div');\n",
       "    this.root.setAttribute('style', 'display: inline-block');\n",
       "    this._root_extra_style(this.root);\n",
       "\n",
       "    parent_element.appendChild(this.root);\n",
       "\n",
       "    this._init_header(this);\n",
       "    this._init_canvas(this);\n",
       "    this._init_toolbar(this);\n",
       "\n",
       "    var fig = this;\n",
       "\n",
       "    this.waiting = false;\n",
       "\n",
       "    this.ws.onopen = function () {\n",
       "        fig.send_message('supports_binary', { value: fig.supports_binary });\n",
       "        fig.send_message('send_image_mode', {});\n",
       "        if (fig.ratio !== 1) {\n",
       "            fig.send_message('set_device_pixel_ratio', {\n",
       "                device_pixel_ratio: fig.ratio,\n",
       "            });\n",
       "        }\n",
       "        fig.send_message('refresh', {});\n",
       "    };\n",
       "\n",
       "    this.imageObj.onload = function () {\n",
       "        if (fig.image_mode === 'full') {\n",
       "            // Full images could contain transparency (where diff images\n",
       "            // almost always do), so we need to clear the canvas so that\n",
       "            // there is no ghosting.\n",
       "            fig.context.clearRect(0, 0, fig.canvas.width, fig.canvas.height);\n",
       "        }\n",
       "        fig.context.drawImage(fig.imageObj, 0, 0);\n",
       "    };\n",
       "\n",
       "    this.imageObj.onunload = function () {\n",
       "        fig.ws.close();\n",
       "    };\n",
       "\n",
       "    this.ws.onmessage = this._make_on_message_function(this);\n",
       "\n",
       "    this.ondownload = ondownload;\n",
       "};\n",
       "\n",
       "mpl.figure.prototype._init_header = function () {\n",
       "    var titlebar = document.createElement('div');\n",
       "    titlebar.classList =\n",
       "        'ui-dialog-titlebar ui-widget-header ui-corner-all ui-helper-clearfix';\n",
       "    var titletext = document.createElement('div');\n",
       "    titletext.classList = 'ui-dialog-title';\n",
       "    titletext.setAttribute(\n",
       "        'style',\n",
       "        'width: 100%; text-align: center; padding: 3px;'\n",
       "    );\n",
       "    titlebar.appendChild(titletext);\n",
       "    this.root.appendChild(titlebar);\n",
       "    this.header = titletext;\n",
       "};\n",
       "\n",
       "mpl.figure.prototype._canvas_extra_style = function (_canvas_div) {};\n",
       "\n",
       "mpl.figure.prototype._root_extra_style = function (_canvas_div) {};\n",
       "\n",
       "mpl.figure.prototype._init_canvas = function () {\n",
       "    var fig = this;\n",
       "\n",
       "    var canvas_div = (this.canvas_div = document.createElement('div'));\n",
       "    canvas_div.setAttribute(\n",
       "        'style',\n",
       "        'border: 1px solid #ddd;' +\n",
       "            'box-sizing: content-box;' +\n",
       "            'clear: both;' +\n",
       "            'min-height: 1px;' +\n",
       "            'min-width: 1px;' +\n",
       "            'outline: 0;' +\n",
       "            'overflow: hidden;' +\n",
       "            'position: relative;' +\n",
       "            'resize: both;'\n",
       "    );\n",
       "\n",
       "    function on_keyboard_event_closure(name) {\n",
       "        return function (event) {\n",
       "            return fig.key_event(event, name);\n",
       "        };\n",
       "    }\n",
       "\n",
       "    canvas_div.addEventListener(\n",
       "        'keydown',\n",
       "        on_keyboard_event_closure('key_press')\n",
       "    );\n",
       "    canvas_div.addEventListener(\n",
       "        'keyup',\n",
       "        on_keyboard_event_closure('key_release')\n",
       "    );\n",
       "\n",
       "    this._canvas_extra_style(canvas_div);\n",
       "    this.root.appendChild(canvas_div);\n",
       "\n",
       "    var canvas = (this.canvas = document.createElement('canvas'));\n",
       "    canvas.classList.add('mpl-canvas');\n",
       "    canvas.setAttribute('style', 'box-sizing: content-box;');\n",
       "\n",
       "    this.context = canvas.getContext('2d');\n",
       "\n",
       "    var backingStore =\n",
       "        this.context.backingStorePixelRatio ||\n",
       "        this.context.webkitBackingStorePixelRatio ||\n",
       "        this.context.mozBackingStorePixelRatio ||\n",
       "        this.context.msBackingStorePixelRatio ||\n",
       "        this.context.oBackingStorePixelRatio ||\n",
       "        this.context.backingStorePixelRatio ||\n",
       "        1;\n",
       "\n",
       "    this.ratio = (window.devicePixelRatio || 1) / backingStore;\n",
       "\n",
       "    var rubberband_canvas = (this.rubberband_canvas = document.createElement(\n",
       "        'canvas'\n",
       "    ));\n",
       "    rubberband_canvas.setAttribute(\n",
       "        'style',\n",
       "        'box-sizing: content-box; position: absolute; left: 0; top: 0; z-index: 1;'\n",
       "    );\n",
       "\n",
       "    // Apply a ponyfill if ResizeObserver is not implemented by browser.\n",
       "    if (this.ResizeObserver === undefined) {\n",
       "        if (window.ResizeObserver !== undefined) {\n",
       "            this.ResizeObserver = window.ResizeObserver;\n",
       "        } else {\n",
       "            var obs = _JSXTOOLS_RESIZE_OBSERVER({});\n",
       "            this.ResizeObserver = obs.ResizeObserver;\n",
       "        }\n",
       "    }\n",
       "\n",
       "    this.resizeObserverInstance = new this.ResizeObserver(function (entries) {\n",
       "        var nentries = entries.length;\n",
       "        for (var i = 0; i < nentries; i++) {\n",
       "            var entry = entries[i];\n",
       "            var width, height;\n",
       "            if (entry.contentBoxSize) {\n",
       "                if (entry.contentBoxSize instanceof Array) {\n",
       "                    // Chrome 84 implements new version of spec.\n",
       "                    width = entry.contentBoxSize[0].inlineSize;\n",
       "                    height = entry.contentBoxSize[0].blockSize;\n",
       "                } else {\n",
       "                    // Firefox implements old version of spec.\n",
       "                    width = entry.contentBoxSize.inlineSize;\n",
       "                    height = entry.contentBoxSize.blockSize;\n",
       "                }\n",
       "            } else {\n",
       "                // Chrome <84 implements even older version of spec.\n",
       "                width = entry.contentRect.width;\n",
       "                height = entry.contentRect.height;\n",
       "            }\n",
       "\n",
       "            // Keep the size of the canvas and rubber band canvas in sync with\n",
       "            // the canvas container.\n",
       "            if (entry.devicePixelContentBoxSize) {\n",
       "                // Chrome 84 implements new version of spec.\n",
       "                canvas.setAttribute(\n",
       "                    'width',\n",
       "                    entry.devicePixelContentBoxSize[0].inlineSize\n",
       "                );\n",
       "                canvas.setAttribute(\n",
       "                    'height',\n",
       "                    entry.devicePixelContentBoxSize[0].blockSize\n",
       "                );\n",
       "            } else {\n",
       "                canvas.setAttribute('width', width * fig.ratio);\n",
       "                canvas.setAttribute('height', height * fig.ratio);\n",
       "            }\n",
       "            canvas.setAttribute(\n",
       "                'style',\n",
       "                'width: ' + width + 'px; height: ' + height + 'px;'\n",
       "            );\n",
       "\n",
       "            rubberband_canvas.setAttribute('width', width);\n",
       "            rubberband_canvas.setAttribute('height', height);\n",
       "\n",
       "            // And update the size in Python. We ignore the initial 0/0 size\n",
       "            // that occurs as the element is placed into the DOM, which should\n",
       "            // otherwise not happen due to the minimum size styling.\n",
       "            if (fig.ws.readyState == 1 && width != 0 && height != 0) {\n",
       "                fig.request_resize(width, height);\n",
       "            }\n",
       "        }\n",
       "    });\n",
       "    this.resizeObserverInstance.observe(canvas_div);\n",
       "\n",
       "    function on_mouse_event_closure(name) {\n",
       "        return function (event) {\n",
       "            return fig.mouse_event(event, name);\n",
       "        };\n",
       "    }\n",
       "\n",
       "    rubberband_canvas.addEventListener(\n",
       "        'mousedown',\n",
       "        on_mouse_event_closure('button_press')\n",
       "    );\n",
       "    rubberband_canvas.addEventListener(\n",
       "        'mouseup',\n",
       "        on_mouse_event_closure('button_release')\n",
       "    );\n",
       "    rubberband_canvas.addEventListener(\n",
       "        'dblclick',\n",
       "        on_mouse_event_closure('dblclick')\n",
       "    );\n",
       "    // Throttle sequential mouse events to 1 every 20ms.\n",
       "    rubberband_canvas.addEventListener(\n",
       "        'mousemove',\n",
       "        on_mouse_event_closure('motion_notify')\n",
       "    );\n",
       "\n",
       "    rubberband_canvas.addEventListener(\n",
       "        'mouseenter',\n",
       "        on_mouse_event_closure('figure_enter')\n",
       "    );\n",
       "    rubberband_canvas.addEventListener(\n",
       "        'mouseleave',\n",
       "        on_mouse_event_closure('figure_leave')\n",
       "    );\n",
       "\n",
       "    canvas_div.addEventListener('wheel', function (event) {\n",
       "        if (event.deltaY < 0) {\n",
       "            event.step = 1;\n",
       "        } else {\n",
       "            event.step = -1;\n",
       "        }\n",
       "        on_mouse_event_closure('scroll')(event);\n",
       "    });\n",
       "\n",
       "    canvas_div.appendChild(canvas);\n",
       "    canvas_div.appendChild(rubberband_canvas);\n",
       "\n",
       "    this.rubberband_context = rubberband_canvas.getContext('2d');\n",
       "    this.rubberband_context.strokeStyle = '#000000';\n",
       "\n",
       "    this._resize_canvas = function (width, height, forward) {\n",
       "        if (forward) {\n",
       "            canvas_div.style.width = width + 'px';\n",
       "            canvas_div.style.height = height + 'px';\n",
       "        }\n",
       "    };\n",
       "\n",
       "    // Disable right mouse context menu.\n",
       "    this.rubberband_canvas.addEventListener('contextmenu', function (_e) {\n",
       "        event.preventDefault();\n",
       "        return false;\n",
       "    });\n",
       "\n",
       "    function set_focus() {\n",
       "        canvas.focus();\n",
       "        canvas_div.focus();\n",
       "    }\n",
       "\n",
       "    window.setTimeout(set_focus, 100);\n",
       "};\n",
       "\n",
       "mpl.figure.prototype._init_toolbar = function () {\n",
       "    var fig = this;\n",
       "\n",
       "    var toolbar = document.createElement('div');\n",
       "    toolbar.classList = 'mpl-toolbar';\n",
       "    this.root.appendChild(toolbar);\n",
       "\n",
       "    function on_click_closure(name) {\n",
       "        return function (_event) {\n",
       "            return fig.toolbar_button_onclick(name);\n",
       "        };\n",
       "    }\n",
       "\n",
       "    function on_mouseover_closure(tooltip) {\n",
       "        return function (event) {\n",
       "            if (!event.currentTarget.disabled) {\n",
       "                return fig.toolbar_button_onmouseover(tooltip);\n",
       "            }\n",
       "        };\n",
       "    }\n",
       "\n",
       "    fig.buttons = {};\n",
       "    var buttonGroup = document.createElement('div');\n",
       "    buttonGroup.classList = 'mpl-button-group';\n",
       "    for (var toolbar_ind in mpl.toolbar_items) {\n",
       "        var name = mpl.toolbar_items[toolbar_ind][0];\n",
       "        var tooltip = mpl.toolbar_items[toolbar_ind][1];\n",
       "        var image = mpl.toolbar_items[toolbar_ind][2];\n",
       "        var method_name = mpl.toolbar_items[toolbar_ind][3];\n",
       "\n",
       "        if (!name) {\n",
       "            /* Instead of a spacer, we start a new button group. */\n",
       "            if (buttonGroup.hasChildNodes()) {\n",
       "                toolbar.appendChild(buttonGroup);\n",
       "            }\n",
       "            buttonGroup = document.createElement('div');\n",
       "            buttonGroup.classList = 'mpl-button-group';\n",
       "            continue;\n",
       "        }\n",
       "\n",
       "        var button = (fig.buttons[name] = document.createElement('button'));\n",
       "        button.classList = 'mpl-widget';\n",
       "        button.setAttribute('role', 'button');\n",
       "        button.setAttribute('aria-disabled', 'false');\n",
       "        button.addEventListener('click', on_click_closure(method_name));\n",
       "        button.addEventListener('mouseover', on_mouseover_closure(tooltip));\n",
       "\n",
       "        var icon_img = document.createElement('img');\n",
       "        icon_img.src = '_images/' + image + '.png';\n",
       "        icon_img.srcset = '_images/' + image + '_large.png 2x';\n",
       "        icon_img.alt = tooltip;\n",
       "        button.appendChild(icon_img);\n",
       "\n",
       "        buttonGroup.appendChild(button);\n",
       "    }\n",
       "\n",
       "    if (buttonGroup.hasChildNodes()) {\n",
       "        toolbar.appendChild(buttonGroup);\n",
       "    }\n",
       "\n",
       "    var fmt_picker = document.createElement('select');\n",
       "    fmt_picker.classList = 'mpl-widget';\n",
       "    toolbar.appendChild(fmt_picker);\n",
       "    this.format_dropdown = fmt_picker;\n",
       "\n",
       "    for (var ind in mpl.extensions) {\n",
       "        var fmt = mpl.extensions[ind];\n",
       "        var option = document.createElement('option');\n",
       "        option.selected = fmt === mpl.default_extension;\n",
       "        option.innerHTML = fmt;\n",
       "        fmt_picker.appendChild(option);\n",
       "    }\n",
       "\n",
       "    var status_bar = document.createElement('span');\n",
       "    status_bar.classList = 'mpl-message';\n",
       "    toolbar.appendChild(status_bar);\n",
       "    this.message = status_bar;\n",
       "};\n",
       "\n",
       "mpl.figure.prototype.request_resize = function (x_pixels, y_pixels) {\n",
       "    // Request matplotlib to resize the figure. Matplotlib will then trigger a resize in the client,\n",
       "    // which will in turn request a refresh of the image.\n",
       "    this.send_message('resize', { width: x_pixels, height: y_pixels });\n",
       "};\n",
       "\n",
       "mpl.figure.prototype.send_message = function (type, properties) {\n",
       "    properties['type'] = type;\n",
       "    properties['figure_id'] = this.id;\n",
       "    this.ws.send(JSON.stringify(properties));\n",
       "};\n",
       "\n",
       "mpl.figure.prototype.send_draw_message = function () {\n",
       "    if (!this.waiting) {\n",
       "        this.waiting = true;\n",
       "        this.ws.send(JSON.stringify({ type: 'draw', figure_id: this.id }));\n",
       "    }\n",
       "};\n",
       "\n",
       "mpl.figure.prototype.handle_save = function (fig, _msg) {\n",
       "    var format_dropdown = fig.format_dropdown;\n",
       "    var format = format_dropdown.options[format_dropdown.selectedIndex].value;\n",
       "    fig.ondownload(fig, format);\n",
       "};\n",
       "\n",
       "mpl.figure.prototype.handle_resize = function (fig, msg) {\n",
       "    var size = msg['size'];\n",
       "    if (size[0] !== fig.canvas.width || size[1] !== fig.canvas.height) {\n",
       "        fig._resize_canvas(size[0], size[1], msg['forward']);\n",
       "        fig.send_message('refresh', {});\n",
       "    }\n",
       "};\n",
       "\n",
       "mpl.figure.prototype.handle_rubberband = function (fig, msg) {\n",
       "    var x0 = msg['x0'] / fig.ratio;\n",
       "    var y0 = (fig.canvas.height - msg['y0']) / fig.ratio;\n",
       "    var x1 = msg['x1'] / fig.ratio;\n",
       "    var y1 = (fig.canvas.height - msg['y1']) / fig.ratio;\n",
       "    x0 = Math.floor(x0) + 0.5;\n",
       "    y0 = Math.floor(y0) + 0.5;\n",
       "    x1 = Math.floor(x1) + 0.5;\n",
       "    y1 = Math.floor(y1) + 0.5;\n",
       "    var min_x = Math.min(x0, x1);\n",
       "    var min_y = Math.min(y0, y1);\n",
       "    var width = Math.abs(x1 - x0);\n",
       "    var height = Math.abs(y1 - y0);\n",
       "\n",
       "    fig.rubberband_context.clearRect(\n",
       "        0,\n",
       "        0,\n",
       "        fig.canvas.width / fig.ratio,\n",
       "        fig.canvas.height / fig.ratio\n",
       "    );\n",
       "\n",
       "    fig.rubberband_context.strokeRect(min_x, min_y, width, height);\n",
       "};\n",
       "\n",
       "mpl.figure.prototype.handle_figure_label = function (fig, msg) {\n",
       "    // Updates the figure title.\n",
       "    fig.header.textContent = msg['label'];\n",
       "};\n",
       "\n",
       "mpl.figure.prototype.handle_cursor = function (fig, msg) {\n",
       "    fig.rubberband_canvas.style.cursor = msg['cursor'];\n",
       "};\n",
       "\n",
       "mpl.figure.prototype.handle_message = function (fig, msg) {\n",
       "    fig.message.textContent = msg['message'];\n",
       "};\n",
       "\n",
       "mpl.figure.prototype.handle_draw = function (fig, _msg) {\n",
       "    // Request the server to send over a new figure.\n",
       "    fig.send_draw_message();\n",
       "};\n",
       "\n",
       "mpl.figure.prototype.handle_image_mode = function (fig, msg) {\n",
       "    fig.image_mode = msg['mode'];\n",
       "};\n",
       "\n",
       "mpl.figure.prototype.handle_history_buttons = function (fig, msg) {\n",
       "    for (var key in msg) {\n",
       "        if (!(key in fig.buttons)) {\n",
       "            continue;\n",
       "        }\n",
       "        fig.buttons[key].disabled = !msg[key];\n",
       "        fig.buttons[key].setAttribute('aria-disabled', !msg[key]);\n",
       "    }\n",
       "};\n",
       "\n",
       "mpl.figure.prototype.handle_navigate_mode = function (fig, msg) {\n",
       "    if (msg['mode'] === 'PAN') {\n",
       "        fig.buttons['Pan'].classList.add('active');\n",
       "        fig.buttons['Zoom'].classList.remove('active');\n",
       "    } else if (msg['mode'] === 'ZOOM') {\n",
       "        fig.buttons['Pan'].classList.remove('active');\n",
       "        fig.buttons['Zoom'].classList.add('active');\n",
       "    } else {\n",
       "        fig.buttons['Pan'].classList.remove('active');\n",
       "        fig.buttons['Zoom'].classList.remove('active');\n",
       "    }\n",
       "};\n",
       "\n",
       "mpl.figure.prototype.updated_canvas_event = function () {\n",
       "    // Called whenever the canvas gets updated.\n",
       "    this.send_message('ack', {});\n",
       "};\n",
       "\n",
       "// A function to construct a web socket function for onmessage handling.\n",
       "// Called in the figure constructor.\n",
       "mpl.figure.prototype._make_on_message_function = function (fig) {\n",
       "    return function socket_on_message(evt) {\n",
       "        if (evt.data instanceof Blob) {\n",
       "            var img = evt.data;\n",
       "            if (img.type !== 'image/png') {\n",
       "                /* FIXME: We get \"Resource interpreted as Image but\n",
       "                 * transferred with MIME type text/plain:\" errors on\n",
       "                 * Chrome.  But how to set the MIME type?  It doesn't seem\n",
       "                 * to be part of the websocket stream */\n",
       "                img.type = 'image/png';\n",
       "            }\n",
       "\n",
       "            /* Free the memory for the previous frames */\n",
       "            if (fig.imageObj.src) {\n",
       "                (window.URL || window.webkitURL).revokeObjectURL(\n",
       "                    fig.imageObj.src\n",
       "                );\n",
       "            }\n",
       "\n",
       "            fig.imageObj.src = (window.URL || window.webkitURL).createObjectURL(\n",
       "                img\n",
       "            );\n",
       "            fig.updated_canvas_event();\n",
       "            fig.waiting = false;\n",
       "            return;\n",
       "        } else if (\n",
       "            typeof evt.data === 'string' &&\n",
       "            evt.data.slice(0, 21) === 'data:image/png;base64'\n",
       "        ) {\n",
       "            fig.imageObj.src = evt.data;\n",
       "            fig.updated_canvas_event();\n",
       "            fig.waiting = false;\n",
       "            return;\n",
       "        }\n",
       "\n",
       "        var msg = JSON.parse(evt.data);\n",
       "        var msg_type = msg['type'];\n",
       "\n",
       "        // Call the  \"handle_{type}\" callback, which takes\n",
       "        // the figure and JSON message as its only arguments.\n",
       "        try {\n",
       "            var callback = fig['handle_' + msg_type];\n",
       "        } catch (e) {\n",
       "            console.log(\n",
       "                \"No handler for the '\" + msg_type + \"' message type: \",\n",
       "                msg\n",
       "            );\n",
       "            return;\n",
       "        }\n",
       "\n",
       "        if (callback) {\n",
       "            try {\n",
       "                // console.log(\"Handling '\" + msg_type + \"' message: \", msg);\n",
       "                callback(fig, msg);\n",
       "            } catch (e) {\n",
       "                console.log(\n",
       "                    \"Exception inside the 'handler_\" + msg_type + \"' callback:\",\n",
       "                    e,\n",
       "                    e.stack,\n",
       "                    msg\n",
       "                );\n",
       "            }\n",
       "        }\n",
       "    };\n",
       "};\n",
       "\n",
       "// from https://stackoverflow.com/questions/1114465/getting-mouse-location-in-canvas\n",
       "mpl.findpos = function (e) {\n",
       "    //this section is from http://www.quirksmode.org/js/events_properties.html\n",
       "    var targ;\n",
       "    if (!e) {\n",
       "        e = window.event;\n",
       "    }\n",
       "    if (e.target) {\n",
       "        targ = e.target;\n",
       "    } else if (e.srcElement) {\n",
       "        targ = e.srcElement;\n",
       "    }\n",
       "    if (targ.nodeType === 3) {\n",
       "        // defeat Safari bug\n",
       "        targ = targ.parentNode;\n",
       "    }\n",
       "\n",
       "    // pageX,Y are the mouse positions relative to the document\n",
       "    var boundingRect = targ.getBoundingClientRect();\n",
       "    var x = e.pageX - (boundingRect.left + document.body.scrollLeft);\n",
       "    var y = e.pageY - (boundingRect.top + document.body.scrollTop);\n",
       "\n",
       "    return { x: x, y: y };\n",
       "};\n",
       "\n",
       "/*\n",
       " * return a copy of an object with only non-object keys\n",
       " * we need this to avoid circular references\n",
       " * https://stackoverflow.com/a/24161582/3208463\n",
       " */\n",
       "function simpleKeys(original) {\n",
       "    return Object.keys(original).reduce(function (obj, key) {\n",
       "        if (typeof original[key] !== 'object') {\n",
       "            obj[key] = original[key];\n",
       "        }\n",
       "        return obj;\n",
       "    }, {});\n",
       "}\n",
       "\n",
       "mpl.figure.prototype.mouse_event = function (event, name) {\n",
       "    var canvas_pos = mpl.findpos(event);\n",
       "\n",
       "    if (name === 'button_press') {\n",
       "        this.canvas.focus();\n",
       "        this.canvas_div.focus();\n",
       "    }\n",
       "\n",
       "    var x = canvas_pos.x * this.ratio;\n",
       "    var y = canvas_pos.y * this.ratio;\n",
       "\n",
       "    this.send_message(name, {\n",
       "        x: x,\n",
       "        y: y,\n",
       "        button: event.button,\n",
       "        step: event.step,\n",
       "        guiEvent: simpleKeys(event),\n",
       "    });\n",
       "\n",
       "    /* This prevents the web browser from automatically changing to\n",
       "     * the text insertion cursor when the button is pressed.  We want\n",
       "     * to control all of the cursor setting manually through the\n",
       "     * 'cursor' event from matplotlib */\n",
       "    event.preventDefault();\n",
       "    return false;\n",
       "};\n",
       "\n",
       "mpl.figure.prototype._key_event_extra = function (_event, _name) {\n",
       "    // Handle any extra behaviour associated with a key event\n",
       "};\n",
       "\n",
       "mpl.figure.prototype.key_event = function (event, name) {\n",
       "    // Prevent repeat events\n",
       "    if (name === 'key_press') {\n",
       "        if (event.key === this._key) {\n",
       "            return;\n",
       "        } else {\n",
       "            this._key = event.key;\n",
       "        }\n",
       "    }\n",
       "    if (name === 'key_release') {\n",
       "        this._key = null;\n",
       "    }\n",
       "\n",
       "    var value = '';\n",
       "    if (event.ctrlKey && event.key !== 'Control') {\n",
       "        value += 'ctrl+';\n",
       "    }\n",
       "    else if (event.altKey && event.key !== 'Alt') {\n",
       "        value += 'alt+';\n",
       "    }\n",
       "    else if (event.shiftKey && event.key !== 'Shift') {\n",
       "        value += 'shift+';\n",
       "    }\n",
       "\n",
       "    value += 'k' + event.key;\n",
       "\n",
       "    this._key_event_extra(event, name);\n",
       "\n",
       "    this.send_message(name, { key: value, guiEvent: simpleKeys(event) });\n",
       "    return false;\n",
       "};\n",
       "\n",
       "mpl.figure.prototype.toolbar_button_onclick = function (name) {\n",
       "    if (name === 'download') {\n",
       "        this.handle_save(this, null);\n",
       "    } else {\n",
       "        this.send_message('toolbar_button', { name: name });\n",
       "    }\n",
       "};\n",
       "\n",
       "mpl.figure.prototype.toolbar_button_onmouseover = function (tooltip) {\n",
       "    this.message.textContent = tooltip;\n",
       "};\n",
       "\n",
       "///////////////// REMAINING CONTENT GENERATED BY embed_js.py /////////////////\n",
       "// prettier-ignore\n",
       "var _JSXTOOLS_RESIZE_OBSERVER=function(A){var t,i=new WeakMap,n=new WeakMap,a=new WeakMap,r=new WeakMap,o=new Set;function s(e){if(!(this instanceof s))throw new TypeError(\"Constructor requires 'new' operator\");i.set(this,e)}function h(){throw new TypeError(\"Function is not a constructor\")}function c(e,t,i,n){e=0 in arguments?Number(arguments[0]):0,t=1 in arguments?Number(arguments[1]):0,i=2 in arguments?Number(arguments[2]):0,n=3 in arguments?Number(arguments[3]):0,this.right=(this.x=this.left=e)+(this.width=i),this.bottom=(this.y=this.top=t)+(this.height=n),Object.freeze(this)}function d(){t=requestAnimationFrame(d);var s=new WeakMap,p=new Set;o.forEach((function(t){r.get(t).forEach((function(i){var r=t instanceof window.SVGElement,o=a.get(t),d=r?0:parseFloat(o.paddingTop),f=r?0:parseFloat(o.paddingRight),l=r?0:parseFloat(o.paddingBottom),u=r?0:parseFloat(o.paddingLeft),g=r?0:parseFloat(o.borderTopWidth),m=r?0:parseFloat(o.borderRightWidth),w=r?0:parseFloat(o.borderBottomWidth),b=u+f,F=d+l,v=(r?0:parseFloat(o.borderLeftWidth))+m,W=g+w,y=r?0:t.offsetHeight-W-t.clientHeight,E=r?0:t.offsetWidth-v-t.clientWidth,R=b+v,z=F+W,M=r?t.width:parseFloat(o.width)-R-E,O=r?t.height:parseFloat(o.height)-z-y;if(n.has(t)){var k=n.get(t);if(k[0]===M&&k[1]===O)return}n.set(t,[M,O]);var S=Object.create(h.prototype);S.target=t,S.contentRect=new c(u,d,M,O),s.has(i)||(s.set(i,[]),p.add(i)),s.get(i).push(S)}))})),p.forEach((function(e){i.get(e).call(e,s.get(e),e)}))}return s.prototype.observe=function(i){if(i instanceof window.Element){r.has(i)||(r.set(i,new Set),o.add(i),a.set(i,window.getComputedStyle(i)));var n=r.get(i);n.has(this)||n.add(this),cancelAnimationFrame(t),t=requestAnimationFrame(d)}},s.prototype.unobserve=function(i){if(i instanceof window.Element&&r.has(i)){var n=r.get(i);n.has(this)&&(n.delete(this),n.size||(r.delete(i),o.delete(i))),n.size||r.delete(i),o.size||cancelAnimationFrame(t)}},A.DOMRectReadOnly=c,A.ResizeObserver=s,A.ResizeObserverEntry=h,A}; // eslint-disable-line\n",
       "mpl.toolbar_items = [[\"Home\", \"Reset original view\", \"fa fa-home\", \"home\"], [\"Back\", \"Back to previous view\", \"fa fa-arrow-left\", \"back\"], [\"Forward\", \"Forward to next view\", \"fa fa-arrow-right\", \"forward\"], [\"\", \"\", \"\", \"\"], [\"Pan\", \"Left button pans, Right button zooms\\nx/y fixes axis, CTRL fixes aspect\", \"fa fa-arrows\", \"pan\"], [\"Zoom\", \"Zoom to rectangle\\nx/y fixes axis\", \"fa fa-square-o\", \"zoom\"], [\"\", \"\", \"\", \"\"], [\"Download\", \"Download plot\", \"fa fa-floppy-o\", \"download\"]];\n",
       "\n",
       "mpl.extensions = [\"eps\", \"jpeg\", \"pgf\", \"pdf\", \"png\", \"ps\", \"raw\", \"svg\", \"tif\", \"webp\"];\n",
       "\n",
       "mpl.default_extension = \"png\";/* global mpl */\n",
       "\n",
       "var comm_websocket_adapter = function (comm) {\n",
       "    // Create a \"websocket\"-like object which calls the given IPython comm\n",
       "    // object with the appropriate methods. Currently this is a non binary\n",
       "    // socket, so there is still some room for performance tuning.\n",
       "    var ws = {};\n",
       "\n",
       "    ws.binaryType = comm.kernel.ws.binaryType;\n",
       "    ws.readyState = comm.kernel.ws.readyState;\n",
       "    function updateReadyState(_event) {\n",
       "        if (comm.kernel.ws) {\n",
       "            ws.readyState = comm.kernel.ws.readyState;\n",
       "        } else {\n",
       "            ws.readyState = 3; // Closed state.\n",
       "        }\n",
       "    }\n",
       "    comm.kernel.ws.addEventListener('open', updateReadyState);\n",
       "    comm.kernel.ws.addEventListener('close', updateReadyState);\n",
       "    comm.kernel.ws.addEventListener('error', updateReadyState);\n",
       "\n",
       "    ws.close = function () {\n",
       "        comm.close();\n",
       "    };\n",
       "    ws.send = function (m) {\n",
       "        //console.log('sending', m);\n",
       "        comm.send(m);\n",
       "    };\n",
       "    // Register the callback with on_msg.\n",
       "    comm.on_msg(function (msg) {\n",
       "        //console.log('receiving', msg['content']['data'], msg);\n",
       "        var data = msg['content']['data'];\n",
       "        if (data['blob'] !== undefined) {\n",
       "            data = {\n",
       "                data: new Blob(msg['buffers'], { type: data['blob'] }),\n",
       "            };\n",
       "        }\n",
       "        // Pass the mpl event to the overridden (by mpl) onmessage function.\n",
       "        ws.onmessage(data);\n",
       "    });\n",
       "    return ws;\n",
       "};\n",
       "\n",
       "mpl.mpl_figure_comm = function (comm, msg) {\n",
       "    // This is the function which gets called when the mpl process\n",
       "    // starts-up an IPython Comm through the \"matplotlib\" channel.\n",
       "\n",
       "    var id = msg.content.data.id;\n",
       "    // Get hold of the div created by the display call when the Comm\n",
       "    // socket was opened in Python.\n",
       "    var element = document.getElementById(id);\n",
       "    var ws_proxy = comm_websocket_adapter(comm);\n",
       "\n",
       "    function ondownload(figure, _format) {\n",
       "        window.open(figure.canvas.toDataURL());\n",
       "    }\n",
       "\n",
       "    var fig = new mpl.figure(id, ws_proxy, ondownload, element);\n",
       "\n",
       "    // Call onopen now - mpl needs it, as it is assuming we've passed it a real\n",
       "    // web socket which is closed, not our websocket->open comm proxy.\n",
       "    ws_proxy.onopen();\n",
       "\n",
       "    fig.parent_element = element;\n",
       "    fig.cell_info = mpl.find_output_cell(\"<div id='\" + id + \"'></div>\");\n",
       "    if (!fig.cell_info) {\n",
       "        console.error('Failed to find cell for figure', id, fig);\n",
       "        return;\n",
       "    }\n",
       "    fig.cell_info[0].output_area.element.on(\n",
       "        'cleared',\n",
       "        { fig: fig },\n",
       "        fig._remove_fig_handler\n",
       "    );\n",
       "};\n",
       "\n",
       "mpl.figure.prototype.handle_close = function (fig, msg) {\n",
       "    var width = fig.canvas.width / fig.ratio;\n",
       "    fig.cell_info[0].output_area.element.off(\n",
       "        'cleared',\n",
       "        fig._remove_fig_handler\n",
       "    );\n",
       "    fig.resizeObserverInstance.unobserve(fig.canvas_div);\n",
       "\n",
       "    // Update the output cell to use the data from the current canvas.\n",
       "    fig.push_to_output();\n",
       "    var dataURL = fig.canvas.toDataURL();\n",
       "    // Re-enable the keyboard manager in IPython - without this line, in FF,\n",
       "    // the notebook keyboard shortcuts fail.\n",
       "    IPython.keyboard_manager.enable();\n",
       "    fig.parent_element.innerHTML =\n",
       "        '<img src=\"' + dataURL + '\" width=\"' + width + '\">';\n",
       "    fig.close_ws(fig, msg);\n",
       "};\n",
       "\n",
       "mpl.figure.prototype.close_ws = function (fig, msg) {\n",
       "    fig.send_message('closing', msg);\n",
       "    // fig.ws.close()\n",
       "};\n",
       "\n",
       "mpl.figure.prototype.push_to_output = function (_remove_interactive) {\n",
       "    // Turn the data on the canvas into data in the output cell.\n",
       "    var width = this.canvas.width / this.ratio;\n",
       "    var dataURL = this.canvas.toDataURL();\n",
       "    this.cell_info[1]['text/html'] =\n",
       "        '<img src=\"' + dataURL + '\" width=\"' + width + '\">';\n",
       "};\n",
       "\n",
       "mpl.figure.prototype.updated_canvas_event = function () {\n",
       "    // Tell IPython that the notebook contents must change.\n",
       "    IPython.notebook.set_dirty(true);\n",
       "    this.send_message('ack', {});\n",
       "    var fig = this;\n",
       "    // Wait a second, then push the new image to the DOM so\n",
       "    // that it is saved nicely (might be nice to debounce this).\n",
       "    setTimeout(function () {\n",
       "        fig.push_to_output();\n",
       "    }, 1000);\n",
       "};\n",
       "\n",
       "mpl.figure.prototype._init_toolbar = function () {\n",
       "    var fig = this;\n",
       "\n",
       "    var toolbar = document.createElement('div');\n",
       "    toolbar.classList = 'btn-toolbar';\n",
       "    this.root.appendChild(toolbar);\n",
       "\n",
       "    function on_click_closure(name) {\n",
       "        return function (_event) {\n",
       "            return fig.toolbar_button_onclick(name);\n",
       "        };\n",
       "    }\n",
       "\n",
       "    function on_mouseover_closure(tooltip) {\n",
       "        return function (event) {\n",
       "            if (!event.currentTarget.disabled) {\n",
       "                return fig.toolbar_button_onmouseover(tooltip);\n",
       "            }\n",
       "        };\n",
       "    }\n",
       "\n",
       "    fig.buttons = {};\n",
       "    var buttonGroup = document.createElement('div');\n",
       "    buttonGroup.classList = 'btn-group';\n",
       "    var button;\n",
       "    for (var toolbar_ind in mpl.toolbar_items) {\n",
       "        var name = mpl.toolbar_items[toolbar_ind][0];\n",
       "        var tooltip = mpl.toolbar_items[toolbar_ind][1];\n",
       "        var image = mpl.toolbar_items[toolbar_ind][2];\n",
       "        var method_name = mpl.toolbar_items[toolbar_ind][3];\n",
       "\n",
       "        if (!name) {\n",
       "            /* Instead of a spacer, we start a new button group. */\n",
       "            if (buttonGroup.hasChildNodes()) {\n",
       "                toolbar.appendChild(buttonGroup);\n",
       "            }\n",
       "            buttonGroup = document.createElement('div');\n",
       "            buttonGroup.classList = 'btn-group';\n",
       "            continue;\n",
       "        }\n",
       "\n",
       "        button = fig.buttons[name] = document.createElement('button');\n",
       "        button.classList = 'btn btn-default';\n",
       "        button.href = '#';\n",
       "        button.title = name;\n",
       "        button.innerHTML = '<i class=\"fa ' + image + ' fa-lg\"></i>';\n",
       "        button.addEventListener('click', on_click_closure(method_name));\n",
       "        button.addEventListener('mouseover', on_mouseover_closure(tooltip));\n",
       "        buttonGroup.appendChild(button);\n",
       "    }\n",
       "\n",
       "    if (buttonGroup.hasChildNodes()) {\n",
       "        toolbar.appendChild(buttonGroup);\n",
       "    }\n",
       "\n",
       "    // Add the status bar.\n",
       "    var status_bar = document.createElement('span');\n",
       "    status_bar.classList = 'mpl-message pull-right';\n",
       "    toolbar.appendChild(status_bar);\n",
       "    this.message = status_bar;\n",
       "\n",
       "    // Add the close button to the window.\n",
       "    var buttongrp = document.createElement('div');\n",
       "    buttongrp.classList = 'btn-group inline pull-right';\n",
       "    button = document.createElement('button');\n",
       "    button.classList = 'btn btn-mini btn-primary';\n",
       "    button.href = '#';\n",
       "    button.title = 'Stop Interaction';\n",
       "    button.innerHTML = '<i class=\"fa fa-power-off icon-remove icon-large\"></i>';\n",
       "    button.addEventListener('click', function (_evt) {\n",
       "        fig.handle_close(fig, {});\n",
       "    });\n",
       "    button.addEventListener(\n",
       "        'mouseover',\n",
       "        on_mouseover_closure('Stop Interaction')\n",
       "    );\n",
       "    buttongrp.appendChild(button);\n",
       "    var titlebar = this.root.querySelector('.ui-dialog-titlebar');\n",
       "    titlebar.insertBefore(buttongrp, titlebar.firstChild);\n",
       "};\n",
       "\n",
       "mpl.figure.prototype._remove_fig_handler = function (event) {\n",
       "    var fig = event.data.fig;\n",
       "    if (event.target !== this) {\n",
       "        // Ignore bubbled events from children.\n",
       "        return;\n",
       "    }\n",
       "    fig.close_ws(fig, {});\n",
       "};\n",
       "\n",
       "mpl.figure.prototype._root_extra_style = function (el) {\n",
       "    el.style.boxSizing = 'content-box'; // override notebook setting of border-box.\n",
       "};\n",
       "\n",
       "mpl.figure.prototype._canvas_extra_style = function (el) {\n",
       "    // this is important to make the div 'focusable\n",
       "    el.setAttribute('tabindex', 0);\n",
       "    // reach out to IPython and tell the keyboard manager to turn it's self\n",
       "    // off when our div gets focus\n",
       "\n",
       "    // location in version 3\n",
       "    if (IPython.notebook.keyboard_manager) {\n",
       "        IPython.notebook.keyboard_manager.register_events(el);\n",
       "    } else {\n",
       "        // location in version 2\n",
       "        IPython.keyboard_manager.register_events(el);\n",
       "    }\n",
       "};\n",
       "\n",
       "mpl.figure.prototype._key_event_extra = function (event, _name) {\n",
       "    // Check for shift+enter\n",
       "    if (event.shiftKey && event.which === 13) {\n",
       "        this.canvas_div.blur();\n",
       "        // select the cell after this one\n",
       "        var index = IPython.notebook.find_cell_index(this.cell_info[0]);\n",
       "        IPython.notebook.select(index + 1);\n",
       "    }\n",
       "};\n",
       "\n",
       "mpl.figure.prototype.handle_save = function (fig, _msg) {\n",
       "    fig.ondownload(fig, null);\n",
       "};\n",
       "\n",
       "mpl.find_output_cell = function (html_output) {\n",
       "    // Return the cell and output element which can be found *uniquely* in the notebook.\n",
       "    // Note - this is a bit hacky, but it is done because the \"notebook_saving.Notebook\"\n",
       "    // IPython event is triggered only after the cells have been serialised, which for\n",
       "    // our purposes (turning an active figure into a static one), is too late.\n",
       "    var cells = IPython.notebook.get_cells();\n",
       "    var ncells = cells.length;\n",
       "    for (var i = 0; i < ncells; i++) {\n",
       "        var cell = cells[i];\n",
       "        if (cell.cell_type === 'code') {\n",
       "            for (var j = 0; j < cell.output_area.outputs.length; j++) {\n",
       "                var data = cell.output_area.outputs[j];\n",
       "                if (data.data) {\n",
       "                    // IPython >= 3 moved mimebundle to data attribute of output\n",
       "                    data = data.data;\n",
       "                }\n",
       "                if (data['text/html'] === html_output) {\n",
       "                    return [cell, data, j];\n",
       "                }\n",
       "            }\n",
       "        }\n",
       "    }\n",
       "};\n",
       "\n",
       "// Register the function which deals with the matplotlib target/channel.\n",
       "// The kernel may be null if the page has been refreshed.\n",
       "if (IPython.notebook.kernel !== null) {\n",
       "    IPython.notebook.kernel.comm_manager.register_target(\n",
       "        'matplotlib',\n",
       "        mpl.mpl_figure_comm\n",
       "    );\n",
       "}\n"
      ],
      "text/plain": [
       "<IPython.core.display.Javascript object>"
      ]
     },
     "metadata": {},
     "output_type": "display_data"
    },
    {
     "data": {
      "text/html": [
       "<img src=\"data:image/png;base64,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\" width=\"640\">"
      ],
      "text/plain": [
       "<IPython.core.display.HTML object>"
      ]
     },
     "metadata": {},
     "output_type": "display_data"
    }
   ],
   "source": [
    "fig = plt.figure()\n",
    "## Solution...\n",
    "\n",
    "def func_a(x):\n",
    "    return np.tanh(50*np.sin(12.5*np.pi*x))\n",
    "\n",
    "x = np.arange(0, 1, 0.001)\n",
    "y = np.arange(0, 1, 0.001)\n",
    "\n",
    "def func_f(x, y, x0=np.array([0, 0]),x1=np.array([1, 1])):\n",
    "    xx, yy = np.meshgrid(x,y, sparse=True)\n",
    "    r1 = np.sqrt((xx-x0[0])**2 + (yy-x0[1])**2)\n",
    "    r2 = np.sqrt((xx-x1[0])**2 + (yy-x1[1])**2)\n",
    "    return func_a(func_a(r1))+func_a(func_a(r2))\n",
    "\n",
    "z = func_f(x,y)\n",
    "h = plt.contourf(x, y, z)\n",
    "plt.axis('scaled')\n",
    "plt.show()"
   ]
  },
  {
   "cell_type": "code",
   "execution_count": 48,
   "metadata": {},
   "outputs": [
    {
     "name": "stdout",
     "output_type": "stream",
     "text": [
      "REFERENCE: exercise-2_15\n",
      "SATISFIED: False\n",
      "MESSAGES:\n",
      "  - SUCCESS: Great, your function a(x) seems to be working fine.\n",
      "  - SUCCESS: Great, your function f(x) seems to be working fine.\n",
      "  - SUCCESS: Well done! You have used vectorisation instead of using a loop.\n"
     ]
    }
   ],
   "source": [
    "## The following code is used to check you solution and should not be modified\n",
    "## It should help you by providing feedback to the solution you have provided\n",
    "x = np.arange(0, 1, 0.001)\n",
    "y = np.arange(0, 1, 0.001)\n",
    "with pybryt.check(pybryt_reference(2, 15)):\n",
    "    test_pts = np.linspace(0, 2,10000)\n",
    "    func_a(test_pts)\n",
    "    func_f(x,y)"
   ]
  }
 ],
 "metadata": {
  "anaconda-cloud": {},
  "celltoolbar": "Raw Cell Format",
  "kernelspec": {
   "display_name": "Python 3 (ipykernel)",
   "language": "python",
   "name": "python3"
  },
  "language_info": {
   "codemirror_mode": {
    "name": "ipython",
    "version": 3
   },
   "file_extension": ".py",
   "mimetype": "text/x-python",
   "name": "python",
   "nbconvert_exporter": "python",
   "pygments_lexer": "ipython3",
   "version": "3.11.5"
  }
 },
 "nbformat": 4,
 "nbformat_minor": 1
}
