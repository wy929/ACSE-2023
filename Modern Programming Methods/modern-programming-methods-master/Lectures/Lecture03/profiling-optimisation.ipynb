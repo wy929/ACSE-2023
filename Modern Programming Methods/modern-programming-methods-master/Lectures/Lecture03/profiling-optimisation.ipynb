{
 "cells": [
  {
   "cell_type": "markdown",
   "metadata": {
    "slideshow": {
     "slide_type": "slide"
    }
   },
   "source": [
    "# Profiling and optimisation"
   ]
  },
  {
   "cell_type": "markdown",
   "metadata": {
    "slideshow": {
     "slide_type": "slide"
    },
    "tags": []
   },
   "source": [
    "### [Dr Marijan Beg](https://www.imperial.ac.uk/people/m.beg) :)\n",
    "\n",
    "- BSc/MSc in Nanoelectronics / Nanotechnology / Nanomagnetism\n",
    "- PhD in Computational Physics\n",
    "\n",
    "### Research Interests:\n",
    "- Magnetism and magnetic materials\n",
    "- Computational magnetism - building simulation software used in academia and industry\n",
    "- Topological quasi-particles and singularities in magnetisation fields (skyrmions, Bloch Points, hopfions...)\n",
    "- Spintronics\n",
    "    - Designing new data storage and information processing devices.\n",
    "    \n",
    "(Please feel free to approach me if you are interested in doing an IRP on any of these topics.)"
   ]
  },
  {
   "cell_type": "markdown",
   "metadata": {
    "slideshow": {
     "slide_type": "slide"
    }
   },
   "source": [
    "## How to find me?\n",
    "\n",
    "* [**Marijan Beg**](https://www.imperial.ac.uk/people/m.beg)\n",
    "* email: m.beg@imperial.ac.uk\n",
    "* GitHub: `@marijanbeg`\n",
    "* Office: 4.95, Royal School of Mines (RSM, 4th floor)"
   ]
  },
  {
   "cell_type": "markdown",
   "metadata": {
    "slideshow": {
     "slide_type": "slide"
    }
   },
   "source": [
    "## Learning objectives\n",
    "\n",
    "By the end of this lecture you should be able to:\n",
    "\n",
    "* Identify bottlenecks in your code by **profiling**\n",
    "* Apply different **optimisation** techniques to speed up your code.\n",
    "* Use general optimisation guidelines."
   ]
  },
  {
   "cell_type": "markdown",
   "metadata": {
    "slideshow": {
     "slide_type": "slide"
    }
   },
   "source": [
    "## Profiling: Measuring CPU time"
   ]
  },
  {
   "cell_type": "markdown",
   "metadata": {
    "slideshow": {
     "slide_type": "slide"
    }
   },
   "source": [
    "### How long does it run?\n",
    "\n",
    "- Let us compute the sum of the first billion natural numbers."
   ]
  },
  {
   "cell_type": "code",
   "execution_count": 1,
   "metadata": {
    "slideshow": {
     "slide_type": "-"
    },
    "tags": []
   },
   "outputs": [],
   "source": [
    "n = 1_000_000_000\n",
    "s = sum(range(1, n+1))\n",
    "\n",
    "assert s == n*(n+1)/2"
   ]
  },
  {
   "cell_type": "markdown",
   "metadata": {
    "slideshow": {
     "slide_type": "slide"
    }
   },
   "source": [
    "### [`timeit`](https://docs.python.org/3/library/timeit.html) module\n",
    "\n",
    "* Part of the Python's standard library (available wherever Python is installed)\n",
    "* Provides a simple and quick way to time small bits of code\n",
    "* Command-Line, Python, and \"magic\" IPython interface"
   ]
  },
  {
   "cell_type": "markdown",
   "metadata": {
    "slideshow": {
     "slide_type": "slide"
    }
   },
   "source": [
    "### Command-Line Interface (CLI)\n",
    "\n",
    "* We run it in Terminal/Command Prompt as:\n",
    "```\n",
    "$ python3 -m timeit \"Python command\"\n",
    "```"
   ]
  },
  {
   "cell_type": "code",
   "execution_count": 2,
   "metadata": {
    "slideshow": {
     "slide_type": "-"
    },
    "tags": []
   },
   "outputs": [
    {
     "name": "stdout",
     "output_type": "stream",
     "text": [
      "200000 loops, best of 5: 1.26 usec per loop\n"
     ]
    }
   ],
   "source": [
    "!python3 -m timeit \"sum(range(100))\""
   ]
  },
  {
   "cell_type": "markdown",
   "metadata": {
    "slideshow": {
     "slide_type": "slide"
    }
   },
   "source": [
    "### Python interface\n",
    "\n",
    "* We import `timeit` module, and use its `timeit` function (`timeit.timeit`).\n",
    "* We pass a Python command as a string or as a callable."
   ]
  },
  {
   "cell_type": "code",
   "execution_count": 3,
   "metadata": {
    "slideshow": {
     "slide_type": "fragment"
    },
    "tags": []
   },
   "outputs": [
    {
     "data": {
      "text/plain": [
       "0.02060143199923914"
      ]
     },
     "execution_count": 3,
     "metadata": {},
     "output_type": "execute_result"
    }
   ],
   "source": [
    "import timeit\n",
    "\n",
    "timeit.timeit('2 + 3')"
   ]
  },
  {
   "cell_type": "markdown",
   "metadata": {
    "slideshow": {
     "slide_type": "fragment"
    }
   },
   "source": [
    "**HUH!?** Is it possible that `2 + 3` takes that long? Let us have a look at the documentation (please note the `number` parameter)."
   ]
  },
  {
   "cell_type": "code",
   "execution_count": 4,
   "metadata": {
    "slideshow": {
     "slide_type": "slide"
    },
    "tags": []
   },
   "outputs": [
    {
     "name": "stdout",
     "output_type": "stream",
     "text": [
      "Help on function timeit in module timeit:\n",
      "\n",
      "timeit(stmt='pass', setup='pass', timer=<built-in function perf_counter>, number=1000000, globals=None)\n",
      "    Convenience function to create Timer object and call timeit method.\n",
      "\n"
     ]
    }
   ],
   "source": [
    "help(timeit.timeit)"
   ]
  },
  {
   "cell_type": "markdown",
   "metadata": {
    "slideshow": {
     "slide_type": "fragment"
    }
   },
   "source": [
    "`number` parameter specifies how many times the command is being executed."
   ]
  },
  {
   "cell_type": "code",
   "execution_count": 5,
   "metadata": {
    "slideshow": {
     "slide_type": "fragment"
    },
    "tags": []
   },
   "outputs": [
    {
     "data": {
      "text/plain": [
       "7.180060492828488e-07"
      ]
     },
     "execution_count": 5,
     "metadata": {},
     "output_type": "execute_result"
    }
   ],
   "source": [
    "timeit.timeit('2 + 3', number=1)"
   ]
  },
  {
   "cell_type": "markdown",
   "metadata": {
    "slideshow": {
     "slide_type": "slide"
    }
   },
   "source": [
    "#### Passing a callable to `timeit.timeit()`"
   ]
  },
  {
   "cell_type": "code",
   "execution_count": 6,
   "metadata": {
    "slideshow": {
     "slide_type": "-"
    },
    "tags": []
   },
   "outputs": [
    {
     "data": {
      "text/plain": [
       "1.2359960237517953e-06"
      ]
     },
     "execution_count": 6,
     "metadata": {},
     "output_type": "execute_result"
    }
   ],
   "source": [
    "def the_sum_of_2_and_3():\n",
    "    return 2 + 3\n",
    "\n",
    "timeit.timeit(the_sum_of_2_and_3, number=1)"
   ]
  },
  {
   "cell_type": "markdown",
   "metadata": {
    "slideshow": {
     "slide_type": "slide"
    }
   },
   "source": [
    "### `%timeit` magic\n",
    "\n",
    "* In IPython (Jupyter), we can use `%timeit` magic command.\n",
    "* The output we receive is much more informative and \"user-friendly\"."
   ]
  },
  {
   "cell_type": "code",
   "execution_count": 7,
   "metadata": {
    "slideshow": {
     "slide_type": "-"
    },
    "tags": []
   },
   "outputs": [
    {
     "name": "stdout",
     "output_type": "stream",
     "text": [
      "7.12 ns ± 0.158 ns per loop (mean ± std. dev. of 7 runs, 100,000,000 loops each)\n"
     ]
    }
   ],
   "source": [
    "%timeit 1 + 2"
   ]
  },
  {
   "cell_type": "markdown",
   "metadata": {
    "slideshow": {
     "slide_type": "-"
    }
   },
   "source": [
    "* We should pay attention to standard deviation - if it it too large, we might want to repeat the measurement.\n",
    "* The command `1 + 2` was executed in `r` runs, each consisting of `n` loops (`r * n` in total) to get better statistics.\n",
    "* We can specify the number of runs (`-r`) and the number of iterations (`-n`)."
   ]
  },
  {
   "cell_type": "code",
   "execution_count": 8,
   "metadata": {
    "slideshow": {
     "slide_type": "-"
    },
    "tags": []
   },
   "outputs": [
    {
     "name": "stdout",
     "output_type": "stream",
     "text": [
      "8.82 ns ± 0.997 ns per loop (mean ± std. dev. of 10 runs, 100 loops each)\n"
     ]
    }
   ],
   "source": [
    "%timeit -r 10 -n 100 1 + 2"
   ]
  },
  {
   "cell_type": "markdown",
   "metadata": {
    "slideshow": {
     "slide_type": "slide"
    }
   },
   "source": [
    "## `%timeit` magic on the entire cell\n",
    "\n",
    "* How can we measure CPU time for multiple commands?\n",
    "\n",
    "```\n",
    "%%timeit setup\n",
    "\n",
    "command1\n",
    "command2\n",
    "```"
   ]
  },
  {
   "cell_type": "code",
   "execution_count": 9,
   "metadata": {
    "slideshow": {
     "slide_type": "-"
    },
    "tags": []
   },
   "outputs": [
    {
     "name": "stdout",
     "output_type": "stream",
     "text": [
      "1.14 µs ± 3.11 ns per loop (mean ± std. dev. of 7 runs, 1,000,000 loops each)\n"
     ]
    }
   ],
   "source": [
    "%%timeit import numpy as np\n",
    "\n",
    "a = np.arange(100)\n",
    "a**2"
   ]
  },
  {
   "cell_type": "markdown",
   "metadata": {
    "slideshow": {
     "slide_type": "slide"
    }
   },
   "source": [
    "### `%timeit` output object\n",
    "\n",
    "* Instead of printing the result, we can ask for the output object (`-o`)."
   ]
  },
  {
   "cell_type": "code",
   "execution_count": 10,
   "metadata": {
    "slideshow": {
     "slide_type": "-"
    },
    "tags": []
   },
   "outputs": [
    {
     "name": "stdout",
     "output_type": "stream",
     "text": [
      "589 ns ± 2.94 ns per loop (mean ± std. dev. of 7 runs, 1,000,000 loops each)\n"
     ]
    },
    {
     "data": {
      "text/plain": [
       "<TimeitResult : 589 ns ± 2.94 ns per loop (mean ± std. dev. of 7 runs, 1,000,000 loops each)>"
      ]
     },
     "execution_count": 10,
     "metadata": {},
     "output_type": "execute_result"
    }
   ],
   "source": [
    "import numpy as np\n",
    "a = np.arange(100)\n",
    "\n",
    "%timeit -o a**2"
   ]
  },
  {
   "cell_type": "markdown",
   "metadata": {
    "slideshow": {
     "slide_type": "fragment"
    }
   },
   "source": [
    "Let us bind it to a variable:"
   ]
  },
  {
   "cell_type": "code",
   "execution_count": 11,
   "metadata": {
    "slideshow": {
     "slide_type": "fragment"
    },
    "tags": []
   },
   "outputs": [
    {
     "name": "stdout",
     "output_type": "stream",
     "text": [
      "575 ns ± 5.07 ns per loop (mean ± std. dev. of 7 runs, 1,000,000 loops each)\n"
     ]
    }
   ],
   "source": [
    "timeit_object = %timeit -o a**2"
   ]
  },
  {
   "cell_type": "markdown",
   "metadata": {
    "slideshow": {
     "slide_type": "slide"
    }
   },
   "source": [
    "#### Measured times of individual runs"
   ]
  },
  {
   "cell_type": "code",
   "execution_count": 12,
   "metadata": {
    "slideshow": {
     "slide_type": "-"
    },
    "tags": []
   },
   "outputs": [
    {
     "data": {
      "text/plain": [
       "[5.742300620040623e-07,\n",
       " 5.850273949909024e-07,\n",
       " 5.705289969919249e-07,\n",
       " 5.784574020071887e-07,\n",
       " 5.689238640043186e-07,\n",
       " 5.723167079995619e-07,\n",
       " 5.730910080019385e-07]"
      ]
     },
     "execution_count": 12,
     "metadata": {},
     "output_type": "execute_result"
    }
   ],
   "source": [
    "timeit_object.timings  # timings of individual runs"
   ]
  },
  {
   "cell_type": "markdown",
   "metadata": {
    "slideshow": {
     "slide_type": "slide"
    }
   },
   "source": [
    "#### A bit more statistics"
   ]
  },
  {
   "cell_type": "code",
   "execution_count": 13,
   "metadata": {
    "slideshow": {
     "slide_type": "fragment"
    },
    "tags": []
   },
   "outputs": [
    {
     "data": {
      "text/plain": [
       "5.74653633714271e-07"
      ]
     },
     "execution_count": 13,
     "metadata": {},
     "output_type": "execute_result"
    }
   ],
   "source": [
    "timeit_object.average  # average time"
   ]
  },
  {
   "cell_type": "code",
   "execution_count": 14,
   "metadata": {
    "slideshow": {
     "slide_type": "fragment"
    },
    "tags": []
   },
   "outputs": [
    {
     "data": {
      "text/plain": [
       "5.689238640043186e-07"
      ]
     },
     "execution_count": 14,
     "metadata": {},
     "output_type": "execute_result"
    }
   ],
   "source": [
    "timeit_object.best  # the best (fastest) time"
   ]
  },
  {
   "cell_type": "code",
   "execution_count": 15,
   "metadata": {
    "slideshow": {
     "slide_type": "fragment"
    },
    "tags": []
   },
   "outputs": [
    {
     "data": {
      "text/plain": [
       "5.850273949909024e-07"
      ]
     },
     "execution_count": 15,
     "metadata": {},
     "output_type": "execute_result"
    }
   ],
   "source": [
    "timeit_object.worst  # the worst time"
   ]
  },
  {
   "cell_type": "code",
   "execution_count": 16,
   "metadata": {
    "slideshow": {
     "slide_type": "fragment"
    },
    "tags": []
   },
   "outputs": [
    {
     "data": {
      "text/plain": [
       "5.071050879787523e-09"
      ]
     },
     "execution_count": 16,
     "metadata": {},
     "output_type": "execute_result"
    }
   ],
   "source": [
    "timeit_object.stdev  # standard deviation"
   ]
  },
  {
   "cell_type": "markdown",
   "metadata": {
    "slideshow": {
     "slide_type": "slide"
    }
   },
   "source": [
    "## Exercise 1: Factorial - loop vs recursion\n",
    "\n",
    "Write a function `factorial(n)` to calculate the factorial of a given number `n`. Write two versions of this function: one using recursion, and one using `for` loop. Use `%timeit` to decide which one performs better and by how much."
   ]
  },
  {
   "cell_type": "code",
   "execution_count": null,
   "metadata": {
    "slideshow": {
     "slide_type": "skip"
    }
   },
   "outputs": [],
   "source": []
  },
  {
   "cell_type": "markdown",
   "metadata": {
    "slideshow": {
     "slide_type": "slide"
    }
   },
   "source": [
    "## `cProfile`\n",
    "\n",
    "* So far, we measured total CPU time.\n",
    "* How do we find a bottleneck? Where does our code spend most time?\n",
    "* `cProfile` gives us statistics on how many times each function was called and how much time was spent in each."
   ]
  },
  {
   "cell_type": "markdown",
   "metadata": {
    "slideshow": {
     "slide_type": "slide"
    }
   },
   "source": [
    "### Example: Estimate $\\pi$ using Monte Carlo simulation\n",
    "\n",
    "Let us have a look at the example where we are trying to estimate $\\pi$ value by running a Monte Carlo simulation. For more details, please refer to: https://www.101computing.net/estimating-pi-using-the-monte-carlo-method/"
   ]
  },
  {
   "cell_type": "code",
   "execution_count": 21,
   "metadata": {
    "slideshow": {
     "slide_type": "slide"
    },
    "tags": []
   },
   "outputs": [],
   "source": [
    "import math\n",
    "import random\n",
    "\n",
    "\n",
    "def random_list(n):\n",
    "    \"\"\"Create a list with n elements. Each\n",
    "    element has value between -1 and 1.\n",
    "    \n",
    "    Parameters\n",
    "    ----------\n",
    "    n : int\n",
    "        The number of elements.\n",
    "        \n",
    "    Return\n",
    "    ------\n",
    "    list(float)\n",
    "    \n",
    "    \"\"\"\n",
    "    return [2*random.random() - 1 for _ in range(n)]"
   ]
  },
  {
   "cell_type": "code",
   "execution_count": 22,
   "metadata": {
    "slideshow": {
     "slide_type": "slide"
    },
    "tags": []
   },
   "outputs": [],
   "source": [
    "def distance(x, y):\n",
    "    \"\"\"Compute the distance from the origin (0, 0)\n",
    "    of a point with coordinates x and y.\n",
    "    \n",
    "    Parameters\n",
    "    ----------\n",
    "    n : int\n",
    "        The number of elements.\n",
    "        \n",
    "    Return\n",
    "    ------\n",
    "    float\n",
    "        Distance from origin.\n",
    "\n",
    "    \"\"\"\n",
    "    return math.sqrt(x**2 + y**2)"
   ]
  },
  {
   "cell_type": "code",
   "execution_count": 23,
   "metadata": {
    "slideshow": {
     "slide_type": "slide"
    },
    "tags": []
   },
   "outputs": [],
   "source": [
    "def estimate_pi(n):\n",
    "    \"\"\"Estimate the value of pi using Monte Carlo simulation.\n",
    "    \n",
    "    Parameters\n",
    "    ----------\n",
    "    n : int\n",
    "        The number of random points generated.\n",
    "        \n",
    "    Returns\n",
    "    -------\n",
    "    float\n",
    "        An estimate of pi.\n",
    "\n",
    "    \"\"\"\n",
    "    x_list = random_list(n)\n",
    "    y_list = random_list(n)\n",
    "    \n",
    "    in_circle = 0\n",
    "    for x, y in zip(x_list, y_list):\n",
    "        if distance(x, y) <= 1:\n",
    "            in_circle += 1\n",
    "            \n",
    "    return 4*in_circle / n"
   ]
  },
  {
   "cell_type": "markdown",
   "metadata": {
    "slideshow": {
     "slide_type": "slide"
    }
   },
   "source": [
    "### Total execution time"
   ]
  },
  {
   "cell_type": "code",
   "execution_count": 24,
   "metadata": {
    "slideshow": {
     "slide_type": "-"
    },
    "tags": []
   },
   "outputs": [
    {
     "name": "stdout",
     "output_type": "stream",
     "text": [
      "829 ms ± 8.46 ms per loop (mean ± std. dev. of 7 runs, 1 loop each)\n"
     ]
    }
   ],
   "source": [
    "%timeit estimate_pi(n=1_000_000)"
   ]
  },
  {
   "cell_type": "markdown",
   "metadata": {
    "slideshow": {
     "slide_type": "-"
    }
   },
   "source": [
    "By measuring the total execution time, we do not know where exactly the bottleneck of our code could be."
   ]
  },
  {
   "cell_type": "markdown",
   "metadata": {
    "slideshow": {
     "slide_type": "slide"
    }
   },
   "source": [
    "## `cProfile`"
   ]
  },
  {
   "cell_type": "code",
   "execution_count": 25,
   "metadata": {
    "slideshow": {
     "slide_type": "-"
    },
    "tags": []
   },
   "outputs": [
    {
     "name": "stdout",
     "output_type": "stream",
     "text": [
      "         4000006 function calls in 1.508 seconds\n",
      "\n",
      "   Ordered by: standard name\n",
      "\n",
      "   ncalls  tottime  percall  cumtime  percall filename:lineno(function)\n",
      "        1    0.296    0.296    1.508    1.508 1371357974.py:1(estimate_pi)\n",
      "  1000000    0.422    0.000    0.505    0.000 1732563340.py:1(distance)\n",
      "        2    0.553    0.276    0.707    0.354 2212784721.py:19(<listcomp>)\n",
      "        2    0.000    0.000    0.707    0.354 2212784721.py:5(random_list)\n",
      "  1000000    0.083    0.000    0.083    0.000 {built-in method math.sqrt}\n",
      "        1    0.000    0.000    0.000    0.000 {method 'disable' of '_lsprof.Profiler' objects}\n",
      "  2000000    0.155    0.000    0.155    0.000 {method 'random' of '_random.Random' objects}\n",
      "\n",
      "\n"
     ]
    }
   ],
   "source": [
    "import cProfile\n",
    "\n",
    "profiler = cProfile.Profile()\n",
    "profiler.runcall(estimate_pi, n=1_000_000)\n",
    "profiler.print_stats()"
   ]
  },
  {
   "cell_type": "markdown",
   "metadata": {
    "slideshow": {
     "slide_type": "slide"
    }
   },
   "source": [
    "### Saving statistics"
   ]
  },
  {
   "cell_type": "code",
   "execution_count": 26,
   "metadata": {
    "slideshow": {
     "slide_type": "-"
    },
    "tags": []
   },
   "outputs": [],
   "source": [
    "filename = 'stats.prof'\n",
    "profiler.dump_stats(filename)"
   ]
  },
  {
   "cell_type": "markdown",
   "metadata": {
    "slideshow": {
     "slide_type": "slide"
    }
   },
   "source": [
    "### Visualising `cProfile` results\n",
    "\n",
    "* We can use `snakeviz` to visualise and better understand the results.\n",
    "\n",
    "```\n",
    "    $ snakeviz \"stats.prof\" &\n",
    "```"
   ]
  },
  {
   "cell_type": "markdown",
   "metadata": {
    "slideshow": {
     "slide_type": "slide"
    }
   },
   "source": [
    "### `%prun` magic\n",
    "\n",
    "- Similar to `timeit`, we can run profiler using a magic command `%prun`."
   ]
  },
  {
   "cell_type": "code",
   "execution_count": 27,
   "metadata": {
    "slideshow": {
     "slide_type": "-"
    },
    "tags": []
   },
   "outputs": [
    {
     "name": "stdout",
     "output_type": "stream",
     "text": [
      " "
     ]
    },
    {
     "data": {
      "text/plain": [
       "         4000008 function calls in 1.498 seconds\n",
       "\n",
       "   Ordered by: internal time\n",
       "\n",
       "   ncalls  tottime  percall  cumtime  percall filename:lineno(function)\n",
       "        2    0.528    0.264    0.676    0.338 2212784721.py:19(<listcomp>)\n",
       "  1000000    0.409    0.000    0.492    0.000 1732563340.py:1(distance)\n",
       "        1    0.297    0.297    1.464    1.464 1371357974.py:1(estimate_pi)\n",
       "  2000000    0.148    0.000    0.148    0.000 {method 'random' of '_random.Random' objects}\n",
       "  1000000    0.083    0.000    0.083    0.000 {built-in method math.sqrt}\n",
       "        1    0.034    0.034    1.498    1.498 <string>:1(<module>)\n",
       "        1    0.000    0.000    1.498    1.498 {built-in method builtins.exec}\n",
       "        2    0.000    0.000    0.676    0.338 2212784721.py:5(random_list)\n",
       "        1    0.000    0.000    0.000    0.000 {method 'disable' of '_lsprof.Profiler' objects}"
      ]
     },
     "metadata": {},
     "output_type": "display_data"
    }
   ],
   "source": [
    "%prun estimate_pi(n=1_000_000)"
   ]
  },
  {
   "cell_type": "markdown",
   "metadata": {
    "slideshow": {
     "slide_type": "slide"
    }
   },
   "source": [
    "## Exercise 2: `cProfile`\n",
    "\n",
    "Profile separately using `cProfile` functions `slow_sum_list` and `fast_sum_list` from the following cell. Compare and intepret the results."
   ]
  },
  {
   "cell_type": "code",
   "execution_count": 28,
   "metadata": {
    "slideshow": {
     "slide_type": "slide"
    },
    "tags": []
   },
   "outputs": [],
   "source": [
    "import time\n",
    "\n",
    "\n",
    "def fast_sum(x, y):\n",
    "    time.sleep(0.01)  # wait 0.01 seconds\n",
    "    return x + y\n",
    "\n",
    "def slow_sum(x, y):\n",
    "    time.sleep(0.1)  # wait 0.1 seconds\n",
    "    return x + y\n",
    "\n",
    "def fast_sum_list(x_list, y_list):\n",
    "    res = []\n",
    "    for x, y in zip(x_list, y_list):\n",
    "        res.append(fast_sum(x, y))\n",
    "        \n",
    "    return res\n",
    "\n",
    "def slow_sum_list(x_list, y_list):\n",
    "    res = []\n",
    "    for x, y in zip(x_list, y_list):\n",
    "        res.append(slow_sum(x, y))\n",
    "        \n",
    "    return res\n",
    "\n",
    "x_list = list(range(100))\n",
    "y_list = list(range(100))"
   ]
  },
  {
   "cell_type": "code",
   "execution_count": null,
   "metadata": {
    "slideshow": {
     "slide_type": "skip"
    }
   },
   "outputs": [],
   "source": []
  },
  {
   "cell_type": "markdown",
   "metadata": {
    "slideshow": {
     "slide_type": "slide"
    }
   },
   "source": [
    "### `line_profiler`\n",
    "\n",
    "- `cProfile` told us how many times each function was called and how much time was spent in it.\n",
    "- To investigate even further, we can measure how much time was spent for each line of code.\n",
    "- For that, we use `line_profiler`\n",
    "    - You can install it by running `pip install line_profiler`\n",
    "- In `.py` file, we decorate functions we want to inspect with `@profile`."
   ]
  },
  {
   "cell_type": "code",
   "execution_count": 31,
   "metadata": {
    "slideshow": {
     "slide_type": "slide"
    },
    "tags": []
   },
   "outputs": [],
   "source": [
    "# %load line_profiler_demo.py\n",
    "# import math\n",
    "# import random\n",
    "\n",
    "\n",
    "# @profile\n",
    "# def random_list(n):\n",
    "#     return [2*random.random() - 1 for _ in range(n)]\n",
    "\n",
    "\n",
    "# @profile\n",
    "# def distance(x, y):\n",
    "#     return math.sqrt(x**2 + y**2)\n",
    "\n",
    "\n",
    "# @profile\n",
    "# def estimate_pi(n):\n",
    "#     x_list = random_list(n)\n",
    "#     y_list = random_list(n)\n",
    "    \n",
    "#     in_circle = 0\n",
    "#     for x, y in zip(x_list, y_list):\n",
    "#         if distance(x, y) <= 1:\n",
    "#             in_circle += 1\n",
    "            \n",
    "#     return 4*in_circle / n\n",
    "\n",
    "# if __name__ == '__main__':\n",
    "#     estimate_pi(1_000_000)"
   ]
  },
  {
   "cell_type": "code",
   "execution_count": 32,
   "metadata": {
    "slideshow": {
     "slide_type": "slide"
    },
    "tags": []
   },
   "outputs": [
    {
     "name": "stdout",
     "output_type": "stream",
     "text": [
      "Wrote profile results to line_profiler_demo.py.lprof\n",
      "Timer unit: 1e-06 s\n",
      "\n",
      "Total time: 0.747942 s\n",
      "File: line_profiler_demo.py\n",
      "Function: random_list at line 5\n",
      "\n",
      "Line #      Hits         Time  Per Hit   % Time  Line Contents\n",
      "==============================================================\n",
      "     5                                           @profile\n",
      "     6                                           def random_list(n):\n",
      "     7         2     747942.0 373971.0    100.0      return [2*random.random() - 1 for _ in range(n)]\n",
      "\n",
      "Total time: 0.667735 s\n",
      "File: line_profiler_demo.py\n",
      "Function: distance at line 10\n",
      "\n",
      "Line #      Hits         Time  Per Hit   % Time  Line Contents\n",
      "==============================================================\n",
      "    10                                           @profile\n",
      "    11                                           def distance(x, y):\n",
      "    12   1000000     667735.0      0.7    100.0      return math.sqrt(x**2 + y**2)\n",
      "\n",
      "Total time: 4.56641 s\n",
      "File: line_profiler_demo.py\n",
      "Function: estimate_pi at line 15\n",
      "\n",
      "Line #      Hits         Time  Per Hit   % Time  Line Contents\n",
      "==============================================================\n",
      "    15                                           @profile\n",
      "    16                                           def estimate_pi(n):\n",
      "    17         1     376285.0 376285.0      8.2      x_list = random_list(n)\n",
      "    18         1     371685.0 371685.0      8.1      y_list = random_list(n)\n",
      "    19                                               \n",
      "    20         1          2.0      2.0      0.0      in_circle = 0\n",
      "    21   1000001     434397.0      0.4      9.5      for x, y in zip(x_list, y_list):\n",
      "    22   1000000    3031330.0      3.0     66.4          if distance(x, y) <= 1:\n",
      "    23    785006     352708.0      0.4      7.7              in_circle += 1\n",
      "    24                                                       \n",
      "    25         1          2.0      2.0      0.0      return 4*in_circle / n\n",
      "\n"
     ]
    }
   ],
   "source": [
    "!kernprof -l -v line_profiler_demo.py"
   ]
  },
  {
   "cell_type": "markdown",
   "metadata": {
    "slideshow": {
     "slide_type": "slide"
    }
   },
   "source": [
    "## Memory profiler\n",
    "\n",
    "- Besides the CPU time, we sometimes need to measure the memory usage.\n",
    "- For that, we can use `memory_profiler`\n",
    "    - You can install it by running `pip install memory_profiler`\n",
    "- After loading an extension, we can run `memory_profiler` as:"
   ]
  },
  {
   "cell_type": "code",
   "execution_count": 33,
   "metadata": {
    "slideshow": {
     "slide_type": "-"
    },
    "tags": []
   },
   "outputs": [],
   "source": [
    "%load_ext memory_profiler"
   ]
  },
  {
   "cell_type": "markdown",
   "metadata": {
    "slideshow": {
     "slide_type": "slide"
    },
    "tags": []
   },
   "source": [
    "### `%memit`\n",
    "\n",
    "- Memory equivalent of `%timeit`."
   ]
  },
  {
   "cell_type": "code",
   "execution_count": 34,
   "metadata": {
    "slideshow": {
     "slide_type": "-"
    },
    "tags": []
   },
   "outputs": [
    {
     "name": "stdout",
     "output_type": "stream",
     "text": [
      "peak memory: 158.41 MiB, increment: 76.41 MiB\n"
     ]
    }
   ],
   "source": [
    "%memit estimate_pi(n=1_000_000)"
   ]
  },
  {
   "cell_type": "markdown",
   "metadata": {},
   "source": [
    "### `%mprun`\n",
    "\n",
    "- Memory equivalent of `%lprun`.\n",
    "- Unfortunately, it works only on code in separate modules, not the code in notebook."
   ]
  },
  {
   "cell_type": "code",
   "execution_count": 35,
   "metadata": {
    "tags": []
   },
   "outputs": [
    {
     "name": "stdout",
     "output_type": "stream",
     "text": [
      "Overwriting mprun_demo.py\n"
     ]
    }
   ],
   "source": [
    "%%file mprun_demo.py\n",
    "def sum_of_lists(n):\n",
    "    total = 0\n",
    "    for i in range(5):\n",
    "        L = [j ^ (j >> i) for j in range(n)]\n",
    "        total += sum(L)\n",
    "        del L # remove reference to L\n",
    "    return total\n",
    "\n",
    "# Example taken from: https://jakevdp.github.io/PythonDataScienceHandbook/01.07-timing-and-profiling.html"
   ]
  },
  {
   "cell_type": "code",
   "execution_count": 36,
   "metadata": {
    "tags": []
   },
   "outputs": [],
   "source": [
    "# from mprun_demo import sum_of_lists\n",
    "# %mprun -f sum_of_lists sum_of_lists(1000000)"
   ]
  },
  {
   "cell_type": "markdown",
   "metadata": {
    "slideshow": {
     "slide_type": "slide"
    }
   },
   "source": [
    "## Optimisation - making the code run faster"
   ]
  },
  {
   "cell_type": "markdown",
   "metadata": {
    "slideshow": {
     "slide_type": "slide"
    }
   },
   "source": [
    "*“Premature optimisation is the root of all evil”* - [Sir Tony Hoare](https://en.wikipedia.org/wiki/Tony_Hoare) (or [Donald Knuth](https://en.wikipedia.org/wiki/Donald_Knuth))"
   ]
  },
  {
   "cell_type": "markdown",
   "metadata": {
    "slideshow": {
     "slide_type": "slide"
    }
   },
   "source": [
    "## When we (should) optimise\n",
    "\n",
    "1. **Make it work**: write the code in a simple, readable, and maintainable way.\n",
    "2. **Make it reliable**: write tests and make sure that if we break the code, the tests will let us know\n",
    "3. **Measure, measure, measure**: Measure the performance, do not guess!\n",
    "4. **Convince ourselves that our code is too slow**: Does it hurt if it runs too slow?\n",
    "5. **Consider the costs of optimisation**: Hardware is cheaper than the developer's time.\n",
    "6. **Optimise**"
   ]
  },
  {
   "cell_type": "code",
   "execution_count": 37,
   "metadata": {
    "slideshow": {
     "slide_type": "slide"
    },
    "tags": []
   },
   "outputs": [
    {
     "name": "stdout",
     "output_type": "stream",
     "text": [
      "The Zen of Python, by Tim Peters\n",
      "\n",
      "Beautiful is better than ugly.\n",
      "Explicit is better than implicit.\n",
      "Simple is better than complex.\n",
      "Complex is better than complicated.\n",
      "Flat is better than nested.\n",
      "Sparse is better than dense.\n",
      "Readability counts.\n",
      "Special cases aren't special enough to break the rules.\n",
      "Although practicality beats purity.\n",
      "Errors should never pass silently.\n",
      "Unless explicitly silenced.\n",
      "In the face of ambiguity, refuse the temptation to guess.\n",
      "There should be one-- and preferably only one --obvious way to do it.\n",
      "Although that way may not be obvious at first unless you're Dutch.\n",
      "Now is better than never.\n",
      "Although never is often better than *right* now.\n",
      "If the implementation is hard to explain, it's a bad idea.\n",
      "If the implementation is easy to explain, it may be a good idea.\n",
      "Namespaces are one honking great idea -- let's do more of those!\n"
     ]
    }
   ],
   "source": [
    "import this"
   ]
  },
  {
   "cell_type": "markdown",
   "metadata": {
    "slideshow": {
     "slide_type": "slide"
    }
   },
   "source": [
    "### General gudelines\n",
    "\n",
    "1. Convince yourself that your program is too slow.\n",
    "    - Does it hurt if the program runs slowly?\n",
    "    - Is it slow for a realistic use case?\n",
    "    - Are there any external causes (network, IO, ...)\n",
    "    - Find bottlenecks by profiling - measure, don't guess!\n",
    "    - *One accurate measurement is worth a thousand expert opinions.* - **Grace Hopper**\n",
    "2. Optimisation costs.\n",
    "    - Optimisation is time consuming.\n",
    "    - How much readibility and maintainability will suffer?\n",
    "    - Is it cheaper to use better hardware (hardware is cheaper than the developer time).\n",
    "3. Do not optimize while you develop\n",
    "    - Correct first, fast later.\n",
    "4. Always check the result of optimisation (unit tests, coverage)"
   ]
  },
  {
   "cell_type": "markdown",
   "metadata": {
    "slideshow": {
     "slide_type": "slide"
    }
   },
   "source": [
    "### Algorithmic optimisation\n",
    "\n",
    "- Generally, it is the first thing to look for.\n",
    "- Are there any ways to compute less?\n",
    "- Can we use an algorithm with different $O(N)$?"
   ]
  },
  {
   "cell_type": "markdown",
   "metadata": {
    "slideshow": {
     "slide_type": "slide"
    }
   },
   "source": [
    "### Example\n",
    "\n",
    "How could we rewrite the following code to run faster?\n",
    "\n",
    "**Hint:** Have a look at Python `set` datatype and its operators (https://realpython.com/python-sets/)."
   ]
  },
  {
   "cell_type": "code",
   "execution_count": 38,
   "metadata": {
    "slideshow": {
     "slide_type": "-"
    },
    "tags": []
   },
   "outputs": [],
   "source": [
    "import numpy as np\n",
    "\n",
    "x = np.random.randint(0, 1000, 10000)\n",
    "y = np.random.randint(0, 1000, 10000)\n",
    "\n",
    "def find_common_elements(x, y):\n",
    "    \"\"\"Find common elements in arrays x and y.\"\"\"\n",
    "    res = []\n",
    "    for i in x:\n",
    "        for j in y:\n",
    "            if i==j and i not in res:\n",
    "                res.append(i)\n",
    "    \n",
    "    return res"
   ]
  },
  {
   "cell_type": "code",
   "execution_count": 39,
   "metadata": {
    "slideshow": {
     "slide_type": "-"
    },
    "tags": []
   },
   "outputs": [
    {
     "name": "stdout",
     "output_type": "stream",
     "text": [
      "8.6 s ± 0 ns per loop (mean ± std. dev. of 1 run, 1 loop each)\n"
     ]
    }
   ],
   "source": [
    "%timeit -n 1 -r 1 find_common_elements(x, y)"
   ]
  },
  {
   "cell_type": "markdown",
   "metadata": {
    "slideshow": {
     "slide_type": "slide"
    }
   },
   "source": [
    "If we use sets:"
   ]
  },
  {
   "cell_type": "code",
   "execution_count": 40,
   "metadata": {
    "slideshow": {
     "slide_type": "-"
    },
    "tags": []
   },
   "outputs": [],
   "source": [
    "def using_sets(x, y):\n",
    "    return list(set(x) & set(y))"
   ]
  },
  {
   "cell_type": "code",
   "execution_count": 41,
   "metadata": {
    "slideshow": {
     "slide_type": "-"
    },
    "tags": []
   },
   "outputs": [
    {
     "name": "stdout",
     "output_type": "stream",
     "text": [
      "1.77 ms ± 11.6 µs per loop (mean ± std. dev. of 7 runs, 1,000 loops each)\n"
     ]
    }
   ],
   "source": [
    "%timeit using_sets(x, y)"
   ]
  },
  {
   "cell_type": "markdown",
   "metadata": {
    "slideshow": {
     "slide_type": "slide"
    }
   },
   "source": [
    "## Let NumPy/pandas do the work\n",
    "\n",
    "\"Vectorization is the process of converting an algorithm from operating on a single value at a time to operating on a set of values at one time. Modern CPUs provide direct support for vector operations where a single instruction is applied to multiple data (SIMD).\" [Intel Vectorization](https://www.intel.com/content/www/us/en/developer/articles/technical/vectorization-a-key-tool-to-improve-performance-on-modern-cpus.html#:~:text=Vectorization%20is%20the%20process%20of,to%20multiple%20data%20(SIMD).)\n",
    "\n",
    "### Example 1: Computing the mean"
   ]
  },
  {
   "cell_type": "code",
   "execution_count": 42,
   "metadata": {
    "slideshow": {
     "slide_type": "-"
    },
    "tags": []
   },
   "outputs": [],
   "source": [
    "import pandas as pd\n",
    "\n",
    "A = np.random.rand(100, 100)\n",
    "data = pd.DataFrame(A)\n",
    "\n",
    "def mean_loops(A):\n",
    "    s = 0\n",
    "    for i in range(A.shape[0]):\n",
    "        for j in range(A.shape[1]):\n",
    "            s += A[i, j]\n",
    "            \n",
    "    return s / A.size\n",
    "\n",
    "def mean_numpy(A):\n",
    "    return A.mean()  # or np.mean(A)"
   ]
  },
  {
   "cell_type": "code",
   "execution_count": 43,
   "metadata": {
    "slideshow": {
     "slide_type": "slide"
    },
    "tags": []
   },
   "outputs": [
    {
     "name": "stdout",
     "output_type": "stream",
     "text": [
      "1.93 ms ± 14.7 µs per loop (mean ± std. dev. of 7 runs, 100 loops each)\n"
     ]
    }
   ],
   "source": [
    "%timeit mean_loops(A)"
   ]
  },
  {
   "cell_type": "code",
   "execution_count": 44,
   "metadata": {
    "slideshow": {
     "slide_type": "-"
    },
    "tags": []
   },
   "outputs": [
    {
     "name": "stdout",
     "output_type": "stream",
     "text": [
      "8.19 µs ± 41.8 ns per loop (mean ± std. dev. of 7 runs, 100,000 loops each)\n"
     ]
    }
   ],
   "source": [
    "%timeit mean_numpy(A)"
   ]
  },
  {
   "cell_type": "markdown",
   "metadata": {
    "slideshow": {
     "slide_type": "slide"
    }
   },
   "source": [
    "### Example 2: Matrix-matrix multiplication"
   ]
  },
  {
   "cell_type": "code",
   "execution_count": 45,
   "metadata": {
    "slideshow": {
     "slide_type": "-"
    },
    "tags": []
   },
   "outputs": [],
   "source": [
    "A = np.random.rand(100, 100)\n",
    "B = np.random.rand(100, 100)\n",
    "\n",
    "def matmult_loops(A, B):\n",
    "    res = np.zeros([A.shape[0], B.shape[1]])\n",
    "    for i in range(res.shape[0]):\n",
    "        for j in range(res.shape[1]):\n",
    "            for k in range(res.shape[1]):\n",
    "                res[i, j] += A[i, k] * B[k, j]\n",
    "\n",
    "    return res\n",
    "\n",
    "def matmult_numpy(A, B):\n",
    "    return A @ B  # np.matmult(A, B)\n",
    "\n",
    "assert np.allclose(matmult_loops(A, B), A @ B)"
   ]
  },
  {
   "cell_type": "code",
   "execution_count": 46,
   "metadata": {
    "slideshow": {
     "slide_type": "slide"
    },
    "tags": []
   },
   "outputs": [
    {
     "name": "stdout",
     "output_type": "stream",
     "text": [
      "617 ms ± 6.43 ms per loop (mean ± std. dev. of 7 runs, 1 loop each)\n"
     ]
    }
   ],
   "source": [
    "%timeit matmult_loops(A, B)"
   ]
  },
  {
   "cell_type": "code",
   "execution_count": 47,
   "metadata": {
    "slideshow": {
     "slide_type": "-"
    },
    "tags": []
   },
   "outputs": [
    {
     "name": "stdout",
     "output_type": "stream",
     "text": [
      "85.4 µs ± 857 ns per loop (mean ± std. dev. of 7 runs, 10,000 loops each)\n"
     ]
    }
   ],
   "source": [
    "%timeit matmult_numpy(A, B)"
   ]
  },
  {
   "cell_type": "markdown",
   "metadata": {
    "slideshow": {
     "slide_type": "slide"
    }
   },
   "source": [
    "### Memoisation (caching) - do not compute the same thing twice.\n",
    "\n",
    "### Example 3: Fibonacci"
   ]
  },
  {
   "cell_type": "code",
   "execution_count": 48,
   "metadata": {
    "slideshow": {
     "slide_type": "-"
    },
    "tags": []
   },
   "outputs": [],
   "source": [
    "def fibonacci(n):\n",
    "    if n == 0:\n",
    "        return 0\n",
    "    elif n == 1:\n",
    "        return 1\n",
    "    else:\n",
    "        return fibonacci(n-1) + fibonacci(n-2)"
   ]
  },
  {
   "cell_type": "code",
   "execution_count": 49,
   "metadata": {
    "slideshow": {
     "slide_type": "-"
    },
    "tags": []
   },
   "outputs": [
    {
     "name": "stdout",
     "output_type": "stream",
     "text": [
      "3.61 s ± 42.6 ms per loop (mean ± std. dev. of 7 runs, 1 loop each)\n"
     ]
    }
   ],
   "source": [
    "%timeit fibonacci(35)"
   ]
  },
  {
   "cell_type": "markdown",
   "metadata": {
    "slideshow": {
     "slide_type": "slide"
    }
   },
   "source": [
    "We can use `cache` to save the results of previous calls."
   ]
  },
  {
   "cell_type": "code",
   "execution_count": 50,
   "metadata": {
    "slideshow": {
     "slide_type": "-"
    },
    "tags": []
   },
   "outputs": [],
   "source": [
    "import functools\n",
    "\n",
    "@functools.cache\n",
    "def fibonacci(n):\n",
    "    if n == 0:  # There is no 0'th number\n",
    "        return 0\n",
    "    elif n == 1:  # We define the first number as 1\n",
    "        return 1\n",
    "    return fibonacci(n-1) + fibonacci(n-2)"
   ]
  },
  {
   "cell_type": "code",
   "execution_count": 51,
   "metadata": {
    "slideshow": {
     "slide_type": "-"
    },
    "tags": []
   },
   "outputs": [
    {
     "name": "stdout",
     "output_type": "stream",
     "text": [
      "69 ns ± 0.931 ns per loop (mean ± std. dev. of 7 runs, 10,000,000 loops each)\n"
     ]
    }
   ],
   "source": [
    "%timeit fibonacci(35)"
   ]
  },
  {
   "cell_type": "markdown",
   "metadata": {
    "slideshow": {
     "slide_type": "slide"
    }
   },
   "source": [
    "## Exercise 3: Caching\n",
    "\n",
    "In one of the previous exercises, we wrote a function for computing factorial using recursion. Measure how much the performance improves if caching is used. Measure performance for `n=100`."
   ]
  },
  {
   "cell_type": "code",
   "execution_count": null,
   "metadata": {},
   "outputs": [],
   "source": []
  },
  {
   "cell_type": "markdown",
   "metadata": {
    "slideshow": {
     "slide_type": "skip"
    }
   },
   "source": [
    "## Exercise 4: Code optimisation\n",
    "\n",
    "In the following cell is the code for estimating  and we used it previously to demonstrate profiling.\n",
    "\n",
    "Measure the CPU time of estimate_pi(1_000_000) and write it down.\n",
    "By profiling and optimisation, how much were you able to reduce CPU time?"
   ]
  },
  {
   "cell_type": "code",
   "execution_count": 55,
   "metadata": {
    "slideshow": {
     "slide_type": "slide"
    },
    "tags": []
   },
   "outputs": [],
   "source": [
    "# %load estimate_pi.py\n",
    "import math\n",
    "import random\n",
    "\n",
    "\n",
    "def random_list(n):\n",
    "    \"\"\"Create a list with n elements, with each\n",
    "    element with value between -1 and 1.\n",
    "    \n",
    "    Parameters\n",
    "    ----------\n",
    "    n : int\n",
    "        The number of elements.\n",
    "        \n",
    "    Return\n",
    "    ------\n",
    "    list(float)\n",
    "    \n",
    "    \"\"\"\n",
    "    return [2*random.random() - 1 for _ in range(n)]\n",
    "\n",
    "\n",
    "def distance(x, y):\n",
    "    \"\"\"Compute the distance from the origin of a point with coordinates x and y.\n",
    "    \n",
    "    Parameters\n",
    "    ----------\n",
    "    n : int\n",
    "        The number of elements.\n",
    "        \n",
    "    Return\n",
    "    ------\n",
    "    float\n",
    "        Distance from origin.\n",
    "\n",
    "    \"\"\"\n",
    "    return math.sqrt(x**2 + y**2)\n",
    "\n",
    "\n",
    "def estimate_pi(n):\n",
    "    \"\"\"Estimate the value of pi using Monte Carlo simulation.\n",
    "    \n",
    "    Parameters\n",
    "    ----------\n",
    "    n : int\n",
    "        The number of random points generated.\n",
    "        \n",
    "    Returns\n",
    "    -------\n",
    "    float\n",
    "        An estimate of pi.\n",
    "\n",
    "    \"\"\"\n",
    "    x_list = random_list(n)\n",
    "    y_list = random_list(n)\n",
    "    \n",
    "    in_circle = 0\n",
    "    for x, y in zip(x_list, y_list):\n",
    "        if distance(x, y) <= 1:\n",
    "            in_circle += 1\n",
    "            \n",
    "    return 4*in_circle / n"
   ]
  },
  {
   "cell_type": "code",
   "execution_count": 56,
   "metadata": {
    "slideshow": {
     "slide_type": "slide"
    },
    "tags": []
   },
   "outputs": [
    {
     "name": "stdout",
     "output_type": "stream",
     "text": [
      "833 ms ± 3.26 ms per loop (mean ± std. dev. of 7 runs, 1 loop each)\n"
     ]
    }
   ],
   "source": [
    "%timeit estimate_pi(1_000_000)"
   ]
  },
  {
   "cell_type": "code",
   "execution_count": null,
   "metadata": {},
   "outputs": [],
   "source": []
  },
  {
   "cell_type": "markdown",
   "metadata": {
    "slideshow": {
     "slide_type": "slide"
    }
   },
   "source": [
    "## My code is still slow. What now?\n",
    "\n",
    "* Replace as much of your code with third-party libraries - they are likely better optimised than what you had time for. \n",
    "* Are you using all the cores in your system? Following step 1 above first will likely mean this is true. If you still see only one core being used, you need to parallelise your program. Tomorrow's lecture will introduce that. \n",
    "* You could transfer the hot spots, i.e. the few lines or functions in which most of the time is spent, to compiled code ([numba](https://numba.pydata.org) or [Cython](https://cython.org/))."
   ]
  }
 ],
 "metadata": {
  "celltoolbar": "Slideshow",
  "kernelspec": {
   "display_name": "Python 3 (ipykernel)",
   "language": "python",
   "name": "python3"
  },
  "language_info": {
   "codemirror_mode": {
    "name": "ipython",
    "version": 3
   },
   "file_extension": ".py",
   "mimetype": "text/x-python",
   "name": "python",
   "nbconvert_exporter": "python",
   "pygments_lexer": "ipython3",
   "version": "3.10.4"
  }
 },
 "nbformat": 4,
 "nbformat_minor": 4
}
