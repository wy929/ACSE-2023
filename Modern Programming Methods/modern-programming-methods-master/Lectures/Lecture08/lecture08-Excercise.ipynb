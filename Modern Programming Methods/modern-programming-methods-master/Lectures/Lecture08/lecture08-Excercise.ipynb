{
 "cells": [
  {
   "cell_type": "markdown",
   "id": "778ee62b",
   "metadata": {
    "slideshow": {
     "slide_type": "slide"
    }
   },
   "source": [
    "#  <center> Numpy & Pandas"
   ]
  },
  {
   "cell_type": "code",
   "execution_count": 1,
   "id": "006f29dd",
   "metadata": {},
   "outputs": [],
   "source": [
    "import pandas as pd\n",
    "\n",
    "import numpy as np\n",
    "from numpy.random import randn\n",
    "np.random.seed(101)"
   ]
  },
  {
   "cell_type": "markdown",
   "id": "445526a8",
   "metadata": {},
   "source": [
    "### Exercise set 1\n"
   ]
  },
  {
   "cell_type": "markdown",
   "id": "63f61de0",
   "metadata": {},
   "source": [
    "#### Ex. 1.1\n",
    "Work out the shape of the resulting arrays before executing the following cells. <br>\n",
    "(HINT: Length of the innermost list gives the size of the rightmost shape index.) <br>\n",
    "* set the variable \"a_rows\" to the correct number of row, and\n",
    "* set the variable \"a_columns\" to the correct number of columns."
   ]
  },
  {
   "cell_type": "code",
   "execution_count": 2,
   "id": "9489e710",
   "metadata": {},
   "outputs": [
    {
     "name": "stdout",
     "output_type": "stream",
     "text": [
      "[[11 12 13]\n",
      " [21 22 23]\n",
      " [31 32 33]\n",
      " [41 42 43]]\n"
     ]
    }
   ],
   "source": [
    "## don't change the following line of code in any way\n",
    "a = np.array( [[11,12,13], [21,22,23], [31,32,33], [41,42,43]] ) \n",
    "print(a)"
   ]
  },
  {
   "cell_type": "markdown",
   "id": "dcfbfe30",
   "metadata": {},
   "source": [
    "Now create 2 variales called `a_rows` and `a_columns` and set their values to how many rows and columns array `a` has."
   ]
  },
  {
   "cell_type": "code",
   "execution_count": 3,
   "id": "ca539c14",
   "metadata": {},
   "outputs": [],
   "source": [
    "## Solution...\n"
   ]
  },
  {
   "cell_type": "markdown",
   "id": "5fe0db7b",
   "metadata": {},
   "source": [
    "#### Ex. 1.2\n",
    "Create an np.array called `b` and manually set the values what you expect the output of `a[2:-3:2]` would be."
   ]
  },
  {
   "cell_type": "code",
   "execution_count": 4,
   "id": "b2aeb7df",
   "metadata": {},
   "outputs": [],
   "source": [
    "a = np.arange(8)     "
   ]
  },
  {
   "cell_type": "code",
   "execution_count": 5,
   "id": "32129f94",
   "metadata": {},
   "outputs": [],
   "source": [
    "## Solution...\n"
   ]
  },
  {
   "cell_type": "markdown",
   "id": "2bbc042a",
   "metadata": {},
   "source": [
    "#### Ex. 1.3\n",
    "Create a two-dimensional array called `m` to represent the following matrix,\n",
    "$$\n",
    "\\mathbf{m} = \\left\\lbrack\\begin{array}{ccc}\n",
    "1 & 1 & 2\\cr\n",
    "3 & 5 & 8\\cr\n",
    "13 & 21 & 34\\cr\n",
    "55 & 89 & 144\n",
    "\\end{array}\\right\\rbrack\n",
    "$$\n",
    "\n",
    "Then change all the elements with values 21, 34, 89, and 144 in matrix `m` (i.e. bottom right corner elements) to 1001 by using a slice."
   ]
  },
  {
   "cell_type": "code",
   "execution_count": 6,
   "id": "46e0ca7f",
   "metadata": {},
   "outputs": [],
   "source": [
    "## Solution...\n"
   ]
  },
  {
   "cell_type": "code",
   "execution_count": 7,
   "id": "be45d70e",
   "metadata": {},
   "outputs": [],
   "source": [
    "# Solution..."
   ]
  },
  {
   "cell_type": "markdown",
   "id": "7090e2a0",
   "metadata": {},
   "source": [
    "#### Ex. 1.4\n",
    "\n",
    "Let $A$ be the two-dimensional array\n",
    "$$\n",
    "\\mathbf{A} = \\left\\lbrack\\begin{array}{ccc}\n",
    "2 & 1 & 0\\cr\n",
    "-1 & 2 & 1\\cr\n",
    "0 & -1 & 2\n",
    "\\end{array}\\right\\rbrack\n",
    "$$\n",
    "\n",
    "In the following line, initilise the two dimensional array `A` propperly to match matrix A."
   ]
  },
  {
   "cell_type": "code",
   "execution_count": 8,
   "id": "c8e4912e",
   "metadata": {},
   "outputs": [],
   "source": [
    "## Solution...\n"
   ]
  },
  {
   "cell_type": "markdown",
   "id": "8a695387",
   "metadata": {},
   "source": [
    "Implement and apply the function\n",
    "$$\n",
    "f(x) = x^3 + xe^x + 1\n",
    "$$\n",
    "to $A$. <br>\n"
   ]
  },
  {
   "cell_type": "code",
   "execution_count": 9,
   "id": "f6887165",
   "metadata": {},
   "outputs": [],
   "source": [
    "# Solution...\n"
   ]
  },
  {
   "cell_type": "markdown",
   "id": "14b4580b",
   "metadata": {},
   "source": [
    "#### Ex. 1.5\n",
    "Use `base` to check if array `q` is a copy of array `p`. <br>\n",
    "Now, do the same for a simple indexed slice of `p` (e.g. `p[1:2,3:4]`)."
   ]
  },
  {
   "cell_type": "code",
   "execution_count": 10,
   "id": "2f1975aa",
   "metadata": {},
   "outputs": [],
   "source": [
    "p = np.array([[0, 1, 2],[3, 4, 5],[6, 7,8],[9, 10, 11]]) \n",
    "rows = [0,0,3,3]   # indices for rows\n",
    "cols = [0,2,0,2]   # indices for columns\n",
    "q=p[rows,cols]\n"
   ]
  },
  {
   "cell_type": "code",
   "execution_count": 11,
   "id": "b584b597",
   "metadata": {},
   "outputs": [],
   "source": [
    "# Solution...\n"
   ]
  },
  {
   "cell_type": "markdown",
   "id": "b8f60e95",
   "metadata": {},
   "source": [
    "#### Ex. 1.6\n",
    "Explore other ways of generating random numbers. <br>\n",
    "Below you will find an example for generating samples from a binomial distribution. <br>\n",
    "What other distributions can you sample? <br>\n",
    "Further documentation: https://numpy.org/doc/stable/reference/random/generator.html"
   ]
  },
  {
   "cell_type": "code",
   "execution_count": 12,
   "id": "1ec0b5da",
   "metadata": {},
   "outputs": [],
   "source": [
    "s = np.random.binomial(5, 0.5, size=25)\n"
   ]
  },
  {
   "cell_type": "markdown",
   "id": "423f179b",
   "metadata": {},
   "source": [
    "#### Ex. 1.7\n",
    "Here are some `timeit` experiments for you to try. Check which methods are faster?"
   ]
  },
  {
   "cell_type": "code",
   "execution_count": 13,
   "id": "c4759663",
   "metadata": {
    "scrolled": true
   },
   "outputs": [
    {
     "name": "stdout",
     "output_type": "stream",
     "text": [
      "113 ns ± 0.558 ns per loop (mean ± std. dev. of 3 runs, 10000000 loops each)\n",
      "55.1 ns ± 0.693 ns per loop (mean ± std. dev. of 3 runs, 10000000 loops each)\n"
     ]
    }
   ],
   "source": [
    "# Accessing a 2d array\n",
    "nd = np.arange(100).reshape((10,10))\n",
    "\n",
    "# accessing element of 2d array\n",
    "%timeit -n 10000000 -r 3 nd[5][5]\n",
    "%timeit -n 10000000 -r 3 nd[5,5]"
   ]
  },
  {
   "cell_type": "code",
   "execution_count": 14,
   "id": "5284df26",
   "metadata": {},
   "outputs": [
    {
     "name": "stdout",
     "output_type": "stream",
     "text": [
      "138 ms ± 23.3 ms per loop (mean ± std. dev. of 10 runs, 1 loop each)\n",
      "141 ms ± 21.7 ms per loop (mean ± std. dev. of 10 runs, 1 loop each)\n"
     ]
    }
   ],
   "source": [
    "# Multiplying two vectors\n",
    "x = np.arange(10E7)\n",
    "%timeit -n 1 -r 10 x*x\n",
    "%timeit -n 1 -r 10 x**2"
   ]
  },
  {
   "cell_type": "code",
   "execution_count": 15,
   "id": "c4b3f036",
   "metadata": {},
   "outputs": [
    {
     "name": "stdout",
     "output_type": "stream",
     "text": [
      "214 ms ± 37.3 ms per loop (mean ± std. dev. of 7 runs, 10 loops each)\n",
      "62.1 ms ± 5.18 ms per loop (mean ± std. dev. of 7 runs, 10 loops each)\n",
      "2.71 ms ± 169 µs per loop (mean ± std. dev. of 7 runs, 100 loops each)\n"
     ]
    }
   ],
   "source": [
    "# Comparing range functions and iterating in loops\n",
    "# Note: some distributions may see overflow in range() example\n",
    "\n",
    "size = int(1E6)\n",
    "\n",
    "%timeit for x in range(size): x**2\n",
    "\n",
    "%timeit for x in np.arange(size): x**2\n",
    "\n",
    "%timeit np.arange(size)**2"
   ]
  },
  {
   "cell_type": "markdown",
   "id": "b7e5bcdb",
   "metadata": {},
   "source": [
    "#### Ex. 1.8\n",
    "The Taylor series expansion for the trigonometric function $\\arctan(y)$ is :\n",
    "$$\\arctan ( y) \\, = \\,y - \\frac{y^3}{3} + \\frac{y^5}{5}  - \\frac{y^7}{7}  + \\dots $$\n",
    "Now, $\\arctan(1) = \\pi/4 $, so\n",
    "$$ \\pi = 4 \\, \\Big( 1- \\frac{1}{3} + \\frac{1}{5} - \\frac{1}{7} + ... \\Big) $$\n",
    "<br>\n",
    "We can represent the first few terms of the series expansion of $\\arctan(y)$ using a numpy `Polynomial`, with coefficients:\n",
    "$$0, +1, 0, -1/3, 0, +1/5, 0, -1/7,\\ldots\\,$$ \n",
    "and then use it to approximate $\\pi$.\n",
    "\n",
    "Write a function called `arctan` using the expansion above and use it to calculate an approximation of $\\pi$ using numpy polynomials."
   ]
  },
  {
   "cell_type": "code",
   "execution_count": 16,
   "id": "a328dbad",
   "metadata": {},
   "outputs": [],
   "source": [
    "## You should use numpy.polynmial in your function so lets import it\n",
    "from numpy.polynomial import Polynomial"
   ]
  },
  {
   "cell_type": "code",
   "execution_count": 17,
   "id": "0526ab33",
   "metadata": {},
   "outputs": [],
   "source": [
    "## Solution...\n"
   ]
  },
  {
   "cell_type": "markdown",
   "id": "1f298729",
   "metadata": {},
   "source": [
    "### Exercise set 2\n",
    "\n",
    "The first step in most data analytics projects is reading the data file. In this exercise, you'll create `Series` and `DataFrame` objects, both by hand and by reading data files."
   ]
  },
  {
   "cell_type": "markdown",
   "id": "a328d1d9",
   "metadata": {},
   "source": [
    "#### Ex. 2.1\n",
    "\n",
    "In the _Solution_ cell below, create a `DataFrame` fruits that looks like this:\n",
    "\n",
    "![](https://i.imgur.com/Ax3pp2A.png)"
   ]
  },
  {
   "cell_type": "code",
   "execution_count": 18,
   "id": "e62e9bb5",
   "metadata": {},
   "outputs": [],
   "source": [
    "# Solution\n"
   ]
  },
  {
   "cell_type": "markdown",
   "id": "14872342",
   "metadata": {},
   "source": [
    "#### Ex 2.2\n",
    "\n",
    "Create a variable `ingredients` with a Series that looks like:\n",
    "\n",
    "```\n",
    "Flour     4 cups\n",
    "Milk       1 cup\n",
    "Eggs     2 large\n",
    "Spam       1 can\n",
    "Name: Dinner, dtype: object\n",
    "```"
   ]
  },
  {
   "cell_type": "code",
   "execution_count": 19,
   "id": "95dfbac5",
   "metadata": {},
   "outputs": [],
   "source": [
    "# Solution:\n"
   ]
  },
  {
   "cell_type": "markdown",
   "id": "c0470d3f",
   "metadata": {},
   "source": [
    "#### Ex 2.3\n",
    "In the cell below, write code to save this `DataFrame` to disk as a csv file with the name `cows_and_goats.csv`."
   ]
  },
  {
   "cell_type": "code",
   "execution_count": 20,
   "id": "3c179693",
   "metadata": {},
   "outputs": [
    {
     "data": {
      "text/html": [
       "<div>\n",
       "<style scoped>\n",
       "    .dataframe tbody tr th:only-of-type {\n",
       "        vertical-align: middle;\n",
       "    }\n",
       "\n",
       "    .dataframe tbody tr th {\n",
       "        vertical-align: top;\n",
       "    }\n",
       "\n",
       "    .dataframe thead th {\n",
       "        text-align: right;\n",
       "    }\n",
       "</style>\n",
       "<table border=\"1\" class=\"dataframe\">\n",
       "  <thead>\n",
       "    <tr style=\"text-align: right;\">\n",
       "      <th></th>\n",
       "      <th>Cows</th>\n",
       "      <th>Goats</th>\n",
       "    </tr>\n",
       "  </thead>\n",
       "  <tbody>\n",
       "    <tr>\n",
       "      <th>Year 1</th>\n",
       "      <td>12</td>\n",
       "      <td>22</td>\n",
       "    </tr>\n",
       "    <tr>\n",
       "      <th>Year 2</th>\n",
       "      <td>20</td>\n",
       "      <td>19</td>\n",
       "    </tr>\n",
       "  </tbody>\n",
       "</table>\n",
       "</div>"
      ],
      "text/plain": [
       "        Cows  Goats\n",
       "Year 1    12     22\n",
       "Year 2    20     19"
      ]
     },
     "execution_count": 20,
     "metadata": {},
     "output_type": "execute_result"
    }
   ],
   "source": [
    "animals = pd.DataFrame({'Cows': [12, 20], 'Goats': [22, 19]}, index=['Year 1', 'Year 2'])\n",
    "animals"
   ]
  },
  {
   "cell_type": "code",
   "execution_count": 21,
   "id": "400eed97",
   "metadata": {},
   "outputs": [],
   "source": [
    "### Solution\n"
   ]
  },
  {
   "cell_type": "markdown",
   "id": "bc494ed2",
   "metadata": {},
   "source": [
    "### Exercise set 3"
   ]
  },
  {
   "cell_type": "markdown",
   "id": "48db0c31",
   "metadata": {},
   "source": [
    "#### Ex 3.1\n",
    " Read inputs/core_data.csv as a dataframe call it `cr` \n",
    " \n",
    " ** show the head of it"
   ]
  },
  {
   "cell_type": "code",
   "execution_count": 22,
   "id": "e894de29",
   "metadata": {},
   "outputs": [],
   "source": [
    "### Solution\n"
   ]
  },
  {
   "cell_type": "code",
   "execution_count": 23,
   "id": "5dcf8a7a",
   "metadata": {},
   "outputs": [],
   "source": [
    "### Solution\n"
   ]
  },
  {
   "cell_type": "markdown",
   "id": "cfd80c4e",
   "metadata": {},
   "source": [
    "#### Ex 3.2\n",
    " Use the .info() method to find out how many entries there are."
   ]
  },
  {
   "cell_type": "code",
   "execution_count": 24,
   "id": "2cbecbbc",
   "metadata": {},
   "outputs": [],
   "source": [
    "### Solution\n"
   ]
  },
  {
   "cell_type": "markdown",
   "id": "27d6ce7d",
   "metadata": {},
   "source": [
    "#### Ex 3.3\n",
    "What is the average `Depth CSF-A (m)` ?"
   ]
  },
  {
   "cell_type": "code",
   "execution_count": 25,
   "id": "70b1dab0",
   "metadata": {},
   "outputs": [],
   "source": [
    "### Solution\n"
   ]
  },
  {
   "cell_type": "markdown",
   "id": "22dc0234",
   "metadata": {},
   "source": [
    "#### Ex 3.4\n",
    " What is the highest amount of `Reflectance a*` in the dataset?"
   ]
  },
  {
   "cell_type": "code",
   "execution_count": 26,
   "id": "f3f918b8",
   "metadata": {},
   "outputs": [],
   "source": [
    "### Solution\n"
   ]
  },
  {
   "cell_type": "markdown",
   "id": "da344255",
   "metadata": {},
   "source": [
    "#### Ex 3.5\n",
    "What is the amount of `Reflectance L*` for the highest amount of `Reflectance a*`"
   ]
  },
  {
   "cell_type": "code",
   "execution_count": 27,
   "id": "a0f0a5a2",
   "metadata": {},
   "outputs": [],
   "source": [
    "### Solution\n"
   ]
  },
  {
   "cell_type": "code",
   "execution_count": 28,
   "id": "a0db57c9",
   "metadata": {},
   "outputs": [],
   "source": [
    "### Solution\n"
   ]
  },
  {
   "cell_type": "markdown",
   "id": "1b8f8b1a",
   "metadata": {},
   "source": [
    "#### Ex 3.6\n",
    "what is the minimum `NGR total counts (cps)`'s Lithology type?"
   ]
  },
  {
   "cell_type": "code",
   "execution_count": 29,
   "id": "df73eab8",
   "metadata": {},
   "outputs": [],
   "source": [
    "### Solution\n"
   ]
  },
  {
   "cell_type": "code",
   "execution_count": 30,
   "id": "727669fc",
   "metadata": {},
   "outputs": [],
   "source": [
    "### Solution\n"
   ]
  },
  {
   "cell_type": "markdown",
   "id": "7fe220e8",
   "metadata": {},
   "source": [
    "#### Ex 3.7\n",
    "How many `Holes` has the `Lithology` type of `Marls`?"
   ]
  },
  {
   "cell_type": "code",
   "execution_count": 31,
   "id": "ca65861f",
   "metadata": {},
   "outputs": [],
   "source": [
    "### Solution\n"
   ]
  },
  {
   "cell_type": "markdown",
   "id": "73aec1f7",
   "metadata": {},
   "source": [
    "#### Ex 3.8\n",
    "What is the data type of the `Hole` column in the dataset?"
   ]
  },
  {
   "cell_type": "code",
   "execution_count": 32,
   "id": "257d3d73",
   "metadata": {},
   "outputs": [],
   "source": [
    "### Solution\n"
   ]
  },
  {
   "cell_type": "markdown",
   "id": "3cc45408",
   "metadata": {},
   "source": [
    "#### Ex 3.9\n",
    "\n",
    "Create a variable `df` containing the `Depth CSF-A (m)` and `Lithology` columns of the first 100 records\n",
    "\n",
    "Hint: you may use `loc` or `iloc`. When working on the answer this question and the several of the ones that follow, keep the following \"gotcha\" described in the lecture:\n",
    "\n"
   ]
  },
  {
   "cell_type": "code",
   "execution_count": 33,
   "id": "703565ff",
   "metadata": {},
   "outputs": [],
   "source": [
    "### Solution\n"
   ]
  },
  {
   "cell_type": "code",
   "execution_count": 34,
   "id": "d01b1afa",
   "metadata": {},
   "outputs": [],
   "source": [
    "### Solution\n"
   ]
  },
  {
   "cell_type": "markdown",
   "id": "7b8ddbca",
   "metadata": {},
   "source": [
    "#### Ex 3.10\n",
    "What is the number of data in `df` in which `Depth CSF-A (m)` is more than **10** and less than **25**  "
   ]
  },
  {
   "cell_type": "code",
   "execution_count": 35,
   "id": "cc68f655",
   "metadata": {},
   "outputs": [],
   "source": [
    "### Solution\n"
   ]
  },
  {
   "cell_type": "markdown",
   "id": "3cb18c20",
   "metadata": {},
   "source": [
    "#### Ex 3.11\n",
    "Calculate the number of missing, and duplicated values? What is the number of unique values for `df`"
   ]
  },
  {
   "cell_type": "code",
   "execution_count": 36,
   "id": "9471f97b",
   "metadata": {},
   "outputs": [],
   "source": [
    "### Solution\n"
   ]
  },
  {
   "cell_type": "code",
   "execution_count": 37,
   "id": "7a2bb8a1",
   "metadata": {},
   "outputs": [],
   "source": [
    "### Solution\n"
   ]
  },
  {
   "cell_type": "code",
   "execution_count": 38,
   "id": "3fac20e7",
   "metadata": {},
   "outputs": [],
   "source": [
    "### Solution\n"
   ]
  },
  {
   "cell_type": "markdown",
   "id": "f758e3fe",
   "metadata": {},
   "source": [
    "### Exercise set 4\n",
    "We are going to load a new data. Run the below cell\n",
    "\n",
    "** If you have time, apply your solutions for the questions above on the new dataset"
   ]
  },
  {
   "cell_type": "code",
   "execution_count": 39,
   "id": "061d5100",
   "metadata": {},
   "outputs": [],
   "source": [
    "wi = pd.read_csv('inputs/winemag-data-130k-v2.csv')"
   ]
  },
  {
   "cell_type": "markdown",
   "id": "d36f8d4b",
   "metadata": {},
   "source": [
    "#### Ex 4.1\n",
    "There are only so many words you can use when describing a bottle of wine. Is a wine more likely to be \"tropical\" or \"fruity\"? Create a Series descriptor_counts counting how many times each of these two words appears in the description column in the dataset."
   ]
  },
  {
   "cell_type": "code",
   "execution_count": 40,
   "id": "6b070657",
   "metadata": {},
   "outputs": [],
   "source": [
    "### Solution\n"
   ]
  },
  {
   "cell_type": "markdown",
   "id": "0f2f3b63",
   "metadata": {},
   "source": [
    "#### Ex 4.2\n",
    "Who are the most common wine reviewers in the dataset? Create a `Series` whose index is the `taster_twitter_handle` category from the dataset, and whose values count how many reviews each person wrote."
   ]
  },
  {
   "cell_type": "code",
   "execution_count": 41,
   "id": "f6fa1c0e",
   "metadata": {},
   "outputs": [],
   "source": [
    "### Solution\n",
    "\n"
   ]
  },
  {
   "cell_type": "code",
   "execution_count": 42,
   "id": "2b145dbc",
   "metadata": {},
   "outputs": [],
   "source": [
    "### Solution\n"
   ]
  },
  {
   "cell_type": "markdown",
   "id": "ebbdca21",
   "metadata": {},
   "source": [
    "#### Ex 4.3\n",
    "Create a dataframe top_oceania_wines containing all reviews with at least 95 points (out of 100) for wines from Australia or New Zealand."
   ]
  },
  {
   "cell_type": "code",
   "execution_count": 43,
   "id": "bd59c819",
   "metadata": {},
   "outputs": [],
   "source": [
    "### Solution\n",
    "\n",
    "\n"
   ]
  },
  {
   "cell_type": "markdown",
   "id": "d1e3a07f",
   "metadata": {},
   "source": [
    "#### Ex 4.4\n",
    "What are the minimum and maximum prices for each `variety` of wine? Create a `DataFrame` whose index is the `variety` category from the dataset and whose values are the `min` and `max` values thereof."
   ]
  },
  {
   "cell_type": "code",
   "execution_count": 44,
   "id": "ccd3c10b",
   "metadata": {},
   "outputs": [],
   "source": [
    "### Solution\n"
   ]
  },
  {
   "cell_type": "code",
   "execution_count": 45,
   "id": "75ceaf78",
   "metadata": {},
   "outputs": [],
   "source": [
    "### Solution\n"
   ]
  },
  {
   "cell_type": "markdown",
   "id": "476e043b",
   "metadata": {},
   "source": [
    "#### Ex 4.5\n",
    "I'm an economical wine buyer. Which wine is the \"best bargain\"? Create a variable bargain_wine with the title of the wine with the highest points-to-price ratio in the dataset.\n",
    "\n"
   ]
  },
  {
   "cell_type": "code",
   "execution_count": 46,
   "id": "22771174",
   "metadata": {},
   "outputs": [],
   "source": [
    "### Solution\n"
   ]
  }
 ],
 "metadata": {
  "kernelspec": {
   "display_name": "Python 3 (ipykernel)",
   "language": "python",
   "name": "python3"
  },
  "language_info": {
   "codemirror_mode": {
    "name": "ipython",
    "version": 3
   },
   "file_extension": ".py",
   "mimetype": "text/x-python",
   "name": "python",
   "nbconvert_exporter": "python",
   "pygments_lexer": "ipython3",
   "version": "3.9.13"
  }
 },
 "nbformat": 4,
 "nbformat_minor": 5
}
