{
 "cells": [
  {
   "cell_type": "markdown",
   "id": "461a8296-7cf8-4d68-9f61-877f8858dbb2",
   "metadata": {},
   "source": [
    "Solve:\n",
    "\n",
    "\\begin{align*}\n",
    "  x + 2y + z &= 8 \\\\\n",
    "  2x -1y + 3z &= 9 \\\\\n",
    "  3x - y +2z &= 11 \\\\\n",
    "\\end{align*}\n",
    "\n",
    "or\n",
    "\n",
    "$$\n",
    "\\underline{\\bf A}\n",
    "\\begin{pmatrix} x\\\\ y \\\\ z \\end{pmatrix}= \n",
    "\\underline{\\bf b}\n",
    "\\text{ where }\n",
    "\\underline{\\bf A} =\n",
    "\\begin{pmatrix}\n",
    "1 & 2 & 1 \\\\ 2 & -1 & 3 \\\\ 3 & 1 & 2\n",
    "\\end{pmatrix}\n",
    "\\text{ and }\n",
    "\\underline{\\bf b} = \n",
    "\\begin{pmatrix} 8 \\\\ 9 \\\\ 11 \\end{pmatrix}\n",
    "$$\n",
    "\n",
    "through Gaussian Elimination"
   ]
  },
  {
   "cell_type": "code",
   "execution_count": 1,
   "id": "f05ae108-f709-42c2-8770-cea9502ef52a",
   "metadata": {},
   "outputs": [],
   "source": [
    "import numpy as np"
   ]
  },
  {
   "cell_type": "code",
   "execution_count": 9,
   "id": "f8f7221e-4d3e-4050-b830-9dfd9078bf41",
   "metadata": {},
   "outputs": [
    {
     "data": {
      "text/plain": [
       "array([[ 1.,  2.,  1.,  8.],\n",
       "       [ 2., -1.,  3.,  9.],\n",
       "       [ 3.,  1.,  2., 11.]])"
      ]
     },
     "execution_count": 9,
     "metadata": {},
     "output_type": "execute_result"
    }
   ],
   "source": [
    "Ab = np.array([[1., 2., 1., 8.], [2,-1,3,9], [3,1,2,11]])\n",
    "Ab"
   ]
  },
  {
   "cell_type": "code",
   "execution_count": 10,
   "id": "2a629bda-2117-4409-8aff-850e3ce76257",
   "metadata": {},
   "outputs": [
    {
     "data": {
      "text/plain": [
       "array([[ 1.,  2.,  1.,  8.],\n",
       "       [ 0., -5.,  1., -7.],\n",
       "       [ 3.,  1.,  2., 11.]])"
      ]
     },
     "execution_count": 10,
     "metadata": {},
     "output_type": "execute_result"
    }
   ],
   "source": [
    "Ab[1] = Ab[1] - 2*Ab[0]\n",
    "Ab"
   ]
  },
  {
   "cell_type": "code",
   "execution_count": 11,
   "id": "af6e58e6-0315-4f6a-a201-c8bf8f6d1388",
   "metadata": {},
   "outputs": [
    {
     "data": {
      "text/plain": [
       "array([[  1.,   2.,   1.,   8.],\n",
       "       [  0.,  -5.,   1.,  -7.],\n",
       "       [  0.,  -5.,  -1., -13.]])"
      ]
     },
     "execution_count": 11,
     "metadata": {},
     "output_type": "execute_result"
    }
   ],
   "source": [
    "Ab[2] = Ab[2] - 3*Ab[0]\n",
    "Ab"
   ]
  },
  {
   "cell_type": "code",
   "execution_count": 12,
   "id": "fb58dbf9-253e-4dc6-82a7-f3810a493067",
   "metadata": {},
   "outputs": [
    {
     "data": {
      "text/plain": [
       "array([[ 1.,  2.,  1.,  8.],\n",
       "       [ 0., -5.,  1., -7.],\n",
       "       [ 0.,  0., -2., -6.]])"
      ]
     },
     "execution_count": 12,
     "metadata": {},
     "output_type": "execute_result"
    }
   ],
   "source": [
    "Ab[2] = Ab[2] - Ab[1]\n",
    "Ab"
   ]
  },
  {
   "cell_type": "markdown",
   "id": "7cca6ed1-c67f-4b6d-a56c-1b6f584df6ae",
   "metadata": {},
   "source": [
    "Last row:\n",
    "\n",
    "$$-2 z= -6 \\to z=3$$"
   ]
  },
  {
   "cell_type": "markdown",
   "id": "ddd43a81-8e1a-42d3-8ad6-00a7109de2f4",
   "metadata": {},
   "source": [
    "Next row above:\n",
    "\n",
    "$$\n",
    "  -5y + z=-7 \\to -5y+3=-7 \\to -5y=-10 \\to y=2\n",
    "$$"
   ]
  },
  {
   "cell_type": "markdown",
   "id": "fa4f1bb0-27c4-479c-998e-225b23779fd6",
   "metadata": {},
   "source": [
    "First row:\n",
    "$$\n",
    "x+2y+z=8 \\to x + 4+ 3 =8 \\to x=1\n",
    "$$"
   ]
  },
  {
   "cell_type": "code",
   "execution_count": 13,
   "id": "fac6d4b0-5365-48e6-b9cc-ecd5623be95a",
   "metadata": {},
   "outputs": [
    {
     "name": "stdout",
     "output_type": "stream",
     "text": [
      "A x =  [ 8.  9. 11.]\n",
      "b =  [ 8.  9. 11.]\n"
     ]
    }
   ],
   "source": [
    "Ab = np.array([[1., 2., 1., 8.], [2,-1,3,9], [3,1,2,11]])\n",
    "A = Ab[:,:3]\n",
    "b = Ab[:,3]\n",
    "xyz = [1, 2, 3]\n",
    "print(\"A x = \", A@xyz)\n",
    "print(\"b = \", b)"
   ]
  },
  {
   "cell_type": "code",
   "execution_count": null,
   "id": "feda3d90-d5ce-4c18-8e5d-591ac4547e82",
   "metadata": {},
   "outputs": [],
   "source": []
  }
 ],
 "metadata": {
  "kernelspec": {
   "display_name": "Python 3 (ipykernel)",
   "language": "python",
   "name": "python3"
  },
  "language_info": {
   "codemirror_mode": {
    "name": "ipython",
    "version": 3
   },
   "file_extension": ".py",
   "mimetype": "text/x-python",
   "name": "python",
   "nbconvert_exporter": "python",
   "pygments_lexer": "ipython3",
   "version": "3.11.7"
  }
 },
 "nbformat": 4,
 "nbformat_minor": 5
}
