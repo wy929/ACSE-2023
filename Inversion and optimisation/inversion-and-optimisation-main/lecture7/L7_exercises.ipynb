{
 "cells": [
  {
   "cell_type": "markdown",
   "metadata": {},
   "source": [
    "# Lecture 7 exercises"
   ]
  },
  {
   "cell_type": "markdown",
   "metadata": {},
   "source": [
    "## Excersie 1: Comparison against exact solution 1\n",
    "\n",
    "An exact traveling wave solution to the 1-dimensional wave-equation,\n",
    "$$\\frac{1}{c^2}\\frac{\\partial^2 u}{\\partial t^2}-\\frac{\\partial^2 u}{\\partial x^2}=0,$$\n",
    "on the interval $x\\in[0,1]$ with $c=1$ is given by:\n",
    "$$u(x,t)=\\left[\\mathrm{max}(0,4\\zeta(1-\\zeta))\\right]^{12},$$\n",
    "where\n",
    "$$\\zeta=4(x-ct)-1,$$\n",
    "subject to the boundary conditions $u(0,t)=u(1,t)=0$. Compose a Devito operator to solve this problem and check that the numerical solution returns to (approximately) the initial condition at $t=2$."
   ]
  },
  {
   "cell_type": "code",
   "execution_count": 1,
   "metadata": {},
   "outputs": [],
   "source": [
    "# Some hints:\n",
    "\n",
    "# Additional required imports\n",
    "import numpy as np\n",
    "from devito import Grid, Function, TimeFunction, solve\n",
    "\n",
    "# Python functions to compute the initial condition:\n",
    "def compute_zeta(x,t):\n",
    "    return 4.0*(x-t)-1.0\n",
    "\n",
    "def compute_u(x,t):\n",
    "    u1 = 4.0*compute_zeta(x,t)*(1.0-compute_zeta(x,t))\n",
    "    u2 = np.zeros(u1.shape)\n",
    "    return (np.maximum(u1,u2))**(12)\n",
    "\n",
    "# define spatial mesh\n",
    "# Size of rectangular domain\n",
    "Lx = 1\n",
    "\n",
    "# Number of grid points in each direction, including boundary nodes\n",
    "Nx = 201\n",
    "\n",
    "# hence the mesh spacing\n",
    "dx = Lx/(Nx-1)\n",
    "\n",
    "x = np.linspace(0,Lx,Nx)\n",
    "\n",
    "grid = Grid(shape=(Nx), extent=(Lx))\n",
    "\n",
    "# Initial condition\n",
    "u_0 = Function(name='u_0', grid=grid)\n",
    "u_0.data[:] = compute_u(x,0)\n",
    "\n",
    "# We'll need one of these for composing the boundary conditions:\n",
    "t = grid.stepping_dim\n",
    "time = grid.time_dim"
   ]
  },
  {
   "cell_type": "code",
   "execution_count": 2,
   "metadata": {},
   "outputs": [
    {
     "data": {
      "image/png": "[encoded data removed]",
      "text/plain": [
       "<Figure size 432x288 with 1 Axes>"
      ]
     },
     "metadata": {
      "needs_background": "light"
     },
     "output_type": "display_data"
    }
   ],
   "source": [
    "# Plot the initial condition\n",
    "\n",
    "%matplotlib inline\n",
    "import matplotlib.pyplot as plt\n",
    "\n",
    "plt.plot(x, u_0.data[:])\n",
    "plt.xlabel('x')\n",
    "plt.ylabel('u(x,0)')\n",
    "plt.show()"
   ]
  },
  {
   "cell_type": "markdown",
   "metadata": {},
   "source": [
    "#### **Hint** regarding boundary conditions:\n",
    "\n",
    "Dirichlet boundary conditions can be set via a list of equation as, e.g., `bc=[Eq(u[t+1, 0], 0)]` and then included in an operator via `op=Operator([main_list_of_equations]+bc)`. See the linear convection example from the first notebook of lecture 10."
   ]
  },
  {
   "cell_type": "markdown",
   "metadata": {},
   "source": [
    "## Excersie 2: Comparison against exact solution 2\n",
    "\n",
    "Consider the following boundary value problem for the 1D wave equation:\n",
    "\n",
    "\\begin{align}\n",
    "  \\frac{1}{c^2}\\frac{\\partial^2 u}{\\partial t^2}(x,t)-\\frac{\\partial^2 u}{\\partial x^2}(x,t)&=0, \\\\\n",
    "  u(0,t)=u(10,t)&= 0, \\\\\n",
    "  \\frac{\\partial u}{\\partial t}(x,0)&=0, \\\\\n",
    "  u(x,0)&=\n",
    "    \\begin{cases}\n",
    "      0, & 0 \\leq x < 4,\\\\\n",
    "      1, & 4 \\leq x \\leq 6,\\\\\n",
    "      0, & 6 < x \\leq 10.\n",
    "    \\end{cases}\n",
    "\\end{align}\n",
    "\n",
    "The initial state is illustrated in the figure below:"
   ]
  },
  {
   "cell_type": "markdown",
   "metadata": {},
   "source": [
    "<img src=\"figures/exact_solution.png\" width=\"450\" height=\"450\" align=\"center\"/>"
   ]
  },
  {
   "cell_type": "markdown",
   "metadata": {},
   "source": [
    "- **Show that the exact solution to this problem is:**\n",
    "\\begin{equation}\n",
    " u(x,t)=\\sum_{n=1}^{\\infty}A_{n}\\sin\\left(\\frac{n\\pi x}{10}\\right)\\cos\\left(\\frac{n\\pi ct}{10}\\right),\n",
    "\\end{equation}\n",
    "where\n",
    "\\begin{equation}\n",
    "  A_n=\\frac{2}{n\\pi}\\left[\\cos\\left(\\frac{4n\\pi}{10}\\right)-\\cos\\left(\\frac{6n\\pi}{10}\\right)\\right].\n",
    "\\end{equation}"
   ]
  },
  {
   "cell_type": "markdown",
   "metadata": {},
   "source": [
    "Below is a snippet of code to plot the exact result at any point in time. You can use it to explore the evolution of the wave. Does it produce the expected behavior?"
   ]
  },
  {
   "cell_type": "code",
   "execution_count": 3,
   "metadata": {},
   "outputs": [],
   "source": [
    "from numpy import sin, cos, pi, linspace, shape, zeros, mod\n",
    "\n",
    "import matplotlib.pyplot as plt\n",
    "\n",
    "# Global constants\n",
    "L = 10. # Define length of domain as a global variable\n",
    "N = 2000 # Number of terms in the Fourier sine series\n",
    "l = 1001 # Define number of points in domain\n",
    "c = 1.0 # Speed of sound\n",
    "\n",
    "x = linspace(0, L, l) # x axis for calling u(x, t) at given t\n",
    "\n",
    "# Calculate exact solution\n",
    "\n",
    "def u_e(x, t):\n",
    "    s = zeros(x.size)\n",
    "    for i in range(1,N+1):\n",
    "        s+=A_n(i)*sin(i*pi*x/L)*cos(i*pi*c*t/L)\n",
    "    return s\n",
    "\n",
    "def A_n(n):\n",
    "    const = 2/n/pi*(cos(4*n*pi/L)-cos(6*n*pi/L))\n",
    "    return const"
   ]
  },
  {
   "cell_type": "code",
   "execution_count": 4,
   "metadata": {},
   "outputs": [
    {
     "data": {
      "image/png": "[encoded data removed]",
      "text/plain": [
       "<Figure size 432x288 with 1 Axes>"
      ]
     },
     "metadata": {
      "needs_background": "light"
     },
     "output_type": "display_data"
    }
   ],
   "source": [
    "%matplotlib inline\n",
    "# Plot solution at a point T in time\n",
    "T = 0\n",
    "plt.plot(x, u_e(x, T))\n",
    "plt.xlabel('x')\n",
    "plt.ylabel('u(x,0)')\n",
    "plt.show()"
   ]
  },
  {
   "cell_type": "markdown",
   "metadata": {},
   "source": [
    "- **Can you write a finite difference code to solve the above problem?**\n",
    "- **Can you now also solve the same problem using Devito?**\n",
    "- **How similar is your solution to the exact solution? How do you think this result can be improved?**"
   ]
  },
  {
   "cell_type": "markdown",
   "metadata": {},
   "source": [
    "## Exercise 3: Design your own subdomains!\n",
    "\n",
    "Design and build on `Operator` on a set of subdomains of your choice! Or how about trying to reproduce the following result?\n",
    "```\n",
    "f.data = Data([[0., 0., 0., 0., 0., 0., 0., 0., 0., 0.],\n",
    "               [0., 1., 1., 1., 1., 3., 3., 3., 3., 0.],\n",
    "               [0., 1., 1., 1., 1., 3., 3., 3., 3., 0.],\n",
    "               [0., 1., 1., 1., 1., 3., 3., 3., 3., 0.],\n",
    "               [0., 1., 1., 1., 1., 3., 3., 3., 3., 0.],\n",
    "               [0., 2., 2., 2., 2., 4., 4., 4., 4., 0.],\n",
    "               [0., 2., 2., 2., 2., 4., 4., 4., 4., 0.],\n",
    "               [0., 2., 2., 2., 2., 4., 4., 4., 4., 0.],\n",
    "               [0., 2., 2., 2., 2., 4., 4., 4., 4., 0.],\n",
    "               [0., 0., 0., 0., 0., 0., 0., 0., 3., 0.]], dtype=float32)\n",
    "```"
   ]
  }
 ],
 "metadata": {
  "kernelspec": {
   "display_name": "Python 3 (ipykernel)",
   "language": "python",
   "name": "python3"
  },
  "language_info": {
   "codemirror_mode": {
    "name": "ipython",
    "version": 3
   },
   "file_extension": ".py",
   "mimetype": "text/x-python",
   "name": "python",
   "nbconvert_exporter": "python",
   "pygments_lexer": "ipython3",
   "version": "3.11.5"
  }
 },
 "nbformat": 4,
 "nbformat_minor": 2
}
