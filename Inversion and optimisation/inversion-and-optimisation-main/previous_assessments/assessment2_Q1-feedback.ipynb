{
 "cells": [
  {
   "cell_type": "markdown",
   "id": "97342bd0",
   "metadata": {},
   "source": [
    "# Question 1 <a class=\"tocSkip\"></a>\n",
    "\n",
    "Ahmed, Brian, Cheng, Dave, and Evelyn went to eat at an Italian restaurant:\n",
    "\n",
    "* Ahmed ordered the lasagna, a salad, a coke, and a fanta for £30.90\n",
    "\n",
    "* Brian ordered the lasagna and a salad for £26.50\n",
    "\n",
    "* Cheng ordered the lasagna and a coke for £20.20\n",
    "\n",
    "* Dave ordered a salad, and a fanta for £10.70\n",
    "\n",
    "* Evelyn ordered the lasagna, two salads and a fanta for £37.20\n",
    "\n",
    "To work out the prices for each individual item we formulate the following linear system of equations\n",
    "\n",
    "$$\n",
    "\\begin{pmatrix}\n",
    "1 & 1 & 1 & 1 \\\\\n",
    "1 & 1 & 0 & 0 \\\\\n",
    "1 & 0 & 1 & 0 \\\\\n",
    "0 & 1 & 0 & 1 \\\\\n",
    "1 & 2 & 0 & 1\n",
    "\\end{pmatrix}\n",
    "\\begin{pmatrix}\n",
    "    x_1 \\\\ x_2 \\\\ x_3 \\\\ x_4\n",
    "\\end{pmatrix}\n",
    "=\n",
    "\\begin{pmatrix}\n",
    "    30.9 \\\\ 26.5 \\\\ 20.2 \\\\ 10.7 \\\\ 37.2\n",
    "\\end{pmatrix},\n",
    "$$\n",
    "\n",
    "where $x_1, x_2, x_3,$ and $x_4$ are the prices for the lasagna, the salad, a coke and a fanta respectively."
   ]
  },
  {
   "cell_type": "markdown",
   "id": "75ae15ea",
   "metadata": {},
   "source": [
    "**1.1** Using Gaussian Elimination, work out the Reduced Row Echelon Form of the matrix on the left-hand side of the system of equations, and determine its null space and rank.\n",
    "Which of the following terms apply to this system:\n",
    "* equi-determined\n",
    "* over-determined\n",
    "* under-determined\n",
    "* mixed-determined\n",
    "* full-rank\n",
    "* singular\n",
    "* rank-deficient\n",
    "\n",
    "Name all terms (may be more than one) that apply."
   ]
  },
  {
   "cell_type": "markdown",
   "id": "06e84bf8",
   "metadata": {},
   "source": [
    "## Answer <a class=\"tocSkip\"></a>\n",
    "The Reduced Row Echelon Form (RREF) is worked out in the code below:"
   ]
  },
  {
   "cell_type": "code",
   "execution_count": 3,
   "id": "788f05bc",
   "metadata": {},
   "outputs": [],
   "source": [
    "import numpy as np\n",
    "from pprint import pprint"
   ]
  },
  {
   "cell_type": "code",
   "execution_count": 4,
   "id": "c03a62ba",
   "metadata": {},
   "outputs": [],
   "source": [
    "A = np.array([\n",
    "    [1, 1, 1, 1],\n",
    "    [1, 1, 0, 0],\n",
    "    [1, 0, 1, 0],\n",
    "    [0, 1, 0, 1],\n",
    "    [1, 2, 0, 1]])"
   ]
  },
  {
   "cell_type": "code",
   "execution_count": 5,
   "id": "3d51fe49",
   "metadata": {},
   "outputs": [
    {
     "name": "stdout",
     "output_type": "stream",
     "text": [
      "array([[ 1,  1,  1,  1],\n",
      "       [ 0,  0, -1, -1],\n",
      "       [ 0, -1,  0, -1],\n",
      "       [ 0,  1,  0,  1],\n",
      "       [ 0,  1, -1,  0]])\n"
     ]
    }
   ],
   "source": [
    "A0=A.copy() # copy of original\n",
    "# eliminate nonzero entries below pivot in column 0\n",
    "A[1] = A[1] - A[0]\n",
    "A[2] = A[2] - A[0]\n",
    "A[4] = A[4] - A[0]\n",
    "pprint(A)"
   ]
  },
  {
   "cell_type": "code",
   "execution_count": 6,
   "id": "0d8bd452",
   "metadata": {},
   "outputs": [
    {
     "name": "stdout",
     "output_type": "stream",
     "text": [
      "array([[ 1,  1,  1,  1],\n",
      "       [ 0,  1,  0,  1],\n",
      "       [ 0, -1,  0, -1],\n",
      "       [ 0,  0, -1, -1],\n",
      "       [ 0,  1, -1,  0]])\n"
     ]
    }
   ],
   "source": [
    "# swap rows 1 and 3\n",
    "v = A[1].copy()\n",
    "A[1] = A[3].copy()\n",
    "A[3] = v\n",
    "pprint(A)"
   ]
  },
  {
   "cell_type": "code",
   "execution_count": 7,
   "id": "1e1dbbce",
   "metadata": {},
   "outputs": [
    {
     "name": "stdout",
     "output_type": "stream",
     "text": [
      "array([[ 1,  1,  1,  1],\n",
      "       [ 0,  1,  0,  1],\n",
      "       [ 0,  0,  0,  0],\n",
      "       [ 0,  0, -1, -1],\n",
      "       [ 0,  0, -1, -1]])\n"
     ]
    }
   ],
   "source": [
    "# eliminate nonzero entries below pivot in column 1\n",
    "A[2] += A[1]\n",
    "A[4] -= A[1]\n",
    "pprint(A)"
   ]
  },
  {
   "cell_type": "code",
   "execution_count": 8,
   "id": "6db57291",
   "metadata": {},
   "outputs": [
    {
     "name": "stdout",
     "output_type": "stream",
     "text": [
      "array([[ 1,  1,  1,  1],\n",
      "       [ 0,  1,  0,  1],\n",
      "       [ 0,  0, -1, -1],\n",
      "       [ 0,  0,  0,  0],\n",
      "       [ 0,  0, -1, -1]])\n"
     ]
    }
   ],
   "source": [
    "# swap rows 2 and 3\n",
    "v = A[2].copy()\n",
    "A[2] = A[3].copy()\n",
    "A[3] = v\n",
    "pprint(A)"
   ]
  },
  {
   "cell_type": "code",
   "execution_count": 9,
   "id": "7d910cc1",
   "metadata": {},
   "outputs": [
    {
     "name": "stdout",
     "output_type": "stream",
     "text": [
      "array([[ 1,  1,  1,  1],\n",
      "       [ 0,  1,  0,  1],\n",
      "       [ 0,  0, -1, -1],\n",
      "       [ 0,  0,  0,  0],\n",
      "       [ 0,  0,  0,  0]])\n"
     ]
    }
   ],
   "source": [
    "# eliminate nonzero entries below pivot in column 2\n",
    "A[4] = A[4] - A[2]\n",
    "pprint(A)"
   ]
  },
  {
   "cell_type": "code",
   "execution_count": 10,
   "id": "607206f5",
   "metadata": {},
   "outputs": [
    {
     "name": "stdout",
     "output_type": "stream",
     "text": [
      "array([[ 1,  0,  1,  0],\n",
      "       [ 0,  1,  0,  1],\n",
      "       [ 0,  0, -1, -1],\n",
      "       [ 0,  0,  0,  0],\n",
      "       [ 0,  0,  0,  0]])\n"
     ]
    }
   ],
   "source": [
    "# we are now in REF, and continue to eliminate entries above the diagonal\n",
    "# to achieve RREF - first column1\n",
    "A[0] = A[0] - A[1]\n",
    "pprint(A)"
   ]
  },
  {
   "cell_type": "code",
   "execution_count": 11,
   "id": "b9aff227",
   "metadata": {},
   "outputs": [
    {
     "name": "stdout",
     "output_type": "stream",
     "text": [
      "array([[ 1,  0,  0, -1],\n",
      "       [ 0,  1,  0,  1],\n",
      "       [ 0,  0, -1, -1],\n",
      "       [ 0,  0,  0,  0],\n",
      "       [ 0,  0,  0,  0]])\n"
     ]
    }
   ],
   "source": [
    "# same for column 2\n",
    "A[0] = A[0] + A[2]\n",
    "pprint(A)"
   ]
  },
  {
   "cell_type": "code",
   "execution_count": 12,
   "id": "7f5d822b",
   "metadata": {},
   "outputs": [
    {
     "name": "stdout",
     "output_type": "stream",
     "text": [
      "array([[ 1,  0,  0, -1],\n",
      "       [ 0,  1,  0,  1],\n",
      "       [ 0,  0,  1,  1],\n",
      "       [ 0,  0,  0,  0],\n",
      "       [ 0,  0,  0,  0]])\n"
     ]
    }
   ],
   "source": [
    "# we can't elimate the nonzero entries column 3\n",
    "# all we've left to do is to ensure the leading pivot in row 2 is 1 as well\n",
    "# which we achieve by multiplying it by -1\n",
    "A[2] *= -1\n",
    "pprint(A)"
   ]
  },
  {
   "cell_type": "markdown",
   "id": "7aa3ff18",
   "metadata": {},
   "source": [
    "The rank of the matrix can be read off immediately from the RREF, which clearly has 3 independent rows, and thus the number of independent rows and the rank of the original matrix is also 3. Using the rank-nullity theorem we then also know that the dimension of the nullspace must be: #columns - 3 = 1.\n",
    "\n",
    "Note that I asked for the nullspace itself, and not just its dimension. Since it is a one-dimensional space, we just need to find one null vector $\\bf n$, and the nullspace will be formed by any scalar multiples of it. This vector is quite easily found from the RREF (which has the same null vectors):\n",
    "\n",
    "$$\n",
    "\\begin{pmatrix}\n",
    "  1 & 0 & 0 & -1 \\\\\n",
    "  0 & 1 & 0 & 1 \\\\\n",
    "  0 & 0 & 1 & 1 \\\\\n",
    "  0 & 0 & 0 & 0 \\\\\n",
    "  0 & 0 & 0 & 0\n",
    "\\end{pmatrix}\n",
    "\\begin{pmatrix}\n",
    "  n_0 \\\\ n_1 \\\\ n_2 \\\\n_3\n",
    "\\end{pmatrix}\n",
    " =\n",
    "\\begin{pmatrix}\n",
    "  0 \\\\ 0 \\\\ 0 \\\\ 0 \\\\ 0\n",
    "\\end{pmatrix}\n",
    "$$ \n",
    "\n",
    "You could for instance start by setting its first coefficient $n_0=1$ (the first coefficient is either zero, which leads to all other coefficients being zero to satisfy the first three equations, or nonzero but since we can multiply any nullvector by an arbitrary scalar, we might as well choose its first coefficient to be 1). The other coefficients then immediately follow from satisfying the first three row equations. And thus we get a nullspace\n",
    "\n",
    "$$\n",
    "  N({\\rm\\underline A}) = \\text{span}\\big(\n",
    "  \\begin{pmatrix}\n",
    "     1 \\\\ -1 \\\\ -1 \\\\ 1\n",
    "  \\end{pmatrix}\\big)\n",
    "$$"
   ]
  },
  {
   "cell_type": "markdown",
   "id": "56c8ee77",
   "metadata": {},
   "source": [
    "Based on the definitions in the lecture notes, the matrix system is:\n",
    "\n",
    "* over-determined\n",
    "* mixed determined\n",
    "* rank deficient\n",
    "\n",
    "Note that by these definitions the system is *not* under-determined. The definition of under vs over determined here is purely based on the number of equations (rows) vs. the number of unknowns (columns), whether these equations are independent or not. Of course, in this case we know that we only have three independent equations - so you could think of it being equivalent to an under-determined system that has only three equations. The reason however we stick to a definition that still strictly calls the original system over-determined, is that we are reliant on the right-hand side being exactly consistent, which in practice, in large systems we never achieve (due to round off or measurement error), which makes it different from the under-determined case. The system is however rank deficient (rank smaller than the number of columns or rows), or equivalently, mixed determined."
   ]
  },
  {
   "cell_type": "markdown",
   "id": "d5ddf44c",
   "metadata": {},
   "source": [
    "**1.2** Use the generalized inverse to give a solution for this system (you may use scipy here). Is it unique? Why is this solution not realistic?"
   ]
  },
  {
   "cell_type": "markdown",
   "id": "8a1b4846",
   "metadata": {},
   "source": [
    "## Answer <a class=\"tocSkip\"></a>\n",
    "\n",
    "The solution from the generalized inverse is given in the code below. It is not a unique solution to the system of equations as we know that the system has a non-trivial nullspace. The solution we get is not realistic as one of the prices comes out negative."
   ]
  },
  {
   "cell_type": "code",
   "execution_count": 14,
   "id": "d92ecbba",
   "metadata": {},
   "outputs": [
    {
     "data": {
      "text/plain": [
       "array([15.625, 10.875,  4.575, -0.175])"
      ]
     },
     "execution_count": 14,
     "metadata": {},
     "output_type": "execute_result"
    }
   ],
   "source": [
    "import scipy.linalg as sl\n",
    "A = A0  # get back original matrix\n",
    "b = [30.9, 26.5, 20.2, 10.7, 37.2]\n",
    "sl.pinv(A) @ b"
   ]
  },
  {
   "cell_type": "markdown",
   "id": "340c3011",
   "metadata": {},
   "source": [
    "**1.3** Suppose we know that half a year ago the prices were £17.5, £8.0, £2.0, £2.0 for the lasagna, the salad, the coke and the fanta respectively. Reformulate the system of equations so that we can find the solution that is closest to these previous prices."
   ]
  },
  {
   "cell_type": "markdown",
   "id": "72f76d2c",
   "metadata": {},
   "source": [
    "## Answer <a class=\"tocSkip\"></a>\n",
    "\n",
    "There are a number of approaches possible here:\n",
    "\n",
    "### Use the generalized inverse on a reformulated system <a class=\"tocSkip\"></a>\n",
    "We know that when there are multiple solutions, the generalized inverse gives us the solution with the shortest length of the solution vector. If we want the solution that is closest to some desired vector $\\hat{\\bf x}$ (based on some a priori knowledge), we can use this fact by solving for the _difference_ with that desired vector:\n",
    "\n",
    "$$\n",
    "  \\delta {\\bf x} = {\\bf x} - \\hat{\\bf x}\n",
    "$$\n",
    "\n",
    "We have\n",
    "\n",
    "$$\n",
    "  {\\rm\\underline A} \\delta {\\bf x} = {\\rm\\underline A} {\\bf x} - {\\rm\\underline A} {\\bf\\hat x}\n",
    "  ={\\bf b} - {\\rm\\underline A} {\\bf\\hat x} \\tag{*}\n",
    "$$\n",
    "\n",
    "where we can directly calculate the right-hand side of the last equation. Thus we have a new linear system based on the same matrix, but with a different right-hand side, which we can solve for $\\delta{\\bf x}$. As it is based on the same matrix, with the same nullspace, the solutions are again not unique, but this time if we apply the generalized inverse we get the solution with minimal norm of $\\delta{\\bf x}$, and thus the solution $\\bf x$ that is closest to $\\hat{\\bf x}$, the prices from half a year ago. In code:"
   ]
  },
  {
   "cell_type": "code",
   "execution_count": 15,
   "id": "f15b4376",
   "metadata": {},
   "outputs": [
    {
     "name": "stdout",
     "output_type": "stream",
     "text": [
      "array([18. ,  8.5,  2.2,  2.2])\n"
     ]
    }
   ],
   "source": [
    "xhat = [17.5, 8.0, 2.0, 2.0]\n",
    "# solve A deltax = A (x - xhat) = b - A@x0\n",
    "deltax = sl.pinv(A) @ (b - A@xhat)\n",
    "x = xhat + deltax\n",
    "pprint(x)"
   ]
  },
  {
   "cell_type": "markdown",
   "id": "44668542",
   "metadata": {},
   "source": [
    "Equally valid approaches are:\n",
    "\n",
    "### Use the nullspace <a class=\"tocSkip\"/>\n",
    "We can use the nullspace vector $\\bf n$ we obtained in question 1.1. Any multiple (say with a scalar $\\alpha$) can be added to the solution we obtained in question 1.2. By computing the norm of the difference between this ${\\bf x} + \\alpha {\\bf n}$ and the previous prices $\\hat{\\bf x}$, we get a quadratic expression in $\\alpha$ which we can minimize.\n",
    "\n",
    "### Solve a constrained optimisation problem <a class=\"tocSkip\"/>\n",
    "The solution needs to satisfy ${\\rm\\underline A}{\\bf x} = {\\bf b}$ but we simultaneously want to minimize $\\|{\\bf\\hat x}-{\\bf x}\\|^2$. This can be seen as a constrained minimisation problem for which we can use the Lagrangian\n",
    "\n",
    "$$\n",
    "  L({\\bf x}, {\\boldsymbol\\lambda}) = \\|{\\bf\\hat x}-{\\bf x}\\|^2 + \\boldsymbol\\lambda^T \\left({\\rm\\underline A}{\\bf x} - {\\bf b}\\right)\n",
    "$$\n",
    "\n",
    "Note that to satisfy the original equations ${\\rm\\underline A}{\\bf x} = {\\bf b}$ you need five Lagrange multipliers (i.e. $\\boldsymbol\\lambda$ is a length 5 vector) for the 5 equations (constraints). However if you work out the equations to find the stationary point of the Lagrangian, you will notice that you end up again with a singular system. What does work is if instead of the constraint ${\\rm\\underline A}{\\bf x} = {\\bf b}$ you simply use the three equations of the RREF form of the equations. This does require however that you have also worked out the corresponding operations on the right-hand side vector (which wasn't asked for in question 1.1). If you then solve the constraint optimisation problem, you are doing in fact get the same as if you would apply the least squares solution approach on the RREF form of the \"reformulated\" system in equation (\\*) above.\n",
    "\n",
    "You could also use a constrained optimisation solver to obtain the solution like SLSQP.\n",
    "\n",
    "### Using damped least squares <a class=\"tocSkip\"></a>\n",
    "This is minimizing\n",
    "\n",
    "$$\n",
    "f = \\|{\\rm\\underline A}{\\bf x} - {\\bf b}\\|_2^2 + \\mu \\|{\\bf x}-{\\bf\\hat x}\\|_2^2\n",
    "$$\n",
    "\n",
    "where you need to try a few values of $\\mu$ to obtain a $\\mu$ that is small enough that ${\\rm\\underline A}{\\bf x} - {\\bf b}$ is still relatively accurately solved."
   ]
  },
  {
   "cell_type": "markdown",
   "id": "493a8d30",
   "metadata": {},
   "source": [
    "A number of people tried an approach where they simply added ${\\bf x} = {\\bf\\hat x}$ or ${\\rm\\underline I}{\\bf x} = {\\bf\\hat x}$ as four additional equations to the five equations of the system ${\\rm\\underline A}{\\bf x}={\\bf b}$. This results in an over-determined that has no solution, but is not rank deficient. Although it is true that least-squares would give the solution that most closely satisfies these nine equations, that does *not* give you what I asked for. The least squares solution for these nine equations in fact minimizes $\\|{\\rm\\underline A}{\\bf x} - {\\bf b}\\|_2^2 + \\|{\\bf x}-{\\bf\\hat x}\\|_2^2$, as that is the residual of these nine equations, but what we want is for a solution that exactly satisfies ${\\rm\\underline A}{\\bf x}={\\bf b}$, in other words $\\|{\\rm\\underline A}{\\bf x} - {\\bf b}\\|_2^2=0$, *and* minimizes $\\|{\\bf x}-{\\bf\\hat x}\\|_2^2$."
   ]
  }
 ],
 "metadata": {
  "kernelspec": {
   "display_name": "Python 3 (ipykernel)",
   "language": "python",
   "name": "python3"
  },
  "language_info": {
   "codemirror_mode": {
    "name": "ipython",
    "version": 3
   },
   "file_extension": ".py",
   "mimetype": "text/x-python",
   "name": "python",
   "nbconvert_exporter": "python",
   "pygments_lexer": "ipython3",
   "version": "3.11.2"
  },
  "toc": {
   "base_numbering": 1,
   "nav_menu": {},
   "number_sections": true,
   "sideBar": true,
   "skip_h1_title": false,
   "title_cell": "Table of Contents",
   "title_sidebar": "Contents",
   "toc_cell": false,
   "toc_position": {},
   "toc_section_display": true,
   "toc_window_display": false
  }
 },
 "nbformat": 4,
 "nbformat_minor": 5
}
