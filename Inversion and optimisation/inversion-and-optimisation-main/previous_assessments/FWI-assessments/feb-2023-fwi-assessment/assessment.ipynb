{
 "cells": [
  {
   "cell_type": "markdown",
   "id": "fb464a78",
   "metadata": {},
   "source": [
    "# Inversion and Optimisation - Assessment 1 specification "
   ]
  },
  {
   "cell_type": "markdown",
   "id": "13662c36",
   "metadata": {},
   "source": [
    "In this assessment you are provided with a 'nearly' function FWI framework for imaging a synthetic known as the Marmousi model (details in the `solution_part1.ipynb` notebook). The aim of the assessment will be to first get this framework functioning, and then to explore various aspects of FWI. The assessment is split into 3 parts. Solutions to each part should be placed in each of the three notebooks provided: `solution_part1.ipynb`, `solution_part1.ipynb`, `solution_part1.ipynb`."
   ]
  },
  {
   "cell_type": "markdown",
   "id": "9b52bece",
   "metadata": {},
   "source": [
    "## Part 1 [35 marks]\n",
    "\n",
    "`solution_part1.ipynb` contains a nearly functioning FWI algorithm. It is very similar to the algorithm you saw in Lecture 8. However, the algorithm currently does not have a value of $\\alpha$ (`alpha`) set. For this part of the assessment do the following (**Note that written parts of the solutions should be provided in the appropriately labeled cells at the foot of the notebook)\n",
    "\n",
    "(a) In the original notebook, below cell 4 are shot records of the true model, the initial smoothed model and their difference. By considering the true and initial smoothed model, discuss the images you observe in these shot records and their differences. A paragraph (i.e. a few sentences) explaining this will suffice.\n",
    "\n",
    "(b) Next, find a value of `alpha` for which the FWI algorithm converges (review the FWI notebook from lecture 8 if you need inspiration to start your search). Detail the range of values (or the forms) of `alpha` for which you see reasonable convergence. Discuss how sensitive the algorithm is to the value of `alpha` (a couple of sentences will suffice).\n",
    "\n",
    "(c) In lecture 5 (week 1) when discussing gradient based optimisation methods, you were introduced to line search algorithms. In lecture 5 you were provided with a 'simple line search' algorithm. Implement a simple line search algorithm to set more optimal values of `alpha` for our FWI scheme. In a few sentences, in the appropriately labeled cell at the foot of the notebook, describe your algorithm."
   ]
  },
  {
   "cell_type": "markdown",
   "id": "6617d0b1",
   "metadata": {},
   "source": [
    "## Part 2 [35 marks]\n",
    "\n",
    "To begin part 2, port you final (working) FWI workflow from part 1 into the notebook labeled `solution_part2.ipynb`. In this part, we will then play around with the acquisition geometry (source and receiver numbers and locations) and discuss the results.\n",
    "\n",
    "Construct a few different acquisition geometries by varying the source and receiver locations and their numbers (note that you shouldn't increase the numbers of sources and receivers too much!), compare the results to those of part 1 and write a short explanation regarding why each configuration results in a better or worse image.\n",
    "\n",
    "(In this section, feel free to increase the number of FWI iterations a little if you feel this aids your descriptions, but note that this is not strictly necessary)."
   ]
  },
  {
   "cell_type": "markdown",
   "id": "8f17735c",
   "metadata": {},
   "source": [
    "## Part 3 [30 marks]\n",
    "\n",
    "Finally, in part 3, we will explore the affect of the absorbing boundary (sponge) layer. This should be explored using a single acquisition geometry. First, import your favorite FWI setup from either parts 1 or 2 into the notebook `solution_part3.ipynb`.\n",
    "\n",
    "(a) Vary (increase and decrease) the width of the absorbing boundary layer and describe how it affects your wavefield at large times (the end time of the simulation or a little after will suffice). This explanation should contain a quantitative element.\n",
    "\n",
    "(b) Explain how the width of the boundary layer affects the quality of your final FWI image. Explain how this may relates to your findings from part (a).\n",
    "\n",
    "**Note that, depending on your acquisition geometry, you may wish/need to increase your FWI iterations a little in (b).**"
   ]
  }
 ],
 "metadata": {
  "kernelspec": {
   "display_name": "Python 3 (ipykernel)",
   "language": "python",
   "name": "python3"
  },
  "language_info": {
   "codemirror_mode": {
    "name": "ipython",
    "version": 3
   },
   "file_extension": ".py",
   "mimetype": "text/x-python",
   "name": "python",
   "nbconvert_exporter": "python",
   "pygments_lexer": "ipython3",
   "version": "3.10.9"
  }
 },
 "nbformat": 4,
 "nbformat_minor": 5
}
