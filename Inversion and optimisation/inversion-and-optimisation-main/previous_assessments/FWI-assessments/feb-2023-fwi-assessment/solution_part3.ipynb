{
 "cells": [
  {
   "cell_type": "markdown",
   "id": "01cc1d26",
   "metadata": {},
   "source": [
    "# Part 3 solution"
   ]
  },
  {
   "cell_type": "code",
   "execution_count": null,
   "id": "36345c27",
   "metadata": {},
   "outputs": [],
   "source": []
  }
 ],
 "metadata": {
  "kernelspec": {
   "display_name": "Python (devito)",
   "language": "python",
   "name": "devito"
  }
 },
 "nbformat": 4,
 "nbformat_minor": 5
}
