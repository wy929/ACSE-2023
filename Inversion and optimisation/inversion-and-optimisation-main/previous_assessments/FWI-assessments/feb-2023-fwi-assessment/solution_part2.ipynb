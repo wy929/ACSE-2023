{
 "cells": [
  {
   "cell_type": "markdown",
   "id": "01cc1d26",
   "metadata": {},
   "source": [
    "# Part 2 solution"
   ]
  },
  {
   "cell_type": "markdown",
   "id": "0dc28e39",
   "metadata": {},
   "source": []
  }
 ],
 "metadata": {
  "kernelspec": {
   "display_name": "Python (devito)",
   "language": "python",
   "name": "devito"
  }
 },
 "nbformat": 4,
 "nbformat_minor": 5
}
