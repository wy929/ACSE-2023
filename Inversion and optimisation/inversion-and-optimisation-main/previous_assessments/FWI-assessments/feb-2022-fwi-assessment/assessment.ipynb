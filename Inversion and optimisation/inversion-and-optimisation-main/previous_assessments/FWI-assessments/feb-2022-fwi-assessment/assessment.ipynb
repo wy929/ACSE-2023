{
 "cells": [
  {
   "cell_type": "markdown",
   "id": "9c64bdee",
   "metadata": {},
   "source": [
    "# Inversion and optimisation: Assessment 2\n",
    "\n",
    "**The submission deadline for this assessment is 12:00 GMT on Friday the 18th of March.**\n",
    "\n",
    "This assessment consists of 3 parts. Instructions and marks associated to each section are detailed below. \n",
    "\n",
    "## Part 1\n",
    "\n",
    "**[25 Marks]**\n",
    "\n",
    "The folder `part1-2` contains the file `part1-2_notebook.ipynb`. This notebook contains the majority of an FWI framework, most of which is that used lecture 11. This framework is however, not yet quite functional.\n",
    "\n",
    "In implementing the FWI framework in lecture 11, the true model was known a priori and was used to generate 'on-the-fly' synthetics (mimicking our recorded 'field data').\n",
    "\n",
    "Here the true model is not known and instead of generating on-the-fly synthetics the shot data should be read from the data files provided in the `data` folder. This folder contains 9 data files corresponding to 9 shots in `npy` format. For this part you will need to complete the following two tasks:\n",
    "\n",
    "(i) For each shot, when computing the residual, set `d_obs` by reading shot data from the appropriate shot file. (Source and receiver locations are already set correctly for this part and hence should not be modified). You may find the command `np.load(file, allow_pickle=True)` useful.\n",
    "\n",
    "(ii) Correctly implement the residual function. This will be very similar to the function seen in lecture 11, but since the object types are now different will need a minor modification.\n",
    "\n",
    "For this part you should only modify two cells in the original notebook. The cells that require modification are marked via a '**For part 1 you will need to edit the cell below**' above them.\n",
    "\n",
    "## Part 2\n",
    "\n",
    "**[35 Marks]**\n",
    "\n",
    "For this part, continue to modify the `part1-2_notebook.ipynb`.\n",
    "\n",
    "(i) In lecture 4 you learned about line search algorithms for selecting step sizes in gradient based optimization routines. In the cell below the statement '**In part 2 you will need to modify the manner in which alpha is determined in the cell below.**', implement a simple line search algorithm to set more optimal values of `alpha`. Note that in order to see the effect of this line search you may need to increase the number of FWI iterations. In a few sentences, in the cell labeled **Part 2(i)** towards the bottom of the notebook, describe how the line search algorithm works.\n",
    "\n",
    "(ii) Implement a couple of further modifications of your choice in an attempt to improve your final result. (Improve the result here means to further reduce the norm of the residual to hopefully have the final velocity model match better the true model). Briefly, in the cell labeled **Part 2(ii)** at the bottom of the notebook, comment on the effectiveness of each modification. Finally, in a few sentences (in the same cell), state what you believe the true underlying velocity model may be and express this via a plot. (**NOTE:** Since you're still using synthetic data for this part, which has fixed source and receiver locations, they should not, in this part, be modified to improve the result).\n",
    "\n",
    "\n",
    "## Part 3\n",
    "\n",
    "**[40 Marks]**\n",
    "\n",
    "The folder `part3` contains a notebook containing a working FWI algorithm for a different velocity model. A plot of the velocity model is included in this notebook. (**Important**: The true velocity model should not be modified when completing this part). However, the final result is not currently a very good representation of the true model. Your goal is to improve this result.\n",
    "\n",
    "Freely edit the FWI algorithm to get a better result. Finally, in a couple of paragraphs comment on what your tried and why, and what modifications proved most effective and discuss other modifications you could make to further improve the algorithm.\n",
    "\n",
    "**NOTE**: The explanations you present in this part are as important as the final result you achieve. That is, if your final model does not compare well to the true model, provided you can discuss why this may be, you can still achieve a good mark in this section."
   ]
  }
 ],
 "metadata": {
  "kernelspec": {
   "display_name": "Python 3 (ipykernel)",
   "language": "python",
   "name": "python3"
  },
  "language_info": {
   "codemirror_mode": {
    "name": "ipython",
    "version": 3
   },
   "file_extension": ".py",
   "mimetype": "text/x-python",
   "name": "python",
   "nbconvert_exporter": "python",
   "pygments_lexer": "ipython3",
   "version": "3.8.12"
  }
 },
 "nbformat": 4,
 "nbformat_minor": 5
}
