{
 "cells": [
  {
   "cell_type": "markdown",
   "metadata": {},
   "source": [
    "# Part 1 initial notebook\n",
    "\n",
    "Note that in its initial form the notebook will not run. You will need to amend two cells in order to successfully run the notebook. See `assessment.ipynb` for instructions."
   ]
  },
  {
   "cell_type": "code",
   "execution_count": null,
   "metadata": {},
   "outputs": [],
   "source": [
    "import numpy as np\n",
    "%matplotlib inline\n",
    "\n",
    "from examples.seismic import Model, AcquisitionGeometry, Receiver, plot_velocity, plot_image\n",
    "from examples.seismic.acoustic import AcousticWaveSolver\n",
    "\n",
    "import matplotlib.pyplot as plt\n",
    "\n",
    "from devito import Function, TimeFunction, Eq, Operator, norm, mmax, configuration\n",
    "\n",
    "configuration['log-level'] = 'WARNING'"
   ]
  },
  {
   "cell_type": "code",
   "execution_count": null,
   "metadata": {},
   "outputs": [],
   "source": [
    "nshots = 9  # Number of shots to create gradient from\n",
    "nreceivers = 101  # Number of receiver locations per shot\n",
    "fwi_iterations = 5  # Number of outer FWI iterations"
   ]
  },
  {
   "cell_type": "code",
   "execution_count": null,
   "metadata": {},
   "outputs": [],
   "source": [
    "shape = (101, 101)  # Number of grid point (nx, nz)\n",
    "spacing = (10., 10.)  # Grid spacing in m. The domain size is now 1km by 1km\n",
    "origin = (0., 0.)  # Need origin to define relative source and receiver locations"
   ]
  },
  {
   "cell_type": "code",
   "execution_count": null,
   "metadata": {},
   "outputs": [],
   "source": [
    "vback = 2.0\n",
    "v0 = np.full(shape, vback)\n",
    "\n",
    "plot_image(v0, cmap=\"seismic\")"
   ]
  },
  {
   "cell_type": "code",
   "execution_count": null,
   "metadata": {},
   "outputs": [],
   "source": [
    "# Define initial model\n",
    "\n",
    "model0 = Model(vp=v0, origin=origin, shape=shape, spacing=spacing,\n",
    "              space_order=2, nbl=10, dt=2.449, bcs=\"damp\")"
   ]
  },
  {
   "cell_type": "code",
   "execution_count": null,
   "metadata": {},
   "outputs": [],
   "source": [
    "# Define acquisition geometry: source\n",
    "\n",
    "t0 = 0.\n",
    "tn = 1000.\n",
    "f0 = 0.010\n",
    "# First, position source centrally in all dimensions, then set depth\n",
    "src_coordinates = np.empty((1, 2))\n",
    "src_coordinates[0, :] = np.array(model0.domain_size) * .5\n",
    "src_coordinates[0, 0] = 20.  # Depth is 20m\n",
    "\n",
    "# Define acquisition geometry: receivers\n",
    "\n",
    "# Initialize receivers for synthetic and imaging data\n",
    "rec_coordinates = np.empty((nreceivers, 2))\n",
    "rec_coordinates[:, 1] = np.linspace(0, model0.domain_size[0], num=nreceivers)\n",
    "rec_coordinates[:, 0] = 980.\n",
    "\n",
    "# Geometry\n",
    "\n",
    "geometry = AcquisitionGeometry(model0, rec_coordinates, src_coordinates, t0, tn, f0=f0, src_type='Ricker')\n",
    "# We can plot the time signature to see the wavelet\n",
    "geometry.src.show()"
   ]
  },
  {
   "cell_type": "code",
   "execution_count": null,
   "metadata": {},
   "outputs": [],
   "source": [
    "# Plot acquisition geometry with initial guess of the velocity model\n",
    "plot_velocity(model0, source=geometry.src_positions,\n",
    "              receiver=geometry.rec_positions[::4, :])"
   ]
  },
  {
   "cell_type": "code",
   "execution_count": null,
   "metadata": {},
   "outputs": [],
   "source": [
    "# Create solver\n",
    "\n",
    "solver = AcousticWaveSolver(model0, geometry, space_order=4)"
   ]
  },
  {
   "cell_type": "code",
   "execution_count": null,
   "metadata": {},
   "outputs": [],
   "source": [
    "# Prepare the varying source locations sources\n",
    "source_locations = np.empty((nshots, 2), dtype=np.float32)\n",
    "source_locations[:, 0] = 30.\n",
    "source_locations[:, 1] = np.linspace(0., 1000, num=nshots)"
   ]
  },
  {
   "cell_type": "markdown",
   "metadata": {},
   "source": [
    "## For part 1 you will need to edit the cell below"
   ]
  },
  {
   "cell_type": "code",
   "execution_count": null,
   "metadata": {},
   "outputs": [],
   "source": [
    "# Computes the residual between observed and synthetic data into the residual\n",
    "def compute_residual(residual, dobs, dsyn):\n",
    "    residual = None\n",
    "    return residual"
   ]
  },
  {
   "cell_type": "markdown",
   "metadata": {},
   "source": [
    "## For part 1 you will need to edit the cell below"
   ]
  },
  {
   "cell_type": "code",
   "execution_count": null,
   "metadata": {},
   "outputs": [],
   "source": [
    "# Create FWI gradient kernel\n",
    "\n",
    "def fwi_gradient(vp_in):    \n",
    "    # Create symbols to hold the gradient\n",
    "    grad = Function(name=\"grad\", grid=model0.grid)\n",
    "    # Create placeholders for the data residual and data\n",
    "    residual = Receiver(name='residual', grid=model0.grid,\n",
    "                        time_range=geometry.time_axis, \n",
    "                        coordinates=geometry.rec_positions)\n",
    "    d_obs = Receiver(name='d_obs', grid=model0.grid,\n",
    "                     time_range=geometry.time_axis, \n",
    "                     coordinates=geometry.rec_positions)\n",
    "    d_syn = Receiver(name='d_syn', grid=model0.grid,\n",
    "                     time_range=geometry.time_axis, \n",
    "                     coordinates=geometry.rec_positions)\n",
    "    objective = 0.\n",
    "    for i in range(nshots):\n",
    "        # Update source location\n",
    "        geometry.src_positions[0, :] = source_locations[i, :]\n",
    "        \n",
    "        # Load synthetic data from file\n",
    "        ...\n",
    "        d_obs = None\n",
    "        \n",
    "        # Compute smooth data and full forward wavefield u0\n",
    "        _, u0, _ = solver.forward(vp=vp_in, save=True, rec=d_syn)\n",
    "        \n",
    "        # Compute gradient from data residual and update objective function \n",
    "        compute_residual(residual, d_obs, d_syn)\n",
    "        \n",
    "        objective += .5*norm(residual)**2\n",
    "        solver.gradient(rec=residual, u=u0, vp=vp_in, grad=grad)\n",
    "    \n",
    "    return objective, grad"
   ]
  },
  {
   "cell_type": "code",
   "execution_count": null,
   "metadata": {},
   "outputs": [],
   "source": [
    "from sympy import Min, Max\n",
    "# Define bounding box constraints on the solution.\n",
    "def update_with_box(vp, alpha, dm, vmin=2.0, vmax=3.5):\n",
    "    \"\"\"\n",
    "    Apply gradient update in-place to vp with box constraint\n",
    "\n",
    "    Notes:\n",
    "    ------\n",
    "    For more advanced algorithm, one will need to gather the non-distributed\n",
    "    velocity array to apply constrains and such.\n",
    "    \"\"\"\n",
    "    update = vp + alpha * dm\n",
    "    update_eq = Eq(vp, Max(Min(update, vmax), vmin))\n",
    "    Operator(update_eq)()"
   ]
  },
  {
   "cell_type": "markdown",
   "metadata": {},
   "source": [
    "## In part 1 you do not need to edit the cell below.\n",
    "## In part 2 you will need to modify the manner in which alpha is determined in the cell below."
   ]
  },
  {
   "cell_type": "code",
   "execution_count": null,
   "metadata": {},
   "outputs": [],
   "source": [
    "# Run FWI with gradient descent\n",
    "history = np.zeros((fwi_iterations, 1))\n",
    "for i in range(0, fwi_iterations):\n",
    "    # Compute the functional value and gradient for the current\n",
    "    # model estimate\n",
    "    phi, direction = fwi_gradient(model0.vp)\n",
    "\n",
    "    # Store the history of the functional values\n",
    "    history[i] = phi\n",
    "\n",
    "    # In part 2 you will need to change how this alpha is chosen\n",
    "    alpha = .05 / mmax(direction)\n",
    "\n",
    "    # Update the model estimate and enforce minimum/maximum values\n",
    "    update_with_box(model0.vp , alpha , direction)\n",
    "\n",
    "    # Log the progress made\n",
    "    print('Objective value is %f at iteration %d' % (phi, i+1))"
   ]
  },
  {
   "cell_type": "code",
   "execution_count": null,
   "metadata": {},
   "outputs": [],
   "source": [
    "# Plot inverted velocity model\n",
    "plot_velocity(model0)"
   ]
  },
  {
   "cell_type": "code",
   "execution_count": null,
   "metadata": {},
   "outputs": [],
   "source": [
    "# Plot objective function decrease\n",
    "plt.figure()\n",
    "plt.loglog(history)\n",
    "plt.xlabel('Iteration number')\n",
    "plt.ylabel('Misift value Phi')\n",
    "plt.title('Convergence')\n",
    "plt.show()"
   ]
  },
  {
   "cell_type": "markdown",
   "metadata": {},
   "source": [
    "## Part 2(i)\n",
    "\n",
    "Add text here."
   ]
  },
  {
   "cell_type": "markdown",
   "metadata": {},
   "source": [
    "## Part 2(ii)\n",
    "\n",
    "Add text here."
   ]
  }
 ],
 "metadata": {
  "@webio": {
   "lastCommId": null,
   "lastKernelId": null
  },
  "hide_input": false,
  "kernelspec": {
   "display_name": "Python 3",
   "language": "python",
   "name": "python3"
  },
  "language_info": {
   "codemirror_mode": {
    "name": "ipython",
    "version": 3
   },
   "file_extension": ".py",
   "mimetype": "text/x-python",
   "name": "python",
   "nbconvert_exporter": "python",
   "pygments_lexer": "ipython3",
   "version": "3.8.2"
  },
  "latex_envs": {
   "LaTeX_envs_menu_present": true,
   "autoclose": false,
   "autocomplete": true,
   "bibliofile": "biblio.bib",
   "cite_by": "apalike",
   "current_citInitial": 1,
   "eqLabelWithNumbers": true,
   "eqNumInitial": 1,
   "hotkeys": {
    "equation": "Ctrl-E",
    "itemize": "Ctrl-I"
   },
   "labels_anchors": false,
   "latex_user_defs": false,
   "report_style_numbering": false,
   "user_envs_cfg": false
  },
  "widgets": {
   "state": {},
   "version": "1.1.2"
  }
 },
 "nbformat": 4,
 "nbformat_minor": 1
}
