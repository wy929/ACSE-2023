{
 "cells": [
  {
   "cell_type": "markdown",
   "id": "97342bd0",
   "metadata": {},
   "source": [
    "# Question 1 - [20 marks] <a class=\"tocSkip\"></a>\n",
    "\n",
    "Ahmed, Brian, Cheng, Dave, and Evelyn went to eat at an Italian restaurant:\n",
    "\n",
    "* Ahmed ordered the lasagna, a salad, a coke, and a fanta for £30.90\n",
    "\n",
    "* Brian ordered the lasagna and a salad for £26.50\n",
    "\n",
    "* Cheng ordered the lasagna and a coke for £20.20\n",
    "\n",
    "* Dave ordered a salad, and a fanta for £10.70\n",
    "\n",
    "* Evelyn ordered the lasagna, two salads and a fanta for £37.20\n",
    "\n",
    "To work out the prices for each individual item we formulate the following linear system of equations\n",
    "\n",
    "$$\n",
    "\\begin{pmatrix}\n",
    "1 & 1 & 1 & 1 \\\\\n",
    "1 & 1 & 0 & 0 \\\\\n",
    "1 & 0 & 1 & 0 \\\\\n",
    "0 & 1 & 0 & 1 \\\\\n",
    "1 & 2 & 0 & 1\n",
    "\\end{pmatrix}\n",
    "\\begin{pmatrix}\n",
    "    x_1 \\\\ x_2 \\\\ x_3 \\\\ x_4\n",
    "\\end{pmatrix}\n",
    "=\n",
    "\\begin{pmatrix}\n",
    "    30.9 \\\\ 26.5 \\\\ 20.2 \\\\ 10.7 \\\\ 37.2\n",
    "\\end{pmatrix},\n",
    "$$\n",
    "\n",
    "where $x_1, x_2, x_3,$ and $x_4$ are the prices for the lasagna, the salad, a coke and a fanta respectively."
   ]
  },
  {
   "cell_type": "markdown",
   "id": "75ae15ea",
   "metadata": {},
   "source": [
    "**1.1** Using Gaussian Elimination, work out the Reduced Row Echelon Form of the matrix on the left-hand side of the system of equations (you can do this by hand or with some code using numpy arrays, but I do need to see the individual operations you've done) and determine its null space and rank.\n",
    "Which of the following terms apply to this system:\n",
    "* equi-determined\n",
    "* over-determined\n",
    "* under-determined\n",
    "* mixed-determined\n",
    "* full-rank\n",
    "* singular\n",
    "* rank-deficient\n",
    "\n",
    "Name all terms (may be more than one) that apply."
   ]
  },
  {
   "cell_type": "code",
   "execution_count": null,
   "id": "5522a6a5",
   "metadata": {},
   "outputs": [],
   "source": []
  },
  {
   "cell_type": "markdown",
   "id": "d5ddf44c",
   "metadata": {},
   "source": [
    "**1.2** Use the generalized inverse to give a solution for this system (you may use scipy here). Is it unique? Why is this solution not realistic?"
   ]
  },
  {
   "cell_type": "code",
   "execution_count": null,
   "id": "31df9de7",
   "metadata": {},
   "outputs": [],
   "source": []
  },
  {
   "cell_type": "markdown",
   "id": "340c3011",
   "metadata": {},
   "source": [
    "**1.3** Suppose we know that half a year ago the prices were £17.5, £8.0, £2.0, £2.0 for the lasagna, the salad, the coke and the fanta respectively. Reformulate the system of equations so that we can find the solution that is closest to these previous prices."
   ]
  },
  {
   "cell_type": "code",
   "execution_count": null,
   "id": "4f6323b9",
   "metadata": {},
   "outputs": [],
   "source": []
  }
 ],
 "metadata": {
  "kernelspec": {
   "display_name": "Python 3 (ipykernel)",
   "language": "python",
   "name": "python3"
  },
  "language_info": {
   "codemirror_mode": {
    "name": "ipython",
    "version": 3
   },
   "file_extension": ".py",
   "mimetype": "text/x-python",
   "name": "python",
   "nbconvert_exporter": "python",
   "pygments_lexer": "ipython3",
   "version": "3.11.2"
  },
  "toc": {
   "base_numbering": 1,
   "nav_menu": {},
   "number_sections": true,
   "sideBar": true,
   "skip_h1_title": false,
   "title_cell": "Table of Contents",
   "title_sidebar": "Contents",
   "toc_cell": false,
   "toc_position": {},
   "toc_section_display": true,
   "toc_window_display": false
  }
 },
 "nbformat": 4,
 "nbformat_minor": 5
}
