{
 "cells": [
  {
   "cell_type": "markdown",
   "id": "ea185d0d",
   "metadata": {},
   "source": [
    "# Question 4 - [30 marks]  <a class=\"tocSkip\"></a>\n",
    "\n",
    "We consider an inversion problem where we are trying to find the location of the release of a pollutant that we know has been released some time $T$ ago from the south coast of a lake; We just don't know exactly where along the coast. The spread of the pollutant can be described by the following PDE\n",
    "\n",
    "$$\n",
    "\\frac{\\partial c(x,y,t)}{\\partial t} = \\kappa \\nabla^2 c(x,y,t),\n",
    "$$\n",
    "\n",
    "where $c(x,y,t)$ is the concentration of the pollutant at $(x,y)$ and time $t$, and $\\kappa$ is the diffusion coefficient.\n",
    "\n",
    "For the discretisation (which you don't need to know the details of) we use the following implicit Euler time-stepping scheme\n",
    "\n",
    "$$\n",
    "  \\frac{{\\bf c}^{k+1} - {\\bf c}^k}{\\Delta t} = -\\frac{\\kappa}{\\Delta x^2} \\underline{\\mathbf A} {\\bf c}\n",
    "$$\n",
    "\n",
    "where $\\bf c^k$ is the $n$-vector containing the discrete solution at all $n$ grid points at timestep $k$, and $\\underline{\\mathbf A}$ is the $n\\times n$ matrix associated with the finite-difference discretisation of the Laplace operator $-\\nabla^2$, for which you can use the code given below. Using the $n\\times n$ identity operator $\\underline{\\mathbf I}$, we can write this as\n",
    "\n",
    "\\begin{equation}\n",
    "  \\left(\\underline{\\mathbf I} + \\kappa \\frac{\\Delta t}{\\Delta x^2} \\underline{\\mathbf A}\\right) {\\bf c}^{k+1}\n",
    "  = {\\bf c}^k \\tag{1}\n",
    "\\end{equation}\n",
    "\n",
    "which gives a linear system to be solved in every time-step."
   ]
  },
  {
   "cell_type": "code",
   "execution_count": 1,
   "id": "dbc033f1",
   "metadata": {},
   "outputs": [],
   "source": [
    "import numpy as np\n",
    "import scipy.sparse as sp\n",
    "import scipy.sparse.linalg as spl\n",
    "import scipy.optimize as sop\n",
    "import matplotlib.pyplot as plt\n",
    "\n",
    "def Laplace(Nx, Ny):\n",
    "    \"\"\" Assembles a discrete Laplace operator with Neumann boundary conditions\n",
    "    into a sparse matrix.\n",
    "    \"\"\"\n",
    "    # construct matrix from 5 (off-)diagonals\n",
    "    # we provide the diagonals as one 5 x n array\n",
    "    # the actual off-diagonals should of course be shorter\n",
    "    # but dia_matrix cuts them off for us\n",
    "    n = Nx*Ny\n",
    "    offsets = [-Nx, -1, 0, 1, Nx]\n",
    "    diags = -np.ones((5,n))\n",
    "    diags[2] = -diags[2]*4  # main diagonal should be positive and 4 times the off-diagonals\n",
    "    A = sp.dia_matrix((diags, offsets), shape=(n,n)).tocsr()\n",
    "    \n",
    "    # grid point in the right-most column, should not be connected to\n",
    "    # the grid point in the first column on the next row\n",
    "    for i in range(1,Ny):\n",
    "        A[i*Nx-1, i*Nx] = 0\n",
    "        A[i*Nx, i*Nx-1] = 0\n",
    "        \n",
    "    # for homogenous Neumann boundary conditions all we have to do is\n",
    "    # make sure that the diagonal is set such that the row sum is zero\n",
    "    # This replaces some of the 4 values on the diagonal with the actual number\n",
    "    # of connected grid points on the boundary:\n",
    "    A.setdiag(A.diagonal() - np.array(A.sum(axis=1)).flatten())\n",
    "    \n",
    "    return A"
   ]
  },
  {
   "cell_type": "markdown",
   "id": "17542ce2",
   "metadata": {},
   "source": [
    "**4.1** Given the fact that $\\underline{\\mathbf A}$ is _symmetric_ and _positive semi-definite_, what do you know about the matrix $\\underline{\\mathbf I}+\\kappa\\frac{\\Delta t}{\\Delta x^2}\\underline{\\mathbf A}$ (assuming $\\kappa, \\Delta t, \\Delta x$ are all strictly positive)? What solver strategy would you recommend?"
   ]
  },
  {
   "cell_type": "code",
   "execution_count": null,
   "id": "4b327236",
   "metadata": {},
   "outputs": [],
   "source": []
  },
  {
   "cell_type": "markdown",
   "id": "f21b8abe",
   "metadata": {},
   "source": [
    "We assume a square lake of $L$ by $W$, and a grid of $n=N_x \\times N_y$. You may use the following parameter choices:"
   ]
  },
  {
   "cell_type": "code",
   "execution_count": 2,
   "id": "8f34baec",
   "metadata": {},
   "outputs": [],
   "source": [
    "# number of grid points in both directions, and total number of gridpoints\n",
    "Nx = 50\n",
    "Ny = 50\n",
    "n = Nx*Ny\n",
    "\n",
    "L = 2e3  # length in x-direction\n",
    "dx = L/Nx  # grid spacing - assumed to be the same in both directions\n",
    "W = Ny*dx  # width in y-direction\n",
    "\n",
    "dt = 3600  # timestep size\n",
    "T = 3600*24  # total run time: one day\n",
    "Nt = int(T/dt)  # number of timesteps\n",
    "\n",
    "kappa = 1  # diffusion coefficient\n",
    "\n",
    "A = Laplace(Nx, Nx)\n",
    "I = sp.eye(n)  # sparse n x n identity matrix\n",
    "matrix = I + kappa*(dt/dx**2)*A"
   ]
  },
  {
   "cell_type": "markdown",
   "id": "dc527e0a",
   "metadata": {},
   "source": [
    "We want to study the effect of releasing the pollutant at $t=0$ in a single point somewhere along the south coast. We number the computational grid row by row, starting at the south coast at $y=0$, so the south coast itself corresponds to the first $N_x$ grid points. We will store the initial concentrations along the south coast in a length $N_x$ vector $m$. So you should initialise your model as follows:"
   ]
  },
  {
   "cell_type": "code",
   "execution_count": 3,
   "id": "7ebacbcc",
   "metadata": {},
   "outputs": [],
   "source": [
    "m_init = np.zeros(Nx)  # initial concentrations along the south coast\n",
    "\n",
    "# assume a release at a single grid point at e.g. x = 0.3 * L\n",
    "m_init[int((0.3*L)/dx)] = 1\n",
    "\n",
    "# set initial condition for c which is defined on the entire grid\n",
    "c0 = np.zeros(n)\n",
    "c0[:Nx] = m_init"
   ]
  },
  {
   "cell_type": "markdown",
   "id": "06b4707f",
   "metadata": {},
   "source": [
    "You can plot any solution, or here the initial condition, as follows:"
   ]
  },
  {
   "cell_type": "code",
   "execution_count": 4,
   "id": "695a9ef6",
   "metadata": {},
   "outputs": [
    {
     "data": {
      "image/png": "[encoded data removed]",
      "text/plain": [
       "<Figure size 640x480 with 2 Axes>"
      ]
     },
     "metadata": {},
     "output_type": "display_data"
    }
   ],
   "source": [
    "x = np.linspace(0, L, Nx)\n",
    "y = np.linspace(0, W, Ny)\n",
    "\n",
    "plt.pcolor(x, y, c0.reshape((Ny, Nx)))\n",
    "plt.colorbar();"
   ]
  },
  {
   "cell_type": "markdown",
   "id": "fa0195ad",
   "metadata": {},
   "source": [
    "**4.2** Implement a time-stepping loop that performs `Nt` (defined above) timesteps, and plot the final solution at the end. Use the solver strategy you specified in the previous question. You may use any algorithm implemented in `scipy` here. Plot the final solution at time $t=T = N_t \\Delta t = 1$ day."
   ]
  },
  {
   "cell_type": "code",
   "execution_count": null,
   "id": "750523f7",
   "metadata": {},
   "outputs": [],
   "source": []
  },
  {
   "cell_type": "markdown",
   "id": "9ef3fcee",
   "metadata": {},
   "source": [
    "Store the final solution in a separate array `c_target`. We now like to see if we can retrieve the original `m_init`\n",
    "from this final state `c_target`, so that if we were to observe the spread of the pollutant in the form of `c_target`, we would know where along the coast it was released some time `T = Nt * dt` ago. To do this we formulate the problem as a PDE-constrained optimisation problem:\n",
    "\n",
    "$$\n",
    "\\text{minimize } f({\\bf c}, {\\bf m}) = \\tfrac 12\\| {\\bf c}_{\\text{target}} - {\\bf c}^{N_t}\\|^2\n",
    "$$\n",
    "\n",
    "subject to the _discrete_ PDE constraint\n",
    "\n",
    "$$\n",
    "\\newcommand\\bigm{\\underline{\\mathbf I} + \\kappa\\frac{\\Delta t}{\\Delta x^2} \\underline{\\mathbf A}}\n",
    "\\newcommand\\idt{\\underline{\\mathbf I}}\n",
    "{\\bf g}({\\bf c}, {\\bf m}) =\n",
    "\\begin{pmatrix}\n",
    "\\vphantom{\\begin{pmatrix}{\\bf m} \\\\ 0 \\end{pmatrix}} \\idt & 0 & 0 & 0 & \\dots & 0 & 0  \\\\\n",
    "-\\idt & \\bigm & 0 & 0 & \\dots & 0  & 0 \\\\\n",
    "0 & -\\idt & \\bigm & 0 & \\dots & 0  & 0\\\\\n",
    "0 & 0 & -\\idt & \\bigm & \\dots & 0  & 0 \\\\\n",
    "\\vdots & \\vdots & \\vdots & \\ddots & \\ddots & \\vdots & \\vdots \\\\\n",
    "0 & 0 & 0 & \\dots &  -\\idt & \\bigm & 0 \\\\\n",
    "0 & 0 & 0 & 0 & \\dots & -\\idt & \\bigm \n",
    "\\end{pmatrix}\n",
    "\\begin{pmatrix}\n",
    "  \\vphantom\\bigm {\\bf c}^0 \\\\ \\vphantom\\bigm {\\bf c}^1 \\\\ \\vphantom\\bigm{\\bf c}^2 \\\\ \\vphantom\\bigm{\\bf c}^3 \\\\ \\vphantom\\bigm\\dots \\\\ \\vphantom\\bigm{\\bf c}^{N_t-1} \\\\ \\vphantom\\bigm{\\bf c}^{N_t}\n",
    "\\end{pmatrix}\n",
    "-\n",
    "\\begin{pmatrix}\n",
    "  \\begin{pmatrix}{\\bf m} \\\\ 0 \\end{pmatrix} \\\\ \\vphantom\\bigm {\\bf 0} \\\\ \\vphantom\\bigm{\\bf 0} \\\\ \\vphantom\\bigm{\\bf 0} \\\\ \\vphantom\\bigm\\dots \\\\ \\vphantom\\bigm{\\bf 0} \\\\ \\vphantom\\bigm{\\bf 0}\n",
    "\\end{pmatrix} = 0\n",
    "$$\n",
    "\n",
    "Note that the first row of ${\\bf g}({\\bf c}, {\\bf m})$:\n",
    "\n",
    "$$\n",
    "  \\idt {\\bf c}^0 - \\begin{pmatrix}{\\bf m} \\\\ 0 \\end{pmatrix} = 0\n",
    "  \\quad\\rightarrow\\quad {\\bf c}^0 = \\begin{pmatrix}{\\bf m} \\\\ 0 \\end{pmatrix}\n",
    "$$\n",
    "\n",
    "simply represents the copying of the ${\\bf m}$ vector of length $N_x$ into the first $N_x$ entries of ${\\bf c}^0$, and zeroing the other entries. Subsequent rows represent the linear system of equations (given in eqn. (1) above question 4.1) of each time step.\n",
    "\n",
    "We also define the associated reduced functional\n",
    "\n",
    "$$\\hat{f}({\\bf m}) = f({\\bf c}({\\bf m}), {\\bf m}),\n",
    "\\text{ where }{\\bf c}({\\bf m}) = {\\bf c}\n",
    "\\text{ is the solution to }{\\bf g}({\\bf c}, {\\bf m}) = 0,\n",
    "$$\n",
    "\n",
    "in other words we run the forward model using ${\\bf m}$ to compute ${\\bf c}$, and using its (final timestep) value compute $f$."
   ]
  },
  {
   "cell_type": "markdown",
   "id": "e7a74d2b",
   "metadata": {},
   "source": [
    "**4.3** Work out the adjoint equation for this discrete PDE-constrained optimisation problem, and describe how the adjoint solution vectors $\\boldsymbol{\\lambda}^{0}\\dots \\boldsymbol{\\lambda}^{N_t}$ can be solved one-by-one. Work out the equations in terms of ${\\bf c}_{target}$ and the solution vectors ${\\bf c}^k$ of the forward model. Explain how we can compute $\\frac{\\partial\\hat{f}({\\bf m})}{\\partial\\bf m}$ after that."
   ]
  },
  {
   "cell_type": "code",
   "execution_count": null,
   "id": "2bb77892",
   "metadata": {},
   "outputs": [],
   "source": []
  },
  {
   "cell_type": "markdown",
   "id": "512f2d19",
   "metadata": {},
   "source": [
    "**4.4** Implement the reduced functional `fhat(m)` which takes a length $N_x$ array `m`, runs the forward model and returns $f({\\bf c}, {\\bf m})$. Also implement its derivative `dfhat(m)` which takes a length $N_x$ array `m` and returns a length $N_x$ array representing the gradient of $\\hat{f}$ with respect to $\\bf m$. Test your implementation for correctness! **Hint**: in the test of your derivative you may need to choose tighter tolerances in the solves that you use in the timesteps."
   ]
  },
  {
   "cell_type": "code",
   "execution_count": null,
   "id": "c3dff6c4",
   "metadata": {},
   "outputs": [],
   "source": []
  },
  {
   "cell_type": "markdown",
   "id": "a3aa079c",
   "metadata": {},
   "source": [
    "**4.5** Use `fhat` and `dfhat` to solve the inversion problem. You may use the following code, which enforces bounds to ensure that the resulting $\\bf m$ stays between 0 and 1."
   ]
  },
  {
   "cell_type": "code",
   "execution_count": null,
   "id": "c5cc0672",
   "metadata": {},
   "outputs": [],
   "source": [
    "import scipy.optimize as sop\n",
    "m = np.ones(Nx)\n",
    "bounds = np.zeros((Nx, 2))\n",
    "# lower bounds in the first column are zero\n",
    "bounds[:,1] = 1  # upper bounds in the second column are one\n",
    "\n",
    "result = sop.minimize(fhat, m, jac=dfhat, options={'maxiter':200, 'gtol': 1e-12}, method='l-bfgs-b', bounds=bounds)\n",
    "\n",
    "print(result)\n",
    "# this plots the recovered source vs. the original source\n",
    "plt.plot(x, result['x'], label='Recovered source')\n",
    "plt.plot(x, m_init, label='Original source')\n",
    "plt.legend()"
   ]
  },
  {
   "cell_type": "code",
   "execution_count": null,
   "id": "c14b690f",
   "metadata": {},
   "outputs": [],
   "source": []
  },
  {
   "cell_type": "markdown",
   "id": "aa4e310f",
   "metadata": {},
   "source": [
    "You may find that the recovered source is spread out quite a bit more than the original ${\\bf m}$-vector. This is an example of an ill-posed problem: multiple vectors $\\bf m$ may result in the same distribution of the concentration $c(x,y,t)$ after $N_t$ timesteps. Since we know that the original pollution was very much concentrated in a single place we would like to penalize solutions that are more spread out. Our usual trick of penalising the norm of $\\bf m$, does not work here: the solution `m` you find through the inversion process, will integrate (sum) to approximately the same value as the true source `m_init`, but the more spread out the smaller the norm will be; For example, if the true source has a value of 1 in just one grid point, but the recovered source has a value of $1/4$ in 4 grid points, then the norm of the recovered source is smaller: $\\sqrt{{\\tfrac 14}^2 + {\\tfrac 14}^2 + {\\tfrac 14}^2 + {\\tfrac 14}^2}\\lt 1$. So instead we want to do the reverse: penalise solutions with a small norm! This is possible here because the noisy oscillatory modes that would otherwise pollute the solution (and be encouraged by our penalty term!) are already kept in hand by the imposed bounds. Therefore we want to change the functional to\n",
    "\n",
    "$$\n",
    "  f({\\bf c}, {\\bf m}) = \\tfrac 12\\| {\\bf c}_{\\text{target}} - {\\bf c}^{N_t}\\|^2 + \\frac{\\mu}{1 + \\|{\\bf m}\\|^2},\n",
    "$$\n",
    "\n",
    "where $\\mu$ is a user chosen parameter (suggested value $\\mu=10^{-4}$)."
   ]
  },
  {
   "cell_type": "markdown",
   "id": "c70b9b8d",
   "metadata": {},
   "source": [
    "**4.6** Extend the reduced functional, and its derivative, to include the new penalty term. Don't forget to test the derivative! Now see if you can get a solution to the inverse problem that is closer to the original source."
   ]
  },
  {
   "cell_type": "code",
   "execution_count": null,
   "id": "3fc1301e",
   "metadata": {},
   "outputs": [],
   "source": []
  }
 ],
 "metadata": {
  "kernelspec": {
   "display_name": "Python 3 (ipykernel)",
   "language": "python",
   "name": "python3"
  },
  "language_info": {
   "codemirror_mode": {
    "name": "ipython",
    "version": 3
   },
   "file_extension": ".py",
   "mimetype": "text/x-python",
   "name": "python",
   "nbconvert_exporter": "python",
   "pygments_lexer": "ipython3",
   "version": "3.10.9"
  },
  "toc": {
   "base_numbering": 1,
   "nav_menu": {},
   "number_sections": true,
   "sideBar": true,
   "skip_h1_title": false,
   "title_cell": "Table of Contents",
   "title_sidebar": "Contents",
   "toc_cell": false,
   "toc_position": {},
   "toc_section_display": true,
   "toc_window_display": false
  }
 },
 "nbformat": 4,
 "nbformat_minor": 5
}
