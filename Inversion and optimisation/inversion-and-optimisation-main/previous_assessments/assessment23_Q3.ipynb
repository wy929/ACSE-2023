{
 "cells": [
  {
   "cell_type": "markdown",
   "id": "dca544b8",
   "metadata": {},
   "source": [
    "# Question 3 - [30 marks]  <a class=\"tocSkip\"></a>\n",
    "\n",
    "Solve the minimisation problem\n",
    "\n",
    "$$\n",
    "f(x, y) = x^2 + \\frac{y^4}{12} - \\frac{y^3}{6}\n",
    "$$\n",
    "\n",
    "**3.1** Find its _global minimizer_, i.e. the $(x,y)$ for which $f(x,y)$ takes its (global) minimum value, analytically. Is the function convex? Show why it is, or is not convex."
   ]
  },
  {
   "cell_type": "code",
   "execution_count": null,
   "id": "c7b276a1",
   "metadata": {},
   "outputs": [],
   "source": []
  },
  {
   "cell_type": "markdown",
   "id": "27ec1acb",
   "metadata": {},
   "source": [
    "**3.2** Implement the function $f$, and its first and second derivative as python functions. All three functions should take a length 2 list or array with the x and y value as their single argument. They should return respectively a single value, a length 2 array, and a $2\\times 2$ array.\n",
    "Test the derivative functions!"
   ]
  },
  {
   "cell_type": "code",
   "execution_count": null,
   "id": "fcf6a63d",
   "metadata": {},
   "outputs": [],
   "source": []
  },
  {
   "cell_type": "markdown",
   "id": "1abbdc8e",
   "metadata": {},
   "source": [
    "**3.3** Try to find the minimum using a combination of Newton's method with a line search (you may use any code from the lecture notes). Use a direct method (e.g. `scipy.linalg.inv`) for the linear solve in each iteration. Try out a  number of different initial guesses ${\\bf x}^{(0)}$, including at least the following:\n",
    "$$\n",
    "{\\bf x}^{(0)} = \\begin{pmatrix} 2 \\\\ 2 \\end{pmatrix}, \\quad\n",
    "{\\bf x}^{(0)} = \\begin{pmatrix} 0 \\\\ \\tfrac 12 \\end{pmatrix}, \\quad\n",
    "{\\bf x}^{(0)} = \\begin{pmatrix} 0 \\\\ 1 \\end{pmatrix}, \\quad\n",
    "{\\bf x}^{(0)} = \\begin{pmatrix} 0 \\\\ -1 \\end{pmatrix}, \\quad\n",
    "$$\n",
    "You will find that the method is not successful in all cases. Describe exactly what goes wrong for the cases that the method fails."
   ]
  },
  {
   "cell_type": "code",
   "execution_count": null,
   "id": "c2f39b25",
   "metadata": {},
   "outputs": [],
   "source": []
  },
  {
   "cell_type": "markdown",
   "id": "7c814ffb",
   "metadata": {},
   "source": [
    "**3.4** Try two different methods implemented in [`scipy.optimize.minimize`](https://docs.scipy.org/doc/scipy/reference/generated/scipy.optimize.minimize.html) (choose ones that were discussed during the module) and see whether they are succesful at finding the minimum starting from the same initial guesses. Try to explain the results using your knowledge of the methods."
   ]
  },
  {
   "cell_type": "code",
   "execution_count": null,
   "id": "21b6f5dc",
   "metadata": {},
   "outputs": [],
   "source": []
  }
 ],
 "metadata": {
  "kernelspec": {
   "display_name": "Python 3 (ipykernel)",
   "language": "python",
   "name": "python3"
  },
  "language_info": {
   "codemirror_mode": {
    "name": "ipython",
    "version": 3
   },
   "file_extension": ".py",
   "mimetype": "text/x-python",
   "name": "python",
   "nbconvert_exporter": "python",
   "pygments_lexer": "ipython3",
   "version": "3.10.9"
  },
  "toc": {
   "base_numbering": 1,
   "nav_menu": {},
   "number_sections": true,
   "sideBar": true,
   "skip_h1_title": false,
   "title_cell": "Table of Contents",
   "title_sidebar": "Contents",
   "toc_cell": false,
   "toc_position": {},
   "toc_section_display": true,
   "toc_window_display": false
  }
 },
 "nbformat": 4,
 "nbformat_minor": 5
}
