{
  "nbformat": 4,
  "nbformat_minor": 0,
  "metadata": {
    "colab": {
      "provenance": []
    },
    "kernelspec": {
      "name": "python3",
      "display_name": "Python 3"
    },
    "language_info": {
      "name": "python"
    },
    "gpuClass": "standard"
  },
  "cells": [
    {
      "cell_type": "markdown",
      "source": [
        "<img src=\"https://drive.google.com/uc?id=1DvKhAzLtk-Hilu7Le73WAOz2EBR5d41G\" width=\"500\"/>\n",
        "\n",
        "\n",
        "---\n"
      ],
      "metadata": {
        "id": "9YehS8enAmDn"
      }
    },
    {
      "cell_type": "markdown",
      "source": [
        "# **Deep learning module introduction**\n",
        "\n",
        "#### **Morning contents/agenda**\n",
        "\n",
        "0. Start at the end\n",
        "\n",
        "1. Description of the module's contents, materials and resources:\n",
        "  - github repository\n",
        "  - schedule and assessments\n",
        "  - teaching team\n",
        "\n",
        "2. Google Colab introduction\n",
        "\n",
        "3. Deep learning?\n",
        "\n",
        "4. Why `PyTorch`?\n",
        "\n",
        "5. A simple feed-forward network (FNN) with `PyTorch`\n",
        "\n",
        "#### **Learning outcomes**\n",
        "\n",
        "1. Overview the module contents and how they will be delivered\n",
        "\n",
        "2. Understand the assessment process for the module\n",
        "\n",
        "3. First contact with `PyTorch` and FFNs\n",
        "\n",
        "<br>\n",
        "\n",
        "\n",
        "#### **Afternoon contents/agenda**\n",
        "\n",
        "1. https://playground.tensorflow.org\n",
        "\n",
        "2. Improving our simpleFFN\n",
        "\n",
        "#### **Learning outcomes**\n",
        "\n",
        "1. Understand the effect of different network configurations with tensorflow\n",
        "\n",
        "2. Break the morning example and raise questions about how `PyTorch` works.\n",
        "\n",
        "$$\\\\[2cm]$$\n",
        "\n",
        "---\n",
        "---"
      ],
      "metadata": {
        "id": "J-VVpU1MJJOB"
      }
    },
    {
      "cell_type": "markdown",
      "source": [
        "## 1. Tensorflow exercises"
      ],
      "metadata": {
        "id": "sinIebTtMUvs"
      }
    },
    {
      "cell_type": "code",
      "source": [
        "%%html\n",
        "<iframe src=\"https://playground.tensorflow.org\" width=\"1200\" height=\"700\"></iframe>\n"
      ],
      "metadata": {
        "id": "Wq0gHzpaJqvd",
        "colab": {
          "base_uri": "https://localhost:8080/",
          "height": 726
        },
        "outputId": "27347fdb-1525-4f19-a93d-5ca70147bca9"
      },
      "execution_count": null,
      "outputs": [
        {
          "output_type": "display_data",
          "data": {
            "text/plain": [
              "<IPython.core.display.HTML object>"
            ],
            "text/html": [
              "<iframe src=\"https://playground.tensorflow.org\" width=\"1200\" height=\"700\"></iframe>\n"
            ]
          },
          "metadata": {}
        }
      ]
    },
    {
      "cell_type": "markdown",
      "source": [
        "Unless otherwise indicated, we work with the following hyper-parameters:\n",
        "Learning rate =0.03, Batch Size=10, Noise=0, Training Data=70%.\n",
        "\n",
        "Since there is a total of 500 data points, there are 350 (or 70%) training data and 150 test data.\n",
        "\n",
        "We examine the behaviour of the networks until about 3500 epochs.\n",
        "\n",
        "It is important to note that there will be differences between different runs obtained with the same hyperparameters, because the initial values of the neural network parameters (weights and bias terms) are sampled randomly.\n",
        "\n",
        "The dataset itself may also change if you click the Regenerate Button at the bottom left of the screen.\n",
        "\n",
        "We work on a classification problem on the Spiral dataset. The yellow dots have a value of -1 and the blue dots have a value of +1.\n",
        "\n",
        "\n",
        "\n"
      ],
      "metadata": {
        "id": "yojhzj6cLxp1"
      }
    },
    {
      "cell_type": "markdown",
      "source": [
        "#### **Question 1:**\n",
        "Use the sigmoid activation function and no hidden layer. What do you observe? How do you interpret it?"
      ],
      "metadata": {
        "id": "563F2iseLxpm"
      }
    },
    {
      "cell_type": "markdown",
      "source": [
        "#### **Question 2:**\n",
        "Now put just one hidden layer, a sigmoid activation function, and make the number of neurons in the hidden layer equal to 4. Then make it equal to the maximum offered by the application, that is 8. What is the number of trained parameters and what do you observe in each case?"
      ],
      "metadata": {
        "id": "2QOO1cr-L4__"
      }
    },
    {
      "cell_type": "markdown",
      "source": [
        "#### **Question 3:**\n",
        "Now do the same as in question 2, but using the ReLU activation function. What do you observe?"
      ],
      "metadata": {
        "id": "LCAFZMY1L48J"
      }
    },
    {
      "cell_type": "markdown",
      "source": [
        "#### **Question 4:**\n",
        "Now use two hidden layers each with four neurons and the ReLU activation function. How many trained parameters do you have? What do you observe?"
      ],
      "metadata": {
        "id": "Ny7l5SQPL452"
      }
    },
    {
      "cell_type": "markdown",
      "source": [
        "#### **Question 5:**\n",
        "Now try two hidden layers with 8 neurons each and a ReLU activation function. How many trained parameters do you have? What do you observe?"
      ],
      "metadata": {
        "id": "w5bQvkz_L43m"
      }
    },
    {
      "cell_type": "markdown",
      "source": [
        "#### **Question 6:**\n",
        "Now try three hidden layers with 8 neurons each. What happens if you compare sigmoid and ReLU?"
      ],
      "metadata": {
        "id": "T6hCgRTVL41p"
      }
    },
    {
      "cell_type": "markdown",
      "source": [
        "#### **Question 7:**\n",
        "Now keep the three layers with 8 neurons and change the batch size to 30, and then 1. What happens if you use ReLU?\n"
      ],
      "metadata": {
        "id": "VEkDEuaLL4zt"
      }
    },
    {
      "cell_type": "markdown",
      "source": [
        "#### **Question 8:**\n",
        "Now that we have obtained a good model see what happens if you introduce all the 7 input variables"
      ],
      "metadata": {
        "id": "oYtvkNlPL4xP"
      }
    },
    {
      "cell_type": "markdown",
      "source": [
        "#### **Question 9:**\n",
        "Now assume that the data are affected by noise. Just use the maximum noise value of 50. The application is not very clear about the mechanism by which the noise affects the initial data classes. This does not matter, just assume that, after introducing this noise value of 50, you are now dealing with new binary class values at each point. What do you observe?"
      ],
      "metadata": {
        "id": "k9xrDsxCL4ub"
      }
    },
    {
      "cell_type": "markdown",
      "source": [
        "<br>\n",
        "\n",
        "---\n",
        "\n",
        "<br>"
      ],
      "metadata": {
        "id": "WIxthEMANlZd"
      }
    },
    {
      "cell_type": "markdown",
      "source": [
        "## 2. `simpleFFN` exercise\n",
        "\n",
        "Try to improve the performance of the network we implemented this morning. A few ideas and hints:\n",
        "\n",
        "- modify the simpleFFN class to add more layers\n",
        "- play with the sizes of the layers\n",
        "- **don't touch** the train, validation, and evaluate functions\n",
        "- play with the data splits\n",
        "- anything else you see fit\n",
        "\n",
        "I recommend that you copy-paste the code from this morning here, and then play editing it."
      ],
      "metadata": {
        "id": "l2jKgoThOnO8"
      }
    },
    {
      "cell_type": "code",
      "source": [],
      "metadata": {
        "id": "hncVSjFpJo79"
      },
      "execution_count": null,
      "outputs": []
    }
  ]
}