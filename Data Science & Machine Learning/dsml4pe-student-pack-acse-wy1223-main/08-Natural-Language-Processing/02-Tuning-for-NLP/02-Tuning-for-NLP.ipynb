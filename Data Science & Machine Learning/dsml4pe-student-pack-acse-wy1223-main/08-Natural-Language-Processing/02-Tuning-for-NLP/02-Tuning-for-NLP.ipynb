{
 "cells": [
  {
   "cell_type": "markdown",
   "id": "5008a0b8",
   "metadata": {},
   "source": [
    "<img src=\"https://drive.google.com/uc?id=1-cL5eOpEsbuIEkvwW2KnpXC12-PAbamr\" style=\"Width:1000px\">"
   ]
  },
  {
   "cell_type": "markdown",
   "id": "23644ac9",
   "metadata": {},
   "source": [
    "# Vectorizer Tuning\n",
    "\n",
    "The task of this exercise is to simultaneously tune a vectorizer and a model. You will reuse your pre-processed text (the `processed_data.csv` file you created in the last exercise), and then:\n",
    "- Stack a vectorizer and model in a Pipeline\n",
    "- Set a range of parameters for vectorizer and model in a grid\n",
    "- Perform grid search on entire pipeline\n",
    "\n",
    "## Load the data\n",
    "\n",
    "First, load the data your already processed in a dataframe called `data`."
   ]
  },
  {
   "cell_type": "code",
   "execution_count": null,
   "id": "95e5ae44",
   "metadata": {},
   "outputs": [],
   "source": [
    "# ADD YOUR CODE HERE -- You can create new markdown and code cells\n",
    "                    \n",
    "                    \n",
    "                    "
   ]
  },
  {
   "cell_type": "markdown",
   "id": "f452ab4c",
   "metadata": {},
   "source": [
    "## Tuning"
   ]
  },
  {
   "cell_type": "markdown",
   "id": "590199cf",
   "metadata": {},
   "source": [
    "Now use `GridSearchCV` to tune a vectorizer of your choice (or try both!) and a MultinomialNB model simultaneously. The goal is to beak your previous score. Save your best cross validation score in a variable named `best_score`."
   ]
  },
  {
   "cell_type": "code",
   "execution_count": null,
   "id": "0b006a67",
   "metadata": {},
   "outputs": [],
   "source": [
    "# ADD YOUR CODE HERE -- You can create new markdown and code cells\n",
    "                    \n",
    "                    \n",
    "                    "
   ]
  },
  {
   "cell_type": "code",
   "execution_count": null,
   "id": "ea66e78f",
   "metadata": {},
   "outputs": [],
   "source": [
    "from nbresult import ChallengeResult\n",
    "\n",
    "result = ChallengeResult('model_performance',\n",
    "                         score = best_score,\n",
    ")\n",
    "\n",
    "result.write()\n",
    "print(result.check())"
   ]
  },
  {
   "cell_type": "markdown",
   "id": "9ec7b9c7",
   "metadata": {},
   "source": [
    "# 🏁 Finished!\n",
    "\n",
    "Well done! <span style=\"color:teal\">**Push your exercise to GitHub**</span>, and move on to the next one."
   ]
  }
 ],
 "metadata": {
  "kernelspec": {
   "display_name": "Python 3 (ipykernel)",
   "language": "python",
   "name": "python3"
  },
  "language_info": {
   "codemirror_mode": {
    "name": "ipython",
    "version": 3
   },
   "file_extension": ".py",
   "mimetype": "text/x-python",
   "name": "python",
   "nbconvert_exporter": "python",
   "pygments_lexer": "ipython3",
   "version": "3.11.2"
  }
 },
 "nbformat": 4,
 "nbformat_minor": 5
}
