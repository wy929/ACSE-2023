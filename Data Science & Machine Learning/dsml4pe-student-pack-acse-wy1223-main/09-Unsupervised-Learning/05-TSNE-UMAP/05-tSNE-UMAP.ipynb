{
 "cells": [
  {
   "cell_type": "markdown",
   "id": "18aed896",
   "metadata": {},
   "source": [
    "<img src=\"https://drive.google.com/uc?id=1-hPP-XPm9_5M3orUgmompcVleQ5xvPST\" style=\"Width:1000px\">"
   ]
  },
  {
   "cell_type": "code",
   "execution_count": null,
   "id": "531b13c1",
   "metadata": {},
   "outputs": [],
   "source": [
    "from nbta.utils import download_data\n",
    "download_data(id='1Jlq8kHOlsp563-x15b6Mx55st4XIKAjs')"
   ]
  },
  {
   "cell_type": "code",
   "execution_count": null,
   "id": "79adf64f",
   "metadata": {},
   "outputs": [],
   "source": [
    "import numpy as np\n",
    "import pandas as pd\n",
    "import matplotlib.pyplot as plt\n",
    "import seaborn as sns\n",
    "\n",
    "data = pd.read_csv('raw_data/penguins.csv')\n",
    "data"
   ]
  },
  {
   "cell_type": "code",
   "execution_count": null,
   "id": "920821a6",
   "metadata": {},
   "outputs": [],
   "source": [
    "from sklearn.model_selection import train_test_split\n",
    "from sklearn.preprocessing import LabelEncoder\n",
    "\n",
    "X = data.drop(columns=['species'])\n",
    "y = data.species\n",
    "                   \n",
    "X_train, X_test, y_train_raw, y_test_raw = train_test_split(X, y, train_size=0.8, random_state=12)\n",
    "\n",
    "label_encoder = LabelEncoder().fit(y_train_raw)\n",
    "\n",
    "y_train = pd.Series(data=label_encoder.transform(y_train_raw),name='species')\n",
    "y_test = pd.Series(data=label_encoder.transform(y_test_raw), name='species')"
   ]
  },
  {
   "cell_type": "markdown",
   "id": "631b0332",
   "metadata": {},
   "source": [
    "#### Visualizing the relationship between features\n",
    "\n",
    "Create a pairplot (`seaborn.pairplot`) to visualize the features. Use the `species` as a hue, to be able to distinguish different species."
   ]
  },
  {
   "cell_type": "code",
   "execution_count": null,
   "id": "77f67ea4",
   "metadata": {},
   "outputs": [],
   "source": [
    "# ADD YOUR CODE HERE -- You can create new markdown and code cells\n",
    "                    \n",
    "                    \n",
    "                    "
   ]
  },
  {
   "cell_type": "markdown",
   "id": "d99aa1e5",
   "metadata": {},
   "source": [
    "# Creating a PCA projection\n",
    "\n",
    "Create a `X_proj_pca` dataset that is the projected version of your dataset using a `PCA` with a `random_state=5`. I selected 5 because it leads to a nice visualization. Save your `X_proj_pca` as a dataframe."
   ]
  },
  {
   "cell_type": "code",
   "execution_count": null,
   "id": "8200676e",
   "metadata": {},
   "outputs": [],
   "source": [
    "# ADD YOUR CODE HERE -- You can create new markdown and code cells\n",
    "                    \n",
    "                    \n",
    "                    "
   ]
  },
  {
   "cell_type": "markdown",
   "id": "ec463729",
   "metadata": {},
   "source": [
    "# Dimensionality reduction and projection using graph algorithms (t-SNE and UMAP)\n",
    "\n",
    "* Manifold learning based on graph algorithms \n",
    "* very complex, general principles exlained only\n",
    "* More about graph algorithm during the Deep-Learning week"
   ]
  },
  {
   "cell_type": "markdown",
   "id": "d3e1d972",
   "metadata": {},
   "source": [
    "#### In a nutshell:"
   ]
  },
  {
   "cell_type": "markdown",
   "id": "9b5916b5",
   "metadata": {},
   "source": [
    "<img src=\"figures/umap-only.png\" style=\"width:1000\">"
   ]
  },
  {
   "cell_type": "markdown",
   "id": "23b7bdec",
   "metadata": {},
   "source": [
    "## Main Differences between t-SNE and UMAP"
   ]
  },
  {
   "cell_type": "markdown",
   "id": "baab34cf",
   "metadata": {},
   "source": [
    "#### t-SNE (T-distributed Stochastic Neighbor Embedding)\n",
    "* Older algorithm\n",
    "* Relatively simple mathematically: empirical approach\n",
    "* Based on Gaussian probability and student t-test distribution\n",
    "* Uses exclusively Euclidian distance between points\n",
    "* tSNE applies distance normalization"
   ]
  },
  {
   "cell_type": "markdown",
   "id": "709e07e6",
   "metadata": {},
   "source": [
    "#### UMAP (Uniform Manifold Approximation & Projection)\n",
    "* More recent algorithm\n",
    "* Anchored in theoretical mathematical approach\n",
    "* In order to construct the initial high-dimensional graph, builds a \"fuzzy simplicial complex\"\n",
    "* UMAP is often better at preserving global structure in the final projection than T-SNE\n",
    "* **UMAP is orders of magnitude faster than T-SNE for complex datasets**\n",
    "\n",
    "**A good first read** if you want to understand the mathematical differences between these two algorithms is this blog by <a href=\"https://towardsdatascience.com/how-exactly-umap-works-13e3040e1668\">Olskolkov, 2019</a>"
   ]
  },
  {
   "cell_type": "markdown",
   "id": "6b6b205f",
   "metadata": {},
   "source": [
    "## t-SNE (T-distributed Stochastic Neighbor Embedding)"
   ]
  },
  {
   "cell_type": "markdown",
   "id": "4c0df493",
   "metadata": {},
   "source": [
    "A great resource to read about <code>t-SNE</code> is the dedicated blog <a href=\"https://distill.pub/2016/misread-tsne/\">from GoogleBrain</a>. Most of these slides are inspired from it. "
   ]
  },
  {
   "cell_type": "markdown",
   "id": "91a3a8bf",
   "metadata": {},
   "source": [
    "**Key hyperparameters:**\n",
    "* <code>Perplexity</code> (distance at which points are considered to be linked)"
   ]
  },
  {
   "cell_type": "markdown",
   "id": "4e70364d",
   "metadata": {},
   "source": [
    "* <code>Perplexity</code> needs to be between 5 and 50, and less than the number of datapoints"
   ]
  },
  {
   "cell_type": "markdown",
   "id": "8d48d449",
   "metadata": {},
   "source": [
    "<img src=\"figures/t-sne-hyperparameters.png\" style=\"width:1200\">"
   ]
  },
  {
   "cell_type": "markdown",
   "id": "9772c1fe",
   "metadata": {},
   "source": [
    "**Key hyperparameters:**\n",
    "* <code>Step</code> (number of iterative computation steps)"
   ]
  },
  {
   "cell_type": "markdown",
   "id": "b1e3e789",
   "metadata": {},
   "source": [
    "<img src=\"figures/t-sne-steps.png\" style=\"width:1200\">"
   ]
  },
  {
   "cell_type": "markdown",
   "id": "1da6c26d",
   "metadata": {},
   "source": [
    "* Need sufficient <code>Steps</code> for algorithm to converge!"
   ]
  },
  {
   "cell_type": "markdown",
   "id": "3133bc3f",
   "metadata": {},
   "source": [
    "### What do cluster size and distance 'mean'?"
   ]
  },
  {
   "cell_type": "markdown",
   "id": "b11379de",
   "metadata": {},
   "source": [
    "<img src=\"figures/t-sne-distance.png\" style=\"width:1200\">"
   ]
  },
  {
   "cell_type": "markdown",
   "id": "9f206db6",
   "metadata": {},
   "source": [
    "* Cluster sizes in a t-SNE plot mean nothing (because t-SNE preserves local structure over global structure: large clusters of data tend to be expanded)\n",
    "* Distances between clusters might not mean anything\n",
    "* Random noise doesn’t always look random"
   ]
  },
  {
   "cell_type": "markdown",
   "id": "c7bf0fb2",
   "metadata": {},
   "source": [
    "<img src=\"figures/t-sne-topology.png\" style=\"width:1200\">"
   ]
  },
  {
   "cell_type": "markdown",
   "id": "a48c7b31",
   "metadata": {},
   "source": [
    "* For topology, you may need more than one plot"
   ]
  },
  {
   "cell_type": "markdown",
   "id": "fc908943",
   "metadata": {},
   "source": [
    "# Comparing t-SNE and PCA projections\n",
    "\n",
    "Create a plot that will contain three subplots:\n",
    "1. A plot of the original data woth `culmen Depth (mm)` vs `Culmen Length (mm)`\n",
    "2. A plot that contains a `PCA` projection of the data, plotting `PC1` vs `PC3`\n",
    "3. A plot that contains a `T-SNE` projection of the data, plotting `TSNE 1` vs `TSNE 2`. Use a `random_state=11` for your `T-SNE` to obtain a nice projection (though feel free to play with this parameter to see how unstable `T-SNE` projections can be.\n",
    "\n",
    "In all three cases, use color to show the species that each datapoint belongs to. Which projection does a better job at separating the species?"
   ]
  },
  {
   "cell_type": "code",
   "execution_count": null,
   "id": "af48a87a",
   "metadata": {},
   "outputs": [],
   "source": [
    "# ADD YOUR CODE HERE -- You can create new markdown and code cells\n",
    "                    \n",
    "                    \n",
    "                    "
   ]
  },
  {
   "cell_type": "markdown",
   "id": "4d6a8882",
   "metadata": {},
   "source": [
    "## UMAP: Uniform Manifold Approximation & Projection"
   ]
  },
  {
   "cell_type": "markdown",
   "id": "b57d6488",
   "metadata": {},
   "source": [
    "UMAP has some advantages over t-SNE, notably that it preserves the global geometry of the dataset better. However, like t-SNE, hyperparameters selection really matter (and not easy to choose), and the issues are the same as T-SNE (cluster size, distance, and random noise structure might not be meaningful, etc...)\n",
    "\n",
    "## Install UMAP\n",
    "\n",
    "We first need to install UMPA:\n"
   ]
  },
  {
   "cell_type": "code",
   "execution_count": null,
   "id": "b7c3dd00",
   "metadata": {},
   "outputs": [],
   "source": [
    "!conda install -c conda-forge umap-learn"
   ]
  },
  {
   "cell_type": "markdown",
   "id": "205dac2f",
   "metadata": {},
   "source": [
    "**Key hyperparameters:**\n",
    "* <code>n_neighbors</code>: The size of local neighborhood (in terms of number of neighboring sample points) used for manifold approximation"
   ]
  },
  {
   "cell_type": "markdown",
   "id": "80519123",
   "metadata": {},
   "source": [
    "* <code>min_distance</code>: The effective minimum distance between embedded points. "
   ]
  },
  {
   "cell_type": "markdown",
   "id": "76dd7f17",
   "metadata": {},
   "source": [
    "### Example of projection from 3D to 2D"
   ]
  },
  {
   "cell_type": "markdown",
   "id": "4d76767f",
   "metadata": {},
   "source": [
    "<img src=\"figures/UMAP-projection.png\" style=\"width:1500px\">\n",
    "<a href=\"https://pair-code.github.io/understanding-umap/\">Google Brain</a>"
   ]
  },
  {
   "cell_type": "markdown",
   "id": "3b4f5101",
   "metadata": {},
   "source": [
    "### UMAP preserves global context better than t-SNE "
   ]
  },
  {
   "cell_type": "markdown",
   "id": "b5d1e59d",
   "metadata": {},
   "source": [
    "<img src=\"figures/t-sne-vs-UMAP2.png\" style=\"width:1500px\">\n",
    "<a href=\"https://pair-code.github.io/understanding-umap/\">Google Brain</a>"
   ]
  },
  {
   "cell_type": "markdown",
   "id": "0dc6ff76",
   "metadata": {},
   "source": [
    "### On some datasets t-SNE works better than UMAP!"
   ]
  },
  {
   "cell_type": "markdown",
   "id": "98d95162",
   "metadata": {},
   "source": [
    "<img src=\"figures/UMAP-failings.png\" style=\"width:1000\">\n",
    "<a href=\"https://pair-code.github.io/understanding-umap/\">Google Brain</a>"
   ]
  },
  {
   "cell_type": "markdown",
   "id": "a5ab81cc",
   "metadata": {},
   "source": [
    "# Comparing UMAP and PCA projections\n",
    "\n",
    "Create a plot that will contain three subplots:\n",
    "1. A plot of the original data woth `culmen Depth (mm)` vs `Culmen Length (mm)`\n",
    "2. A plot that contains a `PCA` projection of the data, plotting `PC1` vs `PC3`\n",
    "3. A plot that contains a `UMAP` projection of the data, plotting `UMPA 1` vs `UMAP 2`\n",
    "\n",
    "In all three cases, use color to show the species that each datapoint belongs to. Which projection does a better job at separating the species?"
   ]
  },
  {
   "cell_type": "code",
   "execution_count": null,
   "id": "d64e6574",
   "metadata": {},
   "outputs": [],
   "source": [
    "# ADD YOUR CODE HERE -- You can create new markdown and code cells\n",
    "                    \n",
    "                    \n",
    "                    "
   ]
  },
  {
   "cell_type": "markdown",
   "id": "2e1f3c53",
   "metadata": {},
   "source": [
    "# 🏁 Finished!\n",
    "\n",
    "Well done! <span style=\"color:teal\">**Push your exercise to GitHub**</span>. And this was the last exercise of the module. I hope you enjoyed the two weeks spent together!"
   ]
  }
 ],
 "metadata": {
  "kernelspec": {
   "display_name": "Python 3 (ipykernel)",
   "language": "python",
   "name": "python3"
  },
  "language_info": {
   "codemirror_mode": {
    "name": "ipython",
    "version": 3
   },
   "file_extension": ".py",
   "mimetype": "text/x-python",
   "name": "python",
   "nbconvert_exporter": "python",
   "pygments_lexer": "ipython3",
   "version": "3.11.2"
  }
 },
 "nbformat": 4,
 "nbformat_minor": 5
}
