{
 "cells": [
  {
   "cell_type": "markdown",
   "id": "d2be9aef",
   "metadata": {},
   "source": [
    "<img src=\"https://drive.google.com/uc?id=1-hPP-XPm9_5M3orUgmompcVleQ5xvPST\" style=\"Width:1000px\">"
   ]
  },
  {
   "cell_type": "markdown",
   "id": "473ea9f2",
   "metadata": {},
   "source": [
    "# Optional Exercise on the Kaggle House Dataset"
   ]
  },
  {
   "cell_type": "markdown",
   "id": "322c7e5f",
   "metadata": {},
   "source": [
    "🎯 The `ML_Houses_dataset.csv` is a classic made up of 84 features! The data comes from the Boston housing market. Here, you can practice doing the following:\n",
    "\n",
    "- Investigate the features\n",
    "- Preprocess and encode them accordingly\n",
    "- Brainstorm feature engineering\n",
    "- Add them to your modelling\n",
    "- Perform feature selection\n",
    "- Train and test models\n",
    "- Enter your best performance into the <a href=\"https://www.kaggle.com/competitions/house-prices-advanced-regression-techniques\">Kaggle House Price Competition</a> to measure yourselve against other data scientists (make sure to read the rules: they ask for some peculiar metrics, and you may need to download the data straight from them if you want to enter the competitions)"
   ]
  },
  {
   "cell_type": "markdown",
   "id": "6736ad94",
   "metadata": {},
   "source": [
    "ℹ️ Make sure you refer to the description of the dataset [available here](https://wagon-public-datasets.s3.amazonaws.com/Machine%20Learning%20Datasets/ML_Houses_dataset_description.txt). This exercise has no test and no set solutions, but you can find many good example solutions on Kaggle or elsewhere. Plus you can compete against champions - good luck!"
   ]
  },
  {
   "cell_type": "code",
   "execution_count": null,
   "id": "12bd0710",
   "metadata": {},
   "outputs": [],
   "source": [
    "from nbta.utils import download_data\n",
    "download_data(id='144IUbRiGahdHkXgxJcZFsYQ80NJxJMiR')"
   ]
  },
  {
   "cell_type": "code",
   "execution_count": null,
   "id": "912b9e04",
   "metadata": {},
   "outputs": [],
   "source": [
    "# YOUR CODE HERE"
   ]
  }
 ],
 "metadata": {
  "kernelspec": {
   "display_name": "Python 3 (ipykernel)",
   "language": "python",
   "name": "python3"
  },
  "language_info": {
   "codemirror_mode": {
    "name": "ipython",
    "version": 3
   },
   "file_extension": ".py",
   "mimetype": "text/x-python",
   "name": "python",
   "nbconvert_exporter": "python",
   "pygments_lexer": "ipython3",
   "version": "3.11.2"
  }
 },
 "nbformat": 4,
 "nbformat_minor": 5
}
