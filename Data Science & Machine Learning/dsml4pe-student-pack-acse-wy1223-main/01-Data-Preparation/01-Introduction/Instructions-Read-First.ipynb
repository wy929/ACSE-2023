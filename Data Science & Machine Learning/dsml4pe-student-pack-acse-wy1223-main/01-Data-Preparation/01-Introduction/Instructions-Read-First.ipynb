{
 "cells": [
  {
   "cell_type": "markdown",
   "id": "77a36f2b",
   "metadata": {},
   "source": [
    "<img src=\"https://drive.google.com/uc?id=1-cL5eOpEsbuIEkvwW2KnpXC12-PAbamr\" style=\"Width:1000px\">"
   ]
  },
  {
   "cell_type": "markdown",
   "id": "eaf847b1",
   "metadata": {},
   "source": [
    "# Instructions\n",
    "\n",
    "Welcome to the <strong style=\"color:teal\">Data Science and Machine Learning for Planet Earth</strong> module. We will be doing machine learning exercises during the next two weeks, and this notebook contains some useful information."
   ]
  },
  {
   "cell_type": "markdown",
   "id": "10aa864d",
   "metadata": {},
   "source": [
    "## Installing the necessary dependencies\n",
    "\n",
    "In a terminal, navigate to the module directory (where this `README.md` file is located). Then, to create the `dsml4pe` environment run:\n",
    "\n",
    "`conda env create -f environment.yml`\n",
    "\n",
    "The environment can then be activated via\n",
    "\n",
    "`conda activate dsml4pe`"
   ]
  },
  {
   "cell_type": "markdown",
   "id": "716dd5ad",
   "metadata": {},
   "source": [
    "##  📑 Canonical imports\n",
    "Although in theory you could import any libary under any name your choose, there are best practices for common data-science library that are so ingrained that you should always follow them. Please follow these for this week (and beyond):\n",
    "\n",
    "* **Numpy**: <code>import numpy as np</code>\n",
    "* **Pandas**: <code>import pandas as pd</code>\n",
    "* **Matplotlib** (in a notebook): <code>import matplotlib.pyplot as plt</code>\n",
    "* **Seaborn**: <code>import seaborn as sns</code>\n",
    "* **Scikit-learn**: <code>see below</code>\n",
    "<br>\n",
    "\n",
    "<img src=\"https://drive.google.com/uc?id=1te6yagT-qFdszMK3yvp4yb-0IiM56Phm\" style=\"width:500\">"
   ]
  },
  {
   "cell_type": "markdown",
   "id": "cfcd46e5",
   "metadata": {},
   "source": [
    "## 🧱 Module and Class imports in Scikit-learn\n",
    "Scikit-learn is a vast libary, and so learning the different modules and submodules is a challenge in itself. There are many ways to import modules and classes in notebooks, but there is a best practice, certainly for `sklearn`!."
   ]
  },
  {
   "cell_type": "markdown",
   "id": "0f5b55d7",
   "metadata": {},
   "source": [
    "🚫 Import of entire library <br>\n",
    "<code>import sklearn\n",
    "model=sklearn.linear_model.LinearRegression</code> <br>\n",
    "**Must type library and module prefix every time**\n"
   ]
  },
  {
   "cell_type": "markdown",
   "id": "d13fb50b",
   "metadata": {},
   "source": [
    "🚫 import of entire module\n",
    "import sklearn.linear_model\n",
    "model = linear_model.LinearRegression()\n",
    "\n",
    "Must type module prefix every time"
   ]
  },
  {
   "cell_type": "markdown",
   "id": "82b47c08",
   "metadata": {},
   "source": [
    "🚫 Import of entire module\n",
    "from sklearn import linear_model\n",
    "model = linear_model.LinearRegression()\n",
    "Must type module prefix every time"
   ]
  },
  {
   "cell_type": "markdown",
   "id": "33931c47",
   "metadata": {},
   "source": [
    "🚫 Import of entire module<br>\n",
    "<code>from sklearn.linear_model import *\n",
    "model = LinearRegression()</code><br>\n",
    "**Implicit import of a lot of classes**"
   ]
  },
  {
   "cell_type": "markdown",
   "id": "08720da8",
   "metadata": {},
   "source": [
    "*\"Explicit is better than implicit\" - The Zen of Python*<br>"
   ]
  },
  {
   "cell_type": "markdown",
   "id": "a84fba62",
   "metadata": {},
   "source": [
    "✅  <code>from sklearn.linear_model import linearRegression()\n",
    "model = LinearRegression()</code><br>"
   ]
  },
  {
   "cell_type": "markdown",
   "id": "dff59f55",
   "metadata": {},
   "source": [
    "# 🧪 How tests are used in this class\n",
    "\n",
    "By `tests` I mean `PyTest`, not assessment! Here is what is useful to know:\n",
    "\n",
    "* Exercises will have coding test within each notebook (see example below).\n",
    "* Run these tests: the test error or success will tell you if you have succeeded, or if there is a mistake in your code\n",
    "* This gives you a certain degree of independence in progressing with your work\n",
    "* You can check the test code in the `tests` folder, in case you want to know what the pass criteria are\n",
    "* Usually, I will ask you to **name a variable in a certain way** in your code, so the test can pick it up. For instance, I would ask you to \"save the value of your `accuracy_score` into a variable named `score`\". Make sure to save the variable in that name, and beware of capitalization. Otherwise, the test will fail.\n",
    "* Tests are not perfect: passing a test could still mean you have a bug, and not passing a test could mean I have a bug in my code. So, use your good judgement.\n",
    "* The tests are for you, not for me: I don't collect the test scores, and this does not contribute to your module mark. So use them to guide your coding: run the tests!!!\n",
    "\n",
    "### Do the following:\n",
    "\n",
    "Below, I give an example with 3 variables set at the correct values for the test to pass. I will set 4 tests based on these three variables.\n",
    "\n",
    "Try the test to see the results, and then change the values of the `variables` and **rerun the test** to see what errors are outputed. You can change the values of the variable, or change the types of the variables (in which case the test will crash, but also let you know why it crashed (<span style=\"color:red\">TypeError</span>). \n",
    "\n",
    "Learn to read the test results to understand what it means, and guide you in debuging your code!"
   ]
  },
  {
   "cell_type": "code",
   "execution_count": null,
   "id": "1209a3ab",
   "metadata": {},
   "outputs": [],
   "source": [
    "accuracy = 0.3\n",
    "best_model = 'svc'\n",
    "predictions = [1,2,5,6]"
   ]
  },
  {
   "cell_type": "markdown",
   "id": "00fd8dc2",
   "metadata": {},
   "source": [
    "### ☑️ Test your code"
   ]
  },
  {
   "cell_type": "code",
   "execution_count": null,
   "id": "0adda7fe",
   "metadata": {},
   "outputs": [],
   "source": [
    "from nbresult import ChallengeResult\n",
    "\n",
    "result = ChallengeResult('first_time',\n",
    "                         score = accuracy,\n",
    "                         model = best_model,\n",
    "                         predictions = predictions\n",
    ")\n",
    "\n",
    "result.write()\n",
    "print(result.check())"
   ]
  },
  {
   "cell_type": "markdown",
   "id": "eff88e08",
   "metadata": {},
   "source": [
    "# 🎲 Setting the `random_state`\n",
    "\n",
    "For tests to be reproducible, we need the `random_seed` to be similar between my code and your code (and your friends code). This is why from now on, always use the values `42` when you use an algorithm that requires a random seed value. This includes `train_test_split`, `RandomSearchCV`, `GridSearchCV`, and many others.\n"
   ]
  },
  {
   "cell_type": "markdown",
   "id": "a87dfc8f",
   "metadata": {},
   "source": [
    "# 🏁 Finished!\n",
    "\n",
    "Well done! <span style=\"color:teal\">**Push your exercise to GitHub**</span>, and move on to the next one."
   ]
  },
  {
   "cell_type": "markdown",
   "id": "fb942b75",
   "metadata": {},
   "source": [
    "# 🥳 I hope that you will enjoy these next two weeks!!!"
   ]
  }
 ],
 "metadata": {},
 "nbformat": 4,
 "nbformat_minor": 5
}
