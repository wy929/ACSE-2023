{
 "cells": [
  {
   "cell_type": "markdown",
   "id": "75decd4e-5c84-4a5f-9af1-1f5184b2cfdf",
   "metadata": {
    "editable": true,
    "slideshow": {
     "slide_type": ""
    },
    "tags": []
   },
   "source": [
    "**Day 1**: Data Preprocessing 🧹 (***live in 1.47***)"
   ]
  },
  {
   "cell_type": "markdown",
   "id": "5425ab5d-ee7c-43e9-8f81-2b9b11e792e8",
   "metadata": {
    "editable": true,
    "slideshow": {
     "slide_type": "slide"
    },
    "tags": []
   },
   "source": [
    "<center><h1 style=\"color:maroon\">An Introduction to Data Science and Machine Learning</h1>\n",
    "    <img src=\"https://drive.google.com/uc?id=11N1QkXeEBD-2bpNaFxbfnFHS0YVftt0k\" style=\"width:1300px\">\n",
    "    <h3><span style=\"color: #045F5F\">Data Science & Machine Learning for Planet Earth Lecture Series</span></h3><h6><i> by Cédric M. John <span style=\"size:6pts\">(2023)</span></i></h6></center>"
   ]
  },
  {
   "cell_type": "markdown",
   "id": "f101a180",
   "metadata": {
    "editable": true,
    "slideshow": {
     "slide_type": "subslide"
    },
    "tags": []
   },
   "source": [
    "## Plan for this lecture 👨🏿‍🎓 "
   ]
  },
  {
   "cell_type": "markdown",
   "id": "5d5fa341",
   "metadata": {
    "slideshow": {
     "slide_type": "fragment"
    }
   },
   "source": [
    "* Module introduction\n",
    "* The landscape of Machine Learning \n",
    "* Introduction to Scikit-Learn \n",
    "* Overview of Data Preprocessing \n",
    "* Concept of Generalization\n",
    "* Parametric vs non-parametric models"
   ]
  },
  {
   "cell_type": "markdown",
   "id": "152d6ea9",
   "metadata": {
    "slideshow": {
     "slide_type": "subslide"
    }
   },
   "source": [
    "## Intended learning outcomes 👨🏿‍🎓 "
   ]
  },
  {
   "cell_type": "markdown",
   "id": "b389db66",
   "metadata": {
    "editable": true,
    "slideshow": {
     "slide_type": "fragment"
    },
    "tags": []
   },
   "source": [
    "* Introduction to Data Science \n",
    "* Consolidate your NumPy and Pandas skills \n",
    "* Confidently preprocess data for analysis \n",
    "* Basic use of the Scikit-learn Library "
   ]
  },
  {
   "cell_type": "markdown",
   "id": "d149bbb3-8b69-4877-abe7-ff3949e06462",
   "metadata": {
    "editable": true,
    "slideshow": {
     "slide_type": "slide"
    },
    "tags": []
   },
   "source": [
    "# Introduction to the Module\n",
    "<br>\n",
    "\n",
    "<center><img src=\"https://drive.google.com/uc?id=11CdC6-1envCyq5m7Jni_Nx4JmtdwAb5W\" style=\"width:900px;\"><br>\n",
    " © Cédric John, 2022; Image generated with <a href=\"https://openai.com/blog/dall-e/\">DALL-E</a>\n",
    "<br>Prompt: A futuristic looking office with a large bay window showing a landscape of a red planet with a dark night sky full of stars.</center>"
   ]
  },
  {
   "cell_type": "markdown",
   "id": "fff57c5d-9c99-4ade-b7ac-3299a6bd7bfd",
   "metadata": {
    "animation": true,
    "editable": true,
    "jp-MarkdownHeadingCollapsed": true,
    "slideshow": {
     "slide_type": "subslide"
    },
    "tags": []
   },
   "source": [
    "# How this module fits within your MSc\n",
    "<center><img src=\"https://drive.google.com/uc?id=11Z8MLiC6Uh74VkfDa7urZ0aRkGCCpcaJ\" style=\"width:1500px;\"></center>"
   ]
  },
  {
   "cell_type": "markdown",
   "id": "55e5a853-9fe4-46b4-9d4e-b7877d21a456",
   "metadata": {
    "editable": true,
    "slideshow": {
     "slide_type": "subslide"
    },
    "tags": []
   },
   "source": [
    "# The plan for the module\n",
    "## Week 1 - Data Science (mostly)"
   ]
  },
  {
   "cell_type": "markdown",
   "id": "f67fb3a8-17dd-421e-98a3-b70c77eb02a0",
   "metadata": {
    "editable": true,
    "slideshow": {
     "slide_type": "fragment"
    },
    "tags": []
   },
   "source": [
    "* **Day 1**: Data Preprocessing 🧹 [how to prepare your data] (***live in 1.47***)"
   ]
  },
  {
   "cell_type": "markdown",
   "id": "37fdf30f-319d-448e-b411-9ffb227fc17c",
   "metadata": {
    "editable": true,
    "slideshow": {
     "slide_type": "fragment"
    },
    "tags": []
   },
   "source": [
    "* **Day 2**: Performance metrics 📏 [Assessing the performance of algorithms] (***live in 1.49/1.50***)"
   ]
  },
  {
   "cell_type": "markdown",
   "id": "00b713d6-e166-4ab3-8d04-280eed9273c5",
   "metadata": {
    "editable": true,
    "slideshow": {
     "slide_type": "fragment"
    },
    "tags": []
   },
   "source": [
    "* **Day 3**: Optimization 🕵️ [how machine learning works under the hood] (***live in 1.51***)"
   ]
  },
  {
   "cell_type": "markdown",
   "id": "e5d068b4-6508-4f23-a4b4-313c84856cc1",
   "metadata": {
    "editable": true,
    "slideshow": {
     "slide_type": "fragment"
    },
    "tags": []
   },
   "source": [
    "* **Day 4**: Deep-Dive into Data Modelling 🤿 [Fundamental principles of ML] (***live in 1.47***)"
   ]
  },
  {
   "cell_type": "markdown",
   "id": "c9253242-b8c9-4d0d-8ac1-f376a7bce213",
   "metadata": {
    "editable": true,
    "slideshow": {
     "slide_type": "fragment"
    },
    "tags": []
   },
   "source": [
    "* **Day 5**: ML Workflow 👷 [How to code efficiently and professionally for ML] (***live in 1.49/1.50***)"
   ]
  },
  {
   "cell_type": "markdown",
   "id": "acccdc15-150b-418b-b26d-0384a48b0e49",
   "metadata": {
    "editable": true,
    "slideshow": {
     "slide_type": "subslide"
    },
    "tags": []
   },
   "source": [
    "## Week 2 - Machine Learning algorithms (mostly)"
   ]
  },
  {
   "cell_type": "markdown",
   "id": "cc3b44c9-ac19-4b33-bfae-3aa6ffb22eac",
   "metadata": {
    "editable": true,
    "slideshow": {
     "slide_type": "fragment"
    },
    "tags": []
   },
   "source": [
    "* **Day 6**: Model tuning 🎵 [Finding the best hyperparameters of your model] (***live in 1.51***)"
   ]
  },
  {
   "cell_type": "markdown",
   "id": "72538065-d557-40e6-8c99-2e54a1ed24ac",
   "metadata": {
    "editable": true,
    "slideshow": {
     "slide_type": "fragment"
    },
    "tags": []
   },
   "source": [
    "* **Day 7**: Ensemble Learning 🫐 [The most powerful statistical machine learning approach] (***live in 1.47***)"
   ]
  },
  {
   "cell_type": "markdown",
   "id": "aec15c4e-7edb-48bb-9686-f9865c9b6b70",
   "metadata": {
    "editable": true,
    "slideshow": {
     "slide_type": "fragment"
    },
    "tags": []
   },
   "source": [
    "* **Day 8**: Natural Language Processing 📰 [How can we prepare and use text data?] (***live in 1.49/1.50***)"
   ]
  },
  {
   "cell_type": "markdown",
   "id": "13589cee-8550-418a-83ac-528c43136e6b",
   "metadata": {
    "editable": true,
    "slideshow": {
     "slide_type": "fragment"
    },
    "tags": []
   },
   "source": [
    "* **Day 9**: Unsupervised Learning 👻 [ML without a label] (***live in 1.51***)"
   ]
  },
  {
   "cell_type": "markdown",
   "id": "9fcdc5a5-9c22-4488-8c8b-aab207ff0bf7",
   "metadata": {
    "editable": true,
    "slideshow": {
     "slide_type": "fragment"
    },
    "tags": []
   },
   "source": [
    "* **Day 10**: Assessed coursework (9 am to 5 pm) 🧪 [Self-explanatory]"
   ]
  },
  {
   "cell_type": "markdown",
   "id": "16e6e74f-68db-46fb-b283-b7bf951ee0d4",
   "metadata": {
    "editable": true,
    "slideshow": {
     "slide_type": "subslide"
    },
    "tags": []
   },
   "source": [
    "# What algorithms will you learn?"
   ]
  },
  {
   "cell_type": "markdown",
   "id": "3e09bbc6-c3b1-41c0-80e3-f2da7a01dcb9",
   "metadata": {
    "editable": true,
    "slideshow": {
     "slide_type": "fragment"
    },
    "tags": []
   },
   "source": [
    "## Week 1\n",
    "* LinearRegression [a repeat]\n",
    "* LogisticRegression [you have seen the logistic function in math]\n",
    "* K-Nearest Neighbors\n",
    "* SGDRegressor and SGDClassifier"
   ]
  },
  {
   "cell_type": "markdown",
   "id": "d3645e5b-711f-46fe-96e3-afd944d5a86f",
   "metadata": {
    "editable": true,
    "jp-MarkdownHeadingCollapsed": true,
    "slideshow": {
     "slide_type": "fragment"
    },
    "tags": []
   },
   "source": [
    "## Week 2\n",
    "***Supervised:***\n",
    "* Suport Vector Machine\n",
    "* Decision Trees\n",
    "* RandomForest\n",
    "* Gradient Booster Trees\n",
    "* AdaBoost\n",
    "* Naive Bay Classifier\n",
    "* Multi Layers Perceptron (a neural net)\n",
    "\n",
    "***Unsupervised:***\n",
    "* PCA [a repeat]\n",
    "* K-Means\n",
    "* DBSCAN and HDBSCAN\n",
    "* iFor\n",
    "* Single Class SVM\n",
    "* UMAP and T-SNE [optional]"
   ]
  },
  {
   "cell_type": "markdown",
   "id": "6498312a-6481-4b06-a5a9-a2fcf1f7e0ef",
   "metadata": {
    "editable": true,
    "slideshow": {
     "slide_type": "subslide"
    },
    "tags": []
   },
   "source": [
    "# A typical day during the ML module\n",
    "**Monday, Tuesday, Thursday, Friday [week 1 only]:**"
   ]
  },
  {
   "cell_type": "markdown",
   "id": "77f3af95-431e-47fd-9165-c91add07d787",
   "metadata": {
    "editable": true,
    "slideshow": {
     "slide_type": "fragment"
    },
    "tags": []
   },
   "source": [
    "* **9:00-11:00 am**: Lecture - sometime this will be longer, up to noon maximum"
   ]
  },
  {
   "cell_type": "markdown",
   "id": "c8aec31b-24c5-446b-b84b-6ceb62d0a4b4",
   "metadata": {
    "editable": true,
    "slideshow": {
     "slide_type": "fragment"
    },
    "tags": []
   },
   "source": [
    "* **11:00 am [or later] - 4:00 pm**: Practical exercises with the help of TA"
   ]
  },
  {
   "cell_type": "markdown",
   "id": "b5b54472-b267-43ba-9b62-fbe7641679d7",
   "metadata": {
    "editable": true,
    "slideshow": {
     "slide_type": "fragment"
    },
    "tags": []
   },
   "source": [
    "* **4:00 pm - 5:00 pm**: Live coding in room 1.51 [going over one of the exercises]. This is **optional** so feel free to not attend if you prefer not to."
   ]
  },
  {
   "cell_type": "markdown",
   "id": "ffdcdce5-4e59-4bb9-b94a-70bac56ea826",
   "metadata": {
    "editable": true,
    "slideshow": {
     "slide_type": "fragment"
    },
    "tags": []
   },
   "source": [
    "**On Wednesdays**\n",
    "* **9:00-11:00 am**: Lecture, followed by short exercise session. Then free from noon onwards."
   ]
  },
  {
   "cell_type": "markdown",
   "id": "e5cbb546-07e8-42d5-ab9f-1d831dd90f14",
   "metadata": {
    "editable": true,
    "slideshow": {
     "slide_type": "subslide"
    },
    "tags": []
   },
   "source": [
    "## Assessment 💯"
   ]
  },
  {
   "cell_type": "markdown",
   "id": "ab0463df-2a8f-407a-9110-4d102bcb387f",
   "metadata": {
    "editable": true,
    "slideshow": {
     "slide_type": "fragment"
    },
    "tags": []
   },
   "source": [
    "### Timed Coursework ⏰\n",
    "* <code>Friday, November 17th, 9 am to 5 pm </code>(you have the whole day)\n",
    "* Checks that you can put the theory into practice [***NOT a theory or math exam***]\n",
    "* You are given data, and asked to solve a 'real' data science problem using your skillset\n",
    "* Very similar to the exercises you will do, especially the \"Data Problems\" [see below]"
   ]
  },
  {
   "cell_type": "markdown",
   "id": "799384e7-a33a-4869-8ee2-613105ab935e",
   "metadata": {
    "editable": true,
    "slideshow": {
     "slide_type": "fragment"
    },
    "tags": []
   },
   "source": [
    "### Marking Criteria ✔️\n",
    "* How well you solve the problem / answer the questions\n",
    "* How clean (sustainable) your code is (good syntax, clean notebook, notebook running from top to bottom, good use of markdown, some/not too many comments, etc...)\n",
    "* How well you can translate your notebook into a Python Class or script\n",
    "* How complete your solution is\n",
    "* ***No plagiarism or naive copy-pasting of code***"
   ]
  },
  {
   "cell_type": "markdown",
   "id": "b3d3555f-5a60-4da6-9a5b-4fe2c040f2ac",
   "metadata": {
    "animation": true,
    "editable": true,
    "slideshow": {
     "slide_type": "subslide"
    },
    "tags": []
   },
   "source": [
    "# Different skill levels (2022/2023)\n",
    "<center><img src=\"https://drive.google.com/uc?id=110MqM7PyhqCAsQg64Ubycau39CfR5Uwo\" style=\"width:1500px;\"></center>"
   ]
  },
  {
   "cell_type": "markdown",
   "id": "008c1478-5f50-4cc5-a31a-ea450d5c28b5",
   "metadata": {
    "animation": true,
    "editable": true,
    "slideshow": {
     "slide_type": ""
    },
    "tags": []
   },
   "source": [
    "<center><img src=\"https://drive.google.com/uc?id=11O696MCZy0IHKsP4oBHDnpxLGdzKQXAu\" style=\"width:1500px;\"></center>"
   ]
  },
  {
   "cell_type": "markdown",
   "id": "317f1a63",
   "metadata": {
    "editable": true,
    "slideshow": {
     "slide_type": "subslide"
    },
    "tags": []
   },
   "source": [
    "### \"Skill Building\" Exercises:"
   ]
  },
  {
   "cell_type": "markdown",
   "id": "a407d3ad-6b2e-4efd-81e6-e792787940b7",
   "metadata": {
    "editable": true,
    "slideshow": {
     "slide_type": ""
    },
    "tags": []
   },
   "source": [
    "<img src=\"https://drive.google.com/uc?id=1-cL5eOpEsbuIEkvwW2KnpXC12-PAbamr\" style=\"Width:500px\">"
   ]
  },
  {
   "cell_type": "markdown",
   "id": "addc5569-8cdc-4d46-bcce-f7d574e544d7",
   "metadata": {
    "editable": true,
    "slideshow": {
     "slide_type": ""
    },
    "tags": []
   },
   "source": [
    "* These are essential exercises to master some of the theory given in the classroom. They are meant to be relatively short (< 1 hour)."
   ]
  },
  {
   "cell_type": "markdown",
   "id": "185c34e8-21f2-46ff-bc75-a91239336b1c",
   "metadata": {
    "editable": true,
    "slideshow": {
     "slide_type": "subslide"
    },
    "tags": []
   },
   "source": [
    "### \"Data Problem\" Exercises:\n",
    "<img src=\"https://drive.google.com/uc?id=1-d7H1l1lJ28_sLcd9Vvh_N-yro7CJZcZ\" style=\"Width:500px\">"
   ]
  },
  {
   "cell_type": "markdown",
   "id": "cdc7fd9d-4732-4790-abeb-79a6779da899",
   "metadata": {
    "editable": true,
    "slideshow": {
     "slide_type": ""
    },
    "tags": []
   },
   "source": [
    "*  These are essential exercises that apply the skills learned above. They often take you from raw data to a finished solution. These are similar to the test you will take on the last day (so good practice)."
   ]
  },
  {
   "cell_type": "markdown",
   "id": "94016eea-1ba6-4e7c-8977-53aecfe23a0d",
   "metadata": {
    "editable": true,
    "slideshow": {
     "slide_type": "subslide"
    },
    "tags": []
   },
   "source": [
    "### \"Further Learning\" Exercises:\n",
    "<img src=\"https://drive.google.com/uc?id=1-hPP-XPm9_5M3orUgmompcVleQ5xvPST\" style=\"Width:500px\">"
   ]
  },
  {
   "cell_type": "markdown",
   "id": "aef49cfb-61cd-4414-8aa0-953db7ac6698",
   "metadata": {
    "editable": true,
    "slideshow": {
     "slide_type": ""
    },
    "tags": []
   },
   "source": [
    "* These are extra exercises and theory (not part of the assessment) for those of you who are fast or want to learn further."
   ]
  },
  {
   "cell_type": "markdown",
   "id": "06dcd878-6167-4fd7-989e-f6330605ffc6",
   "metadata": {
    "editable": true,
    "slideshow": {
     "slide_type": "subslide"
    },
    "tags": []
   },
   "source": [
    "### Best Practice:\n",
    "* **🎯 Expectations**: To do well in this module, you simply need to do and understand the exercises. You should achieve 2 to 3 exercises a day, and at least attempt the data problems ***[all solutions will be given to you at the end of the day for review]***"
   ]
  },
  {
   "cell_type": "markdown",
   "id": "7ed75e60",
   "metadata": {
    "editable": true,
    "slideshow": {
     "slide_type": "fragment"
    },
    "tags": []
   },
   "source": [
    "* **🍌 Approach**: Try as much as possible to solve the problems on your own first, <span style=\"color: blue\">use documentation and StackOverview</span> and debug your own code before calling for help. Beware of `chatGPT` and `Co-pilote`: sklearn has changed a lot in version 1.2, and your code will come across as antiquated."
   ]
  },
  {
   "cell_type": "markdown",
   "id": "04f00ee3",
   "metadata": {
    "editable": true,
    "slideshow": {
     "slide_type": "fragment"
    },
    "tags": []
   },
   "source": [
    "* **🧪 In notebook tests**: I have created tests for you to automatically check your solutions - use them!"
   ]
  },
  {
   "cell_type": "markdown",
   "id": "64160cfa-e7ec-4aad-8a8f-f70b8fb995c0",
   "metadata": {
    "editable": true,
    "slideshow": {
     "slide_type": "fragment"
    },
    "tags": []
   },
   "source": [
    "* **🐱‍💻 Push to GitHub**: Push your solutions to GitHub often - you will need to do this for your test so learn early and practice, practice, practice!"
   ]
  },
  {
   "cell_type": "markdown",
   "id": "32cc39b4-ec9f-4953-afdb-661b538ca8a5",
   "metadata": {
    "editable": true,
    "slideshow": {
     "slide_type": "slide"
    },
    "tags": []
   },
   "source": [
    "\n",
    "# Machine Learning vs General Programming"
   ]
  },
  {
   "cell_type": "markdown",
   "id": "492d01df",
   "metadata": {
    "slideshow": {
     "slide_type": "fragment"
    }
   },
   "source": [
    "* In <span style=\"color: blue\">**general programming**</span>, the output is the result of applying a set of rules (the \"program\") to input data. "
   ]
  },
  {
   "cell_type": "markdown",
   "id": "0f4980a0-918c-40f5-ab7d-97b30c8c4437",
   "metadata": {
    "slideshow": {
     "slide_type": "fragment"
    }
   },
   "source": [
    "* In <span style=\"color: teal\">**machine learning**</span> the rules are not pre-defined: instead, the input (**features**) and expected outputs (**labels**) are given and the computer learns the rules from the underlying statistics of the data."
   ]
  },
  {
   "cell_type": "markdown",
   "id": "87f35e17",
   "metadata": {
    "editable": true,
    "slideshow": {
     "slide_type": "subslide"
    },
    "tags": []
   },
   "source": [
    "## Types of Machine Learning Approaches\n",
    "<center><img src=\"https://drive.google.com/uc?id=11Kndq_BBgRea19ATaTuwPHLJJEDaNSCR\" style=\"height:1000px;\"></center>\n",
    "<a href=\"https://www.elsevier.com/books/python-programming-and-numerical-methods/kong/978-0-12-819549-9\">Kong et al (2020)</a>"
   ]
  },
  {
   "cell_type": "markdown",
   "id": "8bd6a437",
   "metadata": {
    "animation": true,
    "editable": true,
    "slideshow": {
     "slide_type": "subslide"
    },
    "tags": []
   },
   "source": [
    "## Math and Statistics vs Machine Learning\n",
    "<center><img src=\"https://drive.google.com/uc?id=10wOlCBv8HoBmHb9aVda0YwxDekvBVHr5\" style=\"height:1000px;\"></center>"
   ]
  },
  {
   "cell_type": "markdown",
   "id": "7a7c48bc",
   "metadata": {
    "editable": true,
    "slideshow": {
     "slide_type": "subslide"
    },
    "tags": []
   },
   "source": [
    "## Model vs Data-Centric AI\n",
    "<center><img src=\"https://drive.google.com/uc?id=11R9RVy7AwP6RYTHJrlZAk220GJJV_hF6\" style=\"height:1000px;\"></center>\n",
    "<a href=\"https://landing.ai/tips-for-a-data-centric-ai-approach/\">Andrew Ng, Landing AI (2021)</a>\n",
    "\n",
    "\n"
   ]
  },
  {
   "cell_type": "markdown",
   "id": "9a3e62c2-e386-4fbb-9910-9d26190d7db7",
   "metadata": {
    "editable": true,
    "slideshow": {
     "slide_type": "slide"
    },
    "tags": []
   },
   "source": [
    "# Data Preparation\n",
    "<br>\n",
    "\n",
    "<center><img src=\"https://drive.google.com/uc?id=11UMwO1Xa0Nu17PDE7Rx6o8bfg_kkad-o\" style=\"width:900px;\"><br>\n",
    " © Cédric John, 2022; Image generated with <a href=\"https://openai.com/blog/dall-e/\">DALL-E</a>\n",
    "<br>Prompt: A 35 mm upward looking view of an astronaute in gray space suite shovelling a pile of old floppy disks, digital art.</center>"
   ]
  },
  {
   "cell_type": "markdown",
   "id": "7cd3a080",
   "metadata": {
    "editable": true,
    "slideshow": {
     "slide_type": "subslide"
    },
    "tags": []
   },
   "source": [
    "## Data Types\n",
    "\n",
    "<center><img src=\"https://drive.google.com/uc?id=1162QsBrPKXbMfmXS8Bzu8ETX2bvcMnCA\" style=\"width:2000px;\"></center>"
   ]
  },
  {
   "cell_type": "markdown",
   "id": "2521eeb6-c939-47af-ae75-c718a01b5120",
   "metadata": {
    "editable": true,
    "slideshow": {
     "slide_type": "subslide"
    },
    "tags": []
   },
   "source": [
    "## Jargon\n",
    "<center><img src=\"https://drive.google.com/uc?id=11F2698ssDz0X6xMCLWRuIT6biUhZ9sLZ\" style=\"width:2000px;\"></center> \n"
   ]
  },
  {
   "cell_type": "markdown",
   "id": "5d0cbdc0-95bb-42b5-93a4-5d757d0bbf96",
   "metadata": {
    "editable": true,
    "slideshow": {
     "slide_type": "subslide"
    },
    "tags": []
   },
   "source": [
    "## Machine Learning: General Workflow\n",
    "\n",
    "<img align=\"center\" src=\"https://drive.google.com/uc?id=11LF0NUbHcDGtjk5mIhhbFfskcShdJC6o\" width=\"1500px\"/>\n",
    "\n",
    "\n",
    "<a href=\"https://link.springer.com/book/10.1007/978-1-4842-3207-1\">Sarkar et al (2018)</a>, chapter 1\n"
   ]
  },
  {
   "cell_type": "markdown",
   "id": "d5288dd0-e0b2-42a0-83c5-4dcb990ec7ae",
   "metadata": {
    "editable": true,
    "slideshow": {
     "slide_type": "subslide"
    },
    "tags": []
   },
   "source": [
    "\n",
    "<img align=\"center\" src=\"https://drive.google.com/uc?id=11YdUGrbL3fsGF4iVV3izaKzGJWDCZmyN\" width=\"1400px\"/>\n",
    "<a href=\"https://visit.figure-eight.com/rs/416-ZBE-142/images/CrowdFlower_DataScienceReport_2016.pdf\">CrowdFlower Data Science Report (2016)</a>\n"
   ]
  },
  {
   "cell_type": "markdown",
   "id": "a7744d2c-63c9-4b4f-8591-8ffffd54cbf5",
   "metadata": {
    "slideshow": {
     "slide_type": "subslide"
    }
   },
   "source": [
    "## Data Preparation "
   ]
  },
  {
   "cell_type": "markdown",
   "id": "ecd53c47-fd16-4720-8384-cd740bfb31c9",
   "metadata": {
    "editable": true,
    "slideshow": {
     "slide_type": "-"
    },
    "tags": []
   },
   "source": [
    "<img align=\"center\" src=\"https://drive.google.com/uc?id=1188NsYPjRWBYXQhhIdKPbePD1oRNXyVl\" width=\"1800px\"/>\n"
   ]
  },
  {
   "cell_type": "markdown",
   "id": "42644fe4-8e29-4e5b-bd48-354a1561ad12",
   "metadata": {
    "slideshow": {
     "slide_type": "slide"
    }
   },
   "source": [
    "## Scikit-learn "
   ]
  },
  {
   "cell_type": "markdown",
   "id": "6529ff0a-cd16-490b-9579-c5e9d24b0499",
   "metadata": {
    "slideshow": {
     "slide_type": "fragment"
    }
   },
   "source": [
    "<a href=https://scikit-learn.org>Scikit-learn (Sklearn)</a> is a Machine Learning library that provides data preprocessing, modelling, and model selection tools.\n"
   ]
  },
  {
   "cell_type": "markdown",
   "id": "db55ae95",
   "metadata": {
    "editable": true,
    "slideshow": {
     "slide_type": "fragment"
    },
    "tags": []
   },
   "source": [
    "<img align=\"center\" src=\"https://drive.google.com/uc?id=119gP04wV87LhPexhIo-L-vs6XKhq01O5\" width=\"1300px\"/>\n",
    "<a href=\"https://storage.googleapis.com/kaggle-media/surveys/Kaggle's%20State%20of%20Machine%20Learning%20and%20Data%20Science%202021.pdf\">Kaggle State of Machine Learning, 2021</a>\n"
   ]
  },
  {
   "cell_type": "markdown",
   "id": "da741777-e26d-4504-a14c-9aa0e3ac58ab",
   "metadata": {
    "slideshow": {
     "slide_type": "subslide"
    }
   },
   "source": [
    "### Sklearn structure\n",
    "\n",
    "* Sklearn is organized by **modules**\n",
    "* Each module contains tools in the form of **classes**\n"
   ]
  },
  {
   "cell_type": "markdown",
   "id": "ff647b23-8c0e-4272-b2bd-1cd8ef398570",
   "metadata": {
    "editable": true,
    "slideshow": {
     "slide_type": "slide"
    },
    "tags": []
   },
   "source": [
    "# Data Exploration\n",
    "<br>\n",
    "\n",
    "<center><img src=\"https://drive.google.com/uc?id=1139XxwSg8PlR8CoYnQ_g-cWgEK0-6l6c\" style=\"width:900px;\"><br>\n",
    " © Cédric John, 2022; Image generated with <a href=\"https://openai.com/blog/dall-e/\">DALL-E</a>\n",
    "<br>Prompt: An explorer walking through the rainforest of the Americas, dramatic lighting.</center>"
   ]
  },
  {
   "cell_type": "markdown",
   "id": "96a98cce",
   "metadata": {
    "editable": true,
    "slideshow": {
     "slide_type": "subslide"
    },
    "tags": []
   },
   "source": [
    "<img align=\"center\" src=\"https://drive.google.com/uc?id=11_7WH0Wm2q3ugCEhU_bySx6EOyaVSULk\" width=\"1000px\"/>"
   ]
  },
  {
   "cell_type": "markdown",
   "id": "24970822",
   "metadata": {
    "editable": true,
    "slideshow": {
     "slide_type": "subslide"
    },
    "tags": []
   },
   "source": [
    "### Dataset\n",
    "\n",
    "<span style=\"color:teal\">**Todays's dataset:**</span><a href=\"https://www.kaggle.com/datasets/rohanrao/air-quality-data-in-india\"> India air quality data, Kaggle</a><br>\n",
    "<img src=\"https://drive.google.com/uc?id=11cy09OSM7LWz9n29rvrrgIoGG46_bICr\" style=\"width:800px\"/>"
   ]
  },
  {
   "cell_type": "code",
   "execution_count": null,
   "id": "6ece650e",
   "metadata": {
    "ExecuteTime": {
     "end_time": "2021-10-06T14:49:15.067198Z",
     "start_time": "2021-10-06T14:49:15.059234Z"
    },
    "editable": true,
    "slideshow": {
     "slide_type": "fragment"
    },
    "tags": []
   },
   "outputs": [],
   "source": [
    "import pandas as pd\n",
    "\n",
    "data = pd.read_csv(\"Lecture_data/India_air_quality.csv\").sample(frac=.1, random_state=42)\n",
    "data.shape"
   ]
  },
  {
   "cell_type": "markdown",
   "id": "cd94c437-faa9-4b26-8d87-e4ba2def31f8",
   "metadata": {
    "editable": true,
    "slideshow": {
     "slide_type": "subslide"
    },
    "tags": []
   },
   "source": [
    "## Ensuring Generalization \n"
   ]
  },
  {
   "cell_type": "markdown",
   "id": "877fc26f-6cb0-4022-b63e-af8218c51ece",
   "metadata": {
    "slideshow": {
     "slide_type": "fragment"
    }
   },
   "source": [
    "The performance of a Machine Learning model is evaluated on its ability to **generalize** when predicting **unseen data**."
   ]
  },
  {
   "cell_type": "markdown",
   "id": "9b9959d8-fbcc-4e36-b27d-38dadfa4c5c1",
   "metadata": {
    "slideshow": {
     "slide_type": "fragment"
    }
   },
   "source": [
    "We ensure that a model that we train on data generalizes well by testing it on unseen data!"
   ]
  },
  {
   "cell_type": "markdown",
   "id": "efea253c",
   "metadata": {
    "slideshow": {
     "slide_type": "slide"
    },
    "tags": []
   },
   "source": [
    "\n",
    "### Dealing with duplicates \n"
   ]
  },
  {
   "cell_type": "markdown",
   "id": "78029ed0",
   "metadata": {
    "slideshow": {
     "slide_type": "fragment"
    }
   },
   "source": [
    "* Unwanted duplicated observations can discredit the performance evaluation of a model because the same data can leak from the training set to the test set."
   ]
  },
  {
   "cell_type": "markdown",
   "id": "1f1711cd",
   "metadata": {
    "slideshow": {
     "slide_type": "fragment"
    }
   },
   "source": [
    "🚨 **REMOVING DUPLICATES IS THE ONLY OPERATION THAT NEEDS TO BE DONE BEFORE SPLITTING THE DATASET** "
   ]
  },
  {
   "cell_type": "markdown",
   "id": "930614ae",
   "metadata": {
    "slideshow": {
     "slide_type": "subslide"
    }
   },
   "source": [
    "### 💻 <code>drop_duplicates</code>\n"
   ]
  },
  {
   "cell_type": "code",
   "execution_count": null,
   "id": "a27e45a1",
   "metadata": {
    "ExecuteTime": {
     "end_time": "2021-10-06T14:49:15.067198Z",
     "start_time": "2021-10-06T14:49:15.059234Z"
    },
    "slideshow": {
     "slide_type": "-"
    }
   },
   "outputs": [],
   "source": [
    "# Check number of duplicates\n",
    "data.duplicated().sum()"
   ]
  },
  {
   "cell_type": "code",
   "execution_count": null,
   "id": "261fcec6",
   "metadata": {
    "ExecuteTime": {
     "end_time": "2021-10-06T14:49:15.067198Z",
     "start_time": "2021-10-06T14:49:15.059234Z"
    },
    "slideshow": {
     "slide_type": "-"
    }
   },
   "outputs": [],
   "source": [
    "# Remove duplicates\n",
    "data = data.drop_duplicates() "
   ]
  },
  {
   "cell_type": "code",
   "execution_count": null,
   "id": "3265711d",
   "metadata": {
    "ExecuteTime": {
     "end_time": "2021-10-06T14:49:15.067198Z",
     "start_time": "2021-10-06T14:49:15.059234Z"
    },
    "slideshow": {
     "slide_type": "-"
    }
   },
   "outputs": [],
   "source": [
    "# Check number of duplicates\n",
    "data.duplicated().sum()"
   ]
  },
  {
   "cell_type": "markdown",
   "id": "388fcabb-735e-451d-b3c9-7e24125c9bbb",
   "metadata": {
    "slideshow": {
     "slide_type": "subslide"
    },
    "tags": []
   },
   "source": [
    "### Splitting data with the Holdout Method\n",
    "The Holdout Method is used to evaluate a model's ability to generalize. It consists of splitting the dataset into two sets:\n",
    "\n",
    "* **Training set** (~70%) \n",
    "* **Testing set** (~30%) \n"
   ]
  },
  {
   "cell_type": "markdown",
   "id": "022e2237-4d45-4bcb-9ec8-49bf316f6eb3",
   "metadata": {
    "slideshow": {
     "slide_type": "subslide"
    }
   },
   "source": [
    "### 💻 <code>train_test_split</code>"
   ]
  },
  {
   "cell_type": "code",
   "execution_count": null,
   "id": "d86cb11a",
   "metadata": {
    "ExecuteTime": {
     "end_time": "2021-10-06T14:49:14.861358Z",
     "start_time": "2021-10-06T14:49:13.697Z"
    },
    "slideshow": {
     "slide_type": "fragment"
    },
    "tags": []
   },
   "outputs": [],
   "source": [
    "from sklearn.model_selection import train_test_split\n",
    "\n",
    "# Split the dataset\n",
    "train_set, test_set,  = train_test_split(data, train_size=0.7, random_state=42)\n",
    "\n",
    "test_set.shape"
   ]
  },
  {
   "cell_type": "markdown",
   "id": "ed5cd24e",
   "metadata": {
    "slideshow": {
     "slide_type": "subslide"
    }
   },
   "source": [
    "## Exploratory Data Analysis (EDA)"
   ]
  },
  {
   "cell_type": "markdown",
   "id": "10dcd74a",
   "metadata": {
    "slideshow": {
     "slide_type": "fragment"
    }
   },
   "source": [
    "* A mix of statistics of tabular data and graphic exploration of the data"
   ]
  },
  {
   "cell_type": "markdown",
   "id": "2beecee8",
   "metadata": {
    "slideshow": {
     "slide_type": "fragment"
    }
   },
   "source": [
    "* Applied **AFTER** splitting the data and **ONLY** on the training set"
   ]
  },
  {
   "cell_type": "markdown",
   "id": "02fb0430",
   "metadata": {
    "slideshow": {
     "slide_type": "fragment"
    }
   },
   "source": [
    "* A crucial step to understand your data"
   ]
  },
  {
   "cell_type": "markdown",
   "id": "91e9bc3d-aa9c-4180-8348-58eecbff8043",
   "metadata": {
    "slideshow": {
     "slide_type": "fragment"
    },
    "tags": []
   },
   "source": [
    "🏃‍♀️ You will learn how to **EDA** in your exercise..."
   ]
  },
  {
   "cell_type": "markdown",
   "id": "3c2202f0",
   "metadata": {
    "editable": true,
    "slideshow": {
     "slide_type": "slide"
    },
    "tags": []
   },
   "source": [
    "# Data Preprocessing\n",
    "<br>\n",
    "\n",
    "<center><img src=\"https://drive.google.com/uc?id=11It6jZXVjfD64M1xmMtjh3z9Ev69osRb\" style=\"width:900px;\"><br>\n",
    " © Cédric John, 2022; Image generated with <a href=\"https://openai.com/blog/dall-e/\">DALL-E</a>\n",
    "<br>Prompt: A 35 mm macro of a fox with soft fur holdingpulling a long link of sausage in his hands, soft lighting, digital art.</center>"
   ]
  },
  {
   "cell_type": "markdown",
   "id": "fb407026",
   "metadata": {
    "editable": true,
    "slideshow": {
     "slide_type": "subslide"
    },
    "tags": []
   },
   "source": [
    "<img align=\"center\" src=\"https://drive.google.com/uc?id=111io0Ge3qeR0GNz1i_EXptrVE6PFY8eR\" width=\"1600px\"/>"
   ]
  },
  {
   "cell_type": "markdown",
   "id": "fb7e19e6",
   "metadata": {
    "slideshow": {
     "slide_type": "subslide"
    }
   },
   "source": [
    "## Outliers "
   ]
  },
  {
   "cell_type": "markdown",
   "id": "f9300204",
   "metadata": {
    "tags": []
   },
   "source": [
    "Outliers affect:\n",
    "* Dataset distributions and patterns \n",
    "* Central tendency metrics e.g. mean and standard deviation \n",
    "* Machine learning models' performances "
   ]
  },
  {
   "cell_type": "markdown",
   "id": "7644f95b",
   "metadata": {
    "slideshow": {
     "slide_type": "subslide"
    }
   },
   "source": [
    "### Boxplot to detecting outliers\n",
    "We can use boxplots to easily visualize outliers within our dataset.\n"
   ]
  },
  {
   "cell_type": "code",
   "execution_count": null,
   "id": "6f12971a",
   "metadata": {
    "ExecuteTime": {
     "end_time": "2021-10-06T14:49:16.909568Z",
     "start_time": "2021-10-06T14:49:16.903740Z"
    },
    "tags": []
   },
   "outputs": [],
   "source": [
    "train_set[['no2']].boxplot();"
   ]
  },
  {
   "cell_type": "code",
   "execution_count": null,
   "id": "4d055605",
   "metadata": {
    "ExecuteTime": {
     "end_time": "2021-10-06T14:49:16.909568Z",
     "start_time": "2021-10-06T14:49:16.903740Z"
    },
    "tags": []
   },
   "outputs": [],
   "source": [
    "# Does this look sensible?\n",
    "train_set['no2'].min() "
   ]
  },
  {
   "cell_type": "markdown",
   "id": "14f09e2c",
   "metadata": {
    "slideshow": {
     "slide_type": "fragment"
    },
    "tags": []
   },
   "source": [
    "🏃‍♀️ You will learn how to **drop outliers** in your exercise..."
   ]
  },
  {
   "cell_type": "markdown",
   "id": "facf363e-0cb8-4d08-864e-9e8fa63bba3d",
   "metadata": {
    "slideshow": {
     "slide_type": "subslide"
    },
    "tags": []
   },
   "source": [
    "## Missing Data "
   ]
  },
  {
   "cell_type": "markdown",
   "id": "42cd0445-5e29-45c6-9acc-eafb63c0944a",
   "metadata": {
    "slideshow": {
     "slide_type": "fragment"
    }
   },
   "source": [
    "### Common representations\n",
    "* <code>NaN</code> (not a number) \n",
    "* Large negatives (-99,-999) \n",
    "* ? \n",
    "* Infinity "
   ]
  },
  {
   "cell_type": "markdown",
   "id": "d35761f2-af8d-4600-b66a-57e1bc6ef03f",
   "metadata": {
    "slideshow": {
     "slide_type": "fragment"
    },
    "tags": []
   },
   "source": [
    "🚨 Missing data does not necessarily mean no information! Some categories could be `NaN` and still valid"
   ]
  },
  {
   "cell_type": "markdown",
   "id": "970615f3-e423-4ba8-b5f6-8c4b78d86294",
   "metadata": {
    "editable": true,
    "slideshow": {
     "slide_type": "subslide"
    },
    "tags": []
   },
   "source": [
    "### 💡Suggestion:\n",
    "* Greater than 30% of values missing: Potentially drop feature or row \n",
    "* Less than 30% of values missing: impute a value that makes sense e.g. Median, mean, mode. \n"
   ]
  },
  {
   "cell_type": "markdown",
   "id": "bd68213a-092f-4ef3-bfd9-157ea0bfc464",
   "metadata": {
    "editable": true,
    "slideshow": {
     "slide_type": "fragment"
    },
    "tags": []
   },
   "source": [
    "🏃‍♀️ You will learn how to **handle missing data** in your exercise..."
   ]
  },
  {
   "cell_type": "markdown",
   "id": "1106f273",
   "metadata": {
    "slideshow": {
     "slide_type": "subslide"
    }
   },
   "source": [
    "### 🖥 Sklearn's <code>SimpleImputer</code>\n",
    "<code>SimpleImputer</code> is a data <code>Transformer</code> to replace missing values by a strategy of your choice e.g. mean. <br><br>\n",
    "👉<a href=\"https://scikit-learn.org/stable/modules/generated/sklearn.impute.SimpleImputer.html\">Sklearn <code>SimpleImputer()</code> documentation</a>\n"
   ]
  },
  {
   "cell_type": "markdown",
   "id": "17b008bc",
   "metadata": {
    "slideshow": {
     "slide_type": "fragment"
    }
   },
   "source": [
    "<code>imputer.fit()</code>\n",
    "* Computes the strategy for that feature \n",
    "* Stores the strategy value as an attribute "
   ]
  },
  {
   "cell_type": "markdown",
   "id": "419494b8",
   "metadata": {
    "slideshow": {
     "slide_type": "fragment"
    }
   },
   "source": [
    "<code>imputer.transform()</code>\n",
    "* Identifies missing values  \n",
    "* Replaces missing value with previously calculated strategy value "
   ]
  },
  {
   "cell_type": "code",
   "execution_count": null,
   "id": "fb378a5d",
   "metadata": {
    "ExecuteTime": {
     "end_time": "2021-10-06T14:49:16.391043Z",
     "start_time": "2021-10-06T14:49:16.106973Z"
    },
    "slideshow": {
     "slide_type": "subslide"
    },
    "tags": []
   },
   "outputs": [],
   "source": [
    "from sklearn.impute import SimpleImputer\n",
    "import numpy as np\n",
    "\n",
    "num_cols = train_set.select_dtypes(include=np.number).columns # redo numerical columns\n",
    "num_cols"
   ]
  },
  {
   "cell_type": "code",
   "execution_count": null,
   "id": "7c947db6",
   "metadata": {
    "ExecuteTime": {
     "end_time": "2021-10-06T14:49:16.391043Z",
     "start_time": "2021-10-06T14:49:16.106973Z"
    },
    "slideshow": {
     "slide_type": "subslide"
    },
    "tags": []
   },
   "outputs": [],
   "source": [
    "imputer = SimpleImputer(strategy=\"mean\") # Instanciate a SimpleImputer object with strategy of choice"
   ]
  },
  {
   "cell_type": "code",
   "execution_count": null,
   "id": "0854458a",
   "metadata": {
    "ExecuteTime": {
     "end_time": "2021-10-06T14:49:16.391043Z",
     "start_time": "2021-10-06T14:49:16.106973Z"
    },
    "editable": true,
    "slideshow": {
     "slide_type": ""
    },
    "tags": []
   },
   "outputs": [],
   "source": [
    "imputer.fit(train_set[num_cols]) # Call the \"fit\" method on the object, using X_train numerical data "
   ]
  },
  {
   "cell_type": "code",
   "execution_count": null,
   "id": "33b1d722",
   "metadata": {
    "ExecuteTime": {
     "end_time": "2021-10-06T14:49:16.391043Z",
     "start_time": "2021-10-06T14:49:16.106973Z"
    },
    "editable": true,
    "slideshow": {
     "slide_type": "subslide"
    },
    "tags": []
   },
   "outputs": [],
   "source": [
    "train_set[num_cols] = imputer.transform(train_set[num_cols]) # Call the \"transform\" method on the object\n",
    "train_set[num_cols]"
   ]
  },
  {
   "cell_type": "code",
   "execution_count": null,
   "id": "52081f67-1fb1-4155-ba73-4a1b0aefedc0",
   "metadata": {
    "ExecuteTime": {
     "end_time": "2021-10-06T14:49:16.391043Z",
     "start_time": "2021-10-06T14:49:16.106973Z"
    },
    "editable": true,
    "slideshow": {
     "slide_type": ""
    },
    "tags": []
   },
   "outputs": [],
   "source": [
    "imputer.statistics_ # The mean is stored in the transformer's memory"
   ]
  },
  {
   "cell_type": "markdown",
   "id": "e84b2de1-12d7-4c49-80ed-267b2928b30b",
   "metadata": {
    "editable": true,
    "slideshow": {
     "slide_type": "subslide"
    },
    "tags": []
   },
   "source": [
    "## Preserving names after transformers\n",
    "\n",
    "Since `sklearn version 1.2`, you can set the configuration of all transformers object to return a `pandas` dataframe by default:"
   ]
  },
  {
   "cell_type": "code",
   "execution_count": null,
   "id": "057911b6-61ee-4a38-bff2-e09cb4fc478e",
   "metadata": {
    "editable": true,
    "slideshow": {
     "slide_type": "fragment"
    },
    "tags": []
   },
   "outputs": [],
   "source": [
    "from sklearn import set_config\n",
    "set_config(transform_output = \"pandas\")"
   ]
  },
  {
   "cell_type": "code",
   "execution_count": null,
   "id": "37e8fad3-2f9e-4b97-857e-70f6e43c775a",
   "metadata": {
    "editable": true,
    "slideshow": {
     "slide_type": "fragment"
    },
    "tags": []
   },
   "outputs": [],
   "source": [
    "imputer.fit_transform(train_set[num_cols]) "
   ]
  },
  {
   "cell_type": "markdown",
   "id": "3dc58b8e",
   "metadata": {
    "editable": true,
    "slideshow": {
     "slide_type": "subslide"
    },
    "tags": []
   },
   "source": [
    "### How about the categorical data?"
   ]
  },
  {
   "cell_type": "code",
   "execution_count": null,
   "id": "23ee3658",
   "metadata": {},
   "outputs": [],
   "source": [
    "cat_cols = train_set.select_dtypes(exclude=np.number).columns\n",
    "cat_imputer = SimpleImputer(strategy=\"most_frequent\") # Instanciate a SimpleImputer object with \"most_frequent\" strategy\n",
    "\n",
    "train_set[cat_cols] = cat_imputer.fit_transform(train_set[cat_cols]) # can 'fit_transform' in one line..."
   ]
  },
  {
   "cell_type": "markdown",
   "id": "fe8aef72-1804-4b93-be82-093fd9d1e61d",
   "metadata": {
    "slideshow": {
     "slide_type": "slide"
    }
   },
   "source": [
    "## Feature Scaling\n",
    "\n",
    "Why do we need to scale our data?"
   ]
  },
  {
   "cell_type": "markdown",
   "id": "7e2339f7",
   "metadata": {
    "slideshow": {
     "slide_type": "fragment"
    },
    "tags": []
   },
   "source": [
    "* Features with large magnitudes can incorrectly outweigh features of small magnitudes "
   ]
  },
  {
   "cell_type": "markdown",
   "id": "2c8707f0",
   "metadata": {
    "slideshow": {
     "slide_type": "fragment"
    },
    "tags": []
   },
   "source": [
    "* Scaling to smaller magnitudes improves computational efficiency "
   ]
  },
  {
   "cell_type": "markdown",
   "id": "16b5fdb0",
   "metadata": {
    "slideshow": {
     "slide_type": "fragment"
    },
    "tags": []
   },
   "source": [
    "* Increases interpretability of coefficients in parametric models"
   ]
  },
  {
   "cell_type": "markdown",
   "id": "62c9448b-9b8d-401b-8770-2e6a7597dde2",
   "metadata": {
    "slideshow": {
     "slide_type": "fragment"
    },
    "tags": []
   },
   "source": [
    "* Essential for 'distance-based' models"
   ]
  },
  {
   "cell_type": "markdown",
   "id": "237e791f-a197-401e-b93d-5070f59d7d6a",
   "metadata": {
    "slideshow": {
     "slide_type": "subslide"
    }
   },
   "source": [
    "## Three common scaling algorithms\n",
    "* 👉 **Standardizing**: Sklearn <code>StandardScaler()</code>\n",
    "$$z =  \\frac{(x - mean)}{std}$$"
   ]
  },
  {
   "cell_type": "markdown",
   "id": "94b76aab",
   "metadata": {
    "slideshow": {
     "slide_type": "fragment"
    }
   },
   "source": [
    "* 👉 **Robust Scaling**: Sklearn <code>RobustScaler()</code>\n",
    "$$Robust Scaled = \\frac{(x - median)}{IQR}$$"
   ]
  },
  {
   "cell_type": "markdown",
   "id": "8a4b63ab",
   "metadata": {
    "ExecuteTime": {
     "end_time": "2021-10-06T16:50:24.350991Z",
     "start_time": "2021-10-06T16:50:24.345791Z"
    },
    "slideshow": {
     "slide_type": "fragment"
    }
   },
   "source": [
    "* 👉 **Normalizing**: Sklearn <code>MinMaxScaler()</code>\n",
    "$$X' =  \\frac{(X - X_{min})}{X_{max} - X_{min}}$$"
   ]
  },
  {
   "cell_type": "markdown",
   "id": "8e11d127-245d-4607-82d7-746e3809f501",
   "metadata": {
    "slideshow": {
     "slide_type": "subslide"
    },
    "tags": []
   },
   "source": [
    "### Standardization:\n",
    "* Most effective when data is normally distributed \n",
    "* Does not ensure an exact common range \n",
    "* Sensitive to outliers \n",
    "* Can distort relative distances between feature values "
   ]
  },
  {
   "cell_type": "markdown",
   "id": "16b7e80c",
   "metadata": {
    "slideshow": {
     "slide_type": "fragment"
    },
    "tags": []
   },
   "source": [
    "### Robust Scaling:\n",
    "* Similar to standardization but more robust to outliers"
   ]
  },
  {
   "cell_type": "markdown",
   "id": "baba4c15",
   "metadata": {
    "slideshow": {
     "slide_type": "fragment"
    }
   },
   "source": [
    "### Normalizing:\n",
    "* Ensures a fixed range, important with distance based algorithms like the K-Nearest Neighbours\n",
    "* Efficient regardless of distribution \n",
    "* Doesn't reduce the effect of outliers \n",
    "* Doesn't correct the skewness of a distribution \n"
   ]
  },
  {
   "cell_type": "markdown",
   "id": "82990481-1da5-400c-9934-8fb2b95db6d2",
   "metadata": {
    "slideshow": {
     "slide_type": "subslide"
    }
   },
   "source": [
    "## 💻  Scaling in Sklearn"
   ]
  },
  {
   "cell_type": "code",
   "execution_count": null,
   "id": "095d5ec2",
   "metadata": {
    "ExecuteTime": {
     "end_time": "2021-10-06T14:49:18.590306Z",
     "start_time": "2021-10-06T14:49:18.254222Z"
    },
    "editable": true,
    "slideshow": {
     "slide_type": ""
    },
    "tags": []
   },
   "outputs": [],
   "source": [
    "from sklearn.preprocessing import StandardScaler, MinMaxScaler, RobustScaler\n",
    "import matplotlib.pyplot as plt\n",
    "plt.hist(train_set.rainfall); # Check feature distribution\n",
    "plt.show()\n"
   ]
  },
  {
   "cell_type": "markdown",
   "id": "db63642f",
   "metadata": {
    "editable": true,
    "slideshow": {
     "slide_type": "subslide"
    },
    "tags": []
   },
   "source": [
    "Comparing <code>standardization</code>, <code>robust scaling</code> and <code>normalization</code> for <code>rainfall</code> "
   ]
  },
  {
   "cell_type": "markdown",
   "id": "33f26f54-d67e-4526-bcda-82d25438293f",
   "metadata": {
    "editable": true,
    "slideshow": {
     "slide_type": "subslide"
    },
    "tags": []
   },
   "source": [
    "Comparing <code>standardization</code>, <code>robust scaling</code> and <code>normalization</code> for <code>rainfall</code> "
   ]
  },
  {
   "cell_type": "code",
   "execution_count": null,
   "id": "8563f6f4",
   "metadata": {
    "editable": true,
    "scrolled": true,
    "slideshow": {
     "slide_type": "-"
    },
    "tags": []
   },
   "outputs": [],
   "source": [
    "standardized = StandardScaler().fit_transform(train_set[['rainfall']]) # Use scaler to transform data\n",
    "normalized = MinMaxScaler().fit_transform(train_set[['rainfall']])\n",
    "robust = RobustScaler().fit_transform(train_set[['rainfall']])\n",
    "\n",
    "fig, axes = plt.subplots(1,3, figsize=(36,8))\n",
    "\n",
    "for data, ax, title in zip([standardized, robust, normalized], \n",
    "                           axes.flatten(), \n",
    "                            ['Standardized', 'Robust Scaler','Normalized']):\n",
    "    ax.hist(data)\n",
    "    ax.set_title(title)\n",
    "\n",
    "plt.show()"
   ]
  },
  {
   "cell_type": "markdown",
   "id": "0b5b5197-a4ba-45f6-832d-a18941978fcb",
   "metadata": {
    "editable": true,
    "slideshow": {
     "slide_type": "slide"
    },
    "tags": []
   },
   "source": [
    "# Feature Engineering\n",
    "<br>\n",
    "\n",
    "<center><img src=\"https://drive.google.com/uc?id=111_N8TF7P8F6In87Z_U9Yp76wxwP4wLR\" style=\"width:900px;\"><br>\n",
    " © Cédric John, 2022; Image generated with <a href=\"https://openai.com/blog/dall-e/\">DALL-E</a>\n",
    "<br>Prompt: An Engineer looking at the waves_ by Kanagawa oki nami ura.</center>"
   ]
  },
  {
   "cell_type": "markdown",
   "id": "f5eb5f9e-ce0c-4eda-8249-0bd0d45181c6",
   "metadata": {
    "editable": true,
    "slideshow": {
     "slide_type": "subslide"
    },
    "tags": []
   },
   "source": [
    "**Feature engineering** is a category of preprocessing that includes encoding, discretizing and creating new features 💡\n",
    "<img align=\"center\" src=\"https://drive.google.com/uc?id=11QyopCL6BYxGvLJMjKyL-A0ftJ38xAon\" width=\"500px\"/>\n"
   ]
  },
  {
   "cell_type": "markdown",
   "id": "7ce4166e",
   "metadata": {
    "slideshow": {
     "slide_type": "subslide"
    },
    "tags": []
   },
   "source": [
    "## Separating target from features \n",
    "* We don't want to scale/engineer our target \n",
    "* Here we will try to predict <code>'rspm'</code>, so we will remove them and derived data (<code>pm2_5</code> and <code>spm</code>) from the features\n"
   ]
  },
  {
   "cell_type": "code",
   "execution_count": null,
   "id": "c10c6144",
   "metadata": {},
   "outputs": [],
   "source": [
    "y_train = train_set['rspm']\n",
    "X_train = train_set.drop(columns=['rspm', 'spm','stn_code', 'state', 'location', 'type','date'])"
   ]
  },
  {
   "cell_type": "markdown",
   "id": "76e85ef0",
   "metadata": {
    "slideshow": {
     "slide_type": "subslide"
    },
    "tags": []
   },
   "source": [
    "## Creating / transforming features \n",
    "* Create additional information \n",
    "* Reduce number of features by combining them\n",
    "* Change data distribution\n",
    "* Potentially improve model performance \n"
   ]
  },
  {
   "cell_type": "markdown",
   "id": "679c4e0a-97ca-435c-aa49-a82b41edef6f",
   "metadata": {
    "slideshow": {
     "slide_type": "fragment"
    },
    "tags": []
   },
   "source": [
    "🏃‍♀️ You will learn how to **transform features to log space** in your exercise..."
   ]
  },
  {
   "cell_type": "markdown",
   "id": "67297a23-f330-4026-a75e-d6f271e5e424",
   "metadata": {
    "slideshow": {
     "slide_type": "subslide"
    },
    "tags": []
   },
   "source": [
    "## Discretizing / 'Binning'"
   ]
  },
  {
   "cell_type": "markdown",
   "id": "3c19cdc6-33e2-4176-b00e-55b1929bfdda",
   "metadata": {
    "tags": []
   },
   "source": [
    "Useful in order to:\n",
    "* Turn a regression task into a classification task \n",
    "* Perform feature engineering \n",
    "👉 <a href=\"https://pandas.pydata.org/pandas-docs/stable/reference/api/pandas.cut.html\">Pandas <code>cut()</code> documentation</a>\n"
   ]
  },
  {
   "cell_type": "markdown",
   "id": "57960c63-26fc-4056-b6ca-c80cad99d26d",
   "metadata": {
    "slideshow": {
     "slide_type": "subslide"
    }
   },
   "source": [
    "### 🖥 Discretizing rspm\n",
    "* Let's turn this dataset into a classification task, low or high pollution, according to a cutoff value of 1/4 standard deviation below the mean (chosen arbitrarily here to represent 'high' pollution).\n"
   ]
  },
  {
   "cell_type": "code",
   "execution_count": null,
   "id": "3ededb80-800c-4421-b540-9115c1c4a908",
   "metadata": {
    "ExecuteTime": {
     "end_time": "2021-10-08T16:41:42.190282Z",
     "start_time": "2021-10-08T16:41:42.176426Z"
    },
    "slideshow": {
     "slide_type": "-"
    },
    "tags": []
   },
   "outputs": [],
   "source": [
    "y_train_cat = pd.cut(x = y_train,\n",
    "                       bins=[y_train.min()-1,\n",
    "                             y_train.mean()-0.25*y_train.std(),\n",
    "                             y_train.max()+1], \n",
    "                       labels=['low', 'high'])\n",
    "\n",
    "y_train_cat[:5]"
   ]
  },
  {
   "cell_type": "markdown",
   "id": "44c02475-573e-4390-a010-60305e7a6e7b",
   "metadata": {
    "slideshow": {
     "slide_type": "subslide"
    },
    "tags": []
   },
   "source": [
    "## Encoding"
   ]
  },
  {
   "cell_type": "markdown",
   "id": "9a5c9c8a-c5ca-42fb-ab89-1e7649972a52",
   "metadata": {
    "slideshow": {
     "slide_type": "fragment"
    }
   },
   "source": [
    "### Why encoding?\n",
    "* Data may be represented as words, letters, or symbols \n",
    "* Most Machine Learning algorithms only process numerical data "
   ]
  },
  {
   "cell_type": "markdown",
   "id": "265b485b-7fdb-4f32-acb2-d79acd7781ec",
   "metadata": {
    "editable": true,
    "slideshow": {
     "slide_type": "subslide"
    },
    "tags": []
   },
   "source": [
    "### Target Encoding (aka label encoding)\n",
    "Assign a number to each category.<br><br>\n",
    "<img align=\"center\" src=\"https://drive.google.com/uc?id=11XWezYOKMoFor30gy0IiqAXIWVCy1IXC\" width=\"800px\"/>\n",
    "<a href=\"https://towardsdatascience.com/categorical-encoding-techniques-93ebd18e1f24\">Towards data science</a>\n"
   ]
  },
  {
   "cell_type": "markdown",
   "id": "2f06140b-8704-4fbc-9c47-b99828cf0191",
   "metadata": {
    "tags": []
   },
   "source": [
    "\n",
    "👉 <a href=\"https://scikit-learn.org/stable/modules/generated/sklearn.preprocessing.LabelEncoder.html\">Sklearn <code>LabelEncoder()</code> documentation</a>\n"
   ]
  },
  {
   "cell_type": "markdown",
   "id": "4e5be679-68fb-49c9-8ab9-2ce837d58998",
   "metadata": {
    "editable": true,
    "slideshow": {
     "slide_type": "subslide"
    },
    "tags": []
   },
   "source": [
    "### One-Hot-Encoding\n",
    "Create a binary column for each possible category: used with features.<br><br>\n",
    "<img align=\"center\" src=\"https://drive.google.com/uc?id=116Df-cL5U2JPTPuv6ArxCC7leA-loDSw\" width=\"1000px\"/>\n",
    "<a href=\"https://towardsdatascience.com/encoding-categorical-variables-one-hot-vs-dummy-encoding-6d5b9c46e2db#:~:text=A%20dummy%20(binary)%20variable%20just,or%20inclusion%20of%20a%20category.&text=Image%20by%20author)-,In%20one%2Dhot%20encoding%2C,0%5D%20vector%20of%20size%203.\">Pramoditha, Towards Data Science</a>\n"
   ]
  },
  {
   "cell_type": "markdown",
   "id": "f2e4db37-7b3d-4a2b-b269-22591c3fcdff",
   "metadata": {
    "editable": true,
    "slideshow": {
     "slide_type": ""
    },
    "tags": []
   },
   "source": [
    "\n",
    "👉 <a href=\"https://scikit-learn.org/stable/modules/generated/sklearn.preprocessing.OneHotEncoder.html\">Sklearn <code>OneHotEncoder()</code> documentation</a>\n"
   ]
  },
  {
   "cell_type": "markdown",
   "id": "84480e91-ea51-4bd0-b98d-da1975069288",
   "metadata": {
    "editable": true,
    "slideshow": {
     "slide_type": "subslide"
    },
    "tags": []
   },
   "source": [
    "### 💻 One-hot-Encoding <code>type</code>"
   ]
  },
  {
   "cell_type": "code",
   "execution_count": null,
   "id": "52e58875-4705-4eac-bee6-98e27b1c8b87",
   "metadata": {
    "ExecuteTime": {
     "end_time": "2021-10-06T14:49:20.396658Z",
     "start_time": "2021-10-06T14:49:20.389197Z"
    },
    "editable": true,
    "slideshow": {
     "slide_type": ""
    },
    "tags": []
   },
   "outputs": [],
   "source": [
    "from sklearn.preprocessing import OneHotEncoder\n",
    "import numpy as np\n",
    "\n",
    "train_set['type'].value_counts()"
   ]
  },
  {
   "cell_type": "code",
   "execution_count": null,
   "id": "2d80c806-b743-4cf0-ba90-aa0eac621cf2",
   "metadata": {
    "ExecuteTime": {
     "end_time": "2021-10-06T14:49:20.396658Z",
     "start_time": "2021-10-06T14:49:20.389197Z"
    },
    "editable": true,
    "slideshow": {
     "slide_type": ""
    },
    "tags": []
   },
   "outputs": [],
   "source": [
    "ohe = OneHotEncoder(sparse_output = False) # Instanciate encoder: sparse=False => returns a numpy array or dataframe (as opposed to a sparse matrix)\n",
    "\n",
    "ohe.fit(train_set[['type']]) # Fit encoder\n",
    "type_encoded = ohe.transform(train_set[['type']]) # Encode type"
   ]
  },
  {
   "cell_type": "code",
   "execution_count": null,
   "id": "f5e098b2-d8be-4622-9021-e2bb09922a38",
   "metadata": {
    "editable": true,
    "slideshow": {
     "slide_type": ""
    },
    "tags": []
   },
   "outputs": [],
   "source": [
    "ohe.categories_[0]"
   ]
  },
  {
   "cell_type": "code",
   "execution_count": null,
   "id": "7a5903ce-6d88-42d2-a14f-36b956e3c82c",
   "metadata": {
    "ExecuteTime": {
     "end_time": "2021-10-06T14:49:20.396658Z",
     "start_time": "2021-10-06T14:49:20.389197Z"
    },
    "editable": true,
    "slideshow": {
     "slide_type": ""
    },
    "tags": []
   },
   "outputs": [],
   "source": [
    "train_set[ohe.categories_[0]] = type_encoded\n",
    "\n",
    "train_set.head()"
   ]
  },
  {
   "cell_type": "markdown",
   "id": "9bc688e1-019f-45fb-bfad-9ee6da5f2232",
   "metadata": {
    "editable": true,
    "slideshow": {
     "slide_type": "subslide"
    },
    "tags": []
   },
   "source": [
    "## How to `handle_unknown`?\n",
    "\n",
    "What happens if at predict time (when we are trying to transform a dataset) one new category is introduced? Let's find out!"
   ]
  },
  {
   "cell_type": "code",
   "execution_count": null,
   "id": "ffa1e32a-6f11-4e93-8c26-709205cb32e3",
   "metadata": {
    "editable": true,
    "slideshow": {
     "slide_type": ""
    },
    "tags": []
   },
   "outputs": [],
   "source": [
    "dummy_ohe_train = pd.DataFrame(data=[['orange'], ['apple'], ['apple'], ['banana']], columns=[\"fruits\"])\n",
    "dummy_ohe_train"
   ]
  },
  {
   "cell_type": "code",
   "execution_count": null,
   "id": "40bdcd0e-001b-4dda-a512-e648186c9024",
   "metadata": {
    "editable": true,
    "slideshow": {
     "slide_type": ""
    },
    "tags": []
   },
   "outputs": [],
   "source": [
    "dummy_ohe_test = pd.DataFrame(data=[['orange'], ['apple'], ['kiwi'], ['banana']], columns=[\"fruits\"])\n",
    "dummy_ohe_test"
   ]
  },
  {
   "cell_type": "code",
   "execution_count": null,
   "id": "67d6f228-d94e-4542-ae3b-ed121ceafa82",
   "metadata": {
    "editable": true,
    "slideshow": {
     "slide_type": "fragment"
    },
    "tags": []
   },
   "outputs": [],
   "source": [
    "fruity_ohe = OneHotEncoder(sparse_output=False).fit(dummy_ohe_train)\n",
    "fruity_ohe.transform(dummy_ohe_train)"
   ]
  },
  {
   "cell_type": "code",
   "execution_count": null,
   "id": "97767bba-e3ba-4ef6-8cbe-e989bfc12db5",
   "metadata": {
    "editable": true,
    "slideshow": {
     "slide_type": "fragment"
    },
    "tags": []
   },
   "outputs": [],
   "source": [
    "fruity_ohe.transform(dummy_ohe_test)"
   ]
  },
  {
   "cell_type": "code",
   "execution_count": null,
   "id": "a29c735d-405a-418b-b3cc-15b1f99097f7",
   "metadata": {
    "editable": true,
    "slideshow": {
     "slide_type": "subslide"
    },
    "tags": []
   },
   "outputs": [],
   "source": [
    "fruity_ohe = OneHotEncoder(sparse_output=False, handle_unknown=\"ignore\").fit(dummy_ohe_train)\n",
    "fruity_ohe.transform(dummy_ohe_test)"
   ]
  },
  {
   "cell_type": "markdown",
   "id": "cb8bac21-d523-45bb-a75d-599390fc80de",
   "metadata": {
    "editable": true,
    "slideshow": {
     "slide_type": "subslide"
    },
    "tags": []
   },
   "source": [
    "#### One-Hot-Encoding vs Dummy Encoding\n",
    "* One-Hot-Encoder creates one column per category\n",
    "* Dummy encoder creates one column per category minus one (the last one is inferred from the others)"
   ]
  },
  {
   "cell_type": "markdown",
   "id": "67623d3c-0f4c-4d41-9f25-75daf0722a6b",
   "metadata": {
    "editable": true,
    "slideshow": {
     "slide_type": "-"
    },
    "tags": []
   },
   "source": [
    "<img align=\"center\" src=\"https://drive.google.com/uc?id=11Kecb0YPjg6HlSfJKe1BPbWnzzMDq5QD\" width=\"1000px\"/>\n",
    "<a href=\"https://towardsdatascience.com/encoding-categorical-variables-one-hot-vs-dummy-encoding-6d5b9c46e2db#:~:text=A%20dummy%20(binary)%20variable%20just,or%20inclusion%20of%20a%20category.&text=Image%20by%20author)-,In%20one%2Dhot%20encoding%2C,0%5D%20vector%20of%20size%203.\">Pramoditha, Towards Data Science</a>"
   ]
  },
  {
   "cell_type": "markdown",
   "id": "a0bbbed3-356e-4168-9bd5-c514cc0c826b",
   "metadata": {
    "slideshow": {
     "slide_type": "subslide"
    }
   },
   "source": [
    "#### One-Hot-Encoding  (Sklearn default)\n",
    "<span style=\"color:blue\">**Pros**</span>\n",
    "* All columns preserved\n",
    "\n",
    "<span style=\"color:red\">**Cons**</span>\n",
    "* Can create colinearity between variables in linear models without regularization"
   ]
  },
  {
   "cell_type": "markdown",
   "id": "b7c42f68-ab0b-4398-9a93-1d82e5a0e95d",
   "metadata": {
    "slideshow": {
     "slide_type": "fragment"
    }
   },
   "source": [
    "#### Dummy Encoding\n",
    "<span style=\"color:blue\">**Pros**</span>\n",
    "* No colinearity\n",
    "* Dimensionality of data is reduced\n",
    "\n",
    "<span style=\"color:red\">**Cons**</span>\n",
    "* Loose some information"
   ]
  },
  {
   "cell_type": "markdown",
   "id": "bce552ac-f186-44cb-b5fc-9d75a68360fb",
   "metadata": {
    "editable": true,
    "slideshow": {
     "slide_type": "subslide"
    },
    "tags": []
   },
   "source": [
    "## Dummy Encoding in `sklearn`\n",
    "\n",
    "Dummy encoding can easily be done in `sklearn` simply by droping one category. For instance:\n",
    "\n",
    "<code>ohe = OneHotEncoder(sparse_output = False, drop=['Others'])</code>"
   ]
  },
  {
   "cell_type": "markdown",
   "id": "2797de9d-9e32-47c4-9bd2-9a26b83f0bec",
   "metadata": {
    "editable": true,
    "slideshow": {
     "slide_type": "fragment"
    },
    "tags": []
   },
   "source": [
    "🚨 The `categories_` property of the encoder still retains all of the original names: you need to manually adapt it if you want to use the column names"
   ]
  },
  {
   "cell_type": "markdown",
   "id": "948df4b0-64c4-4fea-9f77-1b4afb0b6435",
   "metadata": {
    "editable": true,
    "slideshow": {
     "slide_type": "slide"
    },
    "tags": []
   },
   "source": [
    "# Algorithm of the Day: Linear Regression\n",
    "<br>\n",
    "\n",
    "<center><img src=\"https://drive.google.com/uc?id=10vIFVrCUobl-gkjZSC6mKwk0qgV0KvUW\" style=\"width:900px;\"><br>\n",
    " © Cédric John, 2022; Image generated with <a href=\"https://openai.com/blog/dall-e/\">DALL-E</a>\n",
    "<br>Prompt: Algorithm of the Day.</center>"
   ]
  },
  {
   "cell_type": "markdown",
   "id": "322e134c",
   "metadata": {
    "editable": true,
    "slideshow": {
     "slide_type": "slide"
    },
    "tags": []
   },
   "source": [
    "\n",
    "<img align=\"center\" src=\"https://drive.google.com/uc?id=11D1Ymcl9S2WFMMhvm3QqitxxigpKjNV4\" width=\"1500\"/>"
   ]
  },
  {
   "cell_type": "markdown",
   "id": "7980fe70",
   "metadata": {
    "editable": true,
    "slideshow": {
     "slide_type": "subslide"
    },
    "tags": []
   },
   "source": [
    "# Ordinary Least Square (OLS) regression [a reminder]\n",
    "For ordinary least square, we can define our prediction as:\n",
    "\n",
    "$\\hat{y} = (\\beta_1 X_1 + \\beta_2 X_2 + ... + \\beta_n X_n - \\beta_0)$ <br><br>\n",
    "\n",
    "where $\\beta_i$ is a linear coefficient to the function and $\\beta_0$ is the intercept."
   ]
  },
  {
   "cell_type": "markdown",
   "id": "af1df37b",
   "metadata": {
    "editable": true,
    "slideshow": {
     "slide_type": "fragment"
    },
    "tags": []
   },
   "source": [
    "We can rewrite this more simply using matrix notation:\n",
    "\n",
    "$\\hat{y} = \\beta X$ <br><br>\n",
    "Where $X$ is the feature matrix (multivariate regression) and $\\beta$ is the matrix of coefficients. Note that a constant (<code>1</code>) is added to the feature matrix ($X_{0}$) to account for the intercept ($\\beta_{0}$)."
   ]
  },
  {
   "cell_type": "markdown",
   "id": "c098e9aa",
   "metadata": {
    "editable": true,
    "slideshow": {
     "slide_type": "fragment"
    },
    "tags": []
   },
   "source": [
    "The goal is to find the $\\beta$ that minimizes the **residual sum of square** between our label ($y$) and $\\hat{y}$:<br><br>\n",
    "$$\\underset{\\beta}{\\mathrm{argmin}} \\sum_{i=1}^{n} \\left(y_{i} - \\hat{y}_{i} \\right)^2$$ <br><br>\n",
    "\n"
   ]
  },
  {
   "cell_type": "markdown",
   "id": "e81198d5-8d14-4649-8274-78c0916a3e6c",
   "metadata": {
    "editable": true,
    "slideshow": {
     "slide_type": "subslide"
    },
    "tags": []
   },
   "source": [
    "## Parametric models\n",
    "\n",
    "\n",
    "We have seen that some models can be summarized by a set of parameters:\n"
   ]
  },
  {
   "cell_type": "markdown",
   "id": "502d7165-1121-4eb1-b146-450a4fd086f0",
   "metadata": {
    "editable": true,
    "slideshow": {
     "slide_type": "fragment"
    },
    "tags": []
   },
   "source": [
    "***Ordinary Least Square (OLS) regression*** <br><br>\n",
    "\n",
    "$\\hat{y} = \\beta_1 X_1 + \\beta_2 X_2 + ... + \\beta_n X_n - \\beta_0$ <br><br>"
   ]
  },
  {
   "cell_type": "markdown",
   "id": "a9a63aea-0849-419f-bc7b-53d66059989c",
   "metadata": {
    "editable": true,
    "slideshow": {
     "slide_type": "fragment"
    },
    "tags": []
   },
   "source": [
    "* If the parameters $\\beta$ of the functions are learned, these can be used to predict unknown samples"
   ]
  },
  {
   "cell_type": "markdown",
   "id": "16885c86-523a-4a50-8ffd-ad0a4513277b",
   "metadata": {
    "editable": true,
    "slideshow": {
     "slide_type": "fragment"
    },
    "tags": []
   },
   "source": [
    "* There are also non-parametric algorithm!"
   ]
  },
  {
   "cell_type": "markdown",
   "id": "4040bb6d-f45f-4958-9457-bb694109f2dd",
   "metadata": {
    "editable": true,
    "slideshow": {
     "slide_type": "subslide"
    },
    "tags": []
   },
   "source": [
    "# Sklearn modules and classes\n",
    "* <code>linear_model</code> is a module\n",
    "* <code>LinearRegression</code> is a class<br>\n",
    "👉 <a href=\"https://scikit-learn.org/stable/modules/classes.html#module-sklearn.linear_model\">Sklearn <code>linear_model</code> documentation</a>"
   ]
  },
  {
   "cell_type": "markdown",
   "id": "705759eb",
   "metadata": {
    "editable": true,
    "slideshow": {
     "slide_type": "subslide"
    },
    "tags": []
   },
   "source": [
    "### Modelling rspm vs other variables"
   ]
  },
  {
   "cell_type": "code",
   "execution_count": null,
   "id": "5308824f",
   "metadata": {
    "slideshow": {
     "slide_type": "fragment"
    }
   },
   "outputs": [],
   "source": [
    "from sklearn.linear_model import LinearRegression\n",
    "import numpy as np\n",
    "\n",
    "model = LinearRegression()\n",
    "model.fit(X_train, y_train)"
   ]
  },
  {
   "cell_type": "code",
   "execution_count": null,
   "id": "b9b2c3bf",
   "metadata": {
    "slideshow": {
     "slide_type": "fragment"
    }
   },
   "outputs": [],
   "source": [
    "# predicting our train_set back!\n",
    "\n",
    "y_pred = model.predict(X_train)\n",
    "\n",
    "y_pred"
   ]
  },
  {
   "cell_type": "markdown",
   "id": "b1e75ae7",
   "metadata": {
    "slideshow": {
     "slide_type": "subslide"
    }
   },
   "source": [
    "### Testing our work with K-fold cross validation\n",
    "\n",
    "* K-fold cross validation is typically used on the **training set** to guide our choices of data preparation and model parameters (using the test set would violate the philosophy of testing on unseen data)"
   ]
  },
  {
   "cell_type": "markdown",
   "id": "8d57f1b8",
   "metadata": {
    "slideshow": {
     "slide_type": "fragment"
    }
   },
   "source": [
    "* The dataset is split into K number of folds "
   ]
  },
  {
   "cell_type": "markdown",
   "id": "f08ac654",
   "metadata": {
    "slideshow": {
     "slide_type": "fragment"
    }
   },
   "source": [
    "* For each split, a sub model is trained and scored "
   ]
  },
  {
   "cell_type": "markdown",
   "id": "21807c0a",
   "metadata": {
    "slideshow": {
     "slide_type": "fragment"
    }
   },
   "source": [
    "* The average score of all sub models is the **cross-validated** score of the model "
   ]
  },
  {
   "cell_type": "markdown",
   "id": "c9e92e69",
   "metadata": {
    "editable": true,
    "slideshow": {
     "slide_type": "fragment"
    },
    "tags": []
   },
   "source": [
    "<img align=\"center\" src=\"https://drive.google.com/uc?id=11MWUYa53MKXwFmIYNhzZ1utS6LIO_HeD\" width=\"500\"/>\n",
    "\n",
    "<a href=https://www.researchgate.net/publication/278826818_Feature_extraction_and_supervised_learning_on_fMRI_from_practice_to_theory>Pedregosa-Izquierdo (2018)</a>"
   ]
  },
  {
   "cell_type": "markdown",
   "id": "ffe814ed",
   "metadata": {
    "slideshow": {
     "slide_type": "subslide"
    }
   },
   "source": [
    "### Choosing K\n",
    "* Choosing K is a tradeoff between trustworthy performance evaluation and computational expense \n",
    "* More K-folds --&gt; more submodels to average scores from --&gt; more representative score --&gt; more computational time \n"
   ]
  },
  {
   "cell_type": "markdown",
   "id": "6699a963",
   "metadata": {
    "slideshow": {
     "slide_type": "fragment"
    }
   },
   "source": [
    "\n",
    "👍 Rule of thumb: K = 5 to 10"
   ]
  },
  {
   "cell_type": "markdown",
   "id": "efaf128c",
   "metadata": {
    "slideshow": {
     "slide_type": "subslide"
    }
   },
   "source": [
    "### 💻 <code>K-fold cross validation</code>"
   ]
  },
  {
   "cell_type": "code",
   "execution_count": null,
   "id": "56a34193",
   "metadata": {
    "slideshow": {
     "slide_type": "fragment"
    }
   },
   "outputs": [],
   "source": [
    "from sklearn.model_selection import cross_validate\n",
    "\n",
    "# Instanciate model\n",
    "model = LinearRegression()"
   ]
  },
  {
   "cell_type": "code",
   "execution_count": null,
   "id": "c31bf327",
   "metadata": {
    "slideshow": {
     "slide_type": "fragment"
    }
   },
   "outputs": [],
   "source": [
    "# 5-Fold Cross validate model\n",
    "cv_results = cross_validate(model, X_train, y_train, cv=5)"
   ]
  },
  {
   "cell_type": "code",
   "execution_count": null,
   "id": "a24daf5f",
   "metadata": {
    "slideshow": {
     "slide_type": "fragment"
    }
   },
   "outputs": [],
   "source": [
    "# Scores\n",
    "cv_results['test_score']"
   ]
  },
  {
   "cell_type": "code",
   "execution_count": null,
   "id": "936ffa34",
   "metadata": {
    "slideshow": {
     "slide_type": "fragment"
    }
   },
   "outputs": [],
   "source": [
    "# Mean of scores\n",
    "cv_results['test_score'].mean()"
   ]
  },
  {
   "cell_type": "markdown",
   "id": "8c49fc65-8f84-47a4-ab2d-4d0815b411ce",
   "metadata": {
    "editable": true,
    "slideshow": {
     "slide_type": "subslide"
    },
    "tags": []
   },
   "source": [
    "# Suggested Resources"
   ]
  },
  {
   "cell_type": "markdown",
   "id": "86d996f5-3570-4c2b-8af9-2df83015bc07",
   "metadata": {
    "editable": true,
    "slideshow": {
     "slide_type": ""
    },
    "tags": []
   },
   "source": [
    "## 📺 Videos \n",
    "#### Short videos from my Undegraduate Machine Learning Classes:\n",
    "\n",
    "My undegraduate data science course is given as a series of YouTube videos. Though the course is intended for students at a lower level than you, some of the videos might be useful reminder material for this course, so feel free to use them.\n",
    "\n",
    "*General videos about Python and its ecosystem (relates to your previous modules)*:\n",
    "* 📼 <a href=\"https://youtu.be/uteQkMvGnXk?list=PLZzjCZ3QdgQCcRIwQdd-_cJNAUgiEBB_n\">General Introduction</a>\n",
    "* 📼 <a href=\"https://youtu.be/jKZ3w1Hego4?list=PLZzjCZ3QdgQCcRIwQdd-_cJNAUgiEBB_n\">What are Data Science and Machine Learning?</a>\n",
    "* 📼 <a href=\"https://youtu.be/v9XwNlVuQe0?list=PLZzjCZ3QdgQCcRIwQdd-_cJNAUgiEBB_n\">Physics-driven vs Data-driven models</a>\n",
    "* 📼 <a href=\"https://youtu.be/am5uahXNwxU?list=PLZzjCZ3QdgQCcRIwQdd-_cJNAUgiEBB_n\">Jupyter Notebooks</a>\n",
    "* 📼 <a href=\"https://youtu.be/qZpmc_LQ55k?list=PLZzjCZ3QdgQCcRIwQdd-_cJNAUgiEBB_n\">Properties of Python</a>\n",
    "* 📼 <a href=\"https://youtu.be/l5ZUOMAv948?list=PLZzjCZ3QdgQCcRIwQdd-_cJNAUgiEBB_n\">The Art of Clean Code</a>\n",
    "* 📼 <a href=\"https://youtu.be/NLqkYpK0PsI?list=PLZzjCZ3QdgQCcRIwQdd-_cJNAUgiEBB_n\">Introduction to NumPy</a>\n",
    "* 📼 <a href=\"https://youtu.be/eSMb1Xe2svM?list=PLZzjCZ3QdgQCcRIwQdd-_cJNAUgiEBB_n\">Computation with NDArrays</a>\n",
    "* 📼 <a href=\"https://youtu.be/jox3od5OB4k?list=PLZzjCZ3QdgQCcRIwQdd-_cJNAUgiEBB_n\">Introduction to Pandas</a>\n",
    "* 📼 <a href=\"https://youtu.be/SQgrAdeZcLg?list=PLZzjCZ3QdgQCcRIwQdd-_cJNAUgiEBB_n\">Plotting Data with Matplotlib</a>\n",
    "* 📼 <a href=\"https://youtu.be/plyX3n7a0lM?list=PLZzjCZ3QdgQCcRIwQdd-_cJNAUgiEBB_n\">Linear Algebra notation</a>\n",
    "\n",
    "*Videos directly related to this lecture*:\n",
    "* 📼 <a href=\"https://youtu.be/YKRzY9oKwU8?list=PLZzjCZ3QdgQCcRIwQdd-_cJNAUgiEBB_n\">Data Preparation Overview</a>\n",
    "* 📼 <a href=\"https://youtu.be/aOAiJtNs-4Q?list=PLZzjCZ3QdgQCcRIwQdd-_cJNAUgiEBB_n\">Why Splitting data matters</a>\n",
    "* 📼 <a href=\"https://youtu.be/SieI_0PP5xM?list=PLZzjCZ3QdgQCcRIwQdd-_cJNAUgiEBB_n\">Feature Scaling</a>"
   ]
  },
  {
   "cell_type": "markdown",
   "id": "ae6321b7-2382-4814-b764-240ba5c7b649",
   "metadata": {
    "editable": true,
    "slideshow": {
     "slide_type": "subslide"
    },
    "tags": []
   },
   "source": [
    "## 📚 Further Reading \n",
    "* 📖 <a href=\"https://www.kdnuggets.com/2019/07/check-quality-regression-model-python.html\">A deep dive into Linear regression in Scikit-Learn</a> by Tirthajyoti Sarkar\n",
    "* 📖 <a href=\"https://www.oreilly.com/library/view/hands-on-machine-learning/9781492032632/\">Hands-On Machine Learning with Scikit-Learn, Keras, and TensorFlow, 2nd Edition</a> by Aurélien Geron (chapters 1 and 4)\n",
    "* 📖 <a  href=\"https://www.ime.unicamp.br/~dias/Intoduction%20to%20Statistical%20Learning.pdf\">An introduction to statistical learning</a> by James et al (uses R, not Python)\n",
    "* 📖 <a href=\"https://pdfhost.io/pdf/331cead5-4dd6-455a-9d10-17d4e12df608/8a19e1bf-c7c2-4b4d-a671-457928e79bfa.pdf\">Andrew NG - Linear Models CS229 Notes</a>"
   ]
  },
  {
   "cell_type": "markdown",
   "id": "a55905af-ae1b-4f98-a659-c78592876c3b",
   "metadata": {
    "editable": true,
    "slideshow": {
     "slide_type": "subslide"
    },
    "tags": []
   },
   "source": [
    "## 💻🐍 Time to Code ! "
   ]
  }
 ],
 "metadata": {
  "celltoolbar": "Slideshow",
  "kernelspec": {
   "display_name": "Python 3 (ipykernel)",
   "language": "python",
   "name": "python3"
  },
  "language_info": {
   "codemirror_mode": {
    "name": "ipython",
    "version": 3
   },
   "file_extension": ".py",
   "mimetype": "text/x-python",
   "name": "python",
   "nbconvert_exporter": "python",
   "pygments_lexer": "ipython3",
   "version": "3.11.2"
  },
  "rise": {
   "scroll": true,
   "theme": "serif",
   "transition": "none"
  },
  "toc": {
   "base_numbering": 1,
   "nav_menu": {},
   "number_sections": false,
   "sideBar": true,
   "skip_h1_title": false,
   "title_cell": "Table of Contents",
   "title_sidebar": "Contents",
   "toc_cell": false,
   "toc_position": {},
   "toc_section_display": false,
   "toc_window_display": false
  }
 },
 "nbformat": 4,
 "nbformat_minor": 5
}
