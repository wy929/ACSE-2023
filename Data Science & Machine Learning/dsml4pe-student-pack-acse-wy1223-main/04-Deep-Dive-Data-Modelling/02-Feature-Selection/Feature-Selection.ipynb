{
 "cells": [
  {
   "cell_type": "markdown",
   "id": "365eb103",
   "metadata": {},
   "source": [
    "<img src=\"https://drive.google.com/uc?id=1-cL5eOpEsbuIEkvwW2KnpXC12-PAbamr\" style=\"Width:1000px\">"
   ]
  },
  {
   "cell_type": "markdown",
   "id": "160960a4",
   "metadata": {},
   "source": [
    "# Feature Selection"
   ]
  },
  {
   "cell_type": "markdown",
   "id": "9e3c5243",
   "metadata": {},
   "source": [
    "🎯 This exercise is a continuation of exercise 3 on day 1 (***01-Data-Preparation/03-Preprocessing-Workflow***). Here,  you will perform feature selection to determine what the most important features are. \n",
    "\n",
    "👇 Run the cell below to load your preprocessed dataset. No need to worry aout scaling and missing data, this is all already taken care of for you."
   ]
  },
  {
   "cell_type": "code",
   "execution_count": null,
   "id": "6602452e",
   "metadata": {},
   "outputs": [],
   "source": [
    "from nbta.utils import download_data\n",
    "download_data(id='1PV1BDs1dIob8E40wqgNw2IyPuqkZVaA0')"
   ]
  },
  {
   "cell_type": "code",
   "execution_count": null,
   "id": "7874f096",
   "metadata": {},
   "outputs": [],
   "source": [
    "# ADD YOUR CODE HERE -- You can create new markdown and code cells\n",
    "                    \n",
    "                    \n",
    "                    "
   ]
  },
  {
   "cell_type": "markdown",
   "id": "a84ae124",
   "metadata": {},
   "source": [
    "# Collinearity investigation"
   ]
  },
  {
   "cell_type": "markdown",
   "id": "61f4b2ff",
   "metadata": {},
   "source": [
    "First, create a new variable called <code>features</code> that contains all of our features including <code>Depth CSF-A (m)</code> but excluding any other feature that relates to the expedition, well, core, section name or core top."
   ]
  },
  {
   "cell_type": "markdown",
   "id": "1fb4dd72",
   "metadata": {},
   "source": [
    "👇 Plot a heatmap of the Pearson Correlation between the dataset columns."
   ]
  },
  {
   "cell_type": "markdown",
   "id": "3b26ec28",
   "metadata": {},
   "source": [
    "<details>\n",
    "    <summary>💡 Hint</summary>\n",
    "ℹ️ The easiest way to draw heatmaps is using the Seaborn <code>heatmap()</code> methjod. <a href='https://seaborn.pydata.org/generated/seaborn.heatmap.html'>Read the doc</a> and do all of the necessary imports. Don't forget that you will need to also obtain a correlation matrix of your features.\n",
    "</details>"
   ]
  },
  {
   "cell_type": "code",
   "execution_count": null,
   "id": "8f561335",
   "metadata": {},
   "outputs": [],
   "source": [
    "# ADD YOUR CODE HERE -- You can create new markdown and code cells\n",
    "                    \n",
    "                    \n",
    "                    "
   ]
  },
  {
   "cell_type": "markdown",
   "id": "2bf27ea6",
   "metadata": {},
   "source": [
    "👇 Visualize the correlation between column pairs in a dataframe."
   ]
  },
  {
   "cell_type": "markdown",
   "id": "149288e0",
   "metadata": {},
   "source": [
    "<details>\n",
    "    <summary>💡 Hint</summary>\n",
    "ℹ️ You should investigate the Seaborn <a href='https://seaborn.pydata.org/generated/seaborn.pairplot.html'> <code>pairplot()</code></a> method.\n",
    "</details>"
   ]
  },
  {
   "cell_type": "code",
   "execution_count": null,
   "id": "18528011",
   "metadata": {},
   "outputs": [],
   "source": [
    "# ADD YOUR CODE HERE -- You can create new markdown and code cells\n",
    "                    \n",
    "                    \n",
    "                    "
   ]
  },
  {
   "cell_type": "markdown",
   "id": "75b7135f",
   "metadata": {},
   "source": [
    "❓ How many pairs of features exceed a correlation of 0.9 or -0.9? Save your answer as an integer under variable name `correlated_features`"
   ]
  },
  {
   "cell_type": "code",
   "execution_count": null,
   "id": "df7c38ee",
   "metadata": {},
   "outputs": [],
   "source": [
    "# ADD YOUR CODE HERE -- You can create new markdown and code cells\n",
    "                    \n",
    "                    \n",
    "                    "
   ]
  },
  {
   "cell_type": "markdown",
   "id": "cf5a640c",
   "metadata": {},
   "source": [
    "### ☑️ Test your code"
   ]
  },
  {
   "cell_type": "code",
   "execution_count": null,
   "id": "199e5dec",
   "metadata": {},
   "outputs": [],
   "source": [
    "from nbresult import ChallengeResult\n",
    "\n",
    "result = ChallengeResult('correlation',\n",
    "                         correlated_features = correlated_features\n",
    ")\n",
    "\n",
    "result.write()\n",
    "print(result.check())"
   ]
  },
  {
   "cell_type": "markdown",
   "id": "5a269783",
   "metadata": {},
   "source": [
    "# Base Modelling"
   ]
  },
  {
   "cell_type": "markdown",
   "id": "3b69e43e",
   "metadata": {},
   "source": [
    "We want to model the natural gamma ray response (<code>NGR total counts (cps)</code>) as a function of the other feature. NGR is useful to predict lithologies because it is highly correlated to the presence of clay minerals and organics in rocks. <br> \n",
    "👇 Prepare the feature set `X` and target `y`. Remember that we want to model the `NGR total counts (cps)` with the preprocessed features."
   ]
  },
  {
   "cell_type": "code",
   "execution_count": null,
   "id": "c0aeb54c",
   "metadata": {},
   "outputs": [],
   "source": [
    "# ADD YOUR CODE HERE -- You can create new markdown and code cells\n",
    "                    \n",
    "                    \n",
    "                    "
   ]
  },
  {
   "cell_type": "markdown",
   "id": "364ba9c7",
   "metadata": {},
   "source": [
    "👇 Cross validate a linear regression model. Save the best score under variable name `base_model_score`."
   ]
  },
  {
   "cell_type": "code",
   "execution_count": null,
   "id": "734b7a37",
   "metadata": {},
   "outputs": [],
   "source": [
    "# ADD YOUR CODE HERE -- You can create new markdown and code cells\n",
    "                    \n",
    "                    \n",
    "                    "
   ]
  },
  {
   "cell_type": "markdown",
   "id": "bfe964a7",
   "metadata": {},
   "source": [
    "### ☑️ Test your code"
   ]
  },
  {
   "cell_type": "code",
   "execution_count": null,
   "id": "439fc6e0",
   "metadata": {},
   "outputs": [],
   "source": [
    "from nbresult import ChallengeResult\n",
    "\n",
    "result = ChallengeResult('base_model',\n",
    "                         score = base_model_score\n",
    ")\n",
    "\n",
    "result.write()\n",
    "print(result.check())"
   ]
  },
  {
   "cell_type": "markdown",
   "id": "68bacde3",
   "metadata": {},
   "source": [
    "# Feature Permutation"
   ]
  },
  {
   "cell_type": "markdown",
   "id": "01607239",
   "metadata": {},
   "source": [
    "👇 Perform feature permutation, and rank features by order of importance."
   ]
  },
  {
   "cell_type": "code",
   "execution_count": null,
   "id": "aa032521",
   "metadata": {},
   "outputs": [],
   "source": [
    "# ADD YOUR CODE HERE -- You can create new markdown and code cells\n",
    "                    \n",
    "                    \n",
    "                    "
   ]
  },
  {
   "cell_type": "markdown",
   "id": "22f1923e",
   "metadata": {},
   "source": [
    "❓ Which feature is the most important? Save your answer as a `string` under variable name `best_feature`."
   ]
  },
  {
   "cell_type": "code",
   "execution_count": null,
   "id": "03e30d4d",
   "metadata": {},
   "outputs": [],
   "source": [
    "# ADD YOUR CODE HERE -- You can create new markdown and code cells\n",
    "                    \n",
    "                    \n",
    "                    "
   ]
  },
  {
   "cell_type": "markdown",
   "id": "91d44aed",
   "metadata": {},
   "source": [
    "### ☑️ Test your code"
   ]
  },
  {
   "cell_type": "code",
   "execution_count": null,
   "id": "ff9570af",
   "metadata": {},
   "outputs": [],
   "source": [
    "from nbresult import ChallengeResult\n",
    "\n",
    "result = ChallengeResult('feature_permutation',\n",
    "                         feature = best_feature\n",
    ")\n",
    "\n",
    "result.write()\n",
    "print(result.check())"
   ]
  },
  {
   "cell_type": "markdown",
   "id": "9e5485d4",
   "metadata": {},
   "source": [
    "# Reduced complexity model"
   ]
  },
  {
   "cell_type": "markdown",
   "id": "4bd16cbe",
   "metadata": {},
   "source": [
    "👇 Drop the the weak features and cross-validate a new model. You should aim to maintain a score close to the previous one (though it may fall a bit). Save the score under variable name `simplified_model_score`."
   ]
  },
  {
   "cell_type": "code",
   "execution_count": null,
   "id": "1c5e4f84",
   "metadata": {},
   "outputs": [],
   "source": [
    "# ADD YOUR CODE HERE -- You can create new markdown and code cells\n",
    "                    \n",
    "                    \n",
    "                    "
   ]
  },
  {
   "cell_type": "markdown",
   "id": "7be3226e",
   "metadata": {},
   "source": [
    "### ☑️ Test your code"
   ]
  },
  {
   "cell_type": "code",
   "execution_count": null,
   "id": "56f172e3",
   "metadata": {},
   "outputs": [],
   "source": [
    "from nbresult import ChallengeResult\n",
    "\n",
    "result = ChallengeResult('reduced_complexity_model',\n",
    "                         model_score = simplified_model_score\n",
    ")\n",
    "\n",
    "result.write()\n",
    "print(result.check())"
   ]
  },
  {
   "cell_type": "markdown",
   "id": "359b9586",
   "metadata": {},
   "source": [
    "# 🏁 Finished!\n",
    "\n",
    "Well done! <span style=\"color:teal\">**Push your exercise to GitHub**</span>, and move on to the next one."
   ]
  }
 ],
 "metadata": {
  "kernelspec": {
   "display_name": "Python 3 (ipykernel)",
   "language": "python",
   "name": "python3"
  },
  "language_info": {
   "codemirror_mode": {
    "name": "ipython",
    "version": 3
   },
   "file_extension": ".py",
   "mimetype": "text/x-python",
   "name": "python",
   "nbconvert_exporter": "python",
   "pygments_lexer": "ipython3",
   "version": "3.11.2"
  }
 },
 "nbformat": 4,
 "nbformat_minor": 5
}
