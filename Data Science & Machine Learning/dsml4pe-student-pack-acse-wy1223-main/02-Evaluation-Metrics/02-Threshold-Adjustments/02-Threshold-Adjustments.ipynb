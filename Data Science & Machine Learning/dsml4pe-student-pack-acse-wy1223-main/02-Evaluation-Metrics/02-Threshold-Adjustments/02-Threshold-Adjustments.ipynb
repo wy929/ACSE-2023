{
 "cells": [
  {
   "cell_type": "markdown",
   "id": "23dcb149",
   "metadata": {},
   "source": [
    "<img src=\"https://drive.google.com/uc?id=1-cL5eOpEsbuIEkvwW2KnpXC12-PAbamr\" style=\"Width:1000px\">"
   ]
  },
  {
   "cell_type": "markdown",
   "id": "e15cb20d",
   "metadata": {},
   "source": [
    "# Threshold Adjustment"
   ]
  },
  {
   "cell_type": "markdown",
   "id": "73b08381",
   "metadata": {},
   "source": [
    "The data you will be working with in this exercise consists of measurements of the ionosphere using radar. The radar data was collected by a system in Goose Bay, Labrador. This system consists of a phased array of 16 high-frequency antennas with a total transmitted power on the order of 6.4 kilowatts. The targets were free electrons in the ionosphere. \"Good\" radar returns are those showing evidence of some type of structure in the ionosphere. \"Bad\" returns are those that do not; their signals pass through the ionosphere.\n",
    "\n",
    "Received signals were processed using an autocorrelation function whose arguments are the time of a pulse and the pulse number. There were 17 pulse numbers for the Goose Bay system. Instances in this databse are described by 2 attributes per pulse number, corresponding to the complex values returned by the function resulting from the complex electromagnetic signal.\n",
    "\n",
    "If you are curious, more details about this dataset<a href='https://archive.ics.uci.edu/ml/datasets/Ionosphere'> can be found on the UCI machine learning website.</a>\n",
    "\n",
    "👇 Load the player `ionosphere.data` dataset located within the data folder to see what you will be working with. Note that the dataset does **NOT** have headers for the columns, so you need use <code>header=None</code> as an argument in your <code>read_csv</code> method. <br>\n",
    "Call your new dataframe <code>data</code>."
   ]
  },
  {
   "cell_type": "code",
   "execution_count": 1,
   "id": "ba2c3933-240c-4ae4-8090-a035946c0a2e",
   "metadata": {},
   "outputs": [
    {
     "name": "stdout",
     "output_type": "stream",
     "text": [
      "100% [..............................................................................] 29350 / 29350"
     ]
    }
   ],
   "source": [
    "from nbta.utils import download_data\n",
    "download_data(id='1aT-kqzDPaNZCG82NMGmbjwUtUFbtGLZP')"
   ]
  },
  {
   "cell_type": "code",
   "execution_count": null,
   "id": "12a49701",
   "metadata": {},
   "outputs": [],
   "source": [
    "# ADD YOUR CODE HERE -- You can create new markdown and code cells\n",
    "                    \n",
    "                    \n",
    "                    "
   ]
  },
  {
   "cell_type": "markdown",
   "id": "1af8b592",
   "metadata": {},
   "source": [
    "ℹ️ There is a total of 34 features in this dataset:\n",
    "* All 34 are continuous\n",
    "* The 35th attribute is either \"good\" (g) or \"bad\" (b) according to the definition summarized above. \n",
    "\n",
    "Hence, this is a binary classification task. "
   ]
  },
  {
   "cell_type": "markdown",
   "id": "06c4d941",
   "metadata": {},
   "source": [
    "# Preparing the target\n",
    "Your first task will be to encode the target using <code>sklearn LabelEncoder</code>. Do this, create a new column in your dataset named <code>y</code> and remove the original label column (<code>34</code>)."
   ]
  },
  {
   "cell_type": "code",
   "execution_count": null,
   "id": "82743823",
   "metadata": {},
   "outputs": [],
   "source": [
    "# ADD YOUR CODE HERE -- You can create new markdown and code cells\n",
    "                    \n",
    "                    \n",
    "                    "
   ]
  },
  {
   "cell_type": "markdown",
   "id": "5a692a00",
   "metadata": {},
   "source": [
    "### ☑️ Check your code"
   ]
  },
  {
   "cell_type": "code",
   "execution_count": null,
   "id": "8d487d8b",
   "metadata": {},
   "outputs": [],
   "source": [
    "from nbresult import ChallengeResult\n",
    "\n",
    "result = ChallengeResult('target_encoding',\n",
    "                         dataset = data\n",
    ")\n",
    "\n",
    "result.write()\n",
    "print(result.check())"
   ]
  },
  {
   "cell_type": "markdown",
   "id": "f51c342e",
   "metadata": {},
   "source": [
    "# Preprocessing"
   ]
  },
  {
   "cell_type": "markdown",
   "id": "99748c77",
   "metadata": {},
   "source": [
    "👇 This dataset has no missing values (you're welcome). So first create a target dataset (<code>y</code>) and a feature dataset <code>X</code>. Then let's go ahead and train/test split these using a <code>random_state=42</code> and a <code>test_size=0.3</code> this way your results will be comparable (name them <code>X_train</code>, <code>X_test</code>, <code>y_train</code>, <code>y_test</code>)."
   ]
  },
  {
   "cell_type": "code",
   "execution_count": null,
   "id": "45373d44",
   "metadata": {},
   "outputs": [],
   "source": [
    "# ADD YOUR CODE HERE -- You can create new markdown and code cells\n",
    "                    \n",
    "                    \n",
    "                    "
   ]
  },
  {
   "cell_type": "markdown",
   "id": "cab3007c",
   "metadata": {},
   "source": [
    "👇 To avoid spending too much time on the preprocessing, Robust Scale the entire feature set. This practice is not optimal, but can be used for preliminary preprocessing and/or to get models up and running quickly. Remember to train your <code>RobustScaler()</code> on the <code>X_train</code> only, and then use the <code>.transform</code> method on both the <code>X_train</code> and <code>X_test</code> dataset (replaced the original by the scaled version)."
   ]
  },
  {
   "cell_type": "code",
   "execution_count": null,
   "id": "7136768c",
   "metadata": {},
   "outputs": [],
   "source": [
    "# ADD YOUR CODE HERE -- You can create new markdown and code cells\n",
    "                    \n",
    "                    \n",
    "                    "
   ]
  },
  {
   "cell_type": "markdown",
   "id": "15cd96b1",
   "metadata": {},
   "source": [
    "### ☑️ Check your code"
   ]
  },
  {
   "cell_type": "code",
   "execution_count": null,
   "id": "424763d7",
   "metadata": {},
   "outputs": [],
   "source": [
    "from nbresult import ChallengeResult\n",
    "\n",
    "result = ChallengeResult('scaled_features',\n",
    "                         scaled_features = X_train\n",
    ")\n",
    "\n",
    "result.write()\n",
    "print(result.check())"
   ]
  },
  {
   "cell_type": "markdown",
   "id": "64c610a0",
   "metadata": {},
   "source": [
    "# Base modelling"
   ]
  },
  {
   "cell_type": "markdown",
   "id": "a13ccd8a",
   "metadata": {},
   "source": [
    "🎯 The task is to detect good radar readings with a 90% guarantee.\n",
    "\n",
    "First, let's create a dummy model to see what our accuracy would be if we took a random guess and always classified an instance as a 'bad' reading. Checkout the <code>scikit-learn</code> documentation for <code>DummyClassifier</code> and <code>precision_score</code>, train your classified on your <code>X_train</code> and save the <code>precision_score</code> of your predictions under a variable named '<code>dummy_baseline</code>'.👇 "
   ]
  },
  {
   "cell_type": "code",
   "execution_count": null,
   "id": "ccd6b0fb",
   "metadata": {},
   "outputs": [],
   "source": [
    "# ADD YOUR CODE HERE -- You can create new markdown and code cells\n",
    "                    \n",
    "                    \n",
    "                    "
   ]
  },
  {
   "cell_type": "markdown",
   "id": "26346cfc",
   "metadata": {},
   "source": [
    "Well, that is interesing isn't it? Are you surprise by this baseline score? Explain in a sentence or two below what you think this result means."
   ]
  },
  {
   "cell_type": "code",
   "execution_count": null,
   "id": "eae59c32",
   "metadata": {},
   "outputs": [],
   "source": [
    "# ADD YOUR CODE HERE -- You can create new markdown and code cells\n",
    "                    \n",
    "                    \n",
    "                    "
   ]
  },
  {
   "cell_type": "markdown",
   "id": "2e09b138",
   "metadata": {},
   "source": [
    "Can you test your theory by looking at the dataset? 👇 "
   ]
  },
  {
   "cell_type": "code",
   "execution_count": null,
   "id": "5ccd567c",
   "metadata": {},
   "outputs": [],
   "source": [
    "# ADD YOUR CODE HERE -- You can create new markdown and code cells\n",
    "                    \n",
    "                    \n",
    "                    "
   ]
  },
  {
   "cell_type": "markdown",
   "id": "c31d4d12",
   "metadata": {},
   "source": [
    "👇 Now let's check if a default Logistic Regression model is going to satisfy our requirement of over 90% precision. Use cross validation on your <code>X_train</code> and save the score that supports your answer under variable name `base_score`."
   ]
  },
  {
   "cell_type": "code",
   "execution_count": null,
   "id": "15575fd3",
   "metadata": {},
   "outputs": [],
   "source": [
    "# ADD YOUR CODE HERE -- You can create new markdown and code cells\n",
    "                    \n",
    "                    \n",
    "                    "
   ]
  },
  {
   "cell_type": "markdown",
   "id": "adab73f1",
   "metadata": {},
   "source": [
    "### ☑️ Check your code"
   ]
  },
  {
   "cell_type": "code",
   "execution_count": null,
   "id": "355ebe3f",
   "metadata": {},
   "outputs": [],
   "source": [
    "from nbresult import ChallengeResult\n",
    "\n",
    "result = ChallengeResult('base_precision',\n",
    "                         score = base_score,\n",
    "                         dummy = dummy_baseline\n",
    ")\n",
    "\n",
    "result.write()\n",
    "print(result.check())"
   ]
  },
  {
   "cell_type": "markdown",
   "id": "acfc186c",
   "metadata": {},
   "source": [
    "# Threshold adjustment"
   ]
  },
  {
   "cell_type": "markdown",
   "id": "49e26ef4",
   "metadata": {},
   "source": [
    "So our logistic regression does much better than a DummyClassifier. 🥳 But this is still not quite where we need it (>90%). Luckily, because we are dealing with binary classification we can adjust our decision threshold to increase precision at the cost of accuracy.<br>\n",
    "👇 Find the decision threshold that guarantees a 90% precision for a positive identification as belonging to the 'good measurement' class. Save the threshold under variable name `new_threshold`."
   ]
  },
  {
   "cell_type": "markdown",
   "id": "3781abe8",
   "metadata": {},
   "source": [
    "<details>\n",
    "<summary>💡 Hint</summary>\n",
    "\n",
    "- Make cross validated probability predictions with [`cross_val_predict`](https://scikit-learn.org/stable/modules/generated/sklearn.model_selection.cross_val_predict.html)\n",
    "    \n",
    "- Plug the probabilities into [`precision_recall_curve`](https://scikit-learn.org/stable/modules/generated/sklearn.metrics.precision_recall_curve.html) to generate precision scores at different thresholds\n",
    "\n",
    "- Find out which threshold guarantees a precision of 0.9\n",
    "      \n",
    "</details>\n",
    "\n"
   ]
  },
  {
   "cell_type": "code",
   "execution_count": null,
   "id": "645e5951",
   "metadata": {},
   "outputs": [],
   "source": [
    "# ADD YOUR CODE HERE -- You can create new markdown and code cells\n",
    "                    \n",
    "                    \n",
    "                    "
   ]
  },
  {
   "cell_type": "markdown",
   "id": "49bc28fc",
   "metadata": {},
   "source": [
    "### ☑️ Check your code"
   ]
  },
  {
   "cell_type": "code",
   "execution_count": null,
   "id": "72f920b9",
   "metadata": {},
   "outputs": [],
   "source": [
    "from nbresult import ChallengeResult\n",
    "\n",
    "result = ChallengeResult('decision_threshold',\n",
    "                         threshold = new_threshold\n",
    ")\n",
    "\n",
    "result.write()\n",
    "print(result.check())"
   ]
  },
  {
   "cell_type": "markdown",
   "id": "3216f45d",
   "metadata": {},
   "source": [
    "# Using the new threshold"
   ]
  },
  {
   "cell_type": "markdown",
   "id": "7c0aebe1",
   "metadata": {},
   "source": [
    "🎯 Now let's properly train our <code>LogisticRegression()</code> model using the train set, test it with the test set and the <code>precision_score</code> using your new threshold. Remember that you will need to use the <code>.predict_proba</code> method on your logistic classifier and apply the threshold manually. Save the precision on the test score as a variable named <code>test_precision_score</code>."
   ]
  },
  {
   "cell_type": "code",
   "execution_count": null,
   "id": "f58ecced",
   "metadata": {},
   "outputs": [],
   "source": [
    "# ADD YOUR CODE HERE -- You can create new markdown and code cells\n",
    "                    \n",
    "                    \n",
    "                    "
   ]
  },
  {
   "cell_type": "markdown",
   "id": "2e19c922",
   "metadata": {},
   "source": [
    "🤔 So this is not quite 90% is it? This is because we adjusted the threshold on a small training set. As you can see, on unseen data this does not quite translate to exactly what we wanted, but it is close and better than before!"
   ]
  },
  {
   "cell_type": "markdown",
   "id": "14f25c82",
   "metadata": {},
   "source": [
    "❓ Now let's open a new, unseen sample without a label: open the <code>ionosphere_sample.csv</code> file located in your <code>data</code> folder (remember: <code>header=False</code>). Do you think that this is a good or a bad reading? Save your answer as string under variable name `recommendation` as \"good\" or \"bad\". <br>\n",
    "🚨 Remember to scale this data with your scaler before you predict (you will need to transpose the data as you have only 1 sample in a column vector)!"
   ]
  },
  {
   "cell_type": "code",
   "execution_count": null,
   "id": "9b07194b",
   "metadata": {},
   "outputs": [],
   "source": [
    "# ADD YOUR CODE HERE -- You can create new markdown and code cells\n",
    "                    \n",
    "                    \n",
    "                    "
   ]
  },
  {
   "cell_type": "markdown",
   "id": "a76bad1b",
   "metadata": {},
   "source": [
    "### ☑️ Check your code"
   ]
  },
  {
   "cell_type": "code",
   "execution_count": null,
   "id": "a36a7ca9",
   "metadata": {},
   "outputs": [],
   "source": [
    "from nbresult import ChallengeResult\n",
    "\n",
    "result = ChallengeResult('recommendation',\n",
    "                         recommendation = recommendation\n",
    ")\n",
    "\n",
    "result.write()\n",
    "print(result.check())"
   ]
  },
  {
   "cell_type": "markdown",
   "id": "29a8218c",
   "metadata": {},
   "source": [
    "# 🏁 Finished!\n",
    "\n",
    "Well done! <span style=\"color:teal\">**Push your exercise to GitHub**</span>, and move on to the next one."
   ]
  }
 ],
 "metadata": {
  "kernelspec": {
   "display_name": "",
   "name": ""
  },
  "language_info": {
   "name": ""
  }
 },
 "nbformat": 4,
 "nbformat_minor": 5
}
