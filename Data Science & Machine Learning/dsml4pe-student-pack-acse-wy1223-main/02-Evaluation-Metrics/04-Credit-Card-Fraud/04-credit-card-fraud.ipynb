{
 "cells": [
  {
   "cell_type": "markdown",
   "id": "223bd03c",
   "metadata": {},
   "source": [
    "<img src=\"https://drive.google.com/uc?id=1-hPP-XPm9_5M3orUgmompcVleQ5xvPST\" style=\"Width:1000px\">"
   ]
  },
  {
   "cell_type": "markdown",
   "id": "b69a48de",
   "metadata": {},
   "source": [
    "# Optional Exercise on Credit Card Fraud"
   ]
  },
  {
   "cell_type": "markdown",
   "id": "eca25219",
   "metadata": {},
   "source": [
    "🎯 This is a classic dataset that offers asome interesting challenges. You are asked to develop a model for a bank that is able to detect at least 90% of fraudlent transactions. The things to watch out for are balance of the dataset, and the type of classification that is required (and thus, the freedom to adjust decision boundaries)."
   ]
  },
  {
   "cell_type": "markdown",
   "id": "726b9ef8",
   "metadata": {},
   "source": [
    "👇 Load the data from `creditcard.csv` and have fun! Note that this exercise is opened-ended and does not have a solution."
   ]
  },
  {
   "cell_type": "code",
   "execution_count": null,
   "id": "ff5babec",
   "metadata": {},
   "outputs": [],
   "source": [
    "from nbta.utils import download_data\n",
    "download_data(id='1H3EkLCqMO4JwsKyhU4cW2IOwRUopdOgT')"
   ]
  },
  {
   "cell_type": "code",
   "execution_count": null,
   "id": "516a4ef8",
   "metadata": {},
   "outputs": [],
   "source": [
    "import pandas as pd\n",
    "\n",
    "data = pd.read_csv(\"raw_data/creditcard.csv\")\n",
    "\n",
    "data.head()"
   ]
  },
  {
   "cell_type": "markdown",
   "id": "e5744350",
   "metadata": {},
   "source": [
    "ℹ️ Due to confidentiality issues, the original features have been preprocessed and renamed `V1` to `V28`. There is only one features which has not been transformed, `Amount` which is the transaction Amount. `Class` is the target and it takes value 1 in case of fraud and 0 otherwise."
   ]
  },
  {
   "cell_type": "code",
   "execution_count": null,
   "id": "dd52072c",
   "metadata": {},
   "outputs": [],
   "source": []
  }
 ],
 "metadata": {
  "kernelspec": {
   "display_name": "Python 3 (ipykernel)",
   "language": "python",
   "name": "python3"
  },
  "language_info": {
   "codemirror_mode": {
    "name": "ipython",
    "version": 3
   },
   "file_extension": ".py",
   "mimetype": "text/x-python",
   "name": "python",
   "nbconvert_exporter": "python",
   "pygments_lexer": "ipython3",
   "version": "3.11.2"
  }
 },
 "nbformat": 4,
 "nbformat_minor": 5
}
