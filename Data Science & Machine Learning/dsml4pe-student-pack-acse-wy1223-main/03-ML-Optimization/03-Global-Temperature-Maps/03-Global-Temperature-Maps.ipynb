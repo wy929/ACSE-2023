{
 "cells": [
  {
   "cell_type": "markdown",
   "id": "5723ad77",
   "metadata": {},
   "source": [
    "<img src=\"https://drive.google.com/uc?id=1-hPP-XPm9_5M3orUgmompcVleQ5xvPST\" style=\"Width:1000px\">"
   ]
  },
  {
   "cell_type": "markdown",
   "id": "d7bc16f2",
   "metadata": {},
   "source": [
    "# Introduction to Geostatistics and Kriging\n",
    "<br>\n",
    "\n",
    "<center><img src=\"https://drive.google.com/uc?id=17LZZhafq83RfB6OLpqYTRBvoTowojBZF\" style=\"width:900px;\"><br>\n",
    " © Cédric John, 2022; Image generated with <a href=\"https://openai.com/blog/dall-e/\">DALL-E</a><br>\n",
    "<br>Prompt: a 4k photo of a blue-gray shrew coming out of a ground hole holding a golden nugget in her hand and wearing a miners hat, digital art.</center>"
   ]
  },
  {
   "cell_type": "markdown",
   "id": "ee53999d",
   "metadata": {},
   "source": [
    "To follow this more advanced class, you will need to have the `pykrige` package installed. So let's run the cell below and install it:"
   ]
  },
  {
   "cell_type": "code",
   "execution_count": null,
   "id": "b3c18a20",
   "metadata": {},
   "outputs": [
    {
     "name": "stdout",
     "output_type": "stream",
     "text": [
      "Requirement already satisfied: pykrige in /Users/cedric/.pyenv/versions/3.10/envs/dsml4pe/lib/python3.11/site-packages (1.7.1)\n",
      "Requirement already satisfied: numpy<2,>=1.14.5 in /Users/cedric/.pyenv/versions/3.10/envs/dsml4pe/lib/python3.11/site-packages (from pykrige) (1.25.2)\n",
      "Requirement already satisfied: scipy<2,>=1.1.0 in /Users/cedric/.pyenv/versions/3.10/envs/dsml4pe/lib/python3.11/site-packages (from pykrige) (1.11.3)\n",
      "\n",
      "\u001b[1m[\u001b[0m\u001b[34;49mnotice\u001b[0m\u001b[1;39;49m]\u001b[0m\u001b[39;49m A new release of pip is available: \u001b[0m\u001b[31;49m23.3\u001b[0m\u001b[39;49m -> \u001b[0m\u001b[32;49m23.3.1\u001b[0m\n",
      "\u001b[1m[\u001b[0m\u001b[34;49mnotice\u001b[0m\u001b[1;39;49m]\u001b[0m\u001b[39;49m To update, run: \u001b[0m\u001b[32;49mpython3.11 -m pip install --upgrade pip\u001b[0m\n"
     ]
    }
   ],
   "source": [
    "!pip install pykrige"
   ]
  },
  {
   "cell_type": "markdown",
   "id": "9243a038",
   "metadata": {},
   "source": [
    "# Principle\n",
    "\n",
    "In the previous machine learning exercises we generally modelled (predicted) one variable by using other exogenous variable. With <code>geostatistics</code> we will see that we can infer the distribution of a variable through space **using a few key assumptions**. This spatial autocorrelation will help us, for instance, interpolating data in space."
   ]
  },
  {
   "cell_type": "markdown",
   "id": "26765069",
   "metadata": {},
   "source": [
    "👆 First, let's review some key concepts"
   ]
  },
  {
   "cell_type": "markdown",
   "id": "6add53bb",
   "metadata": {},
   "source": [
    "### Measuring distance\n",
    "\n",
    "We can imagine the theoretical distribution of a continuous variable as an unknown function $Z(s)$, where $s$ is the location of the point. Any given point can be separated by a distance $h$\n",
    "<img src=\"https://drive.google.com/uc?id=17QOzuY88Gv44HK2quxpn99HLVq6E1AE7\" style=\"width:900px\">\n",
    "<a href=\"https://aegis4048.github.io/spatial-simulation-1-basics-of-variograms\">Kim, 2019</a>"
   ]
  },
  {
   "cell_type": "markdown",
   "id": "4c522c9a",
   "metadata": {},
   "source": [
    "### Measuring distance\n",
    "\n",
    "This distance can be measured at any span (lag) and in any direction, not just diagonally.\n",
    "<img src=\"https://drive.google.com/uc?id=17PSFRF6G1mKl6zQQQH0b5-AfJ03x06ap\" style=\"width:900px\">\n",
    "<a href=\"https://aegis4048.github.io/spatial-simulation-1-basics-of-variograms\">Kim, 2019</a>"
   ]
  },
  {
   "cell_type": "markdown",
   "id": "5f94d058",
   "metadata": {},
   "source": [
    "### Semivariogram <span style=\"color:teal\">$\\gamma(h)$</span>  (and variogram <span style=\"color:teal\">$2\\gamma$</span> )"
   ]
  },
  {
   "cell_type": "markdown",
   "id": "5e09a3a4",
   "metadata": {},
   "source": [
    "The semivariogram (<span style=\"color:teal\">$\\gamma(h)$</span>) is half the spatial variance between two data points separated by the lag distance h:\n",
    "\n",
    "$$\\gamma(h)=\\frac{1}{2n(h)}\\sum_{\\alpha=1}^{n(h)}(z(u\\alpha)−z(u\\alpha+h))^2$$"
   ]
  },
  {
   "cell_type": "markdown",
   "id": "1ef459c0",
   "metadata": {},
   "source": [
    "<span style=\"color:red\">$n(h)$</span> = number of all data point pairs separated by the distance, h."
   ]
  },
  {
   "cell_type": "markdown",
   "id": "be4f0107",
   "metadata": {},
   "source": [
    "<span style=\"color:blue\">$h$</span> = **lag distance**. Separation between two data points."
   ]
  },
  {
   "cell_type": "markdown",
   "id": "7b736106",
   "metadata": {},
   "source": [
    "<span style=\"color:green\">$u\\alpha$</span> = data point on 2D or 3D space at the location, $\\alpha$."
   ]
  },
  {
   "cell_type": "markdown",
   "id": "09c150e9",
   "metadata": {},
   "source": [
    "<span style=\"color:green\">$u\\alpha+$</span><span style=\"color:blue\">$h$</span> = data point separated from <span style=\"color:green\">$u\\alpha$</span> by the distance, <span style=\"color:blue\">$h$</span>."
   ]
  },
  {
   "cell_type": "markdown",
   "id": "772f6c0a",
   "metadata": {},
   "source": [
    "$z($<span style=\"color:green\">$u\\alpha$</span>) = numerical value of data point"
   ]
  },
  {
   "cell_type": "markdown",
   "id": "6537d6a9",
   "metadata": {},
   "source": [
    "$z($<span style=\"color:green\">$u\\alpha+$</span><span style=\"color:blue\">$h$</span>) = numerical value of data point"
   ]
  },
  {
   "cell_type": "markdown",
   "id": "4414b043",
   "metadata": {},
   "source": [
    "<img src=\"https://drive.google.com/uc?id=17RIuM6EgQx9vU7cFwMFxo17NlJq1oagB\" style=\"width:1300px\">\n",
    "<a href=\"https://aegis4048.github.io/spatial-simulation-1-basics-of-variograms\">Kim, 2019</a>"
   ]
  },
  {
   "cell_type": "markdown",
   "id": "6a96f006",
   "metadata": {},
   "source": [
    "<span style=\"color:purple\">nugget</span>:  Variance at <span style=\"color:blue\">$h=0$</span>"
   ]
  },
  {
   "cell_type": "markdown",
   "id": "4759e48c",
   "metadata": {},
   "source": [
    "<span style=\"color:green\">range (a)</span>: lag distance $a$ at which spatial data pairs lose correlation (i.e. reaches the **sill**)."
   ]
  },
  {
   "cell_type": "markdown",
   "id": "6eec09bb",
   "metadata": {},
   "source": [
    "<span style=\"color:teal\">Sill ($\\sigma^2$)</span>: Value for the variance at the **range** distance"
   ]
  },
  {
   "cell_type": "markdown",
   "id": "a1a15e36",
   "metadata": {},
   "source": [
    "<span style=\"color:red\">Variogram Model</span>: The blue datapoints are fitted with a model (the red line) which is limited to a few defined functions."
   ]
  },
  {
   "cell_type": "markdown",
   "id": "304e06b1",
   "metadata": {},
   "source": [
    "<img src=\"https://drive.google.com/uc?id=17RIuM6EgQx9vU7cFwMFxo17NlJq1oagB\" style=\"width:1300px\">\n",
    "<a href=\"https://aegis4048.github.io/spatial-simulation-1-basics-of-variograms\">Kim, 2019</a>\n",
    "\n",
    "#### Nugget Effect (c0)\n",
    "\n",
    "Refers to the nonzero intercept of the variogram and is an overall estimate of error caused by measurement inaccuracy and environmental variability occurring at fine enough scales to be unresolved by the sampling interval."
   ]
  },
  {
   "cell_type": "markdown",
   "id": "15eb2f43",
   "metadata": {},
   "source": [
    "## Building the semivariogram\n",
    "\n",
    "We can build a semivariogram by simply plotting the variance of samples separated by a range of different distances:\n",
    "<img src=\"https://drive.google.com/uc?id=17NykX5oZZV_sDsI37BlaW8Q7LG6U5Suv\" style=\"width:1500\">"
   ]
  },
  {
   "cell_type": "markdown",
   "id": "69e94df3",
   "metadata": {},
   "source": [
    "<img src=\"https://drive.google.com/uc?id=17NXuEGtCBjNfoHHso4oHUTgUpKc-6wA6\" style=\"width:1500\">"
   ]
  },
  {
   "cell_type": "markdown",
   "id": "9621eb79",
   "metadata": {},
   "source": [
    "<img src=\"https://drive.google.com/uc?id=17Mhh1Tj1ZBz30C2AkXc7kgPfNiARHs__\" style=\"width:1500\">\n",
    "<a href=\"https://aegis4048.github.io/spatial-simulation-1-basics-of-variograms\">Kim, 2019</a>"
   ]
  },
  {
   "cell_type": "markdown",
   "id": "d3b59385",
   "metadata": {},
   "source": [
    "### The variogram model\n",
    "\n",
    "We then 'fit' a regression line through the points we have identified. This is the `variogram model` and is represented by the red line in the figures above. The choice of an appropriate <span style=\"color:red\">variogram model</span> is a crucial one. The most common functions are:"
   ]
  },
  {
   "cell_type": "markdown",
   "id": "dbfdcc39",
   "metadata": {},
   "source": [
    "#### Gaussian function\n",
    "$\\gamma(h)=(s-n)\\left(1-\\exp\\left(-\\frac{h^2}{r^2a}\\right)\\right) + n1_{(0,\\infty)}(h)$"
   ]
  },
  {
   "cell_type": "markdown",
   "id": "758193bd",
   "metadata": {},
   "source": [
    "#### Spherical function\n",
    "$\\gamma(h)=(s-n)((\\frac{3h}{2r}-\\frac{h^3}{2r^3})l_{[0,r)}(h)+l_{(0,\\inf)}(h))+nl_{(0,\\inf)}(h)$"
   ]
  },
  {
   "cell_type": "markdown",
   "id": "df910674",
   "metadata": {},
   "source": [
    "#### Exponential function\n",
    "$\\gamma(h)=(s-n)(1-e^{(-h/(ra))})+nl_{(0,\\inf)}(h)$"
   ]
  },
  {
   "cell_type": "markdown",
   "id": "d965cb4e",
   "metadata": {},
   "source": [
    "**Other functions include** linear, power, and hole-effect (but are less commonly applied)\n"
   ]
  },
  {
   "cell_type": "markdown",
   "id": "1bc86eea",
   "metadata": {},
   "source": [
    "## Interpolating Spatial Data (Kriging)"
   ]
  },
  {
   "cell_type": "markdown",
   "id": "f01eae3a",
   "metadata": {},
   "source": [
    "We can now make use of the semivariogram in order to be able to model (interpolate) spatial data with few observations (left below) to a continuous field (right below):\n",
    "<img src=\"https://drive.google.com/uc?id=17RtbcELfEHQtan5khFi6nIZSB9BMS_yU\" style=\"width:1500\">"
   ]
  },
  {
   "cell_type": "markdown",
   "id": "7a1684d2",
   "metadata": {},
   "source": [
    "### The <span style=\"color:teal\">Kriging Method</span> and the birth of <span style=\"color:blue\">Geostatistics</span>\n",
    "\n",
    "<img src=\"https://drive.google.com/uc?id=17My9iWZPhkXxxYkp6vA-lvBvM8_DTcNb\" style=\"height:310px;padding:3px\" align=\"left\">\n",
    "<img src=\"https://drive.google.com/uc?id=17OYFEVZ3koBwJOdUNfqtRJVh1alriF_A\" style=\"height:330px;padding:5px\" align=\"left\">\n",
    "\n",
    "\n",
    "This problem was solved first in 1951 by a South African mining Engineer (<span style=\"color:teal\">***Danige Kriege, left***</span>) working on gold mines. It was later perfect by a French statistician (<span style=\"color:blue\">***Georges Matheron, right***</span>) who gave birth to the field of <span style=\"color:blue\">**Geostatistics** </span>(this term refers specifically to this technique, and not to any statistics applied in geosciences). The <span style=\"color:teal\">**Kriging**</span> method proved so useful that  fields other than geosciences (e.g. ecology, meteorology, ...) adopted it over time."
   ]
  },
  {
   "cell_type": "markdown",
   "id": "de54f096",
   "metadata": {},
   "source": [
    "## Simple Kriging\n",
    "This is the original method invited by Krige. It relies on the assumption of stationarity for the dataset."
   ]
  },
  {
   "cell_type": "markdown",
   "id": "a4b1af9f",
   "metadata": {},
   "source": [
    "$$E[Z(s)]=\\sum_{i=1}^n(s_i*p_i)=\\mu$$"
   ]
  },
  {
   "cell_type": "markdown",
   "id": "29b55a76",
   "metadata": {},
   "source": [
    "☝🏾 Assumes **stationarity** of $Z$"
   ]
  },
  {
   "cell_type": "markdown",
   "id": "67ae186d",
   "metadata": {},
   "source": [
    "$$Var[Z(s)-Z(s+h)] = 2\\gamma(|h|)$$"
   ]
  },
  {
   "cell_type": "markdown",
   "id": "caabd2d6",
   "metadata": {},
   "source": [
    "Goal of Kriging is to predict the random field $Z(s_{0})$ at location $s_{0}$ from the observed data. To do this, Kriging consists of solving the following equation:"
   ]
  },
  {
   "cell_type": "markdown",
   "id": "560b409b",
   "metadata": {},
   "source": [
    "$$\\hat{Z}(s_{0})=\\sum_{i=1}^{n}\\beta_{i}Z(s_{i})$$"
   ]
  },
  {
   "cell_type": "markdown",
   "id": "8161df33",
   "metadata": {},
   "source": [
    "☝🏾 where the weights $\\beta_{i}$ are chosen to make the estimator unbiased and of minimal prediction error."
   ]
  },
  {
   "cell_type": "markdown",
   "id": "a31a8ba4",
   "metadata": {},
   "source": [
    "Unbiasedness means that:\n",
    "$$E[\\hat{Z}(s_{0})]=E[\\sum_{i=1}^{n}\\beta_{i}Z(s_{i})]$$\n",
    "\n",
    "$$=\\sum_{i=1}^{n}\\beta_{i}E[Z(s_{i})]$$\n",
    "\n",
    "$$=\\sum_{i=1}^{n}\\beta_{i}\\mu$$"
   ]
  },
  {
   "cell_type": "markdown",
   "id": "a1871ae7",
   "metadata": {},
   "source": [
    "Last equality derives from the stationarity of the mean. The estimator is unbiased, i.e.:\n",
    "\n",
    "$$E[\\hat{Z}(s_{0})] = E[Z(s_{0})]$$\n",
    "\n",
    "If the weights sum to parity:\n",
    "\n",
    "$$\\sum_{i=1}^{n}\\beta_i=1$$"
   ]
  },
  {
   "cell_type": "markdown",
   "id": "ad99aed7",
   "metadata": {},
   "source": [
    "#### Kriging Variance ($\\sigma^2_{s_0}$)"
   ]
  },
  {
   "cell_type": "markdown",
   "id": "15b38bfb",
   "metadata": {},
   "source": [
    "$$\\sigma_{s_0}\\equiv E[\\hat{Z}(s_0)-Z(s_0)]^2$$"
   ]
  },
  {
   "cell_type": "markdown",
   "id": "027dfe58",
   "metadata": {},
   "source": [
    "$$=E[\\sum_{i=1}^n\\beta_i (Z(s_i)-Z(s_0))]^2$$"
   ]
  },
  {
   "cell_type": "markdown",
   "id": "6902a766",
   "metadata": {},
   "source": [
    "Which can be expanded:\n",
    "$$=E[\\sum_{i=1}^n\\sum_{j=1}^n\\beta_i \\beta_j \\frac{(Z(s_i)-Z(s_j))^2}{2}-\\sum_{i=1}^n \\beta_i(Z(s_i)-Z(s_0))^2]$$"
   ]
  },
  {
   "cell_type": "markdown",
   "id": "ebd11c78",
   "metadata": {},
   "source": [
    "$$=\\sum_{i=1}^n\\sum_{j=1}^n\\beta_i \\beta_j \\frac{E[Z(s_i)-Z(s_j)]^2}{2}-\\sum_{i=1}^n \\beta_i E[Z(s_i)-Z(s_0)]^2$$"
   ]
  },
  {
   "cell_type": "markdown",
   "id": "cd0a90b4",
   "metadata": {},
   "source": [
    "$$=\\sum_{i=1}^n\\sum_{j=1}^n\\beta_i \\beta_j \\gamma(|h_{ij}|)-\\sum_{i=1}^n \\beta_i 2\\gamma(|h_{i0}|)$$"
   ]
  },
  {
   "cell_type": "markdown",
   "id": "6f20baaa",
   "metadata": {},
   "source": [
    "### Solving the Kriging Equation\n",
    "\n",
    "Solving the Kriging equation means finding the best weights $\\beta$ to minimize the Kriging Variance. Exactly ***how*** this is done is beyond the scope of this module (but those of you taking the ***optimization*** module might learn more about it).\n",
    "\n",
    "Just for completeness sake, know that the method used is the **Lagrange Multiplier Method** (a constrained optimization method)."
   ]
  },
  {
   "cell_type": "markdown",
   "id": "7c7aeca4",
   "metadata": {},
   "source": [
    "With that method, the optimal weights are found by setting to zero, the partial derivative, with respect to each $\\beta_i$ of the objective function defined as:\n",
    "\n",
    "$$f(\\beta_1,...,\\beta_n,\\lambda)={\\sigma_{s_0}}^2+2\\lambda(\\sum_{i=1}^n \\beta_i-1))$$\n",
    "\n",
    "Where $\\lambda$ is known as the ***Lagrange Multiplier***"
   ]
  },
  {
   "cell_type": "markdown",
   "id": "4973508e",
   "metadata": {},
   "source": [
    "The partial derivative $\\frac{\\partial f}{\\partial \\lambda}$ set to zero yields the unbiasedness condition, and a system of n+1 linear equations to be solved for the n optimal weights $\\beta_1, . . . , \\beta_n$. The set of these linear equations is called the **ordinary kriging system (Matheron 1971)**:"
   ]
  },
  {
   "cell_type": "markdown",
   "id": "ac9fd6e3",
   "metadata": {},
   "source": [
    "$$\\Bigg\\{^{\\sum_{j=1}^n \\beta_j\\gamma(|h_{ij}|) + \\lambda = \\gamma(|h_{i0}|) \\;\\;\\;\\;\\;\\; i=1,...,n}_{\\sum_{j=1}^n \\beta_j=1}$$"
   ]
  },
  {
   "cell_type": "markdown",
   "id": "58a7b495",
   "metadata": {},
   "source": [
    "# Simple Kriging in Practice\n",
    "\n",
    "Let's solve a spacial problem: predicting the distribution of porosity in the subsurface. We will use Ordinary Kriging. We will also need the same data as used in the lecture, so first let's load it:"
   ]
  },
  {
   "cell_type": "code",
   "execution_count": null,
   "id": "2d68bf09",
   "metadata": {},
   "outputs": [
    {
     "data": {
      "text/html": [
       "<div>\n",
       "<style scoped>\n",
       "    .dataframe tbody tr th:only-of-type {\n",
       "        vertical-align: middle;\n",
       "    }\n",
       "\n",
       "    .dataframe tbody tr th {\n",
       "        vertical-align: top;\n",
       "    }\n",
       "\n",
       "    .dataframe thead th {\n",
       "        text-align: right;\n",
       "    }\n",
       "</style>\n",
       "<table border=\"1\" class=\"dataframe\">\n",
       "  <thead>\n",
       "    <tr style=\"text-align: right;\">\n",
       "      <th></th>\n",
       "      <th>X</th>\n",
       "      <th>Y</th>\n",
       "      <th>Facies</th>\n",
       "      <th>Porosity</th>\n",
       "      <th>Perm</th>\n",
       "      <th>AI</th>\n",
       "    </tr>\n",
       "  </thead>\n",
       "  <tbody>\n",
       "    <tr>\n",
       "      <th>0</th>\n",
       "      <td>100.0</td>\n",
       "      <td>900.0</td>\n",
       "      <td>1.0</td>\n",
       "      <td>0.100187</td>\n",
       "      <td>1.363890</td>\n",
       "      <td>5110.699751</td>\n",
       "    </tr>\n",
       "    <tr>\n",
       "      <th>1</th>\n",
       "      <td>100.0</td>\n",
       "      <td>800.0</td>\n",
       "      <td>0.0</td>\n",
       "      <td>0.107947</td>\n",
       "      <td>12.576845</td>\n",
       "      <td>4671.458560</td>\n",
       "    </tr>\n",
       "    <tr>\n",
       "      <th>2</th>\n",
       "      <td>100.0</td>\n",
       "      <td>700.0</td>\n",
       "      <td>0.0</td>\n",
       "      <td>0.085357</td>\n",
       "      <td>5.984520</td>\n",
       "      <td>6127.548006</td>\n",
       "    </tr>\n",
       "    <tr>\n",
       "      <th>3</th>\n",
       "      <td>100.0</td>\n",
       "      <td>600.0</td>\n",
       "      <td>0.0</td>\n",
       "      <td>0.108460</td>\n",
       "      <td>2.446678</td>\n",
       "      <td>5201.637996</td>\n",
       "    </tr>\n",
       "    <tr>\n",
       "      <th>4</th>\n",
       "      <td>100.0</td>\n",
       "      <td>500.0</td>\n",
       "      <td>0.0</td>\n",
       "      <td>0.102468</td>\n",
       "      <td>1.952264</td>\n",
       "      <td>3835.270322</td>\n",
       "    </tr>\n",
       "    <tr>\n",
       "      <th>...</th>\n",
       "      <td>...</td>\n",
       "      <td>...</td>\n",
       "      <td>...</td>\n",
       "      <td>...</td>\n",
       "      <td>...</td>\n",
       "      <td>...</td>\n",
       "    </tr>\n",
       "    <tr>\n",
       "      <th>256</th>\n",
       "      <td>780.0</td>\n",
       "      <td>669.0</td>\n",
       "      <td>1.0</td>\n",
       "      <td>0.175642</td>\n",
       "      <td>629.138468</td>\n",
       "      <td>3140.692477</td>\n",
       "    </tr>\n",
       "    <tr>\n",
       "      <th>257</th>\n",
       "      <td>50.0</td>\n",
       "      <td>779.0</td>\n",
       "      <td>1.0</td>\n",
       "      <td>0.091725</td>\n",
       "      <td>0.656564</td>\n",
       "      <td>6197.834381</td>\n",
       "    </tr>\n",
       "    <tr>\n",
       "      <th>258</th>\n",
       "      <td>430.0</td>\n",
       "      <td>589.0</td>\n",
       "      <td>1.0</td>\n",
       "      <td>0.139057</td>\n",
       "      <td>13.124324</td>\n",
       "      <td>3981.017070</td>\n",
       "    </tr>\n",
       "    <tr>\n",
       "      <th>259</th>\n",
       "      <td>130.0</td>\n",
       "      <td>489.0</td>\n",
       "      <td>0.0</td>\n",
       "      <td>0.099351</td>\n",
       "      <td>8.681915</td>\n",
       "      <td>4954.088777</td>\n",
       "    </tr>\n",
       "    <tr>\n",
       "      <th>260</th>\n",
       "      <td>280.0</td>\n",
       "      <td>929.0</td>\n",
       "      <td>1.0</td>\n",
       "      <td>0.129129</td>\n",
       "      <td>73.611975</td>\n",
       "      <td>4235.867740</td>\n",
       "    </tr>\n",
       "  </tbody>\n",
       "</table>\n",
       "<p>261 rows × 6 columns</p>\n",
       "</div>"
      ],
      "text/plain": [
       "         X      Y  Facies  Porosity        Perm           AI\n",
       "0    100.0  900.0     1.0  0.100187    1.363890  5110.699751\n",
       "1    100.0  800.0     0.0  0.107947   12.576845  4671.458560\n",
       "2    100.0  700.0     0.0  0.085357    5.984520  6127.548006\n",
       "3    100.0  600.0     0.0  0.108460    2.446678  5201.637996\n",
       "4    100.0  500.0     0.0  0.102468    1.952264  3835.270322\n",
       "..     ...    ...     ...       ...         ...          ...\n",
       "256  780.0  669.0     1.0  0.175642  629.138468  3140.692477\n",
       "257   50.0  779.0     1.0  0.091725    0.656564  6197.834381\n",
       "258  430.0  589.0     1.0  0.139057   13.124324  3981.017070\n",
       "259  130.0  489.0     0.0  0.099351    8.681915  4954.088777\n",
       "260  280.0  929.0     1.0  0.129129   73.611975  4235.867740\n",
       "\n",
       "[261 rows x 6 columns]"
      ]
     },
     "metadata": {},
     "output_type": "display_data"
    }
   ],
   "source": [
    "import numpy as np\n",
    "import pandas as pd\n",
    "import matplotlib.pyplot as plt\n",
    "\n",
    "data = pd.read_csv(\"https://drive.google.com/uc?id=12vUhzKPK2FPaSareyLQgtGeFJncxSfOB\")  \n",
    "data"
   ]
  },
  {
   "cell_type": "markdown",
   "id": "448edf44",
   "metadata": {},
   "source": [
    "#### Limiting ourselves to sand data\n",
    "\n",
    "To simplify this example, we will only look at the sandy lithologies:"
   ]
  },
  {
   "cell_type": "code",
   "execution_count": null,
   "id": "26745fdb",
   "metadata": {},
   "outputs": [],
   "source": [
    "sand = data[data.Facies==1]\n",
    "shale = data[data.Facies==0]"
   ]
  },
  {
   "cell_type": "code",
   "execution_count": null,
   "id": "1a94d158",
   "metadata": {},
   "outputs": [],
   "source": [
    "x = sand.X.values\n",
    "y = sand.Y.values\n",
    "phi = sand.Porosity.values"
   ]
  },
  {
   "cell_type": "markdown",
   "id": "3eb90142",
   "metadata": {},
   "source": [
    "# Geospatial Colinearity"
   ]
  },
  {
   "cell_type": "markdown",
   "id": "6314e0b5",
   "metadata": {},
   "source": [
    "#### Let's plot the spatial variability of porosity"
   ]
  },
  {
   "cell_type": "code",
   "execution_count": null,
   "id": "c6af3e6a",
   "metadata": {},
   "outputs": [
    {
     "data": {
      "image/png": "[encoded data removed]",
      "text/plain": [
       "<Figure size 1500x1200 with 2 Axes>"
      ]
     },
     "metadata": {},
     "output_type": "display_data"
    }
   ],
   "source": [
    "fig, ax = plt.subplots(1,1, figsize=(15,12))\n",
    "sc = ax.scatter(x, y, c=phi,s=20);ax.set_title('Measured Porosity', size=16)\n",
    "ax.set_xlabel('X Coordinates', size=14);ax.set_ylabel('Y Coordinates', size=14)\n",
    "plt.colorbar(sc);ax.set_xlim(0,1000);"
   ]
  },
  {
   "cell_type": "markdown",
   "id": "07a8d360",
   "metadata": {},
   "source": [
    "Now we can try to model a continuous field from this data, using simple Kriging from the  <code>pykrige</code> library (<a href=\"https://geostat-framework.readthedocs.io/projects/pykrige/en/stable/\">documentation</a>)."
   ]
  },
  {
   "cell_type": "code",
   "execution_count": null,
   "id": "5ad02c7f",
   "metadata": {},
   "outputs": [],
   "source": [
    "from pykrige.ok import OrdinaryKriging\n",
    "\n",
    "OK = OrdinaryKriging(\n",
    "    x, \n",
    "    y, \n",
    "    phi, \n",
    "    variogram_model='gaussian',\n",
    "    verbose=True,\n",
    "    enable_plotting=True,\n",
    "    nlags=30,\n",
    ")"
   ]
  },
  {
   "cell_type": "code",
   "execution_count": null,
   "id": "f5fbe55b",
   "metadata": {},
   "outputs": [],
   "source": [
    "OK.variogram_model_parameters"
   ]
  },
  {
   "cell_type": "code",
   "execution_count": null,
   "id": "ccd69bb3",
   "metadata": {},
   "outputs": [],
   "source": [
    "gridx = np.arange(0, 1000, 10, dtype='float64')\n",
    "gridy = np.arange(0, 1000, 10, dtype='float64')\n",
    "zstar, ss = OK.execute(\"grid\", gridx, gridy)"
   ]
  },
  {
   "cell_type": "code",
   "execution_count": null,
   "id": "91bc70c3",
   "metadata": {},
   "outputs": [],
   "source": [
    "print(zstar.shape)\n",
    "print(ss.shape)"
   ]
  },
  {
   "cell_type": "code",
   "execution_count": null,
   "id": "6854c471",
   "metadata": {},
   "outputs": [],
   "source": [
    "fig, ax_ok = plt.subplots(1,1, figsize=(15,13))\n",
    "cax = ax_ok.imshow(zstar, extent=(0, 1000, 0, 1000), origin='lower')\n",
    "ax_ok.scatter(x, y, c='k', marker='.'); cbar=plt.colorbar(cax)\n",
    "ax_ok.set_title('Spatial Prediction of Porosity', size=18); ax_ok.set_xlim(0,1000);"
   ]
  },
  {
   "cell_type": "markdown",
   "id": "5f92fa6b",
   "metadata": {},
   "source": [
    "## Kriging Variance"
   ]
  },
  {
   "cell_type": "code",
   "execution_count": null,
   "id": "6d4bab39",
   "metadata": {},
   "outputs": [],
   "source": [
    "fig, ax_okv = plt.subplots(1,1, figsize=(15,13))\n",
    "cax = ax_okv.imshow(ss, extent=(0, 1000, 0, 1000), origin='lower')\n",
    "ax_okv.scatter(x, y, c='k', marker='.'); cbar=plt.colorbar(cax)\n",
    "ax_okv.set_title('Kriging Variance (estimated uncertainty) for Porosity', size=18); ax_okv.set_xlim(0,1000);"
   ]
  },
  {
   "cell_type": "markdown",
   "id": "19450242",
   "metadata": {},
   "source": [
    "# Universal Kriging\n",
    "\n",
    "The problem with **Ordinary Kriging** is that it assumes stationarity. Of course, most geospatial applications are **NOT** stationary. Universal Kriging is meant to solve this problem. The main difference is that it models the predictor variable ($Z(s)$) as a linear combination of a deterministic term ( the drift \"$\\mu(s)$\", non-stationary) and a probabilistic term (\"$Y(s)$\", stationary):"
   ]
  },
  {
   "cell_type": "markdown",
   "id": "a96d9174",
   "metadata": {},
   "source": [
    "$$Z(s)=\\mu(s)+Y(s)$$"
   ]
  },
  {
   "cell_type": "markdown",
   "id": "fc997cc8",
   "metadata": {},
   "source": [
    "Suppose the drift μ(s) can be represented as a linear combination of known functions $\\{fl(s),\\;\\;\\;\\; l = 1, . . . , k\\}$, with unknown coefficients $\\{\\beta l\\}$,\n",
    "$$\\mu(s)=\\sum_{l=1}^k \\beta_l f_l(s)$$"
   ]
  },
  {
   "cell_type": "markdown",
   "id": "53cae087",
   "metadata": {},
   "source": [
    "This means that the mean and covariance can be expressed as:\n",
    "$$E[Z(s)]=\\sum_{l=1}^k \\beta_l f_l(s)$$"
   ]
  },
  {
   "cell_type": "markdown",
   "id": "d1acd132",
   "metadata": {},
   "source": [
    "$$E[(Z(s_1)-\\mu(s_1))(Z(s_2)-\\mu(s_2))]\\equiv E[Y(s_1)Y(s_2)]$$\n",
    "$$= Cov(s1-s2)$$"
   ]
  },
  {
   "cell_type": "markdown",
   "id": "8b9b21dc",
   "metadata": {},
   "source": [
    "The Universal Kriging predictor has the same form as for Ordinary Kriging:\n",
    "$$\\hat{Z}(s_{0})=\\sum_{i=1}^{n}\\beta_{i}Z(s_{i})$$"
   ]
  },
  {
   "cell_type": "markdown",
   "id": "f3c3d526",
   "metadata": {},
   "source": [
    "But the unbiasedness condition becomes more complicated (Matheron, 1969):\n",
    "$$f_l(s_0)=\\sum_{i=1}^n \\beta_1 f_l(s_i) \\;\\;\\;\\;\\;\\; l=1,...,k$$"
   ]
  },
  {
   "cell_type": "markdown",
   "id": "371487fa",
   "metadata": {},
   "source": [
    "The Universal Kriging Variance becomes:\n",
    "$$=\\sum_{i=1}^n\\sum_{j=1}^n\\beta_i \\beta_j Cov(s_i-s_j)-2\\sum_{i=1}^n \\beta_i Cov(s_i-s_0) + var(Z(s_0))$$"
   ]
  },
  {
   "cell_type": "markdown",
   "id": "4d2df3b5",
   "metadata": {},
   "source": [
    "The $n+k$ Universal Kriging linear equations are:\n",
    "$$\\Bigg\\{^{\\sum_{j=1}^n \\beta_j Cov(s_i-S_j)+\\lambda_l f_l(s_i) = Cov(s_i-s_0) \\;\\;\\;\\;\\;\\; i=1,...,n}_{\\sum_{j=1}^n \\beta_j f_l(s_j)=f_l(s_0)\\;\\;\\;\\;\\;\\; i=1,...,k}$$\n",
    "\n",
    "☝🏻 I skipped several mathematical steps here. If you are interested in the details, read <a href=\"https://link.springer.com/book/10.1007/0-387-35429-8\">Le and Zidek, 2006, Statistical Analysis of Environmental Space-Time Processes (Chapter 7)</a>"
   ]
  },
  {
   "cell_type": "code",
   "execution_count": null,
   "id": "b3450f78",
   "metadata": {},
   "outputs": [],
   "source": [
    "from pykrige.uk import UniversalKriging\n",
    "\n",
    "UK = UniversalKriging(\n",
    "    x, \n",
    "    y, \n",
    "    phi, \n",
    "    variogram_model='gaussian',\n",
    "    verbose=True,\n",
    "    enable_plotting=True,\n",
    "    nlags=30,\n",
    ")"
   ]
  },
  {
   "cell_type": "code",
   "execution_count": null,
   "id": "b068b468",
   "metadata": {},
   "outputs": [],
   "source": [
    "gridx = np.arange(0, 1000, 10, dtype='float64')\n",
    "gridy = np.arange(0, 1000, 10, dtype='float64')\n",
    "zstar_uk, ss_uk = UK.execute(\"grid\", gridx, gridy)"
   ]
  },
  {
   "cell_type": "code",
   "execution_count": null,
   "id": "5e0e641a",
   "metadata": {},
   "outputs": [],
   "source": [
    "fig, ax_uk = plt.subplots(1,1, figsize=(15,13))\n",
    "cax = ax_uk.imshow(zstar_uk, extent=(0, 1000, 0, 1000), origin='lower')\n",
    "ax_uk.scatter(x, y, c='k', marker='.'); cbar=plt.colorbar(cax)\n",
    "ax_uk.set_title('Universal Kriging Porosity estimate', size=18); ax_uk.set_xlim(0,1000);"
   ]
  },
  {
   "cell_type": "code",
   "execution_count": null,
   "id": "91c2b6dd",
   "metadata": {},
   "outputs": [],
   "source": [
    "fig, ax_ukv = plt.subplots(1,1, figsize=(15,13))\n",
    "cax = ax_ukv.imshow(ss_uk, extent=(0, 1000, 0, 1000), origin='lower')\n",
    "ax_ukv.scatter(x, y, c='k', marker='.'); cbar=plt.colorbar(cax)\n",
    "ax_ukv.set_title('Universal Kriging Variance for Porosity', size=18); ax_ukv.set_xlim(0,1000);"
   ]
  },
  {
   "cell_type": "markdown",
   "id": "17e13b5f",
   "metadata": {},
   "source": [
    "## Limitations of Kriging"
   ]
  },
  {
   "cell_type": "markdown",
   "id": "7129d5ff",
   "metadata": {},
   "source": [
    "🔺 **Weights of the kriging interpolator depend on the modeled variogram** <br>\n",
    "&nbsp;&nbsp;&nbsp;&nbsp;&nbsp;&nbsp;&nbsp;&nbsp;&nbsp;&nbsp;👉  kriging  quite sensitive to misspecification of the variogram model."
   ]
  },
  {
   "cell_type": "markdown",
   "id": "fe7ee544",
   "metadata": {},
   "source": [
    "🔺 **Assumptions of the kriging model** (e.g. that of second-order stationarity) may be difficult to meet in the context of many environmental exposures<br>\n",
    "&nbsp;&nbsp;&nbsp;&nbsp;&nbsp;&nbsp;&nbsp;&nbsp;&nbsp;&nbsp;👉  some newer methods (e.g. Bayesian approaches) have  been developed to try and surmount these obstacles"
   ]
  },
  {
   "cell_type": "markdown",
   "id": "6ba41324",
   "metadata": {},
   "source": [
    "🔺 **Accuracy of interpolation by kriging** will be limited if the number of sampled observations is small, the data is limited in spatial scope, or if the data are not sufficiently spatially correlated. "
   ]
  },
  {
   "cell_type": "markdown",
   "id": "8afc7d05",
   "metadata": {},
   "source": [
    "# Your Turn: Kriging Global Cities Temperatures\n",
    "\n",
    "<img src=\"https://drive.google.com/uc?id=1ushHnFHAvvOswSC7EbYh6UDmrvgs1rfI\" style=\"Width:1000px\">\n",
    "\n",
    "In this exercise, you will again use a modified version of the world's city temperature. But this time, we will try to answer this important question: what were the patterns of warming and cooling between December 2004 and December 2010 in **Eurasia**?\n",
    "\n",
    "To answer this question, we will use **Universal Kriging** \n",
    "\n",
    "# Reading the data\n",
    "\n",
    "Simply load the `global-temperatures.csv` and save it under a variable named `data`. You should recognize this data (this time, it is not split)."
   ]
  },
  {
   "cell_type": "code",
   "execution_count": null,
   "id": "6035f6cf",
   "metadata": {},
   "outputs": [],
   "source": [
    "from nbta.utils import download_data\n",
    "download_data(id='1RfdAqcYrosxZl6chsufLzxPcvQqO3qjX')"
   ]
  },
  {
   "cell_type": "code",
   "execution_count": null,
   "id": "b26ec1e9",
   "metadata": {},
   "outputs": [],
   "source": [
    "# ADD YOUR CODE HERE -- You can create new markdown and code cells\n",
    "                    \n",
    "                    \n",
    "                    "
   ]
  },
  {
   "cell_type": "markdown",
   "id": "5c753c2d",
   "metadata": {},
   "source": [
    "# Limiting ourselves to Eurasia\n",
    "\n",
    "Create a new dataframe called `eurasia` that contains only the cities between -20 and +150 degrees of Longitude, and -40 and +60 degrees of Latitude."
   ]
  },
  {
   "cell_type": "code",
   "execution_count": null,
   "id": "0f621759",
   "metadata": {},
   "outputs": [],
   "source": [
    "# ADD YOUR CODE HERE -- You can create new markdown and code cells\n",
    "                    \n",
    "                    \n",
    "                    "
   ]
  },
  {
   "cell_type": "markdown",
   "id": "da07592a",
   "metadata": {},
   "source": [
    "# Creating the December 2004 and December 2010 datasets\n",
    "\n",
    "Using the `eurasia` DataFrame you created above, create two further splits:\n",
    "\n",
    "* All cities in Eurasia in December 2004. However, because this would still be a very large number of cities to fit a `kriging` model to, we will limit ourselves to 60% of this. So, randomly sample 60% of this new dataframe, and assign it to a variable called `december_2004`.\n",
    "\n",
    "* Do the same process (also randomly sampling 60% of the filtered data) for cities in Eurasia in December 2010 (call it `december_2010`"
   ]
  },
  {
   "cell_type": "code",
   "execution_count": null,
   "id": "228f25c3",
   "metadata": {},
   "outputs": [],
   "source": [
    "# ADD YOUR CODE HERE -- You can create new markdown and code cells\n",
    "                    \n",
    "                    \n",
    "                    "
   ]
  },
  {
   "cell_type": "markdown",
   "id": "df2f29e2",
   "metadata": {},
   "source": [
    "### ☑️ Test your code"
   ]
  },
  {
   "cell_type": "code",
   "execution_count": null,
   "id": "4e036e96",
   "metadata": {},
   "outputs": [],
   "source": [
    "from nbresult import ChallengeResult\n",
    "\n",
    "result = ChallengeResult('dataset',\n",
    "                         december_2004 = december_2004,\n",
    "                         december_2010 = december_2010\n",
    ")\n",
    "\n",
    "result.write()\n",
    "print(result.check())"
   ]
  },
  {
   "cell_type": "markdown",
   "id": "02e1ec15",
   "metadata": {},
   "source": [
    "# 💪 Fitting you first Kriging model\n",
    "\n",
    "Now, fit a `UniversalKriging` model from `pykrige` to the `december_2004` data: check the course notes to see how to do this, or read <a href=\"https://geostat-framework.readthedocs.io/projects/pykrige/en/stable/\">the documentation</a>.\n",
    "\n",
    "This will take a few minutes. Make sure that your choice of variogram model fits the data reasonably well."
   ]
  },
  {
   "cell_type": "code",
   "execution_count": null,
   "id": "325ac540",
   "metadata": {},
   "outputs": [],
   "source": [
    "# ADD YOUR CODE HERE -- You can create new markdown and code cells\n",
    "                    \n",
    "                    \n",
    "                    "
   ]
  },
  {
   "cell_type": "markdown",
   "id": "613078ff",
   "metadata": {},
   "source": [
    "## Once your model is fitted...\n",
    "\n",
    "Create a list of values between -20 and 150 with 1 degree spacing for Longitude, and between -40 and 60 with 1 degree spacing for Latitude (see `np.arrange`). Then, use the `execute()` function of your December 2004 Universal Kriging model to obtain both the gridded predictions for temperatures, and the gridded Kriging variance (i.e. the error)."
   ]
  },
  {
   "cell_type": "code",
   "execution_count": null,
   "id": "b84a87bf",
   "metadata": {},
   "outputs": [],
   "source": [
    "# ADD YOUR CODE HERE -- You can create new markdown and code cells\n",
    "                    \n",
    "                    \n",
    "                    "
   ]
  },
  {
   "cell_type": "markdown",
   "id": "e90e34d1",
   "metadata": {},
   "source": [
    "# Plotting the predicted spatial temperatures and Kriging variance\n",
    "\n",
    "Plot first the predicted spatial temperatures, and the kriging variance, on two separate plots. For both plots, I suggest you do:\n",
    "* Use a large `figsize` (mine is `(15, 30)` but feel free to experiment)\n",
    "* Make sure to limit your axis to -20 to 150 for Longitude, and -40 to 60 for Latitude\n",
    "* Plot on the same axis both the gridded predicted spatial temperatures, and the actual cities\n",
    "* For both, it looks nice if you use the `coolwarm` colormap: it is blue for cold values, and red for hotter values\n",
    "* Drawing the cities will ensure you see the contour of the continents\n",
    "* Add a colorbar for maximum effect, and ensure that when you scatter the city data use use `c=december_2004.AverageTemperature`: this way, you can see whether the Kriging estimate is reasonable.\n",
    "* For the Kriging variance plot, plot the cities in black\n",
    "\n",
    "What conclusions can you reach? What do you think of the predicted temperatures in the Indian Ocean?"
   ]
  },
  {
   "cell_type": "code",
   "execution_count": null,
   "id": "0425d5d2",
   "metadata": {},
   "outputs": [],
   "source": [
    "# ADD YOUR CODE HERE -- You can create new markdown and code cells\n",
    "                    \n",
    "                    \n",
    "                    "
   ]
  },
  {
   "cell_type": "markdown",
   "id": "494d97b7",
   "metadata": {},
   "source": [
    "# Producing the production and the maps for December 2010\n",
    "\n",
    "Repeat exactly the same steps as above, for the for 2010 dataset of Eurasian cities. Makes sure to call your predictions differently, as we will use both sets in the next section. Does December 2012 look very similar to December 2004? How about the Kriging Variance?\n"
   ]
  },
  {
   "cell_type": "code",
   "execution_count": null,
   "id": "9b3fa3e4",
   "metadata": {},
   "outputs": [],
   "source": [
    "# ADD YOUR CODE HERE -- You can create new markdown and code cells\n",
    "                    \n",
    "                    \n",
    "                    "
   ]
  },
  {
   "cell_type": "markdown",
   "id": "fbb701a5",
   "metadata": {},
   "source": [
    "# Plotting the difference between the two model\n",
    "\n",
    "The great thing with this approach, is that we can now plot the difference in predicated temperatures between the two maps. The temperature predictions are simply numpy array, so you can subtract the December 2004 predicted temperatures from the December 2010 temperatures, and look at regional patterns of change. Save this new difference array in a variable named `diff`.\n",
    "\n",
    "Keep in mind that because we have randomly selected 60% of cities in both year, we could not have achieved this by simply subtracting the 2004 values in all cities from the 2010 values in all cities: `geostatistical` mapping was necessary!\n",
    "\n",
    "What can you see about the difference in temperature between these two winters when you do this, and plot the results?"
   ]
  },
  {
   "cell_type": "code",
   "execution_count": null,
   "id": "d4d9e7fd",
   "metadata": {},
   "outputs": [],
   "source": [
    "# ADD YOUR CODE HERE -- You can create new markdown and code cells\n",
    "                    \n",
    "                    \n",
    "                    "
   ]
  },
  {
   "cell_type": "markdown",
   "id": "d4852f92",
   "metadata": {},
   "source": [
    "<h2>💡 Conclusions</h2>\n",
    "<br>\n",
    "If you have done the exercise right, you should have noticed that:<br>\n",
    "    <li>The prediction error is larger further away from points of observations</li>\n",
    "    <li>Errors are particularly large on Oceans, because we have no observation in our dataset other than cities</li>\n",
    "    <li>Coastlines are very well constrained thanks to a large density of population on the coast</li>\n",
    "    <li>It appears that globally December 2010 was warmer than 2004 in most of Asia and Africa, but a little cooler in Europe.</li>\n",
    "<br>\n",
    "If you feel like it, feel free to run a model with full dataset (but be prepared to be patient!)."
   ]
  },
  {
   "cell_type": "markdown",
   "id": "911929bb",
   "metadata": {},
   "source": [
    "### ☑️ Test your code"
   ]
  },
  {
   "cell_type": "code",
   "execution_count": null,
   "id": "5f31140b",
   "metadata": {},
   "outputs": [],
   "source": [
    "from nbresult import ChallengeResult\n",
    "\n",
    "result = ChallengeResult('visualization',\n",
    "                         df = diff\n",
    ")\n",
    "\n",
    "result.write()\n",
    "print(result.check())"
   ]
  },
  {
   "cell_type": "markdown",
   "id": "2a21958c",
   "metadata": {},
   "source": [
    "# 🏁 Finished!\n",
    "\n",
    "Well done! <span style=\"color:teal\">**Push your exercise to GitHub**</span>, and move on to the next one."
   ]
  }
 ],
 "metadata": {
  "kernelspec": {
   "display_name": "Python 3 (ipykernel)",
   "language": "python",
   "name": "python3"
  },
  "language_info": {
   "codemirror_mode": {
    "name": "ipython",
    "version": 3
   },
   "file_extension": ".py",
   "mimetype": "text/x-python",
   "name": "python",
   "nbconvert_exporter": "python",
   "pygments_lexer": "ipython3",
   "version": "3.11.2"
  }
 },
 "nbformat": 4,
 "nbformat_minor": 5
}
