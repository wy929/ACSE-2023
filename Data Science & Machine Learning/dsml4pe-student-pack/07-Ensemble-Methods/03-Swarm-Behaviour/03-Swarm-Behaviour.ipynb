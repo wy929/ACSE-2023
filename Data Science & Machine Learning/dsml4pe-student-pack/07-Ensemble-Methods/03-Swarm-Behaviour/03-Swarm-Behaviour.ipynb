{
 "cells": [
  {
   "cell_type": "markdown",
   "id": "73c9cdd2",
   "metadata": {},
   "source": [
    "<img src=\"https://drive.google.com/uc?id=1-d7H1l1lJ28_sLcd9Vvh_N-yro7CJZcZ\" style=\"Width:1000px\">"
   ]
  },
  {
   "cell_type": "markdown",
   "id": "32b97e80",
   "metadata": {},
   "source": [
    "# 🐝 Swarm Behaviour\n",
    "\n",
    "And now for something completely different! We will leave the `Ensemble` methods for a little while, and come back to binary classifiers. This Data Problem is a modified version of one of the questions that I asked during the assessment in 2021, so this give you a flair for the practical to come. Note that this is a relatively open-ended question. Generally, I also ask a few questions that are more targetted first, and the opened ended question comes at the end. The open ended question is really here for you to show how much you have learned as a data scientists. \n",
    "\n",
    "What I am looking for in an open-ended data science problem is:\n",
    "\n",
    "1. A good solution to the problem asked\n",
    "2. Clean code\n",
    "3. That you demonstrate your skills. Remember, if you have not put it on the notebook, I don't see it, so I can't know you have done it (and I won't take your word for it)\n",
    "4. I also don't want unnecessary code and approaches, and this can impact your grade negatively as it goes against clean code (point number 2).\n",
    "\n",
    "## Run the cell below to load the data"
   ]
  },
  {
   "cell_type": "code",
   "execution_count": null,
   "id": "ee000713",
   "metadata": {},
   "outputs": [],
   "source": [
    "from nbta.utils import download_data\n",
    "download_data(id='1JlFoFCQ5eA5WVYuN_AidPx8ypfSkEAgD')"
   ]
  },
  {
   "cell_type": "code",
   "execution_count": null,
   "id": "fa74f890",
   "metadata": {},
   "outputs": [],
   "source": [
    "import pandas as pd\n",
    "import numpy as np\n",
    "import matplotlib.pyplot as plt\n",
    "\n",
    "data = pd.read_csv('raw_data/swarm_training.csv')\n",
    "unknown_behaviour =  pd.read_csv('raw_data/unknown_swarm_behaviour.csv')\n",
    "data"
   ]
  },
  {
   "cell_type": "markdown",
   "id": "741a153d",
   "metadata": {},
   "source": [
    "## Dataset Description\n",
    "\n",
    "This dataset is about flying species such as birds and insects, and whether they tend to form large groups and 'swarm' when they fly, or not. The dataset contains 50 `features` (different measurement of behaviour) and 1 label (`Swarm_Behaviour`).\n",
    "\n",
    "`Swarm_Behaviour` can take the values 0 (*not swarming*) or 1 (*swarming*).\n",
    "\n",
    "The dataset has already been cleaned, scaled and encoded for you, so you do not need to worry about it. 🧽\n",
    "\n",
    "# What you need to do\n",
    "\n",
    "You are a data scientist working for a non-profit looking at endangered eco-systems. You are given the dataset above, and are asked to train a `LogisticRegression` model to predict `Swarm_Behaviour` in new, unseen samples. \n",
    "\n",
    "Your bosses also give you the following directions:\n",
    "* The algorithm needs to be a `LogisticRegression` algorithm - Upper management will discard any model more complex\n",
    "* You need to train your model to achieve the highest possible **precision** using the labelled dataset (`data`) above \n",
    "* However, management requires your algorithm to have a **recall** of ***at least 70%***\n",
    "* Once you are happy with your final trained algorithm, you are asked to save it into a variable named `final_model` \n",
    "* You are then asked to make predictions about the swarming behaviour of unclassified species given in the `unknown_behaviour` dataframe above, and to save your predictions in a variable named `predictions`\n",
    "\n",
    "GOOD LUCK! 🧧"
   ]
  },
  {
   "cell_type": "code",
   "execution_count": null,
   "id": "8ca024fb",
   "metadata": {},
   "outputs": [],
   "source": [
    "# ADD YOUR CODE HERE -- You can create new markdown and code cells\n",
    "                    \n",
    "                    \n",
    "                    "
   ]
  },
  {
   "cell_type": "markdown",
   "id": "5df53485",
   "metadata": {},
   "source": [
    "### ☑️ Test your code\n",
    "\n",
    "Note: this only tests if you achieve the mandated **precision** and **recall** on an unseen dataset. It does not check the quality of your code or the completeness of your answer.\n"
   ]
  },
  {
   "cell_type": "code",
   "execution_count": null,
   "id": "9a81a6ad",
   "metadata": {},
   "outputs": [],
   "source": [
    "from nbresult import ChallengeResult\n",
    "\n",
    "result = ChallengeResult('final_classifier',\n",
    "                         predictions = predictions,\n",
    ")\n",
    "\n",
    "result.write()\n",
    "print(result.check())"
   ]
  },
  {
   "cell_type": "markdown",
   "id": "9a2008f0",
   "metadata": {},
   "source": [
    "# Optional Extension\n",
    "\n",
    "If you are done with the previous exercise, you are free to try `Ensemble methods` (including `XGBoost`) to see if you can outperform the `LogisticRegression`). Have fun!"
   ]
  },
  {
   "cell_type": "markdown",
   "id": "52e1daee",
   "metadata": {},
   "source": [
    "# 🏁 Finished!\n",
    "\n",
    "Well done! <span style=\"color:teal\">**Push your exercise to GitHub**</span>, and move on to the next one."
   ]
  }
 ],
 "metadata": {
  "kernelspec": {
   "display_name": "Python 3 (ipykernel)",
   "language": "python",
   "name": "python3"
  },
  "language_info": {
   "codemirror_mode": {
    "name": "ipython",
    "version": 3
   },
   "file_extension": ".py",
   "mimetype": "text/x-python",
   "name": "python",
   "nbconvert_exporter": "python",
   "pygments_lexer": "ipython3",
   "version": "3.11.2"
  }
 },
 "nbformat": 4,
 "nbformat_minor": 5
}
