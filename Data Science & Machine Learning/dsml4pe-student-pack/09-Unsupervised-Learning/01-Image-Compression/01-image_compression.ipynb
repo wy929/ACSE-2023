{
 "cells": [
  {
   "cell_type": "markdown",
   "id": "b0d66083",
   "metadata": {},
   "source": [
    "<img src=\"https://drive.google.com/uc?id=1-cL5eOpEsbuIEkvwW2KnpXC12-PAbamr\" style=\"Width:1000px\">"
   ]
  },
  {
   "cell_type": "code",
   "execution_count": null,
   "id": "9b028a36",
   "metadata": {},
   "outputs": [],
   "source": [
    "from nbta.utils import download_data\n",
    "download_data(id='1EO5lq7oX6HzxNyYIfQ4n7snCsDoleVV3')"
   ]
  },
  {
   "cell_type": "code",
   "execution_count": null,
   "id": "7620d382",
   "metadata": {},
   "outputs": [],
   "source": [
    "import matplotlib.pyplot as plt\n",
    "import numpy as np\n",
    "import pandas as pd"
   ]
  },
  {
   "cell_type": "markdown",
   "id": "2cb6c57b",
   "metadata": {},
   "source": [
    "# Image Compression with KMeans"
   ]
  },
  {
   "cell_type": "markdown",
   "id": "be8f0860",
   "metadata": {},
   "source": [
    "In this exercise and the next one we will use **images**  as data. You will use **K-means** for image compression, by reducing the colors in an image to only the most frequent ones."
   ]
  },
  {
   "cell_type": "markdown",
   "id": "ee89e2a7",
   "metadata": {},
   "source": [
    "## The image we will use today"
   ]
  },
  {
   "cell_type": "markdown",
   "id": "8e7872da",
   "metadata": {},
   "source": [
    "### Opening the image"
   ]
  },
  {
   "cell_type": "markdown",
   "id": "4800479f",
   "metadata": {},
   "source": [
    "Today, you will work with an image of my research group. This is a bit old now, as it was taken in 2019. Hopefully, you can at least still recognize one of us!\n",
    "\n",
    "Do the following:\n",
    "\n",
    "* Use `open-cv` (`cv2`) `imread` to open the image as a `numpy array`.\n",
    "* If the colors seem off, you will need to convert the colors of this image to RGB by using the `cvtColor` function of `cv2`, with the first argument being your image, and the second argument `cv2.COLOR_RGB2BGR`\n",
    "* Use the `imshow` function in `matplotlib` to display the image\n",
    "\n",
    "Make sure to call your `np.array` version of the image `img`."
   ]
  },
  {
   "cell_type": "code",
   "execution_count": null,
   "id": "e3733f82",
   "metadata": {},
   "outputs": [],
   "source": [
    "# ADD YOUR CODE HERE -- You can create new markdown and code cells\n",
    "                    \n",
    "                    \n",
    "                    "
   ]
  },
  {
   "cell_type": "markdown",
   "id": "0e523a6f",
   "metadata": {},
   "source": [
    "❓ What is the shape of this image?  Save this into a variable named `img_shape`"
   ]
  },
  {
   "cell_type": "code",
   "execution_count": null,
   "id": "ea376e0f",
   "metadata": {},
   "outputs": [],
   "source": [
    "# ADD YOUR CODE HERE -- You can create new markdown and code cells\n",
    "                    \n",
    "                    \n",
    "                    "
   ]
  },
  {
   "cell_type": "markdown",
   "id": "14126b5e",
   "metadata": {},
   "source": [
    "### What does the shape mean?\n",
    "\n",
    "For a color image, the shape is the dimension of the image (nb pixels x nb pixels), and **3 channels for red, green and blue (RGB)**. The possible pixel values are between 0 to 255 (256 possible values each channel). \n",
    "\n",
    "A grayscale image (and a black and white image) will have only 1 channel: this will contain `int`s from 0-255 for a greyscale image, or `int`s of either 0 or 1 for a black and white image."
   ]
  },
  {
   "cell_type": "markdown",
   "id": "169317e7",
   "metadata": {},
   "source": [
    "### Number of colors"
   ]
  },
  {
   "cell_type": "markdown",
   "id": "493028b2",
   "metadata": {},
   "source": [
    "So what are the **samples** and **features** of this dataset? Here, our goal will be to reduce the dimensionality of the image through `k-means`. Specifically, we will reduce the number of `colors` used to represent this image.\n",
    "\n",
    "In this context, we can deduct that:\n",
    "\n",
    "Each **pixel** is a **sample**  or an **observation**\n",
    "Each **color value (Red, Green, Blue)** is a **feature**  \n",
    "\n",
    "In our image, we have **138,000 samples** (400 * 345 pixels) and **3 features** per pixel (RGB)"
   ]
  },
  {
   "cell_type": "markdown",
   "id": "25afa595",
   "metadata": {},
   "source": [
    "Now, **Reshape the image**:  \n",
    "- From its current size of `width * height * 3`\n",
    "- To a matrix  of size `N * 3` where `N = width * height`  \n",
    "\n",
    "Assign the reshaped image to `X`."
   ]
  },
  {
   "cell_type": "code",
   "execution_count": null,
   "id": "029b513e",
   "metadata": {},
   "outputs": [],
   "source": [
    "# ADD YOUR CODE HERE -- You can create new markdown and code cells\n",
    "                    \n",
    "                    \n",
    "                    "
   ]
  },
  {
   "cell_type": "markdown",
   "id": "90193e56",
   "metadata": {},
   "source": [
    "A colored image may contain up to 16 Millions potential colors: **3** channels, and for each channel **256** possible values (from 0 to 255), yields  a potential maximum of **16,777,216** *($256^3$)* colors in a colored image.  \n",
    "\n",
    "Since our image is only 138,000 pixels, it uses at most 138,000 colors, as each pixel contains a single color defined by the three channels' values\n",
    "\n",
    "Store the number of unique colors in this picture in `color_count`"
   ]
  },
  {
   "cell_type": "code",
   "execution_count": null,
   "id": "4a1b7a6f",
   "metadata": {},
   "outputs": [],
   "source": [
    "# ADD YOUR CODE HERE -- You can create new markdown and code cells\n",
    "                    \n",
    "                    \n",
    "                    "
   ]
  },
  {
   "cell_type": "markdown",
   "id": "d21c0bee",
   "metadata": {},
   "source": [
    "In summary, we have: \n",
    "- 138,000 samples, each observation is a pixel  \n",
    "- 3 features (Red, Green & Blue values) for each observation\n",
    "- An unknown number of clusters of similar color values\n",
    "\n",
    "**Let's use K-means to reduce the number of colors** 🎨"
   ]
  },
  {
   "cell_type": "markdown",
   "id": "81c32a26",
   "metadata": {},
   "source": [
    "### 🧪 Test your code"
   ]
  },
  {
   "cell_type": "code",
   "execution_count": null,
   "id": "47fc26fd",
   "metadata": {},
   "outputs": [],
   "source": [
    "from nbresult import ChallengeResult\n",
    "\n",
    "result = ChallengeResult('image_analysis',\n",
    "                         img_shape = img_shape,\n",
    "                         color_count = color_count)\n",
    "result.write()\n",
    "print(result.check())"
   ]
  },
  {
   "cell_type": "markdown",
   "id": "9e8244ba",
   "metadata": {},
   "source": [
    "## Compression with K-means"
   ]
  },
  {
   "cell_type": "markdown",
   "id": "3724ddef",
   "metadata": {},
   "source": [
    "We want to reduce the **54,095** colors to **K** colors.  \n",
    "\n",
    "Using a `KMeans` algorithm over the pixels, we can assign each pixel to one of **K** clusters.  The center of each cluster is going to be the average color of the pixels that belong to it. \n",
    "\n",
    "We can then use this \"mean cluster color\" as the RGB values for each pixel in the cluster.  \n",
    "\n",
    "Our objective is to use only **32** colors."
   ]
  },
  {
   "cell_type": "markdown",
   "id": "bbf1453f",
   "metadata": {},
   "source": [
    "❓ Fit a K-means with `n_clusters=32` and `n_init=10` on your ML-ready image `X`, and assign it to `kmeans`"
   ]
  },
  {
   "cell_type": "code",
   "execution_count": null,
   "id": "2efb7a8a",
   "metadata": {},
   "outputs": [],
   "source": [
    "# ADD YOUR CODE HERE -- You can create new markdown and code cells\n",
    "                    \n",
    "                    \n",
    "                    "
   ]
  },
  {
   "cell_type": "markdown",
   "id": "1113b40f",
   "metadata": {},
   "source": [
    "👉 Check the `labels_` of your `kmeans`, then check their `shape` and `number of unique values`"
   ]
  },
  {
   "cell_type": "code",
   "execution_count": null,
   "id": "96584ccb",
   "metadata": {},
   "outputs": [],
   "source": [
    "# ADD YOUR CODE HERE -- You can create new markdown and code cells\n",
    "                    \n",
    "                    \n",
    "                    "
   ]
  },
  {
   "cell_type": "markdown",
   "id": "0140d9c7",
   "metadata": {},
   "source": [
    "☝️ What the above gives us:\n",
    "\n",
    "- Each label is a cluster\n",
    "- There is one label assigned to each observations\n",
    "- There are a total of 32 different labels, one for each cluster"
   ]
  },
  {
   "cell_type": "markdown",
   "id": "0628eb36",
   "metadata": {},
   "source": [
    "❓ Check the `cluster_centers_` of your `KMeans`, shape and first element"
   ]
  },
  {
   "cell_type": "code",
   "execution_count": null,
   "id": "79766355",
   "metadata": {},
   "outputs": [],
   "source": [
    "# ADD YOUR CODE HERE -- You can create new markdown and code cells\n",
    "                    \n",
    "                    \n",
    "                    "
   ]
  },
  {
   "cell_type": "markdown",
   "id": "25e22613",
   "metadata": {},
   "source": [
    "☝️Each cluster_center is a vector of RGB values, it represents the mean color of the cluster"
   ]
  },
  {
   "cell_type": "markdown",
   "id": "0fba74a5",
   "metadata": {},
   "source": [
    "❓ Store in `X_compressed` an array with the mean colors from the clusters centers for each pixel.\n",
    "\n",
    "<details span=\"markdown\">\n",
    "    <summary>💡 Help</summary>\n",
    "\n",
    "You can achieve this by using only `kmeans.cluster_centers_` and `kmeans.labels_`\n",
    "\n",
    "</details>"
   ]
  },
  {
   "cell_type": "code",
   "execution_count": null,
   "id": "b9213aa1",
   "metadata": {},
   "outputs": [],
   "source": [
    "# ADD YOUR CODE HERE -- You can create new markdown and code cells\n",
    "                    \n",
    "                    \n",
    "                    "
   ]
  },
  {
   "cell_type": "markdown",
   "id": "8dcb9150",
   "metadata": {},
   "source": [
    "RGB values must be integer.  \n",
    "\n",
    "Our colors in `X_compressed` are in `float64`.  \n",
    "\n",
    "❓ Convert `X_compressed` to `uint8`, the unsigned 8-bits integer type which lies between 0 and 255."
   ]
  },
  {
   "cell_type": "code",
   "execution_count": null,
   "id": "7a96618b",
   "metadata": {},
   "outputs": [],
   "source": [
    "# ADD YOUR CODE HERE -- You can create new markdown and code cells\n",
    "                    \n",
    "                    \n",
    "                    "
   ]
  },
  {
   "cell_type": "markdown",
   "id": "85d6b8b2",
   "metadata": {},
   "source": [
    "❓ Verify that the number of unique colors used is indeed 32."
   ]
  },
  {
   "cell_type": "code",
   "execution_count": null,
   "id": "413b5ff8",
   "metadata": {},
   "outputs": [],
   "source": [
    "# ADD YOUR CODE HERE -- You can create new markdown and code cells\n",
    "                    \n",
    "                    \n",
    "                    "
   ]
  },
  {
   "cell_type": "markdown",
   "id": "449987cd",
   "metadata": {},
   "source": [
    "### 🧪 Test your code"
   ]
  },
  {
   "cell_type": "code",
   "execution_count": null,
   "id": "fa096aa6",
   "metadata": {},
   "outputs": [],
   "source": [
    "from nbresult import ChallengeResult\n",
    "\n",
    "result = ChallengeResult('image_shape',\n",
    "                         image = X_compressed)\n",
    "result.write()\n",
    "print(result.check())"
   ]
  },
  {
   "cell_type": "markdown",
   "id": "d976c3ee",
   "metadata": {},
   "source": [
    "## Plot compressed image"
   ]
  },
  {
   "cell_type": "markdown",
   "id": "03289bde",
   "metadata": {},
   "source": [
    "Our `X_compressed` has shape (262144, 3), we can't display it as an image.\n",
    "\n",
    "❓ Reshape your compressed image and plot it side by side with your original image.  \n",
    "\n",
    "<details>\n",
    "    <summary>💡 Hint</summary>\n",
    "\n",
    "You need to reshape your flattened `X_compressed` into the right dimensions for an image  \n",
    "Your original image has such dimensions.\n",
    "\n",
    "---\n",
    "\n",
    "</details>"
   ]
  },
  {
   "cell_type": "code",
   "execution_count": null,
   "id": "f73a71c6",
   "metadata": {},
   "outputs": [],
   "source": [
    "# ADD YOUR CODE HERE -- You can create new markdown and code cells\n",
    "                    \n",
    "                    \n",
    "                    "
   ]
  },
  {
   "cell_type": "markdown",
   "id": "ba3989dc",
   "metadata": {},
   "source": [
    "Not bad!\n",
    "\n",
    "Some colors are lost, but your can easily recognize the original image."
   ]
  },
  {
   "cell_type": "markdown",
   "id": "8b03c71d",
   "metadata": {},
   "source": [
    "# Saving the compressed image back to a 'jpg'\n",
    "\n",
    "Now, use `cv2.imwrite` to save your compressed image back to disc (remember: you will need to use the `cv2.cvtColor` conversation function again if you want to save the current colors). Compare the size of the two images: you should have saved about 20% space with minimal loss in image quality."
   ]
  },
  {
   "cell_type": "code",
   "execution_count": null,
   "id": "4f6273ec",
   "metadata": {},
   "outputs": [],
   "source": [
    "# ADD YOUR CODE HERE -- You can create new markdown and code cells\n",
    "                    \n",
    "                    \n",
    "                    "
   ]
  },
  {
   "cell_type": "markdown",
   "id": "d7975de7",
   "metadata": {},
   "source": [
    "## Finding the best `k`\n",
    "\n",
    "You can use the Elbow method to find the optimal compression that loses the least color information.   \n",
    "\n",
    "Try to plot the `inertia` for `n_clusters` in the list [5, 10, 20, 30, 50, 70, 100] for instance . Use a `max_iter=10` and `n_init=10`.\n",
    "\n",
    "⚠️ You might wait several minutes"
   ]
  },
  {
   "cell_type": "code",
   "execution_count": null,
   "id": "9f51018f",
   "metadata": {},
   "outputs": [],
   "source": [
    "# ADD YOUR CODE HERE -- You can create new markdown and code cells\n",
    "                    \n",
    "                    \n",
    "                    "
   ]
  },
  {
   "cell_type": "markdown",
   "id": "e4f43c65",
   "metadata": {},
   "source": [
    "<details><string><summary>Conclusions</summary><br>\n",
    "    we can see that our choice of 32 colors is pretty close to the optimal number: 20 colors results in significanly increased inertia, and then inertia augments exponentially).</details>"
   ]
  },
  {
   "cell_type": "markdown",
   "id": "0eb74c90",
   "metadata": {},
   "source": [
    "# 🏁 Finished!\n",
    "\n",
    "Well done! <span style=\"color:teal\">**Push your exercise to GitHub**</span>, and move on to the next one."
   ]
  }
 ],
 "metadata": {
  "kernelspec": {
   "display_name": "Python 3 (ipykernel)",
   "language": "python",
   "name": "python3"
  },
  "language_info": {
   "codemirror_mode": {
    "name": "ipython",
    "version": 3
   },
   "file_extension": ".py",
   "mimetype": "text/x-python",
   "name": "python",
   "nbconvert_exporter": "python",
   "pygments_lexer": "ipython3",
   "version": "3.11.2"
  }
 },
 "nbformat": 4,
 "nbformat_minor": 5
}
