{
 "cells": [
  {
   "cell_type": "markdown",
   "id": "39e247d4",
   "metadata": {},
   "source": [
    "<img src=\"https://drive.google.com/uc?id=1-d7H1l1lJ28_sLcd9Vvh_N-yro7CJZcZ\" style=\"Width:1000px\">"
   ]
  },
  {
   "cell_type": "markdown",
   "id": "c9859abb",
   "metadata": {},
   "source": [
    "# 🚀 Modelling Near Earth Objects\n",
    "\n",
    "This is a data problem that was part of the 2022/23 assessed coursework. Obviously the coursework will be different this year, but this gives you a sense of what is expected.\n",
    "\n",
    "You are a consultant in scientific machine learning, and your first client is **NASA**! They have had a lot of success with their recent **Double Asteroid Redirection Test**, or **DART** mission: now, they have an increased buget and they want to spend it on some predictive machine learning. This is where you come into play: you will help **NASA** train a machine learning algorithm that can determine whether or not a near-Earth asteroid is <span style=\"color:teal\">hazardous</span> (dangerous). <br>\n",
    "\n",
    "### What NASA wants you to do is the following:\n",
    "\n",
    "<p>❇️ <strong style=\"color:blue\">Load the training data</strong> (<code>asteroid_training.csv</code>). This contains your <code>y</code> target (<code>hazardous</code>), and all the other potential features <code>X</code>that you can choose to use to predict <code>y</code>.</p>\n",
    "<p>❇️ NASA says you can <strong style=\"color:blue\">prepare the data</strong> anyway you feel is best (you have complete freedom here). Save the final prepared data as variable named <code>X_train_prep</code> in your notebook. Note that this needs to be a Pandas DataFrame (used in the code test).</p>\n",
    "<p>❇️ In order <strong>to be fair</strong> when assessing your work against others, NASA informs you that for any algorithm where a <strong style=\"color:blue\">random state</strong> is needed you should use <code>random_state=42</code>. Note that this does not necessarily imply that you need an operation that requires a random_state: but if you do, use 42 so you can be fairly assessed against other biders!</p>\n",
    "<p>❇️ Once your data is prepared, NASA wants you to <strong style=\"color:blue\">train a predictive machine learning algorithm</strong>. But they give you <span style=\"color:red\"><strong>further constraints</strong></span>:\n",
    "    <li>1. Your algorithm can only be a <strong style=\"color:purple\">linear model</strong> (so don't use any fancy RandomForest, KNN or XGBoost: NASA is too old school for that)</li>\n",
    "    <li>2. NASA will evaluate your model against metrics that determines the <strong style=\"color:purple\">overall performance of the model at any threshold</strong></li></p>\n",
    "<p>❇️ Using your <code>final_model</code>, <strong style=\"color:blue\">estimate</strong> the performance of your algorithm on unseen data and save this in a variable called <code>predicted_performance</code></p>\n",
    "<p>❇️ Using your <code>final_model</code>, <strong style=\"color:blue\">predict</strong> whether or not the unknown asteroids contained in the file <code>unknown_asteroids.csv</code> are hazardous. Your prediction should be an array of <code>0</code> (not hazardous) and <code>1</code> (hazardous)</p>\n",
    "<p>❇️ <strong style=\"color:blue\">Save your prediction to file</strong> (see pandas's <code>to_csv</code>) making sure to <strong>NOT INCLUDE THE INDEX</strong>. The filename should be <code>predictions.csv</code></p>\n",
    "<br>\n",
    "\n",
    "#### NASA will judge your work on the following criteria:\n",
    "<p>✅ How clean and easy to read your code is, and how well structure your notebook is: this includes using markdown cells to explain your decisions if needed (don't justify all basic decisions though: the code needs to speak for itself)</p>\n",
    "<p>✅ The overall performance of your algorithm at predicting whether a near-Earth object is hazardous <strong>on an unseen dataset</strong> (see note above in point <code>2</code>).</p>\n",
    "<p>✅ Whether or not you have demonstrated through code that your solution follows the best practices of data science.</p>\n",
    "<br>\n",
    "\n",
    "This is a pretty open-ended exercise, so be imaginative. Don't forget to do some solid EDA to understand your data. Also, always use `random_state=42` for the test to assess you fairly. And don't forget all the best practices you have learned in the course!"
   ]
  },
  {
   "cell_type": "markdown",
   "id": "6153e091",
   "metadata": {},
   "source": [
    "### Opening the data"
   ]
  },
  {
   "cell_type": "code",
   "execution_count": null,
   "id": "5aa9d3ce",
   "metadata": {},
   "outputs": [],
   "source": [
    "from nbta.utils import download_data\n",
    "download_data(id='10aqsyytz1F2qky7CTS5LOyGy99fQOPGC')"
   ]
  },
  {
   "cell_type": "code",
   "execution_count": null,
   "id": "2e62a1b8",
   "metadata": {},
   "outputs": [],
   "source": [
    "import pandas as pd\n",
    "import numpy as np\n",
    "\n",
    "data = pd.read_csv('raw_data/asteroid_training.csv')\n",
    "unknown_objects = pd.read_csv('raw_data/unknown_asteroids.csv')\n"
   ]
  },
  {
   "cell_type": "markdown",
   "id": "fd18ddc0",
   "metadata": {},
   "source": [
    "# Your work\n",
    "\n",
    "Now you can explore the dataset and train your model as you see fit."
   ]
  },
  {
   "cell_type": "code",
   "execution_count": null,
   "id": "d53f88ff",
   "metadata": {},
   "outputs": [],
   "source": [
    "# ADD YOUR CODE HERE -- You can create new markdown and code cells\n",
    "                    \n",
    "                    \n",
    "                    "
   ]
  },
  {
   "cell_type": "markdown",
   "id": "0ec66e50",
   "metadata": {},
   "source": [
    "# Prediction\n",
    "\n",
    "Now that you have a fully trained algorithm, it is time to predict how hazardous unknown asteroids are. Use your trained algorithm to predict a label for the samples in `unknown_objects`. Then, save your predictions (use a `pd.Series` for ease) into a file named `predictions.csv`. Make sure to use `index=False` when you do this to not save the index as a data column in your file. Then, test your code below!"
   ]
  },
  {
   "cell_type": "code",
   "execution_count": null,
   "id": "8cbe1cfe",
   "metadata": {},
   "outputs": [],
   "source": [
    "# ADD YOUR CODE HERE -- You can create new markdown and code cells\n",
    "                    \n",
    "                    \n",
    "                    "
   ]
  },
  {
   "cell_type": "markdown",
   "id": "04bf4dfd",
   "metadata": {},
   "source": [
    "# 🏁  Check your code"
   ]
  },
  {
   "cell_type": "code",
   "execution_count": null,
   "id": "cadf3a38",
   "metadata": {},
   "outputs": [],
   "source": [
    "from nbresult import ChallengeResult\n",
    "\n",
    "result = ChallengeResult('new_data_prediction',\n",
    "    predicted_performance=predicted_performance,\n",
    "    X_train = X_train_prep\n",
    ")\n",
    "result.write()\n",
    "print(result.check())"
   ]
  },
  {
   "cell_type": "markdown",
   "id": "72d05ee3",
   "metadata": {},
   "source": [
    "# 🏁 Finished!\n",
    "\n",
    "Well done! <span style=\"color:teal\">**Push your exercise to GitHub**</span>, and move on to the next one."
   ]
  }
 ],
 "metadata": {
  "kernelspec": {
   "display_name": "Python 3 (ipykernel)",
   "language": "python",
   "name": "python3"
  },
  "language_info": {
   "codemirror_mode": {
    "name": "ipython",
    "version": 3
   },
   "file_extension": ".py",
   "mimetype": "text/x-python",
   "name": "python",
   "nbconvert_exporter": "python",
   "pygments_lexer": "ipython3",
   "version": "3.11.2"
  }
 },
 "nbformat": 4,
 "nbformat_minor": 5
}
