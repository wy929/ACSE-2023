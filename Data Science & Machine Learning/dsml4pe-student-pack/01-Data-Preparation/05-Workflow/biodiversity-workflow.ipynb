{
 "cells": [
  {
   "cell_type": "markdown",
   "id": "ac71b34b",
   "metadata": {},
   "source": [
    "<img src=\"https://drive.google.com/uc?id=1-hPP-XPm9_5M3orUgmompcVleQ5xvPST\" style=\"Width:1000px\">"
   ]
  },
  {
   "cell_type": "markdown",
   "id": "617c3f01",
   "metadata": {},
   "source": [
    "# Golden Plains Roadside Biodiversity - What about the test set?"
   ]
  },
  {
   "cell_type": "markdown",
   "id": "bc1eb6e2",
   "metadata": {},
   "source": [
    "In the previous exercise, you prepared the `train set` and cross validated it. This is good, but clearly we are missing something here: what do we do with the final test set to test the real performance of our algorithm?\n",
    "\n",
    "This is, as you will see, a tricky question. We have used objects (mainly imputer and scalers) trained on our `X_train`, and before we can predict our `X_test`, we will need to also apply the same transformations to our test set.\n",
    "\n",
    "We will learn later that there are easy ways to do this. But in this exercise, we will practice our skills at object oriented Python, and write a class called `GoldenPlainModel` (see the `.py` file attached). This class will do the following:\n",
    "\n",
    "1. It will split the data from Golden Plain Australia exactly the same way we have done in the previous exercise (i.e. use `42` as your `random_state`.\n",
    "2. It will train a series of imputer and scalers exactly as before, but it will save the trained algorithms in memory\n",
    "3. It will train via cross-validation a `LinearRegression` model to predict `RCACTreesS` and save this trained algorithm.\n",
    "4. All the the above will be executed via the `.train()` method that should only take as argument the path to the file\n",
    "5. When asked to run the `.score()` method, it will return the `r2` of the `X_test` and save the predictions (`y_pred`) as a comma-separated file (CSV) named `'predictions.csv'` in the root folder of this exercise\n",
    "\n",
    "### Write your class using VSCode \n",
    "Do this in the 'golden_plain_australia.py` file, and then test your code below!"
   ]
  },
  {
   "cell_type": "code",
   "execution_count": null,
   "id": "e24f3322",
   "metadata": {},
   "outputs": [],
   "source": [
    "from golden_plain_australia import GoldenPlainModel\n",
    "\n",
    "model = GoldenPlainModel()\n",
    "model.train('../04-Biodiversity/raw_data/biodiversity.csv')\n",
    "base_model_score = model.evaluate()\n",
    "base_model_score"
   ]
  },
  {
   "cell_type": "markdown",
   "id": "2c1f0c21",
   "metadata": {},
   "source": [
    "### ☑️ Test your code"
   ]
  },
  {
   "cell_type": "code",
   "execution_count": null,
   "id": "bc52bd6e",
   "metadata": {},
   "outputs": [],
   "source": [
    "from nbresult import ChallengeResult\n",
    "\n",
    "result = ChallengeResult('base_model',\n",
    "                         score = base_model_score\n",
    ")\n",
    "\n",
    "result.write()\n",
    "print(result.check())"
   ]
  },
  {
   "cell_type": "markdown",
   "id": "62d7b415",
   "metadata": {},
   "source": [
    "# 🏁"
   ]
  }
 ],
 "metadata": {},
 "nbformat": 4,
 "nbformat_minor": 5
}
