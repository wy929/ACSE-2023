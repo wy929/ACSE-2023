{
 "cells": [
  {
   "cell_type": "markdown",
   "id": "89d4716a",
   "metadata": {},
   "source": [
    "<img src=\"https://drive.google.com/uc?id=1-d7H1l1lJ28_sLcd9Vvh_N-yro7CJZcZ\" style=\"Width:1000px\">"
   ]
  },
  {
   "cell_type": "markdown",
   "id": "81071021",
   "metadata": {},
   "source": [
    "# Advanced Data Preparation with Pipelines -  Geochemical Survey Canada\n",
    "\n",
    "This data problem was given as assessed coursework in 2022. It presents a great opportunity to practice your skills with pipelines and data preparation, as well as EDA and general thinking. Your client is the **Canadian Government**. As part of their ***open government*** digital initiative, they have collected a lot of information about river sediments and the general river conditions in the Province of British Columbia.\n",
    "\n",
    "The Canadian Government has many data scientists, so they are <strong style=\"color:brown\">not interested in you doing any machine learning modelling</strong>. Rather, they need you to prepare the data for them, so their overpaid data scientists can do the modelling with already prepared data.\n",
    "\n",
    "### What Regional Canada wants you to do is the following:\n",
    "<p>🍁 Load the data by running the cell below: <strong style=\"color:blue\">this will be all the training data that you have</strong>. Since you are not doing any machine learning modelling, consider all of the features to be your <code>X</code> features (there is no <code>y</code> in this exercise).</p>\n",
    "<p>🍁 In order <strong>to be fair</strong> when assessing your work against others, the Canadian Government informs you that for any algorithm where a <strong style=\"color:blue\">random state</strong> is needed you should use <code>random_state=42</code>. Note that this does not necessarily imply that you need an operation that requires a random_state: but if you do, use 42 so you can be fairly assessed against other biders!</p> \n",
    "<p>🍁 The client also informs you that they intend to use your <code>X_train</code> and <code>X_test</code> sets (see instructions below) for their own machine learning modeling in order to <strong style=\"color:blue\">predict properties outside of British Columbia</strong>, so take this into consideration when you prepare the data.</p>\n",
    "<p>🍁 Your client is <strong>NOT interested in advanced feature engineering</strong>: so, for instance, don't bother with FeatureCross or coming up with new features as they don't want this at this stage and won't reward you for it.</p>\n",
    "\n",
    "#### Objective I\n",
    "<p>🍁 Your first objective is to  <strong style=\"color:blue\">prepare</strong> a <code>X_train</code> (80% of the dataset), and a <code>X_test</code> (20% of the dataset). You need to prepare the two sets following the <strong style=\"color:blue\">best practices in data science</strong>, and you need to name these objects in your notebook <code>X_train</code> and <code>X_test</code>.</p> \n",
    "<p>🍁 Your client want you to create a pipeline to <strong style=\"color:teal\">process the numerical features in your dataset</strong>. This data preparation pipeline should be called <code>num_pipe</code>. You should  <strong>remove unnecessary numerical features</strong>, but you need to make a good case as to <strong style=\"color:blue\">why</strong> you remove the features, i.e. it needs to be motivated by sound data science principles for future ML modelling. It is advisable to use a <strong>markdown</strong> cell to explain to your client why you would remove certain features.</p>\n",
    "\n",
    "#### Objective II\n",
    "<p>🍁 Your client also wants you to <strong style=\"color:teal\">prepare the categorical features</strong>, but in this case they want you to <strong style=\"color:blue\">retain all categorical features</strong> as they don't know what will be useful, and what will not be useful. Call your categorical pipeline <code>cat_pipe</code></p>\n",
    "<p>🍁 Then, the client wants both your <code>num_pipe</code> and your <code>cat_pipe</code> to be <strong style=\"color:teal\">wrapped in a single, final data pipeline able to process raw data</strong>: they want this pipeline to be saved in your notebook as <code>final_preprocessor</code>. The Government has more data and they intend to prepare it using your pipeline for evaluation.</p>\n",
    "<p>🍁 Make sure to use your <code>final_preprocessor</code> to transform your <code>X_train</code> and <code>y_train</code> in your notebook: these will be assessed too (you need to transform them and save them under the same name for the test to run properly).</p>\n",
    "\n",
    "#### Objective III\n",
    "<p>🍁 Once you are done with this work, write your code in the <code>GeochemPrep</code> class (see <code>river_geochemistry.py</code> that will automatically learn the features of your data when you use the <code>.fit</code> method, and transform it with <code>.transform</code>. You can create as many other methods in the class as you see fit, but I will test your code by giving it an <code>X_train</code> as input for training, and check the output with the <code>.transform</code> method. In essence, this class should simply be the code you already wrote but nicely packaged and thus reusable (and don't worry about the train-test-split part).</p>\n",
    "<br>\n",
    "\n",
    "#### Your client will judge your work on the following criteria:\n",
    "<p>❄️ How clean and easy to read your code is, and how well structure your notebook is: this includes using markdown cells to explain your decisions if needed (don't justify all basic decisions though: the code needs to speak for itself)</p>\n",
    "<p>❄️ The overall performance of your pipeline at preparing similar data from <strong>an unseen dataset</strong>.</p>\n",
    "<p>❄️ Whether or not you have demonstrated through code that your solution follows the best practices of data science, and is as complete as possible.</p>\n",
    "<br>\n",
    "\n",
    "###  🦫 Good luck!"
   ]
  },
  {
   "cell_type": "code",
   "execution_count": null,
   "id": "fb0651a1",
   "metadata": {},
   "outputs": [],
   "source": [
    "from nbta.utils import download_data\n",
    "download_data(id='10gWdSEk_LdRczR0adYLY5lJHiHBisbV4')"
   ]
  },
  {
   "cell_type": "code",
   "execution_count": null,
   "id": "a16f7342",
   "metadata": {},
   "outputs": [],
   "source": [
    "# Run this cell first in order to be able to see changes in your \"custom_transformers.py\" file without needing to restart your kernel\n",
    "%load_ext autoreload\n",
    "%autoreload 2"
   ]
  },
  {
   "cell_type": "code",
   "execution_count": null,
   "id": "6005286f",
   "metadata": {},
   "outputs": [],
   "source": [
    "import pandas as pd\n",
    "\n",
    "river_data = pd.read_csv('raw_data/river_sediments.csv')\n",
    "river_data"
   ]
  },
  {
   "cell_type": "code",
   "execution_count": null,
   "id": "8376e817",
   "metadata": {},
   "outputs": [],
   "source": [
    "# ADD YOUR CODE HERE -- You can create new markdown and code cells\n",
    "                    \n",
    "                    \n",
    "                    "
   ]
  },
  {
   "cell_type": "markdown",
   "id": "ee27a872",
   "metadata": {},
   "source": [
    "### ☑️ Test your code"
   ]
  },
  {
   "cell_type": "code",
   "execution_count": null,
   "id": "0a466f8e",
   "metadata": {},
   "outputs": [],
   "source": [
    "from nbresult import ChallengeResult\n",
    "from river_geochemistry import GeochemPrep\n",
    "\n",
    "prep = GeochemPrep()\n",
    "prep.fit(river_data)\n",
    "\n",
    "\n",
    "result = ChallengeResult('geochem_prep',\n",
    "                         sparsity = type(X_train),\n",
    "                         pipeline = prep\n",
    ")\n",
    "\n",
    "result.write()\n",
    "print(result.check())"
   ]
  },
  {
   "cell_type": "markdown",
   "id": "4cbb29c5",
   "metadata": {},
   "source": [
    "============================================================================================================================================================================================================================================="
   ]
  },
  {
   "cell_type": "markdown",
   "id": "072371bc",
   "metadata": {},
   "source": [
    "# 🏁 Finished!\n",
    "\n",
    "Well done! <span style=\"color:teal\">**Push your exercise to GitHub**</span>, and move on to the next one."
   ]
  }
 ],
 "metadata": {
  "kernelspec": {
   "display_name": "Python 3 (ipykernel)",
   "language": "python",
   "name": "python3"
  },
  "language_info": {
   "codemirror_mode": {
    "name": "ipython",
    "version": 3
   },
   "file_extension": ".py",
   "mimetype": "text/x-python",
   "name": "python",
   "nbconvert_exporter": "python",
   "pygments_lexer": "ipython3",
   "version": "3.11.2"
  }
 },
 "nbformat": 4,
 "nbformat_minor": 5
}
