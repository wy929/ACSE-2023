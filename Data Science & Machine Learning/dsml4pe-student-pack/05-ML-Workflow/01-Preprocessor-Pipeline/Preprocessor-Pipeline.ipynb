{
 "cells": [
  {
   "cell_type": "markdown",
   "id": "027302f7",
   "metadata": {},
   "source": [
    "<img src=\"https://drive.google.com/uc?id=1-cL5eOpEsbuIEkvwW2KnpXC12-PAbamr\" style=\"Width:1000px\">"
   ]
  },
  {
   "cell_type": "markdown",
   "id": "c72cd3b8",
   "metadata": {},
   "source": [
    "# Preprocessor Pipeline\n",
    "### Back to Golden Plains Roadside Biodiversity"
   ]
  },
  {
   "cell_type": "markdown",
   "id": "68d2d222",
   "metadata": {},
   "source": [
    "As our first exercise we will return to the  <a href='https://data.gov.au/data/dataset/golden-plains-roadside-biodiversity'>Golden Plains Shire (Australia) dataset</a>.<br>\n",
    "![plain](https://upload.wikimedia.org/wikipedia/commons/thumb/6/6b/Mount_Conner%2C_August_2003.jpg/375px-Mount_Conner%2C_August_2003.jpg)\n",
    "<br>\n",
    "\n",
    "🎯 As last time, the exercise will consist of the data preparation and feature selection techniques you have learnt: we will again try to predict via linear regression the `RCACScore`. But this time, we will do it using `Pipelines`, and we don't really care that much about the final score (the goal is to demonstrate how pipelines work.\n",
    "\n",
    "The goal is to demonstrate how helpful pipelines are in making our code cleaner, and avoid repetition."
   ]
  },
  {
   "cell_type": "markdown",
   "id": "ce41ec81",
   "metadata": {},
   "source": [
    "👇 Load the data into this notebook as a pandas dataframe named `df`, and display its first 5 rows."
   ]
  },
  {
   "cell_type": "code",
   "execution_count": null,
   "id": "6c0b8e0b",
   "metadata": {},
   "outputs": [],
   "source": [
    "from nbta.utils import download_data\n",
    "download_data(id='1SUxBmDZF6fsu3ndrgrNI7aI2B2BEr59S')"
   ]
  },
  {
   "cell_type": "code",
   "execution_count": null,
   "id": "59b02e84",
   "metadata": {},
   "outputs": [],
   "source": [
    "# ADD YOUR CODE HERE -- You can create new markdown and code cells\n",
    "                    \n",
    "                    \n",
    "                    "
   ]
  },
  {
   "cell_type": "markdown",
   "id": "c42f5730",
   "metadata": {},
   "source": [
    "# Remove Duplicates and Hold Out"
   ]
  },
  {
   "cell_type": "markdown",
   "id": "fbb59f80",
   "metadata": {},
   "source": [
    "Removing duplicates still **needs to be done before training a pipeline**. Why? Because if you don't do it now, once you train-test-split (hold out method) you might have data leakage. Do the following:\n",
    "1. Remove the duplicates\n",
    "2. Create the target `y` vector (`RCACScore`) and feature `X` matrix\n",
    "3. Using a 30% split for the test set, create the `X_train`, `X_test`, `y_train`, `y_test`"
   ]
  },
  {
   "cell_type": "code",
   "execution_count": null,
   "id": "3cfb3742",
   "metadata": {},
   "outputs": [],
   "source": [
    "# The code below ensures that all transformers return pandas dataframe - makes life easier!\n",
    "\n",
    "from sklearn import set_config\n",
    "set_config(transform_output=\"pandas\")"
   ]
  },
  {
   "cell_type": "code",
   "execution_count": null,
   "id": "75fac8e7",
   "metadata": {},
   "outputs": [],
   "source": [
    "# ADD YOUR CODE HERE -- You can create new markdown and code cells\n",
    "                    \n",
    "                    \n",
    "                    "
   ]
  },
  {
   "cell_type": "markdown",
   "id": "072b1c5f",
   "metadata": {},
   "source": [
    "# Creating our numeric pipeline\n",
    "\n",
    "Let's start by taking care of the numeric values, and do this in a pipeline. The steps we will want to implements are the following:\n",
    "1. Impute values with a `SimpleImputer`, with the default strategy\n",
    "2. Scale the values using a `StandardScaler`\n",
    "\n",
    "Create a pipeline that does just that! Call it `num_pipe`. Then, fit it to the **numeric columns of your** `X_train`."
   ]
  },
  {
   "cell_type": "code",
   "execution_count": null,
   "id": "c3a871d1",
   "metadata": {},
   "outputs": [],
   "source": [
    "# ADD YOUR CODE HERE -- You can create new markdown and code cells\n",
    "                    \n",
    "                    \n",
    "                    "
   ]
  },
  {
   "cell_type": "markdown",
   "id": "50140179",
   "metadata": {},
   "source": [
    "# Applying your pipline\n",
    "\n",
    "Create two new dataframes named `X_train_prep` and `X_test_prep`,  containing respectively the values of `X_train` and `X_test` transformed by your pipeline.\n",
    "\n",
    "**Tip:** Note that the transform function of a pipeline returns a `NumPy array` by default. So, to obtain a nice looking datadframe, you will need to create it from the return numpy array and the columns of the original `X_train` and `X_test` dataframes."
   ]
  },
  {
   "cell_type": "code",
   "execution_count": null,
   "id": "7424cfa9",
   "metadata": {},
   "outputs": [],
   "source": [
    "# ADD YOUR CODE HERE -- You can create new markdown and code cells\n",
    "                    \n",
    "                    \n",
    "                    "
   ]
  },
  {
   "cell_type": "markdown",
   "id": "fb639bb0",
   "metadata": {},
   "source": [
    "<details>\n",
    "    <summary>💡 Conclusions</summary>\n",
    "<br>\n",
    "ℹ️ Hopefully you can see with this simple example that <code>Pipeline</code>s make your life much easier! <br> \n",
    "    Once you have fitted your pipeline to the <code>X_train</code>, you can <code>transform</code> the <code>X_train</code>, <code>X_test</code>, or indeed any new data you need to predict!\n",
    "    \n",
    "</details>"
   ]
  },
  {
   "cell_type": "markdown",
   "id": "998747ea",
   "metadata": {},
   "source": [
    "### ☑️ Test your code"
   ]
  },
  {
   "cell_type": "code",
   "execution_count": null,
   "id": "d5df2eb0",
   "metadata": {},
   "outputs": [],
   "source": [
    "from nbresult import ChallengeResult\n",
    "\n",
    "result = ChallengeResult('num_pipe',\n",
    "                         X_test = X_test_prep\n",
    ")\n",
    "\n",
    "result.write()\n",
    "print(result.check())"
   ]
  },
  {
   "cell_type": "markdown",
   "id": "878d0950",
   "metadata": {},
   "source": [
    "# Categorical Data Pipeline\n",
    "\n",
    "Let's now build a new `pipeline` and name it `cat_pipe` for **Categorical Pipeline**. We will deal with the categorical data by doing the following:\n",
    "- Apply a `SimpleImputer()` with the `most_frequent` strategy\n",
    "- Apply a `OneHotEncoder()` with the `handle_unknown=\"ignore\"` to the categorical data\n",
    "\n",
    "Then, transform the `X_train` and `X_test` categorical data into a `X_train_cat_prep` and `X_test_cat_prep` in the same way as you trensformed the numerical data above."
   ]
  },
  {
   "cell_type": "code",
   "execution_count": null,
   "id": "f51392b8",
   "metadata": {},
   "outputs": [],
   "source": [
    "# ADD YOUR CODE HERE -- You can create new markdown and code cells\n",
    "                    \n",
    "                    \n",
    "                    "
   ]
  },
  {
   "cell_type": "markdown",
   "id": "4c3f6b4a",
   "metadata": {},
   "source": [
    "### ☑️ Test your code"
   ]
  },
  {
   "cell_type": "code",
   "execution_count": null,
   "id": "17259b16",
   "metadata": {},
   "outputs": [],
   "source": [
    "from nbresult import ChallengeResult\n",
    "\n",
    "result = ChallengeResult('cat_pipe',\n",
    "                         X_test = X_test_cat_prep)\n",
    "result.write()\n",
    "print(result.check())"
   ]
  },
  {
   "cell_type": "markdown",
   "id": "fad13e99",
   "metadata": {},
   "source": [
    "# Building a single processing Pipeline\n",
    "\n",
    "Ok, the process above was already saving us a lot of time. But now, we are going to take this to the next level by creating a `ColumnTransformer` that groups both `pipelines`together! Name your `ColumnTransformer` as `preproc_pipe` (**preprocessing pipeline**). If in doubt, consult the documentation!\n",
    "\n",
    "Once your pipeline is created, you can `fit` it on the `X_train` and then `transform` the `X_train` and the `X_test` into `X_train_preproc` and `X_test_preproc`: you will see how easy it makes your code."
   ]
  },
  {
   "cell_type": "code",
   "execution_count": null,
   "id": "04509467",
   "metadata": {},
   "outputs": [],
   "source": [
    "# ADD YOUR CODE HERE -- You can create new markdown and code cells\n",
    "                    \n",
    "                    \n",
    "                    "
   ]
  },
  {
   "cell_type": "markdown",
   "id": "658cb309",
   "metadata": {},
   "source": [
    "### ☑️ Test your code"
   ]
  },
  {
   "cell_type": "code",
   "execution_count": null,
   "id": "384464d7",
   "metadata": {},
   "outputs": [],
   "source": [
    "from nbresult import ChallengeResult\n",
    "\n",
    "result = ChallengeResult('preproc_pipe',\n",
    "                         X_test = X_test_preproc\n",
    ")\n",
    "\n",
    "result.write()\n",
    "print(result.check())"
   ]
  },
  {
   "cell_type": "markdown",
   "id": "ba02f727",
   "metadata": {},
   "source": [
    "# Adding models into pipelines\n",
    "\n",
    "The true power of the `pipeline` class is that it can also handle full `sklearn` models! So, all we need to do now is create a new `pipeline`, let's call it `linear_model`, and this will contain the `preproc_pipe` and a `LinearRegression` model. Then, you can directly fit it to the `X_train` and `y_train`. Onces this is fitted, you can estimate the `y_pred` from the `X_test`, and save the `root mean squared error` of this model into a new variable, `score`.\n",
    "\n"
   ]
  },
  {
   "cell_type": "code",
   "execution_count": null,
   "id": "4833dc87",
   "metadata": {},
   "outputs": [],
   "source": [
    "# ADD YOUR CODE HERE -- You can create new markdown and code cells\n",
    "                    \n",
    "                    \n",
    "                    "
   ]
  },
  {
   "cell_type": "markdown",
   "id": "72b5717a",
   "metadata": {},
   "source": [
    "# 🏁 Finished!\n",
    "\n",
    "Well done! <span style=\"color:teal\">**Push your exercise to GitHub**</span>, and move on to the next one."
   ]
  }
 ],
 "metadata": {
  "kernelspec": {
   "display_name": "Python 3 (ipykernel)",
   "language": "python",
   "name": "python3"
  },
  "language_info": {
   "codemirror_mode": {
    "name": "ipython",
    "version": 3
   },
   "file_extension": ".py",
   "mimetype": "text/x-python",
   "name": "python",
   "nbconvert_exporter": "python",
   "pygments_lexer": "ipython3",
   "version": "3.11.2"
  }
 },
 "nbformat": 4,
 "nbformat_minor": 5
}
