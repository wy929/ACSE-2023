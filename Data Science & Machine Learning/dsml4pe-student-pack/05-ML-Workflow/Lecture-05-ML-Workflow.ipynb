{
 "cells": [
  {
   "cell_type": "markdown",
   "id": "6f05ad1c-7134-4183-adeb-851749da594d",
   "metadata": {
    "editable": true,
    "slideshow": {
     "slide_type": ""
    },
    "tags": []
   },
   "source": [
    "**Day 5**: ML Workflow 👷 (***live in 1.49/1.50***)"
   ]
  },
  {
   "cell_type": "markdown",
   "id": "13083130-ba16-452b-aea1-b6222c902a65",
   "metadata": {
    "editable": true,
    "slideshow": {
     "slide_type": "slide"
    },
    "tags": []
   },
   "source": [
    "<center><h1 style=\"color:maroon\">Machine Learning Workflow</h1>\n",
    "    <img src=\"https://drive.google.com/uc?id=147Lecen6y_grpY_9lWbRj28qay4CBcSN\" style=\"width:1300px\">\n",
    "    <h3><span style=\"color: #045F5F\">Data Science & Machine Learning for Planet Earth Lecture Series</span></h3><h6><i> by Cédric M. John <span style=\"size:6pts\">(2023)</span></i></h6></center>"
   ]
  },
  {
   "cell_type": "markdown",
   "id": "9a9a35d9-a6fc-45cc-b59c-d2796e90da3b",
   "metadata": {
    "editable": true,
    "slideshow": {
     "slide_type": "subslide"
    },
    "tags": []
   },
   "source": [
    "## Plan for today's Lecture 🗓 "
   ]
  },
  {
   "cell_type": "markdown",
   "id": "b0e78f24-62af-4c8e-be4d-396014902d8e",
   "metadata": {
    "editable": true,
    "slideshow": {
     "slide_type": "fragment"
    },
    "tags": []
   },
   "source": [
    "* Motivation for an ML workflow\n",
    "* Introduction to <code>sklearn.pipeline</code> module\n",
    "* Writing custom transformers\n",
    "* Grouping data transformation and models into one object\n",
    "* Migrating from Notebooks to Python classes"
   ]
  },
  {
   "cell_type": "markdown",
   "id": "b0949b1e-26d3-4b3d-8c15-a8e5cbe00ca5",
   "metadata": {
    "slideshow": {
     "slide_type": "subslide"
    }
   },
   "source": [
    "## Intended learning outcomes 👩‍🎓"
   ]
  },
  {
   "cell_type": "markdown",
   "id": "0b606be6-eb82-496e-b0f4-c86be14e2e84",
   "metadata": {
    "slideshow": {
     "slide_type": "fragment"
    }
   },
   "source": [
    "* Write clean code using pipelines\n",
    "* Optimize the entire ***data-preparation-to-model-selection*** chain\n",
    "* Build code deployable locally and on the cloud"
   ]
  },
  {
   "cell_type": "markdown",
   "id": "089a35e4-2b25-4beb-949d-baee98ee54ae",
   "metadata": {
    "editable": true,
    "slideshow": {
     "slide_type": "slide"
    },
    "tags": []
   },
   "source": [
    "# Data Pipelines\n",
    "<br>\n",
    "\n",
    "<center><img src=\"https://drive.google.com/uc?id=1449ihCDJfUk-s9fC3snOpBXI9WHj1oAY\" style=\"width:900px;\"><br>\n",
    " © Cédric John, 2022; Image generated with <a href=\"https://openai.com/blog/dall-e/\">DALL-E</a><br>\n",
    "<br>Prompt: Wide angle view of a large metal oil pipeline in the sunrise in the middle of a frozen arctic stepp.</center>"
   ]
  },
  {
   "cell_type": "markdown",
   "id": "f4520a29-f572-471a-b6a0-f314f4ad5c7c",
   "metadata": {
    "editable": true,
    "slideshow": {
     "slide_type": "subslide"
    },
    "tags": []
   },
   "source": [
    "### Dataset\n",
    "\n",
    "<span style=\"color:teal\">**Todays's dataset:**</span><a href=\"https://www.kaggle.com/datasets/rohanrao/air-quality-data-in-india\"> India air quality data, Kaggle</a><br>\n",
    "<img src=\"https://drive.google.com/uc?id=13rbICKbhIfs-K0dKdLxxHybLDMWLHRk2\" style=\"width:900px\"/>"
   ]
  },
  {
   "cell_type": "code",
   "execution_count": null,
   "id": "d20f7b10",
   "metadata": {
    "editable": true,
    "slideshow": {
     "slide_type": "subslide"
    },
    "tags": []
   },
   "outputs": [],
   "source": [
    "import pandas as pd\n",
    "import numpy as np\n",
    "\n",
    "data = pd.read_csv('Lecture_data/India_air_quality_light.csv')\n",
    "\n",
    "# REMINDER: Always drop duplicates first\n",
    "data = data.drop_duplicates()\n",
    "\n",
    "data"
   ]
  },
  {
   "cell_type": "markdown",
   "id": "0e0d8dae-a3d5-4003-a81b-ef3b5672416f",
   "metadata": {
    "slideshow": {
     "slide_type": "subslide"
    }
   },
   "source": [
    "## Reminder of the data processing needed on this dataset (Lecture 1):"
   ]
  },
  {
   "cell_type": "markdown",
   "id": "b24b2b4f-0d0a-4632-b10f-fbc155f555b5",
   "metadata": {
    "slideshow": {
     "slide_type": "fragment"
    }
   },
   "source": [
    "1. Remove Outliers \n",
    "2. Missing Data\n",
    "3. Scale Features\n",
    "4. Engineer Features\n",
    "5. Encode Data\n",
    "6. Select Feature"
   ]
  },
  {
   "cell_type": "markdown",
   "id": "f65c359b",
   "metadata": {
    "slideshow": {
     "slide_type": "fragment"
    }
   },
   "source": [
    "* Need to train and apply these to our **training set**"
   ]
  },
  {
   "cell_type": "markdown",
   "id": "6c09b5a0",
   "metadata": {
    "slideshow": {
     "slide_type": "fragment"
    }
   },
   "source": [
    "* Need to apply the same transformations to our **test set**"
   ]
  },
  {
   "cell_type": "markdown",
   "id": "effa1e21",
   "metadata": {
    "slideshow": {
     "slide_type": "fragment"
    }
   },
   "source": [
    "* Need to apply the same transformations to our **new data**"
   ]
  },
  {
   "cell_type": "markdown",
   "id": "82f11eb5",
   "metadata": {
    "slideshow": {
     "slide_type": "fragment"
    }
   },
   "source": [
    "* This implies we need to save (and load) <span style=\"color:red\">**several independant transformers**</span>. "
   ]
  },
  {
   "cell_type": "markdown",
   "id": "72a49b24",
   "metadata": {
    "slideshow": {
     "slide_type": "fragment"
    }
   },
   "source": [
    "### <span style=\"color:teal\">Messy, work-intensive and entails large potential for bugs and errors.</span>"
   ]
  },
  {
   "cell_type": "markdown",
   "id": "c10df9c0-4dab-4c39-93ad-c9006e713da7",
   "metadata": {
    "slideshow": {
     "slide_type": "slide"
    },
    "tags": []
   },
   "source": [
    "##  Pipelines: Chaining Data Transformations\n",
    "<a href=\"https://scikit-learn.org/stable/modules/compose.html\">Sklearn doc</a><br>"
   ]
  },
  {
   "cell_type": "markdown",
   "id": "1758b6fe-d439-4c99-acf0-90d5b4b98a96",
   "metadata": {
    "slideshow": {
     "slide_type": "fragment"
    },
    "tags": []
   },
   "source": [
    "### Principle\n",
    "* **chains** together multiple steps **in sequence**, e.g.:\n",
    "* *impute* missing values, *then*\n",
    "* *scale* numerical features, *then*\n",
    "* *encode* categorical features, *etc...*"
   ]
  },
  {
   "cell_type": "markdown",
   "id": "b120d11b-ac2c-4e9d-a276-432c55b190c2",
   "metadata": {
    "slideshow": {
     "slide_type": "fragment"
    },
    "tags": []
   },
   "source": [
    "* Make your workflow much easier to read and understand.\n",
    "* Enforce the implementation and order of steps in your project.\n",
    "* Make your work reproducible and deployable"
   ]
  },
  {
   "cell_type": "markdown",
   "id": "4f6d29aa-7023-4751-84ee-a3000cacb9b0",
   "metadata": {
    "slideshow": {
     "slide_type": "subslide"
    },
    "tags": []
   },
   "source": [
    "<img src=\"https://drive.google.com/uc?id=13pBbXtuoOyHn8NlZhbsdBVk-kVnib-ep\" style=\"width:1200px\">\n",
    "<a href=\"https://www.packtpub.com/product/python-machine-learning-third-edition/9781789955750\">Rashka, S., 2015, Packt Publishing</a>"
   ]
  },
  {
   "cell_type": "markdown",
   "id": "f837420c-0ece-4edd-8fdc-84786a2d0bab",
   "metadata": {
    "slideshow": {
     "slide_type": "subslide"
    },
    "tags": []
   },
   "source": [
    "## Preprocessing pipelines"
   ]
  },
  {
   "cell_type": "markdown",
   "id": "e3620f51-dacc-42c9-95f3-1a8ab58f77ce",
   "metadata": {
    "slideshow": {
     "slide_type": "fragment"
    },
    "tags": []
   },
   "source": [
    "All preprocessing steps can be built in a pipeline. We are going to predict whether or not the **pollution level is high** as a function of various features. This will illustrate the use of pipelines."
   ]
  },
  {
   "cell_type": "code",
   "execution_count": null,
   "id": "a1859bc3-4104-46d4-bf2e-c960a8e80054",
   "metadata": {
    "slideshow": {
     "slide_type": "-"
    },
    "tags": []
   },
   "outputs": [],
   "source": [
    "from sklearn.model_selection import train_test_split\n",
    "\n",
    "y = data.high_level # Target\n",
    "X = data.drop(columns='high_level') #Feature\n",
    "\n",
    "X_train, X_test, y_train, y_test = train_test_split(X, y, train_size=0.8)\n",
    "\n",
    "X_train"
   ]
  },
  {
   "cell_type": "code",
   "execution_count": null,
   "id": "755e341f",
   "metadata": {
    "slideshow": {
     "slide_type": "subslide"
    }
   },
   "outputs": [],
   "source": [
    "y_train"
   ]
  },
  {
   "cell_type": "markdown",
   "id": "ba4dd0e1",
   "metadata": {
    "slideshow": {
     "slide_type": "subslide"
    }
   },
   "source": [
    "## Our first simple pipeline\n",
    "\n",
    "Let's create a simple pipeline that impute missing values from <code>so2</code> and <code>no2</code>."
   ]
  },
  {
   "cell_type": "code",
   "execution_count": null,
   "id": "b847f31a",
   "metadata": {
    "slideshow": {
     "slide_type": "fragment"
    }
   },
   "outputs": [],
   "source": [
    "from sklearn.impute import SimpleImputer\n",
    "from sklearn.preprocessing import StandardScaler\n",
    "from sklearn.pipeline import Pipeline"
   ]
  },
  {
   "cell_type": "code",
   "execution_count": null,
   "id": "339ff017",
   "metadata": {
    "slideshow": {
     "slide_type": "fragment"
    }
   },
   "outputs": [],
   "source": [
    "pipe = Pipeline([\n",
    "    ('imputer', SimpleImputer()),\n",
    "    ('scaler', StandardScaler())\n",
    "])"
   ]
  },
  {
   "cell_type": "code",
   "execution_count": null,
   "id": "203322ec",
   "metadata": {
    "slideshow": {
     "slide_type": "-"
    }
   },
   "outputs": [],
   "source": [
    "pipe.fit(X_train[['so2', 'no2']])"
   ]
  },
  {
   "cell_type": "code",
   "execution_count": null,
   "id": "33edcf2d",
   "metadata": {},
   "outputs": [],
   "source": [
    "pipe.transform(X_test[['so2', 'no2']])"
   ]
  },
  {
   "cell_type": "code",
   "execution_count": null,
   "id": "e0e1ebfa",
   "metadata": {
    "editable": true,
    "slideshow": {
     "slide_type": "subslide"
    },
    "tags": []
   },
   "outputs": [],
   "source": [
    "from sklearn.pipeline import make_pipeline\n",
    "\n",
    "pipe = make_pipeline(SimpleImputer(), StandardScaler())\n",
    "\n",
    "pipe.fit(X_train[['so2', 'no2']])"
   ]
  },
  {
   "cell_type": "markdown",
   "id": "ffb4acf5",
   "metadata": {
    "editable": true,
    "slideshow": {
     "slide_type": "subslide"
    },
    "tags": []
   },
   "source": [
    "## Visualizing pipelines in html\n",
    "We can turn on the diagram visualization to have a nice view of our pipelines:"
   ]
  },
  {
   "cell_type": "code",
   "execution_count": null,
   "id": "f8079471",
   "metadata": {
    "editable": true,
    "slideshow": {
     "slide_type": ""
    },
    "tags": []
   },
   "outputs": [],
   "source": [
    "from sklearn import set_config\n",
    "\n",
    "set_config(display='diagram')\n",
    "\n",
    "pipe"
   ]
  },
  {
   "cell_type": "markdown",
   "id": "87283f9d-cde3-4968-b1e3-3e7ab22c9b9d",
   "metadata": {
    "slideshow": {
     "slide_type": "subslide"
    }
   },
   "source": [
    "\n",
    "<h2 id=\"FeatureUnion\">FeatureUnion</h2>\n"
   ]
  },
  {
   "cell_type": "markdown",
   "id": "faa1e420-f6ce-44dc-b856-7b4e2b9b31d0",
   "metadata": {
    "slideshow": {
     "slide_type": "fragment"
    }
   },
   "source": [
    "\n",
    "<ul>\n",
    "<li>Applies transformers in paralell, independently</li>\n",
    "<li>Concatenate feature matrices outputs of each transformer</li>\n",
    "<li>Usefull to create and add new features</li>\n",
    "</ul>\n"
   ]
  },
  {
   "cell_type": "code",
   "execution_count": null,
   "id": "4de33ba4-24f4-4fcb-83f4-625e35b309fe",
   "metadata": {
    "editable": true,
    "scrolled": true,
    "slideshow": {
     "slide_type": "fragment"
    },
    "tags": []
   },
   "outputs": [],
   "source": [
    "from sklearn.pipeline import FeatureUnion\n",
    "\n",
    "union = FeatureUnion([\n",
    "    ('pipeline', pipe), # columns 0-1\n",
    "    ('not_scaled', SimpleImputer()) # new colums 2-3\n",
    "])\n",
    "\n",
    "union.fit(X_train[['so2', 'no2']])\n",
    "union\n",
    "\n"
   ]
  },
  {
   "cell_type": "code",
   "execution_count": null,
   "id": "0190ffed-bfe3-43cc-8fdd-1736ade88e3c",
   "metadata": {
    "editable": true,
    "slideshow": {
     "slide_type": "fragment"
    },
    "tags": []
   },
   "outputs": [],
   "source": [
    "pd.DataFrame(union.transform(X_test[['so2', 'no2']])).head()\n",
    "\n"
   ]
  },
  {
   "cell_type": "markdown",
   "id": "d28ed9f2-26e3-4a46-ab7e-09169c9bfd37",
   "metadata": {
    "editable": true,
    "slideshow": {
     "slide_type": "subslide"
    },
    "tags": []
   },
   "source": [
    "## Tackling more complex transformations using <code>Column Transformer</code>\n",
    "* Apply specific changes to specific columns in **parallel**\n",
    "* A <code>Pipeline</code> object can be passed in <code>ColumnTransformer</code> and vice-versa\n",
    "\n",
    "<code>from sklearn.compose import ColumnTransformer</code>\n"
   ]
  },
  {
   "cell_type": "markdown",
   "id": "2828ee5d-3864-45ae-96df-3a20acf2d4da",
   "metadata": {
    "slideshow": {
     "slide_type": "fragment"
    },
    "tags": []
   },
   "source": [
    "💻 Let's do this<br>\n",
    "\n",
    "* *input* then *scale* numerical variables\n",
    "* *encode* categorical variables\n",
    "\n"
   ]
  },
  {
   "cell_type": "code",
   "execution_count": null,
   "id": "c07ac383",
   "metadata": {
    "editable": true,
    "slideshow": {
     "slide_type": "fragment"
    },
    "tags": []
   },
   "outputs": [],
   "source": [
    "from sklearn.preprocessing import OneHotEncoder\n",
    "from sklearn.compose import ColumnTransformer\n",
    "\n",
    "# Impute then Scale for numerical variables: \n",
    "num_transformer = Pipeline([\n",
    "    ('num_imputer', SimpleImputer()),\n",
    "    ('num_scaler', StandardScaler())])\n",
    "\n",
    "# Encode categorical variables\n",
    "cat_transformer = Pipeline([\n",
    "    ('cat_imputer',SimpleImputer(strategy = 'most_frequent')),\n",
    "    ('cat_encoder',OneHotEncoder(handle_unknown='ignore', sparse_output=False))\n",
    "     ])"
   ]
  },
  {
   "cell_type": "code",
   "execution_count": null,
   "id": "76d545f4",
   "metadata": {
    "slideshow": {
     "slide_type": "subslide"
    },
    "tags": []
   },
   "outputs": [],
   "source": [
    "# Paralellize \"num_transformer\" and \"cat_transformer\"\n",
    "preprocessor = ColumnTransformer([\n",
    "    ('num_transformer', num_transformer, X_train.select_dtypes(include=np.number).columns),\n",
    "    ('cat_transformer', cat_transformer, X_train.select_dtypes(exclude=np.number).columns)\n",
    "])\n",
    "\n",
    "preprocessor"
   ]
  },
  {
   "cell_type": "code",
   "execution_count": null,
   "id": "e5157328",
   "metadata": {
    "editable": true,
    "slideshow": {
     "slide_type": "fragment"
    },
    "tags": []
   },
   "outputs": [],
   "source": [
    "# Tip to easily select columns in a dataframe based on type:\n",
    "X_train.select_dtypes(exclude=np.number).columns"
   ]
  },
  {
   "cell_type": "code",
   "execution_count": null,
   "id": "625f4a1f-bcd7-4b0a-94e3-c4618d9f11ea",
   "metadata": {
    "editable": true,
    "slideshow": {
     "slide_type": "subslide"
    },
    "tags": []
   },
   "outputs": [],
   "source": [
    "preprocessor.fit_transform(X_train)"
   ]
  },
  {
   "cell_type": "markdown",
   "id": "364c62ec-1821-4f59-b920-978d580228cf",
   "metadata": {
    "editable": true,
    "slideshow": {
     "slide_type": "subslide"
    },
    "tags": []
   },
   "source": [
    "## How about our feature names?\n",
    "\n",
    "By default, `sklearn` transformers and pipelines return a numpy array. In the past, retaining the name of the columns was a bit of a juggling exercise. Luckily, starting with `sklearn version 1.2`, we can set the option of `sklearn` to return a `pandas` dataframe (<a href=\"https://blog.scikit-learn.org/technical/pandas-dataframe-output-for-sklearn-transformer/\">See this post for explanation</a>):"
   ]
  },
  {
   "cell_type": "code",
   "execution_count": null,
   "id": "32e34c1e-17e8-49f4-b602-adf69745b8a2",
   "metadata": {
    "editable": true,
    "slideshow": {
     "slide_type": "fragment"
    },
    "tags": []
   },
   "outputs": [],
   "source": [
    "from sklearn import set_config\n",
    "set_config(transform_output = \"pandas\")"
   ]
  },
  {
   "cell_type": "markdown",
   "id": "068ba8db-c75a-45c0-a3f8-53f543d0af4b",
   "metadata": {
    "editable": true,
    "slideshow": {
     "slide_type": "fragment"
    },
    "tags": []
   },
   "source": [
    "From now on, all of your object will return a pandas dataframe:"
   ]
  },
  {
   "cell_type": "code",
   "execution_count": null,
   "id": "db751700-66e5-4e50-903d-897a1acb6926",
   "metadata": {
    "editable": true,
    "slideshow": {
     "slide_type": ""
    },
    "tags": []
   },
   "outputs": [],
   "source": [
    "preprocessor.fit_transform(X_train)"
   ]
  },
  {
   "cell_type": "markdown",
   "id": "d753f34d-a3cd-4d0f-a210-2d576c749f50",
   "metadata": {
    "editable": true,
    "slideshow": {
     "slide_type": "fragment"
    },
    "tags": []
   },
   "source": [
    "## Makes our life much easier!\n",
    "But there are limitations. This won't work if you need a sparse output. For this, simply use `transform_output = \"default\"`."
   ]
  },
  {
   "cell_type": "markdown",
   "id": "776cf64b",
   "metadata": {
    "editable": true,
    "slideshow": {
     "slide_type": "subslide"
    },
    "tags": []
   },
   "source": [
    "### Why did we get >5000 features?\n"
   ]
  },
  {
   "cell_type": "markdown",
   "id": "f7f6e5f9",
   "metadata": {
    "slideshow": {
     "slide_type": "fragment"
    }
   },
   "source": [
    "* We selected **ALL** non-numeric values for the OneHotEncoder"
   ]
  },
  {
   "cell_type": "markdown",
   "id": "811d74d4",
   "metadata": {
    "slideshow": {
     "slide_type": "fragment"
    }
   },
   "source": [
    "* This includes the date, station, location columns!"
   ]
  },
  {
   "cell_type": "markdown",
   "id": "3f35d50b",
   "metadata": {
    "slideshow": {
     "slide_type": "fragment"
    }
   },
   "source": [
    "* Each individual date, station and location become a feature column: this leads to an explosion of features. Let's fix this by selecting only the columns we want."
   ]
  },
  {
   "cell_type": "code",
   "execution_count": null,
   "id": "89f40237",
   "metadata": {
    "slideshow": {
     "slide_type": "subslide"
    },
    "tags": []
   },
   "outputs": [],
   "source": [
    "# Paralellize \"num_transformer\" and \"cat_transformer\"\n",
    "preprocessor = ColumnTransformer([\n",
    "    ('num_transformer', num_transformer, X_train.select_dtypes(include=np.number).columns),\n",
    "    ('cat_transformer', cat_transformer, ['state', 'type'])\n",
    "])\n",
    "\n",
    "preprocessor"
   ]
  },
  {
   "cell_type": "code",
   "execution_count": null,
   "id": "6e6b2b04-c060-404c-8024-155d6202f6ba",
   "metadata": {
    "editable": true,
    "slideshow": {
     "slide_type": "subslide"
    },
    "tags": []
   },
   "outputs": [],
   "source": [
    "preprocessor.fit_transform(X_train)\n"
   ]
  },
  {
   "cell_type": "code",
   "execution_count": null,
   "id": "98150167",
   "metadata": {
    "editable": true,
    "scrolled": true,
    "slideshow": {
     "slide_type": "subslide"
    },
    "tags": []
   },
   "outputs": [],
   "source": [
    "preprocessor.transform(X_test)"
   ]
  },
  {
   "cell_type": "markdown",
   "id": "df54c78d",
   "metadata": {
    "editable": true,
    "slideshow": {
     "slide_type": "subslide"
    },
    "tags": []
   },
   "source": [
    "### Accessing individual transformers\n",
    "\n",
    "We can easily access individual transformers in the pipeline, and see their properties:"
   ]
  },
  {
   "cell_type": "code",
   "execution_count": null,
   "id": "daee18cd",
   "metadata": {
    "editable": true,
    "slideshow": {
     "slide_type": "fragment"
    },
    "tags": []
   },
   "outputs": [],
   "source": [
    "preprocessor.transformers_"
   ]
  },
  {
   "cell_type": "code",
   "execution_count": null,
   "id": "abc6baa8",
   "metadata": {
    "slideshow": {
     "slide_type": "fragment"
    }
   },
   "outputs": [],
   "source": [
    "preprocessor.transformers_[0][2]"
   ]
  },
  {
   "cell_type": "code",
   "execution_count": null,
   "id": "1294aa45",
   "metadata": {
    "editable": true,
    "slideshow": {
     "slide_type": "subslide"
    },
    "tags": []
   },
   "outputs": [],
   "source": [
    "preprocessor.transformers_[1][1][1].get_feature_names_out()"
   ]
  },
  {
   "cell_type": "markdown",
   "id": "d9c8767a-65ce-467b-899e-20473b68a952",
   "metadata": {
    "editable": true,
    "slideshow": {
     "slide_type": "subslide"
    },
    "tags": []
   },
   "source": [
    "\n",
    "<h3 id=\"Custom-transformer-(basic)\">Custom transformer (basic)<a class=\"anchor-link\" href=\"https://kitt.lewagon.com/karr/data-lectures.kitt/05-ML_08-Workflow.html?title=Workflow&amp;program_id=10#Custom-transformer-(basic)\">¶</a></h3><div class=\"highlight\"><pre><span></span><span class=\"kn\">from</span> <span class=\"nn\">sklearn.preprocessing</span> <span class=\"kn\">import</span> <span class=\"n\">FunctionTransformer</span>\n",
    "</pre></div>\n",
    "<ul>\n",
    "<li><p>You will often need to perform custom transformations on your columns</p>\n",
    "</li>\n",
    "<li><p><code>FunctionTransformer</code> encapsulates a function into a transformer object</p>\n",
    "</li>\n",
    "<li><p>Can work with Pipelines (in series) or with ColumnTransformer (in paralell)</p>\n",
    "</li>\n",
    "</ul>\n"
   ]
  },
  {
   "cell_type": "code",
   "execution_count": null,
   "id": "c45b2ef7-3711-44fa-8e97-df7146ddc6ce",
   "metadata": {
    "editable": true,
    "slideshow": {
     "slide_type": "subslide"
    },
    "tags": []
   },
   "outputs": [],
   "source": [
    "\n",
    "from sklearn.preprocessing import FunctionTransformer\n",
    "\n",
    "# Create a transformer that compresses data to 2 digits (for instance!)\n",
    "rounder = FunctionTransformer(np.round)\n",
    "rounder = FunctionTransformer(lambda array: np.round(array, decimals=2))\n",
    "\n",
    "# Add it at the end of our numerical transformer\n",
    "num_transformer = Pipeline([\n",
    "    ('imputer', SimpleImputer()),\n",
    "    ('scaler', StandardScaler()),\n",
    "    ('rounder', rounder)])\n",
    "\n",
    "preprocessor = ColumnTransformer([\n",
    "    ('num_transformer', num_transformer, X_train.select_dtypes(include=np.number).columns),\n",
    "    ('cat_transformer', cat_transformer, ['state', 'type'])\n",
    "])\n",
    "\n",
    "\n",
    "\n",
    "preprocessor.fit_transform(X_train)\n",
    "\n"
   ]
  },
  {
   "cell_type": "code",
   "execution_count": null,
   "id": "a9cb5e1c-2dae-4f62-88bd-57c469f07f6d",
   "metadata": {
    "slideshow": {
     "slide_type": "subslide"
    }
   },
   "outputs": [],
   "source": [
    "\n",
    "preprocessor\n",
    "\n"
   ]
  },
  {
   "cell_type": "markdown",
   "id": "64ff4df0-3790-4ca2-8283-59a167a3b752",
   "metadata": {
    "slideshow": {
     "slide_type": "subslide"
    }
   },
   "source": [
    "\n",
    "<p>⚠️ <code>FunctionTransformer</code> only works for <strong>stateless</strong> transformations</p>\n",
    "<ul>\n",
    "<li>It cannot \"store\" information on a <code>fit</code> (for instance on a train set)</li>\n",
    "<li>In order to apply it back later on a <code>transform</code> (for instance on the test set)</li>\n",
    "</ul>\n",
    "<p>✅ stateless transformations</p>\n",
    "<p><span class=\"MathJax_Preview\" style=\"color: inherit;\"></span><span class=\"mjx-chtml MathJax_CHTML\" data-mathml='&lt;math xmlns=\"http://www.w3.org/1998/Math/MathML\"&gt;&lt;mi&gt;X&lt;/mi&gt;&lt;/math&gt;' id=\"MathJax-Element-3-Frame\" role=\"presentation\" style=\"font-size: 116%; position: relative;\" tabindex=\"0\"><span aria-hidden=\"true\" class=\"mjx-math\" id=\"MJXc-Node-7\"><span class=\"mjx-mrow\" id=\"MJXc-Node-8\"><span class=\"mjx-mi\" id=\"MJXc-Node-9\"><span class=\"mjx-char MJXc-TeX-math-I\" style=\"padding-top: 0.434em; padding-bottom: 0.249em; padding-right: 0.024em;\">X</span></span></span></span><span class=\"MJX_Assistive_MathML\" role=\"presentation\"><math xmlns=\"http://www.w3.org/1998/Math/MathML\"><mi>X</mi></math></span></span><script id=\"MathJax-Element-3\" type=\"math/tex\">X</script> --&gt; <span class=\"MathJax_Preview\" style=\"color: inherit;\"></span><span class=\"mjx-chtml MathJax_CHTML\" data-mathml='&lt;math xmlns=\"http://www.w3.org/1998/Math/MathML\"&gt;&lt;mi&gt;l&lt;/mi&gt;&lt;mi&gt;o&lt;/mi&gt;&lt;mi&gt;g&lt;/mi&gt;&lt;mo stretchy=\"false\"&gt;(&lt;/mo&gt;&lt;mi&gt;X&lt;/mi&gt;&lt;mo stretchy=\"false\"&gt;)&lt;/mo&gt;&lt;/math&gt;' id=\"MathJax-Element-4-Frame\" role=\"presentation\" style=\"font-size: 116%; position: relative;\" tabindex=\"0\"><span aria-hidden=\"true\" class=\"mjx-math\" id=\"MJXc-Node-10\"><span class=\"mjx-mrow\" id=\"MJXc-Node-11\"><span class=\"mjx-mi\" id=\"MJXc-Node-12\"><span class=\"mjx-char MJXc-TeX-math-I\" style=\"padding-top: 0.496em; padding-bottom: 0.311em;\">l</span></span><span class=\"mjx-mi\" id=\"MJXc-Node-13\"><span class=\"mjx-char MJXc-TeX-math-I\" style=\"padding-top: 0.249em; padding-bottom: 0.311em;\">o</span></span><span class=\"mjx-mi\" id=\"MJXc-Node-14\"><span class=\"mjx-char MJXc-TeX-math-I\" style=\"padding-top: 0.249em; padding-bottom: 0.496em; padding-right: 0.003em;\">g</span></span><span class=\"mjx-mo\" id=\"MJXc-Node-15\"><span class=\"mjx-char MJXc-TeX-main-R\" style=\"padding-top: 0.434em; padding-bottom: 0.619em;\">(</span></span><span class=\"mjx-mi\" id=\"MJXc-Node-16\"><span class=\"mjx-char MJXc-TeX-math-I\" style=\"padding-top: 0.434em; padding-bottom: 0.249em; padding-right: 0.024em;\">X</span></span><span class=\"mjx-mo\" id=\"MJXc-Node-17\"><span class=\"mjx-char MJXc-TeX-main-R\" style=\"padding-top: 0.434em; padding-bottom: 0.619em;\">)</span></span></span></span><span class=\"MJX_Assistive_MathML\" role=\"presentation\"><math xmlns=\"http://www.w3.org/1998/Math/MathML\"><mi>l</mi><mi>o</mi><mi>g</mi><mo stretchy=\"false\">(</mo><mi>X</mi><mo stretchy=\"false\">)</mo></math></span></span><script id=\"MathJax-Element-4\" type=\"math/tex\">log(X)</script><br/>\n",
    "<span class=\"MathJax_Preview\" style=\"color: inherit;\"></span><span class=\"mjx-chtml MathJax_CHTML\" data-mathml='&lt;math xmlns=\"http://www.w3.org/1998/Math/MathML\"&gt;&lt;mo stretchy=\"false\"&gt;(&lt;/mo&gt;&lt;msub&gt;&lt;mi&gt;X&lt;/mi&gt;&lt;mn&gt;1&lt;/mn&gt;&lt;/msub&gt;&lt;mo&gt;,&lt;/mo&gt;&lt;msub&gt;&lt;mi&gt;X&lt;/mi&gt;&lt;mn&gt;2&lt;/mn&gt;&lt;/msub&gt;&lt;mo stretchy=\"false\"&gt;)&lt;/mo&gt;&lt;/math&gt;' id=\"MathJax-Element-5-Frame\" role=\"presentation\" style=\"font-size: 116%; position: relative;\" tabindex=\"0\"><span aria-hidden=\"true\" class=\"mjx-math\" id=\"MJXc-Node-18\"><span class=\"mjx-mrow\" id=\"MJXc-Node-19\"><span class=\"mjx-mo\" id=\"MJXc-Node-20\"><span class=\"mjx-char MJXc-TeX-main-R\" style=\"padding-top: 0.434em; padding-bottom: 0.619em;\">(</span></span><span class=\"mjx-msubsup\" id=\"MJXc-Node-21\"><span class=\"mjx-base\" style=\"margin-right: -0.024em;\"><span class=\"mjx-mi\" id=\"MJXc-Node-22\"><span class=\"mjx-char MJXc-TeX-math-I\" style=\"padding-top: 0.434em; padding-bottom: 0.249em; padding-right: 0.024em;\">X</span></span></span><span class=\"mjx-sub\" style=\"font-size: 70.7%; vertical-align: -0.212em; padding-right: 0.071em;\"><span class=\"mjx-mn\" id=\"MJXc-Node-23\" style=\"\"><span class=\"mjx-char MJXc-TeX-main-R\" style=\"padding-top: 0.373em; padding-bottom: 0.373em;\">1</span></span></span></span><span class=\"mjx-mo\" id=\"MJXc-Node-24\"><span class=\"mjx-char MJXc-TeX-main-R\" style=\"margin-top: -0.182em; padding-bottom: 0.557em;\">,</span></span><span class=\"mjx-msubsup MJXc-space1\" id=\"MJXc-Node-25\"><span class=\"mjx-base\" style=\"margin-right: -0.024em;\"><span class=\"mjx-mi\" id=\"MJXc-Node-26\"><span class=\"mjx-char MJXc-TeX-math-I\" style=\"padding-top: 0.434em; padding-bottom: 0.249em; padding-right: 0.024em;\">X</span></span></span><span class=\"mjx-sub\" style=\"font-size: 70.7%; vertical-align: -0.212em; padding-right: 0.071em;\"><span class=\"mjx-mn\" id=\"MJXc-Node-27\" style=\"\"><span class=\"mjx-char MJXc-TeX-main-R\" style=\"padding-top: 0.373em; padding-bottom: 0.373em;\">2</span></span></span></span><span class=\"mjx-mo\" id=\"MJXc-Node-28\"><span class=\"mjx-char MJXc-TeX-main-R\" style=\"padding-top: 0.434em; padding-bottom: 0.619em;\">)</span></span></span></span><span class=\"MJX_Assistive_MathML\" role=\"presentation\"><math xmlns=\"http://www.w3.org/1998/Math/MathML\"><mo stretchy=\"false\">(</mo><msub><mi>X</mi><mn>1</mn></msub><mo>,</mo><msub><mi>X</mi><mn>2</mn></msub><mo stretchy=\"false\">)</mo></math></span></span><script id=\"MathJax-Element-5\" type=\"math/tex\">(X_1, X_2)</script> --&gt; <span class=\"MathJax_Preview\" style=\"color: inherit;\"></span><span class=\"mjx-chtml MathJax_CHTML\" data-mathml='&lt;math xmlns=\"http://www.w3.org/1998/Math/MathML\"&gt;&lt;msub&gt;&lt;mi&gt;X&lt;/mi&gt;&lt;mn&gt;1&lt;/mn&gt;&lt;/msub&gt;&lt;mo&gt;+&lt;/mo&gt;&lt;mn&gt;5&lt;/mn&gt;&lt;msub&gt;&lt;mi&gt;X&lt;/mi&gt;&lt;mn&gt;2&lt;/mn&gt;&lt;/msub&gt;&lt;/math&gt;' id=\"MathJax-Element-6-Frame\" role=\"presentation\" style=\"font-size: 116%; position: relative;\" tabindex=\"0\"><span aria-hidden=\"true\" class=\"mjx-math\" id=\"MJXc-Node-29\"><span class=\"mjx-mrow\" id=\"MJXc-Node-30\"><span class=\"mjx-msubsup\" id=\"MJXc-Node-31\"><span class=\"mjx-base\" style=\"margin-right: -0.024em;\"><span class=\"mjx-mi\" id=\"MJXc-Node-32\"><span class=\"mjx-char MJXc-TeX-math-I\" style=\"padding-top: 0.434em; padding-bottom: 0.249em; padding-right: 0.024em;\">X</span></span></span><span class=\"mjx-sub\" style=\"font-size: 70.7%; vertical-align: -0.212em; padding-right: 0.071em;\"><span class=\"mjx-mn\" id=\"MJXc-Node-33\" style=\"\"><span class=\"mjx-char MJXc-TeX-main-R\" style=\"padding-top: 0.373em; padding-bottom: 0.373em;\">1</span></span></span></span><span class=\"mjx-mo MJXc-space2\" id=\"MJXc-Node-34\"><span class=\"mjx-char MJXc-TeX-main-R\" style=\"padding-top: 0.311em; padding-bottom: 0.434em;\">+</span></span><span class=\"mjx-mn MJXc-space2\" id=\"MJXc-Node-35\"><span class=\"mjx-char MJXc-TeX-main-R\" style=\"padding-top: 0.373em; padding-bottom: 0.373em;\">5</span></span><span class=\"mjx-msubsup\" id=\"MJXc-Node-36\"><span class=\"mjx-base\" style=\"margin-right: -0.024em;\"><span class=\"mjx-mi\" id=\"MJXc-Node-37\"><span class=\"mjx-char MJXc-TeX-math-I\" style=\"padding-top: 0.434em; padding-bottom: 0.249em; padding-right: 0.024em;\">X</span></span></span><span class=\"mjx-sub\" style=\"font-size: 70.7%; vertical-align: -0.212em; padding-right: 0.071em;\"><span class=\"mjx-mn\" id=\"MJXc-Node-38\" style=\"\"><span class=\"mjx-char MJXc-TeX-main-R\" style=\"padding-top: 0.373em; padding-bottom: 0.373em;\">2</span></span></span></span></span></span><span class=\"MJX_Assistive_MathML\" role=\"presentation\"><math xmlns=\"http://www.w3.org/1998/Math/MathML\"><msub><mi>X</mi><mn>1</mn></msub><mo>+</mo><mn>5</mn><msub><mi>X</mi><mn>2</mn></msub></math></span></span><script id=\"MathJax-Element-6\" type=\"math/tex\">X_1 + 5X_2</script></p>\n",
    "<p>❌ Memory-dependent transformation</p>\n",
    "<p><span class=\"MathJax_Preview\" style=\"color: inherit;\"></span><span class=\"mjx-chtml MathJax_CHTML\" data-mathml='&lt;math xmlns=\"http://www.w3.org/1998/Math/MathML\"&gt;&lt;mi&gt;X&lt;/mi&gt;&lt;/math&gt;' id=\"MathJax-Element-7-Frame\" role=\"presentation\" style=\"font-size: 116%; position: relative;\" tabindex=\"0\"><span aria-hidden=\"true\" class=\"mjx-math\" id=\"MJXc-Node-39\"><span class=\"mjx-mrow\" id=\"MJXc-Node-40\"><span class=\"mjx-mi\" id=\"MJXc-Node-41\"><span class=\"mjx-char MJXc-TeX-math-I\" style=\"padding-top: 0.434em; padding-bottom: 0.249em; padding-right: 0.024em;\">X</span></span></span></span><span class=\"MJX_Assistive_MathML\" role=\"presentation\"><math xmlns=\"http://www.w3.org/1998/Math/MathML\"><mi>X</mi></math></span></span><script id=\"MathJax-Element-7\" type=\"math/tex\">X</script> --&gt; <span class=\"MathJax_Preview\" style=\"color: inherit;\"></span><span class=\"mjx-chtml MathJax_CHTML\" data-mathml='&lt;math xmlns=\"http://www.w3.org/1998/Math/MathML\"&gt;&lt;mi&gt;S&lt;/mi&gt;&lt;mi&gt;t&lt;/mi&gt;&lt;mi&gt;a&lt;/mi&gt;&lt;mi&gt;n&lt;/mi&gt;&lt;mi&gt;d&lt;/mi&gt;&lt;mi&gt;a&lt;/mi&gt;&lt;mi&gt;r&lt;/mi&gt;&lt;mi&gt;d&lt;/mi&gt;&lt;mi&gt;S&lt;/mi&gt;&lt;mi&gt;c&lt;/mi&gt;&lt;mi&gt;a&lt;/mi&gt;&lt;mi&gt;l&lt;/mi&gt;&lt;mi&gt;e&lt;/mi&gt;&lt;mi&gt;r&lt;/mi&gt;&lt;mo stretchy=\"false\"&gt;(&lt;/mo&gt;&lt;mi&gt;X&lt;/mi&gt;&lt;mo stretchy=\"false\"&gt;)&lt;/mo&gt;&lt;/math&gt;' id=\"MathJax-Element-8-Frame\" role=\"presentation\" style=\"font-size: 116%; position: relative;\" tabindex=\"0\"><span aria-hidden=\"true\" class=\"mjx-math\" id=\"MJXc-Node-42\"><span class=\"mjx-mrow\" id=\"MJXc-Node-43\"><span class=\"mjx-mi\" id=\"MJXc-Node-44\"><span class=\"mjx-char MJXc-TeX-math-I\" style=\"padding-top: 0.496em; padding-bottom: 0.311em; padding-right: 0.032em;\">S</span></span><span class=\"mjx-mi\" id=\"MJXc-Node-45\"><span class=\"mjx-char MJXc-TeX-math-I\" style=\"padding-top: 0.434em; padding-bottom: 0.311em;\">t</span></span><span class=\"mjx-mi\" id=\"MJXc-Node-46\"><span class=\"mjx-char MJXc-TeX-math-I\" style=\"padding-top: 0.249em; padding-bottom: 0.311em;\">a</span></span><span class=\"mjx-mi\" id=\"MJXc-Node-47\"><span class=\"mjx-char MJXc-TeX-math-I\" style=\"padding-top: 0.249em; padding-bottom: 0.311em;\">n</span></span><span class=\"mjx-mi\" id=\"MJXc-Node-48\"><span class=\"mjx-char MJXc-TeX-math-I\" style=\"padding-top: 0.496em; padding-bottom: 0.311em; padding-right: 0.003em;\">d</span></span><span class=\"mjx-mi\" id=\"MJXc-Node-49\"><span class=\"mjx-char MJXc-TeX-math-I\" style=\"padding-top: 0.249em; padding-bottom: 0.311em;\">a</span></span><span class=\"mjx-mi\" id=\"MJXc-Node-50\"><span class=\"mjx-char MJXc-TeX-math-I\" style=\"padding-top: 0.249em; padding-bottom: 0.311em;\">r</span></span><span class=\"mjx-mi\" id=\"MJXc-Node-51\"><span class=\"mjx-char MJXc-TeX-math-I\" style=\"padding-top: 0.496em; padding-bottom: 0.311em; padding-right: 0.003em;\">d</span></span><span class=\"mjx-mi\" id=\"MJXc-Node-52\"><span class=\"mjx-char MJXc-TeX-math-I\" style=\"padding-top: 0.496em; padding-bottom: 0.311em; padding-right: 0.032em;\">S</span></span><span class=\"mjx-mi\" id=\"MJXc-Node-53\"><span class=\"mjx-char MJXc-TeX-math-I\" style=\"padding-top: 0.249em; padding-bottom: 0.311em;\">c</span></span><span class=\"mjx-mi\" id=\"MJXc-Node-54\"><span class=\"mjx-char MJXc-TeX-math-I\" style=\"padding-top: 0.249em; padding-bottom: 0.311em;\">a</span></span><span class=\"mjx-mi\" id=\"MJXc-Node-55\"><span class=\"mjx-char MJXc-TeX-math-I\" style=\"padding-top: 0.496em; padding-bottom: 0.311em;\">l</span></span><span class=\"mjx-mi\" id=\"MJXc-Node-56\"><span class=\"mjx-char MJXc-TeX-math-I\" style=\"padding-top: 0.249em; padding-bottom: 0.311em;\">e</span></span><span class=\"mjx-mi\" id=\"MJXc-Node-57\"><span class=\"mjx-char MJXc-TeX-math-I\" style=\"padding-top: 0.249em; padding-bottom: 0.311em;\">r</span></span><span class=\"mjx-mo\" id=\"MJXc-Node-58\"><span class=\"mjx-char MJXc-TeX-main-R\" style=\"padding-top: 0.434em; padding-bottom: 0.619em;\">(</span></span><span class=\"mjx-mi\" id=\"MJXc-Node-59\"><span class=\"mjx-char MJXc-TeX-math-I\" style=\"padding-top: 0.434em; padding-bottom: 0.249em; padding-right: 0.024em;\">X</span></span><span class=\"mjx-mo\" id=\"MJXc-Node-60\"><span class=\"mjx-char MJXc-TeX-main-R\" style=\"padding-top: 0.434em; padding-bottom: 0.619em;\">)</span></span></span></span><span class=\"MJX_Assistive_MathML\" role=\"presentation\"><math xmlns=\"http://www.w3.org/1998/Math/MathML\"><mi>S</mi><mi>t</mi><mi>a</mi><mi>n</mi><mi>d</mi><mi>a</mi><mi>r</mi><mi>d</mi><mi>S</mi><mi>c</mi><mi>a</mi><mi>l</mi><mi>e</mi><mi>r</mi><mo stretchy=\"false\">(</mo><mi>X</mi><mo stretchy=\"false\">)</mo></math></span></span><script id=\"MathJax-Element-8\" type=\"math/tex\">StandardScaler(X)</script></p>\n",
    "<p>☝️ For this, we will have to code our own <code>Class</code></p>\n"
   ]
  },
  {
   "cell_type": "markdown",
   "id": "f8188490-d310-4da3-a6e3-7aa6fb1680d2",
   "metadata": {
    "slideshow": {
     "slide_type": "subslide"
    }
   },
   "source": [
    "\n",
    "<h3 id=\"Custom-transformer-(advanced)\">Custom transformer (advanced)<a class=\"anchor-link\" href=\"https://kitt.lewagon.com/karr/data-lectures.kitt/05-ML_08-Workflow.html?title=Workflow&amp;program_id=10#Custom-transformer-(advanced)\">¶</a></h3><ul>\n",
    "<li>To memorize variables (e.g. column mean etc...) during the <code>.fit()</code></li>\n",
    "<li>To reuse later these variables with <code>.transform()</code> on a different dataset</li>\n",
    "<li>Must create a Class with both methods and storing memory as <em>instance variables</em></li>\n",
    "</ul>\n"
   ]
  },
  {
   "cell_type": "markdown",
   "id": "79ebd2f8-987a-4ab6-a9b8-1148b7427040",
   "metadata": {
    "slideshow": {
     "slide_type": "subslide"
    }
   },
   "source": [
    "\n",
    "<p>✏️ Let's code a <code>CustomScaler(shrink_factor=3)</code> that center data around its mean, and shrink it by a <em>fixed</em> factor</p>\n",
    "<ul>\n",
    "<li>we will only <code>fit</code> it on the <code>X_train</code></li>\n",
    "<li>we will use it to <code>transform</code> the <code>X_test</code></li>\n",
    "</ul>\n"
   ]
  },
  {
   "cell_type": "code",
   "execution_count": null,
   "id": "04ba794e-1721-4728-9e31-18dbcb70e5c7",
   "metadata": {
    "editable": true,
    "slideshow": {
     "slide_type": "subslide"
    },
    "tags": []
   },
   "outputs": [],
   "source": [
    "\n",
    "from sklearn.base import TransformerMixin, BaseEstimator\n",
    "\n",
    "class CustomScaler(TransformerMixin, BaseEstimator): \n",
    "# TransformerMixin generates a fit_transform method from fit and transform\n",
    "# BaseEstimator generates get_params and set_params methods\n",
    "    \n",
    "    def __init__(self, shrink_factor=3):\n",
    "        self.shrink_factor = shrink_factor\n",
    "    \n",
    "    def fit(self, X, y=None):\n",
    "        self.means = X.mean()\n",
    "        return self\n",
    "    \n",
    "    def transform(self, X, y=None):\n",
    "        X_transformed = (X - self.means) / self.shrink_factor\n",
    "        # Return result as dataframe for integration into ColumnTransformer\n",
    "        return X_transformed\n",
    "\n"
   ]
  },
  {
   "cell_type": "code",
   "execution_count": null,
   "id": "15abcf05-b634-4c95-9942-42217a3a3ac1",
   "metadata": {
    "slideshow": {
     "slide_type": "subslide"
    }
   },
   "outputs": [],
   "source": [
    "\n",
    "# The CustomScaler can then be used like any other transformer!\n",
    "custom_scaler = CustomScaler(shrink_factor=3)\n",
    "custom_scaler.fit(X_train[['no2','rainfall','so2']])\n",
    "custom_scaler.transform(X_test[['no2','rainfall','so2']]).head()\n",
    "\n"
   ]
  },
  {
   "cell_type": "code",
   "execution_count": null,
   "id": "4f7241a8",
   "metadata": {},
   "outputs": [],
   "source": [
    "preprocessor.transformers_"
   ]
  },
  {
   "cell_type": "code",
   "execution_count": null,
   "id": "4bfa2da1",
   "metadata": {},
   "outputs": [],
   "source": [
    "preprocessor.transformers_[2] = ('custom_scaler', CustomScaler(shrink_factor=3), X_train.select_dtypes(include=np.number))"
   ]
  },
  {
   "cell_type": "code",
   "execution_count": null,
   "id": "ba240771",
   "metadata": {},
   "outputs": [],
   "source": [
    "preprocessor.fit_transform(X_train)"
   ]
  },
  {
   "cell_type": "code",
   "execution_count": null,
   "id": "0e6ca8f6-18f0-4624-b391-4ec97c5e8c99",
   "metadata": {
    "slideshow": {
     "slide_type": "fragment"
    }
   },
   "outputs": [],
   "source": [
    "\n",
    "preprocessor\n",
    "\n"
   ]
  },
  {
   "cell_type": "markdown",
   "id": "73989af8-1c83-47b9-acbc-089dca60b6a0",
   "metadata": {
    "editable": true,
    "slideshow": {
     "slide_type": "slide"
    },
    "tags": []
   },
   "source": [
    "# Including models in pipelines\n",
    "<br>\n",
    "\n",
    "<center><img src=\"https://drive.google.com/uc?id=145ST_iBDPTifgO5F7slXyJsOrmgCRpmr\" style=\"width:900px;\"><br>\n",
    " © Cédric John, 2022; Image generated with <a href=\"https://openai.com/blog/dall-e/\">DALL-E</a><br>\n",
    "<br>Prompt: Dramatic view of a rusted yellow oil pump from the 1960's surrounded by the streets of Havana, Cuba.</center>"
   ]
  },
  {
   "cell_type": "markdown",
   "id": "66af2d28-7997-4b53-af1a-eec4ef641a44",
   "metadata": {
    "editable": true,
    "slideshow": {
     "slide_type": "subslide"
    },
    "tags": []
   },
   "source": [
    "\n",
    "* Model objects can be plugged into pipelines\n",
    "* Pipelines inherit the methods of the **last** object in the sequence\n",
    "* Transformers: <code>fit</code> and <code>transform</code>\n",
    "* Models: <code>fit</code>, <code>score</code>, <code>predict</code>, etc...\n"
   ]
  },
  {
   "cell_type": "markdown",
   "id": "02a0b719-4094-48dd-8640-707710f721bf",
   "metadata": {
    "slideshow": {
     "slide_type": "-"
    },
    "tags": []
   },
   "source": [
    "<img src=\"https://drive.google.com/uc?id=13pBbXtuoOyHn8NlZhbsdBVk-kVnib-ep\" style=\"width:1200px;\">\n",
    "<a href=\"https://www.packtpub.com/product/python-machine-learning-third-edition/9781789955750\">Rashka, S., 2015, Packt Publishing</a>"
   ]
  },
  {
   "cell_type": "code",
   "execution_count": null,
   "id": "095a890f-9991-4b6d-9461-8399d6115264",
   "metadata": {
    "slideshow": {
     "slide_type": "subslide"
    },
    "tags": []
   },
   "outputs": [],
   "source": [
    "from sklearn.linear_model import LogisticRegression\n",
    "\n",
    "# Combine preprocessor and linear model in pipeline\n",
    "final_pipe = Pipeline([\n",
    "    ('preprocessing', preprocessor),\n",
    "    ('classifier', LogisticRegression(max_iter=2500))])\n",
    "final_pipe\n",
    "\n"
   ]
  },
  {
   "cell_type": "code",
   "execution_count": null,
   "id": "21c3253c",
   "metadata": {
    "slideshow": {
     "slide_type": "subslide"
    },
    "tags": []
   },
   "outputs": [],
   "source": [
    "# Train pipeline\n",
    "final_pipe_trained = final_pipe.fit(X_train,y_train)"
   ]
  },
  {
   "cell_type": "code",
   "execution_count": null,
   "id": "205912f2",
   "metadata": {
    "slideshow": {
     "slide_type": "subslide"
    },
    "tags": []
   },
   "outputs": [],
   "source": [
    "# Make predictions\n",
    "final_pipe_trained.predict(X_test)"
   ]
  },
  {
   "cell_type": "code",
   "execution_count": null,
   "id": "ca9a74ae-9331-42b7-bd71-f011dd0d7f69",
   "metadata": {
    "slideshow": {
     "slide_type": "subslide"
    },
    "tags": []
   },
   "outputs": [],
   "source": [
    "# Score model\n",
    "final_pipe_trained.score(X_test,y_test)"
   ]
  },
  {
   "cell_type": "markdown",
   "id": "be5d36ef-dc3d-4bd2-9d26-9c0508ceea27",
   "metadata": {
    "slideshow": {
     "slide_type": "subslide"
    },
    "tags": []
   },
   "source": [
    "### Cross validate a pipeline"
   ]
  },
  {
   "cell_type": "code",
   "execution_count": null,
   "id": "8b5ff8f8-8854-4713-af4b-b766633b7ce8",
   "metadata": {
    "slideshow": {
     "slide_type": "fragment"
    },
    "tags": []
   },
   "outputs": [],
   "source": [
    "\n",
    "from sklearn.model_selection import cross_val_score\n",
    "\n",
    "# Cross validate pipeline\n",
    "cross_val_score(final_pipe, X_train, y_train, cv=5, scoring='accuracy').mean()"
   ]
  },
  {
   "cell_type": "markdown",
   "id": "d00b1299-a90d-4d8b-9042-411653c5a0e7",
   "metadata": {
    "slideshow": {
     "slide_type": "subslide"
    },
    "tags": []
   },
   "source": [
    "\n",
    "### Grid search a pipeline\n",
    "* Check which combination of preprocessing/modelling **hyperparameters** work best\n",
    "* It is possible to grid search hyperparameters of **any component of the pipeline**\n",
    "* Sklearn Syntax: <code>step_name__transformer_name__hyperparam_name</code>\n",
    "* Check available hyperparameters <code>pipe.get_params()</code>\n",
    "\n"
   ]
  },
  {
   "cell_type": "code",
   "execution_count": null,
   "id": "86a1d06d-b674-4ff4-b741-a4ae6dedc400",
   "metadata": {
    "scrolled": true,
    "slideshow": {
     "slide_type": "fragment"
    },
    "tags": []
   },
   "outputs": [],
   "source": [
    "\n",
    "#### Get all pipe components parameters (to find hyper params names)\n",
    "final_pipe_trained.get_params()\n",
    "\n"
   ]
  },
  {
   "cell_type": "code",
   "execution_count": null,
   "id": "dd46218a-5a6e-442b-a87a-27620bfd3e21",
   "metadata": {
    "slideshow": {
     "slide_type": "subslide"
    },
    "tags": []
   },
   "outputs": [],
   "source": [
    "from sklearn.model_selection import GridSearchCV\n",
    "\n",
    "# Instanciate grid search\n",
    "grid_search = GridSearchCV(\n",
    "    final_pipe, \n",
    "    param_grid={\n",
    "        # Access any component of the pipeline, as far back as you want\n",
    "        'preprocessing__num_transformer__imputer__strategy': ['mean', 'median'],\n",
    "        'classifier__C': [0.1, 0.5, 1, 5, 10]},\n",
    "    cv=5,\n",
    "    scoring=\"accuracy\")\n",
    "\n",
    "grid_search.fit(X_train, y_train)\n",
    "grid_search.best_params_\n"
   ]
  },
  {
   "cell_type": "code",
   "execution_count": null,
   "id": "028c74bf",
   "metadata": {
    "slideshow": {
     "slide_type": "fragment"
    },
    "tags": []
   },
   "outputs": [],
   "source": [
    "# Getting the best estimator\n",
    "tuned_pipe = grid_search.best_estimator_"
   ]
  },
  {
   "cell_type": "code",
   "execution_count": null,
   "id": "45b0419f-e976-40ad-ba5d-c4f6158bae30",
   "metadata": {
    "slideshow": {
     "slide_type": "fragment"
    },
    "tags": []
   },
   "outputs": [],
   "source": [
    "tuned_pipe.score(X_test,y_test)"
   ]
  },
  {
   "cell_type": "code",
   "execution_count": null,
   "id": "b9876a6f",
   "metadata": {
    "slideshow": {
     "slide_type": "subslide"
    },
    "tags": []
   },
   "outputs": [],
   "source": [
    "from sklearn.model_selection import GridSearchCV\n",
    "from sklearn.neighbors import KNeighborsClassifier\n",
    "from sklearn.svm import SVC\n",
    "\n",
    "# Instanciate grid search\n",
    "grid_search = GridSearchCV(\n",
    "    final_pipe, \n",
    "    param_grid=[{\n",
    "        # Access any component of the pipeline, as far back as you want\n",
    "        'classifier':[SVC()],\n",
    "        'preprocessing__num_transformer__imputer__strategy': ['mean', 'median'],\n",
    "        'classifier__C':[0.1]},\n",
    "        {\n",
    "        # Access any component of the pipeline, as far back as you want\n",
    "        'classifier':[KNeighborsClassifier()],\n",
    "        'preprocessing__num_transformer__imputer__strategy': ['mean', 'median'],\n",
    "        'classifier__n_neighbors':[3,5]}\n",
    "    ],\n",
    "    cv=5,\n",
    "    scoring=\"accuracy\")\n",
    "\n",
    "# For this demonstration only: limit ourselves to 10% of data for computational efficiency\n",
    "X_train_small, _, y_train_small, _ = train_test_split(X_train, y_train, train_size=0.1)\n",
    "\n",
    "grid_search.fit(X_train_small, y_train_small)\n",
    "grid_search.best_params_\n"
   ]
  },
  {
   "cell_type": "markdown",
   "id": "b17d2fcb-e5f1-421f-9cd2-9303d2be7dd6",
   "metadata": {
    "slideshow": {
     "slide_type": "subslide"
    }
   },
   "source": [
    "\n",
    "<h3 id=\"Test-your-pipeline-as-you-build-it\">Test your pipeline as you build it<a class=\"anchor-link\" href=\"https://kitt.lewagon.com/karr/data-lectures.kitt/05-ML_08-Workflow.html?title=Workflow&amp;program_id=10#Test-your-pipeline-as-you-build-it\">¶</a></h3><p>As you are building your pipeline, it is important to ensure it works identically to what you have done in your notebook thus far.</p>\n",
    "<ul>\n",
    "<li>Check the data preprocessing: Compare the statistics of preprocessed data out of the pipeline to the ones of the same data preprocessed outside the pipeline</li>\n",
    "<li>Compare the performance of the model out of the pipeline to the one trained outside the pipeline</li>\n",
    "</ul>\n"
   ]
  },
  {
   "cell_type": "code",
   "execution_count": null,
   "id": "fbd9fd4a-5d70-40f4-9027-a490aa21098d",
   "metadata": {},
   "outputs": [],
   "source": [
    "\n",
    "# Access component of pipeline with `name_steps`\n",
    "final_pipe.named_steps[\"preprocessing\"].fit_transform(X_train).shape\n",
    "\n"
   ]
  },
  {
   "cell_type": "markdown",
   "id": "01fb2a16-ffc7-44be-b433-37b004c5f1b6",
   "metadata": {
    "slideshow": {
     "slide_type": "subslide"
    }
   },
   "source": [
    "## Exporting models and Pipelines\n",
    "\n",
    "<li>You can export your final model/pipeline as a pickle file</li>\n",
    "<li>The file can be loaded back into a notebook or deployed on a server</li>\n",
    "</ul>\n"
   ]
  },
  {
   "cell_type": "code",
   "execution_count": null,
   "id": "c95a91fc",
   "metadata": {},
   "outputs": [],
   "source": [
    "# LET'S START WITH A CLEAN PIPELINE\n",
    "num_transformer = Pipeline([\n",
    "    ('imputer', SimpleImputer()),\n",
    "    ('scaler', StandardScaler())])\n",
    "\n",
    "# Paralellize \"num_transformer\" and \"cat_transformer\"\n",
    "preprocessor = ColumnTransformer([\n",
    "    ('num_transformer', num_transformer, X_train.select_dtypes(include=np.number).columns),\n",
    "    ('cat_transformer', cat_transformer, ['state', 'type'])\n",
    "])\n",
    "\n",
    "# Combine preprocessor and linear model in pipeline\n",
    "final_pipe = Pipeline([\n",
    "    ('preprocessing', preprocessor),\n",
    "    ('classifier', LogisticRegression(max_iter=2500))])\n",
    "\n",
    "final_pipe.fit(X_train, y_train)"
   ]
  },
  {
   "cell_type": "code",
   "execution_count": null,
   "id": "0e1c12f7",
   "metadata": {
    "slideshow": {
     "slide_type": "subslide"
    }
   },
   "outputs": [],
   "source": [
    "import pickle\n",
    "\n",
    "# Export pipeline as pickle file\n",
    "with open(\"pipeline.pkl\", \"wb\") as file:\n",
    "    pickle.dump(final_pipe, file)"
   ]
  },
  {
   "cell_type": "code",
   "execution_count": null,
   "id": "823274d2",
   "metadata": {
    "editable": true,
    "slideshow": {
     "slide_type": "fragment"
    },
    "tags": []
   },
   "outputs": [],
   "source": [
    "# Load pipeline from pickle file\n",
    "my_pipeline = pickle.load(open(\"pipeline.pkl\",\"rb\"))\n",
    "new_samples = pd.read_csv('Lecture_data/new_samples.csv')\n",
    "new_samples.head()"
   ]
  },
  {
   "cell_type": "code",
   "execution_count": null,
   "id": "fd05f191-f7b6-4cd2-9719-afde41f6d409",
   "metadata": {
    "editable": true,
    "slideshow": {
     "slide_type": "subslide"
    },
    "tags": []
   },
   "outputs": [],
   "source": [
    "pred = my_pipeline.predict(new_samples)\n",
    "new_samples['Predictions'] = pred\n",
    "\n",
    "pred"
   ]
  },
  {
   "cell_type": "markdown",
   "id": "9f5fd0b7-78c3-43fc-b19b-b9ab3b045826",
   "metadata": {
    "editable": true,
    "slideshow": {
     "slide_type": "slide"
    },
    "tags": []
   },
   "source": [
    "# Moving from Notebooks to Packages\n",
    "<br>\n",
    "\n",
    "<center><img src=\"https://drive.google.com/uc?id=13sDCVeMXEc3kXqI1F_udT8SzAHaEYLqY\" style=\"width:900px;\"><br>\n",
    " © Cédric John, 2022; Image generated with <a href=\"https://openai.com/blog/dall-e/\">DALL-E</a><br>\n",
    "<br>Prompt: 35 view of a well-organised giant warehouse with endless shelves full of items, orange lighting.</center>"
   ]
  },
  {
   "cell_type": "markdown",
   "id": "70ec02f3",
   "metadata": {
    "editable": true,
    "slideshow": {
     "slide_type": "subslide"
    },
    "tags": []
   },
   "source": [
    "\n",
    "<p><img src=\"https://drive.google.com/uc?id=149_jQxru5A1q15RiF9860uatiBDRUfmz\"/></p>\n"
   ]
  },
  {
   "cell_type": "markdown",
   "id": "355e27f9",
   "metadata": {
    "slideshow": {
     "slide_type": "subslide"
    }
   },
   "source": [
    "\n",
    "<p><img src=\"https://drive.google.com/uc?id=145bhQK2Gkcv9d7FgFG8rxyPCMOAW5dNz\" width=\"1600\"/></p>\n"
   ]
  },
  {
   "cell_type": "markdown",
   "id": "2f1c166b",
   "metadata": {
    "slideshow": {
     "slide_type": "subslide"
    }
   },
   "source": [
    "\n",
    "<h3 id=\"Notebooks\">Notebooks<a class=\"anchor-link\" href=\"https://kitt.lewagon.com/karr/data-lectures.kitt/07-Data-Engineering_01.html?title=Code+as+a+Product&amp;program_id=10#Notebooks\">¶</a></h3><p>👉 Great for exploration</p>\n",
    "<p>👉 Offer visible code feedback</p>\n",
    "<p>👉 Plots and graphs</p>\n"
   ]
  },
  {
   "cell_type": "markdown",
   "id": "9a9484eb",
   "metadata": {
    "slideshow": {
     "slide_type": "fragment"
    }
   },
   "source": [
    "\n",
    "<h3 id=\"Packages\">Classes / Packages<a class=\"anchor-link\" href=\"https://kitt.lewagon.com/karr/data-lectures.kitt/07-Data-Engineering_01.html?title=Code+as+a+Product&amp;program_id=10#Packages\">¶</a></h3><p>👉 Reusable code</p>\n",
    "<p>Reuse your code from one project to another, share it with your colleagues, or open source it (remember <code>pip</code>?)</p>\n"
   ]
  },
  {
   "cell_type": "markdown",
   "id": "45bf0f5a",
   "metadata": {
    "slideshow": {
     "slide_type": "fragment"
    }
   },
   "source": [
    "\n",
    "<p>👉 Deployable code</p>\n",
    "<p>Packages are the python standard to exchange code, they will allows us to run our code online and on-demand</p>\n"
   ]
  },
  {
   "cell_type": "markdown",
   "id": "439e8772",
   "metadata": {
    "slideshow": {
     "slide_type": "fragment"
    }
   },
   "source": [
    "\n",
    "<p>👉 Automation of tests and deployment (CI/CD)</p>\n",
    "<p>We want our code to be automatically validated, deployed to production, and to run without error</p>\n",
    "<p>We want to make sure our newly developed features do not break existing ones</p>\n"
   ]
  },
  {
   "cell_type": "markdown",
   "id": "8ec06856-e928-46bf-a681-eeb4517b514e",
   "metadata": {
    "slideshow": {
     "slide_type": "subslide"
    },
    "tags": []
   },
   "source": [
    "# From Notebook to Python Class\n"
   ]
  },
  {
   "cell_type": "markdown",
   "id": "f569ff7b",
   "metadata": {},
   "source": [
    "## Given our exploratory notebook:"
   ]
  },
  {
   "cell_type": "code",
   "execution_count": null,
   "id": "2638aa88",
   "metadata": {
    "editable": true,
    "scrolled": true,
    "slideshow": {
     "slide_type": "fragment"
    },
    "tags": []
   },
   "outputs": [],
   "source": [
    "import pandas as pd\n",
    "import numpy as np\n",
    "from sklearn.model_selection import GridSearchCV, train_test_split\n",
    "from sklearn.preprocessing import OneHotEncoder, StandardScaler\n",
    "from sklearn.impute import SimpleImputer\n",
    "from sklearn.linear_model import LogisticRegression\n",
    "from sklearn.pipeline import Pipeline\n",
    "from sklearn.compose import ColumnTransformer\n",
    "\n",
    "# Load and split data\n",
    "data = pd.read_csv('Lecture_data/India_air_quality_light.csv')\n",
    "data = data.drop_duplicates()\n",
    "\n",
    "y = data.high_level # Target\n",
    "X = data.drop(columns='high_level') #Feature\n",
    "\n",
    "X_train, X_test, y_train, y_test = train_test_split(X, y, train_size=0.8)\n",
    "\n",
    "# Preprocess data\n",
    "\n",
    "# Impute then Scale for numerical variables: \n",
    "num_transformer = Pipeline([\n",
    "    ('num_imputer', SimpleImputer()),\n",
    "    ('num_scaler', StandardScaler())])\n",
    "\n",
    "# Encode categorical variables\n",
    "cat_transformer = Pipeline([\n",
    "    ('cat_imputer',SimpleImputer(strategy = 'most_frequent')),\n",
    "    ('cat_encoder',OneHotEncoder(handle_unknown='ignore', sparse_output=False))\n",
    "     ])\n",
    "\n",
    "preprocessor = ColumnTransformer([\n",
    "    ('num_transformer', num_transformer, X_train.select_dtypes(include=np.number).columns),\n",
    "    ('cat_transformer', cat_transformer, ['state', 'type'])\n",
    "])\n",
    "\n",
    "final_pipe = Pipeline([\n",
    "    ('preprocessing', preprocessor),\n",
    "    ('classifier', LogisticRegression(max_iter=2500))])\n",
    "\n",
    "# Instanciate grid search\n",
    "grid_search = GridSearchCV(\n",
    "    final_pipe, \n",
    "    param_grid={\n",
    "        # Access any component of the pipeline, as far back as you want\n",
    "        'preprocessing__num_transformer__num_imputer__strategy': ['mean', 'median'],\n",
    "        'classifier__C': [0.1, 0.5, 1, 5, 10]},\n",
    "    cv=5,\n",
    "    scoring=\"accuracy\")\n",
    "\n",
    "# Train model with grid search\n",
    "grid_search.fit(X_train, y_train)\n",
    "tuned_pipe = grid_search.best_estimator_\n",
    "\n",
    "# Score final model\n",
    "tuned_pipe.score(X_test, y_test)\n",
    "\n",
    "# Predict (new) samples\n",
    "new_samples = pd.read_csv('Lecture_data/new_samples.csv')\n",
    "pred = my_pipeline.predict(new_samples)\n",
    "new_samples['Predictions'] = pred\n",
    "\n",
    "new_samples.head()\n"
   ]
  },
  {
   "cell_type": "markdown",
   "id": "d4688357",
   "metadata": {
    "slideshow": {
     "slide_type": "subslide"
    }
   },
   "source": [
    "## Let's create a class that does the following:\n",
    "* Train the best Logistics Regression model and saves it\n",
    "* Prints our test score\n",
    "* Load the model and new data to make predictions"
   ]
  },
  {
   "cell_type": "markdown",
   "id": "0390c818",
   "metadata": {
    "slideshow": {
     "slide_type": "fragment"
    }
   },
   "source": [
    "## There are multiple ways to do this:\n",
    "* We can write one <code>PollutionModel</code> class that does it all\n",
    "* We can write one <code>TrainPollutionModel</code> for training and one <code>PredictPollution</code> class\n",
    "* We can write more classes as well as files containing utility functions\n",
    "* ..."
   ]
  },
  {
   "cell_type": "markdown",
   "id": "c8c3eaac",
   "metadata": {
    "slideshow": {
     "slide_type": "fragment"
    }
   },
   "source": [
    "👉🏽 Because our code is simple, let's do one class only"
   ]
  },
  {
   "cell_type": "markdown",
   "id": "fb2919c2",
   "metadata": {
    "slideshow": {
     "slide_type": "subslide"
    }
   },
   "source": [
    "## Let's try our new class!"
   ]
  },
  {
   "cell_type": "code",
   "execution_count": null,
   "id": "031ab5d8",
   "metadata": {
    "editable": true,
    "slideshow": {
     "slide_type": "-"
    },
    "tags": []
   },
   "outputs": [],
   "source": [
    "from pollution_model import PollutionModel\n",
    "\n",
    "model = PollutionModel('https://drive.google.com/uc?id=13nr-VHGi2zFRpfHhCfz-yHJLX3LQrfTX')"
   ]
  },
  {
   "cell_type": "code",
   "execution_count": null,
   "id": "d4126b71",
   "metadata": {
    "editable": true,
    "slideshow": {
     "slide_type": ""
    },
    "tags": []
   },
   "outputs": [],
   "source": [
    "model.score_model()"
   ]
  },
  {
   "cell_type": "code",
   "execution_count": null,
   "id": "5db98fde",
   "metadata": {},
   "outputs": [],
   "source": [
    "model.predict('https://drive.google.com/uc?id=13k22u8G6FvV7f1Z8rsCrLksLY3j6SNo1')"
   ]
  },
  {
   "cell_type": "markdown",
   "id": "3f860334-2ed5-4a2d-a65c-176d1e13720f",
   "metadata": {
    "slideshow": {
     "slide_type": "subslide"
    }
   },
   "source": [
    "# Suggested Resources"
   ]
  },
  {
   "cell_type": "markdown",
   "id": "87e6ad11-021a-48a5-9a31-585377063520",
   "metadata": {
    "slideshow": {
     "slide_type": "-"
    },
    "tags": []
   },
   "source": [
    "## 📺 Videos \n",
    "#### Short videos from my Undegraduate Machine Learning Classes:\n",
    "* 📼 <a href=\"https://youtu.be/VSGTHhUqIk4?list=PLZzjCZ3QdgQCcRIwQdd-_cJNAUgiEBB_n\">Data preparation pipelines</a>\n",
    "\n",
    "#### Others:\n",
    "\n",
    "* 📼 <a href=\"https://developers.google.com/machine-learning/guides/rules-of-ml\">Rules of Machine Learning</a> by Google Developers (gives advise on designing ML systems) "
   ]
  },
  {
   "cell_type": "markdown",
   "id": "37232105-3381-4f8d-a95a-41a03c25888f",
   "metadata": {
    "slideshow": {
     "slide_type": "-"
    },
    "tags": []
   },
   "source": [
    "## 📚 Further Reading \n",
    "* 📖 <a href=\"https://hazelcast.com/glossary/data-pipeline/\">Data Pipelines</a> by Hazelcast\n",
    "* 📖 <a href=\"https://python-packaging-tutorial.readthedocs.io/en/latest/setup_py.html\">Python packages and easy introduction</a> \n",
    "* 📖 <a href=\"https://packaging.python.org/en/latest/tutorials/packaging-projects/\">Packaging Python Projects</a> \n"
   ]
  },
  {
   "cell_type": "markdown",
   "id": "12875bfd-781a-40f4-8871-67eaf007a396",
   "metadata": {
    "editable": true,
    "slideshow": {
     "slide_type": "subslide"
    },
    "tags": []
   },
   "source": [
    "## 💻🐍 Time to Code ! "
   ]
  }
 ],
 "metadata": {
  "celltoolbar": "Slideshow",
  "kernelspec": {
   "display_name": "Python 3 (ipykernel)",
   "language": "python",
   "name": "python3"
  },
  "language_info": {
   "codemirror_mode": {
    "name": "ipython",
    "version": 3
   },
   "file_extension": ".py",
   "mimetype": "text/x-python",
   "name": "python",
   "nbconvert_exporter": "python",
   "pygments_lexer": "ipython3",
   "version": "3.11.2"
  },
  "rise": {
   "scroll": true,
   "theme": "serif",
   "transition": "none"
  },
  "toc": {
   "base_numbering": 1,
   "nav_menu": {},
   "number_sections": false,
   "sideBar": true,
   "skip_h1_title": false,
   "title_cell": "Table of Contents",
   "title_sidebar": "Contents",
   "toc_cell": false,
   "toc_position": {},
   "toc_section_display": true,
   "toc_window_display": false
  }
 },
 "nbformat": 4,
 "nbformat_minor": 5
}
