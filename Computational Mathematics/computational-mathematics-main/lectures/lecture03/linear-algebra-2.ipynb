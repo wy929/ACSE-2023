{
 "cells": [
  {
   "cell_type": "code",
   "execution_count": 1,
   "metadata": {},
   "outputs": [
    {
     "data": {
      "text/html": [
       "<style>\n",
       "div.optional {\n",
       "    display: block;\n",
       "    background-color: #d7e2ff;\n",
       "    border-color: #d7e2ff;\n",
       "    border-left: 5px solid #d7e2ff;\n",
       "    padding: 0.5em;\n",
       "}\n",
       "div.advanced {\n",
       "    display: block;\n",
       "    background-color: #fff4d7;\n",
       "    border-color: #fff4d7;\n",
       "    border-left: 5px solid #fff4d7;\n",
       "    padding: 0.5em;\n",
       "}\n",
       "</style>\n"
      ],
      "text/plain": [
       "<IPython.core.display.HTML object>"
      ]
     },
     "metadata": {},
     "output_type": "display_data"
    }
   ],
   "source": [
    "%%html\n",
    "<style>\n",
    "div.optional {\n",
    "    display: block;\n",
    "    background-color: #d7e2ff;\n",
    "    border-color: #d7e2ff;\n",
    "    border-left: 5px solid #d7e2ff;\n",
    "    padding: 0.5em;\n",
    "}\n",
    "div.advanced {\n",
    "    display: block;\n",
    "    background-color: #fff4d7;\n",
    "    border-color: #fff4d7;\n",
    "    border-left: 5px solid #fff4d7;\n",
    "    padding: 0.5em;\n",
    "}\n",
    "</style>"
   ]
  },
  {
   "cell_type": "code",
   "execution_count": 2,
   "metadata": {},
   "outputs": [],
   "source": [
    "%matplotlib inline\n",
    "%precision 6\n",
    "import numpy as np\n",
    "import matplotlib.pyplot as plt\n",
    "import scipy.linalg as sl\n",
    "from pprint import pprint\n",
    "\n",
    "# if you get a ffmpeg error when creating movies try `conda install -c conda-forge ffmpeg` and restart Anaconda"
   ]
  },
  {
   "cell_type": "markdown",
   "metadata": {},
   "source": [
    "# Computational Mathematics  <a class=\"tocSkip\">\n",
    "\n",
    "## Linear Algebra 2  <a class=\"tocSkip\">\n",
    "    \n",
    "### (more linear algebra and some of its applications)  <a class=\"tocSkip\">"
   ]
  },
  {
   "cell_type": "markdown",
   "metadata": {},
   "source": [
    "## Learning outcomes  <a class=\"tocSkip\">\n",
    "    \n",
    "    \n",
    "1. To further our understanding of linear algebra from a geometrical perspective.\n",
    "\n",
    "<br>\n",
    "    \n",
    "2. To extend the previous lecture's discussion to the topic of eigenvalues and eigenvectors.\n",
    "\n",
    "<br>\n",
    "    \n",
    "3. To appreciate the existence and uniqueness of eigenvalues/vectors, more on bases, and matrix diagonalisation, as well as the SVD.\n",
    "\n",
    "<br>\n",
    "    \n",
    "4. To give you some exposure to how these ideas can be used to analyse and solve systems of ODEs [including material in the supplementary notebook(s)].\n",
    "    \n",
    "    \n",
    "<br><br>\n",
    "    \n",
    "Notice that much of the content in this lecture is optional. If eigenvalues/vectors are new to you, just focus on their geometrical interpretation and use in the factorisation/diagonalisation of matrices (sections 2-5), and then a very general  appreciation (but don't worry about the details) of them being of significant value for many applications (section 6), and can be generalised to equally useful analogues in the case of non-square matrices (section 7)."
   ]
  },
  {
   "cell_type": "markdown",
   "metadata": {
    "toc": true
   },
   "source": [
    "<h1>Table of Contents<span class=\"tocSkip\"></span></h1>\n",
    "<div class=\"toc\"><ul class=\"toc-item\"><li><span><a href=\"#Introductory-comments\" data-toc-modified-id=\"Introductory-comments-1\"><span class=\"toc-item-num\">1&nbsp;&nbsp;</span>Introductory comments</a></span></li><li><span><a href=\"#Geometric-interpretation-of-linear-transformations-(continued)\" data-toc-modified-id=\"Geometric-interpretation-of-linear-transformations-(continued)-2\"><span class=\"toc-item-num\">2&nbsp;&nbsp;</span>Geometric interpretation of linear transformations (continued)</a></span><ul class=\"toc-item\"><li><span><a href=\"#Writing-a-fixed-location-in-terms-of-a-new-basis\" data-toc-modified-id=\"Writing-a-fixed-location-in-terms-of-a-new-basis-2.1\"><span class=\"toc-item-num\">2.1&nbsp;&nbsp;</span>Writing a fixed location in terms of a new basis</a></span></li><li><span><a href=\"#Writing-a-transformation-in-terms-of-a-new-basis-[*]\" data-toc-modified-id=\"Writing-a-transformation-in-terms-of-a-new-basis-[*]-2.2\"><span class=\"toc-item-num\">2.2&nbsp;&nbsp;</span>Writing a transformation in terms of a new basis [*]</a></span><ul class=\"toc-item\"><li><span><a href=\"#Some-fairly-complicated-examples-[**]\" data-toc-modified-id=\"Some-fairly-complicated-examples-[**]-2.2.1\"><span class=\"toc-item-num\">2.2.1&nbsp;&nbsp;</span>Some fairly complicated examples [**]</a></span></li></ul></li><li><span><a href=\"#Transformation-of-a-unit-sphere\" data-toc-modified-id=\"Transformation-of-a-unit-sphere-2.3\"><span class=\"toc-item-num\">2.3&nbsp;&nbsp;</span>Transformation of a unit sphere</a></span></li><li><span><a href=\"#A-symmetric-positive-definite-case\" data-toc-modified-id=\"A-symmetric-positive-definite-case-2.4\"><span class=\"toc-item-num\">2.4&nbsp;&nbsp;</span>A symmetric positive definite case</a></span></li></ul></li><li><span><a href=\"#Eigenvalues-and-eigenvectors\" data-toc-modified-id=\"Eigenvalues-and-eigenvectors-3\"><span class=\"toc-item-num\">3&nbsp;&nbsp;</span>Eigenvalues and eigenvectors</a></span><ul class=\"toc-item\"><li><span><a href=\"#How-to-find-eigenvalues-and-eigenvectors\" data-toc-modified-id=\"How-to-find-eigenvalues-and-eigenvectors-3.1\"><span class=\"toc-item-num\">3.1&nbsp;&nbsp;</span>How to find eigenvalues and eigenvectors</a></span></li></ul></li><li><span><a href=\"#The-determinant-again,-and-its-use-in-finding-eigenvalues\" data-toc-modified-id=\"The-determinant-again,-and-its-use-in-finding-eigenvalues-4\"><span class=\"toc-item-num\">4&nbsp;&nbsp;</span>The determinant again, and its use in finding eigenvalues</a></span><ul class=\"toc-item\"><li><span><a href=\"#An-example-eigenvalue-problem\" data-toc-modified-id=\"An-example-eigenvalue-problem-4.1\"><span class=\"toc-item-num\">4.1&nbsp;&nbsp;</span>An example eigenvalue problem</a></span></li><li><span><a href=\"#What-does-linear-(in)dependence-mean?\" data-toc-modified-id=\"What-does-linear-(in)dependence-mean?-4.2\"><span class=\"toc-item-num\">4.2&nbsp;&nbsp;</span>What does linear (in)dependence mean?</a></span></li><li><span><a href=\"#Repeated-eigenvalues---algebraic-&amp;-geometric-multiplicity\" data-toc-modified-id=\"Repeated-eigenvalues---algebraic-&amp;-geometric-multiplicity-4.3\"><span class=\"toc-item-num\">4.3&nbsp;&nbsp;</span>Repeated eigenvalues - algebraic &amp; geometric multiplicity</a></span></li><li><span><a href=\"#Some-useful-theoretical-results-about-eigenvalues/vectors\" data-toc-modified-id=\"Some-useful-theoretical-results-about-eigenvalues/vectors-4.4\"><span class=\"toc-item-num\">4.4&nbsp;&nbsp;</span>Some useful theoretical results about eigenvalues/vectors</a></span></li><li><span><a href=\"#Symmetric-Positive-Definite-(SPD)-matrices-[*]\" data-toc-modified-id=\"Symmetric-Positive-Definite-(SPD)-matrices-[*]-4.5\"><span class=\"toc-item-num\">4.5&nbsp;&nbsp;</span>Symmetric Positive-Definite (SPD) matrices [*]</a></span><ul class=\"toc-item\"><li><span><a href=\"#Diagonal-dominance\" data-toc-modified-id=\"Diagonal-dominance-4.5.1\"><span class=\"toc-item-num\">4.5.1&nbsp;&nbsp;</span>Diagonal dominance</a></span></li></ul></li></ul></li><li><span><a href=\"#Matrix-diagonalisation\" data-toc-modified-id=\"Matrix-diagonalisation-5\"><span class=\"toc-item-num\">5&nbsp;&nbsp;</span>Matrix diagonalisation</a></span><ul class=\"toc-item\"><li><span><a href=\"#Symmetric-real-matrices\" data-toc-modified-id=\"Symmetric-real-matrices-5.1\"><span class=\"toc-item-num\">5.1&nbsp;&nbsp;</span>Symmetric real matrices</a></span></li><li><span><a href=\"#When-is-a-matrix-diagonalisable?-[*]\" data-toc-modified-id=\"When-is-a-matrix-diagonalisable?-[*]-5.2\"><span class=\"toc-item-num\">5.2&nbsp;&nbsp;</span>When is a matrix diagonalisable? [*]</a></span><ul class=\"toc-item\"><li><span><a href=\"#The-details\" data-toc-modified-id=\"The-details-5.2.1\"><span class=\"toc-item-num\">5.2.1&nbsp;&nbsp;</span>The details</a></span></li><li><span><a href=\"#An-example\" data-toc-modified-id=\"An-example-5.2.2\"><span class=\"toc-item-num\">5.2.2&nbsp;&nbsp;</span>An example</a></span></li></ul></li><li><span><a href=\"#A-geometrical-interpretation-of-matrix-multiplication-using-matrix-diagonalisation-[*]\" data-toc-modified-id=\"A-geometrical-interpretation-of-matrix-multiplication-using-matrix-diagonalisation-[*]-5.3\"><span class=\"toc-item-num\">5.3&nbsp;&nbsp;</span>A geometrical interpretation of matrix multiplication using matrix diagonalisation [*]</a></span></li></ul></li><li><span><a href=\"#Some-applications-of-eigen-values/vectors\" data-toc-modified-id=\"Some-applications-of-eigen-values/vectors-6\"><span class=\"toc-item-num\">6&nbsp;&nbsp;</span>Some applications of eigen-values/vectors</a></span><ul class=\"toc-item\"><li><span><a href=\"#Linear-systems-[*]\" data-toc-modified-id=\"Linear-systems-[*]-6.1\"><span class=\"toc-item-num\">6.1&nbsp;&nbsp;</span>Linear systems [*]</a></span><ul class=\"toc-item\"><li><span><a href=\"#Re-interpretation-in-terms-of-eigenvalues-and-eigenvectors\" data-toc-modified-id=\"Re-interpretation-in-terms-of-eigenvalues-and-eigenvectors-6.1.1\"><span class=\"toc-item-num\">6.1.1&nbsp;&nbsp;</span>Re-interpretation in terms of eigenvalues and eigenvectors</a></span></li></ul></li><li><span><a href=\"#Powers-of-matrices-[*---but-note-we-are-going-to-use-this-result-in-the-next-section]\" data-toc-modified-id=\"Powers-of-matrices-[*---but-note-we-are-going-to-use-this-result-in-the-next-section]-6.2\"><span class=\"toc-item-num\">6.2&nbsp;&nbsp;</span>Powers of matrices [* - but note we are going to use this result in the next section]</a></span><ul class=\"toc-item\"><li><span><a href=\"#Fibonacci-numbers-[*]\" data-toc-modified-id=\"Fibonacci-numbers-[*]-6.2.1\"><span class=\"toc-item-num\">6.2.1&nbsp;&nbsp;</span>Fibonacci numbers [*]</a></span></li></ul></li><li><span><a href=\"#Using-linear-algebra-to-solve-systems-of-ODEs\" data-toc-modified-id=\"Using-linear-algebra-to-solve-systems-of-ODEs-6.3\"><span class=\"toc-item-num\">6.3&nbsp;&nbsp;</span>Using linear algebra to solve systems of ODEs</a></span><ul class=\"toc-item\"><li><span><a href=\"#The-idea/theory\" data-toc-modified-id=\"The-idea/theory-6.3.1\"><span class=\"toc-item-num\">6.3.1&nbsp;&nbsp;</span>The idea/theory</a></span></li><li><span><a href=\"#An-example\" data-toc-modified-id=\"An-example-6.3.2\"><span class=\"toc-item-num\">6.3.2&nbsp;&nbsp;</span>An example</a></span></li><li><span><a href=\"#Making-use-of-matrix-diagonalisation-[*]\" data-toc-modified-id=\"Making-use-of-matrix-diagonalisation-[*]-6.3.3\"><span class=\"toc-item-num\">6.3.3&nbsp;&nbsp;</span>Making use of matrix diagonalisation [*]</a></span></li></ul></li></ul></li><li><span><a href=\"#Singular-Value-Decomposition-(SVD)-[*---quite-important-in-advanced-data-science-and-for-Optimisation-&amp;-Inversion,-but-you-can-skip-for-now]\" data-toc-modified-id=\"Singular-Value-Decomposition-(SVD)-[*---quite-important-in-advanced-data-science-and-for-Optimisation-&amp;-Inversion,-but-you-can-skip-for-now]-7\"><span class=\"toc-item-num\">7&nbsp;&nbsp;</span>Singular Value Decomposition (SVD) [* - quite important in advanced data science and for Optimisation &amp; Inversion, but you can skip for now]</a></span><ul class=\"toc-item\"><li><span><a href=\"#Some-SVD-properties\" data-toc-modified-id=\"Some-SVD-properties-7.1\"><span class=\"toc-item-num\">7.1&nbsp;&nbsp;</span>Some SVD properties</a></span></li><li><span><a href=\"#Geometric-interpretation\" data-toc-modified-id=\"Geometric-interpretation-7.2\"><span class=\"toc-item-num\">7.2&nbsp;&nbsp;</span>Geometric interpretation</a></span></li><li><span><a href=\"#The-compact-form-of-SVD\" data-toc-modified-id=\"The-compact-form-of-SVD-7.3\"><span class=\"toc-item-num\">7.3&nbsp;&nbsp;</span>The compact form of SVD</a></span></li><li><span><a href=\"#Aside:-some-of-the-various-uses-of-the-SVD\" data-toc-modified-id=\"Aside:-some-of-the-various-uses-of-the-SVD-7.4\"><span class=\"toc-item-num\">7.4&nbsp;&nbsp;</span>Aside: some of the various uses of the SVD</a></span><ul class=\"toc-item\"><li><span><a href=\"#Principal-Component-Analysis-(PCA)\" data-toc-modified-id=\"Principal-Component-Analysis-(PCA)-7.4.1\"><span class=\"toc-item-num\">7.4.1&nbsp;&nbsp;</span>Principal Component Analysis (PCA)</a></span></li></ul></li></ul></li><li><span><a href=\"#Summary\" data-toc-modified-id=\"Summary-8\"><span class=\"toc-item-num\">8&nbsp;&nbsp;</span>Summary</a></span></li></ul></div>"
   ]
  },
  {
   "cell_type": "markdown",
   "metadata": {},
   "source": [
    "# Introductory comments\n",
    "\n",
    "Last lecture we emphasised that linear algebra is ubiquitous (i.e. occurs all over the place) in (computational/data) science & engineering.\n",
    "\n",
    "In this lecture we will cover some further important topics related to linear algebra.\n",
    "\n",
    "Assuming we don't run out of time, I will show you how to formulate and solve (analytically and numerically) physical problems which yields the following animations [this material is in the supplementary notebook].\n",
    "\n",
    "\n",
    "NB. MSD = Mass Spring Damper\n",
    "\n",
    "<br>\n",
    "\n",
    "<video controls loop width=\"600\" src=\"animations/MSD.mp4\"/>\n"
   ]
  },
  {
   "cell_type": "markdown",
   "metadata": {},
   "source": [
    "A more complex example with two coupled masses \n",
    "\n",
    "[NB. there is still damping in the physics here, I just haven't plotted the two dampers as they get in the way]\n",
    "\n",
    "<br>\n",
    "\n",
    "<video controls loop  width=\"600\"  src=\"animations/MSD2.mp4\"/>\n"
   ]
  },
  {
   "cell_type": "markdown",
   "metadata": {},
   "source": [
    "A homework exercise asks you to solve the double pendulum problem\n",
    "\n",
    "<video controls loop  width=\"400\" src=\"animations/double_pendulum.mp4\"/>\n"
   ]
  },
  {
   "cell_type": "markdown",
   "metadata": {},
   "source": [
    "and then to take a look at the supplemental notebook that considers the triple pendulum.\n",
    "\n",
    "<video controls loop  width=\"400\" src=\"animations/triple_pendulum.mp4\"/>"
   ]
  },
  {
   "cell_type": "markdown",
   "metadata": {},
   "source": [
    "where we can slightly perturb initial conditions multiple times and plot all the trajectories simultaneously:\n",
    "\n",
    "<br>\n",
    "\n",
    "<video controls loop  width=\"400\" src=\"animations/triple_pendulum_fancy.mp4\"/>"
   ]
  },
  {
   "cell_type": "markdown",
   "metadata": {},
   "source": [
    "# Geometric interpretation of linear transformations (continued)\n",
    "\n",
    "Recall from the end of the last lecture where we established that:\n",
    "\n",
    "\n",
    "1. if we are considering certain transformations of point(s) or space,  e.g. rotations, scaling, shear, we can describe this via multiplication by a certain matrix - we start from something physical/geometrical and look to interpret/use this in terms of a matrix.\n",
    "\n",
    "\n",
    "2. on the flip-side, if we instead start with a matrix we can consider it in terms of its geometrical transformation properties.\n",
    "\n",
    "\n",
    "We can extend this to consider how we might represent points in a different coordinate system (i.e. in terms of different basis vectors), and how we would describe a transformation in terms of a different coordinate system. \n",
    "\n",
    "Why might we want do to this? In both cases considering a different coordinate system may make things easier for us.\n",
    "\n",
    "Let's consider some examples."
   ]
  },
  {
   "cell_type": "markdown",
   "metadata": {},
   "source": [
    "## Writing a fixed location in terms of a new basis\n",
    "\n",
    "What we did previously was consider the transformation\n",
    "\n",
    "$$\\boldsymbol{p}\\longrightarrow \\boldsymbol{p}' = A\\boldsymbol{p}$$\n",
    "\n",
    "or\n",
    "\n",
    "$$p_1 \\boldsymbol{i} +  p_2\\boldsymbol{j} \\longrightarrow  p_1 (A\\boldsymbol{i}) + p_2 (A\\boldsymbol{j})$$\n",
    "\n",
    "In the original coordinate system we moved the distance $p_1$ in direction $\\boldsymbol{i}$ and $p_2$ in direction $\\boldsymbol{j}$ (it doesn't matter in which order of course, we end up at the same position).\n",
    "\n",
    "Now as we could interpet this transformation in terms of the coefficients being held constant, with only the basis vectors transformed by the matrix multiplication, it turned out that in the new coordinates (i.e. in terms of the new basis vectors) we moved the same multiples but of new basis vectors: $p_1$ multiplied by  $A \\boldsymbol{i}$ and $p_2$ multiplied $A\\boldsymbol{j}$. \n",
    "\n",
    "I used the word 'multiples' here rather than distance to emphasise that even if the original basis vectors were normalised, the new ones might not be - as $\\boldsymbol{i}$ has unit length we can just talk about direction $\\boldsymbol{i}$, as  $A \\boldsymbol{i}$ may not have unit length we should be careful about talking about direction  $A \\boldsymbol{i}$!\n",
    "\n",
    "A consequence of this transformation is of course that the location of the point $\\boldsymbol{p}$ changes along with the coordinates."
   ]
  },
  {
   "cell_type": "markdown",
   "metadata": {},
   "source": [
    "But for some applications this may not be what we wanted.\n",
    "\n",
    "Often our point will be fixed in space and we will simply want to describe that same location using a different coordinate system. In this case we will clearly need to update the coefficients as well. \n",
    "\n",
    "We will want to find new coefficients or coordinates $p_1'$ and $p_2'$ such that the location of the point is unchanged. Mathematically this can be written as\n",
    "\n",
    "$$p_1 \\boldsymbol{i} +  p_2\\boldsymbol{j} = p_1' (A\\boldsymbol{i}) + p_2' (A\\boldsymbol{j})$$\n",
    "\n",
    "If I write this in terms of matrices, with the columns of the matrix representing the basis vectors, then this equivalence can be written as\n",
    "\n",
    "$$I  \\boldsymbol{p} = (AI) \\boldsymbol{p}'$$\n",
    "\n",
    "(where I have explicitly included the identity matrix on the LHS here since we used a simple form for the original basis vectors - the columns of the identity matrix are our $\\boldsymbol{i}$ and $\\boldsymbol{i}$ basis vectors.  This could be generalised to any starting basis vectors/matrix).\n",
    "\n",
    "Remember I want to find $\\boldsymbol{p}'$ such that the above equivalnce is true. \n",
    "\n",
    "Thinking about things in this matrix form tells us how we can do this - simply multiply both sides by the inverse of $(AI)$ (I leave this as $AI$ here rather than rewriting as $A$ just to emphasise that the $I$ is encoding the original basis; it can't be ignored if we started from something other that the $\\boldsymbol{i}, \\;\\boldsymbol{j}$ basis):\n",
    "\n",
    "$$ \\boldsymbol{p}' = (AI)^{-1}  I  \\boldsymbol{p} = I^{-1} A^{-1} I \\boldsymbol{p}$$\n",
    "\n",
    "this is of course for our case simply \n",
    "\n",
    "$$ \\boldsymbol{p}' = A^{-1} \\boldsymbol{p}$$\n",
    "\n",
    "(but we'd need to include the analogue of the $I$ matrix if we had a more complicated starting basis)\n",
    "\n",
    "Let's confirm this result visually"
   ]
  },
  {
   "cell_type": "code",
   "execution_count": 3,
   "metadata": {
    "scrolled": false
   },
   "outputs": [
    {
     "data": {
      "text/plain": [
       "(-0.300000, 3.000000)"
      ]
     },
     "execution_count": 3,
     "metadata": {},
     "output_type": "execute_result"
    },
    {
     "data": {
      "image/png": "[encoded data removed]",
      "text/plain": [
       "<Figure size 432x432 with 1 Axes>"
      ]
     },
     "metadata": {
      "needs_background": "light"
     },
     "output_type": "display_data"
    }
   ],
   "source": [
    "fig = plt.figure(figsize=(6, 6))\n",
    "\n",
    "ax1 = fig.add_subplot(111)\n",
    "\n",
    "ax1.set_xlabel(\"$x, x'$\", fontsize=14)\n",
    "ax1.set_ylabel(\"$y, y'$\", fontsize=14)\n",
    "ax1.set_title('Linear transformation (general)', fontsize=14)\n",
    "ax1.grid(True)\n",
    "\n",
    "# original basis vectors\n",
    "i = np.array([1,0])\n",
    "j = np.array([0,1])\n",
    "\n",
    "# plot the vectors\n",
    "ax1.quiver(i[0], i[1], angles='xy', scale_units='xy', scale=1, color='b', zorder=10, width=0.015)\n",
    "ax1.quiver(j[0], j[1], angles='xy', scale_units='xy', scale=1, color='b', zorder=10, width=0.015)\n",
    "\n",
    "# add some text\n",
    "ax1.text(i[0]-0.05, i[1]+0.1, \"$i$\", fontsize=12)\n",
    "ax1.text(j[0]+0.05,j[1], \"$j$\", fontsize=12)\n",
    "\n",
    "\n",
    "# transformation matrix\n",
    "A = np.array([[0.9,0.2],[0.6,1.1]])\n",
    "\n",
    "\n",
    "#  **** transformed basis vectors ****\n",
    "i_ = A@i\n",
    "j_ = A@j\n",
    "\n",
    "\n",
    "# plot the transformed vectors\n",
    "ax1.quiver(i_[0], i_[1], angles='xy', scale_units='xy', scale=1, color='r', zorder=10, width=0.015)\n",
    "ax1.quiver(j_[0], j_[1], angles='xy', scale_units='xy', scale=1, color='r', zorder=10, width=0.015)\n",
    "\n",
    "# add some text\n",
    "ax1.text(i_[0]-0.05, i_[1]+0.05, \"$i'$\", fontsize=12)\n",
    "ax1.text(j_[0]+0.05,j_[1], \"$j'$\", fontsize=12)\n",
    "\n",
    "# add a point\n",
    "p = 1.9*i + 2.4*j\n",
    "\n",
    "# plot it\n",
    "ax1.plot(p[0],p[1],'ko')\n",
    "\n",
    "# plot components - the lighter blue vectors in the i and j directions\n",
    "ax1.quiver(p[0]*i[0], p[0]*i[1], angles='xy', scale_units='xy', scale=1, color='dodgerblue', zorder=20)\n",
    "ax1.quiver(p[0]*i[0], p[0]*i[1], p[1]*j[0], p[1]*j[1], angles='xy', scale_units='xy', scale=1, \n",
    "           color='dodgerblue', zorder=20)\n",
    "\n",
    "# add some text\n",
    "ax1.text(p[0]*i[0]-0.15, p[0]*i[1]-0.15, \"$p_1 i$\", fontsize=12)\n",
    "ax1.text(p[0]*i[0]+p[1]*j[0]+0.05, p[0]*i[1]+p[1]*j[1]-0.2, \"$p_2 j$\", fontsize=12)\n",
    "\n",
    "\n",
    "# **** define transformed coefficients by multiplying by A^{-1}: ****\n",
    "p_ = sl.inv(A)@p\n",
    "\n",
    "\n",
    "# plot components in the new coordinates (i_ and j_) in light red\n",
    "ax1.quiver(p_[0]*i_[0], p_[0]*i_[1], angles='xy', scale_units='xy', scale=1, color='tomato', zorder=20)\n",
    "ax1.quiver(p_[0]*i_[0], p_[0]*i_[1], p_[1]*j_[0], p_[1]*j_[1], angles='xy', scale_units='xy', scale=1, \n",
    "           color='tomato', zorder=20)\n",
    "\n",
    "# add some text\n",
    "ax1.text(p_[0]*i_[0]-0.15, p_[0]*i_[1]-0.25, \"$p_1' i'$\", fontsize=12)\n",
    "ax1.text(p_[0]*i_[0]+p_[1]*j_[0]-0.25, p_[0]*i_[1]+p_[1]*j_[1]-0.2, \"$p_2' j'$\", fontsize=12)\n",
    "\n",
    "ax1.set_xlim(-0.2,2.5)\n",
    "ax1.set_ylim(-0.3,3)"
   ]
  },
  {
   "cell_type": "markdown",
   "metadata": {},
   "source": [
    "The primed $\\boldsymbol{i}$ and $\\boldsymbol{j}$ vectors are our transformed basis, here given by the columns of the arbitrarily chosen transformtion matrix $A$. We clearly see if we move the appropriate multiples of these vectors, with the mutliples given by $\\boldsymbol{p}'$, then we do indeed end up at our original starting $ \\boldsymbol{p}$ location.\n",
    "\n",
    "\n",
    "So we know how to write an unchanged (i.e. un-transformed) position in terms of different basis vectors."
   ]
  },
  {
   "cell_type": "markdown",
   "metadata": {},
   "source": [
    "<div class=\"optional\">\n",
    "\n",
    "## Writing a transformation in terms of a new basis [*]\n",
    "\n",
    "Let's extend that to now think about how we would write a transformation in terms of a different basis.\n",
    "\n",
    "For example, assume that we transform a point in the original basis using a transformation described by matrix multiplication (what we did at the end of the previous lecture - e.g. a shear or a rotation). \n",
    "\n",
    "How would we describe that same transformation in terms of a different basis?\n",
    "\n",
    "Consider this example:  suppose we consider the transformation of a point where we reflect the position about the $y$ axis ($x\\rightarrow -x$), and we stretch by a factor of 2 in the $y$ direction ($y\\rightarrow 2y$). In terms of the simple basis vectors $\\boldsymbol{i}$ and $\\boldsymbol{j}$ aligned with the $x$ and $y$ directions, this can obviously be represented by the matrix\n",
    "\n",
    "$$A=\n",
    "\\begin{pmatrix}\n",
    "-1 & 0 \\\\\n",
    "0 & 2\n",
    "\\end{pmatrix}\n",
    "$$\n",
    "\n",
    "Now let's pretend that we were using different basis vectors to describe our original location. Let's assume we wanted to update that location in the same manner as just described. \n",
    "\n",
    "In terms of the second set of basis vectors we wouldn't simply swap the sign of the first value and multiply the second value by 2, this would take us to the wrong location. So we need a different transformation matrix to above. What is this?\n",
    "\n",
    "Well the answer is to compose transformation, equivalently to multiply matrices.\n",
    "\n",
    "Note that the reason we may want to do this is exactly because in terms of a particular basis a transformation may be especially easy to write down, or to interpret.\n",
    "\n",
    "In the example in the following cell the matrix $A$ defined just above transforms our point using the original basis:\n",
    "\n",
    "if $\\boldsymbol{p}$ is our original point in terms of the original simple basis vectors, then\n",
    "$\\boldsymbol{q}=A\\boldsymbol{p}$ is our transformed point in terms of the same original vectors.\n",
    "    \n",
    "</div>"
   ]
  },
  {
   "cell_type": "markdown",
   "metadata": {},
   "source": [
    "<div class=\"optional\">\n",
    "\n",
    "Now consider a new set of basis vectors obtained by pre-multiplication by a matrix, e.g.\n",
    "\n",
    "$$A_b = \n",
    "\\begin{pmatrix}\n",
    "    0.9 & 0.2\\\\\n",
    "    0.6 & 1.1\n",
    "\\end{pmatrix}\n",
    "$$\n",
    "\n",
    "Based on what we saw above, $A_b^{-1}\\boldsymbol{p}$ gives the coordinates of the *original point* in terms of the new basis.\n",
    "\n",
    "So starting from a point $\\boldsymbol{p}$, \n",
    "\n",
    "$A\\boldsymbol{p}$ transforms it in the original basis, \n",
    "\n",
    "and $A_b^{-1}A\\boldsymbol{p}$ is then the *transformed point written in terms of the new basis vectors*.\n",
    "\n",
    "Admittedly this is getting a bit complicated, let's plot all of this to confirm it's correct and maybe understand a bit better what is going on\n",
    "\n",
    "Let \n",
    "\n",
    "- $\\boldsymbol{p}\\,$ denote the coordinates of the original point in terms of the first set of basis vectors\n",
    "\n",
    "\n",
    "- $\\boldsymbol{q}\\,$ denote the coordinates of the transformed point in terms of the first set of basis vectors\n",
    "\n",
    "\n",
    "- $\\boldsymbol{p'}\\,$ denote the coordinates of the original point in terms of the second set of basis vectors\n",
    "\n",
    "\n",
    "- $\\boldsymbol{q'}\\,$ denote the coordinates of the transformed point in terms of the second set of basis vectors\n",
    "    \n",
    "</div>"
   ]
  },
  {
   "cell_type": "code",
   "execution_count": 4,
   "metadata": {},
   "outputs": [
    {
     "data": {
      "text/plain": [
       "<matplotlib.legend.Legend at 0x20073d4fb48>"
      ]
     },
     "execution_count": 4,
     "metadata": {},
     "output_type": "execute_result"
    },
    {
     "data": {
      "image/png": "[encoded data removed]",
      "text/plain": [
       "<Figure size 864x432 with 2 Axes>"
      ]
     },
     "metadata": {
      "needs_background": "light"
     },
     "output_type": "display_data"
    }
   ],
   "source": [
    "fig = plt.figure(figsize=(12, 6))\n",
    "\n",
    "ax1 = fig.add_subplot(121)\n",
    "\n",
    "ax1.set_xlabel(\"$x, x'$\", fontsize=14)\n",
    "ax1.set_ylabel(\"$y, y'$\", fontsize=14)\n",
    "ax1.set_title('Linear transformation (in original basis)', fontsize=14)\n",
    "ax1.grid(True)\n",
    "\n",
    "# original basis vectors\n",
    "i = np.array([1,0])\n",
    "j = np.array([0,1])\n",
    "\n",
    "# plot the vectors\n",
    "ax1.quiver(i[0], i[1], angles='xy', scale_units='xy', scale=1, color='b', zorder=10, width=0.015)\n",
    "ax1.quiver(j[0], j[1], angles='xy', scale_units='xy', scale=1, color='b', zorder=10, width=0.015)\n",
    "\n",
    "# add some text\n",
    "ax1.text(i[0], i[1]+0.05, \"$i$\", fontsize=14)\n",
    "ax1.text(j[0]+0.05,j[1], \"$j$\", fontsize=14)\n",
    "\n",
    "# transformation matrix\n",
    "A = np.array([[-1,0],[0,2]])\n",
    "\n",
    "# add a point\n",
    "p = 0.35*i + 0.45*j\n",
    "\n",
    "# plot it\n",
    "ax1.plot(p[0],p[1],'ko', label='original - $p$')\n",
    "\n",
    "# plot components\n",
    "ax1.quiver(p[0]*i[0], p[0]*i[1], angles='xy', scale_units='xy', scale=1, color='dodgerblue', zorder=20)\n",
    "ax1.quiver(p[0]*i[0], p[0]*i[1], p[1]*j[0], p[1]*j[1], angles='xy', scale_units='xy', \n",
    "           scale=1, color='dodgerblue', zorder=20)\n",
    "\n",
    "# transform the point\n",
    "q = A@p\n",
    "\n",
    "# plot it\n",
    "ax1.plot(q[0],q[1],'k*', label='new - $q$')\n",
    "\n",
    "# plot components\n",
    "ax1.quiver(q[0]*i[0], q[0]*i[1], angles='xy', scale_units='xy', scale=1, color='tomato', zorder=5)\n",
    "ax1.quiver(q[0]*i[0], q[0]*i[1], q[1]*j[0], q[1]*j[1], angles='xy', scale_units='xy', scale=1, color='tomato', zorder=5)\n",
    "\n",
    "ax1.set_xlim(-1.0,1.2)\n",
    "ax1.set_ylim(-0.8,1.4)\n",
    "\n",
    "ax1.legend(loc='best', fontsize=14)\n",
    "##################################\n",
    "ax1 = fig.add_subplot(122)\n",
    "\n",
    "ax1.set_xlabel(\"$x, x'$\", fontsize=14)\n",
    "ax1.set_ylabel(\"$y, y'$\", fontsize=14)\n",
    "ax1.set_title('Linear transformation (in a different basis)', fontsize=14)\n",
    "ax1.grid(True)\n",
    "\n",
    "# original basis vectors\n",
    "i = np.array([1,0])\n",
    "j = np.array([0,1])\n",
    "\n",
    "# plot original point\n",
    "ax1.plot(p[0],p[1],'ko', label=\"original - $p'$\")\n",
    "\n",
    "# transformation matrix to obtain a new basis\n",
    "Ab = np.array([[0.9,0.2],[0.6,1.1]])\n",
    "\n",
    "# transformed basis vectors\n",
    "i_ = Ab@i\n",
    "j_ = Ab@j\n",
    "\n",
    "# plot the vectors\n",
    "ax1.quiver(i_[0], i_[1], angles='xy', scale_units='xy', scale=1, color='b', zorder=10, width=0.015)\n",
    "ax1.quiver(j_[0], j_[1], angles='xy', scale_units='xy', scale=1, color='b', zorder=10, width=0.015)\n",
    "\n",
    "# add some text\n",
    "ax1.text(i_[0], i_[1], \"$i'$\", fontsize=14)\n",
    "ax1.text(j_[0]+0.05,j_[1], \"$j'$\", fontsize=14)\n",
    "\n",
    "# coordinates of original point in new basis\n",
    "p_ = sl.inv(Ab)@p\n",
    "\n",
    "# plot components to show that these give the same location in terms of i_ and j_\n",
    "ax1.quiver(p_[0]*i_[0], p_[0]*i_[1], angles='xy', scale_units='xy', scale=1, color='dodgerblue', zorder=20)\n",
    "ax1.quiver(p_[0]*i_[0], p_[0]*i_[1], p_[1]*j_[0], p_[1]*j_[1], angles='xy', scale_units='xy', \n",
    "           scale=1, color='dodgerblue', zorder=20)\n",
    "\n",
    "\n",
    "# coordinates of point in terms of the transformation given by A, but in original basis\n",
    "q = A@p\n",
    "\n",
    "# plot it\n",
    "ax1.plot(q[0],q[1],'k*', label=\"new - $q'$\")\n",
    "\n",
    "# now let's check that we can get to the same location using our second basis - how do I write q in terms i_, j_\n",
    "q_ = sl.inv(Ab)@q\n",
    "\n",
    "# plot components\n",
    "ax1.quiver(q_[0]*i_[0], q_[0]*i_[1], angles='xy', scale_units='xy', scale=1, color='tomato', zorder=5)\n",
    "ax1.quiver(q_[0]*i_[0], q_[0]*i_[1], q_[1]*j_[0], q_[1]*j_[1], angles='xy', scale_units='xy', \n",
    "           scale=1, color='tomato', zorder=5)\n",
    "\n",
    "ax1.set_xlim(-1.0,1.2)\n",
    "ax1.set_ylim(-0.8,1.4)\n",
    "\n",
    "ax1.legend(loc='best', fontsize=14)"
   ]
  },
  {
   "cell_type": "markdown",
   "metadata": {},
   "source": [
    "<div class=\"optional\">\n",
    "\n",
    "If we started with a point $\\boldsymbol{p}'$ in the second coordinate system, but we could describe our transformation more easily in the first coordinate system (as in the example above), then we would do the following:\n",
    "\n",
    "\n",
    "1. Starting from a point in the second coordinate system, pre-multiply by $A_b$ to map to coordinates in the first ($\\boldsymbol{p}=A_b\\boldsymbol{p}'$)\n",
    "\n",
    "\n",
    "2. Now pre-multiply by $A$ to perform the transformation of the point written in terms of the first basis\n",
    "($\\boldsymbol{q}=A\\boldsymbol{p}$)\n",
    "\n",
    "\n",
    "3. Finally  pre-multiply by $A_b^{-1}$ to map these new coordinates back into the second coordinate system\n",
    "($\\boldsymbol{q}'=A_b^{-1}\\boldsymbol{q}$)\n",
    "\n",
    "\n",
    "Combining:\n",
    "\n",
    "$$ \\boldsymbol{q}' = A_b^{-1} \\, A \\, A_b\\,  \\boldsymbol{p'} $$\n",
    "\n",
    "this combined matrix on the left $(A_b^{-1} \\, A \\, A_b)$ is what we would need to multiply through by to start with a  $\\boldsymbol{p'}$ given by the black dot on the RHS image above, and jump straight to the black star in the image on the right, for example.\n",
    "\n",
    "\n",
    "If our transformation was more convenient to write in terms of the second set of basis vectors then we would just go in the opposite direction - starting from a point  $\\boldsymbol{p}$ in the original basis,  \n",
    "\n",
    "$$ \\boldsymbol{q} = A_b \\, A \\, A_b^{-1}\\,  \\boldsymbol{p}$$ \n",
    "\n",
    "would be the transformed point.\n",
    "\n",
    "Note that the $A_b$ and $A_b^{-1}$ are interchangeable depending on which direction we interpret the transformation $A_b$ to be in.\n",
    "\n",
    "We'll return to something analogous when we introduce **matrix diagonalisation** a little later!\n",
    "    \n",
    "</div>"
   ]
  },
  {
   "cell_type": "markdown",
   "metadata": {},
   "source": [
    "<div class=\"advanced\">\n",
    "\n",
    "### Some fairly complicated examples [\\**]\n",
    "\n",
    "Let's now consider a scenario where we want to reflect a point across a line oriented 60 degrees from the $x$ axis.\n",
    "\n",
    "Suppose we have a $\\boldsymbol{p}$ written in terms of a first coordinate systems assumed to be $\\boldsymbol{i}$, $\\boldsymbol{j}$.\n",
    "\n",
    "An easy way to achieve this transformation is to first rotate our coordinate system so that this line is oriented with the $y$ axis, we can do this by rotating *clockwise* by 30 degrees ($90-60$): we pre-multiply our vector by the inverse of\n",
    "\n",
    "$$A_b = \n",
    "\\begin{pmatrix}\n",
    "\\cos(\\theta) & -\\sin(\\theta)\\\\\n",
    "\\sin(\\theta) & \\cos(\\theta)\n",
    "\\end{pmatrix},\\qquad \\text{with} \\quad \\theta = -30\\frac{\\pi}{180} \\quad\\text{[Remembering that positive angle corrsponds to an anti-clockwise rotation]}\n",
    "$$\n",
    "\n",
    "We then reflect about the $y$ axis (i.e. swap the sign of the $x$ component): we can do this through pre-multiplication by\n",
    "\n",
    "$$A = \n",
    "\\begin{pmatrix}\n",
    "-1 & 0\\\\\n",
    "0 & 1\n",
    "\\end{pmatrix}\n",
    "$$\n",
    "\n",
    "and finally we transform back to the original basis: we pre-multiply by $A_b$.\n",
    "\n",
    "The new location can therefore be written as\n",
    "\n",
    "$$\\boldsymbol{q} = \n",
    "\\begin{pmatrix}\n",
    "\\cos(\\theta) & -\\sin(\\theta)\\\\\n",
    "\\sin(\\theta) & \\cos(\\theta)\n",
    "\\end{pmatrix}\n",
    "\\begin{pmatrix}\n",
    "-1 & 0\\\\\n",
    "0 & 1\n",
    "\\end{pmatrix}\n",
    "\\begin{pmatrix}\n",
    "\\cos(\\theta) & -\\sin(\\theta)\\\\\n",
    "\\sin(\\theta) & \\cos(\\theta)\n",
    "\\end{pmatrix}^{-1}\n",
    "\\boldsymbol{p}\n",
    "$$  \n",
    "\n",
    "Let's plot this new point to check our above reasoning is correct.\n",
    "    \n",
    "</div>"
   ]
  },
  {
   "cell_type": "code",
   "execution_count": 5,
   "metadata": {},
   "outputs": [
    {
     "data": {
      "text/plain": [
       "(-0.200000, 1.200000)"
      ]
     },
     "execution_count": 5,
     "metadata": {},
     "output_type": "execute_result"
    },
    {
     "data": {
      "image/png": "[encoded data removed]",
      "text/plain": [
       "<Figure size 864x432 with 1 Axes>"
      ]
     },
     "metadata": {
      "needs_background": "light"
     },
     "output_type": "display_data"
    }
   ],
   "source": [
    "fig = plt.figure(figsize=(12, 6))\n",
    "\n",
    "ax1 = fig.add_subplot(121)\n",
    "\n",
    "ax1.set_xlabel(\"$x, x'$\", fontsize=14)\n",
    "ax1.set_ylabel(\"$y, y'$\", fontsize=14)\n",
    "ax1.set_title('Composition of transformations', fontsize=14)\n",
    "ax1.grid(True)\n",
    "\n",
    "# original basis vectors\n",
    "i = np.array([1,0])\n",
    "j = np.array([0,1])\n",
    "\n",
    "# plot the vectors\n",
    "ax1.quiver(i[0], i[1], angles='xy', scale_units='xy', scale=1, color='b', zorder=10, width=0.015)\n",
    "ax1.quiver(j[0], j[1], angles='xy', scale_units='xy', scale=1, color='b', zorder=10, width=0.015)\n",
    "\n",
    "# transform matrix for coordinates\n",
    "theta = -30 *np.pi/180 \n",
    "Ab = np.array([[np.cos(theta),-np.sin(theta)],[np.sin(theta),np.cos(theta)]])\n",
    "\n",
    "# plot a line to indicate what we are reflecting the point across\n",
    "ax1.plot([0,3*np.cos(60*np.pi/180)],[0,3*np.sin(60*np.pi/180)],'k', label='reflection plane')\n",
    "\n",
    "# transformation matrix\n",
    "A = np.array([[-1, 0],[0, 1]])\n",
    "\n",
    "# add a point\n",
    "p = 0.55*i + 0.45*j\n",
    "\n",
    "# plot it\n",
    "ax1.plot(p[0], p[1], 'ko', label='original point')\n",
    "\n",
    "# update the point and plot it in terms of the original basis vectors\n",
    "q = Ab@A@sl.inv(Ab) @ p\n",
    "\n",
    "# plot it\n",
    "ax1.plot(q[0], q[1], 'k*', label='transformed point')\n",
    "\n",
    "ax1.legend(fontsize=14, bbox_to_anchor=(1.02,1), loc=\"upper left\")\n",
    "\n",
    "ax1.set_xlim(-.2,1.2)\n",
    "ax1.set_ylim(-.2,1.2)"
   ]
  },
  {
   "cell_type": "markdown",
   "metadata": {},
   "source": [
    "<div class=\"advanced\">\n",
    "\n",
    "Success!\n",
    "\n",
    "Let's print out that actual transformation matrix that takes us from the circular dot to the star in terms of the original basis vectors. The point here is that we have something that we wouldn't have been able to write down easily, but it's formed from the product of three matrices that we could easily write down.\n",
    "    \n",
    "</div>"
   ]
  },
  {
   "cell_type": "code",
   "execution_count": 6,
   "metadata": {},
   "outputs": [
    {
     "name": "stdout",
     "output_type": "stream",
     "text": [
      "[[-0.5       0.866025]\n",
      " [ 0.866025  0.5     ]]\n"
     ]
    }
   ],
   "source": [
    "print(Ab@A@sl.inv(Ab))"
   ]
  },
  {
   "cell_type": "markdown",
   "metadata": {},
   "source": [
    "<div class=\"advanced\">\n",
    "    \n",
    "Now suppose we wanted to *additionally* move the point in the direction of the line of reflection following a reflection, this is easy to do by combining (through matrix multiplication) simple transformations performed in the new basis.\n",
    "    \n",
    "</div>"
   ]
  },
  {
   "cell_type": "code",
   "execution_count": 7,
   "metadata": {},
   "outputs": [
    {
     "name": "stdout",
     "output_type": "stream",
     "text": [
      "[[-0.325     1.169134]\n",
      " [ 1.169134  1.025   ]]\n"
     ]
    },
    {
     "data": {
      "text/plain": [
       "(-0.200000, 1.200000)"
      ]
     },
     "execution_count": 7,
     "metadata": {},
     "output_type": "execute_result"
    },
    {
     "data": {
      "image/png": "[encoded data removed]",
      "text/plain": [
       "<Figure size 864x432 with 1 Axes>"
      ]
     },
     "metadata": {
      "needs_background": "light"
     },
     "output_type": "display_data"
    }
   ],
   "source": [
    "fig = plt.figure(figsize=(12, 6))\n",
    "\n",
    "ax1 = fig.add_subplot(121)\n",
    "\n",
    "ax1.set_xlabel(\"$x, x'$\", fontsize=14)\n",
    "ax1.set_ylabel(\"$y, y'$\", fontsize=14)\n",
    "ax1.set_title('Composition of transformations', fontsize=14)\n",
    "ax1.grid(True)\n",
    "\n",
    "# original basis vectors\n",
    "i = np.array([1,0])\n",
    "j = np.array([0,1])\n",
    "\n",
    "# plot the vectors\n",
    "ax1.quiver(i[0], i[1], angles='xy', scale_units='xy', scale=1, color='b', zorder=10, width=0.015)\n",
    "ax1.quiver(j[0], j[1], angles='xy', scale_units='xy', scale=1, color='b', zorder=10, width=0.015)\n",
    "\n",
    "# transform matrix for coordinates\n",
    "theta = -30 *np.pi/180 \n",
    "Ab = np.array([[np.cos(theta),-np.sin(theta)],[np.sin(theta),np.cos(theta)]])\n",
    "\n",
    "# plot a line to indicate what we are reflecting the point across\n",
    "ax1.plot([0,3*np.cos(60*np.pi/180)],[0,3*np.sin(60*np.pi/180)],'k', label='reflection plane')\n",
    "\n",
    "# transformation matrix 1 - this reflects the first component\n",
    "A1 = np.array([[-1,0],[0,1]])\n",
    "\n",
    "\n",
    "# additional linear transformation matrix - this scales the second component\n",
    "A2 = np.array([[1, 0],[0, 1.7]])\n",
    "\n",
    "\n",
    "# add a point\n",
    "p = 0.55*i + 0.45*j\n",
    "\n",
    "# plot it\n",
    "ax1.plot(p[0],p[1],'ko', label='original point')\n",
    "\n",
    "# update the point and plot it in terms of the original basis vectors\n",
    "# this is just the relfection\n",
    "q = Ab@A1@sl.inv(Ab) @p\n",
    "\n",
    "# plot it\n",
    "ax1.plot(q[0],q[1],'k*', label='transformed point 1 (just reflect)')\n",
    "\n",
    "# this is just the relfection followed by the translation along the direction given by the reflection plane\n",
    "q = Ab@A2@A1@sl.inv(Ab) @p\n",
    "print(Ab@A2@A1@sl.inv(Ab))\n",
    "# plot it\n",
    "ax1.plot(q[0],q[1],'ks', label='transformed point 2 (reflect and translate)')\n",
    "\n",
    "ax1.legend(fontsize=14, bbox_to_anchor=(1.02,1), loc=\"upper left\")\n",
    "\n",
    "ax1.set_xlim(-.2,1.2)\n",
    "ax1.set_ylim(-.2,1.2)"
   ]
  },
  {
   "cell_type": "markdown",
   "metadata": {},
   "source": [
    "<div class=\"advanced\">\n",
    "    \n",
    "In the above the additional movement was via a *scaling* (by a factor 1.7) of *one* of the transformed coordinates. \n",
    "   \n",
    "</div>"
   ]
  },
  {
   "cell_type": "markdown",
   "metadata": {},
   "source": [
    "## Transformation of a unit sphere\n",
    "\n",
    "We can also consider how all vectors (points) of a fixed unit magnitude transform by considering how a unit circle transforms under multiplication by an arbitrary matrix $A$.\n",
    "\n",
    "Imagine the circle made up of a collection of points, each representing the vector from the origin. If we transform each of these points and maintain their ordering (i.e. maintain the lines joining them which approximate a continuous circle), what shape do we arrive at? \n",
    "\n",
    "This is an extension of the transformed square examples from last lecture of course.\n",
    "\n",
    "In 3D we can of course think about a unit sphere, and so on to even higher dimensions.\n",
    "\n",
    "These concepts of thinking about matrices in terms of transformations can also be applied to non-square matrices."
   ]
  },
  {
   "cell_type": "code",
   "execution_count": 8,
   "metadata": {},
   "outputs": [
    {
     "data": {
      "text/plain": [
       "(-2.4417681887890703,\n",
       " 2.442280539208872,\n",
       " -3.3253700137371256,\n",
       " 3.324817894974686)"
      ]
     },
     "execution_count": 8,
     "metadata": {},
     "output_type": "execute_result"
    },
    {
     "data": {
      "image/png": "[encoded data removed]",
      "text/plain": [
       "<Figure size 576x576 with 1 Axes>"
      ]
     },
     "metadata": {
      "needs_background": "light"
     },
     "output_type": "display_data"
    }
   ],
   "source": [
    "fig = plt.figure(figsize=(8, 8))\n",
    "ax1 = fig.add_subplot(111)\n",
    "\n",
    "# construct points on a circle parametrically\n",
    "theta = np.linspace(0,2*np.pi,100)\n",
    "np.append(theta, 0) # add a zero at the end so we go back to the start in the plot\n",
    "\n",
    "# A 2xn array of points\n",
    "points = np.vstack( (np.cos(theta), np.sin(theta)) )\n",
    "\n",
    "ax1.set_xlabel(\"$x, x'$\", fontsize=14)\n",
    "ax1.set_ylabel(\"$y, y'$\", fontsize=14)\n",
    "ax1.set_title('Linear transformation', fontsize=14)\n",
    "ax1.grid(True)\n",
    "\n",
    "x = np.array([1,0])\n",
    "y = np.array([0,1])\n",
    "\n",
    "# plot the circle\n",
    "ax1.plot(points[0,:], points[1,:], color='blue')\n",
    "\n",
    "# plot some vectors\n",
    "ax1.quiver(x[0], x[1], angles='xy', scale_units='xy', scale=1, color='b', zorder=10)\n",
    "ax1.quiver(y[0], y[1], angles='xy', scale_units='xy', scale=1, color='b', zorder=10)\n",
    "\n",
    "\n",
    "# choose a random transformation matrix\n",
    "A = np.array([[2.2,0.3],[1.7,2.5]])\n",
    "\n",
    "xp = A@x\n",
    "yp = A@y\n",
    "pointsp = A@points\n",
    "\n",
    "# plot the transformed circle\n",
    "ax1.plot(pointsp[0,:], pointsp[1,:], color='red')\n",
    "\n",
    "# plot the transformed vectors\n",
    "ax1.quiver(xp[0], xp[1], angles='xy', scale_units='xy', scale=1, color='r', zorder=10)\n",
    "ax1.quiver(yp[0], yp[1], angles='xy', scale_units='xy', scale=1, color='r', zorder=10)\n",
    "\n",
    "# plot a subsect of vectors and how they transform\n",
    "for i, angle in enumerate(theta[::5]):  # don't use all the angles\n",
    "    #ax1.plot([0,points[0,5*i]],[0,points[1,5*i]],'k')\n",
    "    ax1.plot([points[0,5*i],pointsp[0,5*i]],[points[1,5*i],pointsp[1,5*i]],'k')\n",
    "    ax1.plot([points[0,5*i]],[points[1,5*i]],'b.')\n",
    "    ax1.plot([pointsp[0,5*i]],[pointsp[1,5*i]],'r.')\n",
    "\n",
    "# compute and plot some special directions!\n",
    "lam, vecs = sl.eig(A)\n",
    "\n",
    "# plot the unit eigenvectors\n",
    "ax1.quiver(vecs[0,0], vecs[1,0], angles='xy', scale_units='xy', scale=1, color='limegreen', zorder=20, width=0.015)\n",
    "ax1.quiver(vecs[0,1], vecs[1,1], angles='xy', scale_units='xy', scale=1, color='limegreen', zorder=20, width=0.015)\n",
    "\n",
    "# plot the scaled eigenvectors\n",
    "ax1.quiver(np.real(lam[0])*vecs[0,0], np.real(lam[0])*vecs[1,0], angles='xy', scale_units='xy', \n",
    "           scale=1, color='g', zorder=30)\n",
    "ax1.quiver(np.real(lam[1])*vecs[0,1], np.real(lam[1])*vecs[1,1], angles='xy', scale_units='xy', \n",
    "           scale=1, color='g', zorder=30)\n",
    "\n",
    "ax1.axis('equal')"
   ]
  },
  {
   "cell_type": "markdown",
   "metadata": {},
   "source": [
    "The blue arrows are the original basis vectors, the red are what they transform to (the colums of $A$ here) - we've seen this sort of thing already. \n",
    "\n",
    "\n",
    "The blue dots show a subset of the points (at a finite resolution - `theta[::5]` in the code above \"prunes\" the number of points), showing how unit vectors or points on the initial unit circe map (in blue) map to new locations indicated by the red dots with black likes in between clarifying the correspondence.\n",
    "\n",
    "Note how  the new locations/vectors now map out a (non-unit) ellipse (some stretching and rotation has gone on).\n",
    "\n",
    "I have also added some *special* vectors/directions here - notice that the green arrows do not change their orientation, only their magnitude!\n",
    "\n",
    "These are special directions we will talk above shortly.\n",
    "\n",
    "But first ..."
   ]
  },
  {
   "cell_type": "markdown",
   "metadata": {},
   "source": [
    "## A symmetric positive definite case\n",
    "\n",
    "Let's try a case where the matrix is so-called *symmetric-positive-definite* (which we will define later in this lecture)."
   ]
  },
  {
   "cell_type": "code",
   "execution_count": 9,
   "metadata": {
    "scrolled": false
   },
   "outputs": [
    {
     "data": {
      "text/plain": [
       "(-4.33336363843506, 4.332091732203538, -3.935385214930017, 3.9339830396970585)"
      ]
     },
     "execution_count": 9,
     "metadata": {},
     "output_type": "execute_result"
    },
    {
     "data": {
      "image/png": "[encoded data removed]",
      "text/plain": [
       "<Figure size 576x576 with 1 Axes>"
      ]
     },
     "metadata": {
      "needs_background": "light"
     },
     "output_type": "display_data"
    }
   ],
   "source": [
    "fig = plt.figure(figsize=(8, 8))\n",
    "ax1 = fig.add_subplot(111)\n",
    "\n",
    "# construct points on a circle parametrically\n",
    "theta = np.linspace(0,2*np.pi,100)\n",
    "np.append(theta, 0) # add a zero at the end so we go back to the start in the plot\n",
    "\n",
    "# A 2xn array of points\n",
    "points = np.vstack( (np.cos(theta), np.sin(theta)) )\n",
    "\n",
    "ax1.set_xlabel(\"$x, x'$\", fontsize=14)\n",
    "ax1.set_ylabel(\"$y, y'$\", fontsize=14)\n",
    "ax1.set_title('Linear transformation', fontsize=14)\n",
    "ax1.grid(True)\n",
    "\n",
    "x = np.array([1,0])\n",
    "y = np.array([0,1])\n",
    "\n",
    "\n",
    "# plot the circle\n",
    "ax1.plot(points[0,:], points[1,:], color='blue')\n",
    "\n",
    "# plot some vectors\n",
    "ax1.quiver(x[0], x[1], angles='xy', scale_units='xy', scale=1, color='b', zorder=10)\n",
    "ax1.quiver(y[0], y[1], angles='xy', scale_units='xy', scale=1, color='b', zorder=10)\n",
    "\n",
    "# an SPD example matrix\n",
    "A = 2*np.array([[1.8,0.8],[0.8,1.6]])\n",
    "\n",
    "xp = A@x\n",
    "yp = A@y\n",
    "pointsp = A@points\n",
    "\n",
    "# plot the transformed circle\n",
    "ax1.plot(pointsp[0,:], pointsp[1,:], color='red')\n",
    "\n",
    "# plot the transformed vectors\n",
    "ax1.quiver(xp[0], xp[1], angles='xy', scale_units='xy', scale=1, color='r', zorder=10)\n",
    "ax1.quiver(yp[0], yp[1], angles='xy', scale_units='xy', scale=1, color='r', zorder=10)\n",
    "\n",
    "# plot a subsect of vectors and how they transform\n",
    "for i, angle in enumerate(theta[::5]):  # don't use all the angles\n",
    "    #ax1.plot([0,points[0,5*i]],[0,points[1,5*i]],'k')\n",
    "    ax1.plot([points[0,5*i],pointsp[0,5*i]],[points[1,5*i],pointsp[1,5*i]],'k')\n",
    "    ax1.plot([points[0,5*i]],[points[1,5*i]],'b.')\n",
    "    ax1.plot([pointsp[0,5*i]],[pointsp[1,5*i]],'r.')\n",
    "\n",
    "# compute and plot some special directions!\n",
    "lam, vecs = sl.eig(A)\n",
    "\n",
    "# plot the unit eigenvectors\n",
    "ax1.quiver(vecs[0,0], vecs[1,0], angles='xy', scale_units='xy', scale=1, color='limegreen', zorder=20, width=0.015)\n",
    "ax1.quiver(vecs[0,1], vecs[1,1], angles='xy', scale_units='xy', scale=1, color='limegreen', zorder=20, width=0.015)\n",
    "\n",
    "# plot the scaled eigenvectors\n",
    "ax1.quiver(np.real(lam[0])*vecs[0,0], np.real(lam[0])*vecs[1,0], angles='xy', scale_units='xy', \n",
    "           scale=1, color='g', zorder=30)\n",
    "ax1.quiver(np.real(lam[1])*vecs[0,1], np.real(lam[1])*vecs[1,1], angles='xy', scale_units='xy', \n",
    "           scale=1, color='g', zorder=30)\n",
    "\n",
    "ax1.axis('equal')"
   ]
  },
  {
   "cell_type": "markdown",
   "metadata": {},
   "source": [
    "In this case notice that the *special* directions correspond with the [semi-major and semi-minor axes](https://en.wikipedia.org/wiki/Semi-major_and_semi-minor_axes) of the ellipse.\n",
    "\n",
    "But what are these special directions - that are purely scaled (direction is unchanged) when pre-multiplying by this matrix?\n",
    "\n",
    "\n",
    "<br>\n",
    "\n",
    ".... next section!"
   ]
  },
  {
   "cell_type": "markdown",
   "metadata": {},
   "source": [
    "# Eigenvalues and eigenvectors\n",
    "\n",
    "In the previous lecture we were largely motivated by the solution of linear systems.\n",
    "\n",
    "Another common task is finding the eigenvalues and eigenvectors for a given square $n\\times n$ matrix $A$. (We will see some reasons why a bit later).\n",
    "\n",
    "That is, find scalars $\\lambda$ and corresponding non-zero vectors $\\boldsymbol{v}$ such that\n",
    "\n",
    "$$ A \\boldsymbol{v} = \\lambda \\boldsymbol{v} $$\n",
    "\n",
    "What is this achieving? \n",
    "\n",
    "\n",
    "- Mathematically: we can think of this as finding the directions $\\boldsymbol{v}$ in $n$-dimensional space, where the action of $A$ applied to that direction is simply to scale it - the direction being unchanged.\n",
    "\n",
    "\n",
    "- Geometrically: we saw examples of these vectors/directions in the two examples above."
   ]
  },
  {
   "cell_type": "markdown",
   "metadata": {},
   "source": [
    "## How to find eigenvalues and eigenvectors\n",
    "\n",
    "Suppose we want to find the eigenvalues and eigenvectors of\n",
    "\n",
    "$$ A = \n",
    "\\left(\n",
    "  \\begin{array}{rr}\n",
    "    3 & 1 \\\\\n",
    "    1 & 3  \n",
    "  \\end{array}\n",
    "\\right)\n",
    "$$\n",
    "\n",
    "Well starting from \n",
    "\n",
    "\\begin{align*}\n",
    "A \\boldsymbol{v} &= \\lambda \\boldsymbol{v}\\\\\n",
    "\\iff A \\boldsymbol{v} - \\lambda \\boldsymbol{v} &= 0\\\\\n",
    "\\iff (A - \\lambda I) \\boldsymbol{v} &= 0\n",
    "\\end{align*}\n",
    "\n",
    "If the matrix $A-\\lambda I$ is invertible then the solution to this equation is clearly only $\\boldsymbol{v}=\\boldsymbol{0}$. \n",
    "\n",
    "We do *not* want this trivial solution.\n",
    "\n",
    "We are looking for non-trivial solutions to this problem and so we want to find the $\\lambda$ values that mean that\n",
    "$A-\\lambda I$ is *not* invertible.\n",
    "\n",
    "Note that this only makes sense when $A$ is a square matrix. \n",
    "\n",
    "[For non-square matrices we can generalise this concept by introducing [*singular values*](https://en.wikipedia.org/wiki/Singular_value_decomposition) which will be touched upon briefly in the next lecture and comes up more in later modules on Inversion and Optimisation, and Machine Learning.]."
   ]
  },
  {
   "cell_type": "markdown",
   "metadata": {},
   "source": [
    "# The determinant again, and its use in finding eigenvalues\n",
    "\n",
    "So for both linear systems (last lecture) and eigenvalues/vectors, we need a method to determine whether a given matrix is invertible or not - the determinant of the matrix tells us this as we covered in detail in the last lecture."
   ]
  },
  {
   "cell_type": "markdown",
   "metadata": {},
   "source": [
    "## An example eigenvalue problem\n",
    "\n",
    "Consider again the eigenvalue problem for the matrix \n",
    "\n",
    "$$ A = \n",
    "\\left(\n",
    "  \\begin{array}{rr}\n",
    "    3 & 1 \\\\\n",
    "    1 & 3  \n",
    "  \\end{array}\n",
    "\\right)\n",
    "$$\n",
    "\n",
    "\n",
    "As stated above, we are looking for non-trivial solutions to this problem and so we want to find the $\\lambda$ values that mean that $A-\\lambda I$ is *not* invertible, \n",
    "\n",
    "i.e. has zero determinant.\n",
    "\n",
    "So we need to solve the equation\n",
    "\n",
    "$$ \\det (A - \\lambda I) = 0$$\n",
    "\n",
    "this boils down to a polynomial equation for which we want to find its [roots](http://mathworld.wolfram.com/PolynomialRoots.html) $\\lambda$:\n",
    "\n",
    "$$ 0 =  \\det (A - \\lambda I) = \n",
    "\\left|\n",
    "  \\begin{array}{rr}\n",
    "    3-\\lambda & 1 \\\\\n",
    "    1 & 3-\\lambda  \n",
    "  \\end{array}\n",
    "\\right|\n",
    "= (3-\\lambda)^2 - 1 = \\lambda^2 - 6\\lambda + 8 = (\\lambda-4)(\\lambda-2)\n",
    "$$\n",
    "\n",
    "so the eigenvalues are\n",
    "\n",
    "$$\\lambda_1 = 4\\quad\\text{and}\\quad \\lambda_2 = 2$$\n",
    "\n",
    "Note to do the final step I could see how to [factor](https://en.wikipedia.org/wiki/Factorization) the quadratic expression to find the roots, alternatively you could have used the formula for the roots of a quadratic (in this $2\\times 2$ case).\n",
    "\n",
    "Note that the polynomial $\\det (A - \\lambda I)$ is termed the [*characteristic polynomial*](https://en.wikipedia.org/wiki/Characteristic_polynomial) of $A$ - the eigenvalues are the roots of the characteristic polynomial.\n",
    "\n",
    "You should be able to see that for an $n\\times n$ matrix the characteristic polynomial will be of degree $n$ and hence we will be able to find $n$ roots (eigenvalues), but even if $A$ is a real matrix some of these eigenvalues may be complex (they will appear as complex conjugate pairs), and some may be repeated.\n",
    "\n",
    "We can check our result against a SciPy function (`sl.eigvals`, see also `sl.eig`) to return the eigenvalues:"
   ]
  },
  {
   "cell_type": "code",
   "execution_count": 10,
   "metadata": {},
   "outputs": [
    {
     "name": "stdout",
     "output_type": "stream",
     "text": [
      "e'vals:  [4.+0.j 2.+0.j]\n",
      "Real(e'vals):  [4. 2.]\n"
     ]
    }
   ],
   "source": [
    "A = np.array([[3,1],[1,3]])\n",
    "print(\"e'vals: \", sl.eigvals( A ))\n",
    "# and if we know that the eigenvalues are real we can extract the real part:\n",
    "print(\"Real(e'vals): \", np.real(sl.eigvals( A )))"
   ]
  },
  {
   "cell_type": "markdown",
   "metadata": {},
   "source": [
    "As we've found roots of a quadratic polynomial note that it's returned a complex number, in this case with the imaginary component being zero. \n",
    "\n",
    "We can therefore safely take only the real component and see that this agrees with our calculation."
   ]
  },
  {
   "cell_type": "markdown",
   "metadata": {},
   "source": [
    "Now let's find the eigenvectors.\n",
    "\n",
    "Consider the first eigenvalue $\\lambda_1 = 4$.\n",
    "\n",
    "We want to find the vector $\\boldsymbol{v}$ such that\n",
    "\n",
    "$$A \\boldsymbol{v} = \\lambda \\boldsymbol{v} \\iff (A-\\lambda I) \\boldsymbol{v} =\\boldsymbol{0}$$\n",
    "\n",
    "which for our current example reads\n",
    "\n",
    "$$\n",
    "\\left(\n",
    "  \\begin{array}{rr}\n",
    "    3 & 1 \\\\\n",
    "    1 & 3  \n",
    "  \\end{array}\n",
    "\\right)\n",
    "\\left(\n",
    "  \\begin{array}{r}\n",
    "    v_1 \\\\\n",
    "    v_2  \n",
    "  \\end{array}\n",
    "\\right)\n",
    "  = 4\n",
    "  \\left(\n",
    "  \\begin{array}{r}\n",
    "    v_1 \\\\\n",
    "    v_2  \n",
    "  \\end{array}\n",
    "\\right)\n",
    "$$\n",
    "\n",
    "or \n",
    "\n",
    "$$\n",
    "\\left(\n",
    "  \\begin{array}{rr}\n",
    "    -1 & 1 \\\\\n",
    "    1 & -1  \n",
    "  \\end{array}\n",
    "\\right)\n",
    "\\left(\n",
    "  \\begin{array}{r}\n",
    "    v_1 \\\\\n",
    "    v_2  \n",
    "  \\end{array}\n",
    "\\right)\n",
    "  = \n",
    "  \\left(\n",
    "  \\begin{array}{r}\n",
    "    0 \\\\\n",
    "    0  \n",
    "  \\end{array}\n",
    "\\right)\n",
    "$$\n",
    "\n",
    "This clearly has the solution $v_1=v_2$ and emphasises the point that eigenvectors corresponding to a single eigenvalue are not unique - you can always multiply they by a constant (so their direction doesn't change, just their magnitude). \n",
    "\n",
    "It's common to fix the arbitrariness by normalising them, i.e. asking that \n",
    "\n",
    "$$\\|\\boldsymbol{v} \\| = \\sqrt{v_1^2+v_2^2} = 1$$\n",
    "\n",
    "in which case we can say that $\\boldsymbol{v}$ is a *unit vector*.\n",
    "\n",
    "(NB. we will firm up our understanding of norms $\\|\\cdot\\|$ a little later.)\n",
    "\n",
    "Since we established that $v_1=v_2$, these two equations allows us to conclude that\n",
    "\n",
    "$$\\boldsymbol{v}_1 =   \n",
    "\\left(\n",
    "  \\begin{array}{r}\n",
    "    \\frac{1}{\\sqrt{2}} \\\\\n",
    "    \\frac{1}{\\sqrt{2}}  \n",
    "  \\end{array}\n",
    "\\right)\n",
    "$$\n",
    "\n",
    "As an exercise you can work out that second eigenvector - what relationship does it have with the first?"
   ]
  },
  {
   "cell_type": "code",
   "execution_count": 11,
   "metadata": {},
   "outputs": [
    {
     "name": "stdout",
     "output_type": "stream",
     "text": [
      "v1 = [0.707107 0.707107] \n",
      "\n",
      "v2 = [-0.707107  0.707107] \n",
      "\n",
      "0.0\n",
      "0.0\n",
      "0.9999999999999998\n",
      "0.9999999999999998\n"
     ]
    }
   ],
   "source": [
    "A = np.array([[3., 1.], [1.,3.]])\n",
    "lam1 = 4\n",
    "v1 = np.array([1./np.sqrt(2), 1./np.sqrt(2)])\n",
    "\n",
    "print('v1 =', v1, '\\n')\n",
    "\n",
    "v2 = np.array([-v1[1], v1[0]])\n",
    "\n",
    "print('v2 =', v2, '\\n')\n",
    "\n",
    "print(np.dot(v1,v2))\n",
    "\n",
    "print(v1.dot(v2))\n",
    "\n",
    "print(v1.dot(v1))\n",
    "print(v2.dot(v2))"
   ]
  },
  {
   "cell_type": "markdown",
   "metadata": {},
   "source": [
    "And we can check the eigenvalues and eigenvectors we have calculated against SciPy (this time using `sl.eig` which returns the eigenvalues and the eigenvectors):"
   ]
  },
  {
   "cell_type": "code",
   "execution_count": 12,
   "metadata": {},
   "outputs": [
    {
     "name": "stdout",
     "output_type": "stream",
     "text": [
      "[4.+0.j 2.+0.j]\n",
      "[[ 0.707107 -0.707107]\n",
      " [ 0.707107  0.707107]]\n",
      "[0.707107 0.707107]\n",
      "[-0.707107  0.707107]\n"
     ]
    }
   ],
   "source": [
    "A = np.array([[3,1],[1,3]])\n",
    "evals, evecs = sl.eig( A )\n",
    "print(evals)\n",
    "print(evecs)\n",
    "print(evecs[:,0])\n",
    "print(evecs[:,1])"
   ]
  },
  {
   "cell_type": "markdown",
   "metadata": {},
   "source": [
    "Let's verify by substituting what we've worked our back into the expression \n",
    "\n",
    "$$ A \\boldsymbol{v} = \\lambda \\boldsymbol{v} $$\n",
    "\n",
    "that our eigenvalues and eigenvectors are correct:"
   ]
  },
  {
   "cell_type": "code",
   "execution_count": 13,
   "metadata": {
    "scrolled": true
   },
   "outputs": [
    {
     "name": "stdout",
     "output_type": "stream",
     "text": [
      "A = \n",
      " [[3. 1.]\n",
      " [1. 3.]] \n",
      "\n",
      "v1 = [0.707107 0.707107] \n",
      "\n",
      "A@v1 = \n",
      " [2.828427 2.828427] \n",
      "\n",
      "A @ v1 = lam1 * v1:   True\n"
     ]
    }
   ],
   "source": [
    "A = np.array([[3., 1.], [1.,3.]])\n",
    "\n",
    "lam1 = 4\n",
    "v1 = np.array([1./np.sqrt(2), 1./np.sqrt(2)])\n",
    "\n",
    "print('A = \\n', A, '\\n')\n",
    "print('v1 =', v1, '\\n')\n",
    "print('A@v1 = \\n', A@v1, '\\n')\n",
    "\n",
    "# we can check if our result is (approximately) correct with\n",
    "print('A @ v1 = lam1 * v1:  ', np.allclose(A@v1 , lam1*v1))"
   ]
  },
  {
   "cell_type": "markdown",
   "metadata": {},
   "source": [
    "For symmetric matrices (as is the case here) it can be shown that the eigenvectors will be *orthogonal* to one another (and as a consequence linearly independent/unique - this is not necessarily true for non-symmetric matrices as we will see below).\n",
    "\n",
    "As above we can scale them to be unit vectors (normalised).\n",
    "\n",
    "If both are satisfied (orthogonal to one another, and all normalised) we say that the eigenvectors are [*orthonormal*](https://en.wikipedia.org/wiki/Orthonormality).\n",
    "\n",
    "We can verify that they are of unit length by computing the Euclidean norm, or equivalently via the [dot product](https://en.wikipedia.org/wiki/Dot_product) of the vector with itself:\n",
    "\n",
    "$$\\|\\boldsymbol{v}\\|_2 = \\sqrt{v_1^2 + v_2^2} = \\sqrt{\\boldsymbol{v} \\cdot \\boldsymbol{v}} = \\sqrt{\\boldsymbol{v}^T\\boldsymbol{v}}$$\n",
    "\n",
    "and so $||\\boldsymbol{v}||_2 = 1 \\iff \\boldsymbol{v} \\cdot \\boldsymbol{v}=1 $, (in which case we call them unit vectors, or normalised vectors)\n",
    "\n",
    "\n",
    "and they are orthogonal to one another via: \n",
    "\n",
    "$$\\boldsymbol{v}_1 \\cdot \\boldsymbol{v}_2=0$$\n",
    "\n",
    "Let's check these in a few different ways:"
   ]
  },
  {
   "cell_type": "code",
   "execution_count": 14,
   "metadata": {},
   "outputs": [
    {
     "name": "stdout",
     "output_type": "stream",
     "text": [
      "0.9999999999999998\n",
      "0.9999999999999998\n",
      "0.9999999999999998\n",
      "0.9999999999999998\n",
      "0.9999999999999999\n",
      "\n",
      " 0.0\n"
     ]
    }
   ],
   "source": [
    "v1 = evecs[:,0]\n",
    "v2 = evecs[:,1]\n",
    "# check the dot product of vectors with themselves, in various ways!\n",
    "print(v1.dot(v1))\n",
    "print(v2.dot(v2))\n",
    "print(np.dot(v1,v1))\n",
    "print(v2.T@v2)\n",
    "print(sl.norm(v2,2))\n",
    "\n",
    "print('\\n',v1.dot(v2))"
   ]
  },
  {
   "cell_type": "markdown",
   "metadata": {},
   "source": [
    "## What does linear (in)dependence mean?\n",
    "\n",
    "We covered this last lecture in the context of the solvability of linear systems. \n",
    "\n",
    "As a reminder (this time describing it in a more formal mathematical way compared to the previous lecture):\n",
    "\n",
    "we say that a set of vectors $V:=\\{\\boldsymbol{v}_i\\}$ are linearly independent if for all $(\\forall)$ $\\boldsymbol{v}_j \\in V$ we *cannot* write it as a linear combination of the *other* vectors in $V$, \n",
    "\n",
    "i.e. we *cannot* find scalars $\\alpha_i$ such that \n",
    "\n",
    "$$ \\boldsymbol{v}_j = \\sum_{i=1,i\\neq j}^n \\alpha_i \\boldsymbol{v}_i$$\n",
    "\n",
    "Equivalently, the vectors are linearly independent (*l.i.*) if the equation\n",
    "\n",
    "$$\\sum_{i=1}^n \\alpha_i \\boldsymbol{v}_i = \\boldsymbol{0}$$\n",
    "\n",
    "has *only the trivial solution*: $\\alpha_i = 0$, $\\forall i$.\n",
    "\n",
    "Or the way we explained it in the previous lecture: $n$ vectors are *l.i.* if they span $n$-dimensional space - we can use a weighted sum of them to reach *any* point in that space."
   ]
  },
  {
   "cell_type": "markdown",
   "metadata": {},
   "source": [
    "## Repeated eigenvalues - algebraic & geometric multiplicity\n",
    "\n",
    "Sometimes we will find the same eigenvalue repeated, for example:"
   ]
  },
  {
   "cell_type": "code",
   "execution_count": 15,
   "metadata": {},
   "outputs": [
    {
     "name": "stdout",
     "output_type": "stream",
     "text": [
      "[1.+0.j 1.+0.j]\n",
      "[[1. 0.]\n",
      " [0. 1.]]\n",
      "1.0\n",
      "1.0\n",
      "0.0\n"
     ]
    }
   ],
   "source": [
    "A = np.array([[1,0],[0,1]])\n",
    "evals, evecs = sl.eig( A )\n",
    "print(evals)\n",
    "print(evecs)\n",
    "print(evecs[:,0].dot(evecs[:,0]))\n",
    "print(evecs[:,1].dot(evecs[:,1]))\n",
    "print(evecs[:,0].dot(evecs[:,1]))"
   ]
  },
  {
   "cell_type": "markdown",
   "metadata": {},
   "source": [
    "As $\\lambda = 1$ appears twice we say it is an eigenvalue of **algebraic multiplicity** 2.\n",
    "\n",
    "In this case we *are able* to find two orthogonal eigenvectors (as for this case the matrix is again symmetric) that correspond to this eigenvalue.\n",
    "\n",
    "Since they are orthogonal they span a 2D space (called the **eigenspace**), and we say that the eigenvalue has **geometric multiplicity** 2 (the dimension of the corresponding eigenspace - which is the dimension of the nullspace of $A-\\lambda I$ of course).\n",
    "\n",
    "Let's consider another case:"
   ]
  },
  {
   "cell_type": "code",
   "execution_count": 16,
   "metadata": {},
   "outputs": [
    {
     "name": "stdout",
     "output_type": "stream",
     "text": [
      "[1.+0.j 1.+0.j]\n",
      "[[ 1.000000e+00 -1.000000e+00]\n",
      " [ 0.000000e+00  2.220446e-16]]\n",
      "1.0\n",
      "1.0\n",
      "-1.0\n"
     ]
    }
   ],
   "source": [
    "A = np.array([[1,1],[0,1]])\n",
    "evals, evecs = sl.eig( A )\n",
    "print(evals)\n",
    "print(evecs)\n",
    "print(evecs[:,0].dot(evecs[:,0]))\n",
    "print(evecs[:,1].dot(evecs[:,1]))\n",
    "print(evecs[:,0].dot(evecs[:,1]))"
   ]
  },
  {
   "cell_type": "markdown",
   "metadata": {},
   "source": [
    "In this case we do NOT have two linearly independent vectors - the eigenspace is only 1D.\n",
    "\n",
    "Thus for this case while the eigenvalue's *algebraic multiplicity* is again 2,  the *geometric multiplicity* is only 1 - these two vectors only span a 1D space.\n",
    "\n",
    "(So if you think about it the names *algebraic* and *geometric* multiplicity make perfect sense!)"
   ]
  },
  {
   "cell_type": "markdown",
   "metadata": {},
   "source": [
    "## Some useful theoretical results about eigenvalues/vectors\n",
    "\n",
    "We won't prove any of the following, but you could check by trying a few examples that the following appear to hold.\n",
    "\n",
    "\n",
    "\n",
    "1. The eigenvalues of symmetric real matrices are *always real*.\n",
    "\n",
    "\n",
    "\n",
    "2. Eigenvectors corresponding to distinct eigenvalues are always *linearly independent*. (For repeated eigenvalues we **may be able** to find the corresponding number of linearly independent eigenvectors).\n",
    "\n",
    "\n",
    "\n",
    "3. The eigenvectors of a symmetric real matrix, corresponding to *distinct* eigenvalues, are mutually *orthogonal*.\n",
    "\n",
    "\n",
    "\n",
    "4. A consequence of this is that, if a symmetric real matrix has all distinct eigenvalues, then \n",
    "    - the matrix of normalised (i.e. of unit length) eigenvectors is orthogonal: $P^TP = I$. (If we don't bother to normalise them first then $P^TP$ would instead be diagonal).\n",
    "    - the normalised vectors form an *orthonormal basis* for $n$-dimensional Euclidean space."
   ]
  },
  {
   "cell_type": "markdown",
   "metadata": {},
   "source": [
    "<div class=\"optional\">\n",
    "    \n",
    "## Symmetric Positive-Definite (SPD) matrices [*]\n",
    "\n",
    "[Symmetric positive-definite](https://en.wikipedia.org/wiki/Definiteness_of_a_matrix) matrices appear all over the place, in physics as well as the result of numerical discretisation.\n",
    "\n",
    "A symmetric matrix $A$ is said to be positive-definite if \n",
    "\n",
    "$$\\boldsymbol{x}^T A \\boldsymbol{x} >0 \\qquad \\forall \\boldsymbol{x}\\ne \\boldsymbol{0} $$\n",
    "\n",
    "One can show that a symmetric matrix is positive definite as well if and only if all of its eigenvalues are strictly positive.\n",
    "\n",
    "Similar definitions exist for semi-definite, negative-definite etc.\n",
    "\n",
    "Some properties of matrices such as these can be found here:\n",
    "<https://en.wikipedia.org/wiki/Definiteness_of_a_matrix#Properties>\n",
    "\n",
    "\n",
    "<br>\n",
    "\n",
    "<br>\n",
    "\n",
    "Recall the plot of a circle being transformed into an ellipse above - the case of a SPD matrix corresponded to the eigenvectors being aligned with the major and minor axes of the ellipse.\n",
    "\n",
    "<br>\n",
    "\n",
    "<br>\n",
    "\n",
    "### Diagonal dominance\n",
    "\n",
    "Other than checking that all eigenvalues are positive, another check that is useful for matrices we often see in practice is to check that the diagonal entries are positive, and that their entries make them [*strictly diagonally dominant*](https://en.wikipedia.org/wiki/Diagonally_dominant_matrix):\n",
    "\n",
    "$$ |A_{ii}| >  \\sum_{\\substack{j=1\\\\ j\\ne i}}^n \\, |A_{ij}|, \\;\\;\\;\\;  i=1,2,\\ldots, n.$$\n",
    "\n",
    "</div>"
   ]
  },
  {
   "cell_type": "markdown",
   "metadata": {},
   "source": [
    "# Matrix diagonalisation\n",
    "\n",
    "A further consequence/related concept is that a square $n \\times n$ matrix $A$ with $n$ **distinct** eigenvalues is diagonalisable.\n",
    "\n",
    "This means that we can find a matrix $P$ such that we decompose or factorize the matrix in the following way\n",
    "\n",
    "$$A = P\\Lambda P^{-1}$$\n",
    "\n",
    "where $\\Lambda$ is a diagonal matrix. \n",
    "\n",
    "Said another way, there exists a transformation matrix $P$ such that\n",
    "\n",
    "$$P^{-1}AP\\quad\\text{is a diagonal matrix}$$\n",
    "\n",
    "<br>\n",
    "\n",
    "Note that the converse is not true - a matrix **may be** diagonalisable even if it does not have distinct eigenvalues, i.e. has repeated eigenvalues."
   ]
  },
  {
   "cell_type": "markdown",
   "metadata": {},
   "source": [
    "## Symmetric real matrices\n",
    "\n",
    "In the special case of a symmetric real matrix, it can ***always*** *be diagonalised* using an [orthogonal matrix](https://en.wikipedia.org/wiki/Orthogonal_matrix):\n",
    "\n",
    "$$A = Q\\Lambda Q^T \\quad \\iff \\quad \\Lambda = Q^T A Q$$\n",
    "\n",
    "A consequence is that any $n\\times n$ real symmetric matrix must possess $n$ mutually orthogonal eigenvectors, even if it has repeated eigenvalues (so we actually have a stronger result than 4 above).\n",
    "\n",
    "[Aside: The slight contradiction in this phrasing you may spot here is due to the fact that the eigenvectors corresponding to repeated eigenvalues, while chosen to be l.i. in order to span the corresponding eigenspace, won't be automatically orthogonal. However, we can construct or choose orthogonal eigenvectors - the [Gram-Schmidt process](https://en.wikipedia.org/wiki/Gram%E2%80%93Schmidt_process) is a method that can be used to achive this]."
   ]
  },
  {
   "cell_type": "markdown",
   "metadata": {},
   "source": [
    "<div class=\"optional\">\n",
    "\n",
    "## When is a matrix diagonalisable? [\\*]\n",
    "\n",
    "An $n \\times n$ matrix $A$ is diagonalisable if and only if for all eigenvalues the algebraic and geometric multiplicities are equal, equivalently the sum of the geometric multiplicities is $n$ - we'll see why in the next cell. \n",
    "\n",
    "This just means we need to be able to find $n$ linearly independent eigenvectors (even if some of the eigenvalues are repeated).\n",
    "\n",
    "For more details see <https://en.wikipedia.org/wiki/Diagonalizable_matrix>.\n",
    "\n",
    "What if we can't find $n$ l.i. eigenvectors? Then the [Jordan normal form](https://en.wikipedia.org/wiki/Jordan_normal_form)  is the best we can do, which is still useful for certain tasks.\n",
    "    \n",
    "</div>"
   ]
  },
  {
   "cell_type": "markdown",
   "metadata": {},
   "source": [
    "<div class=\"optional\">\n",
    "    \n",
    "### The details\n",
    "\n",
    "Why do we need linearly independent eigenvectors?\n",
    "\n",
    "Consider an $n\\times n$ matrix $A$ with eigenvalues $\\boldsymbol{v}_i$ and corresponding eigenvalues $\\lambda_i$, $i=1,\\ldots, n$.\n",
    "\n",
    "Define $P$ to be the matrix of eigenvectors making up its columns:\n",
    "\n",
    "$$P = \\left[ \\; \\boldsymbol{v}_1 \\;\\;  \\boldsymbol{v}_2  \\; \\; \\cdots \\; \\;  \\boldsymbol{v}_n \\; \\right]$$\n",
    "\n",
    "and $\\Lambda$ the diagonal matrix of eigenvectors:\n",
    "\n",
    "$$\\Lambda = \\begin{pmatrix}\n",
    "\\lambda_1 & 0 &  \\cdots & 0 \\\\\n",
    "0 & \\lambda_2 &  \\ddots & 0\\\\\n",
    "\\vdots & &  \\ddots  & \\vdots \\\\\n",
    "0 & \\cdots & 0 & \\lambda_n\n",
    "\\end{pmatrix}$$\n",
    "\n",
    "Then based on what we've seen about matrix-vector multiplication several times already, i.e. it acts on the columns independently, we have\n",
    "\n",
    "\\begin{align*}\n",
    "AP & = A \\left[ \\; \\boldsymbol{v}_1 \\;\\;  \\boldsymbol{v}_2  \\; \\; \\cdots \\; \\;  \\boldsymbol{v}_n \\; \\right] \\\\[5pt]\n",
    "& = \\left[ \\;  \\lambda_1\\boldsymbol{v}_1 \\;\\;   \\lambda_2\\boldsymbol{v}_2  \\; \\; \\cdots \\; \\;  \\lambda_n\\boldsymbol{v}_n \\; \\right] \\\\[15pt]\n",
    "& = \\left[ \\; \\boldsymbol{v}_1 \\;\\;  \\boldsymbol{v}_2  \\; \\; \\cdots \\; \\;  \\boldsymbol{v}_n \\; \\right]\n",
    "\\begin{pmatrix}\n",
    "\\lambda_1 & 0 &  \\cdots & 0 \\\\\n",
    "0 & \\lambda_2 &  \\ddots & 0\\\\\n",
    "\\vdots & &  \\ddots  & \\vdots \\\\\n",
    "0 & \\cdots & 0 & \\lambda_n\n",
    "\\end{pmatrix}\\\\[15pt]\n",
    "& = P\n",
    "\\begin{pmatrix}\n",
    "\\lambda_1 & 0 &  \\cdots & 0 \\\\\n",
    "0 & \\lambda_2 &  \\ddots & 0\\\\\n",
    "\\vdots & &  \\ddots  & \\vdots \\\\\n",
    "0 & \\cdots & 0 & \\lambda_n\n",
    "\\end{pmatrix}\n",
    "\\end{align*}\n",
    "\n",
    "<br>\n",
    "\n",
    "This is good, but to finish things and to obtain the diagonalisation we are reliant on $P$ being invertible. \n",
    "\n",
    "$P$ is the matrix of eigenvectors. \n",
    "\n",
    "$P$ is therefore invertible (and we thus have a diagonalisation of the matrix) if and only if the eigenvectors are linearly independent. This is one of the equivalent properties of a matrix being invertible that we saw earlier.\n",
    "\n",
    "In which case we post-multiply both sides by $P^{-1}$:\n",
    "\n",
    "\\begin{align*}\n",
    "AP = P \\Lambda \\implies A = P \\Lambda P^{-1}\n",
    "\\end{align*}\n",
    "\n",
    "</div>"
   ]
  },
  {
   "cell_type": "markdown",
   "metadata": {},
   "source": [
    "<div class=\"optional\">\n",
    "    \n",
    "### An example\n",
    "\n",
    "Let's consider the problem from above, use the eigenvalues and eigenvectors we found to construct $P$ and $\\Lambda$ and check that their combination is indeed equal to $A$:\n",
    "    \n",
    "</div>"
   ]
  },
  {
   "cell_type": "code",
   "execution_count": 17,
   "metadata": {},
   "outputs": [
    {
     "name": "stdout",
     "output_type": "stream",
     "text": [
      "A = P \\Lambda P^{-1}:   True\n",
      "A = P \\Lambda P^T:   True\n"
     ]
    }
   ],
   "source": [
    "A = np.array([[3., 1.], [1.,3.]])\n",
    "lam1 = 4\n",
    "# use the non-dimensionalised, i.e. unit length e-vecs\n",
    "v1 = np.array([1./np.sqrt(2), 1./np.sqrt(2)])\n",
    "lam2 = 2\n",
    "v2 = np.array([-v1[1],v1[0]])\n",
    "\n",
    "# force v1 and v2 to be column vecs\n",
    "v1.shape = (2,1)\n",
    "v2.shape = (2,1)\n",
    "\n",
    "# and stack them into the matrix P\n",
    "P = np.hstack((v1,v2))\n",
    "# and form the diagonal matrix with e'vals on the main diagonal\n",
    "Lambda = np.diag(np.array([lam1,lam2]))\n",
    "\n",
    "# we can check if our result is (approximately - read the docs) correct with\n",
    "print('A = P \\Lambda P^{-1}:  ', np.allclose(A , P@Lambda@(sl.inv(P))))\n",
    "print('A = P \\Lambda P^T:  ', np.allclose(A , P@Lambda@((P.T))))"
   ]
  },
  {
   "cell_type": "markdown",
   "metadata": {},
   "source": [
    "Now let's check how we can form the diagonalisation using the outputs from `sl.eig`."
   ]
  },
  {
   "cell_type": "code",
   "execution_count": 18,
   "metadata": {},
   "outputs": [
    {
     "name": "stdout",
     "output_type": "stream",
     "text": [
      "[4.+0.j 2.+0.j]\n",
      "[[ 0.707107 -0.707107]\n",
      " [ 0.707107  0.707107]]\n",
      "The P we constructed is the same matrix you get from sl.eig: True\n",
      "The diagonal Lambda matrix we constructed is the same matrix you get from sl.eig: False\n",
      " Our Lambda matrix = \n",
      "  [[4 0]\n",
      " [0 2]]\n",
      "sl.eig returns for eigenvalues:  [4.+0.j 2.+0.j]\n",
      "The diagonal Lambda matrix we constructed is the same matrix you get via np.diag(np.real(lam)): True\n",
      "A =  vecs@np.diag(np.real(lam))@sl.inv(vecs)) : True\n"
     ]
    }
   ],
   "source": [
    "lam, vecs = sl.eig(A)\n",
    "print(lam)\n",
    "print(vecs)\n",
    "print('The P we constructed is the same matrix you get from sl.eig:', np.allclose(P , vecs))\n",
    "print('The diagonal Lambda matrix we constructed is the same matrix you get from sl.eig:', np.allclose(Lambda , lam))\n",
    "print(' Our Lambda matrix = \\n ',Lambda)\n",
    "print('sl.eig returns for eigenvalues: ',lam)\n",
    "# ah we forgot that eig returns complex numbers even when real, so instead let's check\n",
    "print('The diagonal Lambda matrix we constructed is the same matrix you get via np.diag(np.real(lam)):', \n",
    "      np.allclose(Lambda , np.diag(np.real(lam))))\n",
    "# and therefore now\n",
    "print('A =  vecs@np.diag(np.real(lam))@sl.inv(vecs)) :', np.allclose(A, vecs@np.diag(np.real(lam))@sl.inv(vecs)))"
   ]
  },
  {
   "cell_type": "markdown",
   "metadata": {},
   "source": [
    "<div class=\"optional\">\n",
    "\n",
    "## A geometrical interpretation of matrix multiplication using matrix diagonalisation [\\*]\n",
    "\n",
    "Recall the example from above for how multiplication by a matrix transformed the unit circle\n",
    "\n",
    "</div>"
   ]
  },
  {
   "cell_type": "code",
   "execution_count": 19,
   "metadata": {},
   "outputs": [
    {
     "name": "stdout",
     "output_type": "stream",
     "text": [
      "lam =  [1.620274+0.j 3.079726+0.j]\n",
      "vecs =  [[-0.459594 -0.322764]\n",
      " [ 0.888129 -0.946479]]\n"
     ]
    },
    {
     "data": {
      "text/plain": [
       "(-2.4417681887890703,\n",
       " 2.442280539208872,\n",
       " -3.3253700137371256,\n",
       " 3.324817894974686)"
      ]
     },
     "execution_count": 19,
     "metadata": {},
     "output_type": "execute_result"
    },
    {
     "data": {
      "image/png": "[encoded data removed]",
      "text/plain": [
       "<Figure size 576x576 with 1 Axes>"
      ]
     },
     "metadata": {
      "needs_background": "light"
     },
     "output_type": "display_data"
    }
   ],
   "source": [
    "fig = plt.figure(figsize=(8, 8))\n",
    "ax1 = fig.add_subplot(111)\n",
    "\n",
    "# construct points on a circle parametrically\n",
    "theta = np.linspace(0,2*np.pi,100)\n",
    "np.append(theta, 0) # add a zero at the end so we go back to the start in the plot\n",
    "\n",
    "# A 2xn array of points\n",
    "points = np.vstack( (np.cos(theta), np.sin(theta)) )\n",
    "\n",
    "ax1.set_xlabel(\"$x, x'$\", fontsize=14)\n",
    "ax1.set_ylabel(\"$y, y'$\", fontsize=14)\n",
    "ax1.set_title('Linear transformation', fontsize=14)\n",
    "ax1.grid(True)\n",
    "\n",
    "x = np.array([1,0])\n",
    "y = np.array([0,1])\n",
    "\n",
    "# plot the circle\n",
    "ax1.plot(points[0,:], points[1,:], color='blue')\n",
    "\n",
    "# plot some vectors\n",
    "ax1.quiver(x[0], x[1], angles='xy', scale_units='xy', scale=1, color='b', zorder=10)\n",
    "ax1.quiver(y[0], y[1], angles='xy', scale_units='xy', scale=1, color='b', zorder=10)\n",
    "\n",
    "\n",
    "# choose a random transformation matrix\n",
    "A = np.array([[2.2,0.3],[1.7,2.5]])\n",
    "\n",
    "xp = A@x\n",
    "yp = A@y\n",
    "pointsp = A@points\n",
    "\n",
    "# plot the transformed circle\n",
    "ax1.plot(pointsp[0,:], pointsp[1,:], color='red')\n",
    "\n",
    "# plot the transformed vectors\n",
    "ax1.quiver(xp[0], xp[1], angles='xy', scale_units='xy', scale=1, color='r', zorder=10)\n",
    "ax1.quiver(yp[0], yp[1], angles='xy', scale_units='xy', scale=1, color='r', zorder=10)\n",
    "\n",
    "# plot a subsect of vectors and how they transform\n",
    "for i, angle in enumerate(theta[::5]):  # don't use all the angles\n",
    "    #ax1.plot([0,points[0,5*i]],[0,points[1,5*i]],'k')\n",
    "    ax1.plot([points[0,5*i],pointsp[0,5*i]],[points[1,5*i],pointsp[1,5*i]],'k')\n",
    "    ax1.plot([points[0,5*i]],[points[1,5*i]],'b.')\n",
    "    ax1.plot([pointsp[0,5*i]],[pointsp[1,5*i]],'r.')\n",
    "\n",
    "# compute and plot some special directions!\n",
    "lam, vecs = sl.eig(A)\n",
    "\n",
    "print('lam = ', lam)\n",
    "print('vecs = ', vecs)\n",
    "\n",
    "# plot the unit eigenvectors\n",
    "ax1.quiver(vecs[0,0], vecs[1,0], angles='xy', scale_units='xy', scale=1, color='limegreen', zorder=20, width=0.015)\n",
    "ax1.quiver(vecs[0,1], vecs[1,1], angles='xy', scale_units='xy', scale=1, color='limegreen', zorder=20, width=0.015)\n",
    "\n",
    "# plot the scaled eigenvectors\n",
    "ax1.quiver(np.real(lam[0])*vecs[0,0], np.real(lam[0])*vecs[1,0], angles='xy', scale_units='xy', \n",
    "           scale=1, color='g', zorder=30)\n",
    "ax1.quiver(np.real(lam[1])*vecs[0,1], np.real(lam[1])*vecs[1,1], angles='xy', scale_units='xy', \n",
    "           scale=1, color='g', zorder=30)\n",
    "\n",
    "ax1.axis('equal')"
   ]
  },
  {
   "cell_type": "markdown",
   "metadata": {},
   "source": [
    "<div class=\"optional\">\n",
    "\n",
    "The blue arrows are the original basis vectors, the red are what they transform to (the colums of $A$ here) - we've seen this sort of thing already. \n",
    "\n",
    "\n",
    "The blue dots show a subset of the points (at a finite resolution - `theta[::5]` in the code above \"prunes\" the number of points), showing how unit vectors or points on the initial unit circe map (in blue) map to new locations indicated by the red dots with black likes in between clarifying the correspondence.\n",
    "\n",
    "Note how  the new locations/vectors now map out a (non-unit) ellipse (some stretching and rotation has gone on).\n",
    "\n",
    "The green arrow indicate the *special* vectors/directions that do not change their orientation, only their magnitude. These are clearly the eigenvectors.\n",
    "\n",
    "<br>\n",
    "\n",
    "Let's use matrix diagonalisation to break up this single transformation into three:\n",
    "\n",
    "</div>"
   ]
  },
  {
   "cell_type": "markdown",
   "metadata": {},
   "source": [
    "<div class=\"optional\">\n",
    "    \n",
    "By noting that \n",
    "\n",
    "\\begin{align*}\n",
    "A = P \\Lambda P^{-1} \n",
    "\\end{align*}\n",
    "\n",
    "where \n",
    "\n",
    "$$P = \\left[ \\; \\boldsymbol{v}_1 \\;\\;  \\boldsymbol{v}_2  \\; \\; \\cdots \\; \\;  \\boldsymbol{v}_n \\; \\right]$$\n",
    "\n",
    "and \n",
    "\n",
    "$$\\Lambda = \\begin{pmatrix}\n",
    "\\lambda_1 & 0 &  \\cdots & 0 \\\\\n",
    "0 & \\lambda_2 &  \\ddots & 0\\\\\n",
    "\\vdots & &  \\ddots  & \\vdots \\\\\n",
    "0 & \\cdots & 0 & \\lambda_n\n",
    "\\end{pmatrix}$$\n",
    "\n",
    "let's break down the single matrix multiplication $A\\boldsymbol{x}$ which performed the above transformation of the unit circle into three multiplications taken in turn:\n",
    "\n",
    "<br>\n",
    "\n",
    "\\begin{align*}\n",
    "A\\boldsymbol{x} = P \\Lambda P^{-1}\\boldsymbol{x} = P \\; (\\Lambda\\;  (P^{-1}\\boldsymbol{x}))\n",
    "\\end{align*}\n",
    "\n",
    "</div>"
   ]
  },
  {
   "cell_type": "code",
   "execution_count": 20,
   "metadata": {},
   "outputs": [
    {
     "name": "stdout",
     "output_type": "stream",
     "text": [
      "A =  P@Lambda@sl.inv(P) : True\n",
      "[[ 0.322764 -0.459594]\n",
      " [ 0.946479  0.888129]]\n",
      "[[3.079726 0.      ]\n",
      " [0.       1.620274]]\n",
      "[[ 1.230688  0.636863]\n",
      " [-1.311544  0.447257]]\n"
     ]
    }
   ],
   "source": [
    "A = np.array([[2.2,0.3],[1.7,2.5]])\n",
    "\n",
    "# it's eigenvalues and eigenvectors - printed out above - you can check yourself\n",
    "lam1 = 3.079726\n",
    "v1 = np.array([0.322764, 0.946479])\n",
    "lam2 = 1.620274\n",
    "v2 = np.array([-0.459594,0.888129])\n",
    "\n",
    "# normalise the eigenvectors\n",
    "v1 = v1/np.sqrt(np.dot(v1,v1))\n",
    "v2 = v2/np.sqrt(np.dot(v2,v2))\n",
    "               \n",
    "# in order to form the matrix P, first force v1 and v2 to be column vecs\n",
    "v1.shape = (2,1)\n",
    "v2.shape = (2,1)\n",
    "\n",
    "# and stack them into the matrix P using hstack\n",
    "P = np.hstack((v1,v2))\n",
    "# and form the diagonal matrix with e'vals on the main diagonal\n",
    "Lambda = np.diag(np.array([lam1,lam2]))\n",
    "\n",
    "# confirm our diagonalisation works\n",
    "print('A =  P@Lambda@sl.inv(P) :', np.allclose(A, P@Lambda@sl.inv(P)))\n",
    "print(P)\n",
    "print(Lambda)\n",
    "print(sl.inv(P))"
   ]
  },
  {
   "cell_type": "markdown",
   "metadata": {},
   "source": [
    "<div class=\"optional\">\n",
    "\n",
    "First let's plot what the first multiplication\n",
    "\n",
    "$$P^{-1}\\boldsymbol{x}$$\n",
    "\n",
    "does to the unit circle:\n",
    "\n",
    "</div>"
   ]
  },
  {
   "cell_type": "code",
   "execution_count": 21,
   "metadata": {},
   "outputs": [
    {
     "data": {
      "text/plain": [
       "(-1.5242459383299214,\n",
       " 1.5236159646389358,\n",
       " -1.5241716469722837,\n",
       " 1.5239715465055717)"
      ]
     },
     "execution_count": 21,
     "metadata": {},
     "output_type": "execute_result"
    },
    {
     "data": {
      "image/png": "[encoded data removed]",
      "text/plain": [
       "<Figure size 360x360 with 1 Axes>"
      ]
     },
     "metadata": {
      "needs_background": "light"
     },
     "output_type": "display_data"
    }
   ],
   "source": [
    "fig = plt.figure(figsize=(5, 5))\n",
    "ax1 = fig.add_subplot(111)\n",
    "\n",
    "# construct points on a circle parametrically\n",
    "theta = np.linspace(0,2*np.pi,100)\n",
    "np.append(theta, 0) # add a zero at the end so we go back to the start in the plot\n",
    "\n",
    "# A 2xn array of points\n",
    "points = np.vstack( (np.cos(theta), np.sin(theta)) )\n",
    "\n",
    "ax1.set_xlabel(\"$x, x'$\", fontsize=14)\n",
    "ax1.set_ylabel(\"$y, y'$\", fontsize=14)\n",
    "ax1.set_title('Linear transformation 1', fontsize=14)\n",
    "ax1.grid(True)\n",
    "\n",
    "x = np.array([1,0])\n",
    "y = np.array([0,1])\n",
    "\n",
    "# plot the circle\n",
    "ax1.plot(points[0,:], points[1,:], color='blue')\n",
    "\n",
    "# plot some vectors\n",
    "ax1.quiver(x[0], x[1], angles='xy', scale_units='xy', scale=1, color='b', zorder=10)\n",
    "ax1.quiver(y[0], y[1], angles='xy', scale_units='xy', scale=1, color='b', zorder=10)\n",
    "\n",
    "\n",
    "# Use our P^{-1} matrix\n",
    "\n",
    "xp = sl.inv(P)@x\n",
    "yp = sl.inv(P)@y\n",
    "pointsp = sl.inv(P)@points\n",
    "\n",
    "# plot the transformed circle\n",
    "ax1.plot(pointsp[0,:], pointsp[1,:], color='red')\n",
    "\n",
    "# plot the transformed vectors\n",
    "ax1.quiver(xp[0], xp[1], angles='xy', scale_units='xy', scale=1, color='r', zorder=10)\n",
    "ax1.quiver(yp[0], yp[1], angles='xy', scale_units='xy', scale=1, color='r', zorder=10)\n",
    "\n",
    "ax1.axis('equal')"
   ]
  },
  {
   "cell_type": "markdown",
   "metadata": {},
   "source": [
    "<div class=\"optional\">\n",
    "\n",
    "From above $P^{-1}$ is\n",
    "\n",
    "$$\\begin{pmatrix} \n",
    "1.230688 & 0.636863 \\\\\n",
    "-1.311544 & 0.447257\n",
    "\\end{pmatrix}$$\n",
    "\n",
    "and so $(1,0)$ transform to $(1.230688,-1.311544)$ and similarly for the second unit vector transforming to the second column of $P^{-1}$.\n",
    "\n",
    "Note that in the special case of a symmetric matrix $A$, $P$ is orthogonal and so this process we are mid way through here has a simpler interpretation - the $P$ and $P^{-1}$ matrices just perform rotations.\n",
    "\n",
    "<br>\n",
    "\n",
    "Now let's pre-multiply by $\\Lambda$:\n",
    "\n",
    "</div>"
   ]
  },
  {
   "cell_type": "code",
   "execution_count": 22,
   "metadata": {},
   "outputs": [
    {
     "data": {
      "text/plain": [
       "(-4.6942598466690555,\n",
       " 4.692319700313611,\n",
       " -2.4695756911263698,\n",
       " 2.4692514735427684)"
      ]
     },
     "execution_count": 22,
     "metadata": {},
     "output_type": "execute_result"
    },
    {
     "data": {
      "image/png": "[encoded data removed]",
      "text/plain": [
       "<Figure size 360x360 with 1 Axes>"
      ]
     },
     "metadata": {
      "needs_background": "light"
     },
     "output_type": "display_data"
    }
   ],
   "source": [
    "# before running this cell please make sure you run the previous\n",
    "\n",
    "fig = plt.figure(figsize=(5, 5))\n",
    "ax1 = fig.add_subplot(111)\n",
    "\n",
    "# Use the points and the x,y from the previous cell:\n",
    "x = xp\n",
    "y = yp\n",
    "points = pointsp\n",
    "\n",
    "ax1.set_xlabel(\"$x, x'$\", fontsize=14)\n",
    "ax1.set_ylabel(\"$y, y'$\", fontsize=14)\n",
    "ax1.set_title('Linear transformation 2', fontsize=14)\n",
    "ax1.grid(True)\n",
    "\n",
    "# plot the circle\n",
    "ax1.plot(points[0,:], points[1,:], color='blue')\n",
    "\n",
    "# plot some vectors\n",
    "ax1.quiver(x[0], x[1], angles='xy', scale_units='xy', scale=1, color='b', zorder=10)\n",
    "ax1.quiver(y[0], y[1], angles='xy', scale_units='xy', scale=1, color='b', zorder=10)\n",
    "\n",
    "# Now use our Lambda matrix\n",
    "\n",
    "xp = Lambda@x\n",
    "yp = Lambda@y\n",
    "pointsp = Lambda@points\n",
    "\n",
    "# plot the transformed circle\n",
    "ax1.plot(pointsp[0,:], pointsp[1,:], color='red')\n",
    "\n",
    "# plot the transformed vectors\n",
    "ax1.quiver(xp[0], xp[1], angles='xy', scale_units='xy', scale=1, color='r', zorder=10)\n",
    "ax1.quiver(yp[0], yp[1], angles='xy', scale_units='xy', scale=1, color='r', zorder=10)\n",
    "\n",
    "ax1.axis('equal')"
   ]
  },
  {
   "cell_type": "markdown",
   "metadata": {},
   "source": [
    "<div class=\"optional\">\n",
    "\n",
    "The blue here was the outcome of the first operation, the red the new result.\n",
    "\n",
    "So pre-multiplication by the diagonal $\\Lambda$ just stretches in the $x$ and $y$ directions.\n",
    "\n",
    "<br>\n",
    "\n",
    "Finally we need to pre-multiply by $P$:\n",
    "\n",
    "</div>"
   ]
  },
  {
   "cell_type": "code",
   "execution_count": 23,
   "metadata": {},
   "outputs": [
    {
     "data": {
      "text/plain": [
       "(-4.6942598466690555, 4.692319700313611, -3.325369739095369, 3.324817629578766)"
      ]
     },
     "execution_count": 23,
     "metadata": {},
     "output_type": "execute_result"
    },
    {
     "data": {
      "image/png": "[encoded data removed]",
      "text/plain": [
       "<Figure size 360x360 with 1 Axes>"
      ]
     },
     "metadata": {
      "needs_background": "light"
     },
     "output_type": "display_data"
    }
   ],
   "source": [
    "# before running this cell please make sure you run the previous\n",
    "\n",
    "fig = plt.figure(figsize=(5, 5))\n",
    "ax1 = fig.add_subplot(111)\n",
    "\n",
    "# Use the points and the x,y from the previous cell:\n",
    "x = xp\n",
    "y = yp\n",
    "points = pointsp\n",
    "\n",
    "ax1.set_xlabel(\"$x, x'$\", fontsize=14)\n",
    "ax1.set_ylabel(\"$y, y'$\", fontsize=14)\n",
    "ax1.set_title('Linear transformation 3', fontsize=14)\n",
    "ax1.grid(True)\n",
    "\n",
    "# plot the circle\n",
    "ax1.plot(points[0,:], points[1,:], color='blue')\n",
    "\n",
    "# plot some vectors\n",
    "ax1.quiver(x[0], x[1], angles='xy', scale_units='xy', scale=1, color='b', zorder=10)\n",
    "ax1.quiver(y[0], y[1], angles='xy', scale_units='xy', scale=1, color='b', zorder=10)\n",
    "\n",
    "# Now use our P matrix\n",
    "\n",
    "xp = P@x\n",
    "yp = P@y\n",
    "pointsp = P@points\n",
    "\n",
    "# plot the transformed circle\n",
    "ax1.plot(pointsp[0,:], pointsp[1,:], color='red')\n",
    "\n",
    "# plot the transformed vectors\n",
    "ax1.quiver(xp[0], xp[1], angles='xy', scale_units='xy', scale=1, color='r', zorder=10)\n",
    "ax1.quiver(yp[0], yp[1], angles='xy', scale_units='xy', scale=1, color='r', zorder=10)\n",
    "\n",
    "ax1.axis('equal')"
   ]
  },
  {
   "cell_type": "markdown",
   "metadata": {},
   "source": [
    "<div class=\"optional\">\n",
    "\n",
    "Again the blue was the output from the previous operations, and red the output from the final pre-multiplication.\n",
    "\n",
    "Note that (as long as you run the three cells in order!) the red result here agrees with the transformation under the matrix $A$ that we plotted all in one go at the start.\n",
    "\n",
    "<br>\n",
    "\n",
    "As already said, in the case of a ***symmetric matrix*** the $P$ and thus $P^{-1}$ being ***orthogonal matrices means that they just correspond to simple rotations***. In the case where we start from a symmetric matrix therefore the above three operations are easier to interpret - see homework for a worked example.\n",
    "\n",
    "</div>"
   ]
  },
  {
   "cell_type": "markdown",
   "metadata": {},
   "source": [
    "# Some applications of eigen-values/vectors"
   ]
  },
  {
   "cell_type": "markdown",
   "metadata": {},
   "source": [
    "<div class=\"optional\">\n",
    "    \n",
    "## Linear systems [\\*]\n",
    "\n",
    "Let's consider a linear system we solved in the previous lecture.\n",
    "\n",
    "$$ A\\boldsymbol{x}=\\boldsymbol{b} \\iff \\sum_{j=1}^n a_{ij} x_j = b_i \\quad\\text{for}\\quad i=1,\\ldots, n $$\n",
    "\n",
    "We noted that we can interpret the matrix vector multiplication as computing a weighted sum of the columns of the matrix (denoted by $\\boldsymbol{a}_{\\,:j}$):\n",
    "\n",
    "$$\n",
    "\\begin{pmatrix}\n",
    "      &     &         &     \\\\\n",
    "      &     &         &     \\\\\n",
    "  \\boldsymbol{a}_{\\,:1} & \\boldsymbol{a}_{\\,:2} &  \\ldots & \\boldsymbol{a}_{\\,:n} \\\\\n",
    "      &     &         &     \\\\\n",
    "      &     &         &     \\\\\n",
    "\\end{pmatrix}\n",
    "\\begin{pmatrix}\n",
    "    x_1\\\\\n",
    "    x_2\\\\\n",
    "    \\vdots\\\\\n",
    "    x_n\n",
    "\\end{pmatrix}\n",
    "=\n",
    "x_1 \n",
    "\\begin{pmatrix}\n",
    "       \\\\\n",
    "       \\\\\n",
    "   \\boldsymbol{a}_{\\,:1} \\\\\n",
    "       \\\\\n",
    "    ~   \n",
    "\\end{pmatrix}\n",
    "+\n",
    "x_2 \n",
    "\\begin{pmatrix}\n",
    "       \\\\\n",
    "       \\\\\n",
    "   \\boldsymbol{a}_{\\,:2} \\\\\n",
    "       \\\\\n",
    "    ~   \n",
    "\\end{pmatrix}\n",
    "+ \\cdots +\n",
    "x_n\n",
    "\\begin{pmatrix}\n",
    "       \\\\\n",
    "       \\\\\n",
    "   \\boldsymbol{a}_{\\,:n} \\\\\n",
    "       \\\\\n",
    "    ~   \n",
    "\\end{pmatrix}\n",
    "$$\n",
    "\n",
    "and solving the linear system can be interpreted as asking the question, given directions in an $n$-dimensional space prescribed by the column vectors of the matrix, how far do we need to move in each of these directions to reach the point $\\boldsymbol{b}$.  \n",
    "\n",
    "If the columns are linearly independent then we can reach any point, equivalently we can find a unique solution and the matrix is invertible. \n",
    "\n",
    "[As we saw in the previous lecture, if the columns aren't linearly independent, then we may be able to fund a (non-unique) solution if $\\boldsymbol{b}$ is located in the range of the columns of $A$.]\n",
    "\n",
    "We explained this graphically with the following image/example.\n",
    "    \n",
    "</div>"
   ]
  },
  {
   "cell_type": "code",
   "execution_count": 24,
   "metadata": {},
   "outputs": [
    {
     "data": {
      "text/plain": [
       "<matplotlib.quiver.Quiver at 0x2007330b848>"
      ]
     },
     "execution_count": 24,
     "metadata": {},
     "output_type": "execute_result"
    },
    {
     "data": {
      "image/png": "[encoded data removed]",
      "text/plain": [
       "<Figure size 576x576 with 1 Axes>"
      ]
     },
     "metadata": {
      "needs_background": "light"
     },
     "output_type": "display_data"
    }
   ],
   "source": [
    "fig = plt.figure(figsize=(8, 8))\n",
    "\n",
    "ax1 = fig.add_subplot(111)\n",
    "\n",
    "ax1.set_xlabel(\"$x$\", fontsize=14)\n",
    "ax1.set_ylabel(\"$y$\", fontsize=14)\n",
    "ax1.set_title('Position as a sum over matrix cols', fontsize=14)\n",
    "#ax1.grid(True)\n",
    "\n",
    "x = np.array([1,0])\n",
    "y = np.array([0,1])\n",
    "\n",
    "# plot the vectors\n",
    "ax1.quiver(x[0], x[1], angles='xy', scale_units='xy', scale=1, color='k')\n",
    "ax1.quiver(y[0], y[1], angles='xy', scale_units='xy', scale=1, color='k')\n",
    "\n",
    "\n",
    "ax1.set_xlim(-1,8)\n",
    "ax1.set_ylim(-5,5)\n",
    "\n",
    "A = np.array([[2, 3], [1, -4]])\n",
    "vec1 = A[:,0] # NB. This is the same as A*x\n",
    "vec2 = A[:,1] # NB. This is the same as A*y\n",
    "\n",
    "# plot them\n",
    "ax1.quiver(vec1[0], vec1[1], angles='xy', scale_units='xy', scale=1, color='b', width=0.02,  label='vec1')\n",
    "ax1.quiver(vec2[0], vec2[1], angles='xy', scale_units='xy', scale=1, color='r', width=0.02,  label='vec2')\n",
    "\n",
    "# add point b\n",
    "b = np.array([7., 3.])\n",
    "ax1.plot(b[0], b[1], 'ko',  label='${b}$')\n",
    "\n",
    "ax1.legend(loc='lower left', fontsize=14)\n",
    "\n",
    "# Now move x_1 in the direction gioven by column one, followed by x_2 in the direction given by column 2:\n",
    "x = np.array([37./11, 1./11])\n",
    "ax1.quiver(x[0]*vec1[0], x[0]*vec1[1], angles='xy', scale_units='xy', scale=1, color='darkblue', width=0.005,  label='vec1')\n",
    "ax1.quiver(x[0]*vec1[0], x[0]*vec1[1],x[1]*vec2[0], x[1]*vec2[1], angles='xy', \n",
    "           scale_units='xy', scale=1, color='darkred', width=0.005,  label='vec2')"
   ]
  },
  {
   "cell_type": "markdown",
   "metadata": {},
   "source": [
    "<div class=\"optional\">\n",
    "\n",
    "### Re-interpretation in terms of eigenvalues and eigenvectors\n",
    "\n",
    "Let's reconsider this problem in light of what we now know about matrix diagonalisation.\n",
    "\n",
    "Assume we can diagonalise our matrix as $A=P\\Lambda P^{-1}$,\n",
    "\n",
    "well firstly note of course we can solve our problem trivially:\n",
    "\n",
    "\\begin{align*}\n",
    "A\\boldsymbol{x} &= \\boldsymbol{b} \\\\\n",
    "\\iff P\\Lambda P^{-1}\\boldsymbol{x} &= \\boldsymbol{b} \\\\\n",
    "\\iff \\Lambda P^{-1} \\boldsymbol{x} &=  P^{-1}\\boldsymbol{b} \\\\\n",
    "\\iff  P^{-1} \\boldsymbol{x} &= \\Lambda^{-1} P^{-1}\\boldsymbol{b} \\\\\n",
    "\\iff   \\boldsymbol{x} &= P \\Lambda^{-1} P^{-1}\\boldsymbol{b}\n",
    "\\end{align*}\n",
    "\n",
    "but actually let's not do this and think about things geometrically:\n",
    "\n",
    "If we define $\\boldsymbol{y}=P^{-1}\\boldsymbol{x}\\iff \\boldsymbol{x}=P\\boldsymbol{y}$ we can write\n",
    "\n",
    "\\begin{align*}\n",
    "A\\boldsymbol{x} &= \\boldsymbol{b} \\\\\n",
    "\\iff P\\Lambda P^{-1}\\boldsymbol{x} &= \\boldsymbol{b} \\\\\n",
    "\\iff P\\Lambda  \\boldsymbol{y} &= \\boldsymbol{b}\n",
    "\\end{align*}\n",
    "\n",
    "This is a different linear system, the RHS is unchanged (we still need to reach the same location), but the LHS matrix is different, note that it is\n",
    "\n",
    "$$P\\Lambda = \\left[ \\; \\boldsymbol{v_1} \\;\\;  \\boldsymbol{v_2}  \\; \\; \\cdots \\; \\;  \\boldsymbol{v_n} \\; \\right] \n",
    "\\begin{pmatrix}\n",
    "\\lambda_1 & 0 &  \\cdots & 0 \\\\\n",
    "0 & \\lambda_2 &  \\ddots & 0\\\\\n",
    "\\vdots & &  \\ddots  & \\vdots \\\\\n",
    "0 & \\cdots & 0 & \\lambda_n\n",
    "\\end{pmatrix}\n",
    "= \\left[ \\; \\lambda_1 \\boldsymbol{v_1} \\;\\;  \\lambda_2\\boldsymbol{v_2}  \\; \\; \\cdots \\; \\; \\lambda_{n} \\boldsymbol{v_n} \\; \\right]$$\n",
    "\n",
    "So in solving for $\\boldsymbol{y}$ we are asking the question how far do we need move in the directions given by the  eigenvectors (scaled by the corresponding eigenvalues) to reach location $\\boldsymbol{b}$?  \n",
    "\n",
    "Once we've achieve this we can recover the solution we want by multiplying by $P$: $\\boldsymbol{x}=P\\boldsymbol{y}$.\n",
    "\n",
    "Let's check this via the example above:\n",
    "    \n",
    "</div>"
   ]
  },
  {
   "cell_type": "code",
   "execution_count": 25,
   "metadata": {},
   "outputs": [
    {
     "name": "stdout",
     "output_type": "stream",
     "text": [
      "x = Py: True\n"
     ]
    },
    {
     "data": {
      "image/png": "[encoded data removed]",
      "text/plain": [
       "<Figure size 576x576 with 1 Axes>"
      ]
     },
     "metadata": {
      "needs_background": "light"
     },
     "output_type": "display_data"
    }
   ],
   "source": [
    "fig = plt.figure(figsize=(8, 8))\n",
    "\n",
    "ax1 = fig.add_subplot(111)\n",
    "\n",
    "ax1.set_xlabel(\"$x$\", fontsize=14)\n",
    "ax1.set_ylabel(\"$y$\", fontsize=14)\n",
    "ax1.set_title('Position as a sum over scaled eigenvectors', fontsize=14)\n",
    "#ax1.grid(True)\n",
    "\n",
    "i = np.array([1,0])\n",
    "j = np.array([0,1])\n",
    "\n",
    "# plot the vectors\n",
    "ax1.quiver(i[0], i[1], angles='xy', scale_units='xy', scale=1, color='k')\n",
    "ax1.quiver(j[0], j[1], angles='xy', scale_units='xy', scale=1, color='k')\n",
    "\n",
    "ax1.set_xlim(-1,8)\n",
    "ax1.set_ylim(-5,5)\n",
    "\n",
    "A = np.array([[2, 3], [1, -4]])\n",
    "\n",
    "# compute the e'vals/vecs\n",
    "lam, vecs = sl.eig(A)\n",
    "# scaled directions\n",
    "vec1 = np.real(lam)[0]*vecs[:,0] \n",
    "vec2 = np.real(lam)[1]*vecs[:,1] \n",
    "\n",
    "# plot them\n",
    "ax1.quiver(vec1[0], vec1[1], angles='xy', scale_units='xy', scale=1, color='b', width=0.02,  label='vec1')\n",
    "ax1.quiver(vec2[0], vec2[1], angles='xy', scale_units='xy', scale=1, color='r', width=0.02,  label='vec2')\n",
    "\n",
    "# add point b\n",
    "b = np.array([7., 3.])\n",
    "ax1.plot(b[0], b[1], 'ko',  label='${b}$')\n",
    "\n",
    "ax1.legend(loc='lower left', fontsize=14)\n",
    "\n",
    "# Solve the transformed problem for y\n",
    "y = sl.inv(vecs@np.diag(np.real(lam)))@b\n",
    "ax1.quiver(y[0]*vec1[0], y[0]*vec1[1], angles='xy', scale_units='xy', scale=1, color='darkblue', width=0.005,  label='vec1')\n",
    "ax1.quiver(y[0]*vec1[0], y[0]*vec1[1], y[1]*vec2[0], y[1]*vec2[1], angles='xy', \n",
    "           scale_units='xy', scale=1, color='darkred', width=0.005,  label='vec2')\n",
    "\n",
    "# and confirm that x (=sl.inv(A)@b) = Py\n",
    "print('x = Py:',np.allclose(sl.inv(A)@b, vecs@y))"
   ]
  },
  {
   "cell_type": "markdown",
   "metadata": {},
   "source": [
    "<div class=\"optional\">\n",
    "    \n",
    "The red and blue arrows this time are the eigenvectors scaled by the eigenvalues.\n",
    "\n",
    "Note that this emphasises that if $\\boldsymbol{b}$ is in the direction of an eigenvectors (or a sum of some of the eigenvectors), then the solution $\\boldsymbol{y}$ will be especially simple.\n",
    "\n",
    "Now finding the eigenvalues and eigenvectors is very difficult for large matrices, and so that above isn't actually useful in practice for solving linear systems.\n",
    "\n",
    "However, note that the idea of solving a related linear system following a transformation, where ideally the transformed problem is easier to solve in some sense, is related to the topic of matrix [preconditioning](https://en.wikipedia.org/wiki/Preconditioner).\n",
    "    \n",
    "</div>"
   ]
  },
  {
   "cell_type": "markdown",
   "metadata": {},
   "source": [
    "<div class=\"optional\">\n",
    "\n",
    "## Powers of matrices [\\* - but note we are going to use this result in the next section]\n",
    "\n",
    "An immediate application of the ability to diagonalise matrices is the following.\n",
    "\n",
    "Consider \n",
    "\n",
    "$$A = \n",
    "\\begin{pmatrix}\n",
    "1.01 & 0.01 \\\\\n",
    "0.01 & 1.01\n",
    "\\end{pmatrix}$$\n",
    "\n",
    "Let's support our task is to raise this matrix to the power of a million, i.e. to calculate\n",
    "\n",
    "$$A^{10000} = A \\,A \\,\\cdots \\,A$$\n",
    "\n",
    "where each of the 10000 individual multiplications is the normal matrix-matrix multiplication. \n",
    "\n",
    "First let's do this by brute force and compare against NumPy.\n",
    "    \n",
    "</div>"
   ]
  },
  {
   "cell_type": "code",
   "execution_count": 26,
   "metadata": {},
   "outputs": [
    {
     "name": "stdout",
     "output_type": "stream",
     "text": [
      "[[1.0202 0.0202]\n",
      " [0.0202 1.0202]]\n",
      "\n",
      " [[1.0202 0.0202]\n",
      " [0.0202 1.0202]]\n",
      "\n",
      " [[5.019814e+85 5.019814e+85]\n",
      " [5.019814e+85 5.019814e+85]]\n",
      "\n",
      "Our method agrees with numpy on what A^{10000} equals:  True \n",
      "\n",
      "26.1 µs ± 924 ns per loop (mean ± std. dev. of 3 runs, 10 loops each)\n",
      "12.2 ms ± 316 µs per loop (mean ± std. dev. of 3 runs, 10 loops each)\n",
      "\n",
      " 2.5420000002895905e-05 0.011848229999998239 466.0987410955335\n"
     ]
    }
   ],
   "source": [
    "A = np.array([[1.01, 0.01], [0.01,1.01]])\n",
    "\n",
    "# work out the square using matrix multiplication\n",
    "print(A@A)\n",
    "# check this gives the same answer as matrix_power\n",
    "print('\\n',np.linalg.matrix_power(A,2))\n",
    "\n",
    "# write our own function\n",
    "def our_matrix_power(A,n):\n",
    "    mat_power = np.eye(np.shape(A)[0])\n",
    "    for i in range(n):\n",
    "        mat_power = A@mat_power   # mat_power @= A not yet supported\n",
    "    return mat_power\n",
    "\n",
    "print('\\n',our_matrix_power(A,10000))\n",
    "\n",
    "print('\\nOur method agrees with numpy on what A^{10000} equals: ', \n",
    "      np.allclose(our_matrix_power(A,10000), np.linalg.matrix_power(A,10000)),'\\n')\n",
    "\n",
    "time_np = %timeit -n 10 -r 3 -o AA = np.linalg.matrix_power(A,10000)\n",
    "time_us = %timeit -n 10 -r 3 -o AA = our_matrix_power(A,10000)\n",
    "\n",
    "print('\\n',time_np.best, time_us.best, time_us.best/time_np.best)"
   ]
  },
  {
   "cell_type": "markdown",
   "metadata": {},
   "source": [
    "<div class=\"optional\">\n",
    "\n",
    "Some comments/observations:\n",
    "\n",
    "1. Why did I choose this matrix (with entries close to one and zero), and limit myself to a power of 10000?\n",
    "\n",
    "\n",
    "2. Our naive approach is comparatively very slow, let's try using the fact that we know how to diagonalise a matrix\n",
    "\n",
    "\n",
    "\\begin{align*}\n",
    "A &= P\\Lambda P^{-1} \\\\\n",
    "\\implies A^2 & = P\\Lambda P^{-1} P\\Lambda P^{-1}  = P\\Lambda \\Lambda P^{-1} = P\\Lambda^2 P^{-1} \\\\\n",
    "& \\; \\vdots \\\\\n",
    "\\implies A^N & = P\\Lambda P^{-1} P\\Lambda^{N-1} P^{-1}= P\\Lambda \\Lambda^{N-1} P^{-1} = P\\Lambda^N P^{-1}\n",
    "\\end{align*}\n",
    "\n",
    "So to compute the $N$-th power of the original matrix we can diagonalise, raise the diagonal matrix of eigenvalues only to the power of $N$, and then reconstruct the matrix by pre- and post-multiplying by the matrix of eigenvectors and its inverse.\n",
    "\n",
    "Efficiency savings should result since\n",
    "\n",
    "$$\\Lambda^N = \n",
    "\\begin{pmatrix}\n",
    "\\lambda_1^N & 0 &  \\cdots & 0 \\\\\n",
    "0 & \\lambda_2^N &  \\ddots & 0\\\\\n",
    "\\vdots & &  \\ddots & \\vdots \\\\\n",
    "0 & \\cdots &  0 & \\lambda_n^N\n",
    "\\end{pmatrix}$$\n",
    "\n",
    "can be computed element-wise.\n",
    "\n",
    "Let's write a new function to do this, and see if this helps with performance.\n",
    "    \n",
    "</div>"
   ]
  },
  {
   "cell_type": "code",
   "execution_count": 27,
   "metadata": {},
   "outputs": [
    {
     "name": "stdout",
     "output_type": "stream",
     "text": [
      "Our two methods agree what A^{10000} equals:  True \n",
      "\n",
      "26 µs ± 867 ns per loop (mean ± std. dev. of 3 runs, 10 loops each)\n",
      "12.4 ms ± 193 µs per loop (mean ± std. dev. of 3 runs, 10 loops each)\n",
      "73.6 µs ± 7.7 µs per loop (mean ± std. dev. of 3 runs, 10 loops each)\n",
      "\n",
      " 2.5349999998525163e-05 0.012156399999997802 6.796999999778564e-05\n"
     ]
    }
   ],
   "source": [
    "A = np.array([[1.01, 0.01], [0.01,1.01]])\n",
    "\n",
    "def our_matrix_power2(A,n):\n",
    "    mat_power = np.eye(np.shape(A)[0])\n",
    "    lam, vecs = sl.eig(A)\n",
    "    re_lam = np.real(lam)  # make the assumption are all e'vals are real\n",
    "    re_lam_power = re_lam**n  # operate on individual entries of the vector of e'vals \n",
    "    return vecs@np.diag(re_lam_power)@sl.inv(vecs)\n",
    "\n",
    "print('Our two methods agree what A^{10000} equals: ', \n",
    "      np.allclose(our_matrix_power(A,10000), our_matrix_power2(A,10000)),'\\n')\n",
    "\n",
    "time_np = %timeit -n 10 -r 3 -o AA = np.linalg.matrix_power(A,10000)\n",
    "time_us = %timeit -n 10 -r 3 -o AA = our_matrix_power(A,10000)\n",
    "time_us2 = %timeit -n 10 -r 3 -o AA = our_matrix_power2(A,10000)\n",
    "\n",
    "print('\\n',time_np.best, time_us.best, time_us2.best)"
   ]
  },
  {
   "cell_type": "code",
   "execution_count": 28,
   "metadata": {},
   "outputs": [
    {
     "name": "stdout",
     "output_type": "stream",
     "text": [
      "Our 2nd method agrees with numpy on what A^{n} equals:  True \n",
      "\n",
      "128 ms ± 6.82 ms per loop (mean ± std. dev. of 7 runs, 10 loops each)\n",
      "476 ms ± 45.7 ms per loop (mean ± std. dev. of 7 runs, 1 loop each)\n",
      "0.12179264000000103 0.4284796999999685 3.5181083191887854\n"
     ]
    }
   ],
   "source": [
    "# let's try a larger problem where NumPy might not perform so well\n",
    "\n",
    "N = 1000\n",
    "A = np.eye(N) + 0.0001*np.random.random((N,N))\n",
    "A = (A+A.T)/2.\n",
    "\n",
    "n = 1000\n",
    "print('Our 2nd method agrees with numpy on what A^{n} equals: ', \n",
    "      np.allclose(our_matrix_power2(A,n), np.linalg.matrix_power(A,n)),'\\n')\n",
    "\n",
    "time_np = %timeit -o AA = np.linalg.matrix_power(A,n)\n",
    "#time_us = %timeit -n 10 -r 3 -o AA = our_matrix_power(A,n)\n",
    "time_us2 = %timeit -o AA = our_matrix_power2(A,n)\n",
    "\n",
    "print(time_np.best, time_us2.best, time_us2.best/time_np.best)"
   ]
  },
  {
   "cell_type": "markdown",
   "metadata": {},
   "source": [
    "<div class=\"optional\">\n",
    "    \n",
    "So we're now down to only being a factor two slower - not bad given that we're using pure Python and NumPy will be using some compiled code to perform these basic operations: <https://en.wikipedia.org/wiki/Basic_Linear_Algebra_Subprograms> and <https://en.wikipedia.org/wiki/LAPACK>, or <https://en.wikipedia.org/wiki/Math_Kernel_Library> on Windows.\n",
    "    \n",
    "</div>"
   ]
  },
  {
   "cell_type": "markdown",
   "metadata": {},
   "source": [
    "<div class=\"optional\">\n",
    "\n",
    "### Fibonacci numbers [\\*]\n",
    "\n",
    "In the homework you're asked to find the eigenvalues and eigenvectors of the so-called Fibonacci matrix.\n",
    "\n",
    "With this knowledge we can efficiently compute (in principle) any Fibonacci number.\n",
    "\n",
    "We'll delay doing this until the next lecture as it offers a good learning experience for some of the ways that algorithms can go wrong!\n",
    "    \n",
    "</div>"
   ]
  },
  {
   "cell_type": "markdown",
   "metadata": {},
   "source": [
    "## Using linear algebra to solve systems of ODEs\n",
    "\n",
    "### The idea/theory\n",
    "\n",
    "Suppose we want to solve the linear problem that can be written in the form\n",
    "\n",
    "$$\\dot{\\boldsymbol{x}}(t) = \\frac{\\boldsymbol{dx}}{dt} = \\boldsymbol{x}' = A\\boldsymbol{x}$$\n",
    "\n",
    "Consistent with the scalar case, the solution to this problem is simply\n",
    "\n",
    "$$\\boldsymbol{x}(t) = \\exp(tA) \\boldsymbol{C}$$\n",
    "\n",
    "where $\\boldsymbol{C}$ is a constant (vector) of integration.\n",
    "\n",
    "We can see that this is true if we know how the [matrix exponential](https://en.wikipedia.org/wiki/Matrix_exponential#Linear_differential_equation_systems) is defined:\n",
    "\n",
    "$$\\exp(tA) = I + tA + \\frac{t^2}{2!}A^2 + \\frac{t^3}{3!}A^3 + \\cdots$$\n",
    "\n",
    "and then note that differentiation of this w.r.t to $t$ is simply\n",
    "\n",
    "$$\\frac{d}{dt}\\exp(tA) = A + tA^2 + \\frac{t^2}{2!}A^3 + \\cdots$$\n",
    "\n",
    "and so indeed \n",
    "\n",
    "$$\\frac{d}{dt}\\exp(tA) = A(I + tA + \\frac{t^2}{2!}A^2 + \\frac{t^3}{3!}A^3 + \\cdots) = A\\boldsymbol{x}(t)$$\n",
    "\n",
    "\n",
    "<br>\n",
    "<br>\n",
    "\n",
    "Just as above, we can compute $\\exp(tA)$ in a particularly simple/efficient form if we can diagonalise it, since then as \n",
    "\n",
    "$$A^n = P\\Lambda^n P^{-1}$$\n",
    "\n",
    "we can see that\n",
    "\n",
    "\\begin{align*}\n",
    "\\exp(tA) &= \n",
    "I + t  P\n",
    "\\begin{pmatrix}\n",
    "\\lambda_1 & 0 &  \\cdots & 0 \\\\\n",
    "0 & \\lambda_2 &  \\ddots & 0\\\\\n",
    "\\vdots &  & \\ddots  & \\vdots \\\\\n",
    "0 & \\cdots &  0 & \\lambda_n\n",
    "\\end{pmatrix}\n",
    " P^{-1}\\\\[5pt] \n",
    " &\\qquad \\qquad\n",
    "+ \\frac{t^2}{2!}  P\n",
    "\\begin{pmatrix}\n",
    "\\lambda_1^2 & 0 &  \\cdots & 0 \\\\\n",
    "0 & \\lambda_2^2  & \\ddots & 0\\\\\n",
    "\\vdots & &  \\ddots  & \\vdots \\\\\n",
    "0 & \\cdots &  0 & \\lambda_n^2\n",
    "\\end{pmatrix}\n",
    " P^{-1} + \\cdots\\\\[15pt]\n",
    " & = \n",
    " P\\begin{pmatrix}\n",
    "e^{\\lambda_1 t} & 0 &  \\cdots & 0 \\\\\n",
    "0 & e^{\\lambda_2 t} &  \\ddots & 0\\\\\n",
    "\\vdots & &  \\ddots &  \\vdots \\\\\n",
    "0 & \\cdots &  0 & e^{\\lambda_n t}\n",
    "\\end{pmatrix}\n",
    " P^{-1}\n",
    "\\end{align*}\n",
    "\n",
    "so we don't actually need to compute all of those individual matrix-matrix multiplication to form the exponential.\n",
    "\n",
    "Now since $\\exp(tA) = I$ when $t=0$, this tells us that the constant is just the initial condition: $\\boldsymbol{C} = \\boldsymbol{x}(t=0)$.\n"
   ]
  },
  {
   "cell_type": "markdown",
   "metadata": {},
   "source": [
    "   \n",
    "### An example\n",
    "\n",
    "Let's consider a $2\\times 2$ example where\n",
    "\n",
    "$$\\boldsymbol{x}(t) = \n",
    "\\begin{pmatrix}\n",
    "x_1(t)\\\\\n",
    "x_2(t)\n",
    "\\end{pmatrix}$$\n",
    "\n",
    "and \n",
    "\n",
    "$$A = \n",
    "\\begin{pmatrix}\n",
    "-1 & 3 \\\\\n",
    "3 & -1\n",
    "\\end{pmatrix}\n",
    "$$\n",
    "\n",
    "A homework exercise asks you to apply the theory above to show that the solution is\n",
    "\n",
    "\\begin{align*}\n",
    "\\boldsymbol{x}(t) =  \\exp(tA) \\boldsymbol{C}\n",
    "= \\frac{1}{2}(C_1+C_2)\n",
    "\\begin{pmatrix}\n",
    "1 \\\\\n",
    "1\n",
    "\\end{pmatrix}\\exp(2t)+\n",
    "\\frac{1}{2}(C_2-C_1)\n",
    "\\begin{pmatrix}\n",
    "-1 \\\\\n",
    "1\n",
    "\\end{pmatrix}\\exp(-4t)\n",
    "\\end{align*}\n",
    "\n",
    "and check that it agrees with a numerical calculation using forward Euler time-stepping - cf. the discussion to follow for the next problem on *stability*.\n",
    "\n",
    "Our initial conditions can then be used to figure out what values the two constants of integration take - what choice of constants will lead to a solution that does *not* diverge to infinity?\n",
    "    "
   ]
  },
  {
   "cell_type": "markdown",
   "metadata": {},
   "source": [
    "<div class=\"optional\">\n",
    "\n",
    "### Making use of matrix diagonalisation [\\*]\n",
    "\n",
    "Instead of immediately writing down the solution to the problem\n",
    "\n",
    "$$\\dot{\\boldsymbol{x}}(t) = A\\boldsymbol{x}$$\n",
    "\n",
    "as\n",
    "\n",
    "$$x(t) = \\exp(tA) \\boldsymbol{C}$$\n",
    "\n",
    "let's try a different approach (which also makes use of the matrix diagnonalisation that allowed us to compute the matrix exponential easily).\n",
    "\n",
    "One of the reasons that this problem might be difficult to analyse/solve is that for a non-diagonal matrix $A$ the ODEs that are encoded by this system are *coupled*. This means we cannot consider then individually in isolation, and so cannot use what we know about scalar systems.\n",
    "\n",
    "However there is a trick we can play for a linear system:\n",
    "\n",
    "Let's introduce a new variable $\\boldsymbol{z}\\,$ which is related to $\\boldsymbol{x}\\,$ through a linear transformation: $\\boldsymbol{x} = S \\boldsymbol{z}$, where $S$ is a $2 \\times 2$ transformation matrix.\n",
    "\n",
    "Substituting this into our coupled ODE system yields\n",
    "\n",
    "\\begin{align*}\n",
    "\\frac{d\\boldsymbol{x}}{dt} & = A \\boldsymbol{x}\\\\[5pt]\n",
    "\\iff \\frac{d (S \\boldsymbol{z})}{dt} & = AS\\, \\boldsymbol{z}\\\\[5pt]\n",
    "\\iff S\\frac{d \\boldsymbol{z}}{dt} & = AS\\, \\boldsymbol{z}\\\\[5pt]\n",
    "\\iff \\frac{d  \\boldsymbol{z}}{dt} & = S^{-1}AS\\, \\boldsymbol{z}.\n",
    "\\end{align*}\n",
    "\n",
    "Now we **want** the transformed system to be decoupled, which is equivalent to requiring that the RHS matrix multiplier $S^{-1}AS$ is actually a diagonal matrix. \n",
    "\n",
    "Of course we know that assuming $A$ is actually diagonalisable, then $S=P$ - the matrix of eigenvectors, and\n",
    "\n",
    "$$S^{-1}\\,A\\,S = \\Lambda\n",
    "\\;\\;(\\text{and so} \\;\\; A = S\\, \\Lambda\\,  S^{-1})\n",
    "\\;\\;\\;\\;\\;\\;\\textrm{where}\\;\\;\\;\\;\\;\\;\n",
    "\\Lambda = \\begin{bmatrix}\n",
    "\\lambda_1 & 0\\\\\n",
    "0 & \\lambda_2\n",
    "\\end{bmatrix}.$$\n",
    "\n",
    "<br>\n",
    "\n",
    "In this (eigen-)basis our coupled ODE system decouples into two independent first-order ODEs:\n",
    "\n",
    "$$\\frac{dz_1}{dt} = \\lambda_1 z_1, \\;\\;\\;\\;\\;\\;\\;  \\frac{dz_2}{dt} = \\lambda_2 z_2.$$\n",
    "\n",
    "For our problem from the homework exercise we know that \n",
    "\n",
    "$$\\lambda_1 = 2\\quad\\text{and}\\quad \\lambda_2 = -4\n",
    "\\quad\\text{so}\\quad\n",
    "\\Lambda = \\begin{pmatrix}\n",
    "2 & 0 \\\\\n",
    "0 & -4\n",
    "\\end{pmatrix}\n",
    "$$\n",
    "\n",
    "and\n",
    "\n",
    "$$\\boldsymbol{v}_1 =   \\left(\n",
    "  \\begin{array}{r}\n",
    "    {1} \\\\\n",
    "    {1} \n",
    "  \\end{array}\n",
    "\\right), \\qquad \n",
    "\\boldsymbol{v}_2 =   \\left(\n",
    "  \\begin{array}{r}\n",
    "    {-1} \\\\\n",
    "    {1} \n",
    "  \\end{array}\n",
    "\\right), \\qquad\n",
    "S = P = \n",
    "\\begin{pmatrix}\n",
    "1 & -1 \\\\\n",
    "1 & 1\n",
    "\\end{pmatrix}\n",
    "$$\n",
    "\n",
    "we can solve the two uncoupled ODEs easily:\n",
    "\n",
    "$$z_1(t) = z_1(0)\\exp(2t), \\qquad z_2(t) = z_2(0)\\exp(-4t)$$\n",
    "\n",
    "and then convert back to our original coordinates:\n",
    "\n",
    "\\begin{align*}\n",
    "\\boldsymbol{x}(t) = S\\boldsymbol{z}(t) & = \n",
    "\\begin{pmatrix}\n",
    "1 & -1 \\\\\n",
    "1 & 1\n",
    "\\end{pmatrix}\n",
    "\\begin{pmatrix}\n",
    "z_1(0)\\exp(2t) \\\\\n",
    "z_2(0)\\exp(-4t)\n",
    "\\end{pmatrix} \\\\[5pt]\n",
    "& = z_1(0)\\begin{pmatrix}\n",
    "1  \\\\\n",
    "1 \n",
    "\\end{pmatrix}\n",
    "\\exp(2t) +\n",
    "z_2(0)\\begin{pmatrix}\n",
    "-1  \\\\\n",
    "1 \n",
    "\\end{pmatrix}\n",
    "\\exp(-4t)\n",
    "\\end{align*}\n",
    "\n",
    "i.e. the same solution as before just with the constants of integration in different notation.\n",
    "\n",
    "This emphasises what we might have guessed from the form of the solution we derived first - the solution can be written as a sum of simple solutions in each of the individual directions described by the eigenvectors.\n",
    "\n",
    "</div>"
   ]
  },
  {
   "cell_type": "markdown",
   "metadata": {},
   "source": [
    "<div class=\"optional\">\n",
    "\n",
    "# Singular Value Decomposition (SVD) [* - quite important in advanced data science and for Optimisation & Inversion, but you can skip for now]\n",
    "\n",
    "<br>\n",
    "\n",
    "*In terms of importance in data science, see the comment/links at the end of this section on PCA.*   \n",
    "\n",
    "<br>\n",
    "\n",
    "    \n",
    "Note that eigenvalues/vectors, and hence the eigen-decomposition of a matrix, are only defined for square matrices. \n",
    "\n",
    "But we can still interpret the matrix-vector multiplication\n",
    "\n",
    "$$A\\boldsymbol{x}$$\n",
    "\n",
    "in the case of $A$ being an $m\\times n$ matrix, and for a given $n\\times 1$ vector $\\boldsymbol{x}\\;$ we map it to a new to find an $m\\times 1$ vector, i.e. matrix multiplication in this non-square case maps vectors or points from $\\mathbb{R}^n$ into $\\mathbb{R}^m$.\n",
    "\n",
    "<br>\n",
    "\n",
    "<br>\n",
    "\n",
    "The [Singular Value Decomposition](https://en.wikipedia.org/wiki/Singular_value_decomposition) generalises the eigen-decomposition concept to non-square matrices.\n",
    "\n",
    "Consider an arbitrary $m \\times n$ real matrix $A$ - very similar to the square case it can be decomposed into a product of three matrices:\n",
    "\n",
    "$$A = U\\Sigma V^{T}$$\n",
    "\n",
    "where\n",
    "\n",
    "\n",
    "- $U$ is an $m\\times m$ orthogonal matrix - its columns are the eigenvectors of the matrix $AA^T$,\n",
    "\n",
    "\n",
    "- $V$ is an $n\\times n$ orthogonal matrix - its columns are the eigenvectors of the matrix $A^TA$,\n",
    "\n",
    "\n",
    "- $\\Sigma$ is an $m\\times n$ diagonal matrix whose diagonal entries, $\\sigma_1, \\sigma_2,\\ldots  $ are what are called the ***singular values*** of $A$.\n",
    "\n",
    "\n",
    "<br>\n",
    "\n",
    "\n",
    "<br>\n",
    "\n",
    "The singular values of $A$ are positive, and the convention is to number them/place down the diagonal of $\\Sigma$ in order of their magnitude: $\\sigma_1\\geq\\sigma_2\\geq\\ldots\\geq 0$.\n",
    "\n",
    "<br>\n",
    "\n",
    "The singular values are the square roots of the eigenvalues of the square matrix $A^TA$.  They are also the square roots of the eigenvalues of the square matrix $AA^T$.  \n",
    "\n",
    "<br>\n",
    "\n",
    "\n",
    "But hang on .....  if $A$ is non-square then $A^TA$ and $AA^T$ are of different size and thus have different numbers of eigenvalues - how to reconcile this apparent contradiction? -> The extra eigenvalues are always zero, i.e. the *maximum* number of non-zero singular values is the smaller of $m$ and $n$.\n",
    "\n",
    "<br>\n",
    "\n",
    "\n",
    "<br>\n",
    "\n",
    "*(Figure: https://en.wikipedia.org/wiki/Singular_value_decomposition#/media/File:Singular_value_decomposition_visualisation.svg)*\n",
    "\n",
    "<img src=\"./figures/Singular_value_decomposition_visualisation.svg\" width=400x>\n",
    "\n",
    "\n",
    "replace the star with transpose in the case of real values matrices, which we will consider here.\n",
    "\n",
    "</div>"
   ]
  },
  {
   "cell_type": "markdown",
   "metadata": {},
   "source": [
    "<div class=\"optional\">\n",
    "\n",
    "## Some SVD properties\n",
    "\n",
    "\n",
    "- The rank of $A$ is $p$, where $p$ is the number of non-zero singular values.\n",
    "\n",
    "\n",
    " \n",
    "- The first $p$ columns of $U$ form a basis for the range of $A$ (i.e. the span of the columns of $A$); the final $n-p$ columns of $V$ form a basis for the null space of $A$\n",
    " \n",
    " \n",
    "\n",
    "- $\\|A\\|_2 = \\sigma_1$ and $\\|A\\|_F = \\sqrt{\\sigma_1^2+\\sigma_2^2+\\ldots+\\sigma_p^2}$.\n",
    " \n",
    "\n",
    "\n",
    "- If $A = A^{T}$, then the singular values of $A$ are the absolute values of the eigenvalues of $A$ (the absolute values coming from squaring and taking the square root)\n",
    "\n",
    "\n",
    " \n",
    "- The absolute value of the determinant of a square matrix $A$ is equal to the product of its singular values.\n",
    "\n",
    "</div>"
   ]
  },
  {
   "cell_type": "markdown",
   "metadata": {},
   "source": [
    "<div class=\"optional\">\n",
    "\n",
    "## Geometric interpretation\n",
    "\n",
    "Above we showed that, via the eigendecomposition, we can interpret the action of matrix multiplication geometrically - by how it deforms a sphere (it turns it into a hyper-ellipse). \n",
    "\n",
    "In the ***square*** ***symmetric*** case the orthonormal eigenvectors describe rotations and the eigenvalues scalings.\n",
    "\n",
    "\n",
    "<br>\n",
    "\n",
    "You can think of SVD as the generalisation of this - allowing us to geometrically understand the action of matrix multiplication for a non-square matrix (and a square but non-symmetric matrix) as a series of rotations (as $U$ and $V$ are orthogonal) and scalings:\n",
    "\n",
    "\n",
    "\n",
    "*(Figure: https://en.wikipedia.org/wiki/Singular_value_decomposition#/media/File:Singular-Value-Decomposition.svg)*\n",
    "\n",
    "<img src=\"./figures/Singular-Value-Decomposition.svg\" width=400x>\n",
    "\n",
    "\"... the singular values of any $m \\times n$ matrix can be viewed as the magnitude of the semiaxis of an $n$-dimensional ellipsoid in $m$-dimensional space, for example as an ellipse in a (tilted) 2D plane in a 3D space. Singular values encode magnitude of the semiaxis, while singular vectors encode direction. ...\"\n",
    "\n",
    "\n",
    "The size and shape of $\\Sigma$, and the zeros that appear in the singular values, are responsible for the embeddings that occur as we map between spaces with different dimensions.\n",
    "\n",
    "\n",
    "<br>\n",
    "\n",
    "Note that whereas the eigen-decomposition/diagonalisation of a matrix is only possible for a subset of square matrices, the SVD can be formed for **all** matrices.\n",
    "\n",
    "<br>\n",
    "\n",
    "\n",
    "An example of a $3\\times 2$, i.e. mapping $\\mathbb{R}^2$ into $\\mathbb{R}^3$ is given in the homework.\n",
    "\n",
    "\n",
    "\n",
    "</div>"
   ]
  },
  {
   "cell_type": "markdown",
   "metadata": {},
   "source": [
    "<div class=\"optional\">\n",
    "\n",
    "## The compact form of SVD\n",
    "\n",
    "If both $A^TA$ and $AA^T$ are singular, then some of the singular values will be zero.  \n",
    "\n",
    "Let us suppose that there are $p$ non-zero singular values.  \n",
    "\n",
    "$A$ can then also be decomposed in a more compact (or reduced) form using only the eigenvectors that correspond to non-zero values:\n",
    "\n",
    "$$A = U_p\\Sigma_p V_p^{T}$$\n",
    "\n",
    "where\n",
    "\n",
    "\n",
    "- $U_p$ is an $m\\times p$ orthogonal matrix whose columns are the eigenvectors of the matrix $AA^T$,\n",
    "\n",
    "\n",
    "- $V_p$ is an $n\\times p$ orthogonal matrix whose columns are the eigenvectors of the matrix $A^TA$,\n",
    "\n",
    "\n",
    "- $\\Sigma_p$ is an $p\\times p$ diagonal matrix whose diagonal entries, $\\sigma_1, \\sigma_2, \\ldots , \\sigma_p>0$  are the non-zero *singular values* of $A$\n",
    "\n",
    "<br>\n",
    "\n",
    "Here we just don't bother storing those entries which due to the zero singular values never contribute to the multiplication.\n",
    "\n",
    "</div>"
   ]
  },
  {
   "cell_type": "markdown",
   "metadata": {},
   "source": [
    "<div class=\"optional\">\n",
    "\n",
    "## Aside: some of the various uses of the SVD\n",
    "\n",
    "    \n",
    "1. This geometrical interpretation demonstrates how we can use the SVD to appreciate the most important direction of uncertainty/noise in observations - important in that they can have large or small impact on the model parameters we arrive at when doing inversion.  In  a very high dimensional system, if we wanted to perturb our model parameters (e.g. the initial state of the atmosphere in a weather forecast), then we can't afford to run lots of forecasts (termed an ensemble) where we fully explore the uncertainty, instead we might perturb the model parameters in the directions associated with the largest singular values.  Take a look at the homework exercise that demonstrates this by plotting scaled singular vectors.\n",
    "For more on this in the context of weather forecasting see: [Singular vectors in atmospheric sciences: A review](<https://www.sciencedirect.com/science/article/pii/S0012825212000657)\n",
    "\n",
    "\n",
    "\n",
    "2. Since we can interpret an image in terms of a matrix, and a fun application of SVD is in image compression.  Notice first that expanding out the SVD:\n",
    "$$A = U\\Sigma V^{T} = \\sigma_1 u_{:1} v_{:1}^T +  \\sigma_2 u_{:2} v_{:2}^T + \\ldots $$\n",
    "since the $\\sigma$'s are ordered in terms of their magnitudes, if we truncate this expansion early we get a so-called [low rank approximation](https://en.wikipedia.org/wiki/Low-rank_approximation) to the original matrix, or if we interpret the matrix as an image, we get different levels of compressed image! See <https://medium.com/@rameshputalapattu/jupyter-python-image-compression-and-svd-an-interactive-exploration-703c953e44f6>\n",
    "\n",
    "\n",
    "</div>"
   ]
  },
  {
   "cell_type": "markdown",
   "metadata": {},
   "source": [
    "<div class=\"optional\">\n",
    "    \n",
    "### Principal Component Analysis (PCA)\n",
    "\n",
    "\n",
    "3. The SVD is very important in related fields, e.g. see a description of its importance in Machine Learning and Data Science (in the context of PCA - principal component analysis) in the following links:\n",
    "\n",
    "\n",
    "\n",
    "* <https://medium.com/@jonathan_hui/machine-learning-singular-value-decomposition-svd-principal-component-analysis-pca-1d45e885e491>\n",
    "\n",
    "\n",
    "* [PCA for Dummies](http://www.billconnelly.net/?p=697)\n",
    "    \n",
    "    \n",
    "* <https://georgemdallas.wordpress.com/2013/10/30/principal-component-analysis-4-dummies-eigenvectors-eigenvalues-and-dimension-reduction/>\n",
    "       \n",
    "    \n",
    "* <https://math.stackexchange.com/questions/3869/what-is-the-intuitive-relationship-between-svd-and-pca>\n",
    "    \n",
    "    \n",
    "* [A Tutorial on Principal Component Analysis](https://arxiv.org/pdf/1404.1100.pdf)\n",
    "    \n",
    "\n",
    "* https://stats.stackexchange.com/questions/134282/relationship-between-svd-and-pca-how-to-use-svd-to-perform-pca\n",
    "    \n",
    "    \n",
    "* https://stats.stackexchange.com/questions/2691/making-sense-of-principal-component-analysis-eigenvectors-eigenvalues/\n",
    "    \n",
    "    \n",
    "    \n",
    "<br>\n",
    "    \n",
    "We'll return to PCA in lecture 6 (Probability & ML) in particular in a homework exercise, and you'll see it again in later modules. \n",
    "    \n",
    "</div>"
   ]
  },
  {
   "cell_type": "markdown",
   "metadata": {},
   "source": [
    "# Summary\n",
    "    \n",
    "- In this lecture we went further in understanding matrices from a geometric perspective. \n",
    "\n",
    "\n",
    "- This led us on to eigenvalues/vectors - we considered some theory and some applications, including matrix diagonalisation and how these concepts are useful in the analysis and solution of systems of ODEs.\n",
    "\n",
    "\n",
    "- We introduced the Singluar Value Decomposition as a generalisation of the eigen-decomposition of a square matrix.\n",
    "\n",
    "\n",
    "- We went over some non-trivial examples, for fun and to further extend our coding experience.\n",
    "\n",
    "\n",
    "- We touched on the use on (in the supplementary notebook) powerful in-built SciPy ODE solvers (`solve_ivp`).\n",
    "\n"
   ]
  }
 ],
 "metadata": {
  "celltoolbar": "Slideshow",
  "kernelspec": {
   "display_name": "Python 3",
   "language": "python",
   "name": "python3"
  },
  "language_info": {
   "codemirror_mode": {
    "name": "ipython",
    "version": 3
   },
   "file_extension": ".py",
   "mimetype": "text/x-python",
   "name": "python",
   "nbconvert_exporter": "python",
   "pygments_lexer": "ipython3",
   "version": "3.7.13"
  },
  "latex_envs": {
   "LaTeX_envs_menu_present": true,
   "autoclose": true,
   "autocomplete": true,
   "bibliofile": "biblio.bib",
   "cite_by": "apalike",
   "current_citInitial": 1,
   "eqLabelWithNumbers": true,
   "eqNumInitial": 1,
   "hotkeys": {
    "equation": "Ctrl-E",
    "itemize": "Ctrl-I"
   },
   "labels_anchors": false,
   "latex_user_defs": false,
   "report_style_numbering": false,
   "user_envs_cfg": true
  },
  "toc": {
   "base_numbering": 1,
   "nav_menu": {},
   "number_sections": true,
   "sideBar": true,
   "skip_h1_title": false,
   "title_cell": "Table of Contents",
   "title_sidebar": "Contents",
   "toc_cell": true,
   "toc_position": {
    "height": "calc(100% - 180px)",
    "left": "10px",
    "top": "150px",
    "width": "455.758px"
   },
   "toc_section_display": true,
   "toc_window_display": true
  }
 },
 "nbformat": 4,
 "nbformat_minor": 1
}
