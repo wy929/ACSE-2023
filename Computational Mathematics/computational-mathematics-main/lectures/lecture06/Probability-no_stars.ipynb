{
 "cells": [
  {
   "cell_type": "code",
   "execution_count": 1,
   "id": "9a63836d",
   "metadata": {},
   "outputs": [
    {
     "data": {
      "text/html": [
       "<style>\n",
       "div.optional {\n",
       "    display: block;\n",
       "    background-color: #d7e2ff;\n",
       "    border-color: #d7e2ff;\n",
       "    border-left: 5px solid #d7e2ff;\n",
       "    padding: 0.5em;\n",
       "}\n",
       "div.advanced {\n",
       "    display: block;\n",
       "    background-color: #fff4d7;\n",
       "    border-color: #fff4d7;\n",
       "    border-left: 5px solid #fff4d7;\n",
       "    padding: 0.5em;\n",
       "}\n",
       "</style>\n"
      ],
      "text/plain": [
       "<IPython.core.display.HTML object>"
      ]
     },
     "metadata": {},
     "output_type": "display_data"
    }
   ],
   "source": [
    "%%html\n",
    "<style>\n",
    "div.optional {\n",
    "    display: block;\n",
    "    background-color: #d7e2ff;\n",
    "    border-color: #d7e2ff;\n",
    "    border-left: 5px solid #d7e2ff;\n",
    "    padding: 0.5em;\n",
    "}\n",
    "div.advanced {\n",
    "    display: block;\n",
    "    background-color: #fff4d7;\n",
    "    border-color: #fff4d7;\n",
    "    border-left: 5px solid #fff4d7;\n",
    "    padding: 0.5em;\n",
    "}\n",
    "</style>"
   ]
  },
  {
   "cell_type": "code",
   "execution_count": 2,
   "id": "a177711c",
   "metadata": {},
   "outputs": [],
   "source": [
    "import scipy.stats as st\n",
    "import numpy as np\n",
    "import matplotlib.pyplot as plt\n",
    "import matplotlib.ticker as ticker\n",
    "import pandas as pd\n",
    "# https://seaborn.pydata.org/\n",
    "# \"Seaborn is a Python data visualization library based on matplotlib. \n",
    "# It provides a high-level interface for drawing attractive and informative statistical graphics.\"\n",
    "import seaborn as sns\n",
    "# switch to seaborn figure aesthetic defaults\n",
    "#sns.set_theme()\n",
    "sns.set()"
   ]
  },
  {
   "cell_type": "markdown",
   "id": "8b3eabcf",
   "metadata": {},
   "source": [
    "\n",
    "# Computational Mathematics  <a class=\"tocSkip\">\n",
    "    \n",
    "## Probability (and some first steps towards Machine Learning from a probabilistic perspective) <a class=\"tocSkip\">"
   ]
  },
  {
   "cell_type": "markdown",
   "id": "55ac767b",
   "metadata": {},
   "source": [
    "## Learning objectives  <a class=\"tocSkip\">\n",
    "   \n",
    "<br>\n",
    "   \n",
    "1. Revision of some introductory statistics concepts.\n",
    "\n",
    "<br>\n",
    "\n",
    "2. Revision of some basic probability and uncertainty concepts.\n",
    "\n",
    "<br>\n",
    "\n",
    "3. Introduction of some initial machine learning concepts with some optional reading that will take some steps towards ML that will be picked up in your next two modules."
   ]
  },
  {
   "cell_type": "markdown",
   "id": "c3c60fdc",
   "metadata": {
    "toc": true
   },
   "source": [
    "<h1>Table of Contents<span class=\"tocSkip\"></span></h1>\n",
    "<div class=\"toc\"><ul class=\"toc-item\"><li><span><a href=\"#Introduction\" data-toc-modified-id=\"Introduction-1\"><span class=\"toc-item-num\">1&nbsp;&nbsp;</span>Introduction</a></span><ul class=\"toc-item\"><li><span><a href=\"#Some-background-reading-on-definitions\" data-toc-modified-id=\"Some-background-reading-on-definitions-1.1\"><span class=\"toc-item-num\">1.1&nbsp;&nbsp;</span>Some background reading on definitions</a></span></li></ul></li><li><span><a href=\"#Statistics\" data-toc-modified-id=\"Statistics-2\"><span class=\"toc-item-num\">2&nbsp;&nbsp;</span>Statistics</a></span><ul class=\"toc-item\"><li><span><a href=\"#Mean,-variance,-standard-deviation,-and-z-score\" data-toc-modified-id=\"Mean,-variance,-standard-deviation,-and-z-score-2.1\"><span class=\"toc-item-num\">2.1&nbsp;&nbsp;</span>Mean, variance, standard deviation, and z-score</a></span><ul class=\"toc-item\"><li><span><a href=\"#Mean-(average)\" data-toc-modified-id=\"Mean-(average)-2.1.1\"><span class=\"toc-item-num\">2.1.1&nbsp;&nbsp;</span>Mean (average)</a></span></li><li><span><a href=\"#Variance\" data-toc-modified-id=\"Variance-2.1.2\"><span class=\"toc-item-num\">2.1.2&nbsp;&nbsp;</span>Variance</a></span><ul class=\"toc-item\"><li><span><a href=\"#Aside---What's-the-link-between-mean-and-variance-with-regression?-...-A-thought-exercise\" data-toc-modified-id=\"Aside---What's-the-link-between-mean-and-variance-with-regression?-...-A-thought-exercise-2.1.2.1\"><span class=\"toc-item-num\">2.1.2.1&nbsp;&nbsp;</span>Aside - What's the link between mean and variance with regression? ... A thought exercise</a></span></li></ul></li><li><span><a href=\"#Standard-deviation\" data-toc-modified-id=\"Standard-deviation-2.1.3\"><span class=\"toc-item-num\">2.1.3&nbsp;&nbsp;</span>Standard deviation</a></span><ul class=\"toc-item\"><li><span><a href=\"#Population-vs-sample-mean/variance/standard-deviation\" data-toc-modified-id=\"Population-vs-sample-mean/variance/standard-deviation-2.1.3.1\"><span class=\"toc-item-num\">2.1.3.1&nbsp;&nbsp;</span>Population vs sample mean/variance/standard deviation</a></span></li></ul></li><li><span><a href=\"#Standard-score-(z-score)\" data-toc-modified-id=\"Standard-score-(z-score)-2.1.4\"><span class=\"toc-item-num\">2.1.4&nbsp;&nbsp;</span>Standard score (z-score)</a></span></li></ul></li><li><span><a href=\"#Example:-the-Iris-dataset\" data-toc-modified-id=\"Example:-the-Iris-dataset-2.2\"><span class=\"toc-item-num\">2.2&nbsp;&nbsp;</span>Example: the Iris dataset</a></span></li><li><span><a href=\"#Covariance-and-correlation-coefficient\" data-toc-modified-id=\"Covariance-and-correlation-coefficient-2.3\"><span class=\"toc-item-num\">2.3&nbsp;&nbsp;</span>Covariance and correlation coefficient</a></span><ul class=\"toc-item\"><li><span><a href=\"#Covariance\" data-toc-modified-id=\"Covariance-2.3.1\"><span class=\"toc-item-num\">2.3.1&nbsp;&nbsp;</span>Covariance</a></span></li><li><span><a href=\"#Covariance-matrix\" data-toc-modified-id=\"Covariance-matrix-2.3.2\"><span class=\"toc-item-num\">2.3.2&nbsp;&nbsp;</span>Covariance matrix</a></span></li><li><span><a href=\"#Correlation-coefficient\" data-toc-modified-id=\"Correlation-coefficient-2.3.3\"><span class=\"toc-item-num\">2.3.3&nbsp;&nbsp;</span>Correlation coefficient</a></span></li></ul></li></ul></li><li><span><a href=\"#Probability-and-Uncertainty\" data-toc-modified-id=\"Probability-and-Uncertainty-3\"><span class=\"toc-item-num\">3&nbsp;&nbsp;</span>Probability and Uncertainty</a></span><ul class=\"toc-item\"><li><span><a href=\"#Random-variables\" data-toc-modified-id=\"Random-variables-3.1\"><span class=\"toc-item-num\">3.1&nbsp;&nbsp;</span>Random variables</a></span><ul class=\"toc-item\"><li><span><a href=\"#More-definitions-(for-completeness-and-reference---you-don't-need-to-memorise)\" data-toc-modified-id=\"More-definitions-(for-completeness-and-reference---you-don't-need-to-memorise)-3.1.1\"><span class=\"toc-item-num\">3.1.1&nbsp;&nbsp;</span>More definitions (for completeness and reference - you don't need to memorise)</a></span></li><li><span><a href=\"#Discrete-and-continuous-random-variables\" data-toc-modified-id=\"Discrete-and-continuous-random-variables-3.1.2\"><span class=\"toc-item-num\">3.1.2&nbsp;&nbsp;</span>Discrete and continuous random variables</a></span></li></ul></li><li><span><a href=\"#Probability\" data-toc-modified-id=\"Probability-3.2\"><span class=\"toc-item-num\">3.2&nbsp;&nbsp;</span>Probability</a></span><ul class=\"toc-item\"><li><span><a href=\"#Properties\" data-toc-modified-id=\"Properties-3.2.1\"><span class=\"toc-item-num\">3.2.1&nbsp;&nbsp;</span>Properties</a></span></li><li><span><a href=\"#Notation\" data-toc-modified-id=\"Notation-3.2.2\"><span class=\"toc-item-num\">3.2.2&nbsp;&nbsp;</span>Notation</a></span></li></ul></li><li><span><a href=\"#Probability-Distribution-Function\" data-toc-modified-id=\"Probability-Distribution-Function-3.3\"><span class=\"toc-item-num\">3.3&nbsp;&nbsp;</span>Probability Distribution Function</a></span><ul class=\"toc-item\"><li><span><a href=\"#Probability-Mass-Functions\" data-toc-modified-id=\"Probability-Mass-Functions-3.3.1\"><span class=\"toc-item-num\">3.3.1&nbsp;&nbsp;</span>Probability Mass Functions</a></span></li><li><span><a href=\"#Properties-of-Probability-Mass-Functions\" data-toc-modified-id=\"Properties-of-Probability-Mass-Functions-3.3.2\"><span class=\"toc-item-num\">3.3.2&nbsp;&nbsp;</span>Properties of Probability Mass Functions</a></span></li><li><span><a href=\"#Simulation-of-a-die-rolling-experiment\" data-toc-modified-id=\"Simulation-of-a-die-rolling-experiment-3.3.3\"><span class=\"toc-item-num\">3.3.3&nbsp;&nbsp;</span>Simulation of a die-rolling experiment</a></span></li><li><span><a href=\"#Probability-Density-Functions\" data-toc-modified-id=\"Probability-Density-Functions-3.3.4\"><span class=\"toc-item-num\">3.3.4&nbsp;&nbsp;</span>Probability Density Functions</a></span></li><li><span><a href=\"#Example-1\" data-toc-modified-id=\"Example-1-3.3.5\"><span class=\"toc-item-num\">3.3.5&nbsp;&nbsp;</span>Example 1</a></span></li><li><span><a href=\"#Cumulative-distribution-function\" data-toc-modified-id=\"Cumulative-distribution-function-3.3.6\"><span class=\"toc-item-num\">3.3.6&nbsp;&nbsp;</span>Cumulative distribution function</a></span></li><li><span><a href=\"#Example-2\" data-toc-modified-id=\"Example-2-3.3.7\"><span class=\"toc-item-num\">3.3.7&nbsp;&nbsp;</span>Example 2</a></span></li></ul></li><li><span><a href=\"#Central-Limit-Theorem\" data-toc-modified-id=\"Central-Limit-Theorem-3.4\"><span class=\"toc-item-num\">3.4&nbsp;&nbsp;</span>Central Limit Theorem</a></span></li><li><span><a href=\"#Joint-Probability\" data-toc-modified-id=\"Joint-Probability-3.5\"><span class=\"toc-item-num\">3.5&nbsp;&nbsp;</span>Joint Probability</a></span><ul class=\"toc-item\"><li><span><a href=\"#Notation\" data-toc-modified-id=\"Notation-3.5.1\"><span class=\"toc-item-num\">3.5.1&nbsp;&nbsp;</span>Notation</a></span></li><li><span><a href=\"#Dependent-and-Independent-Events\" data-toc-modified-id=\"Dependent-and-Independent-Events-3.5.2\"><span class=\"toc-item-num\">3.5.2&nbsp;&nbsp;</span>Dependent and Independent Events</a></span></li><li><span><a href=\"#Joint-Probability-of-Independent-and-Dependent-Events\" data-toc-modified-id=\"Joint-Probability-of-Independent-and-Dependent-Events-3.5.3\"><span class=\"toc-item-num\">3.5.3&nbsp;&nbsp;</span>Joint Probability of Independent and Dependent Events</a></span><ul class=\"toc-item\"><li><span><a href=\"#Independent-Events\" data-toc-modified-id=\"Independent-Events-3.5.3.1\"><span class=\"toc-item-num\">3.5.3.1&nbsp;&nbsp;</span>Independent Events</a></span></li><li><span><a href=\"#Dependent-Events\" data-toc-modified-id=\"Dependent-Events-3.5.3.2\"><span class=\"toc-item-num\">3.5.3.2&nbsp;&nbsp;</span>Dependent Events</a></span></li></ul></li><li><span><a href=\"#Marginal-Probabilities-and-the-Sum-Rule\" data-toc-modified-id=\"Marginal-Probabilities-and-the-Sum-Rule-3.5.4\"><span class=\"toc-item-num\">3.5.4&nbsp;&nbsp;</span>Marginal Probabilities and the Sum Rule</a></span></li><li><span><a href=\"#The-Iris-dataset-revisited\" data-toc-modified-id=\"The-Iris-dataset-revisited-3.5.5\"><span class=\"toc-item-num\">3.5.5&nbsp;&nbsp;</span>The Iris dataset revisited</a></span></li></ul></li><li><span><a href=\"#Conditional-Probability\" data-toc-modified-id=\"Conditional-Probability-3.6\"><span class=\"toc-item-num\">3.6&nbsp;&nbsp;</span>Conditional Probability</a></span><ul class=\"toc-item\"><li><span><a href=\"#Car-example\" data-toc-modified-id=\"Car-example-3.6.1\"><span class=\"toc-item-num\">3.6.1&nbsp;&nbsp;</span>Car example</a></span></li><li><span><a href=\"#The-product-rule-of-probability\" data-toc-modified-id=\"The-product-rule-of-probability-3.6.2\"><span class=\"toc-item-num\">3.6.2&nbsp;&nbsp;</span>The product rule of probability</a></span></li><li><span><a href=\"#Car-example---revisited\" data-toc-modified-id=\"Car-example---revisited-3.6.3\"><span class=\"toc-item-num\">3.6.3&nbsp;&nbsp;</span>Car example - revisited</a></span></li><li><span><a href=\"#More-events\" data-toc-modified-id=\"More-events-3.6.4\"><span class=\"toc-item-num\">3.6.4&nbsp;&nbsp;</span>More events</a></span></li></ul></li></ul></li><li><span><a href=\"#Machine-Learning,-Data-Science---&quot;simple&quot;-methods-and-links-to-probability\" data-toc-modified-id=\"Machine-Learning,-Data-Science---&quot;simple&quot;-methods-and-links-to-probability-4\"><span class=\"toc-item-num\">4&nbsp;&nbsp;</span>Machine Learning, Data Science - \"simple\" methods and links to probability</a></span><ul class=\"toc-item\"><li><span><a href=\"#Some-initial-definitions\" data-toc-modified-id=\"Some-initial-definitions-4.1\"><span class=\"toc-item-num\">4.1&nbsp;&nbsp;</span>Some initial definitions</a></span></li><li><span><a href=\"#Data\" data-toc-modified-id=\"Data-4.2\"><span class=\"toc-item-num\">4.2&nbsp;&nbsp;</span>Data</a></span><ul class=\"toc-item\"><li><span><a href=\"#Qualitative-data\" data-toc-modified-id=\"Qualitative-data-4.2.1\"><span class=\"toc-item-num\">4.2.1&nbsp;&nbsp;</span>Qualitative data</a></span></li><li><span><a href=\"#Quantitative-data\" data-toc-modified-id=\"Quantitative-data-4.2.2\"><span class=\"toc-item-num\">4.2.2&nbsp;&nbsp;</span>Quantitative data</a></span></li></ul></li><li><span><a href=\"#Supervised-learning-(classification-|-regression)\" data-toc-modified-id=\"Supervised-learning-(classification-|-regression)-4.3\"><span class=\"toc-item-num\">4.3&nbsp;&nbsp;</span>Supervised learning (classification | regression)</a></span></li><li><span><a href=\"#Bayes'-Theorem\" data-toc-modified-id=\"Bayes'-Theorem-4.4\"><span class=\"toc-item-num\">4.4&nbsp;&nbsp;</span>Bayes' Theorem</a></span></li><li><span><a href=\"#Naive-Bayes-classifier\" data-toc-modified-id=\"Naive-Bayes-classifier-4.5\"><span class=\"toc-item-num\">4.5&nbsp;&nbsp;</span>Naive Bayes classifier</a></span><ul class=\"toc-item\"><li><span><a href=\"#Accuracy-of-our-classifier\" data-toc-modified-id=\"Accuracy-of-our-classifier-4.5.1\"><span class=\"toc-item-num\">4.5.1&nbsp;&nbsp;</span>Accuracy of our classifier</a></span></li></ul></li><li><span><a href=\"#Other-classification-and-regression-models\" data-toc-modified-id=\"Other-classification-and-regression-models-4.6\"><span class=\"toc-item-num\">4.6&nbsp;&nbsp;</span>Other classification and regression models</a></span></li></ul></li><li><span><a href=\"#Summary\" data-toc-modified-id=\"Summary-5\"><span class=\"toc-item-num\">5&nbsp;&nbsp;</span>Summary</a></span></li></ul></div>"
   ]
  },
  {
   "cell_type": "markdown",
   "id": "c5f8c534",
   "metadata": {},
   "source": [
    "# Introduction"
   ]
  },
  {
   "cell_type": "markdown",
   "id": "d5e8f6e9",
   "metadata": {},
   "source": [
    "*Data science* (and *machine learning*) tries to find patterns and extract knowledge from data. \n",
    "\n",
    "It is a common practice in science to use observations to help understand systems. \n",
    "We typically do that by building a model to represent the system using mathematical concepts. \n",
    "\n",
    "We've seen and discussed these concept several times already.\n",
    "We also noted the famous saying which we should always keep in mind\n",
    "\n",
    "\n",
    "<br>\n",
    "\n",
    "\n",
    "> \"All models are wrong, some are useful\" - George Box\n",
    "\n",
    "\n",
    "<br>\n",
    "\n",
    "To make sense of data, we have to deal with uncertainty. \n",
    "\n",
    "There are multiple possible sources of uncertainty. \n",
    "\n",
    "It can come from the data itself, from the data that you do not have, from the inherent randomness (or stochasticity*) of the system you want to model, from simplifying assumptions made in your model, etc.\n",
    "\n",
    "The goal of probability is to deal with uncertainty. \n",
    "\n",
    "<br>\n",
    "\n",
    "[* \"Although stochasticity and randomness are distinct in that the former refers to a modeling approach and the latter refers to phenomena themselves, these two terms are often used synonymously\" <https://en.wikipedia.org/wiki/Stochastic>]"
   ]
  },
  {
   "cell_type": "markdown",
   "id": "ed3ce46e",
   "metadata": {},
   "source": [
    "## Some background reading on definitions\n",
    "\n",
    "<br>\n",
    "\n",
    "- Probability vs Statistics <https://towardsdatascience.com/probability-vs-statistics-95f221cc74f7>\n",
    "\n",
    "> \"Probability theory is a branch of mathematics concerned with probability. Probability is a numerical description of the likelihood of an event. A lot of times by saying probability, we refer to probability theory and not just the number. This is understandable by the context of the sentence.\n",
    "\n",
    "> Statistics is a branch of mathematics that concerns the collection, organization, displaying, analysis, interpretation and presentation of data.\n",
    "\n",
    "> The relationship between those two is that in statistics, we apply probability(probability theory) to draw conclusions from data.\"\n",
    "\n",
    "<br>\n",
    "\n",
    "<br>\n",
    "\n",
    "- What's the difference between probability and statistics? <https://stats.stackexchange.com/questions/665/whats-the-difference-between-probability-and-statistics>"
   ]
  },
  {
   "cell_type": "markdown",
   "id": "7f624394",
   "metadata": {},
   "source": [
    "# Statistics\n",
    "\n",
    "First let's quickly review some concepts from introductory statistics."
   ]
  },
  {
   "cell_type": "markdown",
   "id": "5db2220b",
   "metadata": {},
   "source": [
    "## Mean, variance, standard deviation, and z-score\n",
    "Suppose we have a set of values (*dataset*) \n",
    "\n",
    "$$\\{x_1, x_2, \\ldots, x_n\\}$$ \n",
    "\n",
    "that have been obtained by measuring/observing a property of some system we want to understand. \n",
    "\n",
    "<br>\n",
    "\n",
    "For instance, $x_i$ could be the prices of houses in London, or blood pressure readings of patients in a medical trial studying the effectiveness of a new treatment. \n",
    "\n",
    "<br>\n",
    "\n",
    "We can write our one-dimensional dataset as a vector \n",
    "\n",
    "$$\\mathbf{x} = [x_1, x_2, \\ldots, x_n]^T$$ \n",
    "\n",
    "\n",
    "The size of the dataset $n$ can range from only a few to many billions. \n",
    "\n",
    "Looking at the values one by one trying to find patterns in the data would most probably not lead us to a useful understanding of the system. \n",
    "\n",
    "What first statistical values can we extract from our dataset to help us start to better understand the system (via the data)?"
   ]
  },
  {
   "cell_type": "markdown",
   "id": "0d22bf81",
   "metadata": {},
   "source": [
    "### Mean (average)\n",
    "\n",
    "The *mean* of a vector $\\mathbf{x} = [x_1, x_2, \\ldots, x_n]^T$, usually denoted as $\\bar{x}$, is typically taken to be the arithmetic mean (average) of its elements, i.e. the sum of its components $x_i$ divided by the number of components $n$: \n",
    "\n",
    "$$\n",
    "\\bar{x} = \\frac{1}{n} \\sum_{i=1}^n x_i\n",
    "$$\n",
    "\n",
    "We interpret the mean as the middle (or the central point) of our dataset around which all values are equally distributed.\n",
    "\n",
    "<br>\n",
    "\n",
    "Note: There are other \"means\" such as the *harmonic mean* ($HM$) and the *geometric mean* ($GM$), but when we use *mean* with no qualifiers, we are typically referring to the *arithmetic mean* ($AM$) as above. \n",
    "\n",
    "Together these are termed the three classical [*Pythagorean means*](https://en.wikipedia.org/wiki/Pythagorean_means). \n",
    "\n",
    "Similar to what we observed for norms in L4, there is an ordering of their magnitudes (in the case that the $x$ data are all positive) ($HM\\le GM \\le AM$)\n",
    "\n",
    "<br>\n",
    "\n",
    "NB. The *median* and the *mode* are other examples of [*averages*](https://en.wikipedia.org/wiki/Average)."
   ]
  },
  {
   "cell_type": "code",
   "execution_count": 3,
   "id": "7b5d8daa",
   "metadata": {},
   "outputs": [
    {
     "name": "stdout",
     "output_type": "stream",
     "text": [
      "mean(x) = 5.0\n",
      "mean(y) = 5.0\n",
      "\n",
      " Pythagorean means of y:  4.48 4.738137220537587 5.0\n"
     ]
    }
   ],
   "source": [
    "# We can use np.mean to find the arithmetic mean:\n",
    "\n",
    "# datasets\n",
    "x = np.array([-15, 1, 9, 25])\n",
    "y = np.array([3, 4, 6, 7])\n",
    "\n",
    "# (arithmetic) means of these two datasets\n",
    "print('mean(x) = {}'.format(np.mean(x)))\n",
    "print('mean(y) = {}'.format(np.mean(y)))\n",
    "\n",
    "# For the geometric and harmonic means, and checking the above comment on the ordering for positive data (hence use of y data)\n",
    "\n",
    "print('\\n Pythagorean means of y: ',st.hmean(y), st.gmean(y), np.mean(y))"
   ]
  },
  {
   "cell_type": "markdown",
   "id": "301af482",
   "metadata": {},
   "source": [
    "### Variance\n",
    "\n",
    "The [*variance*](https://en.wikipedia.org/wiki/Variance), or to be precise, the *population variance*, is a value describing how the data is spread around the centre of our data (mean). \n",
    "\n",
    "A dataset with a large variance means that the data points are spread far away from the mean. \n",
    "\n",
    "On the other hand, a dataset with a small variance means that the data points are grouped closely around the mean. \n",
    "\n",
    "<br>\n",
    "\n",
    "For example, datasets: \n",
    "\n",
    "$$\\mathbf{x} = [-15, 1, 9, 25]^T$$ \n",
    "\n",
    "and \n",
    "\n",
    "$$\\mathbf{y} = [3, 4, 6, 7]^T$$ \n",
    "\n",
    "have the same mean $\\bar{x} = \\bar{y} = 5$, but data points in $\\mathbf{x}$ are further away from the mean than the data points in $\\mathbf{x}$ - we say that dataset $\\mathbf{x}$ has higher variance than dataset $\\mathbf{y}$. \n",
    "\n",
    "<br>\n",
    "\n",
    "For each data point in our dataset, we can compute the distance from the mean $(x_i - \\bar{x})$. \n",
    "\n",
    "Now, if we take the average of the squared distances from the mean, we obtain the *variance* $\\mathrm{Var}(\\mathbf{x})$ of our dataset $\\mathbf{x}$:\n",
    "\n",
    "$$\n",
    "\\mathrm{Var}(\\mathbf{x}) = \\frac{1}{n}\\sum_{i=1}^n (x_i - \\bar{x})^2\n",
    "$$\n",
    "\n",
    "<br>\n",
    "<br>\n",
    "\n",
    "For discussions on why we take the square  of the differences see <https://stats.stackexchange.com/questions/118/why-square-the-difference-instead-of-taking-the-absolute-value-in-standard-devia> and comments on the potential advatages of just taking the absolute mean difference: <https://onlinelibrary.wiley.com/doi/abs/10.1111/j.1467-8527.2005.00304.x>.\n",
    "\n",
    "Note the overlap with discussions over RMSE vs MAE!"
   ]
  },
  {
   "cell_type": "code",
   "execution_count": 4,
   "id": "0846207a",
   "metadata": {},
   "outputs": [
    {
     "name": "stdout",
     "output_type": "stream",
     "text": [
      "Var(x) = 208.0\n",
      "Var(y) = 2.5\n"
     ]
    }
   ],
   "source": [
    "# datasets\n",
    "x = np.array([-15, 1, 9, 25])\n",
    "y = np.array([3, 4, 6, 7])\n",
    "\n",
    "# Variances\n",
    "print('Var(x) = {}'.format(np.var(x)))\n",
    "print('Var(y) = {}'.format(np.var(y)))"
   ]
  },
  {
   "cell_type": "markdown",
   "id": "62eea2b7",
   "metadata": {},
   "source": [
    "#### Aside - What's the link between mean and variance with regression? ... A thought exercise\n",
    "\n",
    "Thought exercise: If we start from our dataset and seek to perform least-squares based curve-fitting or regression using a constant function, what are other words for the value of our approximating function and the corresponding mean square error that is being minimised in the least-squares approach?"
   ]
  },
  {
   "cell_type": "code",
   "execution_count": 5,
   "id": "07e2aee2",
   "metadata": {},
   "outputs": [
    {
     "name": "stdout",
     "output_type": "stream",
     "text": [
      "poly_coeffs:  [5.]\n",
      "square of the difference between the data and the polynomial of degree 0 =  832.0\n",
      "and so the average of the squares of the errors is  208.0\n"
     ]
    }
   ],
   "source": [
    "# Consider our dataset\n",
    "x = np.array([-15, 1, 9, 25])\n",
    "\n",
    "# Re-use code from L5\n",
    "degree = 0\n",
    "# we need two vectors, assume our data (variable x) has corresponding \"x\" dat just goven by 0,1,2,3 - result not dependent on this choice \n",
    "poly_coeffs = np.polyfit(np.arange(4), x, degree)\n",
    "print('poly_coeffs: ',poly_coeffs)\n",
    "\n",
    "def sqr_error(p, xi, yi):\n",
    "    \"\"\"\"function to evaluate the sum of square of errors\"\"\"\n",
    "    # first compute the square of the differences\n",
    "    diff2 = (p(xi)-yi)**2\n",
    "    # and return their sum\n",
    "    return diff2.sum()\n",
    "\n",
    "p = np.poly1d(poly_coeffs)\n",
    "print('square of the difference between the data and the '\n",
    "          'polynomial of degree 0 = ',sqr_error(p, np.arange(4), x))\n",
    "print('and so the average of the squares of the errors is ',sqr_error(p, np.arange(4), x)/len(x))"
   ]
  },
  {
   "cell_type": "markdown",
   "id": "f4a51316",
   "metadata": {},
   "source": [
    "### Standard deviation\n",
    "\n",
    "The *standard deviation* (or population SD) is simply the square root of the variance. It is usually denoted as $\\sigma$:\n",
    "\n",
    "$$\n",
    "\\sigma(x) = \\sqrt{\\mathrm{Var}(\\mathbf{x})} = \\sqrt{\\frac{1}{n}\\sum_{i=1}^n (x_i - \\bar{x})^2}\n",
    "$$\n",
    "\n",
    "Both the variance and the standard deviation are *dispersion indicators*: they quantify how the values in a dataset are dispersed around the mean. \n",
    "\n",
    "Note that the units (or dimension) of variance is the square of the units of the observations, whereas the standard deviation has the same units. \n",
    "\n",
    "Both the variance and the standard deviation are always positive (like a distance, measuring how far away the data points are from the mean):\n",
    "\n",
    "$$\n",
    "\\mathrm{Var}(x) \\geq 0, \\quad \\sigma(x) \\geq 0\n",
    "$$\n",
    "\n",
    "<br>\n",
    "<br>\n",
    "\n",
    "Aside: Recall that we made a similar observation when commenting on the mean square error (MSE) vs the root mean square error (RMSE). We don't need to take square roots (redudent flops), nor indeed take the average, when minimising using this quantity within an algorithm, but we may want to ultimately average and take square roots when reporting or comparing methods.\n"
   ]
  },
  {
   "cell_type": "code",
   "execution_count": 6,
   "id": "f51ce4e7",
   "metadata": {},
   "outputs": [
    {
     "name": "stdout",
     "output_type": "stream",
     "text": [
      "std_dev(x) = 14.422205101855956\n",
      "std_dev(y) = 1.5811388300841898\n",
      "True\n"
     ]
    }
   ],
   "source": [
    "# datasets\n",
    "x = np.array([-15, 1, 9, 25])\n",
    "y = np.array([3, 4, 6, 7])\n",
    "\n",
    "# standard deviations\n",
    "print('std_dev(x) = {}'.format(np.std(x)))\n",
    "print('std_dev(y) = {}'.format(np.std(y)))\n",
    "print(np.isclose(st.tstd(x)**2,st.tvar(x)))"
   ]
  },
  {
   "cell_type": "markdown",
   "id": "0aaf197a",
   "metadata": {},
   "source": [
    "#### Population vs sample mean/variance/standard deviation\n",
    "\n",
    "In statistics, it is important to differentiate between the population and a sample. \n",
    "\n",
    "The *population* is the exhaustive set of all members of a specified group. e.g. if we are interested in working with house prices in London, the set of every single house in London is the population. \n",
    "\n",
    "The above discussion about variance (and SD) is about *population variance*. The formula above (with a sum over $n$ values) is only valid when the dataset consists of the entire population. \n",
    "\n",
    "Getting data for the entire population is often difficult, if not impossible. \n",
    "More commonly, we work with a *sample* from a large population, which is a subset of the whole population. \n",
    "\n",
    "In this case, we are interested in using the data from the *sample* to estimate the mean/variance of the *population*. \n",
    "\n",
    "<br>\n",
    "\n",
    "The mean of a sample represents a good estimate for the mean of the population. \n",
    "In other words, the sample mean is an [*unbiased estimator*](https://en.wikipedia.org/wiki/Bias_of_an_estimator) of the population mean. \n",
    "\n",
    "<br>\n",
    "\n",
    "However, the variance (and standard deviation) of a sample is often less than the variance of the population the sample is from. \n",
    "In other words, the sample variance is a [*biased estimator*](https://en.wikipedia.org/wiki/Bias_of_an_estimator) of the population variance. \n",
    "\n",
    "Hence, we must make a distinction between calculating the population variance directly and using the sample variance to *estimate* population variance. \n",
    "\n",
    "<br>\n",
    "\n",
    "NB. The sample mean/variance can also be referred to as the empirical mean/variance (\"empirical\" meaning based on observation(s)).\n",
    "\n",
    "<br>\n",
    "\n",
    "From <https://en.wikipedia.org/wiki/Bessel%27s_correction>\n",
    "\n",
    ">\"The sum of squares of the distance from samples to the population mean will always be bigger than the sum of squares of the distance to the sample mean, except when the sample mean happens to be the same as the population mean, in which case the two are equal....\n",
    "That is why the sum of squares of the deviations from the sample mean is too small to give an unbiased estimate of the population variance when the average of those squares is found. The smaller the sample size, the larger is the difference between the sample variance and the population variance.\"\n",
    "\n",
    "<br>\n",
    "\n",
    "A way to see this\n",
    "\n",
    "Consider our dataset and assume this is the entire polulation\n",
    "\n",
    "$$\\mathbf{y} = [3, 4, 6, 7]^T$$ \n",
    "\n",
    "with mean 5 and variance 2.5.\n",
    " \n",
    "Now take the first entry only as our sample, its mean is 3 and its variance (using this same sample mean in the calculation) is 0. \n",
    "\n",
    "Take the final entry of $y$ as our sample, ... mean 7, variance again 0.\n",
    "\n",
    "So these samples give arguably reasonable, and unbiased estimates of the pop mean, but the variance (calculated using the sample mean which is all we may know) is always biased in being too low."
   ]
  },
  {
   "cell_type": "markdown",
   "id": "24029c52",
   "metadata": {},
   "source": [
    "##### Aside:  Bessel's correction\n",
    "\n",
    "NB. In case of the biased estimate of the population variance, we can apply a [correction](https://en.wikipedia.org/wiki/Bessel%27s_correction). \n",
    "\n",
    "The correction turns out to be to just divide through by one less than the sample size, instead of the sample size (i.e. $n-1$ rather than $n$). Dividing by this slightly smaller number corrects for the bias of the sample variance (using $n$) being less than the population variance. This discussion also applies to standard deviation and covariance.\n",
    "\n",
    "See also \n",
    "\n",
    "- <https://en.wikipedia.org/wiki/Unbiased_estimation_of_standard_deviation>\n",
    "\n",
    "- <https://en.wikipedia.org/wiki/Variance#Sample_variance>\n",
    "\n",
    "And as this concept might be a bit hard to get your head around and easily misunderstood see also discussions (which also confuse the issue by, for example, also using an assumed population mean in the sample variance calculation):\n",
    "\n",
    "- <https://math.stackexchange.com/questions/3270153/is-sample-variance-always-less-than-or-equal-to-population-variance>\n",
    "\n",
    "- <https://www.quora.com/Why-is-the-sample-variance-always-smaller-than-the-population-variance>\n",
    "\n",
    "\n",
    "<br>\n",
    "\n",
    "The bottom line is that if you see $\\frac{1}{n-1}$ where you might be expecting an \"average\" with $\\frac{1}{n}$, this is the reason.\n",
    "\n",
    "Note that when $n$ is large, the difference between $n$ and $n-1$ is small."
   ]
  },
  {
   "cell_type": "code",
   "execution_count": 7,
   "id": "b74cfb43",
   "metadata": {},
   "outputs": [
    {
     "name": "stdout",
     "output_type": "stream",
     "text": [
      "std_dev(x) = 16.65332799572906\n",
      "std_dev(x) = 277.3333333333333\n",
      "True\n",
      "False\n",
      "True\n"
     ]
    }
   ],
   "source": [
    "# from scipy stats library, use the trimmed SD and VAR functions (we're not doing any trimming)\n",
    "print('std_dev(x) = {}'.format(st.tstd(x)))\n",
    "print('std_dev(x) = {}'.format(st.tvar(x)))\n",
    "\n",
    "# is this SD the square root of variance?\n",
    "print(np.isclose(st.tstd(x)**2,st.tvar(x)))\n",
    "# yes they are - so these two functions agree with our defintions\n",
    "\n",
    "# Now, are our variances from numpy computed above and using scipy.stats the same?\n",
    "print(np.isclose(np.var(x), st.tvar(x)))\n",
    "# no they're not\n",
    "\n",
    "# How can we reconclile this difference? -----> let's try undoing the Bessel correction:\n",
    "print(np.isclose(np.var(x), ((len(x)-1)/len(x)) * st.tvar(x)))"
   ]
  },
  {
   "cell_type": "markdown",
   "id": "1e509e8b",
   "metadata": {},
   "source": [
    "### Standard score (z-score)\n",
    "\n",
    "By knowing how to compute the mean ($\\bar{x}$) and the standard deviation ($\\sigma$), we can now define the [*standard score*](https://en.wikipedia.org/wiki/Standard_score), commonly referred to as the z-score, for a data point. \n",
    "\n",
    "We can compute the difference between a single value $x_i$ in the dataset $\\mathbf{x}$ and the mean as $(x_i - \\bar{x})$. \n",
    "\n",
    "The problem with quoting or analysing differences are that they are *relative* - it's often good practice to make these differences *relative* by somehow normalising, or making non-dimensional.\n",
    "\n",
    "If we divide our difference by the standard deviation we get the standard score (z-score):\n",
    "\n",
    "$$z_{i} = \\frac{x_i - \\bar{x}}{\\sigma}$$\n",
    "\n",
    "The z-score has no units (i.e. is dimensionless, this is because we've divided two quantities that have the same units - the reason we use S.D. here are not variance of course).\n",
    "\n",
    "The z-score quantifies how many standard deviations our data point $x_i$ is above (positive score) or below (negative) the mean. \n",
    "\n",
    "\n",
    "<br>\n",
    "\n",
    "Let's see how to use scipy to compute z-scores for data points in $\\mathbf{x}$ from the previous example (which recall had mean 5 and SD $\\sim$14):"
   ]
  },
  {
   "cell_type": "code",
   "execution_count": 8,
   "id": "9813d94f",
   "metadata": {},
   "outputs": [
    {
     "name": "stdout",
     "output_type": "stream",
     "text": [
      "z-scores: {-15: -1.386750490563073, 1: -0.2773500981126146, 9: 0.2773500981126146, 25: 1.386750490563073}\n"
     ]
    }
   ],
   "source": [
    "print(f'z-scores: {dict(zip(x, st.zscore(x)))}')"
   ]
  },
  {
   "cell_type": "markdown",
   "id": "259fca29",
   "metadata": {},
   "source": [
    "## Example: the Iris dataset\n",
    "\n",
    "Let's make use of a standard data set to complute some simple statistics, \n",
    "\n",
    "(also a bit later we'll use it to perform some simple classification and ML tasks).\n",
    "\n",
    "<br>\n",
    "\n",
    "The famous [**Iris dataset**](https://en.wikipedia.org/wiki/Iris_flower_data_set) is a multivariate dataset consisting of 50 samples from the three species of the Iris flower (*Iris setosa*, *Iris virginica*, *Iris versicolor*) by botanist Edgar Anderson.\n",
    "\n",
    "Four *features* were measured got each sample: the length and the width of the sepals and the petals, in centimetres. Based on the combination of these four features, statistician/biologist Ronald Fisher developed a model to distinguish the species from each other.\n",
    "\n",
    "This data set remained a popular reference data set for classification for many decades following its introduction - to the point that [scikit-learn](https://scikit-learn.org/) (a Python package with implementations of many common data analysis and machine learning algorithms) includes it as one of its \"toy\" standard datasets <https://scikit-learn.org/stable/datasets/toy_dataset.html>.\n",
    "\n",
    "However, it is considered *too simple* for today's state-of-the-art deep learning algorithms and hence not really used outside of the classroom anymore. "
   ]
  },
  {
   "cell_type": "code",
   "execution_count": 9,
   "id": "71b1811e",
   "metadata": {},
   "outputs": [],
   "source": [
    "# load the Iris data set using the fact it's included in scikit-learn\n",
    "\n",
    "from sklearn.datasets import load_iris\n",
    "\n",
    "iris = load_iris()"
   ]
  },
  {
   "cell_type": "markdown",
   "id": "7725511c",
   "metadata": {},
   "source": [
    "Take a look here to see what the resulting scikit-learn \"bunch\" object iris now contains: <https://scikit-learn.org/stable/modules/generated/sklearn.datasets.load_iris.html>\n",
    "\n",
    "<br>\n",
    "\n",
    "We can look at the description of the Iris dataset to give us a bit of background and context."
   ]
  },
  {
   "cell_type": "code",
   "execution_count": 10,
   "id": "dff82a2d",
   "metadata": {},
   "outputs": [
    {
     "name": "stdout",
     "output_type": "stream",
     "text": [
      ".. _iris_dataset:\n",
      "\n",
      "Iris plants dataset\n",
      "--------------------\n",
      "\n",
      "**Data Set Characteristics:**\n",
      "\n",
      "    :Number of Instances: 150 (50 in each of three classes)\n",
      "    :Number of Attributes: 4 numeric, predictive attributes and the class\n",
      "    :Attribute Information:\n",
      "        - sepal length in cm\n",
      "        - sepal width in cm\n",
      "        - petal length in cm\n",
      "        - petal width in cm\n",
      "        - class:\n",
      "                - Iris-Setosa\n",
      "                - Iris-Versicolour\n",
      "                - Iris-Virginica\n",
      "                \n",
      "    :Summary Statistics:\n",
      "\n",
      "    ============== ==== ==== ======= ===== ====================\n",
      "                    Min  Max   Mean    SD   Class Correlation\n",
      "    ============== ==== ==== ======= ===== ====================\n",
      "    sepal length:   4.3  7.9   5.84   0.83    0.7826\n",
      "    sepal width:    2.0  4.4   3.05   0.43   -0.4194\n",
      "    petal length:   1.0  6.9   3.76   1.76    0.9490  (high!)\n",
      "    petal width:    0.1  2.5   1.20   0.76    0.9565  (high!)\n",
      "    ============== ==== ==== ======= ===== ====================\n",
      "\n",
      "    :Missing Attribute Values: None\n",
      "    :Class Distribution: 33.3% for each of 3 classes.\n",
      "    :Creator: R.A. Fisher\n",
      "    :Donor: Michael Marshall (MARSHALL%PLU@io.arc.nasa.gov)\n",
      "    :Date: July, 1988\n",
      "\n",
      "The famous Iris database, first used by Sir R.A. Fisher. The dataset is taken\n",
      "from Fisher's paper. Note that it's the same as in R, but not as in the UCI\n",
      "Machine Learning Repository, which has two wrong data points.\n",
      "\n",
      "This is perhaps the best known database to be found in the\n",
      "pattern recognition literature.  Fisher's paper is a classic in the field and\n",
      "is referenced frequently to this day.  (See Duda & Hart, for example.)  The\n",
      "data set contains 3 classes of 50 instances each, where each class refers to a\n",
      "type of iris plant.  One class is linearly separable from the other 2; the\n",
      "latter are NOT linearly separable from each other.\n",
      "\n",
      ".. topic:: References\n",
      "\n",
      "   - Fisher, R.A. \"The use of multiple measurements in taxonomic problems\"\n",
      "     Annual Eugenics, 7, Part II, 179-188 (1936); also in \"Contributions to\n",
      "     Mathematical Statistics\" (John Wiley, NY, 1950).\n",
      "   - Duda, R.O., & Hart, P.E. (1973) Pattern Classification and Scene Analysis.\n",
      "     (Q327.D83) John Wiley & Sons.  ISBN 0-471-22361-1.  See page 218.\n",
      "   - Dasarathy, B.V. (1980) \"Nosing Around the Neighborhood: A New System\n",
      "     Structure and Classification Rule for Recognition in Partially Exposed\n",
      "     Environments\".  IEEE Transactions on Pattern Analysis and Machine\n",
      "     Intelligence, Vol. PAMI-2, No. 1, 67-71.\n",
      "   - Gates, G.W. (1972) \"The Reduced Nearest Neighbor Rule\".  IEEE Transactions\n",
      "     on Information Theory, May 1972, 431-433.\n",
      "   - See also: 1988 MLC Proceedings, 54-64.  Cheeseman et al\"s AUTOCLASS II\n",
      "     conceptual clustering system finds 3 classes in the data.\n",
      "   - Many, many more ...\n"
     ]
    }
   ],
   "source": [
    "print(iris['DESCR'])"
   ]
  },
  {
   "cell_type": "markdown",
   "id": "fd8e63b0",
   "metadata": {},
   "source": [
    "The \"data\" consists of 150 rows and 4 columns:"
   ]
  },
  {
   "cell_type": "code",
   "execution_count": 11,
   "id": "d80d1ef2",
   "metadata": {},
   "outputs": [
    {
     "name": "stdout",
     "output_type": "stream",
     "text": [
      "[[5.1 3.5 1.4 0.2]\n",
      " [4.9 3.  1.4 0.2]\n",
      " [4.7 3.2 1.3 0.2]\n",
      " [4.6 3.1 1.5 0.2]\n",
      " [5.  3.6 1.4 0.2]\n",
      " [5.4 3.9 1.7 0.4]\n",
      " [4.6 3.4 1.4 0.3]\n",
      " [5.  3.4 1.5 0.2]\n",
      " [4.4 2.9 1.4 0.2]\n",
      " [4.9 3.1 1.5 0.1]\n",
      " [5.4 3.7 1.5 0.2]\n",
      " [4.8 3.4 1.6 0.2]\n",
      " [4.8 3.  1.4 0.1]\n",
      " [4.3 3.  1.1 0.1]\n",
      " [5.8 4.  1.2 0.2]\n",
      " [5.7 4.4 1.5 0.4]\n",
      " [5.4 3.9 1.3 0.4]\n",
      " [5.1 3.5 1.4 0.3]\n",
      " [5.7 3.8 1.7 0.3]\n",
      " [5.1 3.8 1.5 0.3]\n",
      " [5.4 3.4 1.7 0.2]\n",
      " [5.1 3.7 1.5 0.4]\n",
      " [4.6 3.6 1.  0.2]\n",
      " [5.1 3.3 1.7 0.5]\n",
      " [4.8 3.4 1.9 0.2]\n",
      " [5.  3.  1.6 0.2]\n",
      " [5.  3.4 1.6 0.4]\n",
      " [5.2 3.5 1.5 0.2]\n",
      " [5.2 3.4 1.4 0.2]\n",
      " [4.7 3.2 1.6 0.2]\n",
      " [4.8 3.1 1.6 0.2]\n",
      " [5.4 3.4 1.5 0.4]\n",
      " [5.2 4.1 1.5 0.1]\n",
      " [5.5 4.2 1.4 0.2]\n",
      " [4.9 3.1 1.5 0.2]\n",
      " [5.  3.2 1.2 0.2]\n",
      " [5.5 3.5 1.3 0.2]\n",
      " [4.9 3.6 1.4 0.1]\n",
      " [4.4 3.  1.3 0.2]\n",
      " [5.1 3.4 1.5 0.2]\n",
      " [5.  3.5 1.3 0.3]\n",
      " [4.5 2.3 1.3 0.3]\n",
      " [4.4 3.2 1.3 0.2]\n",
      " [5.  3.5 1.6 0.6]\n",
      " [5.1 3.8 1.9 0.4]\n",
      " [4.8 3.  1.4 0.3]\n",
      " [5.1 3.8 1.6 0.2]\n",
      " [4.6 3.2 1.4 0.2]\n",
      " [5.3 3.7 1.5 0.2]\n",
      " [5.  3.3 1.4 0.2]\n",
      " [7.  3.2 4.7 1.4]\n",
      " [6.4 3.2 4.5 1.5]\n",
      " [6.9 3.1 4.9 1.5]\n",
      " [5.5 2.3 4.  1.3]\n",
      " [6.5 2.8 4.6 1.5]\n",
      " [5.7 2.8 4.5 1.3]\n",
      " [6.3 3.3 4.7 1.6]\n",
      " [4.9 2.4 3.3 1. ]\n",
      " [6.6 2.9 4.6 1.3]\n",
      " [5.2 2.7 3.9 1.4]\n",
      " [5.  2.  3.5 1. ]\n",
      " [5.9 3.  4.2 1.5]\n",
      " [6.  2.2 4.  1. ]\n",
      " [6.1 2.9 4.7 1.4]\n",
      " [5.6 2.9 3.6 1.3]\n",
      " [6.7 3.1 4.4 1.4]\n",
      " [5.6 3.  4.5 1.5]\n",
      " [5.8 2.7 4.1 1. ]\n",
      " [6.2 2.2 4.5 1.5]\n",
      " [5.6 2.5 3.9 1.1]\n",
      " [5.9 3.2 4.8 1.8]\n",
      " [6.1 2.8 4.  1.3]\n",
      " [6.3 2.5 4.9 1.5]\n",
      " [6.1 2.8 4.7 1.2]\n",
      " [6.4 2.9 4.3 1.3]\n",
      " [6.6 3.  4.4 1.4]\n",
      " [6.8 2.8 4.8 1.4]\n",
      " [6.7 3.  5.  1.7]\n",
      " [6.  2.9 4.5 1.5]\n",
      " [5.7 2.6 3.5 1. ]\n",
      " [5.5 2.4 3.8 1.1]\n",
      " [5.5 2.4 3.7 1. ]\n",
      " [5.8 2.7 3.9 1.2]\n",
      " [6.  2.7 5.1 1.6]\n",
      " [5.4 3.  4.5 1.5]\n",
      " [6.  3.4 4.5 1.6]\n",
      " [6.7 3.1 4.7 1.5]\n",
      " [6.3 2.3 4.4 1.3]\n",
      " [5.6 3.  4.1 1.3]\n",
      " [5.5 2.5 4.  1.3]\n",
      " [5.5 2.6 4.4 1.2]\n",
      " [6.1 3.  4.6 1.4]\n",
      " [5.8 2.6 4.  1.2]\n",
      " [5.  2.3 3.3 1. ]\n",
      " [5.6 2.7 4.2 1.3]\n",
      " [5.7 3.  4.2 1.2]\n",
      " [5.7 2.9 4.2 1.3]\n",
      " [6.2 2.9 4.3 1.3]\n",
      " [5.1 2.5 3.  1.1]\n",
      " [5.7 2.8 4.1 1.3]\n",
      " [6.3 3.3 6.  2.5]\n",
      " [5.8 2.7 5.1 1.9]\n",
      " [7.1 3.  5.9 2.1]\n",
      " [6.3 2.9 5.6 1.8]\n",
      " [6.5 3.  5.8 2.2]\n",
      " [7.6 3.  6.6 2.1]\n",
      " [4.9 2.5 4.5 1.7]\n",
      " [7.3 2.9 6.3 1.8]\n",
      " [6.7 2.5 5.8 1.8]\n",
      " [7.2 3.6 6.1 2.5]\n",
      " [6.5 3.2 5.1 2. ]\n",
      " [6.4 2.7 5.3 1.9]\n",
      " [6.8 3.  5.5 2.1]\n",
      " [5.7 2.5 5.  2. ]\n",
      " [5.8 2.8 5.1 2.4]\n",
      " [6.4 3.2 5.3 2.3]\n",
      " [6.5 3.  5.5 1.8]\n",
      " [7.7 3.8 6.7 2.2]\n",
      " [7.7 2.6 6.9 2.3]\n",
      " [6.  2.2 5.  1.5]\n",
      " [6.9 3.2 5.7 2.3]\n",
      " [5.6 2.8 4.9 2. ]\n",
      " [7.7 2.8 6.7 2. ]\n",
      " [6.3 2.7 4.9 1.8]\n",
      " [6.7 3.3 5.7 2.1]\n",
      " [7.2 3.2 6.  1.8]\n",
      " [6.2 2.8 4.8 1.8]\n",
      " [6.1 3.  4.9 1.8]\n",
      " [6.4 2.8 5.6 2.1]\n",
      " [7.2 3.  5.8 1.6]\n",
      " [7.4 2.8 6.1 1.9]\n",
      " [7.9 3.8 6.4 2. ]\n",
      " [6.4 2.8 5.6 2.2]\n",
      " [6.3 2.8 5.1 1.5]\n",
      " [6.1 2.6 5.6 1.4]\n",
      " [7.7 3.  6.1 2.3]\n",
      " [6.3 3.4 5.6 2.4]\n",
      " [6.4 3.1 5.5 1.8]\n",
      " [6.  3.  4.8 1.8]\n",
      " [6.9 3.1 5.4 2.1]\n",
      " [6.7 3.1 5.6 2.4]\n",
      " [6.9 3.1 5.1 2.3]\n",
      " [5.8 2.7 5.1 1.9]\n",
      " [6.8 3.2 5.9 2.3]\n",
      " [6.7 3.3 5.7 2.5]\n",
      " [6.7 3.  5.2 2.3]\n",
      " [6.3 2.5 5.  1.9]\n",
      " [6.5 3.  5.2 2. ]\n",
      " [6.2 3.4 5.4 2.3]\n",
      " [5.9 3.  5.1 1.8]]\n"
     ]
    }
   ],
   "source": [
    "print(iris['data'])"
   ]
  },
  {
   "cell_type": "markdown",
   "id": "2c72cbc6",
   "metadata": {},
   "source": [
    "The four columns are measurements (in cm) of the following features:"
   ]
  },
  {
   "cell_type": "code",
   "execution_count": 12,
   "id": "f51d7696",
   "metadata": {},
   "outputs": [
    {
     "name": "stdout",
     "output_type": "stream",
     "text": [
      "['sepal length (cm)', 'sepal width (cm)', 'petal length (cm)', 'petal width (cm)']\n"
     ]
    }
   ],
   "source": [
    "print(iris['feature_names'])"
   ]
  },
  {
   "cell_type": "markdown",
   "id": "928da8c3",
   "metadata": {},
   "source": [
    "Each data row is a member of one of the three species of Iris. \n",
    "\n",
    "The identifiers (0, 1, or 2) encode to which Iris species (or **class**) each row belongs to:"
   ]
  },
  {
   "cell_type": "code",
   "execution_count": 13,
   "id": "9436cd8e",
   "metadata": {},
   "outputs": [
    {
     "name": "stdout",
     "output_type": "stream",
     "text": [
      "[0 0 0 0 0 0 0 0 0 0 0 0 0 0 0 0 0 0 0 0 0 0 0 0 0 0 0 0 0 0 0 0 0 0 0 0 0\n",
      " 0 0 0 0 0 0 0 0 0 0 0 0 0 1 1 1 1 1 1 1 1 1 1 1 1 1 1 1 1 1 1 1 1 1 1 1 1\n",
      " 1 1 1 1 1 1 1 1 1 1 1 1 1 1 1 1 1 1 1 1 1 1 1 1 1 1 2 2 2 2 2 2 2 2 2 2 2\n",
      " 2 2 2 2 2 2 2 2 2 2 2 2 2 2 2 2 2 2 2 2 2 2 2 2 2 2 2 2 2 2 2 2 2 2 2 2 2\n",
      " 2 2]\n"
     ]
    }
   ],
   "source": [
    "print(iris['target'])\n"
   ]
  },
  {
   "cell_type": "markdown",
   "id": "ebc95c73",
   "metadata": {},
   "source": [
    "i.e. we have labelled data here,\n",
    "\n",
    "where labels or identifiers 0, 1 and 2 correspond to the following Iris species:"
   ]
  },
  {
   "cell_type": "code",
   "execution_count": 14,
   "id": "2e67de24",
   "metadata": {},
   "outputs": [
    {
     "name": "stdout",
     "output_type": "stream",
     "text": [
      "['setosa' 'versicolor' 'virginica']\n"
     ]
    }
   ],
   "source": [
    "print(iris['target_names'])"
   ]
  },
  {
   "cell_type": "markdown",
   "id": "fd9df551",
   "metadata": {},
   "source": [
    "Let's load the Iris dataset into a `pandas` DataFrame:"
   ]
  },
  {
   "cell_type": "code",
   "execution_count": 15,
   "id": "a4c856ef",
   "metadata": {},
   "outputs": [
    {
     "data": {
      "text/html": [
       "<div>\n",
       "<style scoped>\n",
       "    .dataframe tbody tr th:only-of-type {\n",
       "        vertical-align: middle;\n",
       "    }\n",
       "\n",
       "    .dataframe tbody tr th {\n",
       "        vertical-align: top;\n",
       "    }\n",
       "\n",
       "    .dataframe thead th {\n",
       "        text-align: right;\n",
       "    }\n",
       "</style>\n",
       "<table border=\"1\" class=\"dataframe\">\n",
       "  <thead>\n",
       "    <tr style=\"text-align: right;\">\n",
       "      <th></th>\n",
       "      <th>sepal length (cm)</th>\n",
       "      <th>sepal width (cm)</th>\n",
       "      <th>petal length (cm)</th>\n",
       "      <th>petal width (cm)</th>\n",
       "      <th>target</th>\n",
       "    </tr>\n",
       "  </thead>\n",
       "  <tbody>\n",
       "    <tr>\n",
       "      <th>0</th>\n",
       "      <td>5.1</td>\n",
       "      <td>3.5</td>\n",
       "      <td>1.4</td>\n",
       "      <td>0.2</td>\n",
       "      <td>0.0</td>\n",
       "    </tr>\n",
       "    <tr>\n",
       "      <th>1</th>\n",
       "      <td>4.9</td>\n",
       "      <td>3.0</td>\n",
       "      <td>1.4</td>\n",
       "      <td>0.2</td>\n",
       "      <td>0.0</td>\n",
       "    </tr>\n",
       "    <tr>\n",
       "      <th>2</th>\n",
       "      <td>4.7</td>\n",
       "      <td>3.2</td>\n",
       "      <td>1.3</td>\n",
       "      <td>0.2</td>\n",
       "      <td>0.0</td>\n",
       "    </tr>\n",
       "    <tr>\n",
       "      <th>3</th>\n",
       "      <td>4.6</td>\n",
       "      <td>3.1</td>\n",
       "      <td>1.5</td>\n",
       "      <td>0.2</td>\n",
       "      <td>0.0</td>\n",
       "    </tr>\n",
       "    <tr>\n",
       "      <th>4</th>\n",
       "      <td>5.0</td>\n",
       "      <td>3.6</td>\n",
       "      <td>1.4</td>\n",
       "      <td>0.2</td>\n",
       "      <td>0.0</td>\n",
       "    </tr>\n",
       "  </tbody>\n",
       "</table>\n",
       "</div>"
      ],
      "text/plain": [
       "   sepal length (cm)  sepal width (cm)  petal length (cm)  petal width (cm)  \\\n",
       "0                5.1               3.5                1.4               0.2   \n",
       "1                4.9               3.0                1.4               0.2   \n",
       "2                4.7               3.2                1.3               0.2   \n",
       "3                4.6               3.1                1.5               0.2   \n",
       "4                5.0               3.6                1.4               0.2   \n",
       "\n",
       "   target  \n",
       "0     0.0  \n",
       "1     0.0  \n",
       "2     0.0  \n",
       "3     0.0  \n",
       "4     0.0  "
      ]
     },
     "execution_count": 15,
     "metadata": {},
     "output_type": "execute_result"
    }
   ],
   "source": [
    "irisdf = pd.DataFrame(data=np.c_[iris['data'], iris['target']],\n",
    "                      columns=iris['feature_names'] + ['target'])\n",
    "irisdf.head()"
   ]
  },
  {
   "cell_type": "markdown",
   "id": "f0998859",
   "metadata": {},
   "source": [
    "Let's examine the Iris dataset visually using pairwise scatter plots from the seaborn plotting library:\n",
    "\n",
    "<https://seaborn.pydata.org/generated/seaborn.pairplot.html>\n",
    "\n",
    "    `By default, this function will create a grid of Axes such that each numeric variable in data will by shared across the y-axes across a single row and the x-axes across a single column. The diagonal plots are treated differently: a univariate distribution plot is drawn to show the marginal distribution of the data in each column.`"
   ]
  },
  {
   "cell_type": "code",
   "execution_count": 16,
   "id": "b2bbf383",
   "metadata": {},
   "outputs": [
    {
     "data": {
      "text/plain": [
       "<seaborn.axisgrid.PairGrid at 0x1555c71d308>"
      ]
     },
     "execution_count": 16,
     "metadata": {},
     "output_type": "execute_result"
    },
    {
     "data": {
      "image/png": "[encoded data removed]",
      "text/plain": [
       "<Figure size 774.975x720 with 20 Axes>"
      ]
     },
     "metadata": {
      "needs_background": "light"
     },
     "output_type": "display_data"
    }
   ],
   "source": [
    "sns.pairplot(irisdf, vars=irisdf.columns[:-1], hue='target')"
   ]
  },
  {
   "cell_type": "markdown",
   "id": "e7c93276",
   "metadata": {},
   "source": [
    "At the time of writing a version of this figure appears on the Wikipedia page for the Iris data set\n",
    "\n",
    "<https://en.wikipedia.org/wiki/Iris_flower_data_set>\n",
    "\n",
    "Image: <https://en.wikipedia.org/wiki/Iris_flower_data_set#/media/File:Iris_dataset_scatterplot.svg>"
   ]
  },
  {
   "cell_type": "code",
   "execution_count": 17,
   "id": "4681be59",
   "metadata": {},
   "outputs": [
    {
     "data": {
      "text/plain": [
       "<matplotlib.collections.PathCollection at 0x1555d3b5fc8>"
      ]
     },
     "execution_count": 17,
     "metadata": {},
     "output_type": "execute_result"
    },
    {
     "data": {
      "image/png": "[encoded data removed]",
      "text/plain": [
       "<Figure size 360x360 with 1 Axes>"
      ]
     },
     "metadata": {
      "needs_background": "light"
     },
     "output_type": "display_data"
    },
    {
     "data": {
      "image/png": "[encoded data removed]",
      "text/plain": [
       "<Figure size 360x360 with 1 Axes>"
      ]
     },
     "metadata": {
      "needs_background": "light"
     },
     "output_type": "display_data"
    }
   ],
   "source": [
    "# To help make sure we understand what's going on here we could grab the data as numpy vectors\n",
    "# and try to plot these, e.g. ....\n",
    "\n",
    "sepal_lengths_target0 = irisdf.loc[irisdf['target'] == 0].iloc[:,0].to_numpy()\n",
    "sepal_lengths_target1 = irisdf.loc[irisdf['target'] == 1].iloc[:,0].to_numpy()\n",
    "sepal_lengths_target2 = irisdf.loc[irisdf['target'] == 2].iloc[:,0].to_numpy()\n",
    "\n",
    "fig = plt.figure(figsize=(5, 5))\n",
    "ax1 = fig.add_subplot(111)\n",
    "# use the sns axes level function kdeplot - alternatively you could just try matplotlib hist\n",
    "sns.kdeplot(sepal_lengths_target0, ax=ax1, color='blue')\n",
    "sns.kdeplot(sepal_lengths_target1, ax=ax1, color='red')\n",
    "sns.kdeplot(sepal_lengths_target2, ax=ax1, color='green')\n",
    "\n",
    "\n",
    "sepal_widths_target0 = irisdf.loc[irisdf['target'] == 0].iloc[:,1].to_numpy()\n",
    "sepal_widths_target1 = irisdf.loc[irisdf['target'] == 1].iloc[:,1].to_numpy()\n",
    "sepal_widths_target2 = irisdf.loc[irisdf['target'] == 2].iloc[:,1].to_numpy()\n",
    "\n",
    "fig = plt.figure(figsize=(5, 5))\n",
    "ax2 = fig.add_subplot(111)\n",
    "ax2.scatter(sepal_widths_target0, sepal_lengths_target0, color='grey')\n",
    "ax2.scatter(sepal_widths_target1, sepal_lengths_target1, color='olive')\n",
    "ax2.scatter(sepal_widths_target2, sepal_lengths_target2, color='cyan')"
   ]
  },
  {
   "cell_type": "markdown",
   "id": "9eea81b7",
   "metadata": {},
   "source": [
    "## Covariance and correlation coefficient\n",
    "\n",
    "As we saw in the previous section, the variance of a dataset is computed as the average of the squared distances from the mean. \n",
    "\n",
    "We now extend this idea to two variables in a dataset, which leads us to the concepts of *covariance* and *correlation*.\n",
    "\n"
   ]
  },
  {
   "cell_type": "markdown",
   "id": "82c592a7",
   "metadata": {},
   "source": [
    "### Covariance\n",
    "\n",
    "The (population) [*covariance*](https://en.wikipedia.org/wiki/Covariance) between two variables in a dataset tells us if large values in one variable are associated with large values in the other and, conversely, if small values in one variable are associated with small values in the other. \n",
    "\n",
    "If we have two variables $x$ and $y$ in a dataset, we calculate the covariance as the average of products of differences from the mean for both variables:\n",
    "\n",
    "$$\n",
    "\\mathrm{Cov}(x, y) = \\frac{1}{n}\\sum_{i=1}^n (x_i - \\bar{x})(y_i - \\bar{y}),\n",
    "$$\n",
    "\n",
    "with $\\bar{x}$ and $\\bar{y}$ being the means of the variables $x$ and $y$, respectively. \n",
    "\n",
    "Note that, unlike variance, which is always positive, covariance can be both positive or negative.\n",
    "\n",
    "<br>\n",
    "\n",
    "Let's think a bit about what's going on here:\n",
    "\n",
    "\n",
    "- subtracting the means can be interpreted as shifting all the $x$ and and all the $y$ data to be distributed about zero.\n",
    "\n",
    "\n",
    "- the covariance will then be LARGE in magnitude and POSITIVE when it is made up of a sum of large positive numbers (which we get through the product of two large positive values, OR through the product of two large in magnitude but negative values)\n",
    "\n",
    "\n",
    "- conversely the covariance will be LARGE in magnitude and NEGATIVE when it is made up of a sum of large in magnitude negative numbers (which we get through the product of two large in magnitude values of differing signs)\n",
    "\n",
    "\n",
    "- and finally the covariance will be SMALLER in magnitude when larger numbers are multiplied with smaller numbers, and will be zero or near zero when the resulting postives and negatives cancel each other out when summed.\n",
    "\n",
    "<br>\n",
    "\n",
    "The result is that a positive covariance means that the two variables vary in the same direction: larger values in one variable are associated with larger values in the other, and similarly smaller values in one variable are associated with smaller values in the other. \n",
    "\n",
    "On the other hand, a negative covariance means that larger values of one variable are associated with smaller values of the other, and vice-versa. \n",
    "\n",
    "Finally, a covariance close to 0 means that there is no linear relationship between the two variables.\n",
    "\n",
    "<br>\n",
    "\n",
    "Looking at the plots above (before looking at the numbers from the following cell, use the \"eyeball norm\" to estimate the covariances in terms of larger/smaller, positive/negative - do this for all the data, i.e. ignore the different colours.\n",
    "\n",
    "<br>\n",
    "\n",
    "Now let's actually calculate the covariances between the four measured variables in the Iris dataset using the Pandas pairwise covariance function:"
   ]
  },
  {
   "cell_type": "code",
   "execution_count": 18,
   "id": "e027153a",
   "metadata": {},
   "outputs": [
    {
     "data": {
      "text/html": [
       "<div>\n",
       "<style scoped>\n",
       "    .dataframe tbody tr th:only-of-type {\n",
       "        vertical-align: middle;\n",
       "    }\n",
       "\n",
       "    .dataframe tbody tr th {\n",
       "        vertical-align: top;\n",
       "    }\n",
       "\n",
       "    .dataframe thead th {\n",
       "        text-align: right;\n",
       "    }\n",
       "</style>\n",
       "<table border=\"1\" class=\"dataframe\">\n",
       "  <thead>\n",
       "    <tr style=\"text-align: right;\">\n",
       "      <th></th>\n",
       "      <th>sepal length (cm)</th>\n",
       "      <th>sepal width (cm)</th>\n",
       "      <th>petal length (cm)</th>\n",
       "      <th>petal width (cm)</th>\n",
       "    </tr>\n",
       "  </thead>\n",
       "  <tbody>\n",
       "    <tr>\n",
       "      <th>sepal length (cm)</th>\n",
       "      <td>0.685694</td>\n",
       "      <td>-0.042434</td>\n",
       "      <td>1.274315</td>\n",
       "      <td>0.516271</td>\n",
       "    </tr>\n",
       "    <tr>\n",
       "      <th>sepal width (cm)</th>\n",
       "      <td>-0.042434</td>\n",
       "      <td>0.189979</td>\n",
       "      <td>-0.329656</td>\n",
       "      <td>-0.121639</td>\n",
       "    </tr>\n",
       "    <tr>\n",
       "      <th>petal length (cm)</th>\n",
       "      <td>1.274315</td>\n",
       "      <td>-0.329656</td>\n",
       "      <td>3.116278</td>\n",
       "      <td>1.295609</td>\n",
       "    </tr>\n",
       "    <tr>\n",
       "      <th>petal width (cm)</th>\n",
       "      <td>0.516271</td>\n",
       "      <td>-0.121639</td>\n",
       "      <td>1.295609</td>\n",
       "      <td>0.581006</td>\n",
       "    </tr>\n",
       "  </tbody>\n",
       "</table>\n",
       "</div>"
      ],
      "text/plain": [
       "                   sepal length (cm)  sepal width (cm)  petal length (cm)  \\\n",
       "sepal length (cm)           0.685694         -0.042434           1.274315   \n",
       "sepal width (cm)           -0.042434          0.189979          -0.329656   \n",
       "petal length (cm)           1.274315         -0.329656           3.116278   \n",
       "petal width (cm)            0.516271         -0.121639           1.295609   \n",
       "\n",
       "                   petal width (cm)  \n",
       "sepal length (cm)          0.516271  \n",
       "sepal width (cm)          -0.121639  \n",
       "petal length (cm)          1.295609  \n",
       "petal width (cm)           0.581006  "
      ]
     },
     "execution_count": 18,
     "metadata": {},
     "output_type": "execute_result"
    }
   ],
   "source": [
    "# let's ignore the final column - the `target` or `class` variable\n",
    "irisdf.iloc[:, :-1].cov()"
   ]
  },
  {
   "cell_type": "markdown",
   "id": "4be67192",
   "metadata": {},
   "source": [
    "### Covariance matrix\n",
    "\n",
    "By computing covariances on the Iris dataset, we obtained more than a single value - we obtained a matrix. \n",
    "\n",
    "We refer to that matrix as a [*covariance matrix*](https://en.wikipedia.org/wiki/Covariance_matrix). It helps us to visually structure the covariances between two or more variables in a dataset. With $n$ variables in a dataset, the covariance matrix is an $n \\times n$ symmetric matrix, as illustrated in [Figure 1](#fig:covariance_matrix). \n",
    "\n",
    "<img src=\"images/ch03_covariance_matrix.png\" id=\"fig:covariance_matrix\" width=\"250\" alt=\"Figure 1: The illustration of a covariance matrix of the variables x and y.\" />\n",
    "\n",
    "**Figure 1**: The illustration of a $2 \\times 2$ covariance matrix between the variables $x$ and $y$.\n",
    "\n",
    "<br>\n",
    "\n",
    "\n",
    "The diagonal is filled with the covariances of variables with themselves - $\\mathrm{Cov}(x, x)$ which simply corresponds to the variance $\\mathrm{Var}(x)$:\n",
    "\n",
    "$$\n",
    "\\begin{aligned}\n",
    "\\text{Cov}(x, x) &= \\frac{1}{n}\\sum_{i=1}^n (x_i - \\bar{x})(x_i - \\bar{x}) \\\\\n",
    "&= \\frac{1}{n}\\sum_{i=1}^n (x_i - \\bar{x})^2 \\\\\n",
    "&= \\text{Var}(x)\n",
    "\\end{aligned}\n",
    "$$\n",
    "\n",
    "Non-diagonal elements correspond to covariances between different variable pairs, and since $\\mathrm{Cov}(x, y) = \\mathrm{Cov}(y, x)$ the covariance matrix is symmetric.\n",
    "\n",
    "Since the Iris dataset has 4 columns (variables), the covariance matrix is a $4 \\times 4$ matrix."
   ]
  },
  {
   "cell_type": "markdown",
   "id": "d003e08d",
   "metadata": {},
   "source": [
    "### Correlation coefficient\n",
    "\n",
    "Note that the magnitude of the covariance value we get out of above is hard to interpret as it's impacted by the size of the data, in other words it is *not* non-dimensional.\n",
    "\n",
    "We define the [*correlation coefficient*](https://en.wikipedia.org/wiki/Correlation_coefficient) $\\rho_{x,y}$, also known as the [*Pearson product-moment correlation coefficient (PPMCC)*](https://en.wikipedia.org/wiki/Pearson_correlation_coefficient), as the covariance between two variables $\\mathrm{Cov}(x, y)$ normalised by the product of their standard deviations:\n",
    "\n",
    "$$\n",
    "\\rho_{x,y} = \\frac{\\mathrm{Cov}(x, y)}{\\sigma(x)\\sigma(y)}\n",
    "$$\n",
    "\n",
    "The correlation coefficient provides a measure of the *linear* correlation between the values from datasets $x$ and $y$.\n",
    "\n",
    "$\\rho_{x,y}$ has a range of -1 to 1, with values closer to zero indicating less correlation.\n",
    "The closer it is to 1 or -1, the stronger the positive or negative correlation, respectively.\n",
    "\n",
    "NB. Covariance and correlation only account for linear relationships. Two variables could be non-linearly related to each other and these metrics could come out as zero."
   ]
  },
  {
   "cell_type": "code",
   "execution_count": 19,
   "id": "361423dd",
   "metadata": {},
   "outputs": [
    {
     "name": "stdout",
     "output_type": "stream",
     "text": [
      "(-0.11756978413300204, 0.15189826071144918)\n",
      "-0.11756978413300213\n"
     ]
    },
    {
     "data": {
      "image/png": "[encoded data removed]",
      "text/plain": [
       "<Figure size 432x288 with 1 Axes>"
      ]
     },
     "metadata": {
      "needs_background": "light"
     },
     "output_type": "display_data"
    }
   ],
   "source": [
    "# Let's use st.pearsonr to compute this quantity for the first two columns of data\n",
    "x = irisdf.iloc[:, 0]\n",
    "y = irisdf.iloc[:, 1]\n",
    "_ = sns.scatterplot(x=x, y=y)\n",
    "\n",
    "# print out what st.pearsonr returns\n",
    "print(st.pearsonr(x, y))\n",
    "\n",
    "# and check it (the first value output) agrees with what we compute \n",
    "# based on the formula in the above cell:\n",
    "print(irisdf.iloc[:, :-1].cov().iloc[0,1] / (st.tstd(x)*st.tstd(y)) ) \n",
    "\n",
    "# Note that the second value is the \"p-value\".\n",
    "# https://docs.scipy.org/doc/scipy/reference/generated/scipy.stats.pearsonr.html:\n",
    "# \"The p-value roughly indicates the probability of an uncorrelated \n",
    "# system producing datasets that have a Pearson correlation at least \n",
    "# as extreme as the one computed from these datasets.\"\n",
    "# <https://en.wikipedia.org/wiki/P-value>"
   ]
  },
  {
   "cell_type": "code",
   "execution_count": 20,
   "id": "8c3d6a74",
   "metadata": {},
   "outputs": [
    {
     "name": "stdout",
     "output_type": "stream",
     "text": [
      "(0.8717537758865832, 1.0386674194497525e-47)\n"
     ]
    },
    {
     "data": {
      "image/png": "[encoded data removed]",
      "text/plain": [
       "<Figure size 432x288 with 1 Axes>"
      ]
     },
     "metadata": {
      "needs_background": "light"
     },
     "output_type": "display_data"
    }
   ],
   "source": [
    "# The correlation was low and the p-value high when considering\n",
    "# sepal length vs sepal width\n",
    "\n",
    "\n",
    "# Instead consider what we get if we look at\n",
    "# sepal length vs petal length:\n",
    "x = irisdf.iloc[:, 0]\n",
    "y = irisdf.iloc[:, 2]\n",
    "_ = sns.scatterplot(x=x, y=y)\n",
    "print(st.pearsonr(x, y))\n",
    "\n",
    "# correlation now high with p-value very low"
   ]
  },
  {
   "cell_type": "markdown",
   "id": "9c5ee820",
   "metadata": {},
   "source": [
    "# Probability and Uncertainty\n",
    "\n",
    "*Probability* provides a means to talk about and to measure [**uncertainty**](https://en.wikipedia.org/wiki/Uncertainty). \n",
    "\n",
    "We could think of it as the proportion of times a certain event occurs, or our degree of belief about an event occurring.\n",
    "\n",
    "<br>\n",
    "\n",
    "These two ways of thinking about probability map over to what are sometimes known as the [**Frequentist**](https://en.wikipedia.org/wiki/Frequentist_probability) and [**Bayesian**](https://en.wikipedia.org/wiki/Bayesian_probability) interpretations or methodologies. \n",
    "\n",
    "<br>\n",
    "\n",
    "[Note that the definition or interpretation of Bayesian in terms of \"belief\" explains why is it sometimes described in terms of \"subjective probability\"]"
   ]
  },
  {
   "cell_type": "markdown",
   "id": "184eed48",
   "metadata": {},
   "source": [
    "Some interesting further reading about the distinctions between the Frequentist and Bayesian way of thinking, and the famous \"Monty Hall\" thought experiment:\n",
    "\n",
    "<https://towardsdatascience.com/statistics-are-you-bayesian-or-frequentist-4943f953f21b>\n",
    "\n",
    "<https://stats.stackexchange.com/questions/22/bayesian-and-frequentist-reasoning-in-plain-english>\n",
    "\n",
    "<https://en.wikipedia.org/wiki/Monty_Hall_problem>\n",
    "\n",
    "<https://towardsdatascience.com/the-monty-hall-problem-388f71a73e1>\n",
    "\n",
    "<https://www.statisticshowto.com/probability-and-statistics/monty-hall-problem/>\n",
    "\n",
    "<https://math.stackexchange.com/questions/2862752/how-to-solve-the-monty-hall-problem-using-bayes-theorem>"
   ]
  },
  {
   "cell_type": "markdown",
   "id": "25b4e9eb",
   "metadata": {},
   "source": [
    "The **uncertainty** that we may want to consider can be of two types: \n",
    "\n",
    "<br>\n",
    "\n",
    "- [**Aleatoric**](https://en.wikipedia.org/wiki/Uncertainty_quantification#Aleatoric_and_epistemic_uncertainty): The underlying phenomenon is inherently random and the uncertainty arises from it, i.e. more knowledge, data or a better model will not reduce the uncertainty. \n",
    "    - ***Aleatoric*** $\\approx$ \"***randomness***\"\n",
    "\n",
    "<br>\n",
    "\n",
    "- [**Epistemic**](https://en.wikipedia.org/wiki/Uncertainty_quantification#Aleatoric_and_epistemic_uncertainty): The underlying phenomenon is deterministic but our model is imperfect due to limitations over things we could know perfectly in principle but do not know in practice, i.e. more knowledge, data or a better model would reduce the uncertainty. \n",
    "    - ***Epistemic*** $\\approx$ \"***lack of knowledge***\"\n",
    "\n",
    "\n",
    "<br>\n",
    "\n",
    "\n",
    "Suggested further reading: \n",
    "\n",
    "- Tony O'Hagan, Dicing with the unknown. <https://rss.onlinelibrary.wiley.com/doi/full/10.1111/j.1740-9713.2004.00050.x>\n",
    "\n",
    "\n",
    "<br>\n",
    "<br>\n",
    "[NB. This also links back to earlier discussions on models, validation, sensitivity studies for input choices, calibration of uncertain inputs, etc.]"
   ]
  },
  {
   "cell_type": "markdown",
   "id": "dd7976d5",
   "metadata": {},
   "source": [
    "## Random variables\n",
    "\n",
    "Unlike the *variables* we use elsewhere, e.g. in standard calculus, a [**random variable**](https://en.wikipedia.org/wiki/Random_variable) takes a value corresponding to the [**outcome(s)**](https://en.wikipedia.org/wiki/Outcome_(probability)) of a **random experiment**\n",
    "(so building on above we might instead use the term *aleatory variable*,or stochastic variable).  [Think: values 0|1 correspond to outcomes Heads|Tails ... see below]\n",
    "\n",
    "A random [variable](https://en.wikipedia.org/wiki/Variable_(mathematics)) can be considered a **function** that takes an outcome (from the set of all outcomes) as an input and returns a \"value\", e.g. a real number.  These values are sometimes termed *states* and the set of all of these states is termed the *target space*.\n",
    "\n",
    "Since we don't know the outcome before performing the experiment we don't know this output value, hence it's \"variable\", i.e. not fixed, and since we assume the experiment is not deterministic, it's a \"random\" variable. However, mathematically we can just consider it a [function](https://en.wikipedia.org/wiki/Function_(mathematics)).\n",
    "\n",
    "<br>\n",
    "\n",
    "We can see an immediate example of such a *function* as we can readily execute Python code here:"
   ]
  },
  {
   "cell_type": "code",
   "execution_count": 21,
   "id": "c532c108",
   "metadata": {},
   "outputs": [
    {
     "name": "stdout",
     "output_type": "stream",
     "text": [
      "0.1497245449176714\n"
     ]
    }
   ],
   "source": [
    "# Execute this cell several times\n",
    "print(np.random.rand())"
   ]
  },
  {
   "cell_type": "markdown",
   "id": "789b6836",
   "metadata": {},
   "source": [
    "[Actually as this relies on an algorithm implemented in code, this function would be called a [*psuedo* random number](https://en.wikipedia.org/wiki/Pseudorandom_number_generator) generator - see also <https://engineering.mit.edu/engage/ask-an-engineer/can-a-computer-generate-a-truly-random-number/>]\n",
    "\n",
    "<br>\n",
    "\n",
    "<br>\n",
    "\n",
    "As a proper example, suppose we flip a coin, the two possible outcomes are \"heads\" (H) and \"tails\" (T). An example of a random variable would be a function that maps the outcome H to value 0 and the outcome T to value 1. \n",
    "\n",
    "As another example, let us say that we know that we are going to flip the coin 10 times. Then in this case we could also choose to define a random variable so that it maps the sequence of flips we get to the single number that counts the number of times we get heads.\n",
    "\n",
    "If we were rolling three dice the random variable could map the outcome to the number of sixes, or it could be chosen to map to the sum of the three faces shown by the three dice."
   ]
  },
  {
   "cell_type": "markdown",
   "id": "8f2060be",
   "metadata": {},
   "source": [
    "### More definitions (for completeness and reference - you don't need to memorise)\n",
    "\n",
    "Let us now define some other terms, some of which we already used:\n",
    "\n",
    "\n",
    "\n",
    "- A **random experiment** describes a process that gives us uncertain results, e.g. a coin flip.\n",
    "\n",
    "\n",
    "\n",
    "- The **outcome** of a random experiment is the result we obtain. If we flip a coin, two possible outcomes are H and T. Alternatively, if we pick a card from a deck of 52 cards, there are 52 possible outcomes. If we roll a six-sided die, the possible outcomes are 1, 2, 3, 4, 5, or 6. \n",
    "\n",
    "\n",
    "\n",
    "- The **sample space**, often denoted as $S$, is the set of all possible outcomes. For example, the sample space of a single six-sided die-rolling experiment is $\\{1, 2, 3, 4, 5, 6\\}$. The curly braces ($\\{\\}$) are used to denote [sets](https://en.wikipedia.org/wiki/Set_(mathematics)) (collections of elements). In an experiment where we flip a coin two times, the sample space is $\\{\\mathrm{HH}, \\mathrm{HT}, \\mathrm{TH}, \\mathrm{TT}\\}$. These are examples associated with a *discrete* random variable, we will also see *continuous* random variables where the sample space is infinite dimensional, i.e. there are infinitely many possible outcomes.\n",
    "\n",
    "\n",
    "\n",
    "- An **event** is a set of outcomes, i.e. a subset of the sample space. An event has occurred when the outcome of the experiment is an element of the \"event\". Intuitively, it corresponds to a question we can ask about the outcome of a random experiment. For instance, if we roll a die, we can ask:\n",
    "    - \"Is the outcome a 6?\"\n",
    "    - \"Is the outcome in the set $\\{1, 3, 6\\}$?\"\n",
    "    - \"Is the outcome even, i.e. in the set $\\{2, 4, 6\\}$?\"\n",
    "\n",
    "Note that the single outcome \"6\" is an element of all three of these events. \n",
    "\n",
    "All individual \"outcomes\" (1, ..., 6) are also individual \"events\" (and termed [*elementary events*](https://en.wikipedia.org/wiki/Elementary_event)).\n",
    "\n",
    "We can think of the set of all events as the [power set](https://en.wikipedia.org/wiki/Power_set) (i.e., the set of ALL subsets) of the set of outcomes.\n",
    "<br>\n",
    "\n",
    "We assign probabilities to *events* (which as just stated includes the individual outcomes)."
   ]
  },
  {
   "cell_type": "markdown",
   "id": "db27bc7b",
   "metadata": {},
   "source": [
    "A [**stochastic process**](https://en.wikipedia.org/wiki/Stochastic_process) is a general term for a process that consists of multiple random experiments, or a family of random variables, e.g. keep rolling a dice until you get a six.\n",
    "\n",
    "Another classical example is a [random walk](https://en.wikipedia.org/wiki/Random_walk).\n",
    "\n",
    "Here's some code borrowed from <https://www.codingem.com/random-walk-in-python/>"
   ]
  },
  {
   "cell_type": "code",
   "execution_count": 22,
   "id": "71d9d57d",
   "metadata": {},
   "outputs": [
    {
     "data": {
      "image/png": "[encoded data removed]",
      "text/plain": [
       "<Figure size 432x288 with 1 Axes>"
      ]
     },
     "metadata": {
      "needs_background": "light"
     },
     "output_type": "display_data"
    }
   ],
   "source": [
    "# run this cell several times - each time we start from (0,0)\n",
    "# ... where do we end up and what route do we take?\n",
    "\n",
    "import random\n",
    "\n",
    "def randomwalk2D(n):\n",
    "    # [0, 0, 0, ... ,0]\n",
    "    x = np.zeros(n)\n",
    "    y = np.zeros(n)\n",
    "\n",
    "    directions = [\"UP\", \"DOWN\", \"LEFT\", \"RIGHT\"]\n",
    "    for i in range(1, n):\n",
    "        # Pick a direction at random\n",
    "        step = random.choice(directions)\n",
    "        \n",
    "        # Move the object according to the direction\n",
    "        if step == \"RIGHT\":\n",
    "            x[i] = x[i - 1] + 1\n",
    "            y[i] = y[i - 1]\n",
    "        elif step == \"LEFT\":\n",
    "            x[i] = x[i - 1] - 1\n",
    "            y[i] = y[i - 1]\n",
    "        elif step == \"UP\":\n",
    "            x[i] = x[i - 1]\n",
    "            y[i] = y[i - 1] + 1\n",
    "        elif step == \"DOWN\":\n",
    "            x[i] = x[i - 1]\n",
    "            y[i] = y[i - 1] - 1\n",
    "    \n",
    "    # Return all the x and y positions of the object\n",
    "    return x, y\n",
    "\n",
    "x_data, y_data = randomwalk2D(100)\n",
    "\n",
    "plt.title(\"2D Random Walk in Python\")\n",
    "plt.plot(x_data, y_data)\n",
    "plt.show()"
   ]
  },
  {
   "cell_type": "markdown",
   "id": "71967348",
   "metadata": {},
   "source": [
    "### Discrete and continuous random variables\n",
    "\n",
    "A random variable is **discrete** when it maps an outcome to a finite set of values, e.g. outcome of a die or a coin toss. \n",
    "\n",
    "On the other hand, a random variable is **continuous** when it maps an outcome to any value in a range. For instance, the temperature could theoretically be $8.0^{\\circ}C$, or $8.05^{\\circ}C$, or $8.053^{\\circ}C$. The possible set of values in this case is infinite. [But what if we can only measure with finite precision?]"
   ]
  },
  {
   "cell_type": "markdown",
   "id": "aea0d89b",
   "metadata": {},
   "source": [
    "## Probability\n",
    "\n",
    "### Properties\n",
    "\n",
    "The **probability** associated with an event (including the elementary events, i.e. the individual outcomes) tells us how likely it is to occur. \n",
    "\n",
    "Probabilities must satisfy the following rules:\n",
    "\n",
    "\n",
    "1. They must be a non-negative real number.\n",
    "    \n",
    "    \n",
    "2. They cannot exceed 1.\n",
    "    \n",
    "    \n",
    "3. The probability that ANY of the possible outcomes will occur is 1 (that is, the sum of the probabilities over the individual outcomes (not all events) sums to 1).\n",
    "    \n",
    "    \n",
    "4. For two \"mutually exclusive\" events, the probability that either of the events occurs is equal to the sum of the probabilities that each event occurs.\n",
    "    \n",
    "    \n",
    "<br>\n",
    "<br>\n",
    "\n",
    "You might find this reference a useful resource:\n",
    "\n",
    "Probability rules cheat sheet (Basic probability rules with examples): <https://medium.com/data-comet/probability-rules-cheat-sheet-e24b92a9017f>\n",
    "\n",
    "<br>\n",
    "<br>\n",
    "\n",
    "Roughly speaking, a probability of 1 means that the event will always occur and a probability of 0 means that the event will never take place. \n",
    "\n",
    "(The former could be the event that we throw any of 1,2,3,4,5 or 6; while the latter is the null event, i.e. that something other than one of our outcomes occurs - we're clearly excluding the possibility that we lose the die, or that it lands on a corner or edge here!)\n",
    "\n",
    "\n",
    "##### Aside - \"almost ...\"\n",
    "\n",
    "However, in the case of *continuous* random variables, where the sample space (space of all possible outcomes) is infinite, a probability of 1 means that the event is \"almost\" certain to occur and a probability of 0 means that the event will \"almost\" never take place.  \n",
    "\n",
    "For more on this see <https://en.wikipedia.org/wiki/Almost_surely>. This is the analogue or [*almost everywhere*](https://en.wikipedia.org/wiki/Almost_everywhere) in measure theory.\n",
    "\n",
    "For a fun example take a look at the \"Infinite_monkey_theorem\": <https://en.wikipedia.org/wiki/Infinite_monkey_theorem>\n",
    ">a monkey hitting keys at random on a keyboard for an infinite amount of time will \"almost surely\" type any given text, including the complete works of William Shakespeare."
   ]
  },
  {
   "cell_type": "markdown",
   "id": "a394e6d0",
   "metadata": {},
   "source": [
    "### Notation\n",
    "\n",
    "Now that we have defined the terms we will use, let us look at the notation. \n",
    "\n",
    "We typically denote random variables with uppercase letters, such as $X$. \n",
    "\n",
    "The probability distribution associated with the random variable $X$ is denoted as $P(X)$ (defined next).\n",
    "\n",
    "The probability that this random variable takes the value $x$ is denoted as $P(X=x)$, or simply $P(x)$.\n",
    "\n",
    "<br>\n",
    "\n",
    "For example, in the case of a single coin toss we can write $P(0)=1/2$ [i.e. the probability that our random variable $X$ returns a zero, i.e. that our outcome of our experiment was a head, is a half.]"
   ]
  },
  {
   "cell_type": "markdown",
   "id": "b97d2269",
   "metadata": {},
   "source": [
    "## Probability Distribution Function\n",
    "\n",
    "A [**probability distribution function**](https://en.wikipedia.org/wiki/Probability_distribution) is a function mapping each outcome (or event) to its probability. \n",
    "\n",
    "More specifically, the probability mass for discrete variables, and the probability density for continuous variables. \n",
    "\n",
    "In the latter case we talk about the [**probability density function**](https://en.wikipedia.org/wiki/Probability_density_function) and often use the acronym **PDF**, while in the former we might talk about the [**probability mass function**](https://en.wikipedia.org/wiki/Probability_mass_function) (**PMF**).\n",
    "\n",
    "<br>\n",
    "\n",
    "Note that for discrete random variables we can obtain the probability of an event from the probability of individual outcomes, e.g. the probability of an even dice throw = sum of probabilities of rolling 2, 4 or 6. Hence it is sufficient for us to just define a function that assigns probabilities to outcomes.\n",
    "\n",
    "However, for a continuous random variable the probability of any individual outcome is actually zero and so we might think instead of an interval of outcomes, i.e. a subset of the sample space = an event."
   ]
  },
  {
   "cell_type": "markdown",
   "id": "8a246abd",
   "metadata": {},
   "source": [
    "### Probability Mass Functions\n",
    "\n",
    "Probability functions of *discrete* random variables are called [**probability mass functions** (or PMFs)](https://en.wikipedia.org/wiki/Probability_mass_function). \n",
    "\n",
    "For instance, let us say that we are performing a die-rolling experiment. We call $X$ the random variable corresponding to this experiment. Assuming that the die is fair, each outcome is *equiprobable*: if we run the experiment a large number of times, we will get each outcome approximately the same number of times. Here, assuming a six-sided die, there are six possible outcomes, so we have a  one over six chance of rolling each number.\n",
    "\n",
    "Thus, the probability mass function describing $X$ returns $\\frac{1}{6}$ for each possible outcome, and technically 0 otherwise since we cannot get something different than 1, 2, 3, 4, 5, or 6. \n",
    "\n",
    "<br>\n",
    "\n",
    "We can thus write:\n",
    "\n",
    "$$\n",
    "P(X=x) \\equiv P(x) = \n",
    "\\begin{cases}\n",
    "    \\frac{1}{6},& \\mathrm{if}\\, x \\in S=\\{1, 2, 3, 4, 5, 6\\} \\\\\n",
    "    0,              & \\text{otherwise}\n",
    "\\end{cases}\n",
    "$$\n",
    "\n",
    "<br>\n",
    "\n",
    "Also common is the notation (\"p sub x\"):\n",
    "\n",
    "$$p_X(x) = P(X=x)$$\n",
    "\n",
    "where $p_X(x)$ is a function from $\\mathbb{R}$ (the set of all real numbers) into the interval $[0,1]$, i.e. $p_X:\\mathbb{R}\\rightarrow [0,1]$.\n",
    "\n",
    "We will plot such a function shortly."
   ]
  },
  {
   "cell_type": "markdown",
   "id": "f218843e",
   "metadata": {},
   "source": [
    "### Properties of Probability Mass Functions\n",
    "\n",
    "Not every function can be considered as a probability mass function. \n",
    "\n",
    "A probability mass function must satisfy the following two conditions:\n",
    "\n",
    "<br>\n",
    "\n",
    "1. The function must return values between 0 and 1 for each possible outcome: $0 \\leq P(x) \\leq 1$ (or as above $p_X:\\mathbb{R}\\rightarrow [0,1]$).\n",
    "\n",
    "<br>\n",
    "\n",
    "2. The sum of probabilities corresponding to all the possible outcomes must be equal to 1:\n",
    "\n",
    "\n",
    "$$\n",
    "\\sum_{x \\in S} P(x) = 1  \\qquad\\text{or}\\qquad \\sum_{x \\in S} p_X(x) = 1\n",
    "$$\n",
    "\n",
    "<br>\n",
    "\n",
    "\n",
    "The value of $x$ can be any real number because values outside of the sample space are associated with a probability of 0, i.e. mathematically for any value $x$ not in the sample space $S$, $P(x)=0$.\n",
    "\n",
    "Hence, we can also legitimately write\n",
    "\n",
    "$$\n",
    "\\sum_{x \\in \\mathbb{R}} P(x) = 1  \\qquad\\text{or}\\qquad \\sum_{x \\in \\mathbb{R}} p_X(x) = 1\n",
    "$$"
   ]
  },
  {
   "cell_type": "markdown",
   "id": "98895874",
   "metadata": {},
   "source": [
    "### Simulation of a die-rolling experiment\n",
    "\n",
    "Let's simulate a die-rolling random experiment using the NumPy function `np.random.randint(low, high, size)`, which draws $n$ (`size`) random integers between `low` and `high` (high excluded) from a [*discrete uniform distribution*](https://en.wikipedia.org/wiki/Discrete_uniform_distribution) (i.e. each value equally likely to occur). \n",
    "\n",
    "We begin by simulating 20 die rolls, and printing the 20 outcomes we obtain:"
   ]
  },
  {
   "cell_type": "code",
   "execution_count": 23,
   "id": "dafd923d",
   "metadata": {},
   "outputs": [
    {
     "name": "stdout",
     "output_type": "stream",
     "text": [
      "[6 4 5 1 2 4 6 1 1 2 5 6 5 2 3 5 6 3 5 4]\n"
     ]
    }
   ],
   "source": [
    "#run several times, with and witout setting a random seed\n",
    "\n",
    "def dice_experiment(n):\n",
    "    # Set the seed if you want to make the random experiment reproducible.\n",
    "    # If you exclude this you should get a different result each time you run.\n",
    "    np.random.seed(1)\n",
    "    # return n rolls from the S = {1, 2, 3, 4, 5, 6} sample space\n",
    "    return np.random.randint(low=1, high=7, size=n)\n",
    "\n",
    "n = 20  # number of die rolls\n",
    "outcomes = dice_experiment(n)\n",
    "print(outcomes)"
   ]
  },
  {
   "cell_type": "markdown",
   "id": "ac6a1873",
   "metadata": {},
   "source": [
    "This array contains 20 outcomes of the random experiment. \n",
    "\n",
    "Define $X$ to be the discrete random variable corresponding to the die rolling experiment. The probability mass function of $X$ is defined only for the possible outcomes and gives us the probability for each of them.\n",
    "\n",
    "Let's visualise how many times each outcome occurred in the random experiment. \n",
    "\n",
    "By dividing the number of occurrences of each outcome (which we obtain using [`numpy.unique`](https://numpy.org/doc/stable/reference/generated/numpy.unique.html) with the \"return_counts\" option) by the total number of rolls $n$ we get the probabilities. Assuming the die is fair, we *expect* to obtain a *uniform distribution* - i.e. we expect each of the six outcomes to have the probability 1/6.\n",
    "\n",
    "We will use a stem plot [`plt.stem()`](https://matplotlib.org/stable/api/_as_gen/matplotlib.pyplot.stem.html) from Matplotlib to visualise these probabilities:"
   ]
  },
  {
   "cell_type": "code",
   "execution_count": 24,
   "id": "a4f054de",
   "metadata": {},
   "outputs": [],
   "source": [
    "# just define some useful functions first\n",
    "def probabilities(outcomes):\n",
    "    # Extract the number of occurences for each outcome\n",
    "    values, counts = np.unique(outcomes, return_counts=True)\n",
    "    n = len(outcomes)  # total number of outcomes   \n",
    "    return values, counts/n\n",
    "\n",
    "def plot_probability_mass_function(values, probabilities):\n",
    "    # Plot the probability mass function\n",
    "    plt.stem(values, probabilities, use_line_collection=True)\n",
    "\n",
    "    # Axis labels\n",
    "    plt.xlabel(r'$x$')\n",
    "    plt.ylabel(r'$P(x)$')\n",
    "\n",
    "    # Ensure that ticks are displayed with the right step\n",
    "    ax = plt.gca()\n",
    "    ax.xaxis.set_major_locator(ticker.MultipleLocator(1))\n",
    "    ax.yaxis.set_major_locator(ticker.MultipleLocator(0.1))\n",
    "\n",
    "    plt.show()"
   ]
  },
  {
   "cell_type": "code",
   "execution_count": 25,
   "id": "2516faf7",
   "metadata": {},
   "outputs": [
    {
     "name": "stdout",
     "output_type": "stream",
     "text": [
      "(array([1, 2, 3, 4, 5, 6]), array([0.15, 0.15, 0.1 , 0.15, 0.25, 0.2 ]))\n"
     ]
    }
   ],
   "source": [
    "# this is what the output of our function looks like for the 20 tosses\n",
    "# we performed above\n",
    "print(probabilities(outcomes))"
   ]
  },
  {
   "cell_type": "code",
   "execution_count": 26,
   "id": "b533f01e",
   "metadata": {},
   "outputs": [
    {
     "data": {
      "image/png": "[encoded data removed]",
      "text/plain": [
       "<Figure size 432x288 with 1 Axes>"
      ]
     },
     "metadata": {
      "needs_background": "light"
     },
     "output_type": "display_data"
    }
   ],
   "source": [
    "# visualise what our (calculation/approximation of the true) \n",
    "# PMF looks like in this case\n",
    "plot_probability_mass_function(*probabilities(outcomes))\n",
    "\n",
    "# if you rerun the experiment without setting the random seed you will see variations in this"
   ]
  },
  {
   "cell_type": "markdown",
   "id": "d46ab716",
   "metadata": {},
   "source": [
    "Let's check that our probability mass function satisfies the condition:\n",
    "\n",
    "$$\n",
    "\\sum_{x \\in S} P(x) = 1\n",
    "$$"
   ]
  },
  {
   "cell_type": "code",
   "execution_count": 27,
   "id": "7c2be34a",
   "metadata": {},
   "outputs": [
    {
     "name": "stdout",
     "output_type": "stream",
     "text": [
      "1.0\n"
     ]
    }
   ],
   "source": [
    "print(sum(probabilities(outcomes)[1]))"
   ]
  },
  {
   "cell_type": "markdown",
   "id": "31ad3565",
   "metadata": {},
   "source": [
    "With a uniform distribution (fair die), the plot would/should have the same height for each outcome (since the height corresponds to the probability, which is the same for each outcome of a die throw). \n",
    "\n",
    "However, the distribution shown in the above figure doesn’t look uniform. \n",
    "\n",
    "That is because we did not repeat the experiment enough times: the probabilities will equalise as we repeat the experiment a large number of times. \n",
    "\n",
    "Let's repeat the experiment for 1,000,000 die rolls:"
   ]
  },
  {
   "cell_type": "code",
   "execution_count": 28,
   "id": "b21b40b8",
   "metadata": {},
   "outputs": [
    {
     "data": {
      "image/png": "[encoded data removed]",
      "text/plain": [
       "<Figure size 432x288 with 1 Axes>"
      ]
     },
     "metadata": {
      "needs_background": "light"
     },
     "output_type": "display_data"
    }
   ],
   "source": [
    "n = 1_000_000\n",
    "outcomes = dice_experiment(n)\n",
    "plot_probability_mass_function(*probabilities(outcomes))"
   ]
  },
  {
   "cell_type": "markdown",
   "id": "d79d35a2",
   "metadata": {},
   "source": [
    "We can see that the probability mass function we have computed now far better resembles a uniform distribution.\n",
    "\n",
    "Let's print the probabilities to see how equal they actually are [more on this in the homework]:"
   ]
  },
  {
   "cell_type": "code",
   "execution_count": 29,
   "id": "b67369d8",
   "metadata": {},
   "outputs": [
    {
     "name": "stdout",
     "output_type": "stream",
     "text": [
      "(array([1, 2, 3, 4, 5, 6]), array([0.166288, 0.166316, 0.166637, 0.166555, 0.167247, 0.166957]))\n"
     ]
    }
   ],
   "source": [
    "print(probabilities(outcomes))"
   ]
  },
  {
   "cell_type": "markdown",
   "id": "60268740",
   "metadata": {},
   "source": [
    "### Probability Density Functions\n",
    "\n",
    "With continuous variables, there are an infinite number of possible outcomes. \n",
    "\n",
    "For instance, say we were somehow drawing a number between 0 and 1 - you might get an outcome of, for example, 0.4139498340 (where every digit after the zero is also zero and so we don't type them out, OR there are non-zeros that follow that we don't type as we need to truncate at some point - think pi for example)\n"
   ]
  },
  {
   "cell_type": "code",
   "execution_count": 30,
   "id": "3cc8d187",
   "metadata": {},
   "outputs": [
    {
     "name": "stdout",
     "output_type": "stream",
     "text": [
      "3.141592653589793238462643383279502884197169399375105820974944592307816406286208998628034825342117067982148086513282306647093844609550582231725359408128481117450284102701938521105559644622948954930381964428810975665933446128475648233786783165271201909145648566923460348610454326648213393607260249141273724587006606315588174881520920962829254091715364367892590360011330530548820466521384146951941511609433057270365759591953092186117381932611793105118548074462379962749567351885752724891227938183011949129833673362440656643086021394946395224737190702179860943702770539217176293176752384674818467669405132000568127145263560827785771342757789609173637178721468440901224953430146549585371050792279689258923542019956112129021960864034418159813629774771309960518707211349999998372978049951059731732816096318595024459455346908302642522308253344685035261931188171010003137838752886587533208381420617177669147303598253490428755468731159562863882353787593751957781857780532171226806613001927876611195909216420199\n"
     ]
    }
   ],
   "source": [
    "# mpmath is a free (BSD licensed) Python library for real and complex floating-point arithmetic \n",
    "# with arbitrary precision.\n",
    "from mpmath import mp\n",
    "mp.dps = 1000  # number of decimal places to use\n",
    "print(mp.pi)"
   ]
  },
  {
   "cell_type": "markdown",
   "id": "41c639fa",
   "metadata": {},
   "source": [
    "    *Question*: What is the probability of getting one particular outcome with a continuous variable?  \n",
    "\n",
    "    *Answer*: Zero!\n",
    "\n",
    "<br>\n",
    "\n",
    "And that's the case whether or not we can write the outcome down in finite digits or not (i.e. for pi as well as for 1.0).\n",
    "\n",
    "\n",
    "<br>\n",
    "\n",
    "Hence, we prefer to calculate the probability of getting an outcome within a *range* of values.\n",
    "\n",
    "The $y$-axis of a probability function in the case of continuous random variables is therefore NOT actually a probability. \n",
    "\n",
    "Rather it is called a **probability density** or just *density*. Thus, probability distributions for continuous variables are called [**probability density functions**](https://en.wikipedia.org/wiki/Probability_density_function) (or PDF). \n",
    "\n",
    "We will denote probability density functions using a lowercase $p$. For instance, the function $p(x)$ gives us the probability *density* corresponding to the value $x$.\n",
    "\n",
    "It is the integral of the probability density function over a particular interval that gives us the probability that a random variable takes a value in this interval. This probability is thus given by the area under the curve in this interval.\n",
    "\n",
    "So note that the probability of a single value for $x$, i.e. single outcome, can be interpreted as the integral over a zero width interval (area under curve $\\approx$ zero width multiplied by a *finite* height), which would be zero.\n",
    "\n",
    "<br>\n",
    "\n",
    "##### Aside\n",
    "\n",
    "Contrast this with the Dirac-delta function (its \"height\" and the properties of its integral)."
   ]
  },
  {
   "cell_type": "markdown",
   "id": "2b3bc453",
   "metadata": {},
   "source": [
    "### Example 1\n",
    "\n",
    "Let's look at an example of probability density function. \n",
    "\n",
    "We can randomly draw data points from a [*normal distribution*](https://en.wikipedia.org/wiki/Normal_distribution) using the NumPy function [`np.random.normal(loc, scale, size)`](https://numpy.org/doc/stable/reference/random/generated/numpy.random.normal.html), where `loc` is the mean $\\mu$, `scale` is the standard deviation $\\sigma$, and `size` is the number of data points.\n",
    "\n",
    "Let's use this to create 10,000 data points drawn randomly from a normal distribution that has a mean of 0 and a standard deviation of 0.1, and plot the values using a histogram (with `bins` controlling how many rectangles/intervals we use). "
   ]
  },
  {
   "cell_type": "code",
   "execution_count": 31,
   "id": "da75f1d2",
   "metadata": {},
   "outputs": [
    {
     "data": {
      "image/png": "[encoded data removed]",
      "text/plain": [
       "<Figure size 432x288 with 1 Axes>"
      ]
     },
     "metadata": {
      "needs_background": "light"
     },
     "output_type": "display_data"
    }
   ],
   "source": [
    "# set the seed to make the random experiment reproducible\n",
    "np.random.seed(1)\n",
    "\n",
    "mean = 0\n",
    "standard_deviation = 0.1\n",
    "n = 10_000\n",
    "\n",
    "# Draw outcomes from a normal distribution\n",
    "outcomes = np.random.normal(loc=mean, scale=standard_deviation, size=n)\n",
    "\n",
    "# Plot histogram\n",
    "hist = plt.hist(outcomes, bins=20, range=(-0.5, 0.5))\n",
    "\n",
    "# Set the ticks step size\n",
    "ax = plt.gca()\n",
    "ax.xaxis.set_major_locator(ticker.MultipleLocator(0.1))\n",
    "\n",
    "plt.show()"
   ]
  },
  {
   "cell_type": "markdown",
   "id": "1045912f",
   "metadata": {},
   "source": [
    "Note the classic \"bell curve\" *trying* to emerge. \n",
    "\n",
    "Try changing the `bins` parameter, the number of samples `n`, the mean, and the standard deviation in the example to see how it changes the bell.\n",
    "\n",
    "<br>\n",
    "<br>\n",
    "\n",
    "We can also use the kdeplot function to plot an approximation to the distribution for this data.\n",
    "\n",
    ">Kernel density estimation <https://seaborn.pydata.org/tutorial/distributions.html#tutorial-kde>\n",
    "A histogram aims to approximate the underlying probability density function that generated the data by binning and counting observations. Kernel density estimation (KDE) presents a different solution to the same problem. Rather than using discrete bins, a KDE plot smooths the observations with a Gaussian kernel, producing a continuous density estimate:"
   ]
  },
  {
   "cell_type": "code",
   "execution_count": 32,
   "id": "c5c36848",
   "metadata": {},
   "outputs": [
    {
     "data": {
      "text/plain": [
       "<AxesSubplot:ylabel='Density'>"
      ]
     },
     "execution_count": 32,
     "metadata": {},
     "output_type": "execute_result"
    },
    {
     "data": {
      "image/png": "[encoded data removed]",
      "text/plain": [
       "<Figure size 360x360 with 1 Axes>"
      ]
     },
     "metadata": {
      "needs_background": "light"
     },
     "output_type": "display_data"
    }
   ],
   "source": [
    "fig = plt.figure(figsize=(5, 5))\n",
    "ax1 = fig.add_subplot(111)\n",
    "# use the sns axes level function kdeplot - alternatively you could just try matplotlib hist\n",
    "sns.kdeplot(outcomes, ax=ax1, color='blue')"
   ]
  },
  {
   "cell_type": "markdown",
   "id": "29f83c88",
   "metadata": {},
   "source": [
    "The above (experiment and corresponding histogram), while being a good approximation, is still a discretised version of what is a continuous phenomenon underneath. Let us take this to the limit and try to plot the normal (or Gaussian) probability density function. \n",
    "\n",
    "The explicit form of the Gaussian probability density function is: \n",
    "\n",
    "$$p(x) = \\frac{1}{\\sigma\\sqrt{2\\pi}}e^{-\\frac{1}{2}\\frac{(x - \\mu)^2}{\\sigma^2}}$$\n",
    "\n",
    "where $\\mu$ is the mean and $\\sigma$ is the standard deviation. \n",
    "\n",
    "We will use its implementation from the normal continuous random variable [`scipy.stats.norm`](https://docs.scipy.org/doc/scipy/reference/generated/scipy.stats.norm.html)."
   ]
  },
  {
   "cell_type": "code",
   "execution_count": 33,
   "id": "a6572a43",
   "metadata": {},
   "outputs": [
    {
     "data": {
      "text/plain": [
       "Text(0, 0.5, '$p(x)$')"
      ]
     },
     "execution_count": 33,
     "metadata": {},
     "output_type": "execute_result"
    },
    {
     "data": {
      "image/png": "[encoded data removed]",
      "text/plain": [
       "<Figure size 360x360 with 1 Axes>"
      ]
     },
     "metadata": {
      "needs_background": "light"
     },
     "output_type": "display_data"
    }
   ],
   "source": [
    "mean = 0\n",
    "standard_deviation = 0.1\n",
    "\n",
    "# Define the normal distribution\n",
    "normal_distribution = st.norm(mean, standard_deviation)\n",
    "\n",
    "# Compute PDF values at a sequence of x locations between -1 and 1\n",
    "x_values = np.linspace(-1, 1, 100)\n",
    "# normal_distribution.pdf is a function that can act on these x values \n",
    "y_values = normal_distribution.pdf(x_values)\n",
    "\n",
    "fig = plt.figure(figsize=(5, 5))\n",
    "ax1 = fig.add_subplot(111)\n",
    "# Plot PDF\n",
    "ax1.plot(x_values, y_values)\n",
    "ax1.set_xlabel(r'$x$')\n",
    "ax1.set_ylabel(r'$p(x)$')"
   ]
  },
  {
   "cell_type": "markdown",
   "id": "0e87597b",
   "metadata": {},
   "source": [
    "### Cumulative distribution function\n",
    "\n",
    "Once we have the PDF, we can compute the [**cumulative distribition (or density) function**](https://en.wikipedia.org/wiki/Cumulative_distribution_function) (CDF) for a random variable, which for a given $x$ value returns the probability that $X$ is less than or equal to $x$:\n",
    "\n",
    "$$P(X\\leq x)$$\n",
    "\n",
    "[Also, see a homework exercise that asks you to compute and plot the CFD yourself.]\n",
    "\n",
    "Note that as we're now considering an interval, the $y$ axis of a plot of this *does* correspond to a probability."
   ]
  },
  {
   "cell_type": "code",
   "execution_count": 34,
   "id": "f73b05c5",
   "metadata": {},
   "outputs": [
    {
     "data": {
      "image/png": "[encoded data removed]",
      "text/plain": [
       "<Figure size 432x288 with 1 Axes>"
      ]
     },
     "metadata": {
      "needs_background": "light"
     },
     "output_type": "display_data"
    }
   ],
   "source": [
    "mean = 0\n",
    "standard_deviation = 0.1\n",
    "\n",
    "# Define the normal distribution\n",
    "normal_distribution = st.norm(mean, standard_deviation)\n",
    "\n",
    "# Compute CDF values at a sequence of x locations between -1 and 1\n",
    "x_values = np.linspace(-1, 1, 100)\n",
    "y_values = normal_distribution.cdf(x_values)\n",
    "\n",
    "# Plot PDF\n",
    "plt.plot(x_values, y_values)\n",
    "plt.xlabel(r'$x$')\n",
    "plt.ylabel(r'$P(X\\leq x)$')\n",
    "plt.show()"
   ]
  },
  {
   "cell_type": "markdown",
   "id": "087d8cd4",
   "metadata": {},
   "source": [
    "Visually - how can you argue that the integral under this curve is one? "
   ]
  },
  {
   "cell_type": "markdown",
   "id": "9cde0799",
   "metadata": {},
   "source": [
    "### Example 2\n",
    "\n",
    "Let's go back to the Iris dataset. \n",
    "\n",
    "We know that the data comes from the three species of the Iris flowers. \n",
    "\n",
    "Let's plot the sepal length (first column) for Iris Setosa (`target=0`) and calculate the mean and standard deviation of each feature in each species. "
   ]
  },
  {
   "cell_type": "code",
   "execution_count": 35,
   "id": "662484a7",
   "metadata": {},
   "outputs": [
    {
     "data": {
      "text/html": [
       "<div>\n",
       "<style scoped>\n",
       "    .dataframe tbody tr th:only-of-type {\n",
       "        vertical-align: middle;\n",
       "    }\n",
       "\n",
       "    .dataframe tbody tr th {\n",
       "        vertical-align: top;\n",
       "    }\n",
       "\n",
       "    .dataframe thead th {\n",
       "        text-align: right;\n",
       "    }\n",
       "</style>\n",
       "<table border=\"1\" class=\"dataframe\">\n",
       "  <thead>\n",
       "    <tr style=\"text-align: right;\">\n",
       "      <th></th>\n",
       "      <th>sepal length (cm)</th>\n",
       "      <th>sepal width (cm)</th>\n",
       "      <th>petal length (cm)</th>\n",
       "      <th>petal width (cm)</th>\n",
       "      <th>target</th>\n",
       "    </tr>\n",
       "  </thead>\n",
       "  <tbody>\n",
       "    <tr>\n",
       "      <th>0</th>\n",
       "      <td>5.1</td>\n",
       "      <td>3.5</td>\n",
       "      <td>1.4</td>\n",
       "      <td>0.2</td>\n",
       "      <td>0.0</td>\n",
       "    </tr>\n",
       "    <tr>\n",
       "      <th>1</th>\n",
       "      <td>4.9</td>\n",
       "      <td>3.0</td>\n",
       "      <td>1.4</td>\n",
       "      <td>0.2</td>\n",
       "      <td>0.0</td>\n",
       "    </tr>\n",
       "    <tr>\n",
       "      <th>2</th>\n",
       "      <td>4.7</td>\n",
       "      <td>3.2</td>\n",
       "      <td>1.3</td>\n",
       "      <td>0.2</td>\n",
       "      <td>0.0</td>\n",
       "    </tr>\n",
       "    <tr>\n",
       "      <th>3</th>\n",
       "      <td>4.6</td>\n",
       "      <td>3.1</td>\n",
       "      <td>1.5</td>\n",
       "      <td>0.2</td>\n",
       "      <td>0.0</td>\n",
       "    </tr>\n",
       "    <tr>\n",
       "      <th>4</th>\n",
       "      <td>5.0</td>\n",
       "      <td>3.6</td>\n",
       "      <td>1.4</td>\n",
       "      <td>0.2</td>\n",
       "      <td>0.0</td>\n",
       "    </tr>\n",
       "  </tbody>\n",
       "</table>\n",
       "</div>"
      ],
      "text/plain": [
       "   sepal length (cm)  sepal width (cm)  petal length (cm)  petal width (cm)  \\\n",
       "0                5.1               3.5                1.4               0.2   \n",
       "1                4.9               3.0                1.4               0.2   \n",
       "2                4.7               3.2                1.3               0.2   \n",
       "3                4.6               3.1                1.5               0.2   \n",
       "4                5.0               3.6                1.4               0.2   \n",
       "\n",
       "   target  \n",
       "0     0.0  \n",
       "1     0.0  \n",
       "2     0.0  \n",
       "3     0.0  \n",
       "4     0.0  "
      ]
     },
     "execution_count": 35,
     "metadata": {},
     "output_type": "execute_result"
    }
   ],
   "source": [
    "# DataFrame for Iris setosa\n",
    "iris_setosa_df = irisdf.loc[irisdf['target'] == 0]\n",
    "iris_setosa_df.head()"
   ]
  },
  {
   "cell_type": "code",
   "execution_count": 36,
   "id": "855cc1cd",
   "metadata": {},
   "outputs": [
    {
     "data": {
      "image/png": "[encoded data removed]",
      "text/plain": [
       "<Figure size 432x288 with 1 Axes>"
      ]
     },
     "metadata": {
      "needs_background": "light"
     },
     "output_type": "display_data"
    }
   ],
   "source": [
    "# Extract the sepal length as a numpy array.\n",
    "data = iris_setosa_df['sepal length (cm)'].to_numpy()\n",
    "\n",
    "# Plot the sepal length histogram\n",
    "plt.hist(data, range=(3.5, 6.5), bins=30, density=True)\n",
    "\n",
    "# Label axes\n",
    "plt.xlabel('sepal length (cm)')\n",
    "plt.ylabel('p(x)')\n",
    "\n",
    "plt.show()"
   ]
  },
  {
   "cell_type": "markdown",
   "id": "2f45a736",
   "metadata": {},
   "source": [
    "It looks like a normal distribution might represent a reasonable model of this distribution - we only have 50 samples to go by.\n",
    "\n",
    "To plot the normal distribution for sepal length, we need the mean and the standard deviation:"
   ]
  },
  {
   "cell_type": "code",
   "execution_count": 37,
   "id": "bba1b0c8",
   "metadata": {},
   "outputs": [
    {
     "data": {
      "text/html": [
       "<div>\n",
       "<style scoped>\n",
       "    .dataframe tbody tr th:only-of-type {\n",
       "        vertical-align: middle;\n",
       "    }\n",
       "\n",
       "    .dataframe tbody tr th {\n",
       "        vertical-align: top;\n",
       "    }\n",
       "\n",
       "    .dataframe thead th {\n",
       "        text-align: right;\n",
       "    }\n",
       "</style>\n",
       "<table border=\"1\" class=\"dataframe\">\n",
       "  <thead>\n",
       "    <tr style=\"text-align: right;\">\n",
       "      <th></th>\n",
       "      <th>sepal length (cm)</th>\n",
       "      <th>sepal width (cm)</th>\n",
       "      <th>petal length (cm)</th>\n",
       "      <th>petal width (cm)</th>\n",
       "    </tr>\n",
       "    <tr>\n",
       "      <th>target</th>\n",
       "      <th></th>\n",
       "      <th></th>\n",
       "      <th></th>\n",
       "      <th></th>\n",
       "    </tr>\n",
       "  </thead>\n",
       "  <tbody>\n",
       "    <tr>\n",
       "      <th>0.0</th>\n",
       "      <td>5.006</td>\n",
       "      <td>3.428</td>\n",
       "      <td>1.462</td>\n",
       "      <td>0.246</td>\n",
       "    </tr>\n",
       "    <tr>\n",
       "      <th>1.0</th>\n",
       "      <td>5.936</td>\n",
       "      <td>2.770</td>\n",
       "      <td>4.260</td>\n",
       "      <td>1.326</td>\n",
       "    </tr>\n",
       "    <tr>\n",
       "      <th>2.0</th>\n",
       "      <td>6.588</td>\n",
       "      <td>2.974</td>\n",
       "      <td>5.552</td>\n",
       "      <td>2.026</td>\n",
       "    </tr>\n",
       "  </tbody>\n",
       "</table>\n",
       "</div>"
      ],
      "text/plain": [
       "        sepal length (cm)  sepal width (cm)  petal length (cm)  \\\n",
       "target                                                           \n",
       "0.0                 5.006             3.428              1.462   \n",
       "1.0                 5.936             2.770              4.260   \n",
       "2.0                 6.588             2.974              5.552   \n",
       "\n",
       "        petal width (cm)  \n",
       "target                    \n",
       "0.0                0.246  \n",
       "1.0                1.326  \n",
       "2.0                2.026  "
      ]
     },
     "execution_count": 37,
     "metadata": {},
     "output_type": "execute_result"
    }
   ],
   "source": [
    "# Here are all of the means\n",
    "irisdf.groupby(['target']).mean()"
   ]
  },
  {
   "cell_type": "code",
   "execution_count": 38,
   "id": "a8aabc71",
   "metadata": {},
   "outputs": [
    {
     "data": {
      "text/html": [
       "<div>\n",
       "<style scoped>\n",
       "    .dataframe tbody tr th:only-of-type {\n",
       "        vertical-align: middle;\n",
       "    }\n",
       "\n",
       "    .dataframe tbody tr th {\n",
       "        vertical-align: top;\n",
       "    }\n",
       "\n",
       "    .dataframe thead th {\n",
       "        text-align: right;\n",
       "    }\n",
       "</style>\n",
       "<table border=\"1\" class=\"dataframe\">\n",
       "  <thead>\n",
       "    <tr style=\"text-align: right;\">\n",
       "      <th></th>\n",
       "      <th>sepal length (cm)</th>\n",
       "      <th>sepal width (cm)</th>\n",
       "      <th>petal length (cm)</th>\n",
       "      <th>petal width (cm)</th>\n",
       "    </tr>\n",
       "    <tr>\n",
       "      <th>target</th>\n",
       "      <th></th>\n",
       "      <th></th>\n",
       "      <th></th>\n",
       "      <th></th>\n",
       "    </tr>\n",
       "  </thead>\n",
       "  <tbody>\n",
       "    <tr>\n",
       "      <th>0.0</th>\n",
       "      <td>0.352490</td>\n",
       "      <td>0.379064</td>\n",
       "      <td>0.173664</td>\n",
       "      <td>0.105386</td>\n",
       "    </tr>\n",
       "    <tr>\n",
       "      <th>1.0</th>\n",
       "      <td>0.516171</td>\n",
       "      <td>0.313798</td>\n",
       "      <td>0.469911</td>\n",
       "      <td>0.197753</td>\n",
       "    </tr>\n",
       "    <tr>\n",
       "      <th>2.0</th>\n",
       "      <td>0.635880</td>\n",
       "      <td>0.322497</td>\n",
       "      <td>0.551895</td>\n",
       "      <td>0.274650</td>\n",
       "    </tr>\n",
       "  </tbody>\n",
       "</table>\n",
       "</div>"
      ],
      "text/plain": [
       "        sepal length (cm)  sepal width (cm)  petal length (cm)  \\\n",
       "target                                                           \n",
       "0.0              0.352490          0.379064           0.173664   \n",
       "1.0              0.516171          0.313798           0.469911   \n",
       "2.0              0.635880          0.322497           0.551895   \n",
       "\n",
       "        petal width (cm)  \n",
       "target                    \n",
       "0.0             0.105386  \n",
       "1.0             0.197753  \n",
       "2.0             0.274650  "
      ]
     },
     "execution_count": 38,
     "metadata": {},
     "output_type": "execute_result"
    }
   ],
   "source": [
    "# and all of the standard deviations\n",
    "irisdf.groupby(['target']).std()"
   ]
  },
  {
   "cell_type": "markdown",
   "id": "ceb562dd",
   "metadata": {},
   "source": [
    "Now that we have computed the mean and the standard deviation, we can use them to *estimate* the normal distribution of these measurements. \n",
    "\n",
    "For example, for target $0$ (Iris Setosa), the sepal length has a mean of $5.006 \\,\\text{cm}$ and standard deviation of $0.352490\\,\\text{cm}$. \n",
    "\n",
    "Here is the plot of the *estimated distribution* that describes sepal length for Iris Setosa, plotted on top of the histogram of the actual data."
   ]
  },
  {
   "cell_type": "code",
   "execution_count": 39,
   "id": "6ec397a5",
   "metadata": {},
   "outputs": [
    {
     "data": {
      "image/png": "[encoded data removed]",
      "text/plain": [
       "<Figure size 432x288 with 1 Axes>"
      ]
     },
     "metadata": {
      "needs_background": "light"
     },
     "output_type": "display_data"
    }
   ],
   "source": [
    "mean = 5.006  # cm\n",
    "standard_deviation = 0.352490  # cm\n",
    "normal_distribution = st.norm(mean, standard_deviation)\n",
    "\n",
    "# Compute PDF values\n",
    "x_values = np.linspace(3.5, 6.5, 100)\n",
    "y_values = normal_distribution.pdf(x_values)\n",
    "\n",
    "# Plot\n",
    "plt.plot(x_values, y_values)  # normal distribution\n",
    "plt.hist(data, range=(3.5, 6.5), bins=30, density=True)  # iris setosa sepal length\n",
    "\n",
    "# Label axes\n",
    "plt.xlabel('sepal length (cm)')\n",
    "plt.ylabel(r'p(x)')\n",
    "\n",
    "plt.show()"
   ]
  },
  {
   "cell_type": "markdown",
   "id": "ad9816d3",
   "metadata": {},
   "source": [
    "Based upon this normal distribution, what is the probability that $x = 5.1\\,\\text{cm}$ is the measured and reported sepal length of an Iris Setosa? \n",
    "\n",
    "We can answer that question using the cumulative distribution function (CDF) and the fact that we note the measurements in the Iris dataset are at an accuracy that measures/rounds/stores only values to the closest 0.1 cm. \n",
    "\n",
    "This means that instead of asking for the value $P(X=5.1)$ we should compute the probability of a value within an appropriate interval, e.g.\n",
    "\n",
    "$$P(5.1 - 0.05 \\lt X\\leq 5.1 + 0.05)$$\n",
    "\n",
    "this gives us the probability that the sepal length lies in the interval of size 0.1 centred at the target value of $x = 5.1\\,\\text{cm}$.\n",
    "\n",
    "We can calculate this value from the cumulative distribution function:\n",
    "\n",
    "$$P(5.1 - 0.05 \\lt X\\leq 5.1 + 0.05) = P(X\\leq 5.1 + 0.05) - P(X\\leq 5.1 - 0.05)$$"
   ]
  },
  {
   "cell_type": "code",
   "execution_count": 40,
   "id": "79861060",
   "metadata": {},
   "outputs": [
    {
     "name": "stdout",
     "output_type": "stream",
     "text": [
      "The probability of sepal length being 5.1 cm for iris setosa is 0.10888540054111928.\n"
     ]
    }
   ],
   "source": [
    "# Since the smallest measurement in the dataset is 0.1 cm,\n",
    "# we use the range (x-eps) - (x+eps) (with eps=0.05) to calculate the probability.\n",
    "def calc_probability(x, distribution, eps=0.05):\n",
    "    # use the cdf = cumulative density function\n",
    "    return distribution.cdf(x+eps) - distribution.cdf(x-eps)\n",
    "\n",
    "x = 5.1\n",
    "probability = calc_probability(x, normal_distribution)\n",
    "\n",
    "print(f'The probability of sepal length being {x} cm for iris setosa is {probability}.')"
   ]
  },
  {
   "cell_type": "markdown",
   "id": "1635d84b",
   "metadata": {},
   "source": [
    "This is the integral under the blue curve above, over an interval of width 0.1 where we can observe the height of the curve at location 5.1 is around 1.1 (base $\\times$ height $\\approx$ 0.1) and so we see that the value we've calculated here looks correct."
   ]
  },
  {
   "cell_type": "markdown",
   "id": "34e83610",
   "metadata": {},
   "source": [
    "## Central Limit Theorem\n",
    "\n",
    "The [**central limit theorem**](https://en.wikipedia.org/wiki/Central_limit_theorem) states that, if we consider $n$ independent random variables drawn from a(ny) distribution (not necessarily normal) with large enough $n$ and AVERAGE OR SUM their outcomes, the distribution of the results will be approximated by a Gaussian (normal) distribution. \n",
    "\n",
    "<br>\n",
    "\n",
    "Why is this important? From <https://en.wikipedia.org/wiki/Central_limit_theorem>:\n",
    "\n",
    "    \"The theorem is a key concept in probability theory because it implies that probabilistic and statistical methods that work for normal distributions can be applicable to many problems involving other types of distributions.\"\n",
    "    \n",
    "    \"Since real-world quantities are often the balanced sum of many unobserved random events, the central limit theorem also provides a partial explanation for the prevalence of the normal probability distribution.\"\n",
    "\n",
    "\n",
    "<br>\n",
    "\n",
    "Let's see this in action.\n",
    "\n",
    "We have seen that the outcome of a single die follows the uniform distribution, i.e. all six outcomes are equally likely. That is, as we approximated above, if we throw one die multiple times our results converge to a uniform distribution as long as we throw the die enough times (100,000 is the default below; plot repeated next). \n",
    "\n",
    "<br>\n",
    "\n",
    "But let's also build a function that can simulate throwing a number $n$ (`n_dice`) of dice, and sum (or average) their results, and then perform this experiment `n_trials` (100,000) times. \n",
    "\n",
    "<br>\n",
    "\n",
    "The CLT tells us that the PDF of this sum (or average) should look like a normal rather than uniform distribution, assuming that $n$ (`n_dice`) is large enough"
   ]
  },
  {
   "cell_type": "code",
   "execution_count": 41,
   "id": "d519ca04",
   "metadata": {},
   "outputs": [
    {
     "data": {
      "image/png": "[encoded data removed]",
      "text/plain": [
       "<Figure size 432x288 with 1 Axes>"
      ]
     },
     "metadata": {
      "needs_background": "light"
     },
     "output_type": "display_data"
    }
   ],
   "source": [
    "# throw one die 1M times\n",
    "\n",
    "def dice_experiment(n):\n",
    "    # Set the seed if you want to make the random experiment reproducible.\n",
    "    # If you exclude this you should get a different result each time you run.\n",
    "    np.random.seed(1)\n",
    "    # return n rolls from the S = {1, 2, 3, 4, 5, 6} sample space\n",
    "    return np.random.randint(low=1, high=7, size=n)\n",
    "\n",
    "\n",
    "n = 1_000_000\n",
    "outcomes = dice_experiment(n)\n",
    "plot_probability_mass_function(*probabilities(outcomes))"
   ]
  },
  {
   "cell_type": "code",
   "execution_count": 42,
   "id": "dd178720",
   "metadata": {},
   "outputs": [],
   "source": [
    "# now use randint to simulate throwing n_dice at once, sum the result\n",
    "# and record this sum n_trials times\n",
    "def sum_distribution_dice(n_dice, n_trials=100_000):\n",
    "    trials = np.zeros(n_trials)\n",
    "    for i in range(n_trials):\n",
    "        trials[i] = np.random.randint(low=1, high=7, size=n_dice).sum()\n",
    "\n",
    "    return trials"
   ]
  },
  {
   "cell_type": "markdown",
   "id": "dff21856",
   "metadata": {},
   "source": [
    "Now, we’ll use this function to evaluate the distribution of the sums for 1, 2, and 30 dice:"
   ]
  },
  {
   "cell_type": "code",
   "execution_count": 43,
   "id": "9f9bd6de",
   "metadata": {},
   "outputs": [
    {
     "data": {
      "image/png": "[encoded data removed]",
      "text/plain": [
       "<Figure size 864x144 with 3 Axes>"
      ]
     },
     "metadata": {
      "needs_background": "light"
     },
     "output_type": "display_data"
    }
   ],
   "source": [
    "np.random.seed(1)\n",
    "\n",
    "random_var_dice_1 = sum_distribution_dice(1)\n",
    "random_var_dice_2 = sum_distribution_dice(2)\n",
    "random_var_dice_30 = sum_distribution_dice(30)\n",
    "\n",
    "_, axes = plt.subplots(1, 3, figsize=(12, 2))\n",
    "ax0, ax1, ax2 = axes\n",
    "\n",
    "ax0.hist(random_var_dice_1, bins=6, density=True) \n",
    "ax1.hist(random_var_dice_2, bins=11, density=True) \n",
    "ax2.hist(random_var_dice_30, bins=151, density=True) \n",
    "\n",
    "# Labels, limits, titles\n",
    "ax0.set_ylim(0, 0.25)\n",
    "ax0.set_title('1 Dice')\n",
    "ax0.set_xlabel('Sum of the dice outcomes')\n",
    "\n",
    "ax1.set_ylim(0, 0.25)\n",
    "ax1.set_title('2 Dice')\n",
    "ax1.set_xlabel('Sum of the dice outcomes')\n",
    "\n",
    "ax2.set_ylim(0, 0.1)\n",
    "ax2.set_title('30 Dice')\n",
    "ax2.set_xlabel('Sum of the dice outcomes')\n",
    "\n",
    "plt.show()"
   ]
  },
  {
   "cell_type": "markdown",
   "id": "24e4a4de",
   "metadata": {},
   "source": [
    "We observe that a uniform distribution (we see with one die on the left) evolves to a normal distribution as the number of dice increases (here we used 30 but you see similar results for 20 or less; note that a sample size of 30 is considered a mimimum for the CLT to hold in general).\n",
    "\n",
    "With one die we've already established that each of the six outcomes has an equal probability of 1/6.\n",
    "\n",
    "With two dice we can get any outcome for their sum from 2 to 12. \n",
    "\n",
    "To get 2 or 12 we need both dice to show 1 or both to show 6. Of the 36 possible combinations we can get each of these only once, and hence we expect their probability to be 1/36.\n",
    "\n",
    "7 is the most common as we can get it through the largest number of combinations: $1+6$, $2+5$, $3+4$, $4+3$, $5+2$, $6+1$ - there are six of these and hence we expect its probability to be 6/36.\n",
    "\n",
    "Let's check the result above is consistent with our expectation:"
   ]
  },
  {
   "cell_type": "code",
   "execution_count": 44,
   "id": "e7cbae5b",
   "metadata": {},
   "outputs": [
    {
     "name": "stdout",
     "output_type": "stream",
     "text": [
      "Counter({7.0: 16399, 8.0: 13956, 6.0: 13853, 9.0: 11216, 5.0: 11070, 4.0: 8474, 10.0: 8270, 11.0: 5704, 3.0: 5439, 12.0: 2833, 2.0: 2786}) \n",
      "\n",
      "2 0.02786 1.00296\n",
      "3 0.05439 1.95804\n",
      "4 0.08474 3.05064\n",
      "5 0.1107 3.9852\n",
      "6 0.13853 4.98708\n",
      "7 0.16399 5.90364\n",
      "8 0.13956 5.02416\n",
      "9 0.11216 4.03776\n",
      "10 0.0827 2.9772\n",
      "11 0.05704 2.05344\n",
      "12 0.02833 1.01988\n"
     ]
    }
   ],
   "source": [
    "# use Counter to add up how many times we obtain each total\n",
    "from collections import Counter\n",
    "# https://docs.python.org/3/library/collections.html#collections.Counter\n",
    "# https://pymotw.com/2/collections/counter.html\n",
    "\n",
    "res = Counter(random_var_dice_2)\n",
    "print(res,'\\n')\n",
    "\n",
    "for dsum in range(2,13):\n",
    "    # print out 36 times the probability computed based on the ratio,\n",
    "    # this should approach 1,2,3,4,5,6,5,4,3,2,1 for large sample sizes\n",
    "    print(dsum, res[dsum]/len(random_var_dice_2), 36*res[dsum]/len(random_var_dice_2))"
   ]
  },
  {
   "cell_type": "markdown",
   "id": "4bb36466",
   "metadata": {},
   "source": [
    "And indeed the third column does start to approximate what we expect: 1,2,3,4,5,6,5,4,3,2,1.\n",
    "\n",
    "For further examples see \n",
    "\n",
    "- <https://en.wikipedia.org/wiki/Illustration_of_the_central_limit_theorem>\n",
    "\n",
    "- <https://medium.com/analytics-vidhya/central-limit-theorem-and-machine-learning-part-1-af3b65dc9d32>\n",
    "\n",
    "- <https://towardsdatascience.com/central-limit-theorem-in-action-1d4832599b7f>\n",
    "\n",
    "- <https://machinelearningmastery.com/a-gentle-introduction-to-the-central-limit-theorem-for-machine-learning/>\n",
    "\n",
    "    From the latter: \"The Central Limit Theorem, or CLT for short, is an important finding and pillar in the fields of statistics and probability. ... It may seem a little esoteric at first, so hang in there. It turns out that the finding is critically important for making inferences in applied machine learning.\""
   ]
  },
  {
   "cell_type": "markdown",
   "id": "360e791c",
   "metadata": {},
   "source": [
    "## Joint Probability\n",
    "\n",
    "The [**joint probability**](https://en.wikipedia.org/wiki/Joint_probability_distribution) is the probability that two or more events occur."
   ]
  },
  {
   "cell_type": "markdown",
   "id": "ddac04eb",
   "metadata": {},
   "source": [
    "### Notation\n",
    "\n",
    "The **joint probability** that the random variable $X$ takes the value $x$ and that the random variable $Y$ takes the value $y$ can be written as:\n",
    "\n",
    "$$\n",
    "P(X=x, Y=y)\n",
    "$$\n",
    "\n",
    "To continue we must consider the dependence between the events we are considering."
   ]
  },
  {
   "cell_type": "markdown",
   "id": "27673116",
   "metadata": {},
   "source": [
    "\n",
    "### Dependent and Independent Events\n",
    "\n",
    "**Dependent events** are events that are related in the sense that the probability of one depends on the result of the other event. \n",
    "\n",
    "For instance, if you randomly pick two coloured balls from a bag without replacement, the probabilities associated with the second pick will depend on the outcome of the first pick.\n",
    "\n",
    "[Figure 4](#fig:dependent_events) illustrates the following example: there are 4 red balls and 2 blue balls in the bag. \n",
    "\n",
    "The probability of choosing a red ball is $\\frac{4}{6}$ and a blue ball is $\\frac{2}{6}$. \n",
    "\n",
    "If you pick a red ball the first time, the probability of picking another red ball in the second draw is now $\\frac{3}{5}$; that of picking a blue ball is now $\\frac{2}{5}$ (as illustrated in the bottom right). \n",
    "\n",
    "However, if you get a blue ball at the first draw, the probability of picking a red ball on the second draw is then $\\frac{4}{5}$ and $\\frac{1}{5}$\n",
    "to pick another blue ball (top right). \n",
    "\n",
    "So the first draw clearly has an influence on the probability distribution of the second.\n",
    "\n",
    "<img src=\"images/ch03_dependent_events.png\" id=\"fig:dependent_events\" width=\"200\" alt=\"Figure: Examples of dependent events with a draw without replacement.\" />\n",
    "\n",
    "**Figure 4**: An illustration of dependent events.\n",
    "\n",
    "<br>\n",
    "\n",
    "By contrast, **independent events** are events that do not interfere with each other. For instance, if you roll two dice, you do not expect that the outcome of one will affect the outcome of the other.\n",
    "\n",
    "In the ball picking example, if we did replace the first ball (i.e. put it back in the bag after the first pick), then the second pick is now an independent events."
   ]
  },
  {
   "cell_type": "markdown",
   "id": "a9e3b686",
   "metadata": {},
   "source": [
    "### Joint Probability of Independent and Dependent Events\n",
    "\n",
    "#### Independent Events\n",
    "\n",
    "If two random variables $X$ and $Y$ are independent, their joint probability is equal to the product of the probability of each event.\n",
    "\n",
    "Mathematically, you can write:\n",
    "\n",
    "$$ P(X=x, Y=y) = P(X=x) P(Y=y) $$\n",
    "\n",
    "**Example**: If you throw a die and toss a coin, what is the probability to get a 6 and \"heads\"?\n",
    "\n",
    "<br>\n",
    "\n",
    "To answer this question, you need to consider both events. The joint probability is calculated by multiplying the probability of each event together:\n",
    "\n",
    "$$\n",
    "P(X=6, Y=\\text{\"heads\"}) = \\frac{1}{6} \\times \\frac{1}{2} = \\frac{1}{12}\n",
    "$$\n",
    "\n",
    "Note that $P(Y=\\text{\"heads\"})$ is a shortcut because random variables maps outcomes to real values: it means that the experiment associated with the random variable $Y$ has the outcome \"heads\".\n",
    "\n",
    "\n",
    "#### Dependent Events\n",
    "\n",
    "For dependent events, we need to use rules from conditional probabilities (discussed later) to calculate their joint probability."
   ]
  },
  {
   "cell_type": "markdown",
   "id": "4f63434b",
   "metadata": {},
   "source": [
    "### Marginal Probabilities and the Sum Rule\n",
    "\n",
    "Marginal probabilities is the name given to probabilities that are *not* joint probabilities, i.e. probabilities of single events - the way we have considered them so far. \n",
    "\n",
    "Marginal probabilities can be obtained from joint probabilities by *marginalising* the other variables using the **sum rule of probability**: we just add all of the joint probabilities. This is the probability of the event we are interested in, irrespective of the outcomes of the other variables.\n",
    "\n",
    "<br>\n",
    "\n",
    "Mathematically, it is defined as follows:\n",
    "\n",
    "$$\n",
    "P(X=x) = \\sum_{y} P(X=x, Y=y)\n",
    "$$\n",
    "\n",
    "The summation in the above equation is valid for the case of *discrete* random variables. For *continuous* random variables, this would be replaced by an integral over the other variables. The marginal probability $P(X=x)$ is the probability that $X=x$ without considering the other variables. \n",
    "\n",
    "<br>\n",
    "\n",
    "Let's consider again the case of a combined die throw ($X$) and coin flip ($Y$) experiment. \n",
    "For instance, the marginal probability of $X=6$ is the sum of the following joint probabilities: $P(X=6, Y=\\text{\"heads\"})$ and $P(X=6, Y=\\text{\"tails\"})$. \n",
    "\n",
    "It is thus:\n",
    "\n",
    "$$\n",
    "\\sum_y P(X=6, Y=y) = P(X=6, Y=\\text{\"heads\"}) + P(X=6, Y=\\text{\"tails\"}) = \\frac{1}{12} + \\frac{1}{12} = \\frac{1}{6}\n",
    "$$\n",
    "\n",
    "<br>\n",
    "\n",
    "For further reading, see also <https://machinelearningmastery.com/joint-marginal-and-conditional-probability-for-machine-learning/>"
   ]
  },
  {
   "cell_type": "markdown",
   "id": "0d490eca",
   "metadata": {},
   "source": [
    "### The Iris dataset revisited\n",
    "\n",
    "Let's return to the Iris dataset."
   ]
  },
  {
   "cell_type": "code",
   "execution_count": 45,
   "id": "9d07c941",
   "metadata": {},
   "outputs": [
    {
     "data": {
      "text/html": [
       "<div>\n",
       "<style scoped>\n",
       "    .dataframe tbody tr th:only-of-type {\n",
       "        vertical-align: middle;\n",
       "    }\n",
       "\n",
       "    .dataframe tbody tr th {\n",
       "        vertical-align: top;\n",
       "    }\n",
       "\n",
       "    .dataframe thead th {\n",
       "        text-align: right;\n",
       "    }\n",
       "</style>\n",
       "<table border=\"1\" class=\"dataframe\">\n",
       "  <thead>\n",
       "    <tr style=\"text-align: right;\">\n",
       "      <th></th>\n",
       "      <th>sepal length (cm)</th>\n",
       "      <th>sepal width (cm)</th>\n",
       "      <th>petal length (cm)</th>\n",
       "      <th>petal width (cm)</th>\n",
       "      <th>target</th>\n",
       "    </tr>\n",
       "  </thead>\n",
       "  <tbody>\n",
       "    <tr>\n",
       "      <th>0</th>\n",
       "      <td>5.1</td>\n",
       "      <td>3.5</td>\n",
       "      <td>1.4</td>\n",
       "      <td>0.2</td>\n",
       "      <td>0.0</td>\n",
       "    </tr>\n",
       "    <tr>\n",
       "      <th>1</th>\n",
       "      <td>4.9</td>\n",
       "      <td>3.0</td>\n",
       "      <td>1.4</td>\n",
       "      <td>0.2</td>\n",
       "      <td>0.0</td>\n",
       "    </tr>\n",
       "    <tr>\n",
       "      <th>2</th>\n",
       "      <td>4.7</td>\n",
       "      <td>3.2</td>\n",
       "      <td>1.3</td>\n",
       "      <td>0.2</td>\n",
       "      <td>0.0</td>\n",
       "    </tr>\n",
       "    <tr>\n",
       "      <th>3</th>\n",
       "      <td>4.6</td>\n",
       "      <td>3.1</td>\n",
       "      <td>1.5</td>\n",
       "      <td>0.2</td>\n",
       "      <td>0.0</td>\n",
       "    </tr>\n",
       "    <tr>\n",
       "      <th>4</th>\n",
       "      <td>5.0</td>\n",
       "      <td>3.6</td>\n",
       "      <td>1.4</td>\n",
       "      <td>0.2</td>\n",
       "      <td>0.0</td>\n",
       "    </tr>\n",
       "  </tbody>\n",
       "</table>\n",
       "</div>"
      ],
      "text/plain": [
       "   sepal length (cm)  sepal width (cm)  petal length (cm)  petal width (cm)  \\\n",
       "0                5.1               3.5                1.4               0.2   \n",
       "1                4.9               3.0                1.4               0.2   \n",
       "2                4.7               3.2                1.3               0.2   \n",
       "3                4.6               3.1                1.5               0.2   \n",
       "4                5.0               3.6                1.4               0.2   \n",
       "\n",
       "   target  \n",
       "0     0.0  \n",
       "1     0.0  \n",
       "2     0.0  \n",
       "3     0.0  \n",
       "4     0.0  "
      ]
     },
     "execution_count": 45,
     "metadata": {},
     "output_type": "execute_result"
    }
   ],
   "source": [
    "irisdf.head()"
   ]
  },
  {
   "cell_type": "markdown",
   "id": "95a76e6e",
   "metadata": {},
   "source": [
    "The first row of data is `[5.1, 3.5, 1.4, 0.2]`. (Recall this is the first data point out of 150 in total).\n",
    "\n",
    "Let's **assume** that each of these four measurements are **independent**.\n",
    "\n",
    "Can we use the normal probability distributions we computed for the Iris dataset above to estimate the probability that this row comes from the estimated distributions?\n",
    "\n",
    "<br>\n",
    "\n",
    "**Note**: This is not exactly the same question as asking \"What is the probability that these measurements belong to an Iris flower of a particular species?\". \n",
    "\n",
    "We will be able to formulate this second question only after we have learned Bayes theorem. \n",
    "\n",
    "<br>\n",
    "\n",
    "For now due to our assumption of independence we can use the fact that the joint probability is equal to the product of the probability of each event:"
   ]
  },
  {
   "cell_type": "code",
   "execution_count": 46,
   "id": "a1547794",
   "metadata": {},
   "outputs": [
    {
     "name": "stdout",
     "output_type": "stream",
     "text": [
      "means:  [[5.006 3.428 1.462 0.246]\n",
      " [5.936 2.77  4.26  1.326]\n",
      " [6.588 2.974 5.552 2.026]]\n",
      "stds:  [[0.35248969 0.37906437 0.173664   0.10538559]\n",
      " [0.51617115 0.31379832 0.46991098 0.19775268]\n",
      " [0.63587959 0.32249664 0.5518947  0.27465006]]\n",
      "Probability of [5.1, 3.5, 1.4, 0.2] being from the estimated distribution of iris setosa = 0.0007982648713139496\n",
      "Probability of [5.1, 3.5, 1.4, 0.2] being from the estimated distribution of iris versicolor = 3.7217595375229145e-21\n",
      "Probability of [5.1, 3.5, 1.4, 0.2] being from the estimated distribution of iris virginica = 2.4644816812619693e-28\n"
     ]
    }
   ],
   "source": [
    "# Calculate the means and standard deviations for our \n",
    "# four (4) features and our three (3) species\n",
    "means = irisdf.groupby('target').mean().to_numpy()\n",
    "stds = irisdf.groupby('target').std().to_numpy()\n",
    "\n",
    "print('means: ',means)\n",
    "print('stds: ',stds)\n",
    "\n",
    "# Define the normal distributions for each feature and species\n",
    "distributions = []\n",
    "for mvec, sdvec in zip(means, stds):\n",
    "    distributions.append([st.norm(m, sd) for m, sd in zip(mvec, sdvec)])\n",
    "\n",
    "# Since the smallest measurement in the dataset is 0.1 cm,\n",
    "# we use the range (x-eps) - (x+eps) (with eps=0.05) to calculate the probability.\n",
    "def calc_probability(x, distribution, eps=0.05):\n",
    "    # use the cdf = cumulative density function\n",
    "    return distribution.cdf(x+eps) - distribution.cdf(x-eps)\n",
    "\n",
    "def cls_probablility(data, cls, distributions):\n",
    "    # initialise p - as we're going to be multiplying probabilities, initialise it to 1\n",
    "    p = 1\n",
    "    # for every feature, calculate its probability and multiply the results together\n",
    "    for feat in range(4):\n",
    "        p *= calc_probability(data[feat], distributions[cls][feat])    \n",
    "    return p\n",
    "\n",
    "# Consider our first data point\n",
    "data = [5.1, 3.5, 1.4, 0.2]\n",
    "\n",
    "for cls in range(3):\n",
    "    # calculate the probability for each class/target species\n",
    "    p = cls_probablility(data, cls, distributions)\n",
    "    print('Probability of {} being from the estimated distribution of iris {} = {}'.format \n",
    "          (str(data),iris['target_names'][cls],p))"
   ]
  },
  {
   "cell_type": "markdown",
   "id": "81c2f686",
   "metadata": {},
   "source": [
    "We're multiplying (in this case four) small numbers together to get this final results, which leads to extremely small values. But one joint probability is clearly far larger than the others.\n",
    "\n",
    "More on classification for this dataset in the homework exercises."
   ]
  },
  {
   "cell_type": "markdown",
   "id": "30d22b40",
   "metadata": {},
   "source": [
    "## Conditional Probability\n",
    "\n",
    "In some cases, we want to calculate the probability that an event will occur knowing that another event has already occurred. \n",
    "\n",
    "For instance, we can ask what is the probability of drawing a pair of kings in a deck of playing cards. We need to calculate the probability of getting a king in the first draw, and then the probability to drawing a second king. We want to know the probability of the second draw *under the condition* that we got a king in the first draw.\n",
    "\n",
    "This is called [**conditional probability**](https://en.wikipedia.org/wiki/Conditional_probability): the probability of an event given that another event has occurred. \n",
    "\n",
    "We refer to conditional probability using the vertical bar (“\\|”):\n",
    "\n",
    "$$\n",
    "P(Y=y \\, | \\, X=x)\n",
    "$$\n",
    "\n",
    "The conditional probability $P(Y=y \\, | \\,  X=x)$ is the probability that the random variable $Y$ equals $y$ *given that* the random variable $X$ equals $x$. \n",
    "\n",
    "Note that this notation differs from $P(Y=y, X=x)$, which is the joint probability that both $X=x$ and $Y=y$."
   ]
  },
  {
   "cell_type": "markdown",
   "id": "6800e354",
   "metadata": {},
   "source": [
    "### Car example\n",
    "\n",
    "Samantha’s car sometimes shows a warning light when there is a problem, but it is defective: sometimes the warning light comes on even when there is no problem, and sometimes the light is off but the car needs repair.\n",
    "\n",
    "Let us call $P(\\text{\"warning light\"})$ the probability of the event \"the warning light is on\", and $P(\\text{\"needs repair\"})$ the probability of the event \"the car needs repair\".\n",
    "\n",
    "[Figure 5](#fig:conditional_proba) illustrates the probabilities that the car needs repair (in blue) and the probability that the warning light is on (in red). The figure shows the data for five observations (the five columns from ‘Obs. 1’ to ‘Obs. 5’). For each of them, Samantha investigated the status of the car (needs repair or not) and noted the warning light (on or off). A blue square indicates that the car needed repair and a red square that the warning light was on. For instance, in the first observation, the car needed repair but the warning light was off (no red square).\n",
    "\n",
    "<img src=\"images/ch03_conditional_proba.png\" id=\"fig:conditional_proba\" width=\"400\" alt=\"Figure 5: The probability that the car needs repair is illustrated in blue and the probability that the warning light is on is illustrated in red, for five observations.\" />\n",
    "\n",
    "**Figure 5**: The probability that the car needs repair is illustrated in blue and the probability that the warning light is on is illustrated in red, for five observations.\n",
    "\n",
    "<br>\n",
    "\n",
    "Based on our five observations we can see that $P(\\text{\"needs repair\"}) = \\frac{4}{5}$ because there are four observations where the car needed repair out of a total of five observations. Similarly, $P(\\text{\"warning light\"})=\\frac{2}{5}$ because there are two observations where the warning light was on. There is also a single observation with a blue and a red square: the car needed repair and the warning light was on, so $P(\\text{\"needs repair\"}, \\text{\"warning light\"})=\\frac{1}{5}$.\n",
    "\n",
    "<br>\n",
    "\n",
    "Let's examine the conditional probabilities for this example. The statement $P(\\text{\"needs repair\"} | \\text{\"warning light\"})$ is the probability that the car needed repair given that the warning light was on. We can think of this probability as follows: we take only the observations where the warning light was on (‘Obs. 4’ and ‘Obs. 5’), and\n",
    "then we look at the proportion of observations where car needed repair. These conditions are met in one observation out of the two so $P(\\text{\"needs repair\"} \\, | \\, \\text{\"warning light\"}) = \\frac{1}{2}$.\n",
    "\n",
    "The same idea can be used to find $P(\\text{\"warning light\"} \\, | \\, \\text{\"needs repair\"})$. We take the observations where the car needed repair and consider the number of times the warning light was on. We can see that this is one observation out of four, i.e. $\\frac{1}{4}$.\n",
    "\n",
    "The link between *conditional* and *joint* probability is formalised in the next section."
   ]
  },
  {
   "cell_type": "markdown",
   "id": "aa07bbd2",
   "metadata": {},
   "source": [
    "### The product rule of probability\n",
    "\n",
    "For discrete random variables, the probability that $X=x$ *and* $Y=y$ (joint probability) equals the probability that $Y=y$ given that $X=x$ (conditional probability) multiplied by the probability that $X=x$.\n",
    "\n",
    "Mathematically that is:\n",
    "\n",
    "$$\n",
    "P(X=x, Y=y) = P(Y=y \\, | \\, X=x) P(X=x)\n",
    "$$\n",
    "\n",
    "This is the *product rule of probability*, also called the *chain rule of probability*. Equivalently, under the assumption that $P(X=x) \\ne 0$,  we can write:\n",
    "\n",
    "$$\n",
    "P(Y=y \\, | \\, X=x) = \\frac{P(X=x, Y=y)}{P(X=x)}\n",
    "$$"
   ]
  },
  {
   "cell_type": "markdown",
   "id": "1beab585",
   "metadata": {},
   "source": [
    "### Car example - revisited\n",
    "\n",
    "Let's try to understand the logic behind these two formulations of the product rule using the previous faulty example.\n",
    "\n",
    "First, the joint probability\n",
    "$P(\\text{\"needs repair\"}, \\text{\"warning light\"})$ satisfies:\n",
    "\n",
    "$$\n",
    "P(\\text{\"needs repair\"}, \\text{\"warning light\"}) = P(\\text{\"warning light\"} \\, | \\, \\text{\"needs repair\"}) P(\\text{\"needs repair\"})\n",
    "$$\n",
    "\n",
    "<br>\n",
    "\n",
    "Since $P(\\text{\"needs repair\"})$ is less than or equal to 1, the probability that the car needs repair and the warning light is on (i.e. $P(\\text{\"needs repair\"}, \\text{\"warning light\"})$) will be smaller or equal to  $P(\\text{\"warning light\"} \\, | \\,  \\text{\"needs repair\"})$. \n",
    "\n",
    "To consider all observations, we need to multiply by the proportion of observations where the car needs repair (i.e. $P(\\text{\"needs repair\"})$).\n",
    "\n",
    "<br>\n",
    "\n",
    "Using the probabilities we calculated above, this is\n",
    "\n",
    "$$\n",
    "\\frac{1}{5} = \\frac{1}{4} \\times \\frac{4}{5}\n",
    "$$\n",
    "\n",
    "\n",
    "<br>\n",
    "\n",
    "<br>\n",
    "\n",
    "\n",
    "Let's see the second statement with the same example:\n",
    "\n",
    "$$\n",
    "P(\\text{\"warning light\"} \\, | \\,  \\text{\"needs repair\"}) = \\frac{P(\\text{\"needs repair\"}, \\text{\"warning light\"})}{P(\\text{\"needs repair\"}) }\n",
    "$$\n",
    "\n",
    "Similarly, to go from all observations to only the observations where the car needs repair, we need this time to divide by $P(\\text{\"needs repair\"})$."
   ]
  },
  {
   "cell_type": "markdown",
   "id": "a51dd948",
   "metadata": {},
   "source": [
    "### More events\n",
    "\n",
    "We can generalise the product rule to more events. For instance, with three events $A$, $B$ and $C$, we would have:\n",
    "\n",
    "$$\n",
    "P(A, B, C) = P(A | B, C) P(B, C)\n",
    "$$\n",
    "\n",
    "This means that the probability that the events $A$, $B$ and $C$ occurred is equal to the probability that $A$ occurred given that $B$ and $C$ occurred multiplied by the probability that $B$ and $C$\n",
    "occurred.\n",
    "\n",
    "<br>\n",
    "\n",
    "Note that we can chain these probability products. Since the product rule says that:\n",
    "\n",
    "$$\n",
    "P(B, C) = P(B | C) P(C)\n",
    "$$\n",
    "\n",
    "We get:\n",
    "\n",
    "$$\n",
    "P(A, B, C) = P(A | B, C)  P(B | C) P(C)\n",
    "$$\n"
   ]
  },
  {
   "cell_type": "markdown",
   "id": "057f7545",
   "metadata": {},
   "source": [
    "# Machine Learning, Data Science - \"simple\" methods and links to probability\n",
    "\n",
    "<br>\n",
    "\n",
    "*[Your next two modules go through ML in significant detail, so here we just touch on a few topics to link to the fundamonetals of propbability (and regression from the previous lecture).]*\n",
    "\n",
    "<br>\n",
    "\n",
    "Let's start with a quote:\n",
    "\n",
    ">\"*A computer program is said to learn from experience E with respect to some task T and some performance measure P if its performance on T, as measured by P, improves with experience E.*\" - (Toni Mitchell, 1997)\n",
    "\n",
    "Further background reading:\n",
    "\n",
    "- <https://towardsdatascience.com/what-is-machine-learning-and-types-of-machine-learning-andrews-machine-learning-part-1-9cd9755bc647>\n",
    "\n",
    "- <https://machinelearningmastery.com/what-is-machine-learning/>\n",
    "\n",
    "\n",
    "<br>\n",
    "\n",
    "and a figure taken from <http://drewconway.com/zia/2013/3/26/the-data-science-venn-diagram> which has an interesting discussion, including: \n",
    "\n",
    "- the \"danger zone\" is where they place people who \"know enough to be dangerous\" - people who don't have an appreciation of the underling math/stats. They also say \" Fortunately, it requires near willful ignorance to acquire hacking skills and substantive expertise without also learning some math and statistics along the way. As such, the danger zone is sparsely populated, however, it does not take many to produce a lot of damage.\"  Consider these statements if you're asking the question why are we made to do this \"computational math\" module! \n",
    "\n",
    "and\n",
    "\n",
    "\n",
    "\n",
    "- \"To me, data plus math and statistics only gets you machine learning, which is great if that is what you are interested in, but not if you are doing data science. Science is about discovery and building knowledge, which requires some motivating questions about the world and hypotheses that can be brought to data and tested with statistical methods...\"\n",
    "\n",
    "<br>\n",
    "<img src=\"./images/Data_Science_VD.png\" width=300x>\n",
    "\n",
    "*(Figure: <http://drewconway.com/zia/2013/3/26/the-data-science-venn-diagram>)*\n",
    "\n",
    "<br>\n",
    "\n",
    "NB. substantive expertise == domain knowledge, e.g. knowledge of the underlying field your data comes from - economics, biology, etc.\n",
    "\n",
    "<br>\n",
    "\n",
    "Note that exactly the same concepts apply in \"computational science\", which **might** be described as having substantial overlap with the numerical solution of differential equations - substantive expertise there would be knowledge of the underlying mathematical model, \"physics\" and equations,  and the math/stats knowledge that applies here would include topics such as stability, convergence, sensitivity etc."
   ]
  },
  {
   "cell_type": "markdown",
   "id": "0fd058bb",
   "metadata": {},
   "source": [
    "## Some initial definitions \n",
    "\n",
    "\n",
    "\n",
    "- **Labelled data** is data that was previously annotated (most likely by a human) to show the expected result of running the model/algorithm, e.g. an image of a cat, accompanied by metadata that identifies it as a cat. \n",
    "\n",
    "\n",
    "\n",
    "- **Unlabelled data** is data without annotations, e.g. an image of a cat without any additional information to help us identify it as a cat. \n",
    "\n",
    "\n",
    "<br>\n",
    "\n",
    "\n",
    "- [**Supervised learning**](https://en.wikipedia.org/wiki/Supervised_learning) uses labelled data to *train* an algorithm to reproduce the task that the labelled data serves as examples of. \n",
    "\n",
    "\n",
    "\n",
    "- [**Unsupervised learning**](https://en.wikipedia.org/wiki/Unsupervised_learning) uses unlabelled data to extract natural patterns from data, e.g. clusters of similar data points.\n",
    "\n",
    "\n",
    "- [**Semi-supervised learning**](https://en.wikipedia.org/wiki/Semi-supervised_learning) uses both labelled and unlabelled data in order to try to achieve the best of both previous approaches."
   ]
  },
  {
   "cell_type": "markdown",
   "id": "8dfe19f8",
   "metadata": {},
   "source": [
    "## Data\n",
    "\n",
    " [*Data*](https://en.wikipedia.org/wiki/Data) are individual facts, statistics, or items of information, and are often numeric in nature. \n",
    " \n",
    "For the types of data in statistics/data science, there are many names and lots of Confusion!\n",
    " \n",
    " \n",
    "In summary any data can be divided into two broder sets: qualitative and quantitative. \n",
    "\n",
    "\n",
    "### Qualitative data\n",
    "\n",
    "**Qualitative** data give us information about the qualities of things. They are generally observed phenomenon, not measured, and so we generally label them with names. \n",
    "\n",
    "Qualitative data are also known as **Categorical data**. It can be further broken to **Nominal and Ordinal**.\n",
    " \n",
    "Nominal data are mutually exclusive and do not have an order (i.e. they cannot be sorted). It involves predetermined categories and can only take one of the values at a time, e.g. Gender. Nominal literally means \"in name\"\n",
    "\n",
    "[Ordinal data](https://en.wikipedia.org/wiki/Ordinal_data) are ordered (i.e. they can be sorted). For example, the answers to a survey, such as the lecturer evaluation survey: \"The lecturer is doing a good job\", tick box answers: Agree Strongly, Somewhat Agree, ...\n",
    "\n",
    "### Quantitative data\n",
    "\n",
    "**Quantitative** data is information about quantities of things that we measure, so we describe them in terms of numbers. \n",
    "\n",
    "As such, quantitative data are also called **Numerical data**. \n",
    "\n",
    "It can be further broken to **discrete and continuous data** - we've been considering example of these above in terms of random variables.\n",
    " \n",
    "\n",
    "<br>\n",
    "\n",
    "\n",
    "In 1946, the American psychologist Stanley Smith Stevens published a famous paper in the journal Science titled 'On the theory of scales and measurement' <https://www.science.org/doi/10.1126/science.103.2684.677>\n",
    "\n",
    "In this paper he claimed that all measurement in science was conducted using four different types of scales. This paper essentially unified:\n",
    "\n",
    "- **Qualitative data (Nominal data and Ordinal data)**\n",
    "\n",
    "- **Quantitative data (Interval data and Ratio data)**"
   ]
  },
  {
   "cell_type": "markdown",
   "id": "fe9a3cd2",
   "metadata": {},
   "source": [
    "## Supervised learning (classification | regression)\n",
    "\n",
    "To perform supervised learning tasks, we need a way to estimate probability distribution functions for a random variable from a set of labelled data. \n",
    "\n",
    "\n",
    "- When the random variable is **discrete**, this is called a **classification** task\n",
    "\n",
    "\n",
    "- When the random variable is **continuous**, this is called a **regression** task. \n",
    "\n",
    "\n",
    "<br>\n",
    "\n",
    "\n",
    "**Linear Regression** represents the simplest machine learning algorithm for a regression task, but there are many more. \n",
    "\n",
    "We've already seen this in the previous lecture, and will revisit it again later in this lecture. "
   ]
  },
  {
   "cell_type": "markdown",
   "id": "8ed761f5",
   "metadata": {},
   "source": [
    "##### ML & probability\n",
    "\n",
    "We will see that supervised machine learning can be interpreted  as a conditional probability problem.\n",
    "\n",
    "\n",
    "Let us begin by looking at the way of building a probability distribution from data. "
   ]
  },
  {
   "cell_type": "markdown",
   "id": "674f8741",
   "metadata": {},
   "source": [
    "## Bayes' Theorem\n",
    "\n",
    "As a first step, let's introduce Bayes' theorem and see how it can be used to reverse conditional probability.\n",
    "\n",
    "[Recall that conditional probability asked what is the probability of event $y$ given that another event $x$ has occurred,  $P(Y=y \\, | \\, X=x)$].\n",
    "\n",
    "<br>\n",
    "\n",
    "Let's suppose that we have two random variables, $X$ and $Y$. We will show that we can use Bayes’ theorem to go from $P(Y=y | X=x)$ to the reverse probability $P(X=x \\, | \\, Y=y)$. [We'll drop the '$=x$' etc in what follows.]\n",
    "\n",
    "<br>\n",
    "\n",
    "To do this Bayes’ Theorem uses the product rule of probability, as we learned previously in this lecture, as follows.\n",
    "\n",
    "The product rule tells us that:\n",
    "\n",
    "$$\n",
    "P(X, Y) = P(Y \\, | \\, X) P(X) \\implies \n",
    "P(Y \\, | \\, X) = \\frac{P(X, Y)}{P(X)}\n",
    "\\qquad (2)\n",
    "$$\n",
    "\n",
    "Similarly\n",
    "\n",
    "$$\n",
    "P(Y ,X) = P(X \\, | \\, Y)P(Y)\n",
    "\\qquad (3)$$\n",
    "\n",
    "In addition, note that the probability of getting $X=x$ and $Y=y$ ($P(X ,Y)$) is equivalent to the probability of getting $Y=y$ and $X=x$ ($P(Y ,X)$):\n",
    "\n",
    "$$\n",
    "P(Y, X) = P(X, Y)\n",
    "$$\n",
    "\n",
    "<br>\n",
    "\n",
    "We can therefore replace the numerator in [Equation 2](#eq:prod_y_given_x) with  [Equation 3](#eq:joint_y_x) and arrive at Bayes’ Theorem:\n",
    "\n",
    "$$\n",
    "P(Y \\, | \\, X) = \\frac{P(X \\, | \\, Y) P(Y)}{P(X)}\n",
    "\\qquad (4)\n",
    "$$\n",
    "\n",
    "<br>\n",
    "\n",
    "Bayes’ theorem represents the means by which we can go from $P(y \\, | \\, X)$ to the reverse probability $P(X \\, | \\, Y)$.\n",
    "\n",
    "<br>\n",
    "\n",
    "Here, $P(y)$ is called the [**prior probability**](https://en.wikipedia.org/wiki/Prior_probability), and $P(Y \\, | \\, X)$ is called the [**posterior probability**](https://en.wikipedia.org/wiki/Posterior_probability).\n",
    "\n",
    "Use of the terms prior and posterior describes the fact that these are the probability of the event $Y$ before seeing the data ($P(Y=y)$) vs the probability of event $Y$ *in light of* the data at hand ($P(Y=y \\, | \\, X=x)$).\n",
    "\n",
    "<br>\n",
    "\n",
    "<br>\n",
    "\n",
    "In terms of classification\n",
    "\n",
    "\n",
    "- $P(Y)$ is the *prior probability* of the class $Y$. \n",
    "\n",
    "\n",
    "- $P(X)$ is the *prior probability* of the predictor $X$. \n",
    "\n",
    "\n",
    "- $P(X|Y)$ is the [*likelihood*](https://en.wikipedia.org/wiki/Likelihood_function), or the probability of the predictor given the class. We will discuss this more later. \n",
    "\n",
    "\n",
    "- $P(Y|X)$ is the *posterior probability* of the class $Y$, given the predictor $X$. This is the most interesting quantity here and the one we are most likely interested in calculating. "
   ]
  },
  {
   "cell_type": "markdown",
   "id": "da485e56",
   "metadata": {},
   "source": [
    "## Naive Bayes classifier\n",
    "\n",
    "*[Take a look at <https://machinelearningmastery.com/naive-bayes-classifier-scratch-python/> for an application of Naive Bayes to the Iris dataset, which we will also consider as an example from the perspective of performing classification.]*\n",
    "\n",
    "<br>\n",
    "\n",
    "In the context of the Iris dataset, the inputs (or vector $X$) to our classification problem are the four measurements in each row: sepal/petal, length and width - we use the term **predictors** or **features**.\n",
    "\n",
    "The output $Y$ of our classification problem is the **class** - here the species of the flower. \n",
    "\n",
    "[Recall: The identifiers (0, 1, or 2) encode to which Iris species (or **class**) each row belongs to, termed target in the dataset]\n",
    "\n",
    "<br>\n",
    "\n",
    "The classification task, then, is to assign probabilities to each class, given a set of inputs $X$, i.e. to calculate $P(Y|X)$.\n",
    "\n",
    "<br>\n",
    "\n",
    "Making use of Bayes' theorem, to calculate $P(Y|X)$, we need $P(X|Y)$, $P(Y)$, and $P(X)$:\n",
    "\n",
    "$$\n",
    "P(Y=y \\, | \\, X=x) = \\frac{P(X=x \\, | \\, Y=y) P(Y=y)}{P(X=x)}\n",
    "$$"
   ]
  },
  {
   "cell_type": "code",
   "execution_count": 47,
   "id": "b932cbc4",
   "metadata": {},
   "outputs": [
    {
     "data": {
      "text/html": [
       "<div>\n",
       "<style scoped>\n",
       "    .dataframe tbody tr th:only-of-type {\n",
       "        vertical-align: middle;\n",
       "    }\n",
       "\n",
       "    .dataframe tbody tr th {\n",
       "        vertical-align: top;\n",
       "    }\n",
       "\n",
       "    .dataframe thead th {\n",
       "        text-align: right;\n",
       "    }\n",
       "</style>\n",
       "<table border=\"1\" class=\"dataframe\">\n",
       "  <thead>\n",
       "    <tr style=\"text-align: right;\">\n",
       "      <th></th>\n",
       "      <th>sepal length (cm)</th>\n",
       "      <th>sepal width (cm)</th>\n",
       "      <th>petal length (cm)</th>\n",
       "      <th>petal width (cm)</th>\n",
       "      <th>target</th>\n",
       "    </tr>\n",
       "  </thead>\n",
       "  <tbody>\n",
       "    <tr>\n",
       "      <th>0</th>\n",
       "      <td>5.1</td>\n",
       "      <td>3.5</td>\n",
       "      <td>1.4</td>\n",
       "      <td>0.2</td>\n",
       "      <td>0.0</td>\n",
       "    </tr>\n",
       "    <tr>\n",
       "      <th>1</th>\n",
       "      <td>4.9</td>\n",
       "      <td>3.0</td>\n",
       "      <td>1.4</td>\n",
       "      <td>0.2</td>\n",
       "      <td>0.0</td>\n",
       "    </tr>\n",
       "    <tr>\n",
       "      <th>2</th>\n",
       "      <td>4.7</td>\n",
       "      <td>3.2</td>\n",
       "      <td>1.3</td>\n",
       "      <td>0.2</td>\n",
       "      <td>0.0</td>\n",
       "    </tr>\n",
       "    <tr>\n",
       "      <th>3</th>\n",
       "      <td>4.6</td>\n",
       "      <td>3.1</td>\n",
       "      <td>1.5</td>\n",
       "      <td>0.2</td>\n",
       "      <td>0.0</td>\n",
       "    </tr>\n",
       "    <tr>\n",
       "      <th>4</th>\n",
       "      <td>5.0</td>\n",
       "      <td>3.6</td>\n",
       "      <td>1.4</td>\n",
       "      <td>0.2</td>\n",
       "      <td>0.0</td>\n",
       "    </tr>\n",
       "  </tbody>\n",
       "</table>\n",
       "</div>"
      ],
      "text/plain": [
       "   sepal length (cm)  sepal width (cm)  petal length (cm)  petal width (cm)  \\\n",
       "0                5.1               3.5                1.4               0.2   \n",
       "1                4.9               3.0                1.4               0.2   \n",
       "2                4.7               3.2                1.3               0.2   \n",
       "3                4.6               3.1                1.5               0.2   \n",
       "4                5.0               3.6                1.4               0.2   \n",
       "\n",
       "   target  \n",
       "0     0.0  \n",
       "1     0.0  \n",
       "2     0.0  \n",
       "3     0.0  \n",
       "4     0.0  "
      ]
     },
     "execution_count": 47,
     "metadata": {},
     "output_type": "execute_result"
    }
   ],
   "source": [
    "# Recall our data:\n",
    "\n",
    "irisdf.head()"
   ]
  },
  {
   "cell_type": "markdown",
   "id": "fba266dd",
   "metadata": {},
   "source": [
    "$P(Y)$ is the prior probability of class $Y$ - i.e. the probability of the data belonging to a particular class before we've seen the data $X$.\n",
    "\n",
    "Since in this example our total dataset contains an equal number (50) of data points for each of the three classes, the prior probabilities of all three classes is $P(Y)=\\frac{1}{3}$. "
   ]
  },
  {
   "cell_type": "markdown",
   "id": "6f4873fa",
   "metadata": {},
   "source": [
    "$P(X)$ is the probability of observing the data value(s) $X$, **regardless of the class** (i.e. using the distribution for all data - all 150 pieces of data), \n",
    "\n",
    "while $P(X|Y)$ is the probability of observing the data value(s) $X$, **given that the class is** $Y$ (i.e. using the distribution for the data for a particular class - 50 pieces of data). \n",
    "\n",
    "\n",
    "<br>\n",
    "\n",
    "An important assumption we need to make at this point with this method is that for our four measured features in the Iris dataset:\n",
    "\n",
    "$$\n",
    "P(X=(x_1, x_2, x_3, x_4)) = P(X_1=x_1) \\cdot P(X_2=x_2) \\cdot P(X_3=x_3) \\cdot P(X_4=x_4),\n",
    "$$\n",
    "\n",
    "which results from the assumption that the four features of this dataset are [**independent**](https://en.wikipedia.org/wiki/Independence_(probability_theory)). \n",
    "\n",
    "This is of course not necessarily true in practice - the features are rarely truly independent. \n"
   ]
  },
  {
   "cell_type": "markdown",
   "id": "cfac245f",
   "metadata": {},
   "source": [
    "However, this assumption already lets us make powerful predictions by constructing what is called the [**Naive Bayes Classifier**](https://en.wikipedia.org/wiki/Naive_Bayes_classifier). \n",
    "\n",
    "The word *naive* in the name points at our clearly naive assumption of the independence of features. \n",
    "\n",
    "Let's ignore this limitation and build our naive Bayes classifier - our first classifier. \n",
    "\n",
    "<br>\n",
    "\n",
    "For further reading try <https://machinelearningmastery.com/better-naive-bayes/>\n",
    "\n",
    "<br>\n",
    "\n",
    "Note that we already learned how to calculate $P(X\\, | \\,Y)$ for this dataset, although we did not necessarily have the vocabulary to describe it then.\n",
    "\n",
    "[Recall we computed three probabilities, which for the first data point gave a probability of essentially zero due to multiplying together four small values.] \n",
    "\n",
    "This was what we implemented in the function `cls_probablility` above, and which we repeat below."
   ]
  },
  {
   "cell_type": "code",
   "execution_count": 48,
   "id": "5554d53d",
   "metadata": {},
   "outputs": [
    {
     "name": "stdout",
     "output_type": "stream",
     "text": [
      "[0.0007982648713139496, 3.7217595375229145e-21, 2.4644816812619693e-28]\n"
     ]
    }
   ],
   "source": [
    "# Calculate the means and standard deviations for our four features and three species\n",
    "means = irisdf.groupby('target').mean().to_numpy()\n",
    "stds = irisdf.groupby('target').std().to_numpy()\n",
    "\n",
    "# Define the normal distributions for each\n",
    "distributions = []\n",
    "for mvec, sdvec in zip(means, stds):\n",
    "    distributions.append([st.norm(m, sd) for m, sd in zip(mvec, sdvec)])\n",
    "\n",
    "# Since the smallest measurement in the dataset is 0.1 cm,\n",
    "# we use the range (x-eps) - (x+eps) (with eps=0.05) to calculate the probability.\n",
    "def calc_probability(x, distribution, eps=0.05):\n",
    "    # use the cdf = cumulative density function\n",
    "    return distribution.cdf(x+eps) - distribution.cdf(x-eps)\n",
    "\n",
    "def cls_probablility(data, cls, distributions):\n",
    "    # This is P(X|Y) in our example, i.e. the joint prob of X given the distribution\n",
    "    # corresponding to class Y.\n",
    "    # initialise p - as we're going to be multiplying probabilities, initialise it to 1\n",
    "    p = 1\n",
    "    # for every feature, calculate its probability and multiply the results together\n",
    "    for feat in range(4):\n",
    "        p *= calc_probability(data[feat], distributions[cls][feat])    \n",
    "    return p\n",
    "\n",
    "def calc_likelihood(data):\n",
    "    # calculates P(X|Y) for each class Y\n",
    "    # recall that we term this the likelihood\n",
    "    class_probs = []\n",
    "    for cls in range(3):\n",
    "        p = cls_probablility(data, cls, distributions)\n",
    "        class_probs.append(p)\n",
    "    return class_probs\n",
    "\n",
    "print(calc_likelihood([5.1, 3.5, 1.4, 0.2]))"
   ]
  },
  {
   "cell_type": "markdown",
   "id": "24755032",
   "metadata": {},
   "source": [
    "This gives us a list corresponding to $P(X|\\text{ species/class } 1), P(X|\\text{ species/class } 2), P(X|\\text{ species/class } 3)$, i.e. $P(X|Y)$.\n",
    "\n",
    "Now, we need to compute the prior probability of $X$, i.e. $P(X)$."
   ]
  },
  {
   "cell_type": "code",
   "execution_count": 49,
   "id": "24031c76",
   "metadata": {},
   "outputs": [
    {
     "name": "stdout",
     "output_type": "stream",
     "text": [
      "3.6134021278041095e-07\n"
     ]
    }
   ],
   "source": [
    "# Subscripting [0:4] to remove the last column which is the target variable\n",
    "# these are therefore the means and stds of the entire 150 rows of data, \n",
    "# i.e. all of our measurements, calc_prior_X is then the function that \n",
    "# computes the joint probability that our X data is from the 4 distributions\n",
    "# for the 4 features.\n",
    "means = irisdf.mean().to_numpy()[0:4]\n",
    "stds = irisdf.std().to_numpy()[0:4]\n",
    "\n",
    "# it doesn't matter that we've overwritten the means and stds\n",
    "# computed on a per species basis in the cell above, as we only\n",
    "# make use of the distributions we defined above.\n",
    "\n",
    "# Now compute the prior distributions using the means and stds we've\n",
    "# just computed for all 150 data points\n",
    "prior_dists = [st.norm(m, s) for m, s in zip(means, stds)]\n",
    "\n",
    "def calc_prior_X(data):\n",
    "    # This is P(X) in our example, i.e. the joint prob of X given the distribution\n",
    "    # corresponding to all of our data irrespective of class.\n",
    "    # initialise p - as we're going to be multiplying probabilities, initialise it to 1\n",
    "    p = 1\n",
    "    # for every feature, calculate its probability and multiply the results together\n",
    "    for feat in range(4):\n",
    "        p *= calc_probability(data[feat], prior_dists[feat])\n",
    "    return p\n",
    "\n",
    "print(calc_prior_X([5.1, 3.5, 1.4, 0.2]))"
   ]
  },
  {
   "cell_type": "markdown",
   "id": "962e753d",
   "metadata": {},
   "source": [
    "Finally, we are ready to write the complete naive Bayes' classifier using the above two calculations for $P(X)$ and $P(X\\, |\\, Y)$ along with the observation earlier that $P(Y)=1/3$ for all three classes."
   ]
  },
  {
   "cell_type": "code",
   "execution_count": 50,
   "id": "0954691f",
   "metadata": {},
   "outputs": [
    {
     "name": "stdout",
     "output_type": "stream",
     "text": [
      "[1.0, 4.662311560067615e-18, 3.0872981761121657e-25]\n",
      "[0.0, 0.9998100192569429, 0.00018998074305717985]\n",
      "[0.0, 0.0631116281389232, 0.9368883718610769]\n"
     ]
    }
   ],
   "source": [
    "def calc_naive_bayes(data):\n",
    "    # Calculate P(Y|X)=P(X|Y)*P(Y)/P(X) - returns the probabilities for each class Y\n",
    "    # given the data X.\n",
    "    \n",
    "    # recall likelihood is P(X|Y):\n",
    "    likelihood = calc_likelihood(data)\n",
    "    \n",
    "    # P(Y) - from the data, we know that all three classes are equally likely:\n",
    "    class_prior = [0.33, 0.33, 0.33]\n",
    "    \n",
    "    # P(X):\n",
    "    data_prior = calc_prior_X(data)\n",
    "    \n",
    "    # The following calculates P(Y|X)=P(X|Y)*P(Y)/P(X) for each class\n",
    "    class_densities = [(l*cp) / data_prior for l, cp in zip(likelihood, class_prior)]\n",
    "    \n",
    "    # And this normalises the results so that they sum to 1\n",
    "    class_probs = [cd / sum(class_densities) for cd in class_densities]\n",
    "    \n",
    "    return class_probs\n",
    "\n",
    "print(calc_naive_bayes([5.1, 3.5, 1.4, 0.2])) # We know that the target for this is 0\n",
    "print(calc_naive_bayes([5.7, 2.8, 4.1, 1.3])) # We know that the target for this is 1\n",
    "print(calc_naive_bayes([5.9, 3.0, 5.1, 1.8])) # We know that the target for this is 2"
   ]
  },
  {
   "cell_type": "markdown",
   "id": "66586161",
   "metadata": {},
   "source": [
    "So it's extremely confident that the first data values [5.1, 3.5, 1.4, 0.2] is in class 0, a little less confident that the second data value [5.7, 2.8, 4.1, 1.3] is in class 1, and even less that the third is in class 2."
   ]
  },
  {
   "cell_type": "markdown",
   "id": "df0ecd3e",
   "metadata": {},
   "source": [
    "### Accuracy of our classifier\n",
    "\n",
    "So we have a first functional classifier that gives us the probability of each line of data being in each class $Y$. \n",
    "\n",
    "It seemed to work well for the three examples we tried above (one for each class), but let's calculate an overall accuracy of this classifier but testing it on all of our labelled data.\n",
    "\n",
    "<br>\n",
    "\n",
    "We define accuracy as:\n",
    "\n",
    "$$\n",
    "\\text{accuracy} = \\frac{\\text{number of correct predictions}}{\\text{total number of predictions}}\n",
    "$$"
   ]
  },
  {
   "cell_type": "code",
   "execution_count": 51,
   "id": "2f1d2630",
   "metadata": {},
   "outputs": [
    {
     "name": "stdout",
     "output_type": "stream",
     "text": [
      "Accuracy = 0.96\n"
     ]
    }
   ],
   "source": [
    "# Now we will be using our trained model to do inference \n",
    "# pull out which entry has the highest probability\n",
    "predictions = [np.argmax(calc_naive_bayes(X)) for X in iris['data']]\n",
    "\n",
    "# assign a 1 if our predicted class matches the states class from the dataset\n",
    "correct_predictions = [1 if prediction==target else 0 for prediction, target in zip(predictions, iris['target'])]\n",
    "\n",
    "# what proportion did we get right?\n",
    "accuracy = float(sum(correct_predictions)/len(correct_predictions))\n",
    "\n",
    "print(f'Accuracy = {accuracy}')"
   ]
  },
  {
   "cell_type": "markdown",
   "id": "b2ae59f3",
   "metadata": {},
   "source": [
    "So our seemingly *naive* Bayes classifier has 96% accuracy on this dataset! \n",
    "\n",
    "That's 144 correct our of 150.\n",
    "\n",
    "Note that given the three classes our baseline for accuracy is 33% (as in in a multiple choice exam where each question has three answers, you would expect to get 33% just by randomly guessing, or by always giving the same answer).\n",
    "\n",
    "<br>\n",
    "\n",
    "<br>\n",
    "\n",
    "However, there is something *VERY WRONG* about using the same data for both model training and for testing/inference... \n",
    "\n",
    "\n",
    "We are using the same data to train the model and then test it - this is like giving a student the model answers during an exam. The correct way would be to split our data into training and testing sets, where we use the training dataset to train our model, and then the test dataset to evaluate its performance. \n",
    "\n",
    "See homework."
   ]
  },
  {
   "cell_type": "markdown",
   "id": "c3bfb0b6",
   "metadata": {},
   "source": [
    "## Other classification and regression models\n",
    "\n",
    "In the next module (**Data Science & Machine Learning**) you will pick up the story on other classification and regression methods, such as:\n",
    "\n",
    "\n",
    "- [Support vector machine](https://en.wikipedia.org/wiki/Support_vector_machine); for an example application to the Iris data set: <https://scikit-learn.org/stable/auto_examples/svm/plot_iris_svc.html>\n",
    "\n",
    "\n",
    "\n",
    "- [k-nearest neighbour](https://en.wikipedia.org/wiki/K-nearest_neighbors_algorithm); for an example application to the Iris data set see: <https://medium.com/@avulurivenkatasaireddy/k-nearest-neighbors-and-implementation-on-iris-data-set-f5817dd33711>\n",
    "\n",
    "\n",
    "\n",
    "- [Decision trees](https://en.wikipedia.org/wiki/Decision_tree_learning); for an example application to the Iris data set see: <https://scikit-learn.org/stable/modules/tree.html>\n",
    "\n",
    "\n",
    "<br>\n",
    "\n",
    "And in the module after that (**Deep Learning**) you will pick up the story of (deep) neural networks, e.g. for the Iris data set see: <https://www.kaggle.com/code/louisong97/neural-network-approach-to-iris-dataset/notebook>"
   ]
  },
  {
   "cell_type": "markdown",
   "id": "34fc4099",
   "metadata": {},
   "source": [
    "# Summary\n",
    "\n",
    "So what have we covered today?\n",
    "\n",
    "<br>\n",
    "\n",
    "1. A review of some introductory statistics.\n",
    "\n",
    "<br>\n",
    "\n",
    "2. A review of some probability concepts and theory.\n",
    "\n",
    "<br>\n",
    "\n",
    "3. In particular, conditional probabilities and Bayes theorem.\n",
    "\n",
    "<br>\n",
    "\n",
    "4. The use of probabilistic methods as a basis for some simple ML algorithms - including some examples of classification and regression.\n",
    "\n",
    "\n",
    "<br>\n",
    "\n",
    "Note that the final homework exercise (starred content) involves PCA applied to the Iris data set. Recall that we mentioned in L3 that PCA is important in data science & ML, and that it's closely related to the SVD.  The homework exercise points you to some further reading, but also walks you through performing PCA from \"first principles\", i.e. by starting from an SVD, and compares our result against what you can get in a few lines with scikit-learn."
   ]
  },
  {
   "cell_type": "code",
   "execution_count": null,
   "id": "346db033",
   "metadata": {},
   "outputs": [],
   "source": []
  }
 ],
 "metadata": {
  "celltoolbar": "Slideshow",
  "kernelspec": {
   "display_name": "Python 3",
   "language": "python",
   "name": "python3"
  },
  "language_info": {
   "codemirror_mode": {
    "name": "ipython",
    "version": 3
   },
   "file_extension": ".py",
   "mimetype": "text/x-python",
   "name": "python",
   "nbconvert_exporter": "python",
   "pygments_lexer": "ipython3",
   "version": "3.7.13"
  },
  "toc": {
   "base_numbering": 1,
   "nav_menu": {},
   "number_sections": true,
   "sideBar": true,
   "skip_h1_title": false,
   "title_cell": "Table of Contents",
   "title_sidebar": "Contents",
   "toc_cell": true,
   "toc_position": {
    "height": "calc(100% - 180px)",
    "left": "10px",
    "top": "150px",
    "width": "421.533px"
   },
   "toc_section_display": true,
   "toc_window_display": true
  },
  "varInspector": {
   "cols": {
    "lenName": 16,
    "lenType": 16,
    "lenVar": 40
   },
   "kernels_config": {
    "python": {
     "delete_cmd_postfix": "",
     "delete_cmd_prefix": "del ",
     "library": "var_list.py",
     "varRefreshCmd": "print(var_dic_list())"
    },
    "r": {
     "delete_cmd_postfix": ") ",
     "delete_cmd_prefix": "rm(",
     "library": "var_list.r",
     "varRefreshCmd": "cat(var_dic_list()) "
    }
   },
   "types_to_exclude": [
    "module",
    "function",
    "builtin_function_or_method",
    "instance",
    "_Feature"
   ],
   "window_display": false
  }
 },
 "nbformat": 4,
 "nbformat_minor": 5
}
