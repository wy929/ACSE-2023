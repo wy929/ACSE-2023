{
 "cells": [
  {
   "cell_type": "markdown",
   "metadata": {
    "slideshow": {
     "slide_type": "slide"
    }
   },
   "source": [
    "# Computational Mathematics  <a class=\"tocSkip\">\n",
    "\n",
    "## Introduction to Modelling with Mathematical/Computational Techniques <a class=\"tocSkip\">\n",
    "    \n",
    "### Homework Exercises <a class=\"tocSkip\">"
   ]
  },
  {
   "cell_type": "markdown",
   "metadata": {
    "toc": true
   },
   "source": [
    "<h1>Table of Contents<span class=\"tocSkip\"></span></h1>\n",
    "<div class=\"toc\"><ul class=\"toc-item\"><li><span><a href=\"#Homework\" data-toc-modified-id=\"Homework-1\"><span class=\"toc-item-num\">1&nbsp;&nbsp;</span>Homework</a></span><ul class=\"toc-item\"><li><span><a href=\"#Homework---Analysing-the-classical-form-of-the-logistic-map\" data-toc-modified-id=\"Homework---Analysing-the-classical-form-of-the-logistic-map-1.1\"><span class=\"toc-item-num\">1.1&nbsp;&nbsp;</span>Homework - Analysing the classical form of the logistic map</a></span></li><li><span><a href=\"#Homework---Perturbations-in-the-logistic-map\" data-toc-modified-id=\"Homework---Perturbations-in-the-logistic-map-1.2\"><span class=\"toc-item-num\">1.2&nbsp;&nbsp;</span>Homework - Perturbations in the logistic map</a></span></li><li><span><a href=\"#Homework---Taylor-series\" data-toc-modified-id=\"Homework---Taylor-series-1.3\"><span class=\"toc-item-num\">1.3&nbsp;&nbsp;</span>Homework - Taylor series</a></span></li><li><span><a href=\"#Homework---Taylor-series-(convergence)\" data-toc-modified-id=\"Homework---Taylor-series-(convergence)-1.4\"><span class=\"toc-item-num\">1.4&nbsp;&nbsp;</span>Homework - Taylor series (convergence)</a></span></li><li><span><a href=\"#Homework---Taylor-series-(a-different-function-to-class)-[*]\" data-toc-modified-id=\"Homework---Taylor-series-(a-different-function-to-class)-[*]-1.5\"><span class=\"toc-item-num\">1.5&nbsp;&nbsp;</span>Homework - Taylor series (a different function to class) [*]</a></span></li><li><span><a href=\"#Homework---Big-O-notation-and-large/small-limits-[*]\" data-toc-modified-id=\"Homework---Big-O-notation-and-large/small-limits-[*]-1.6\"><span class=\"toc-item-num\">1.6&nbsp;&nbsp;</span>Homework - Big O notation and large/small limits [*]</a></span></li><li><span><a href=\"#Homework----Big-O-notation-and-an-error-example-with-very-different-coefficients-[*]\" data-toc-modified-id=\"Homework----Big-O-notation-and-an-error-example-with-very-different-coefficients-[*]-1.7\"><span class=\"toc-item-num\">1.7&nbsp;&nbsp;</span>Homework -  Big O notation and an error example with very different coefficients [*]</a></span></li><li><span><a href=\"#Homework---Ricker-model-[*]\" data-toc-modified-id=\"Homework---Ricker-model-[*]-1.8\"><span class=\"toc-item-num\">1.8&nbsp;&nbsp;</span>Homework - Ricker model [*]</a></span></li><li><span><a href=\"#Homework---Fibonacci-numbers-[*]\" data-toc-modified-id=\"Homework---Fibonacci-numbers-[*]-1.9\"><span class=\"toc-item-num\">1.9&nbsp;&nbsp;</span>Homework - Fibonacci numbers [*]</a></span></li><li><span><a href=\"#Finding-an-analytical-solution-to-the-continuous-logistic-ODE-[*]\" data-toc-modified-id=\"Finding-an-analytical-solution-to-the-continuous-logistic-ODE-[*]-1.10\"><span class=\"toc-item-num\">1.10&nbsp;&nbsp;</span>Finding an analytical solution to the continuous logistic ODE [*]</a></span></li></ul></li></ul></div>"
   ]
  },
  {
   "cell_type": "code",
   "execution_count": 1,
   "metadata": {},
   "outputs": [],
   "source": [
    "%matplotlib inline\n",
    "import numpy as np\n",
    "import matplotlib.pyplot as plt\n",
    "# the following allows us to plot triangles indicating convergence order\n",
    "from mpltools import annotation"
   ]
  },
  {
   "cell_type": "code",
   "execution_count": 2,
   "metadata": {},
   "outputs": [
    {
     "data": {
      "text/html": [
       "<style>\n",
       "div.optional {\n",
       "    display: block;\n",
       "    background-color: #d7e2ff;\n",
       "    border-color: #d7e2ff;\n",
       "    border-left: 5px solid #d7e2ff;\n",
       "    padding: 0.5em;\n",
       "}\n",
       "div.advanced {\n",
       "    display: block;\n",
       "    background-color: #fff4d7;\n",
       "    border-color: #fff4d7;\n",
       "    border-left: 5px solid #fff4d7;\n",
       "    padding: 0.5em;\n",
       "}\n",
       "</style>\n"
      ],
      "text/plain": [
       "<IPython.core.display.HTML object>"
      ]
     },
     "metadata": {},
     "output_type": "display_data"
    }
   ],
   "source": [
    "%%html\n",
    "<style>\n",
    "div.optional {\n",
    "    display: block;\n",
    "    background-color: #d7e2ff;\n",
    "    border-color: #d7e2ff;\n",
    "    border-left: 5px solid #d7e2ff;\n",
    "    padding: 0.5em;\n",
    "}\n",
    "div.advanced {\n",
    "    display: block;\n",
    "    background-color: #fff4d7;\n",
    "    border-color: #fff4d7;\n",
    "    border-left: 5px solid #fff4d7;\n",
    "    padding: 0.5em;\n",
    "}\n",
    "</style>"
   ]
  },
  {
   "cell_type": "markdown",
   "metadata": {},
   "source": [
    "# Homework"
   ]
  },
  {
   "cell_type": "markdown",
   "metadata": {},
   "source": [
    "## Homework - Analysing the classical form of the logistic map\n",
    "\n",
    "Recreate the analysis of the logistic map conducted in class for the initial form of the map, i.e. with the following code for RHS function.\n",
    "\n",
    "Specifically plot the RHS; compute analytically and plot the fixed points; investigate the sensitivity of the results to different $x_0$ and $r$ values; and plot the bifurcation diagam."
   ]
  },
  {
   "cell_type": "code",
   "execution_count": 3,
   "metadata": {},
   "outputs": [],
   "source": [
    "def logistic_map(r, x):\n",
    "    \"\"\"A function giving the RHS of the discrete logistic map\n",
    "\n",
    "    Parameters\n",
    "    ----------\n",
    "    r : float\n",
    "        Growth rate parameter\n",
    "    x : float\n",
    "        Current population $x_n$, value from 0 to 1\n",
    "\n",
    "    Returns\n",
    "    -------\n",
    "    float\n",
    "        The updated population $x_{n+1} = r x_n (1-x_n)$\n",
    "    \"\"\"\n",
    "    return r*x*(1-x)"
   ]
  },
  {
   "cell_type": "markdown",
   "metadata": {},
   "source": [
    "## Homework - Perturbations in the logistic map\n",
    "\n",
    "As mentioned in the lecture, compute and plot how the value of an initial perturbation in starting location varies with iteration number.\n",
    "\n",
    "For example, you could write a function that takes two starting values (one the perturbation of the other) and plot how the difference between the two changes with iteration number.\n",
    "\n",
    "Investigate how this changes with different starting points, perturbation size and choice of $r$."
   ]
  },
  {
   "cell_type": "markdown",
   "metadata": {},
   "source": [
    "## Homework - Taylor series\n",
    "\n",
    "We saw an [animated gif from Wikipedia](https://en.wikipedia.org/wiki/Taylor_series#/media/File:Exp_series.gif) at the start of the lecture for how the Taylor series approximation to the exponential function, around the point $x=0$, more closely resembles the exponential function over the domain $[-3,3]$ as more terms are included in the expansion:\n",
    "\n",
    "<img src=\"https://upload.wikimedia.org/wikipedia/commons/6/62/Exp_series.gif\" width=200x>\n",
    "\n",
    "\n",
    "Write a script which computes and plots this approximation for increasing numbers of terms in the expansion (essentially recreating the individual frames that make up that animation).\n",
    "\n",
    "In addition, plot the convergence of the RMS (\"root mean square\") error (you may need to look up what this is defined to be - we will go over in detail in L4) computed using 1000 points over the interval $[-3,3]$ against the number of terms included in the expansion on the x-axis.\n",
    "\n",
    "Hint: since the derivative of $\\exp(x)$ is also $\\exp(x)$, you can re-use a single function for all the derivatives you require in the Taylor series expansion.  You won't be able to do this for other functions of course!"
   ]
  },
  {
   "cell_type": "markdown",
   "metadata": {},
   "source": [
    "## Homework - Taylor series (convergence)\n",
    "\n",
    "Extending the example from the previous question.\n",
    "\n",
    "Fix the number of terms in your Taylor series, i.e. truncate the series at the same term, and investigate how the error in your approximation decreases as you reduce how far you evaluate the approximation away from the expansion location.\n",
    "\n",
    "That is, plot\n",
    "\n",
    "$$| f(x_0 + h) - T(x_0 + h) |$$\n",
    "\n",
    "i.e. the error at a single location, as a function of $h$, where $f$ is the true function (exp) and $T$ is your truncated Taylor series approximation.\n",
    "\n",
    "Plot using a log-log plot - what slope line do you expect?"
   ]
  },
  {
   "cell_type": "markdown",
   "metadata": {},
   "source": [
    "<div class=\"optional\">\n",
    "\n",
    "## Homework - Taylor series (a different function to class) [*]\n",
    "\n",
    "Repeat the previous exercise, but now consider the function $f(x) = \\sin(x)$ for $x\\in[-\\pi/2,\\pi/2]$ and an expansion point of $x_0 = 0$.\n",
    "\n",
    "The big difference here is that you can't use the same $\\exp$ function to represent $f$ and all its derivatives.\n",
    "\n",
    "But the derivatives of trig functions are almost as easy.\n",
    "\n",
    "</div>"
   ]
  },
  {
   "cell_type": "markdown",
   "metadata": {},
   "source": [
    "<div class=\"optional\">\n",
    "\n",
    "## Homework - Big O notation and large/small limits [*]\n",
    "\n",
    "Consider the example from class\n",
    "\n",
    "$$g(y) = 3y^2 - y^3 + 9y^4$$\n",
    "\n",
    "Use plots to convince yourself that\n",
    "\n",
    "$$g(y) = \\mathcal{O}(y^2) \\quad\\text{as}\\quad y\\rightarrow 0$$\n",
    "\n",
    "and\n",
    "\n",
    "$$g(y) = \\mathcal{O}(y^4) \\quad\\text{as}\\quad y\\rightarrow \\infty$$\n",
    "\n",
    "i.e. plot the function $g(y)$, as well as functions $Cy^2$ and $Cy^4$ to convince yourself that, respectively, as long as you look at small or large enough values of $y$ these do indeed bound $g$. \n",
    "\n",
    "</div>"
   ]
  },
  {
   "cell_type": "markdown",
   "metadata": {},
   "source": [
    "<div class=\"optional\">\n",
    "\n",
    "## Homework -  Big O notation and an error example with very different coefficients [\\*]\n",
    "\n",
    "Consider the example from class\n",
    "\n",
    "$$\\text{error} \\approx 10^{-5}\\Delta t +  10^{5}\\Delta t^2$$\n",
    "\n",
    "and convince yourself that for larger $\\Delta t$ values the error drops quadratically (second-order), while at a point the decay drops to linear (first-order).\n",
    "\n",
    "</div>"
   ]
  },
  {
   "cell_type": "markdown",
   "metadata": {},
   "source": [
    "<div class=\"optional\">\n",
    "\n",
    "## Homework - Ricker model [*]\n",
    "\n",
    "Repeat our qualitative analysis of the discrete logistic map for the [Ricker map](https://en.wikipedia.org/wiki/Ricker_model), another classic model for population growth given by:\n",
    " \n",
    "$$x_{n+1} = \\exp(r(1-x_n))x_n$$\n",
    "\n",
    "i.e. implement and plot its behaviour for different initial conditions and different $r$ parameters, and the bifurcation diagram.\n",
    "\n",
    "</div>"
   ]
  },
  {
   "cell_type": "markdown",
   "metadata": {},
   "source": [
    "<div class=\"optional\">\n",
    "\n",
    "## Homework - Fibonacci numbers [*]\n",
    "\n",
    "Consider the Fibonacci nunmbers:\n",
    "\n",
    "$$ 0 \\;  1 \\; 1 \\; 2 \\; 3 \\; 5 \\; 8 \\; 13 \\; 21 \\; \\ldots$$\n",
    "\n",
    "Let's label them $F_i$, $i=0,1,\\ldots$.  \n",
    "\n",
    "Then initialising with $F_0=0$, $F_1=1$ allows us to define all of the Fibonacci numbers via the recurrence relation\n",
    "\n",
    "$$F_{i+1} = F_i+F_{i-1}$$\n",
    "\n",
    "write a function to compute any Fibonacci number.\n",
    "\n",
    "After checking the result yourself for the first 20 or so numbers, \n",
    "\n",
    "and supposing that Google can be trusted, search for the 1000th Fibonacci number online and check your solver against this value\n",
    "\n",
    "e.g. this resource seems correct: <http://www.fullbooks.com/The-first-1001-Fibonacci-Numbers.html>\n",
    "\n",
    "<br>\n",
    "    \n",
    "If your first few numbers are correct, but you can't get the 1000th, don't worry we will look at the reasons this might happen in a later lecture and some fixes.\n",
    "\n",
    "</div>"
   ]
  },
  {
   "cell_type": "markdown",
   "metadata": {},
   "source": [
    "<div class=\"optional\">\n",
    "    \n",
    "## Finding an analytical solution to the continuous logistic ODE [*]\n",
    "    \n",
    "Derive or verify that a solution to the logistic ODE \n",
    "    \n",
    "\\begin{align*}\n",
    "\\frac{dx}{dt} = \\alpha x(1-x)\n",
    "\\end{align*}\n",
    "    \n",
    "is given by\n",
    "    \n",
    "$$x(t) = \\frac{x_0}{x_0 + (1-x_0)e^{-\\alpha t}}$$\n",
    "    \n",
    "where $x_0 = x(t=0)$.\n",
    "   \n",
    "[Hint: to derive a solution you can try to use the *separation of variables* method.  \n",
    "    Verify just means take the solution I give you and through substitution check that it does indeed satisfy the ODE.]\n",
    "    \n",
    "</div>"
   ]
  }
 ],
 "metadata": {
  "celltoolbar": "Slideshow",
  "kernelspec": {
   "display_name": "Python 3",
   "language": "python",
   "name": "python3"
  },
  "language_info": {
   "codemirror_mode": {
    "name": "ipython",
    "version": 3
   },
   "file_extension": ".py",
   "mimetype": "text/x-python",
   "name": "python",
   "nbconvert_exporter": "python",
   "pygments_lexer": "ipython3",
   "version": "3.7.13"
  },
  "latex_envs": {
   "LaTeX_envs_menu_present": true,
   "autoclose": true,
   "autocomplete": true,
   "bibliofile": "biblio.bib",
   "cite_by": "apalike",
   "current_citInitial": 1,
   "eqLabelWithNumbers": true,
   "eqNumInitial": 1,
   "hotkeys": {
    "equation": "Ctrl-E",
    "itemize": "Ctrl-I"
   },
   "labels_anchors": false,
   "latex_user_defs": false,
   "report_style_numbering": false,
   "user_envs_cfg": true
  },
  "toc": {
   "base_numbering": 1,
   "nav_menu": {},
   "number_sections": true,
   "sideBar": true,
   "skip_h1_title": false,
   "title_cell": "Table of Contents",
   "title_sidebar": "Contents",
   "toc_cell": true,
   "toc_position": {
    "height": "calc(100% - 180px)",
    "left": "10px",
    "top": "150px",
    "width": "393.451px"
   },
   "toc_section_display": true,
   "toc_window_display": true
  },
  "varInspector": {
   "cols": {
    "lenName": 16,
    "lenType": 16,
    "lenVar": 40
   },
   "kernels_config": {
    "python": {
     "delete_cmd_postfix": "",
     "delete_cmd_prefix": "del ",
     "library": "var_list.py",
     "varRefreshCmd": "print(var_dic_list())"
    },
    "r": {
     "delete_cmd_postfix": ") ",
     "delete_cmd_prefix": "rm(",
     "library": "var_list.r",
     "varRefreshCmd": "cat(var_dic_list()) "
    }
   },
   "types_to_exclude": [
    "module",
    "function",
    "builtin_function_or_method",
    "instance",
    "_Feature"
   ],
   "window_display": false
  }
 },
 "nbformat": 4,
 "nbformat_minor": 1
}
