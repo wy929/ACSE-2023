{
 "cells": [
  {
   "cell_type": "code",
   "execution_count": null,
   "metadata": {},
   "outputs": [],
   "source": [
    "%%html\n",
    "<style>\n",
    "div.optional {\n",
    "    display: block;\n",
    "    background-color: #d7e2ff;\n",
    "    border-color: #d7e2ff;\n",
    "    border-left: 5px solid #d7e2ff;\n",
    "    padding: 0.5em;\n",
    "}\n",
    "div.advanced {\n",
    "    display: block;\n",
    "    background-color: #fff4d7;\n",
    "    border-color: #fff4d7;\n",
    "    border-left: 5px solid #fff4d7;\n",
    "    padding: 0.5em;\n",
    "}\n",
    "</style>"
   ]
  },
  {
   "cell_type": "markdown",
   "metadata": {
    "slideshow": {
     "slide_type": "-"
    }
   },
   "source": [
    "# Computational Mathematics  <a class=\"tocSkip\">\n",
    "\n",
    "## ODE solvers (or time-stepping methods - numerical solution of IVPs) <a class=\"tocSkip\">\n",
    "    \n",
    "### Homework Exercises <a class=\"tocSkip\">"
   ]
  },
  {
   "cell_type": "markdown",
   "metadata": {
    "toc": true
   },
   "source": [
    "<h1>Table of Contents<span class=\"tocSkip\"></span></h1>\n",
    "<div class=\"toc\"><ul class=\"toc-item\"><li><span><a href=\"#Homework\" data-toc-modified-id=\"Homework-1\"><span class=\"toc-item-num\">1&nbsp;&nbsp;</span>Homework</a></span><ul class=\"toc-item\"><li><span><a href=\"#Homework---Implement-improved-Euler-and-compare-with-forward-Euler\" data-toc-modified-id=\"Homework---Implement-improved-Euler-and-compare-with-forward-Euler-1.1\"><span class=\"toc-item-num\">1.1&nbsp;&nbsp;</span>Homework - Implement improved Euler and compare with forward Euler</a></span></li><li><span><a href=\"#Homework---Lorenz-system\" data-toc-modified-id=\"Homework---Lorenz-system-1.2\"><span class=\"toc-item-num\">1.2&nbsp;&nbsp;</span>Homework - Lorenz system</a></span></li><li><span><a href=\"#Homework---Implementing-Runge-Kutta-4-stage-method-(RK4)\" data-toc-modified-id=\"Homework---Implementing-Runge-Kutta-4-stage-method-(RK4)-1.3\"><span class=\"toc-item-num\">1.3&nbsp;&nbsp;</span>Homework - Implementing Runge-Kutta 4 stage method (RK4)</a></span></li></ul></li></ul></div>"
   ]
  },
  {
   "cell_type": "code",
   "execution_count": null,
   "metadata": {
    "scrolled": false
   },
   "outputs": [],
   "source": [
    "%matplotlib inline\n",
    "import numpy as np\n",
    "import matplotlib.pyplot as plt\n",
    "# the following allows us to plot triangles indicating convergence order\n",
    "from mpltools import annotation\n",
    "\n",
    "from matplotlib import rcParams\n",
    "# font sizes for plots\n",
    "plt.rcParams['font.size'] = 12\n",
    "plt.rcParams['font.family'] = 'sans-serif'\n",
    "plt.rcParams['font.sans-serif'] = ['Arial', 'Dejavu Sans']"
   ]
  },
  {
   "cell_type": "markdown",
   "metadata": {},
   "source": [
    "# Homework"
   ]
  },
  {
   "cell_type": "markdown",
   "metadata": {},
   "source": [
    "## Homework - Implement improved Euler and compare with forward Euler\n",
    "\n",
    "Consider the simple scalar equation\n",
    "\n",
    "$$y'(t)=y,\\;\\;\\; y(0)=1\\,.$$\n",
    "\n",
    "Implement the forward Euler and improved Euler schemes and use them to approximate solutions of this equation for different values of $\\Delta t$. Plot the solutions over the time interval $[0, 2\\pi]$.\n",
    "\n",
    "Write a function `approx_error(f, y0, t0, t, h)` that returns the approximation error at a given time $t$ for both methods.\n",
    "\n",
    "Using a while loop, compute the error at $t=3$ for $\\Delta t$ from $1$ to $10^{-5}$, and plot it against $\\Delta t$ in logarithmic scale.\n",
    "\n",
    "Use `numpy.polyfit` to compute a line of best fit to the logs of the data and hence conclude the order of accuracy of both methods.\n",
    "\n",
    "You should observe that improved Euler is much better than forward Euler - plot the error as a function of time (suggest you use a semilogy in matplotlib to get a log axis on the $y$ axis, but plot the $x$ (time) axis normally. \n",
    "\n",
    "See if you can get [`scipy.integrate.odeint`](https://docs.scipy.org/doc/scipy/reference/generated/scipy.integrate.odeint.html) working for this problem and see how its errors compare as a function of time - hint: take note of the order that odeint assumes the function $f$ takes the arguments $t$ and $y$, you can pass the argument `tfirst=True` to tell it to assume an order consistent with what convention we assume."
   ]
  },
  {
   "cell_type": "markdown",
   "metadata": {},
   "source": [
    "## Homework - Lorenz system\n",
    "\n",
    "Recall the image at the beginning of the lecture.\n",
    "\n",
    "The [Lorenz System](https://en.wikipedia.org/wiki/Lorenz_system \"Lorenz system\") comprises three coupled ODEs:\n",
    "\n",
    "\\begin{align*}\n",
    "\\frac{dx}{dt} &= \\sigma (y - x), \\\\[5pt]\n",
    "\\frac{dy}{dt} &= x(\\rho - z) - y, \\\\[5pt]\n",
    "\\frac{dz}{dt} &= x  y - \\beta  z,\n",
    "\\end{align*}\n",
    "\n",
    "where typical values of the parameters (for a chaotic solution) are $\\rho = 28, \\, \\sigma = 10, \\, \\beta = 8/3$.\n",
    "\n",
    "Use forward Euler and improved Euler solvers to plot a solution trajectory - do you see qualitative differences between your trajectories with the two solvers.\n",
    "\n",
    "To check your answer (after you have attempted it please!), see [https://matplotlib.org/examples/mplot3d/lorenz_attractor.html](https://matplotlib.org/examples/mplot3d/lorenz_attractor.html).\n",
    "\n",
    "See also [https://en.wikipedia.org/wiki/Lorenz_system#Python_simulation](https://en.wikipedia.org/wiki/Lorenz_system#Python_simulation) for a solution that uses scipy's odeint function. \n",
    "\n",
    "\n",
    "Now use your forward Euler and improved Euler solvers to compute and plot the growth in 'error' as a function of time, where here we are defining 'error' to be the difference compared to a solution obtained with `odeint`. \n",
    "\n"
   ]
  },
  {
   "cell_type": "markdown",
   "metadata": {},
   "source": [
    "## Homework - Implementing Runge-Kutta 4 stage method (RK4)\n",
    "\n",
    "Write a general Python function that implements the classical RK4 method for a given RHS function, and apply it to the problem we used previously to compare the errors between forward Euler and improved Euler (recalling that we can interpret IE as a predictor-corrector LMS pair, or as a Runge-Kutta method RK2($\\alpha=1$)):\n",
    "\n",
    "$$y'(t)=y,\\;\\;\\; y(0)=1,$$\n",
    "\n",
    "and where we evaluate the error at the time $t = 2\\pi$."
   ]
  },
  {
   "cell_type": "code",
   "execution_count": null,
   "metadata": {},
   "outputs": [],
   "source": []
  }
 ],
 "metadata": {
  "celltoolbar": "Slideshow",
  "kernelspec": {
   "display_name": "Python 3",
   "language": "python",
   "name": "python3"
  },
  "language_info": {
   "codemirror_mode": {
    "name": "ipython",
    "version": 3
   },
   "file_extension": ".py",
   "mimetype": "text/x-python",
   "name": "python",
   "nbconvert_exporter": "python",
   "pygments_lexer": "ipython3",
   "version": "3.7.13"
  },
  "latex_envs": {
   "LaTeX_envs_menu_present": true,
   "autoclose": true,
   "autocomplete": true,
   "bibliofile": "biblio.bib",
   "cite_by": "apalike",
   "current_citInitial": 1,
   "eqLabelWithNumbers": true,
   "eqNumInitial": 1,
   "hotkeys": {
    "equation": "Ctrl-E",
    "itemize": "Ctrl-I"
   },
   "labels_anchors": false,
   "latex_user_defs": false,
   "report_style_numbering": false,
   "user_envs_cfg": true
  },
  "toc": {
   "base_numbering": 1,
   "nav_menu": {},
   "number_sections": true,
   "sideBar": true,
   "skip_h1_title": false,
   "title_cell": "Table of Contents",
   "title_sidebar": "Contents",
   "toc_cell": true,
   "toc_position": {
    "height": "calc(100% - 180px)",
    "left": "10px",
    "top": "150px",
    "width": "552.583px"
   },
   "toc_section_display": true,
   "toc_window_display": true
  }
 },
 "nbformat": 4,
 "nbformat_minor": 1
}
